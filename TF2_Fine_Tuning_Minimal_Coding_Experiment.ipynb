{
  "nbformat": 4,
  "nbformat_minor": 0,
  "metadata": {
    "kernelspec": {
      "display_name": "Python [conda env:python]",
      "language": "python",
      "name": "conda-env-python-py"
    },
    "language_info": {
      "codemirror_mode": {
        "name": "ipython",
        "version": 3
      },
      "file_extension": ".py",
      "mimetype": "text/x-python",
      "name": "python",
      "nbconvert_exporter": "python",
      "pygments_lexer": "ipython3",
      "version": "3.5.2"
    },
    "colab": {
      "name": "TF2 Fine Tuning Minimal Coding Experiment.ipynb",
      "provenance": [],
      "collapsed_sections": []
    }
  },
  "cells": [
    {
      "cell_type": "code",
      "metadata": {
        "id": "vvn5HLmxrRje",
        "colab_type": "code",
        "outputId": "e2d622e0-f147-466d-964a-27fbad14761e",
        "colab": {
          "base_uri": "https://localhost:8080/",
          "height": 51
        }
      },
      "source": [
        "%tensorflow_version 2.x\n",
        "# !pip install --upgrade tensorflow\n",
        "# !pip install --upgrade tensorflow-hub\n",
        "import tensorflow as tf\n",
        "import tensorflow_hub as hub\n",
        "tf.__version__,hub.__version__"
      ],
      "execution_count": 0,
      "outputs": [
        {
          "output_type": "stream",
          "text": [
            "TensorFlow 2.x selected.\n"
          ],
          "name": "stdout"
        },
        {
          "output_type": "execute_result",
          "data": {
            "text/plain": [
              "('2.0.0', '0.7.0')"
            ]
          },
          "metadata": {
            "tags": []
          },
          "execution_count": 1
        }
      ]
    },
    {
      "cell_type": "code",
      "metadata": {
        "id": "K7xYhtEZtEIu",
        "colab_type": "code",
        "outputId": "dfeed63f-0f48-4b10-b236-b542ccbdf78d",
        "colab": {
          "base_uri": "https://localhost:8080/",
          "height": 159
        }
      },
      "source": [
        "#Let us get embeddings of few terms and get their Cosine Similiarity from precomputed Module.\n",
        "import tensorflow_hub as hub\n",
        "import pandas as pd\n",
        "import numpy as np\n",
        "hub_url=\"https://tfhub.dev/google/nnlm-en-dim50/2\"\n",
        "embed = hub.KerasLayer(hub_url,trainable=True)\n",
        "test=['hadoop','hive','.net']\n",
        "embeddings = embed(test)\n",
        "print(embeddings.shape, embeddings.dtype,type(embeddings))\n",
        "embeddings_numpy=embeddings.numpy()\n",
        "doc_embed = pd.DataFrame(data=embeddings_numpy)\n",
        "doc_embed.index=test\n",
        "\n",
        "def get_similiarity(target_text_embed,text_to_compare_embed):\n",
        "    from sklearn.metrics.pairwise import cosine_similarity\n",
        "    similiarity=cosine_similarity(target_text_embed,text_to_compare_embed)\n",
        "    similiarity=pd.DataFrame(similiarity)\n",
        "    return similiarity\n",
        "sim=get_similiarity(doc_embed,doc_embed)\n",
        "np.fill_diagonal(sim.values, 0)\n",
        "sim.index=test\n",
        "sim.columns=test\n",
        "y=sim.idxmax(axis=1).values.tolist()\n",
        "x=test\n",
        "z=sim.max(axis=1).values.tolist()\n",
        "pd.set_option('display.max_colwidth', -1)\n",
        "data_global=pd.DataFrame([x,y,z]).T\n",
        "data_global"
      ],
      "execution_count": 20,
      "outputs": [
        {
          "output_type": "stream",
          "text": [
            "(3, 50) <dtype: 'float32'> <class 'tensorflow.python.framework.ops.EagerTensor'>\n"
          ],
          "name": "stdout"
        },
        {
          "output_type": "execute_result",
          "data": {
            "text/html": [
              "<div>\n",
              "<style scoped>\n",
              "    .dataframe tbody tr th:only-of-type {\n",
              "        vertical-align: middle;\n",
              "    }\n",
              "\n",
              "    .dataframe tbody tr th {\n",
              "        vertical-align: top;\n",
              "    }\n",
              "\n",
              "    .dataframe thead th {\n",
              "        text-align: right;\n",
              "    }\n",
              "</style>\n",
              "<table border=\"1\" class=\"dataframe\">\n",
              "  <thead>\n",
              "    <tr style=\"text-align: right;\">\n",
              "      <th></th>\n",
              "      <th>0</th>\n",
              "      <th>1</th>\n",
              "      <th>2</th>\n",
              "    </tr>\n",
              "  </thead>\n",
              "  <tbody>\n",
              "    <tr>\n",
              "      <th>0</th>\n",
              "      <td>hadoop</td>\n",
              "      <td>hive</td>\n",
              "      <td>0.0503667</td>\n",
              "    </tr>\n",
              "    <tr>\n",
              "      <th>1</th>\n",
              "      <td>hive</td>\n",
              "      <td>.net</td>\n",
              "      <td>0.137715</td>\n",
              "    </tr>\n",
              "    <tr>\n",
              "      <th>2</th>\n",
              "      <td>.net</td>\n",
              "      <td>hive</td>\n",
              "      <td>0.137715</td>\n",
              "    </tr>\n",
              "  </tbody>\n",
              "</table>\n",
              "</div>"
            ],
            "text/plain": [
              "        0     1          2\n",
              "0  hadoop  hive  0.0503667\n",
              "1  hive    .net  0.137715 \n",
              "2  .net    hive  0.137715 "
            ]
          },
          "metadata": {
            "tags": []
          },
          "execution_count": 20
        }
      ]
    },
    {
      "cell_type": "code",
      "metadata": {
        "id": "0X0NiWyTtEMh",
        "colab_type": "code",
        "outputId": "b2c396ea-874d-4a07-a28a-be3dc6cf9f5d",
        "colab": {
          "base_uri": "https://localhost:8080/",
          "height": 1000
        }
      },
      "source": [
        "#Let us fine tune using a simple objective function of classification, to bring two words together.\n",
        "\n",
        "#Caution: Please note the other weights also change during fine tuning loosing generalization. Play with Caution!\n",
        "\n",
        "\n",
        "import tensorflow as tf\n",
        "import tensorflow_hub as hub\n",
        "from tensorflow import keras\n",
        "\n",
        "\n",
        "module_obj=hub.load(\"https://tfhub.dev/google/nnlm-en-dim50/2\")\n",
        "hub_layer=hub.KerasLayer(module_obj,trainable=True,input_shape=[], dtype=tf.string)\n",
        "\n",
        "model = keras.Sequential()\n",
        "model.add(hub_layer)\n",
        "model.add(keras.layers.Dense(16, activation='relu'))\n",
        "model.add(keras.layers.Dense(1, activation='sigmoid'))\n",
        "model.compile(optimizer='rmsprop', loss='binary_crossentropy')\n",
        "\n",
        "text_values_list=['hive','hadoop','.net']\n",
        "labels=[0,0,1]\n",
        "model.fit(x=text_values_list,y=labels,epochs=50)\n",
        "model.summary()\n",
        "\n",
        "import os\n",
        "os.makedirs(\"finetuned_module_export\", exist_ok=True)\n",
        "export_module_dir = os.path.join(os.getcwd(), \"finetuned_module_export\")\n",
        "tf.saved_model.save(module_obj, export_module_dir)\n",
        "\n",
        "print (export_module_dir)"
      ],
      "execution_count": 0,
      "outputs": [
        {
          "output_type": "stream",
          "text": [
            "Train on 3 samples\n",
            "Epoch 1/50\n",
            "3/3 [==============================] - 1s 236ms/sample - loss: 0.7089\n",
            "Epoch 2/50\n",
            "3/3 [==============================] - 0s 93ms/sample - loss: 0.6858\n",
            "Epoch 3/50\n",
            "3/3 [==============================] - 0s 93ms/sample - loss: 0.6704\n",
            "Epoch 4/50\n",
            "3/3 [==============================] - 0s 94ms/sample - loss: 0.6578\n",
            "Epoch 5/50\n",
            "3/3 [==============================] - 0s 94ms/sample - loss: 0.6471\n",
            "Epoch 6/50\n",
            "3/3 [==============================] - 0s 95ms/sample - loss: 0.6362\n",
            "Epoch 7/50\n",
            "3/3 [==============================] - 0s 92ms/sample - loss: 0.6261\n",
            "Epoch 8/50\n",
            "3/3 [==============================] - 0s 93ms/sample - loss: 0.6167\n",
            "Epoch 9/50\n",
            "3/3 [==============================] - 0s 93ms/sample - loss: 0.6076\n",
            "Epoch 10/50\n",
            "3/3 [==============================] - 0s 93ms/sample - loss: 0.5968\n",
            "Epoch 11/50\n",
            "3/3 [==============================] - 0s 92ms/sample - loss: 0.5866\n",
            "Epoch 12/50\n",
            "3/3 [==============================] - 0s 92ms/sample - loss: 0.5776\n",
            "Epoch 13/50\n",
            "3/3 [==============================] - 0s 96ms/sample - loss: 0.5688\n",
            "Epoch 14/50\n",
            "3/3 [==============================] - 0s 93ms/sample - loss: 0.5606\n",
            "Epoch 15/50\n",
            "3/3 [==============================] - 0s 92ms/sample - loss: 0.5531\n",
            "Epoch 16/50\n",
            "3/3 [==============================] - 0s 94ms/sample - loss: 0.5454\n",
            "Epoch 17/50\n",
            "3/3 [==============================] - 0s 93ms/sample - loss: 0.5379\n",
            "Epoch 18/50\n",
            "3/3 [==============================] - 0s 95ms/sample - loss: 0.5306\n",
            "Epoch 19/50\n",
            "3/3 [==============================] - 0s 96ms/sample - loss: 0.5234\n",
            "Epoch 20/50\n",
            "3/3 [==============================] - 0s 92ms/sample - loss: 0.5163\n",
            "Epoch 21/50\n",
            "3/3 [==============================] - 0s 93ms/sample - loss: 0.5093\n",
            "Epoch 22/50\n",
            "3/3 [==============================] - 0s 91ms/sample - loss: 0.5026\n",
            "Epoch 23/50\n",
            "3/3 [==============================] - 0s 90ms/sample - loss: 0.4958\n",
            "Epoch 24/50\n",
            "3/3 [==============================] - 0s 92ms/sample - loss: 0.4890\n",
            "Epoch 25/50\n",
            "3/3 [==============================] - 0s 95ms/sample - loss: 0.4823\n",
            "Epoch 26/50\n",
            "3/3 [==============================] - 0s 95ms/sample - loss: 0.4758\n",
            "Epoch 27/50\n",
            "3/3 [==============================] - 0s 93ms/sample - loss: 0.4693\n",
            "Epoch 28/50\n",
            "3/3 [==============================] - 0s 93ms/sample - loss: 0.4630\n",
            "Epoch 29/50\n",
            "3/3 [==============================] - 0s 93ms/sample - loss: 0.4566\n",
            "Epoch 30/50\n",
            "3/3 [==============================] - 0s 93ms/sample - loss: 0.4506\n",
            "Epoch 31/50\n",
            "3/3 [==============================] - 0s 94ms/sample - loss: 0.4443\n",
            "Epoch 32/50\n",
            "3/3 [==============================] - 0s 93ms/sample - loss: 0.4382\n",
            "Epoch 33/50\n",
            "3/3 [==============================] - 0s 94ms/sample - loss: 0.4321\n",
            "Epoch 34/50\n",
            "3/3 [==============================] - 0s 94ms/sample - loss: 0.4260\n",
            "Epoch 35/50\n",
            "3/3 [==============================] - 0s 92ms/sample - loss: 0.4200\n",
            "Epoch 36/50\n",
            "3/3 [==============================] - 0s 92ms/sample - loss: 0.4140\n",
            "Epoch 37/50\n",
            "3/3 [==============================] - 0s 94ms/sample - loss: 0.4081\n",
            "Epoch 38/50\n",
            "3/3 [==============================] - 0s 95ms/sample - loss: 0.4023\n",
            "Epoch 39/50\n",
            "3/3 [==============================] - 0s 93ms/sample - loss: 0.3966\n",
            "Epoch 40/50\n",
            "3/3 [==============================] - 0s 92ms/sample - loss: 0.3909\n",
            "Epoch 41/50\n",
            "3/3 [==============================] - 0s 94ms/sample - loss: 0.3854\n",
            "Epoch 42/50\n",
            "3/3 [==============================] - 0s 92ms/sample - loss: 0.3798\n",
            "Epoch 43/50\n",
            "3/3 [==============================] - 0s 92ms/sample - loss: 0.3743\n",
            "Epoch 44/50\n",
            "3/3 [==============================] - 0s 92ms/sample - loss: 0.3688\n",
            "Epoch 45/50\n",
            "3/3 [==============================] - 0s 93ms/sample - loss: 0.3634\n",
            "Epoch 46/50\n",
            "3/3 [==============================] - 0s 93ms/sample - loss: 0.3580\n",
            "Epoch 47/50\n",
            "3/3 [==============================] - 0s 94ms/sample - loss: 0.3527\n",
            "Epoch 48/50\n",
            "3/3 [==============================] - 0s 92ms/sample - loss: 0.3473\n",
            "Epoch 49/50\n",
            "3/3 [==============================] - 0s 95ms/sample - loss: 0.3420\n",
            "Epoch 50/50\n",
            "3/3 [==============================] - 0s 94ms/sample - loss: 0.3367\n",
            "Model: \"sequential_9\"\n",
            "_________________________________________________________________\n",
            "Layer (type)                 Output Shape              Param #   \n",
            "=================================================================\n",
            "keras_layer_14 (KerasLayer)  (None, 50)                48190600  \n",
            "_________________________________________________________________\n",
            "dense_18 (Dense)             (None, 16)                816       \n",
            "_________________________________________________________________\n",
            "dense_19 (Dense)             (None, 1)                 17        \n",
            "=================================================================\n",
            "Total params: 48,191,433\n",
            "Trainable params: 48,191,433\n",
            "Non-trainable params: 0\n",
            "_________________________________________________________________\n",
            "INFO:tensorflow:Assets written to: /content/finetuned_module_export/assets\n"
          ],
          "name": "stdout"
        },
        {
          "output_type": "stream",
          "text": [
            "INFO:tensorflow:Assets written to: /content/finetuned_module_export/assets\n"
          ],
          "name": "stderr"
        },
        {
          "output_type": "stream",
          "text": [
            "/content/finetuned_module_export\n"
          ],
          "name": "stdout"
        }
      ]
    },
    {
      "cell_type": "code",
      "metadata": {
        "id": "JFuPOzKZtESh",
        "colab_type": "code",
        "outputId": "e01c07d7-bff3-4872-ce59-d63c6409b7e9",
        "colab": {
          "base_uri": "https://localhost:8080/",
          "height": 176
        }
      },
      "source": [
        "import tensorflow_hub as hub\n",
        "import pandas as pd\n",
        "import numpy as np\n",
        "print (\"export_module_dir\",export_module_dir)\n",
        "hub_url=export_module_dir\n",
        "embed = hub.KerasLayer(hub_url)\n",
        "test=['hadoop','hive','.net']\n",
        "embeddings = embed(test)\n",
        "print(embeddings.shape, embeddings.dtype,type(embeddings))\n",
        "embeddings_numpy=embeddings.numpy()\n",
        "doc_embed = pd.DataFrame(data=embeddings_numpy)\n",
        "doc_embed.index=test\n",
        "\n",
        "def get_similiarity(target_text_embed,text_to_compare_embed):\n",
        "    from sklearn.metrics.pairwise import cosine_similarity\n",
        "    similiarity=cosine_similarity(target_text_embed,text_to_compare_embed)\n",
        "    similiarity=pd.DataFrame(similiarity)\n",
        "    return similiarity\n",
        "sim=get_similiarity(doc_embed,doc_embed)\n",
        "np.fill_diagonal(sim.values, 0)\n",
        "# idx=sim.idxmax(axis=1).values[0]\n",
        "# sim[idx]\n",
        "\n",
        "sim.index=test\n",
        "sim.columns=test\n",
        "y=sim.idxmax(axis=1).values.tolist()\n",
        "x=test\n",
        "z=sim.max(axis=1).values.tolist()\n",
        "pd.set_option('display.max_colwidth', -1)\n",
        "data_finetuned=pd.DataFrame([x,y,z]).T\n",
        "# data.to_csv('u3_u4.csv')\n",
        "data_finetuned"
      ],
      "execution_count": 0,
      "outputs": [
        {
          "output_type": "stream",
          "text": [
            "export_module_dir /content/finetuned_module_export\n",
            "(3, 50) <dtype: 'float32'> <class 'tensorflow.python.framework.ops.EagerTensor'>\n"
          ],
          "name": "stdout"
        },
        {
          "output_type": "execute_result",
          "data": {
            "text/html": [
              "<div>\n",
              "<style scoped>\n",
              "    .dataframe tbody tr th:only-of-type {\n",
              "        vertical-align: middle;\n",
              "    }\n",
              "\n",
              "    .dataframe tbody tr th {\n",
              "        vertical-align: top;\n",
              "    }\n",
              "\n",
              "    .dataframe thead th {\n",
              "        text-align: right;\n",
              "    }\n",
              "</style>\n",
              "<table border=\"1\" class=\"dataframe\">\n",
              "  <thead>\n",
              "    <tr style=\"text-align: right;\">\n",
              "      <th></th>\n",
              "      <th>0</th>\n",
              "      <th>1</th>\n",
              "      <th>2</th>\n",
              "    </tr>\n",
              "  </thead>\n",
              "  <tbody>\n",
              "    <tr>\n",
              "      <th>0</th>\n",
              "      <td>hadoop</td>\n",
              "      <td>hive</td>\n",
              "      <td>0.13457</td>\n",
              "    </tr>\n",
              "    <tr>\n",
              "      <th>1</th>\n",
              "      <td>hive</td>\n",
              "      <td>hadoop</td>\n",
              "      <td>0.13457</td>\n",
              "    </tr>\n",
              "    <tr>\n",
              "      <th>2</th>\n",
              "      <td>.net</td>\n",
              "      <td>hive</td>\n",
              "      <td>0.00266996</td>\n",
              "    </tr>\n",
              "  </tbody>\n",
              "</table>\n",
              "</div>"
            ],
            "text/plain": [
              "        0       1           2\n",
              "0  hadoop  hive    0.13457   \n",
              "1  hive    hadoop  0.13457   \n",
              "2  .net    hive    0.00266996"
            ]
          },
          "metadata": {
            "tags": []
          },
          "execution_count": 19
        }
      ]
    },
    {
      "cell_type": "code",
      "metadata": {
        "id": "fFmVughwtEY3",
        "colab_type": "code",
        "outputId": "63837135-d5d3-4617-9fd5-667f29f13146",
        "colab": {
          "base_uri": "https://localhost:8080/",
          "height": 142
        }
      },
      "source": [
        "data_finetuned.columns=['word','Fine tuned most similiar','Finetuned_similiarity']\n",
        "data_global.columns=['word','Global most similiar','Global similiarity']\n",
        "data_global.merge(data_finetuned,how='left',on='word')"
      ],
      "execution_count": 21,
      "outputs": [
        {
          "output_type": "execute_result",
          "data": {
            "text/html": [
              "<div>\n",
              "<style scoped>\n",
              "    .dataframe tbody tr th:only-of-type {\n",
              "        vertical-align: middle;\n",
              "    }\n",
              "\n",
              "    .dataframe tbody tr th {\n",
              "        vertical-align: top;\n",
              "    }\n",
              "\n",
              "    .dataframe thead th {\n",
              "        text-align: right;\n",
              "    }\n",
              "</style>\n",
              "<table border=\"1\" class=\"dataframe\">\n",
              "  <thead>\n",
              "    <tr style=\"text-align: right;\">\n",
              "      <th></th>\n",
              "      <th>word</th>\n",
              "      <th>Global most similiar</th>\n",
              "      <th>Global similiarity</th>\n",
              "      <th>Fine tuned most similiar</th>\n",
              "      <th>Finetuned_similiarity</th>\n",
              "    </tr>\n",
              "  </thead>\n",
              "  <tbody>\n",
              "    <tr>\n",
              "      <th>0</th>\n",
              "      <td>hadoop</td>\n",
              "      <td>hive</td>\n",
              "      <td>0.0503667</td>\n",
              "      <td>hive</td>\n",
              "      <td>0.13457</td>\n",
              "    </tr>\n",
              "    <tr>\n",
              "      <th>1</th>\n",
              "      <td>hive</td>\n",
              "      <td>.net</td>\n",
              "      <td>0.137715</td>\n",
              "      <td>hadoop</td>\n",
              "      <td>0.13457</td>\n",
              "    </tr>\n",
              "    <tr>\n",
              "      <th>2</th>\n",
              "      <td>.net</td>\n",
              "      <td>hive</td>\n",
              "      <td>0.137715</td>\n",
              "      <td>hive</td>\n",
              "      <td>0.00266996</td>\n",
              "    </tr>\n",
              "  </tbody>\n",
              "</table>\n",
              "</div>"
            ],
            "text/plain": [
              "     word Global most similiar  ... Fine tuned most similiar Finetuned_similiarity\n",
              "0  hadoop  hive                 ...  hive                     0.13457             \n",
              "1  hive    .net                 ...  hadoop                   0.13457             \n",
              "2  .net    hive                 ...  hive                     0.00266996          \n",
              "\n",
              "[3 rows x 5 columns]"
            ]
          },
          "metadata": {
            "tags": []
          },
          "execution_count": 21
        }
      ]
    }
  ]
}