{
  "nbformat": 4,
  "nbformat_minor": 0,
  "metadata": {
    "colab": {
      "name": "NMT_Project_V3_Attention_decoder.ipynb",
      "version": "0.3.2",
      "provenance": [],
      "collapsed_sections": []
    },
    "kernelspec": {
      "display_name": "Python 3.5 with Spark 1.6 (Unsupported)",
      "language": "python",
      "name": "python3"
    },
    "accelerator": "GPU"
  },
  "cells": [
    {
      "cell_type": "markdown",
      "metadata": {
        "id": "view-in-github",
        "colab_type": "text"
      },
      "source": [
        "[View in Colaboratory](https://colab.research.google.com/github/meethariprasad/phd/blob/master/NMT_Project_V3_Attention_decoder.ipynb)"
      ]
    },
    {
      "metadata": {
        "id": "MudlkWl8ppfA",
        "colab_type": "text"
      },
      "cell_type": "markdown",
      "source": [
        "# Neural Machine Translation from Hindi to English\n",
        "\n",
        "\n",
        "Assignment is to build a Neural Machine Translation (NMT) model to translate Hindi Sentences into machine English. \n",
        "\n",
        "We will do this using by creating attention model as in Neural Machine Translation by Jointly Learning to Align and Translate: Dzmitry Bahdanau, Kyunghyun Cho, Yoshua Bengio https://arxiv.org/pdf/1409.0473.pdf\n",
        "\n",
        "We will be using following small parallel corpus \"http://www.manythings.org/anki/hin-eng.zip\"\n",
        "\n",
        "Notes: In Appendix section at end we have given additional helper functions which can be used to improve model as future improvement effort."
      ]
    },
    {
      "metadata": {
        "id": "ikjC2-A6ppfE",
        "colab_type": "text"
      },
      "cell_type": "markdown",
      "source": [
        "## Loading Libraries."
      ]
    },
    {
      "metadata": {
        "id": "olaxCdoioGy-",
        "colab_type": "code",
        "colab": {
          "base_uri": "https://localhost:8080/",
          "height": 34
        },
        "outputId": "f30d9189-dd5b-4b7a-e20d-c18bc26a3573"
      },
      "cell_type": "code",
      "source": [
        "# https://pypi.python.org/pypi/pydot\n",
        "#Setting up graphviz (2.38.0-16ubuntu2) ...\n",
        "#Processing triggers for libc-bin (2.26-0ubuntu2.1) ...\n",
        "try:\n",
        "  !apt-get -qq install -y graphviz && pip install -q pydot\n",
        "  import pydot\n",
        "  import graphviz\n",
        "except ModuleNotFoundError:\n",
        "  print (\"ModuleNotFoundError\")"
      ],
      "execution_count": 1,
      "outputs": [
        {
          "output_type": "stream",
          "text": [
            "ModuleNotFoundError\n"
          ],
          "name": "stdout"
        }
      ]
    },
    {
      "metadata": {
        "id": "e_DoANY8lv1v",
        "colab_type": "code",
        "colab": {}
      },
      "cell_type": "code",
      "source": [
        "# Install the PyDrive wrapper & import libraries. This is to upload model & weights to your GDrive.\n",
        "# This only needs to be done once in a notebook.\n",
        "!pip install -U -q PyDrive\n",
        "from pydrive.auth import GoogleAuth\n",
        "from pydrive.drive import GoogleDrive\n",
        "from google.colab import auth\n",
        "from oauth2client.client import GoogleCredentials\n",
        "\n",
        "# Authenticate and create the PyDrive client.\n",
        "# This only needs to be done once in a notebook.\n",
        "auth.authenticate_user()\n",
        "gauth = GoogleAuth()\n",
        "gauth.credentials = GoogleCredentials.get_application_default()\n",
        "drive = GoogleDrive(gauth)"
      ],
      "execution_count": 0,
      "outputs": []
    },
    {
      "metadata": {
        "id": "CgFXOwK1Fhs0",
        "colab_type": "code",
        "colab": {
          "base_uri": "https://localhost:8080/",
          "height": 289
        },
        "outputId": "10c3fc3e-3537-4f93-d236-aa76ffcc1e84"
      },
      "cell_type": "code",
      "source": [
        "import os\n",
        "os.getcwd()\n",
        "os.listdir()"
      ],
      "execution_count": 3,
      "outputs": [
        {
          "output_type": "execute_result",
          "data": {
            "text/plain": [
              "['datalab',\n",
              " 'clean_pairs.pkl',\n",
              " '.config',\n",
              " '.ipython',\n",
              " '.rnd',\n",
              " '.keras',\n",
              " 'hin.txt',\n",
              " '.nv',\n",
              " 'enghindi.txt',\n",
              " 'dataset.pkl',\n",
              " 'attention_decoder.py',\n",
              " '.forever',\n",
              " '__pycache__',\n",
              " '.cache',\n",
              " '_about.txt',\n",
              " '.local']"
            ]
          },
          "metadata": {
            "tags": []
          },
          "execution_count": 3
        }
      ]
    },
    {
      "metadata": {
        "id": "ooG6sMrA1uDD",
        "colab_type": "code",
        "colab": {
          "base_uri": "https://localhost:8080/",
          "height": 119
        },
        "outputId": "1dc87289-c38e-42d4-cd7e-99cccf5c37a6"
      },
      "cell_type": "code",
      "source": [
        "!pip install keras==2.0.5"
      ],
      "execution_count": 4,
      "outputs": [
        {
          "output_type": "stream",
          "text": [
            "Requirement already satisfied: keras==2.0.5 in /usr/local/lib/python3.6/dist-packages (2.0.5)\r\n",
            "Requirement already satisfied: pyyaml in /usr/local/lib/python3.6/dist-packages (from keras==2.0.5) (3.12)\r\n",
            "Requirement already satisfied: theano in /usr/local/lib/python3.6/dist-packages (from keras==2.0.5) (1.0.1)\r\n",
            "Requirement already satisfied: six in /usr/local/lib/python3.6/dist-packages (from keras==2.0.5) (1.11.0)\r\n",
            "Requirement already satisfied: numpy>=1.9.1 in /usr/local/lib/python3.6/dist-packages (from theano->keras==2.0.5) (1.14.3)\r\n",
            "Requirement already satisfied: scipy>=0.14 in /usr/local/lib/python3.6/dist-packages (from theano->keras==2.0.5) (0.19.1)\r\n"
          ],
          "name": "stdout"
        }
      ]
    },
    {
      "metadata": {
        "id": "VZyjHexqppfK",
        "colab_type": "code",
        "colab": {
          "base_uri": "https://localhost:8080/",
          "height": 34
        },
        "outputId": "894744e9-bab2-4845-8b9b-69e8f16939d5"
      },
      "cell_type": "code",
      "source": [
        "from keras.layers import Bidirectional, Concatenate, Permute, Dot, Input, LSTM, Multiply\n",
        "from keras.layers import RepeatVector, Dense, Activation, Lambda\n",
        "from keras.optimizers import Adam\n",
        "import random\n",
        "from keras.utils import to_categorical\n",
        "from keras.models import load_model, Model\n",
        "import keras.backend as K\n",
        "import numpy as np\n",
        "import gc\n",
        "import os.path\n",
        "#import pydot \n",
        "#import graphviz\n",
        " \n",
        "\n",
        "#from faker import Faker\n",
        "#import random\n",
        "#from tqdm import tqdm\n",
        "#from babel.dates import format_date\n",
        "#from nmt_utils import *\n",
        "import matplotlib.pyplot as plt\n",
        "%matplotlib inline"
      ],
      "execution_count": 5,
      "outputs": [
        {
          "output_type": "stream",
          "text": [
            "Using TensorFlow backend.\n"
          ],
          "name": "stderr"
        }
      ]
    },
    {
      "metadata": {
        "id": "I5GL6sJsppfj",
        "colab_type": "text"
      },
      "cell_type": "markdown",
      "source": [
        "## 1 - Translating Source Language to Target Language\n",
        "\n",
        "The model we will build here could be used to translate from from English to Hindi or any other parallel corpus. "
      ]
    },
    {
      "metadata": {
        "id": "Z0vsi9Hzppfm",
        "colab_type": "text"
      },
      "cell_type": "markdown",
      "source": [
        "### 1.1 - Dataset\n",
        "\n",
        "In this section we are going to download the dataset and prepare the dataset with Padding & Integer Encoding & One hot encoding."
      ]
    },
    {
      "metadata": {
        "id": "OR89gTm0ppfp",
        "colab_type": "code",
        "colab": {}
      },
      "cell_type": "code",
      "source": [
        "if (os.path.isfile(\"hin-eng.zip\")==False & os.path.isfile(\"enghindi.zip\")==False ):\n",
        "  import requests, zipfile, io, os\n",
        "  #https://github.com/meethariprasad/phd/raw/master/assignments/NLP/Translation/hin.zip\n",
        "  r = requests.get(\"http://www.manythings.org/anki/hin-eng.zip\")\n",
        "  z = zipfile.ZipFile(io.BytesIO(r.content))\n",
        "  z.extractall()\n",
        "  os.listdir()\n",
        "  #https://github.com/meethariprasad/phd/raw/master/assignments/NLP/Translation/enghindi.zip\n",
        "  r = requests.get(\"https://github.com/meethariprasad/phd/raw/master/assignments/NLP/Translation/enghindi.zip\")\n",
        "  z = zipfile.ZipFile(io.BytesIO(r.content))\n",
        "  z.extractall()\n",
        "  os.listdir()\n",
        "#import requests, zipfile, io,os\n",
        "#r = requests.get(\"http://www.manythings.org/anki/hin-eng.zip\")\n",
        "#z = zipfile.ZipFile(io.BytesIO(r.content))\n",
        "#z.extractall()\n",
        "#Verifying if the file hin.txt are downloaded properly.\n",
        "#if os.path.isfile(\"hin.txt\"):\n",
        "#    print('hin.txt exists')"
      ],
      "execution_count": 0,
      "outputs": []
    },
    {
      "metadata": {
        "id": "N0tCHfs0qyxZ",
        "colab_type": "code",
        "colab": {
          "base_uri": "https://localhost:8080/",
          "height": 102
        },
        "outputId": "26eb7d26-1a23-46f4-e2e4-750968d23486"
      },
      "cell_type": "code",
      "source": [
        "print(\"If you want dataset to be reconstructed using new sentence length, enter 1\")\n",
        "a = input()\n",
        "print(type(int(a)))\n",
        "a=int(a)\n",
        "if((a==1)& os.path.isfile(\"dataset.pkl\")==True):\n",
        "  print(\"yeah. I will delete dataset.pkl\")\n",
        "  print(os.remove(\"dataset.pkl\"))\n",
        "else:\n",
        "  print(\"cool. Either it is already deleted or I Will proceed with already created dataset.pkl\")"
      ],
      "execution_count": 7,
      "outputs": [
        {
          "output_type": "stream",
          "text": [
            "If you want dataset to be reconstructed using new sentence length, enter 1\n",
            "1\n",
            "<class 'int'>\n",
            "yeah. I will delete dataset.pkl\n",
            "None\n"
          ],
          "name": "stdout"
        }
      ]
    },
    {
      "metadata": {
        "id": "DkFNFCCDppf6",
        "colab_type": "code",
        "colab": {}
      },
      "cell_type": "code",
      "source": [
        "if (os.path.isfile(\"dataset.pkl\")==False):\n",
        "  file=open(\"hin.txt\",'r',encoding='utf-8')\n",
        "  content=file.read()\n",
        "  file.close()\n",
        "#Reading the file\n",
        "#file=open(\"hin.txt\",'r',encoding='utf-8')\n",
        "#content=file.read()\n",
        "#file.close()"
      ],
      "execution_count": 0,
      "outputs": []
    },
    {
      "metadata": {
        "id": "UUcRUeheru4C",
        "colab_type": "code",
        "colab": {}
      },
      "cell_type": "code",
      "source": [
        "if (os.path.isfile(\"dataset.pkl\")==False):\n",
        "  file=open(\"enghindi.txt\",'r',encoding='utf-16')\n",
        "  content2=file.read()\n",
        "  file.close()"
      ],
      "execution_count": 0,
      "outputs": []
    },
    {
      "metadata": {
        "id": "PqleDsISppgF",
        "colab_type": "code",
        "colab": {
          "base_uri": "https://localhost:8080/",
          "height": 309
        },
        "outputId": "8fe7da9e-83cc-4e1d-9f86-f0f6d8731e0a"
      },
      "cell_type": "code",
      "source": [
        "def save_clean_data(sentences, filename):\n",
        "  dump(sentences, open(filename, 'wb'))\n",
        "  print('Saved: %s' % filename)\n",
        "  \n",
        "def load_clean_sentences(filename):\n",
        "\treturn load(open(filename, 'rb'))\n",
        "\n",
        "import string\n",
        "import re\n",
        "from pickle import dump\n",
        "from unicodedata import normalize\n",
        "from numpy import array\n",
        "  \n",
        "if (os.path.isfile(\"dataset.pkl\")==False):\n",
        "  # load doc into memory\n",
        "  def load_doc(filename,encode_format):\n",
        "    # open the file as read only\n",
        "    file = open(filename, mode='rt', encoding=encode_format)\n",
        "    # read all text\n",
        "    text = file.read()\n",
        "    # close the file\n",
        "    file.close()\n",
        "    return text\n",
        "\n",
        "  # split a loaded document into sentences\n",
        "  def to_pairs(doc):\n",
        "    lines = doc.strip().split('\\n')\n",
        "    pairs = [line.split('\\t') for line in  lines]\n",
        "    return pairs\n",
        "\n",
        "  # clean a list of lines\n",
        "  def clean_pairs(lines):\n",
        "    cleaned = list()\n",
        "    # prepare regex for char filtering\n",
        "    re_punc = re.compile('[।%s]' % re.escape(string.punctuation))\n",
        "    re_print = re.compile('[^%s]' % re.escape(string.printable))\n",
        "    for pair in lines:\n",
        "      clean_pair = list()\n",
        "      for line in pair:\n",
        "        # tokenize on white space\n",
        "        line = line.split()\n",
        "        # remove punctuation from each token\n",
        "        line = [re_punc.sub('', w) for w in line]\n",
        "        # remove tokens with numbers in them\n",
        "        #line = [word for word in line if word.isalpha()]\n",
        "        #line=re.sub('[।]', '', line)\n",
        "        # store as string\n",
        "        line=(' '.join(line))\n",
        "        clean_pair.append(line.strip())\n",
        "      cleaned.append(clean_pair)\n",
        "    return array(cleaned)\n",
        "\n",
        "  # save a list of clean sentences to file\n",
        "  def save_clean_data(sentences, filename):\n",
        "    dump(sentences, open(filename, 'wb'))\n",
        "    print('Saved: %s' % filename)\n",
        "\n",
        "  # load dataset\n",
        "  filename = 'hin.txt'\n",
        "  doc = load_doc(filename,encode_format='utf-8')\n",
        "  # split into english-german pairs\n",
        "  pairs = to_pairs(doc)\n",
        "  del doc\n",
        "\n",
        "  filename2 = 'enghindi.txt'\n",
        "  doc2 = load_doc(filename2,encode_format='utf-16')\n",
        "  # split into english-german pairs\n",
        "  pairs2 = to_pairs(doc2)\n",
        "  del doc2\n",
        "\n",
        "  print(type(pairs),pairs[0:2],pairs2[0:2])\n",
        "  # clean sentences\n",
        "  clean_pairs = clean_pairs(pairs)\n",
        "  lines=pairs2\n",
        "  cleaned = list()\n",
        "  re_punc = re.compile('[।%s]' % re.escape(string.punctuation))\n",
        "  re_print = re.compile('[^%s]' % re.escape(string.printable))\n",
        "  for pair in lines:\n",
        "    clean_pair = list()\n",
        "    for line in pair:\n",
        "      line=line.strip()\n",
        "      # tokenize on white space\n",
        "      line = line.split()\n",
        "      # remove punctuation from each token\n",
        "      line = [re_punc.sub('', w) for w in line]\n",
        "      # remove tokens with numbers in them\n",
        "      #line = [word for word in line if word.isalpha()]\n",
        "      #line=re.sub('[।]', '', line)\n",
        "      # store as string\n",
        "      line=(' '.join(line))\n",
        "      clean_pair.append(line.strip())\n",
        "    cleaned.append(clean_pair)\n",
        "  clean_pairs2=(array(cleaned))\n",
        "  print(type(clean_pairs2),clean_pairs2.shape,type(clean_pairs),clean_pairs.shape,(np.concatenate((clean_pairs2, clean_pairs))).shape)\n",
        "  # save clean pairs to file\n",
        "  print (\"Number of clean pairs\",clean_pairs.shape[0])\n",
        "  # spot check\n",
        "  for i in range(10):\n",
        "    print('[%s] => [%s]' % (clean_pairs[i,0], clean_pairs[i,1]))\n",
        "  clean_pairs=(np.concatenate((clean_pairs2, clean_pairs)))\n",
        "  print(clean_pairs[1:2])\n",
        "  save_clean_data(clean_pairs, 'clean_pairs.pkl')\n",
        "  del clean_pairs,clean_pairs2,lines,re_punc,re_print,cleaned,pairs,pairs2"
      ],
      "execution_count": 10,
      "outputs": [
        {
          "output_type": "stream",
          "text": [
            "<class 'list'> [['Help!', 'बचाओ!'], ['Jump.', 'उछलो.']] [['fresh breath and shining teeth enhance your personality .', 'ताजा साँसें और चमचमाते दाँत आपके व्यक्तित्व को निखारते हैं ।'], ['your self-confidence also increases with teeth .', 'दाँतों से आपका आत्मविश्\\u200dवास भी बढ़ता है ।']]\n",
            "<class 'numpy.ndarray'> (77145, 2) <class 'numpy.ndarray'> (2867, 2) (80012, 2)\n",
            "Number of clean pairs 2867\n",
            "[Help] => [बचाओ]\n",
            "[Jump] => [उछलो]\n",
            "[Jump] => [कूदो]\n",
            "[Jump] => [छलांग]\n",
            "[Hello] => [नमस्ते]\n",
            "[Hello] => [नमस्कार]\n",
            "[Cheers] => [वाहवाह]\n",
            "[Cheers] => [चियर्स]\n",
            "[Got it] => [समझे कि नहीं]\n",
            "[Im OK] => [मैं ठीक हूँ]\n",
            "[['your selfconfidence also increases with teeth'\n",
            "  'दाँतों से आपका आत्मविश्\\u200dवास भी बढ़ता है']]\n",
            "Saved: clean_pairs.pkl\n"
          ],
          "name": "stdout"
        }
      ]
    },
    {
      "metadata": {
        "id": "b4Wrq1UFppgU",
        "colab_type": "code",
        "colab": {
          "base_uri": "https://localhost:8080/",
          "height": 51
        },
        "outputId": "25c2915a-a91b-43cd-d3af-3249686f2eb6"
      },
      "cell_type": "code",
      "source": [
        "from pickle import load\n",
        "from pickle import dump\n",
        "from numpy.random import shuffle\n",
        "\n",
        "if (os.path.isfile(\"dataset.pkl\")==False):\n",
        "  # load a clean dataset\n",
        "  def load_clean_sentences(filename):\n",
        "    return load(open(filename, 'rb'))\n",
        "\n",
        "  # save a list of clean sentences to file\n",
        "  def save_clean_data(sentences, filename):\n",
        "    dump(sentences, open(filename, 'wb'))\n",
        "    print('Saved: %s' % filename)\n",
        "\n",
        "  # load dataset\n",
        "  raw_dataset = load_clean_sentences('clean_pairs.pkl')\n",
        "  #del os.remove(\"clean_pairs.pkl\")\n",
        "  # reduce dataset size\n",
        "  n_sentences = raw_dataset.shape[0]\n",
        "  print (n_sentences)\n",
        "  #Subsetting to 10000 records.\n",
        "  #n_sentences=dataset.shape[0]\n",
        "  # random shuffle\n",
        "  random.Random(4).shuffle(raw_dataset)\n",
        "  dataset = raw_dataset[:n_sentences, :]\n",
        "  print(dataset.shape)\n",
        "  random.Random(4).shuffle(dataset)\n",
        "  del raw_dataset\n",
        "# split into train/test\n",
        "#train, test = dataset[:2800], dataset[2800:]\n",
        "# save\n",
        "#save_clean_data(dataset, 'dataset.pkl')\n",
        "#save_clean_data(train, 'english-german-train.pkl')\n",
        "#save_clean_data(test, 'english-german-test.pkl')"
      ],
      "execution_count": 11,
      "outputs": [
        {
          "output_type": "stream",
          "text": [
            "80012\n",
            "(80012, 2)\n"
          ],
          "name": "stdout"
        }
      ]
    },
    {
      "metadata": {
        "id": "xO7qN5hbsmLY",
        "colab_type": "code",
        "colab": {}
      },
      "cell_type": "code",
      "source": [
        "#Trying to get sentences of length say hindi=12 words or less also with English words 10 or less.\n",
        "#limited=dataset[:10]\n",
        "#print((len(limited[2][0].split()) < 100))\n",
        "#print((len(limited[2][1].split()) < 100))\n",
        "#state1=(len(limited[2][0].split()) < 100)\n",
        "#state2=(len(limited[2][1].split())<100)\n",
        "#print(state1,state2,state1&state2)\n",
        "#print((len(limited[2][0].split()) < 100 & len(limited[2][1].split())<100))\n",
        "\n",
        "def get_sentences_subset(limited,source_len,target_len):\n",
        "    indexes_list=[]\n",
        "    for indexes in range(0,limited.shape[0]):\n",
        "        #print(len(limited[i][0].split()),len(limited[i][1].split()))\n",
        "        eng_len=len(limited[indexes][0].split()) \n",
        "        hin_len=len(limited[indexes][1].split())\n",
        "        state1=(eng_len<=target_len)\n",
        "        state2=(hin_len<=source_len)\n",
        "        final=state2&state1\n",
        "        #print(eng_len,hin_len,final)\n",
        "        #print(state1,state2,final)\n",
        "        if (final):\n",
        "            indexes_list.append(indexes)\n",
        "    #print(indexes_list,type(indexes_list))\n",
        "    return(limited[indexes_list])"
      ],
      "execution_count": 0,
      "outputs": []
    },
    {
      "metadata": {
        "id": "SsCKkEHjspAS",
        "colab_type": "code",
        "colab": {
          "base_uri": "https://localhost:8080/",
          "height": 357
        },
        "outputId": "dcc0766a-3262-4f7a-fd80-8d7b8b9cdaf3"
      },
      "cell_type": "code",
      "source": [
        "if (os.path.isfile(\"dataset.pkl\")==False):\n",
        "  print(\"Total sentences\", dataset.shape[0])\n",
        "  print(\"How many words long sentence in both language you need?\")\n",
        "  sentence_words=input()\n",
        "  sentence_words=int(sentence_words)\n",
        "  #print(\"How many words long sentence in Target Language you need?\")\n",
        "  #target_sentence_words=input()\n",
        "  #target_sentence_words=int(target_sentence_words)\n",
        "  raw_dataset_subset=get_sentences_subset(dataset,sentence_words,sentence_words)\n",
        "  print(\"There are Number of Sentences are matching above criteria\",raw_dataset_subset.shape)\n",
        "  print(\"########################################################################\")\n",
        "  print(\"How many sentences you need?\")\n",
        "  n_sentences=input()\n",
        "  n_sentences=int(n_sentences)\n",
        "  #Subsetting to n sentences.\n",
        "  #n_sentences=5000\n",
        "  random.Random(4).shuffle(raw_dataset_subset)\n",
        "  dataset = raw_dataset_subset[:n_sentences, :]\n",
        "  random.Random(4).shuffle(dataset)\n",
        "  print(raw_dataset_subset.shape,dataset,dataset.shape)\n",
        "  save_clean_data(dataset, 'dataset.pkl')\n",
        "#i=[0,2,3]\n",
        "#print(\"Limited\",limited,i)\n",
        "#print(\"\\n Indexed\",limited[i],i)"
      ],
      "execution_count": 13,
      "outputs": [
        {
          "output_type": "stream",
          "text": [
            "Total sentences 80012\n",
            "How many words long sentence in both language you need?\n",
            "15\n",
            "There are Number of Sentences are matching above criteria (41704, 2)\n",
            "########################################################################\n",
            "How many sentences you need?\n",
            "40000\n",
            "(41704, 2) [['fresh breath and shining teeth enhance your personality'\n",
            "  'ताजा साँसें और चमचमाते दाँत आपके व्यक्तित्व को निखारते हैं']\n",
            " ['fresh breath and shining teeth enhance your personality'\n",
            "  'ताजा साँसें और चमचमाते दाँत आपके व्यक्तित्व को निखारते हैं']\n",
            " ['fresh breath and shining teeth enhance your personality'\n",
            "  'ताजा साँसें और चमचमाते दाँत आपके व्यक्तित्व को निखारते हैं']\n",
            " ...\n",
            " ['sleep apnia can also be fatal' 'स्लीप एप्रिया जानलेवा भी हो सकती है']\n",
            " ['hepatitisb is a worldwide disease which occurs due to hepatitisb virus lrbhbv rrb'\n",
            "  'हेपेटाइटिसबी विश्\\u200dवव्यापी बीमारी है जो हेपेटाइटिसबी वायरस के कारण होती है']\n",
            " ['patients are administered more anesthetic medicine which has its own harms'\n",
            "  'मरीज को ज्यादा निश्चेतक दवा देनी पड़ती है जिसके अपने नुकसान हैं']] (40000, 2)\n",
            "Saved: dataset.pkl\n"
          ],
          "name": "stdout"
        }
      ]
    },
    {
      "metadata": {
        "id": "xJOdtrDnsuYM",
        "colab_type": "code",
        "colab": {}
      },
      "cell_type": "code",
      "source": [
        "def load_clean_sentences(filename):\n",
        "\treturn load(open(filename, 'rb'))\n",
        "dataset = load_clean_sentences('dataset.pkl')"
      ],
      "execution_count": 0,
      "outputs": []
    },
    {
      "metadata": {
        "id": "SZRfjr0Dsw46",
        "colab_type": "code",
        "colab": {}
      },
      "cell_type": "code",
      "source": [
        "raw_dataset_subset = None\n",
        "raw_dataset =None\n",
        "del raw_dataset_subset,raw_dataset"
      ],
      "execution_count": 0,
      "outputs": []
    },
    {
      "metadata": {
        "id": "wpFEWgRTppgn",
        "colab_type": "code",
        "colab": {
          "base_uri": "https://localhost:8080/",
          "height": 34
        },
        "outputId": "4c776040-f0b7-4ff9-f5e9-dbf888a6086d"
      },
      "cell_type": "code",
      "source": [
        "#Check the data sample\n",
        "dataset.shape"
      ],
      "execution_count": 16,
      "outputs": [
        {
          "output_type": "execute_result",
          "data": {
            "text/plain": [
              "(40000, 2)"
            ]
          },
          "metadata": {
            "tags": []
          },
          "execution_count": 16
        }
      ]
    },
    {
      "metadata": {
        "id": "4jiw4GFrppg2",
        "colab_type": "code",
        "colab": {}
      },
      "cell_type": "code",
      "source": [
        "#Converting it to tuples.\n",
        "dataset_list=(list(tuple(map(tuple, dataset))))"
      ],
      "execution_count": 0,
      "outputs": []
    },
    {
      "metadata": {
        "id": "kxgShonlpphH",
        "colab_type": "code",
        "colab": {}
      },
      "cell_type": "code",
      "source": [
        "#English Sentence List\n",
        "english_sentences_list=list(dataset[:,0])"
      ],
      "execution_count": 0,
      "outputs": []
    },
    {
      "metadata": {
        "id": "0ImL8sf7pphP",
        "colab_type": "code",
        "colab": {
          "base_uri": "https://localhost:8080/",
          "height": 34
        },
        "outputId": "b10e881d-7eeb-4fea-ac14-f6e753c5a6f1"
      },
      "cell_type": "code",
      "source": [
        "english_sentences_list[0]='Please make yourself at home'\n",
        "english_sentences_list[0]"
      ],
      "execution_count": 19,
      "outputs": [
        {
          "output_type": "execute_result",
          "data": {
            "text/plain": [
              "'Please make yourself at home'"
            ]
          },
          "metadata": {
            "tags": []
          },
          "execution_count": 19
        }
      ]
    },
    {
      "metadata": {
        "id": "WX2jSTcbpphj",
        "colab_type": "code",
        "colab": {}
      },
      "cell_type": "code",
      "source": [
        "#English Sentence Unique Word List and Length of Vocabulary\n",
        "english_unique_words=set((' '.join(english_sentences_list)).split())\n",
        "english_vocab_len=len(set((' '.join(english_sentences_list)).split()))"
      ],
      "execution_count": 0,
      "outputs": []
    },
    {
      "metadata": {
        "id": "2Ilvfe8Lppht",
        "colab_type": "code",
        "colab": {}
      },
      "cell_type": "code",
      "source": [
        "#Hindi Sentence List\n",
        "hindi_sentences_list=list(dataset[:,1])\n",
        "hindi_sentences_list[0]='इसको अपना घर ही समझो'"
      ],
      "execution_count": 0,
      "outputs": []
    },
    {
      "metadata": {
        "id": "uohwpb-hpph7",
        "colab_type": "code",
        "colab": {}
      },
      "cell_type": "code",
      "source": [
        "#Hindi Sentence Unique Word List and Length of Vocabulary\n",
        "hindi_unique_words=set((' '.join(hindi_sentences_list)).split())\n",
        "hindi_vocab_len=len(set((' '.join(hindi_sentences_list)).split()))"
      ],
      "execution_count": 0,
      "outputs": []
    },
    {
      "metadata": {
        "id": "ChFZsTeYppiA",
        "colab_type": "code",
        "colab": {}
      },
      "cell_type": "code",
      "source": [
        "#Creating Dictionary with Unknown and Pad elements\n",
        "english_dictionary=dict(zip(sorted(english_unique_words) + ['<unk>', '<pad>'], list(range(len(english_unique_words) + 2))))\n",
        "hindi_dictionary=dict(zip(sorted(hindi_unique_words) + ['<unk>', '<pad>'], list(range(len(hindi_unique_words) + 2))))"
      ],
      "execution_count": 0,
      "outputs": []
    },
    {
      "metadata": {
        "id": "eRiSaO6ALbyL",
        "colab_type": "code",
        "colab": {}
      },
      "cell_type": "code",
      "source": [
        "#Making Sure that 0th Value is pad value to ensure masking.\n",
        "def return_adjusted_dictionary(english_dictionary):\n",
        "  zero_value=0\n",
        "  Key_pad='<pad>'\n",
        "  for Key, Value in english_dictionary.items():\n",
        "    if Value == zero_value:\n",
        "      Key_zero=Key\n",
        "      #print (Key)\n",
        "    if Key == Key_pad:\n",
        "      value_pad=Value\n",
        "      #print (Value)\n",
        "  english_dictionary.update({Key_pad: 0, Key_zero: value_pad})\n",
        "  return(english_dictionary)"
      ],
      "execution_count": 0,
      "outputs": []
    },
    {
      "metadata": {
        "id": "NN9SydyGTs_I",
        "colab_type": "code",
        "colab": {}
      },
      "cell_type": "code",
      "source": [
        "hindi_dictionary=return_adjusted_dictionary(hindi_dictionary)\n",
        "english_dictionary=return_adjusted_dictionary(english_dictionary)"
      ],
      "execution_count": 0,
      "outputs": []
    },
    {
      "metadata": {
        "id": "WKS48Rk6ppiH",
        "colab_type": "code",
        "colab": {}
      },
      "cell_type": "code",
      "source": [
        "#Reverse Dictionary for both languages\n",
        "revere_dictionary_hindi=dict((v,k) for k,v in hindi_dictionary.items())\n",
        "revere_dictionary_english=dict((v,k) for k,v in english_dictionary.items())"
      ],
      "execution_count": 0,
      "outputs": []
    },
    {
      "metadata": {
        "id": "XixDvWS-ppiN",
        "colab_type": "code",
        "colab": {
          "base_uri": "https://localhost:8080/",
          "height": 34
        },
        "outputId": "a60241e6-5808-470e-ca78-76f79f14ebab"
      },
      "cell_type": "code",
      "source": [
        "#Storing the index of padding value in variables to add it going ahead.\n",
        "english_padding_value=english_dictionary['<pad>']\n",
        "hindi_padding_value=hindi_dictionary['<pad>']\n",
        "print(english_padding_value,hindi_padding_value)"
      ],
      "execution_count": 27,
      "outputs": [
        {
          "output_type": "stream",
          "text": [
            "0 0\n"
          ],
          "name": "stdout"
        }
      ]
    },
    {
      "metadata": {
        "id": "S5vLHzZVppiZ",
        "colab_type": "code",
        "colab": {
          "base_uri": "https://localhost:8080/",
          "height": 34
        },
        "outputId": "933af127-f723-43f3-aa58-c1ee5e5e6b7b"
      },
      "cell_type": "code",
      "source": [
        "#This going to be the global variable with maximum number of words found in a sentence\n",
        "max_english_words=max(len(line.split()) for line in english_sentences_list)\n",
        "max_hindi_words=max(len(line.split()) for line in hindi_sentences_list)\n",
        "print(max_english_words,max_hindi_words)"
      ],
      "execution_count": 28,
      "outputs": [
        {
          "output_type": "stream",
          "text": [
            "15 15\n"
          ],
          "name": "stdout"
        }
      ]
    },
    {
      "metadata": {
        "id": "073iRdhtppin",
        "colab_type": "code",
        "colab": {}
      },
      "cell_type": "code",
      "source": [
        "def get_padded_encoding(sentences_list,language_dictionary,max_language_words):\n",
        "    padding_value=language_dictionary['<pad>']\n",
        "    language_array=[]\n",
        "    #Iterate over List.\n",
        "    for sentence in sentences_list:\n",
        "        #Replaces English words with English Vocabulary Indexes and Hindi with Hindi Vocabulary Indexes.\n",
        "        #logic: if a word not in dictionary enters, it will be replaced by unk key value.\n",
        "        single_sentence_array=[]\n",
        "        for word in sentence.split(): \n",
        "            try:\n",
        "                #single_sentence_array=([language_dictionary[word] for word in sentence.split()])\n",
        "                single_sentence_array.append(language_dictionary[word])\n",
        "            except KeyError:\n",
        "                unk='<unk>'\n",
        "                single_sentence_array.append(language_dictionary[unk])\n",
        "        #Find the length of english_single_sentence_array\n",
        "        length_single_sentence=(len(single_sentence_array))\n",
        "        #So how many times padding dictionary key needs to be appended, if we say maximum length of sentences to be considered is eng_max_len.\n",
        "        if (max_language_words>length_single_sentence):\n",
        "            padding_count=(max_language_words-length_single_sentence)\n",
        "        else:\n",
        "            padding_count=0\n",
        "        if (padding_count>0):\n",
        "            for pad in range(0,padding_count):\n",
        "                single_sentence_array.append(padding_value)\n",
        "        else:\n",
        "            single_sentence_array=single_sentence_array[0:max_language_words]\n",
        "        #Append to main array\n",
        "        language_array.append(single_sentence_array)\n",
        "    #Convert to Numpy array at the end\n",
        "    language_array=np.array(language_array)\n",
        "    return(language_array)"
      ],
      "execution_count": 0,
      "outputs": []
    },
    {
      "metadata": {
        "id": "oQ8MXMDmppi-",
        "colab_type": "text"
      },
      "cell_type": "markdown",
      "source": [
        "Instead of doing a padding over large sentence size, emperically it is found that it is better to do for a short sentences considering the limitation we are having with respect to corpus size."
      ]
    },
    {
      "metadata": {
        "id": "MMbxxTKZppjS",
        "colab_type": "code",
        "colab": {
          "base_uri": "https://localhost:8080/",
          "height": 34
        },
        "outputId": "3cd711af-3e4c-4578-deef-9060ca20dfb7"
      },
      "cell_type": "code",
      "source": [
        "#Get encoded sentences\n",
        "hindi_encoding=get_padded_encoding(hindi_sentences_list,hindi_dictionary,max_english_words)\n",
        "english_encoding=get_padded_encoding(english_sentences_list,english_dictionary,max_hindi_words)\n",
        "print(hindi_encoding.shape,english_encoding.shape)"
      ],
      "execution_count": 30,
      "outputs": [
        {
          "output_type": "stream",
          "text": [
            "(40000, 15) (40000, 15)\n"
          ],
          "name": "stdout"
        }
      ]
    },
    {
      "metadata": {
        "id": "7vawCinyppjh",
        "colab_type": "code",
        "colab": {
          "base_uri": "https://localhost:8080/",
          "height": 612
        },
        "outputId": "97a7438c-cb65-41e6-9b2f-d0c35e590fe4"
      },
      "cell_type": "code",
      "source": [
        "#Verifying the encoding and decoding for a sample data.\n",
        "print(english_sentences_list[1],hindi_sentences_list[1])\n",
        "print(english_encoding[1],hindi_encoding[1])\n",
        "#Check if encoding gives back the same answer\n",
        "for key in english_encoding[1]:\n",
        "    print(revere_dictionary_english[key])\n",
        "for key in hindi_encoding[1]:\n",
        "    print(revere_dictionary_hindi[key])\n",
        "english_dictionary['<pad>']\n",
        "hindi_dictionary['<pad>']"
      ],
      "execution_count": 31,
      "outputs": [
        {
          "output_type": "stream",
          "text": [
            "fresh breath and shining teeth enhance your personality ताजा साँसें और चमचमाते दाँत आपके व्यक्तित्व को निखारते हैं\n",
            "[1821  594  194 4134 4600 1500 5176 3392    0    0    0    0    0    0\n",
            "    0] [2533 5802  922 1794 2681  429 5408 1302 3024 6373    0    0    0    0\n",
            "    0]\n",
            "fresh\n",
            "breath\n",
            "and\n",
            "shining\n",
            "teeth\n",
            "enhance\n",
            "your\n",
            "personality\n",
            "<pad>\n",
            "<pad>\n",
            "<pad>\n",
            "<pad>\n",
            "<pad>\n",
            "<pad>\n",
            "<pad>\n",
            "ताजा\n",
            "साँसें\n",
            "और\n",
            "चमचमाते\n",
            "दाँत\n",
            "आपके\n",
            "व्यक्तित्व\n",
            "को\n",
            "निखारते\n",
            "हैं\n",
            "<pad>\n",
            "<pad>\n",
            "<pad>\n",
            "<pad>\n",
            "<pad>\n"
          ],
          "name": "stdout"
        },
        {
          "output_type": "execute_result",
          "data": {
            "text/plain": [
              "0"
            ]
          },
          "metadata": {
            "tags": []
          },
          "execution_count": 31
        }
      ]
    },
    {
      "metadata": {
        "id": "7pX_5qX3ppj0",
        "colab_type": "code",
        "colab": {}
      },
      "cell_type": "code",
      "source": [
        "#We will convert the english and hindi encodings to one hot encodings.\n",
        "#Please note Input is of the dimension (number of sentences,max_length_language(every column is a word))\n",
        "#Output is (number of sentences,Max_length_language(every row is a word),length of vocabulary)\n",
        "#Basically every row of the onehotcode matrix must be for one word.\n",
        "#How=1 => 1 0 0\n",
        "#Are=2 => 0 1 0\n",
        "#You=3 => 0 0 1\n",
        "#We are trying to translate hindi to english, so our X is Hindi and Y is English\n",
        "X=hindi_encoding\n",
        "Y=english_encoding\n",
        "hindi_encoding=None\n",
        "english_encoding=None\n",
        "dataset=None\n",
        "english_sentences_list=None\n",
        "hindi_sentences_list=None\n",
        "del hindi_encoding,english_encoding,dataset,english_sentences_list,hindi_sentences_list\n",
        "#Note: Instead of one hot we can use word embeddings for Xoh\n",
        "\n",
        "#Xoh=np.array(list(map(lambda x: to_categorical(x, num_classes=len(hindi_dictionary)), X)))\n",
        "#Yoh=np.array(list(map(lambda x: to_categorical(x, num_classes=len(english_dictionary)), Y)))\n",
        "#print(\"X.shape:\", X.shape)\n",
        "#print(\"Y.shape:\", Y.shape)\n",
        "#print(\"Xoh.shape:\", Xoh.shape)\n",
        "#print(\"Yoh.shape:\", Yoh.shape)"
      ],
      "execution_count": 0,
      "outputs": []
    },
    {
      "metadata": {
        "id": "sOkyyKPL9Hci",
        "colab_type": "code",
        "colab": {}
      },
      "cell_type": "code",
      "source": [
        "#sample_size=X.shape[0]\n",
        "#test_start_index=(sample_size-100)\n",
        "#test_batch_size=sample_size-test_start_index-2\n",
        "#testXoh=get_single_onehot_array(X,test_start_index,test_batch_size,hindi_dictionary)\n",
        "#testYoh=get_single_onehot_array(Y,test_start_index,test_batch_size,english_dictionary)\n",
        "#print(sample_size,test_start_index,test_batch_size)"
      ],
      "execution_count": 0,
      "outputs": []
    },
    {
      "metadata": {
        "id": "3kPEqhEx9MJj",
        "colab_type": "code",
        "colab": {}
      },
      "cell_type": "code",
      "source": [
        "#print(Y.shape,X.shape,len(english_dictionary),len(hindi_dictionary))\n",
        "#from keras.callbacks import ModelCheckpoint\n",
        "#import pandas\n",
        "\n",
        "#sample_size=X.shape[0]\n",
        "#test_start_index=(sample_size-100)\n",
        "#test_batch_size=sample_size-test_start_index-2\n",
        "#train_iteration_size=test_start_index\n",
        "#print(\"train_iteration_size\",train_iteration_size)\n",
        "#gc.collect()"
      ],
      "execution_count": 0,
      "outputs": []
    },
    {
      "metadata": {
        "id": "Bfgy8zHB8YB5",
        "colab_type": "code",
        "colab": {}
      },
      "cell_type": "code",
      "source": [
        "#Every call will return batch size sized Y or x\n",
        "#Intention generate the small dataset and train the model \n",
        "#and retrain the model again for next index small dataset and so on\n",
        "\n",
        "#start_index=0\n",
        "#iteration=0\n",
        "#if (iteration>0):\n",
        "#    start_index=iteration+batch_size\n",
        "def get_single_onehot_array(Y,start_index,batch_size,dictionary):\n",
        "    english_dictionary=dictionary\n",
        "    end_index=start_index+batch_size\n",
        "    if end_index>Y.shape[0]:\n",
        "        end_index=Y.shape[0]\n",
        "    if start_index>end_index:\n",
        "        start_index=(end_index-1)\n",
        "    result_array=[]\n",
        "    for i in range(start_index,end_index):\n",
        "        Yoh_single_sentence=np.array(list(map(lambda x: to_categorical(x, num_classes=len(english_dictionary)), Y[i])))\n",
        "        Yoh_single_sentence=np.swapaxes(Yoh_single_sentence,0,1)\n",
        "        Yoh_single_sentence=np.reshape(Yoh_single_sentence,(Yoh_single_sentence.shape[1],Yoh_single_sentence.shape[2]))\n",
        "        #Making fist column of timestep of one hot encoding as 0 as this column will have 1 only for the row with encoding 0, which is our pad value, which will be masked.\n",
        "        #if i % 1000 == 0:\n",
        "        #    print(i)\n",
        "        #print(type(Yoh_single_sentence),Yoh_single_sentence.shape)\n",
        "        result_array.append(Yoh_single_sentence)\n",
        "        #result_array = np.append(result_array,Yoh_single_sentence, axis=0)\n",
        "    Yoh = np.array(result_array)\n",
        "    Yoh[:,:,0]=np.zeros(Yoh.shape[1])\n",
        "    return Yoh"
      ],
      "execution_count": 0,
      "outputs": []
    },
    {
      "metadata": {
        "id": "rGKo5TkX8_pm",
        "colab_type": "code",
        "colab": {}
      },
      "cell_type": "code",
      "source": [
        "#For Train:start_index=0,train_iteration_size=train_sample_size\n",
        "#batch_generator(start_index,X,Y,train_iteration_size,hindi_dictionary,english_dictionary,n_s)\n",
        "#For Test:start_index=train_sample_size,train_iteration_size=(samples_size-train_sample_size-1)\n",
        "#batch_generator(start_index,X,Y,train_iteration_size,hindi_dictionary,english_dictionary,n_s)\n",
        "\n",
        "def batch_generator(start_index,X,Y,train_iteration_size,hindi_dictionary,english_dictionary):\n",
        "  start_index=start_index\n",
        "  training_sample_count=train_iteration_size\n",
        "  \n",
        "  while start_index < X.shape[0]:\n",
        "      batch_size=1\n",
        "      #Remember that the items that will get trained is iteration_range*batchsize\n",
        "      start_index=(start_index*batch_size)\n",
        "      #print(\"Iteration\",iteration)\n",
        "      #print(\"start_index,iteration,train_iteration size:\",start_index,iteration,train_iteration_size)\n",
        "      #print(\"train_iteration_size\",train_iteration_size)\n",
        "      #gc.collect()\n",
        "      if start_index< train_iteration_size:\n",
        "        #print(\"Start Index\",start_index)\n",
        "        #print(\"Before Start Index Reset\",start_index)\n",
        "        #Xoh_batch=get_single_onehot_array(X,start_index,batch_size,hindi_dictionary)\n",
        "        Xoh_batch=np.reshape(X[start_index],(1,X.shape[1]))\n",
        "        Yoh_batch=get_single_onehot_array(Y,start_index,batch_size,english_dictionary)\n",
        "        #Xoh_batch=np.concatenate((Xoh_batch,Xoh_batch),axis=0)\n",
        "        #Yoh_batch=np.concatenate((Yoh_batch,Yoh_batch),axis=0)\n",
        "        #train_outputs = list(Yoh_batch.swapaxes(0,1))\n",
        "        #train_s0 = np.zeros((Xoh_batch.shape[0],n_s))\n",
        "        #train_c0 = np.zeros((Xoh_batch.shape[0],n_s))\n",
        "        #trainX=[Xoh_batch, train_s0, train_c0]\n",
        "        #trainY=list(Yoh_batch.swapaxes(0,1))\n",
        "        gc.collect()\n",
        "      else:\n",
        "        print(\"Before Start Index Reset\",start_index)\n",
        "        start_index=0\n",
        "        print(\"After Start Index Reset\",start_index)\n",
        "        #Xoh_batch=get_single_onehot_array(X,start_index,batch_size,hindi_dictionary)\n",
        "        Xoh_batch=np.reshape(X[start_index],(1,X.shape[1]))\n",
        "        Yoh_batch=get_single_onehot_array(Y,start_index,batch_size,english_dictionary)\n",
        "        #train_outputs = list(Yoh_batch.swapaxes(0,1))\n",
        "        #train_s0 = np.zeros((Xoh_batch.shape[0], n_s))\n",
        "        #train_c0 = np.zeros((Xoh_batch.shape[0],n_s))\n",
        "        #trainX=[Xoh_batch, train_s0, train_c0]\n",
        "        #trainY=list(Yoh_batch.swapaxes(0,1))\n",
        "        #Xoh_batch=np.concatenate((Xoh_batch,Xoh_batch),axis=0)\n",
        "        #Yoh_batch=np.concatenate((Yoh_batch,Yoh_batch),axis=0)\n",
        "        gc.collect()\n",
        "        continue\n",
        "      start_index = start_index+1\n",
        "      #print(Xoh_batch.shape,Yoh_batch.shape)\n",
        "      yield (Xoh_batch,Yoh_batch)"
      ],
      "execution_count": 0,
      "outputs": []
    },
    {
      "metadata": {
        "id": "R2sJZffubfMO",
        "colab_type": "code",
        "colab": {
          "base_uri": "https://localhost:8080/",
          "height": 85
        },
        "outputId": "93feeb15-fd33-4ec9-e365-af9728fe1884"
      },
      "cell_type": "code",
      "source": [
        "a = np.random.rand(3,2)\n",
        "b = np.random.rand(3,2)\n",
        "print(a.shape,b.shape)\n",
        "for x in range(len(a)):\n",
        "  print (a[x].shape)"
      ],
      "execution_count": 37,
      "outputs": [
        {
          "output_type": "stream",
          "text": [
            "(3, 2) (3, 2)\n",
            "(2,)\n",
            "(2,)\n",
            "(2,)\n"
          ],
          "name": "stdout"
        }
      ]
    },
    {
      "metadata": {
        "id": "jQQwIVejAJm6",
        "colab_type": "code",
        "colab": {}
      },
      "cell_type": "code",
      "source": [
        "if (os.path.isfile(\"attention_decoder.zip\")==False):\n",
        "  r = requests.get(\"https://github.com/meethariprasad/phd/raw/master/assignments/NLP/Translation/attention_decoder.zip\")\n",
        "  z = zipfile.ZipFile(io.BytesIO(r.content))\n",
        "  z.extractall()\n",
        "  os.listdir()\n",
        "  del z,r"
      ],
      "execution_count": 0,
      "outputs": []
    },
    {
      "metadata": {
        "id": "K-WXobmH__rC",
        "colab_type": "code",
        "colab": {
          "base_uri": "https://localhost:8080/",
          "height": 34
        },
        "outputId": "e05baf14-3c44-4af9-9739-dccfddacbb76"
      },
      "cell_type": "code",
      "source": [
        "#del model\n",
        "from random import randint\n",
        "from numpy import array\n",
        "from numpy import argmax\n",
        "from numpy import array_equal\n",
        "from keras.models import Sequential\n",
        "from keras.layers import LSTM\n",
        "from attention_decoder import AttentionDecoder\n",
        "\n",
        "\n",
        "\n",
        "# configure problem\n",
        "n_features = len(english_dictionary)\n",
        "input_features=len(hindi_dictionary)\n",
        "n_timesteps_in = X.shape[1]\n",
        "n_timesteps_out = Y.shape[1]\n",
        "LSTM_Unitsize=150\n",
        "input_embed_dimension=100\n",
        "print(n_timesteps_in,n_timesteps_out,input_features,n_features,LSTM_Unitsize)"
      ],
      "execution_count": 83,
      "outputs": [
        {
          "output_type": "stream",
          "text": [
            "15 15 6473 5187 150\n"
          ],
          "name": "stdout"
        }
      ]
    },
    {
      "metadata": {
        "id": "Krvi6kA0Tuw5",
        "colab_type": "code",
        "colab": {}
      },
      "cell_type": "code",
      "source": [
        "#import gc\n",
        "#locals()\n",
        "# train LSTM\n",
        "#model.fit(Xoh, Yoh, epochs=1, verbose=2)\n",
        "# define model\n",
        "#del model2\n",
        "import gc\n",
        "gc.collect()\n",
        "from keras.layers import Dropout,Masking,Embedding\n",
        "if (os.path.isfile(\"main_model_weights_attn_new.h5\")==False):\n",
        "  model2 = Sequential()\n",
        "  model2.add(Embedding(input_features, input_embed_dimension, input_length=n_timesteps_in,mask_zero=True))\n",
        "  model2.add(Dropout(0.2))\n",
        "  model2.add(LSTM(LSTM_Unitsize,return_sequences=True,activation='relu'))\n",
        "  model2.add(Masking(mask_value=0.))\n",
        "  model2.add(AttentionDecoder(LSTM_Unitsize, n_features))\n",
        "  model2.compile(loss='categorical_crossentropy', optimizer='adam', metrics=['acc'])\n",
        "  #model2.save(\"model2_compiled.hd5\")"
      ],
      "execution_count": 0,
      "outputs": []
    },
    {
      "metadata": {
        "id": "CLDZUfxVL9bR",
        "colab_type": "code",
        "colab": {}
      },
      "cell_type": "code",
      "source": [
        "#from IPython.display import SVG\n",
        "#from keras.utils.vis_utils import model_to_dot\n",
        "#import pydot\n",
        "\n",
        "#SVG(model_to_dot(model2).create(prog='dot', format='svg'))"
      ],
      "execution_count": 0,
      "outputs": []
    },
    {
      "metadata": {
        "id": "Sq-0tZPcEsvR",
        "colab_type": "code",
        "colab": {
          "base_uri": "https://localhost:8080/",
          "height": 306
        },
        "outputId": "6f7638b6-d189-4e40-da6a-483926b5cffb"
      },
      "cell_type": "code",
      "source": [
        "#from IPython.display import SVG\n",
        "#from keras.utils.vis_utils import model_to_dot\n",
        "#import pydot\n",
        "\n",
        "#SVG(model_to_dot(model2).create(prog='dot', format='svg'))\n",
        "model2.summary()"
      ],
      "execution_count": 86,
      "outputs": [
        {
          "output_type": "stream",
          "text": [
            "_________________________________________________________________\n",
            "Layer (type)                 Output Shape              Param #   \n",
            "=================================================================\n",
            "embedding_2 (Embedding)      (None, 15, 100)           647300    \n",
            "_________________________________________________________________\n",
            "dropout_2 (Dropout)          (None, 15, 100)           0         \n",
            "_________________________________________________________________\n",
            "lstm_2 (LSTM)                (None, 15, 150)           150600    \n",
            "_________________________________________________________________\n",
            "masking_2 (Masking)          (None, 15, 150)           0         \n",
            "_________________________________________________________________\n",
            "AttentionDecoder (AttentionD (None, 15, 5187)          31003656  \n",
            "=================================================================\n",
            "Total params: 31,801,556\n",
            "Trainable params: 31,801,556\n",
            "Non-trainable params: 0\n",
            "_________________________________________________________________\n"
          ],
          "name": "stdout"
        }
      ]
    },
    {
      "metadata": {
        "id": "mAEF6vy1IKau",
        "colab_type": "code",
        "colab": {
          "base_uri": "https://localhost:8080/",
          "height": 272
        },
        "outputId": "f0ff1f9e-89ea-43dc-db28-b2a42e54e5ad"
      },
      "cell_type": "code",
      "source": [
        "#Train & Validation Parameters\n",
        "sample_size=X.shape[0]\n",
        "\n",
        "# Or Adjust Samplesize if you want it to be small\n",
        "#sample_size=20000\n",
        "\n",
        "test_batch_size=100\n",
        "test_start_index=(sample_size-test_batch_size)\n",
        "test_end_index=sample_size\n",
        "test_generator_batch_size=100\n",
        "test_samples_per_epoc=test_batch_size\n",
        "###############################################################\n",
        "\n",
        "\n",
        "train_start_index=0\n",
        "train_end_index=test_start_index\n",
        "train_generator_batch_size=20\n",
        "train_samples_per_epoc=100\n",
        "###############################################################\n",
        "\n",
        "print(\"Data Size\",sample_size)\n",
        "print(\"######################################\")\n",
        "print(\"train_start_index:\",train_start_index)\n",
        "print(\"train_end_index:\",train_end_index)\n",
        "print(\"train_generator_batch_size\",train_generator_batch_size)\n",
        "print(\"train_samples_per_epoc\",train_samples_per_epoc)\n",
        "print(\"######################################\")\n",
        "\n",
        "print(\"test_start_index:\",test_start_index)\n",
        "print(\"test_end_index:\",test_end_index)\n",
        "print(\"test_generator_batch_size:\",test_generator_batch_size)\n",
        "print(\"test_samples_per_epoc\",test_samples_per_epoc)\n",
        "print(\"######################################\")\n",
        "\n",
        "print(\"Approximate Epcs Required to Cover Samples given train_samples_per_epoc(sample_size/train_samples_per_epoc)\",round(sample_size/train_samples_per_epoc))\n",
        "epoc=round(sample_size/train_samples_per_epoc)*40\n",
        "print(\"epoc:\",epoc)\n",
        "gc.collect()"
      ],
      "execution_count": 106,
      "outputs": [
        {
          "output_type": "stream",
          "text": [
            "Data Size 40000\n",
            "######################################\n",
            "train_start_index: 0\n",
            "train_end_index: 39900\n",
            "train_generator_batch_size 20\n",
            "train_samples_per_epoc 100\n",
            "######################################\n",
            "test_start_index: 39900\n",
            "test_end_index: 40000\n",
            "test_generator_batch_size: 100\n",
            "test_samples_per_epoc 100\n",
            "######################################\n",
            "Approximate Epcs Required to Cover Samples given train_samples_per_epoc(sample_size/train_samples_per_epoc)*30 16000\n",
            "epoc: 16000\n"
          ],
          "name": "stdout"
        },
        {
          "output_type": "execute_result",
          "data": {
            "text/plain": [
              "276"
            ]
          },
          "metadata": {
            "tags": []
          },
          "execution_count": 106
        }
      ]
    },
    {
      "metadata": {
        "id": "nH7nfqXo3Q20",
        "colab_type": "code",
        "colab": {}
      },
      "cell_type": "code",
      "source": [
        "#Train_X=X[train_start_index:train_end_index]\n",
        "#Train_Y=Y[train_start_index:train_end_index]\n",
        "#Test_X=X[test_start_index:test_end_index]\n",
        "#Test_Y=Y[test_start_index:test_end_index]"
      ],
      "execution_count": 0,
      "outputs": []
    },
    {
      "metadata": {
        "id": "xkdpct59YLoj",
        "colab_type": "code",
        "colab": {}
      },
      "cell_type": "code",
      "source": [
        "#For Train:start_index=0,train_iteration_size=train_sample_size\n",
        "#batch_generator(start_index,X,Y,train_iteration_size,hindi_dictionary,english_dictionary,n_s)\n",
        "#For Test:start_index=train_sample_size,train_iteration_size=(samples_size-train_sample_size-1)\n",
        "#batch_generator(start_index,X,Y,train_iteration_size,hindi_dictionary,english_dictionary,n_s)\n",
        "\n",
        "def batch_generator(label,train_start_index,train_end_index,X,Y,train_generator_batch_size,english_dictionary):\n",
        "  Xoh_batch = np.zeros((train_generator_batch_size,X.shape[1]))\n",
        "  Yoh_batch = np.zeros((train_generator_batch_size,Train_Y.shape[1],len(english_dictionary)))\n",
        "  batch_size=1\n",
        "  #LOG_EVERY_N = 1000\n",
        "  print(label,\"start_index\",train_start_index)\n",
        "  start_index=train_start_index\n",
        "  \n",
        "  while True:\n",
        "    for ind in range(train_generator_batch_size):\n",
        "\n",
        "      index=(random.sample(range(train_start_index, train_end_index), 1))[0]\n",
        "      #print(\"index\",index)\n",
        "\n",
        "      Xoh_batch[ind]=np.reshape(X[index],(1,X.shape[1]))\n",
        "      Yoh_batch[ind]=get_single_onehot_array(Y,index,batch_size,english_dictionary)\n",
        "    #print(\"X shape, Y shape\",Xoh_batch.shape,Yoh_batch.shape)\n",
        "    gc.collect()\n",
        "    yield (Xoh_batch,Yoh_batch)"
      ],
      "execution_count": 0,
      "outputs": []
    },
    {
      "metadata": {
        "id": "0yco3YK69KxE",
        "colab_type": "text"
      },
      "cell_type": "markdown",
      "source": [
        "With the generator above, if we define train_generator_batch_size = 10 , that means it will take out 10 samples from features and labels to feed into each epoch until an epoch hits train_samples_per_epoc  sample limit. Then fit_generator() destroys the used data and move on repeating the same process in new epoch.\n"
      ]
    },
    {
      "metadata": {
        "id": "ANoy-IT5TN1R",
        "colab_type": "code",
        "colab": {
          "base_uri": "https://localhost:8080/",
          "height": 34
        },
        "outputId": "af7cc963-7761-4867-e288-3dddd350d01d"
      },
      "cell_type": "code",
      "source": [
        "train_label=\"train\"\n",
        "test_label=\"test\"\n",
        "train_batch_generator=batch_generator(train_label,train_start_index,train_end_index,X,Y,train_generator_batch_size,english_dictionary)\n",
        "test_batch_generator=batch_generator(test_label,test_start_index,test_end_index,X,Y,test_generator_batch_size,english_dictionary)\n",
        "print(train_batch_generator,test_batch_generator)"
      ],
      "execution_count": 109,
      "outputs": [
        {
          "output_type": "stream",
          "text": [
            "<generator object batch_generator at 0x7fb255f19db0> <generator object batch_generator at 0x7fb255f1f200>\n"
          ],
          "name": "stdout"
        }
      ]
    },
    {
      "metadata": {
        "id": "dYrmYXoNppm5",
        "colab_type": "code",
        "colab": {
          "base_uri": "https://localhost:8080/",
          "height": 31249
        },
        "outputId": "80b3585e-0afe-485e-d539-1bea185ebe04"
      },
      "cell_type": "code",
      "source": [
        "#Run the model.fit. If only best validation model needs to be saved, then change save_best_only=True in checkpoint.\n",
        "from keras.callbacks import ModelCheckpoint,EarlyStopping\n",
        "checkpoint = ModelCheckpoint('best_model_new.h5', monitor='val_acc', verbose=2,save_best_only=True, mode='auto',save_weights_only=False)\n",
        "early_stop=EarlyStopping(monitor='val_acc', min_delta=0.0001, patience=100,mode='auto')\n",
        "import pandas\n",
        "#pandas.DataFrame(model.fit(trainX, trainY, epochs=200, batch_size=100, validation_data=(testX, testY), callbacks=[checkpoint]).history).to_csv(\"history.csv\")\n",
        "#model.fit(trainX, trainY, epochs=200, batch_size=20, validation_data=(testX, testY), callbacks=[checkpoint])\n",
        "model2.fit_generator(train_batch_generator,steps_per_epoch=train_samples_per_epoc\n",
        "                     ,validation_data=test_batch_generator,validation_steps=test_samples_per_epoc\n",
        "                     ,epochs=epoc\n",
        "                     #,verbose=1\n",
        "                     ,callbacks=[checkpoint,early_stop]\n",
        "                    )"
      ],
      "execution_count": 110,
      "outputs": [
        {
          "output_type": "stream",
          "text": [
            "train start_index 0\n",
            "Epoch 1/16000\n",
            " 99/100 [============================>.] - ETA: 0s - loss: 2.5123 - acc: 0.1372test start_index 39900\n",
            "Epoch 00000: val_acc improved from -inf to 0.09577, saving model to best_model_new.h5\n",
            "100/100 [==============================] - 62s - loss: 2.5111 - acc: 0.1371 - val_loss: 3.6436 - val_acc: 0.0958\n",
            "Epoch 2/16000\n",
            " 99/100 [============================>.] - ETA: 0s - loss: 2.3975 - acc: 0.1514Epoch 00001: val_acc improved from 0.09577 to 0.11121, saving model to best_model_new.h5\n",
            "100/100 [==============================] - 60s - loss: 2.4027 - acc: 0.1511 - val_loss: 3.5672 - val_acc: 0.1112\n",
            "Epoch 3/16000\n",
            " 59/100 [================>.............] - ETA: 13s - loss: 2.3042 - acc: 0.1809"
          ],
          "name": "stdout"
        },
        {
          "output_type": "stream",
          "text": [
            " 99/100 [============================>.] - ETA: 0s - loss: 2.2933 - acc: 0.1789Epoch 00002: val_acc improved from 0.11121 to 0.11851, saving model to best_model_new.h5\n",
            "100/100 [==============================] - 60s - loss: 2.2889 - acc: 0.1789 - val_loss: 3.4010 - val_acc: 0.1185\n",
            "Epoch 4/16000\n",
            " 99/100 [============================>.] - ETA: 0s - loss: 2.2071 - acc: 0.1875Epoch 00003: val_acc improved from 0.11851 to 0.13546, saving model to best_model_new.h5\n",
            "100/100 [==============================] - 60s - loss: 2.2055 - acc: 0.1877 - val_loss: 3.2953 - val_acc: 0.1355\n",
            "Epoch 5/16000\n",
            " 85/100 [========================>.....] - ETA: 4s - loss: 2.1373 - acc: 0.2032"
          ],
          "name": "stdout"
        },
        {
          "output_type": "stream",
          "text": [
            " 99/100 [============================>.] - ETA: 0s - loss: 2.1110 - acc: 0.2060Epoch 00004: val_acc improved from 0.13546 to 0.14041, saving model to best_model_new.h5\n",
            "100/100 [==============================] - 60s - loss: 2.1083 - acc: 0.2059 - val_loss: 3.2320 - val_acc: 0.1404\n",
            "Epoch 6/16000\n",
            " 99/100 [============================>.] - ETA: 0s - loss: 2.0817 - acc: 0.2092Epoch 00005: val_acc improved from 0.14041 to 0.15047, saving model to best_model_new.h5\n",
            "100/100 [==============================] - 60s - loss: 2.0824 - acc: 0.2095 - val_loss: 3.1460 - val_acc: 0.1505\n",
            "Epoch 7/16000\n",
            " 88/100 [=========================>....] - ETA: 3s - loss: 1.9703 - acc: 0.2422"
          ],
          "name": "stdout"
        },
        {
          "output_type": "stream",
          "text": [
            " 99/100 [============================>.] - ETA: 0s - loss: 1.9441 - acc: 0.2432Epoch 00006: val_acc improved from 0.15047 to 0.15458, saving model to best_model_new.h5\n",
            "100/100 [==============================] - 61s - loss: 1.9404 - acc: 0.2431 - val_loss: 3.0854 - val_acc: 0.1546\n",
            "Epoch 8/16000\n",
            " 99/100 [============================>.] - ETA: 0s - loss: 1.8883 - acc: 0.2486Epoch 00007: val_acc improved from 0.15458 to 0.16494, saving model to best_model_new.h5\n",
            "100/100 [==============================] - 61s - loss: 1.8887 - acc: 0.2483 - val_loss: 3.0403 - val_acc: 0.1649\n",
            "Epoch 9/16000\n",
            " 88/100 [=========================>....] - ETA: 3s - loss: 1.8337 - acc: 0.2596"
          ],
          "name": "stdout"
        },
        {
          "output_type": "stream",
          "text": [
            " 99/100 [============================>.] - ETA: 0s - loss: 1.8300 - acc: 0.2592Epoch 00008: val_acc did not improve\n",
            "100/100 [==============================] - 59s - loss: 1.8275 - acc: 0.2592 - val_loss: 3.0554 - val_acc: 0.1558\n",
            "Epoch 10/16000\n",
            " 99/100 [============================>.] - ETA: 0s - loss: 2.0714 - acc: 0.2108Epoch 00009: val_acc improved from 0.16494 to 0.16951, saving model to best_model_new.h5\n",
            "100/100 [==============================] - 61s - loss: 2.0703 - acc: 0.2107 - val_loss: 2.9713 - val_acc: 0.1695\n",
            "Epoch 11/16000\n",
            " 99/100 [============================>.] - ETA: 0s - loss: 1.7573 - acc: 0.2710Epoch 00010: val_acc improved from 0.16951 to 0.19626, saving model to best_model_new.h5\n",
            "100/100 [==============================] - 61s - loss: 1.7564 - acc: 0.2712 - val_loss: 2.8858 - val_acc: 0.1963\n",
            "Epoch 12/16000\n",
            "  1/100 [..............................] - ETA: 31s - loss: 1.1812 - acc: 0.3300"
          ],
          "name": "stdout"
        },
        {
          "output_type": "stream",
          "text": [
            " 99/100 [============================>.] - ETA: 0s - loss: 1.6829 - acc: 0.2875Epoch 00011: val_acc improved from 0.19626 to 0.20294, saving model to best_model_new.h5\n",
            "100/100 [==============================] - 61s - loss: 1.6840 - acc: 0.2869 - val_loss: 2.8087 - val_acc: 0.2029\n",
            "Epoch 13/16000\n",
            " 99/100 [============================>.] - ETA: 0s - loss: 1.6765 - acc: 0.3025Epoch 00012: val_acc improved from 0.20294 to 0.21364, saving model to best_model_new.h5\n",
            "100/100 [==============================] - 61s - loss: 1.6758 - acc: 0.3022 - val_loss: 2.7832 - val_acc: 0.2136\n",
            "Epoch 14/16000\n",
            " 78/100 [======================>.......] - ETA: 7s - loss: 1.5152 - acc: 0.3132"
          ],
          "name": "stdout"
        },
        {
          "output_type": "stream",
          "text": [
            " 99/100 [============================>.] - ETA: 0s - loss: 1.5261 - acc: 0.3100Epoch 00013: val_acc did not improve\n",
            "100/100 [==============================] - 58s - loss: 1.5255 - acc: 0.3099 - val_loss: 2.7584 - val_acc: 0.2074\n",
            "Epoch 15/16000\n",
            " 99/100 [============================>.] - ETA: 0s - loss: 1.5235 - acc: 0.3237Epoch 00014: val_acc improved from 0.21364 to 0.22772, saving model to best_model_new.h5\n",
            "100/100 [==============================] - 61s - loss: 1.5313 - acc: 0.3229 - val_loss: 2.6864 - val_acc: 0.2277\n",
            "Epoch 16/16000\n",
            " 99/100 [============================>.] - ETA: 0s - loss: 1.5643 - acc: 0.3264Epoch 00015: val_acc improved from 0.22772 to 0.24524, saving model to best_model_new.h5\n",
            "100/100 [==============================] - 61s - loss: 1.5616 - acc: 0.3271 - val_loss: 2.6104 - val_acc: 0.2452\n",
            "Epoch 17/16000\n"
          ],
          "name": "stdout"
        },
        {
          "output_type": "stream",
          "text": [
            " 99/100 [============================>.] - ETA: 0s - loss: 1.3994 - acc: 0.3387Epoch 00016: val_acc improved from 0.24524 to 0.24984, saving model to best_model_new.h5\n",
            "100/100 [==============================] - 61s - loss: 1.3963 - acc: 0.3390 - val_loss: 2.5902 - val_acc: 0.2498\n",
            "Epoch 18/16000\n",
            " 99/100 [============================>.] - ETA: 0s - loss: 1.4331 - acc: 0.3365Epoch 00017: val_acc improved from 0.24984 to 0.25095, saving model to best_model_new.h5\n",
            "100/100 [==============================] - 61s - loss: 1.4355 - acc: 0.3367 - val_loss: 2.5668 - val_acc: 0.2509\n",
            "Epoch 19/16000\n",
            " 78/100 [======================>.......] - ETA: 7s - loss: 1.3291 - acc: 0.3585"
          ],
          "name": "stdout"
        },
        {
          "output_type": "stream",
          "text": [
            " 99/100 [============================>.] - ETA: 0s - loss: 1.3210 - acc: 0.3605Epoch 00018: val_acc improved from 0.25095 to 0.25716, saving model to best_model_new.h5\n",
            "100/100 [==============================] - 61s - loss: 1.3235 - acc: 0.3600 - val_loss: 2.4917 - val_acc: 0.2572\n",
            "Epoch 20/16000\n",
            " 99/100 [============================>.] - ETA: 0s - loss: 1.2393 - acc: 0.3739Epoch 00019: val_acc improved from 0.25716 to 0.26453, saving model to best_model_new.h5\n",
            "100/100 [==============================] - 61s - loss: 1.2437 - acc: 0.3734 - val_loss: 2.4961 - val_acc: 0.2645\n",
            "Epoch 21/16000\n",
            " 87/100 [=========================>....] - ETA: 4s - loss: 1.2826 - acc: 0.3682"
          ],
          "name": "stdout"
        },
        {
          "output_type": "stream",
          "text": [
            " 99/100 [============================>.] - ETA: 0s - loss: 1.2848 - acc: 0.3660Epoch 00020: val_acc improved from 0.26453 to 0.27056, saving model to best_model_new.h5\n",
            "100/100 [==============================] - 61s - loss: 1.2862 - acc: 0.3663 - val_loss: 2.5376 - val_acc: 0.2706\n",
            "Epoch 22/16000\n",
            " 99/100 [============================>.] - ETA: 0s - loss: 1.2627 - acc: 0.3682Epoch 00021: val_acc improved from 0.27056 to 0.28051, saving model to best_model_new.h5\n",
            "100/100 [==============================] - 61s - loss: 1.2592 - acc: 0.3689 - val_loss: 2.4458 - val_acc: 0.2805\n",
            "Epoch 23/16000\n",
            " 88/100 [=========================>....] - ETA: 3s - loss: 1.2270 - acc: 0.3873"
          ],
          "name": "stdout"
        },
        {
          "output_type": "stream",
          "text": [
            " 99/100 [============================>.] - ETA: 0s - loss: 1.2280 - acc: 0.3873Epoch 00022: val_acc improved from 0.28051 to 0.29665, saving model to best_model_new.h5\n",
            "100/100 [==============================] - 60s - loss: 1.2278 - acc: 0.3868 - val_loss: 2.3480 - val_acc: 0.2966\n",
            "Epoch 24/16000\n",
            " 99/100 [============================>.] - ETA: 0s - loss: 1.1233 - acc: 0.4027Epoch 00023: val_acc improved from 0.29665 to 0.30382, saving model to best_model_new.h5\n",
            "100/100 [==============================] - 60s - loss: 1.1271 - acc: 0.4019 - val_loss: 2.3385 - val_acc: 0.3038\n",
            "Epoch 25/16000\n",
            " 88/100 [=========================>....] - ETA: 3s - loss: 1.1130 - acc: 0.4001"
          ],
          "name": "stdout"
        },
        {
          "output_type": "stream",
          "text": [
            " 99/100 [============================>.] - ETA: 0s - loss: 1.1188 - acc: 0.4001Epoch 00024: val_acc did not improve\n",
            "100/100 [==============================] - 58s - loss: 1.1139 - acc: 0.4004 - val_loss: 2.3597 - val_acc: 0.3012\n",
            "Epoch 26/16000\n",
            " 99/100 [============================>.] - ETA: 0s - loss: 1.2089 - acc: 0.3900Epoch 00025: val_acc did not improve\n",
            "100/100 [==============================] - 58s - loss: 1.2162 - acc: 0.3892 - val_loss: 2.4227 - val_acc: 0.2772\n",
            "Epoch 27/16000\n",
            " 99/100 [============================>.] - ETA: 0s - loss: 1.2069 - acc: 0.3822Epoch 00026: val_acc improved from 0.30382 to 0.31675, saving model to best_model_new.h5\n",
            "100/100 [==============================] - 60s - loss: 1.2060 - acc: 0.3826 - val_loss: 2.2812 - val_acc: 0.3167\n",
            "Epoch 28/16000\n",
            "  8/100 [=>............................] - ETA: 29s - loss: 0.9239 - acc: 0.4279"
          ],
          "name": "stdout"
        },
        {
          "output_type": "stream",
          "text": [
            " 99/100 [============================>.] - ETA: 0s - loss: 1.0571 - acc: 0.4141Epoch 00027: val_acc improved from 0.31675 to 0.32638, saving model to best_model_new.h5\n",
            "100/100 [==============================] - 61s - loss: 1.0524 - acc: 0.4148 - val_loss: 2.1970 - val_acc: 0.3264\n",
            "Epoch 29/16000\n",
            " 99/100 [============================>.] - ETA: 0s - loss: 1.0564 - acc: 0.4201Epoch 00028: val_acc improved from 0.32638 to 0.33263, saving model to best_model_new.h5\n",
            "100/100 [==============================] - 61s - loss: 1.0610 - acc: 0.4201 - val_loss: 2.1812 - val_acc: 0.3326\n",
            "Epoch 30/16000\n",
            " 79/100 [======================>.......] - ETA: 6s - loss: 0.9814 - acc: 0.4292"
          ],
          "name": "stdout"
        },
        {
          "output_type": "stream",
          "text": [
            " 99/100 [============================>.] - ETA: 0s - loss: 1.0006 - acc: 0.4295Epoch 00029: val_acc did not improve\n",
            "100/100 [==============================] - 59s - loss: 1.0003 - acc: 0.4297 - val_loss: 2.1602 - val_acc: 0.3282\n",
            "Epoch 31/16000\n",
            " 99/100 [============================>.] - ETA: 0s - loss: 0.9607 - acc: 0.4281Epoch 00030: val_acc improved from 0.33263 to 0.33453, saving model to best_model_new.h5\n",
            "100/100 [==============================] - 60s - loss: 0.9603 - acc: 0.4284 - val_loss: 2.1257 - val_acc: 0.3345\n",
            "Epoch 32/16000\n",
            " 99/100 [============================>.] - ETA: 0s - loss: 0.8921 - acc: 0.4469Epoch 00031: val_acc improved from 0.33453 to 0.34231, saving model to best_model_new.h5\n",
            "100/100 [==============================] - 60s - loss: 0.8898 - acc: 0.4468 - val_loss: 2.1474 - val_acc: 0.3423\n",
            "Epoch 33/16000\n"
          ],
          "name": "stdout"
        },
        {
          "output_type": "stream",
          "text": [
            " 99/100 [============================>.] - ETA: 0s - loss: 0.9098 - acc: 0.4364Epoch 00032: val_acc did not improve\n",
            "100/100 [==============================] - 58s - loss: 0.9054 - acc: 0.4371 - val_loss: 2.1294 - val_acc: 0.3365\n",
            "Epoch 34/16000\n",
            " 99/100 [============================>.] - ETA: 0s - loss: 0.9215 - acc: 0.4384Epoch 00033: val_acc did not improve\n",
            "100/100 [==============================] - 59s - loss: 0.9193 - acc: 0.4384 - val_loss: 2.0733 - val_acc: 0.3373\n",
            "Epoch 35/16000\n",
            " 99/100 [============================>.] - ETA: 0s - loss: 0.8269 - acc: 0.4570Epoch 00034: val_acc improved from 0.34231 to 0.34379, saving model to best_model_new.h5\n",
            "100/100 [==============================] - 61s - loss: 0.8275 - acc: 0.4567 - val_loss: 2.0367 - val_acc: 0.3438\n",
            "Epoch 36/16000\n"
          ],
          "name": "stdout"
        },
        {
          "output_type": "stream",
          "text": [
            " 99/100 [============================>.] - ETA: 0s - loss: 0.8198 - acc: 0.4556Epoch 00035: val_acc improved from 0.34379 to 0.34567, saving model to best_model_new.h5\n",
            "100/100 [==============================] - 60s - loss: 0.8220 - acc: 0.4552 - val_loss: 2.0025 - val_acc: 0.3457\n",
            "Epoch 37/16000\n",
            " 99/100 [============================>.] - ETA: 0s - loss: 0.8658 - acc: 0.4497Epoch 00036: val_acc improved from 0.34567 to 0.35261, saving model to best_model_new.h5\n",
            "100/100 [==============================] - 60s - loss: 0.8676 - acc: 0.4493 - val_loss: 2.0029 - val_acc: 0.3526\n",
            "Epoch 38/16000\n",
            " 78/100 [======================>.......] - ETA: 7s - loss: 0.8384 - acc: 0.4522"
          ],
          "name": "stdout"
        },
        {
          "output_type": "stream",
          "text": [
            " 99/100 [============================>.] - ETA: 0s - loss: 0.8016 - acc: 0.4534Epoch 00037: val_acc did not improve\n",
            "100/100 [==============================] - 58s - loss: 0.8013 - acc: 0.4538 - val_loss: 2.0048 - val_acc: 0.3459\n",
            "Epoch 39/16000\n",
            " 99/100 [============================>.] - ETA: 0s - loss: 0.7962 - acc: 0.4541Epoch 00038: val_acc improved from 0.35261 to 0.35715, saving model to best_model_new.h5\n",
            "100/100 [==============================] - 60s - loss: 0.7976 - acc: 0.4542 - val_loss: 1.9259 - val_acc: 0.3572\n",
            "Epoch 40/16000\n",
            " 99/100 [============================>.] - ETA: 0s - loss: 0.7651 - acc: 0.4669Epoch 00039: val_acc improved from 0.35715 to 0.36537, saving model to best_model_new.h5\n",
            "100/100 [==============================] - 61s - loss: 0.7635 - acc: 0.4673 - val_loss: 1.9470 - val_acc: 0.3654\n",
            "Epoch 41/16000\n"
          ],
          "name": "stdout"
        },
        {
          "output_type": "stream",
          "text": [
            " 99/100 [============================>.] - ETA: 0s - loss: 0.7460 - acc: 0.4603Epoch 00040: val_acc improved from 0.36537 to 0.36766, saving model to best_model_new.h5\n",
            "100/100 [==============================] - 61s - loss: 0.7440 - acc: 0.4613 - val_loss: 1.8997 - val_acc: 0.3677\n",
            "Epoch 42/16000\n",
            " 99/100 [============================>.] - ETA: 0s - loss: 0.7603 - acc: 0.4764Epoch 00041: val_acc improved from 0.36766 to 0.37029, saving model to best_model_new.h5\n",
            "100/100 [==============================] - 60s - loss: 0.7620 - acc: 0.4753 - val_loss: 1.9103 - val_acc: 0.3703\n",
            "Epoch 43/16000\n",
            " 78/100 [======================>.......] - ETA: 7s - loss: 0.7308 - acc: 0.4744"
          ],
          "name": "stdout"
        },
        {
          "output_type": "stream",
          "text": [
            " 99/100 [============================>.] - ETA: 0s - loss: 0.7672 - acc: 0.4695Epoch 00042: val_acc improved from 0.37029 to 0.37939, saving model to best_model_new.h5\n",
            "100/100 [==============================] - 60s - loss: 0.7719 - acc: 0.4691 - val_loss: 1.8526 - val_acc: 0.3794\n",
            "Epoch 44/16000\n",
            " 99/100 [============================>.] - ETA: 0s - loss: 0.8142 - acc: 0.4676Epoch 00043: val_acc did not improve\n",
            "100/100 [==============================] - 58s - loss: 0.8129 - acc: 0.4681 - val_loss: 1.8862 - val_acc: 0.3659\n",
            "Epoch 45/16000\n",
            " 95/100 [===========================>..] - ETA: 1s - loss: 0.9857 - acc: 0.3932"
          ],
          "name": "stdout"
        },
        {
          "output_type": "stream",
          "text": [
            " 99/100 [============================>.] - ETA: 0s - loss: 0.9808 - acc: 0.3934Epoch 00044: val_acc did not improve\n",
            "100/100 [==============================] - 58s - loss: 0.9780 - acc: 0.3944 - val_loss: 2.0351 - val_acc: 0.3285\n",
            "Epoch 46/16000\n",
            " 99/100 [============================>.] - ETA: 0s - loss: 0.8132 - acc: 0.4547Epoch 00045: val_acc did not improve\n",
            "100/100 [==============================] - 58s - loss: 0.8121 - acc: 0.4551 - val_loss: 1.9329 - val_acc: 0.3639\n",
            "Epoch 47/16000\n",
            " 99/100 [============================>.] - ETA: 0s - loss: 0.7662 - acc: 0.4626Epoch 00046: val_acc did not improve\n",
            "100/100 [==============================] - 58s - loss: 0.7654 - acc: 0.4625 - val_loss: 1.8196 - val_acc: 0.3782\n",
            "Epoch 48/16000\n",
            " 10/100 [==>...........................] - ETA: 29s - loss: 0.5415 - acc: 0.5020"
          ],
          "name": "stdout"
        },
        {
          "output_type": "stream",
          "text": [
            " 99/100 [============================>.] - ETA: 0s - loss: 0.7276 - acc: 0.4742Epoch 00047: val_acc improved from 0.37939 to 0.38213, saving model to best_model_new.h5\n",
            "100/100 [==============================] - 61s - loss: 0.7229 - acc: 0.4746 - val_loss: 1.8165 - val_acc: 0.3821\n",
            "Epoch 49/16000\n",
            " 99/100 [============================>.] - ETA: 0s - loss: 0.6670 - acc: 0.4846Epoch 00048: val_acc improved from 0.38213 to 0.38640, saving model to best_model_new.h5\n",
            "100/100 [==============================] - 61s - loss: 0.6682 - acc: 0.4841 - val_loss: 1.8241 - val_acc: 0.3864\n",
            "Epoch 50/16000\n",
            " 79/100 [======================>.......] - ETA: 6s - loss: 0.6636 - acc: 0.4891"
          ],
          "name": "stdout"
        },
        {
          "output_type": "stream",
          "text": [
            " 99/100 [============================>.] - ETA: 0s - loss: 0.6691 - acc: 0.4861Epoch 00049: val_acc did not improve\n",
            "100/100 [==============================] - 58s - loss: 0.6678 - acc: 0.4866 - val_loss: 1.8441 - val_acc: 0.3727\n",
            "Epoch 51/16000\n",
            " 99/100 [============================>.] - ETA: 0s - loss: 0.6135 - acc: 0.4959Epoch 00050: val_acc did not improve\n",
            "100/100 [==============================] - 59s - loss: 0.6092 - acc: 0.4960 - val_loss: 1.8025 - val_acc: 0.3795\n",
            "Epoch 52/16000\n",
            " 99/100 [============================>.] - ETA: 0s - loss: 0.6838 - acc: 0.4869Epoch 00051: val_acc improved from 0.38640 to 0.39846, saving model to best_model_new.h5\n",
            "100/100 [==============================] - 61s - loss: 0.6839 - acc: 0.4865 - val_loss: 1.7003 - val_acc: 0.3985\n",
            "Epoch 53/16000\n",
            "  7/100 [=>............................] - ETA: 30s - loss: 0.6838 - acc: 0.5000"
          ],
          "name": "stdout"
        },
        {
          "output_type": "stream",
          "text": [
            " 99/100 [============================>.] - ETA: 0s - loss: 0.6230 - acc: 0.4923Epoch 00052: val_acc improved from 0.39846 to 0.40019, saving model to best_model_new.h5\n",
            "100/100 [==============================] - 61s - loss: 0.6239 - acc: 0.4930 - val_loss: 1.7165 - val_acc: 0.4002\n",
            "Epoch 54/16000\n",
            " 99/100 [============================>.] - ETA: 0s - loss: 0.5915 - acc: 0.5037Epoch 00053: val_acc did not improve\n",
            "100/100 [==============================] - 59s - loss: 0.5888 - acc: 0.5037 - val_loss: 1.7363 - val_acc: 0.3947\n",
            "Epoch 55/16000\n",
            " 86/100 [========================>.....] - ETA: 4s - loss: 0.5828 - acc: 0.5055"
          ],
          "name": "stdout"
        },
        {
          "output_type": "stream",
          "text": [
            " 99/100 [============================>.] - ETA: 0s - loss: 0.5828 - acc: 0.5041Epoch 00054: val_acc did not improve\n",
            "100/100 [==============================] - 59s - loss: 0.5827 - acc: 0.5044 - val_loss: 1.6898 - val_acc: 0.3930\n",
            "Epoch 56/16000\n",
            " 99/100 [============================>.] - ETA: 0s - loss: 0.6254 - acc: 0.4953Epoch 00055: val_acc improved from 0.40019 to 0.40238, saving model to best_model_new.h5\n",
            "100/100 [==============================] - 61s - loss: 0.6221 - acc: 0.4962 - val_loss: 1.6932 - val_acc: 0.4024\n",
            "Epoch 57/16000\n",
            " 99/100 [============================>.] - ETA: 0s - loss: 0.5812 - acc: 0.5023Epoch 00056: val_acc improved from 0.40238 to 0.40667, saving model to best_model_new.h5\n",
            "100/100 [==============================] - 61s - loss: 0.5820 - acc: 0.5013 - val_loss: 1.7067 - val_acc: 0.4067\n",
            "Epoch 58/16000\n",
            "  1/100 [..............................] - ETA: 30s - loss: 0.5410 - acc: 0.4733"
          ],
          "name": "stdout"
        },
        {
          "output_type": "stream",
          "text": [
            " 99/100 [============================>.] - ETA: 0s - loss: 0.6051 - acc: 0.4984Epoch 00057: val_acc did not improve\n",
            "100/100 [==============================] - 59s - loss: 0.6023 - acc: 0.4983 - val_loss: 1.6784 - val_acc: 0.4054\n",
            "Epoch 59/16000\n",
            " 99/100 [============================>.] - ETA: 0s - loss: 0.6847 - acc: 0.4769Epoch 00058: val_acc did not improve\n",
            "100/100 [==============================] - 59s - loss: 0.6827 - acc: 0.4767 - val_loss: 1.6983 - val_acc: 0.4040\n",
            "Epoch 60/16000\n",
            " 99/100 [============================>.] - ETA: 0s - loss: 0.5918 - acc: 0.5004Epoch 00059: val_acc improved from 0.40667 to 0.41093, saving model to best_model_new.h5\n",
            "100/100 [==============================] - 61s - loss: 0.5914 - acc: 0.5005 - val_loss: 1.6880 - val_acc: 0.4109\n",
            "Epoch 61/16000\n"
          ],
          "name": "stdout"
        },
        {
          "output_type": "stream",
          "text": [
            " 99/100 [============================>.] - ETA: 0s - loss: 0.5832 - acc: 0.4975Epoch 00060: val_acc improved from 0.41093 to 0.41294, saving model to best_model_new.h5\n",
            "100/100 [==============================] - 61s - loss: 0.5809 - acc: 0.4979 - val_loss: 1.6515 - val_acc: 0.4129\n",
            "Epoch 62/16000\n",
            " 99/100 [============================>.] - ETA: 0s - loss: 0.5678 - acc: 0.5012Epoch 00061: val_acc improved from 0.41294 to 0.41821, saving model to best_model_new.h5\n",
            "100/100 [==============================] - 61s - loss: 0.5706 - acc: 0.5004 - val_loss: 1.6763 - val_acc: 0.4182\n",
            "Epoch 63/16000\n",
            " 78/100 [======================>.......] - ETA: 7s - loss: 0.5428 - acc: 0.5157"
          ],
          "name": "stdout"
        },
        {
          "output_type": "stream",
          "text": [
            " 99/100 [============================>.] - ETA: 0s - loss: 0.5355 - acc: 0.5166Epoch 00062: val_acc did not improve\n",
            "100/100 [==============================] - 59s - loss: 0.5354 - acc: 0.5166 - val_loss: 1.6699 - val_acc: 0.4062\n",
            "Epoch 64/16000\n",
            " 99/100 [============================>.] - ETA: 0s - loss: 0.5086 - acc: 0.5207Epoch 00063: val_acc improved from 0.41821 to 0.41827, saving model to best_model_new.h5\n",
            "100/100 [==============================] - 61s - loss: 0.5117 - acc: 0.5202 - val_loss: 1.6170 - val_acc: 0.4183\n",
            "Epoch 65/16000\n",
            " 99/100 [============================>.] - ETA: 0s - loss: 0.5471 - acc: 0.5191Epoch 00064: val_acc did not improve\n",
            "100/100 [==============================] - 59s - loss: 0.5440 - acc: 0.5182 - val_loss: 1.5977 - val_acc: 0.4145\n",
            "Epoch 66/16000\n",
            "  1/100 [..............................] - ETA: 32s - loss: 0.4372 - acc: 0.5433"
          ],
          "name": "stdout"
        },
        {
          "output_type": "stream",
          "text": [
            " 99/100 [============================>.] - ETA: 0s - loss: 0.5088 - acc: 0.5135Epoch 00065: val_acc improved from 0.41827 to 0.42043, saving model to best_model_new.h5\n",
            "100/100 [==============================] - 61s - loss: 0.5103 - acc: 0.5133 - val_loss: 1.6009 - val_acc: 0.4204\n",
            "Epoch 67/16000\n",
            " 99/100 [============================>.] - ETA: 0s - loss: 0.5298 - acc: 0.5169Epoch 00066: val_acc improved from 0.42043 to 0.42548, saving model to best_model_new.h5\n",
            "100/100 [==============================] - 61s - loss: 0.5265 - acc: 0.5170 - val_loss: 1.6055 - val_acc: 0.4255\n",
            "Epoch 68/16000\n",
            " 78/100 [======================>.......] - ETA: 7s - loss: 0.5614 - acc: 0.5146"
          ],
          "name": "stdout"
        },
        {
          "output_type": "stream",
          "text": [
            " 99/100 [============================>.] - ETA: 0s - loss: 0.5586 - acc: 0.5089Epoch 00067: val_acc did not improve\n",
            "100/100 [==============================] - 59s - loss: 0.5576 - acc: 0.5097 - val_loss: 1.5662 - val_acc: 0.4249\n",
            "Epoch 69/16000\n",
            " 99/100 [============================>.] - ETA: 0s - loss: 0.4736 - acc: 0.5272Epoch 00068: val_acc improved from 0.42548 to 0.43241, saving model to best_model_new.h5\n",
            "100/100 [==============================] - 61s - loss: 0.4764 - acc: 0.5272 - val_loss: 1.5734 - val_acc: 0.4324\n",
            "Epoch 70/16000\n",
            " 99/100 [============================>.] - ETA: 0s - loss: 0.5270 - acc: 0.5094Epoch 00069: val_acc did not improve\n",
            "100/100 [==============================] - 59s - loss: 0.5289 - acc: 0.5092 - val_loss: 1.5901 - val_acc: 0.4295\n",
            "Epoch 71/16000\n",
            "  1/100 [..............................] - ETA: 31s - loss: 0.2993 - acc: 0.5833"
          ],
          "name": "stdout"
        },
        {
          "output_type": "stream",
          "text": [
            " 99/100 [============================>.] - ETA: 0s - loss: 0.4872 - acc: 0.5217Epoch 00070: val_acc improved from 0.43241 to 0.43809, saving model to best_model_new.h5\n",
            "100/100 [==============================] - 61s - loss: 0.4867 - acc: 0.5217 - val_loss: 1.5190 - val_acc: 0.4381\n",
            "Epoch 72/16000\n",
            " 99/100 [============================>.] - ETA: 0s - loss: 0.4479 - acc: 0.5311Epoch 00071: val_acc improved from 0.43809 to 0.43869, saving model to best_model_new.h5\n",
            "100/100 [==============================] - 61s - loss: 0.4461 - acc: 0.5312 - val_loss: 1.5029 - val_acc: 0.4387\n",
            "Epoch 73/16000\n",
            " 78/100 [======================>.......] - ETA: 7s - loss: 0.4599 - acc: 0.5261"
          ],
          "name": "stdout"
        },
        {
          "output_type": "stream",
          "text": [
            " 99/100 [============================>.] - ETA: 0s - loss: 0.4570 - acc: 0.5274Epoch 00072: val_acc did not improve\n",
            "100/100 [==============================] - 59s - loss: 0.4555 - acc: 0.5272 - val_loss: 1.6087 - val_acc: 0.4204\n",
            "Epoch 74/16000\n",
            " 99/100 [============================>.] - ETA: 0s - loss: 0.4853 - acc: 0.5247Epoch 00073: val_acc did not improve\n",
            "100/100 [==============================] - 59s - loss: 0.4848 - acc: 0.5243 - val_loss: 1.5913 - val_acc: 0.4229\n",
            "Epoch 75/16000\n",
            " 99/100 [============================>.] - ETA: 0s - loss: 0.5013 - acc: 0.5192Epoch 00074: val_acc improved from 0.43869 to 0.44684, saving model to best_model_new.h5\n",
            "100/100 [==============================] - 61s - loss: 0.5003 - acc: 0.5190 - val_loss: 1.4755 - val_acc: 0.4468\n",
            "Epoch 76/16000\n",
            "  7/100 [=>............................] - ETA: 30s - loss: 0.4604 - acc: 0.5295"
          ],
          "name": "stdout"
        },
        {
          "output_type": "stream",
          "text": [
            " 99/100 [============================>.] - ETA: 0s - loss: 0.4982 - acc: 0.5231Epoch 00075: val_acc did not improve\n",
            "100/100 [==============================] - 59s - loss: 0.4957 - acc: 0.5239 - val_loss: 1.5072 - val_acc: 0.4466\n",
            "Epoch 77/16000\n",
            " 99/100 [============================>.] - ETA: 0s - loss: 0.4739 - acc: 0.5211Epoch 00076: val_acc improved from 0.44684 to 0.45064, saving model to best_model_new.h5\n",
            "100/100 [==============================] - 61s - loss: 0.4722 - acc: 0.5217 - val_loss: 1.4637 - val_acc: 0.4506\n",
            "Epoch 78/16000\n",
            " 94/100 [===========================>..] - ETA: 1s - loss: 0.4392 - acc: 0.5301"
          ],
          "name": "stdout"
        },
        {
          "output_type": "stream",
          "text": [
            " 99/100 [============================>.] - ETA: 0s - loss: 0.4329 - acc: 0.5311Epoch 00077: val_acc did not improve\n",
            "100/100 [==============================] - 58s - loss: 0.4330 - acc: 0.5310 - val_loss: 1.4851 - val_acc: 0.4458\n",
            "Epoch 79/16000\n",
            " 99/100 [============================>.] - ETA: 0s - loss: 0.4359 - acc: 0.5344Epoch 00078: val_acc did not improve\n",
            "100/100 [==============================] - 58s - loss: 0.4363 - acc: 0.5346 - val_loss: 1.4444 - val_acc: 0.4418\n",
            "Epoch 80/16000\n",
            " 99/100 [============================>.] - ETA: 0s - loss: 0.4886 - acc: 0.5232Epoch 00079: val_acc did not improve\n",
            "100/100 [==============================] - 59s - loss: 0.4956 - acc: 0.5219 - val_loss: 1.5067 - val_acc: 0.4350\n",
            "Epoch 81/16000\n",
            " 10/100 [==>...........................] - ETA: 28s - loss: 0.3211 - acc: 0.5543"
          ],
          "name": "stdout"
        },
        {
          "output_type": "stream",
          "text": [
            " 99/100 [============================>.] - ETA: 0s - loss: 0.4373 - acc: 0.5280Epoch 00080: val_acc did not improve\n",
            "100/100 [==============================] - 58s - loss: 0.4428 - acc: 0.5267 - val_loss: 1.5406 - val_acc: 0.4203\n",
            "Epoch 82/16000\n",
            " 99/100 [============================>.] - ETA: 0s - loss: 0.4989 - acc: 0.5136Epoch 00081: val_acc did not improve\n",
            "100/100 [==============================] - 59s - loss: 0.4998 - acc: 0.5137 - val_loss: 1.4923 - val_acc: 0.4347\n",
            "Epoch 83/16000\n",
            " 99/100 [============================>.] - ETA: 0s - loss: 0.4440 - acc: 0.5368Epoch 00082: val_acc did not improve\n",
            "100/100 [==============================] - 59s - loss: 0.4433 - acc: 0.5360 - val_loss: 1.4633 - val_acc: 0.4395\n",
            "Epoch 84/16000\n",
            "  2/100 [..............................] - ETA: 31s - loss: 0.6785 - acc: 0.5283"
          ],
          "name": "stdout"
        },
        {
          "output_type": "stream",
          "text": [
            " 99/100 [============================>.] - ETA: 0s - loss: 0.4590 - acc: 0.5309Epoch 00083: val_acc did not improve\n",
            "100/100 [==============================] - 58s - loss: 0.4595 - acc: 0.5311 - val_loss: 1.4510 - val_acc: 0.4489\n",
            "Epoch 85/16000\n",
            " 99/100 [============================>.] - ETA: 0s - loss: 0.4421 - acc: 0.5344Epoch 00084: val_acc did not improve\n",
            "100/100 [==============================] - 59s - loss: 0.4400 - acc: 0.5345 - val_loss: 1.4751 - val_acc: 0.4446\n",
            "Epoch 86/16000\n",
            " 99/100 [============================>.] - ETA: 0s - loss: 0.3907 - acc: 0.5455Epoch 00085: val_acc did not improve\n",
            "100/100 [==============================] - 59s - loss: 0.3893 - acc: 0.5459 - val_loss: 1.4492 - val_acc: 0.4486\n",
            "Epoch 87/16000\n",
            "  1/100 [..............................] - ETA: 31s - loss: 0.1865 - acc: 0.5900"
          ],
          "name": "stdout"
        },
        {
          "output_type": "stream",
          "text": [
            " 99/100 [============================>.] - ETA: 0s - loss: 0.3884 - acc: 0.5397Epoch 00086: val_acc improved from 0.45064 to 0.45548, saving model to best_model_new.h5\n",
            "100/100 [==============================] - 61s - loss: 0.3902 - acc: 0.5391 - val_loss: 1.4564 - val_acc: 0.4555\n",
            "Epoch 88/16000\n",
            " 99/100 [============================>.] - ETA: 0s - loss: 0.3822 - acc: 0.5351Epoch 00087: val_acc improved from 0.45548 to 0.46085, saving model to best_model_new.h5\n",
            "100/100 [==============================] - 61s - loss: 0.3789 - acc: 0.5355 - val_loss: 1.4006 - val_acc: 0.4609\n",
            "Epoch 89/16000\n",
            " 78/100 [======================>.......] - ETA: 7s - loss: 0.3914 - acc: 0.5313"
          ],
          "name": "stdout"
        },
        {
          "output_type": "stream",
          "text": [
            " 99/100 [============================>.] - ETA: 0s - loss: 0.3825 - acc: 0.5346Epoch 00088: val_acc did not improve\n",
            "100/100 [==============================] - 59s - loss: 0.3847 - acc: 0.5340 - val_loss: 1.4162 - val_acc: 0.4593\n",
            "Epoch 90/16000\n",
            " 99/100 [============================>.] - ETA: 0s - loss: 0.3826 - acc: 0.5486Epoch 00089: val_acc improved from 0.46085 to 0.46617, saving model to best_model_new.h5\n",
            "100/100 [==============================] - 61s - loss: 0.3813 - acc: 0.5482 - val_loss: 1.4130 - val_acc: 0.4662\n",
            "Epoch 91/16000\n",
            " 99/100 [============================>.] - ETA: 0s - loss: 0.3978 - acc: 0.5482Epoch 00090: val_acc did not improve\n",
            "100/100 [==============================] - 59s - loss: 0.3985 - acc: 0.5476 - val_loss: 1.3847 - val_acc: 0.4647\n",
            "Epoch 92/16000\n",
            "  1/100 [..............................] - ETA: 31s - loss: 0.2282 - acc: 0.6700"
          ],
          "name": "stdout"
        },
        {
          "output_type": "stream",
          "text": [
            " 99/100 [============================>.] - ETA: 0s - loss: 0.3768 - acc: 0.5468Epoch 00091: val_acc improved from 0.46617 to 0.47323, saving model to best_model_new.h5\n",
            "100/100 [==============================] - 61s - loss: 0.3779 - acc: 0.5469 - val_loss: 1.3602 - val_acc: 0.4732\n",
            "Epoch 93/16000\n",
            " 99/100 [============================>.] - ETA: 0s - loss: 0.3672 - acc: 0.5464Epoch 00092: val_acc did not improve\n",
            "100/100 [==============================] - 59s - loss: 0.3655 - acc: 0.5472 - val_loss: 1.3815 - val_acc: 0.4695\n",
            "Epoch 94/16000\n",
            " 85/100 [========================>.....] - ETA: 4s - loss: 0.3447 - acc: 0.5523"
          ],
          "name": "stdout"
        },
        {
          "output_type": "stream",
          "text": [
            " 99/100 [============================>.] - ETA: 0s - loss: 0.3456 - acc: 0.5512Epoch 00093: val_acc did not improve\n",
            "100/100 [==============================] - 59s - loss: 0.3458 - acc: 0.5506 - val_loss: 1.3685 - val_acc: 0.4726\n",
            "Epoch 95/16000\n",
            " 99/100 [============================>.] - ETA: 0s - loss: 0.3646 - acc: 0.5425Epoch 00094: val_acc did not improve\n",
            "100/100 [==============================] - 59s - loss: 0.3615 - acc: 0.5432 - val_loss: 1.3758 - val_acc: 0.4643\n",
            "Epoch 96/16000\n",
            " 99/100 [============================>.] - ETA: 0s - loss: 0.3638 - acc: 0.5486Epoch 00095: val_acc improved from 0.47323 to 0.47503, saving model to best_model_new.h5\n",
            "100/100 [==============================] - 61s - loss: 0.3620 - acc: 0.5483 - val_loss: 1.3468 - val_acc: 0.4750\n",
            "Epoch 97/16000\n",
            "  8/100 [=>............................] - ETA: 29s - loss: 0.4130 - acc: 0.5283"
          ],
          "name": "stdout"
        },
        {
          "output_type": "stream",
          "text": [
            " 99/100 [============================>.] - ETA: 0s - loss: 0.3402 - acc: 0.5465Epoch 00096: val_acc did not improve\n",
            "100/100 [==============================] - 59s - loss: 0.3392 - acc: 0.5458 - val_loss: 1.3812 - val_acc: 0.4641\n",
            "Epoch 98/16000\n",
            " 99/100 [============================>.] - ETA: 0s - loss: 0.3607 - acc: 0.5499Epoch 00097: val_acc did not improve\n",
            "100/100 [==============================] - 59s - loss: 0.3652 - acc: 0.5491 - val_loss: 1.3420 - val_acc: 0.4710\n",
            "Epoch 99/16000\n",
            " 99/100 [============================>.] - ETA: 0s - loss: 0.3599 - acc: 0.5532Epoch 00098: val_acc did not improve\n",
            "100/100 [==============================] - 59s - loss: 0.3599 - acc: 0.5529 - val_loss: 1.3962 - val_acc: 0.4719\n",
            "Epoch 100/16000\n",
            "  1/100 [..............................] - ETA: 32s - loss: 0.3229 - acc: 0.6633"
          ],
          "name": "stdout"
        },
        {
          "output_type": "stream",
          "text": [
            " 99/100 [============================>.] - ETA: 0s - loss: 0.3424 - acc: 0.5557Epoch 00099: val_acc did not improve\n",
            "100/100 [==============================] - 59s - loss: 0.3396 - acc: 0.5558 - val_loss: 1.3360 - val_acc: 0.4729\n",
            "Epoch 101/16000\n",
            " 99/100 [============================>.] - ETA: 0s - loss: 0.3230 - acc: 0.5583Epoch 00100: val_acc improved from 0.47503 to 0.47579, saving model to best_model_new.h5\n",
            "100/100 [==============================] - 61s - loss: 0.3213 - acc: 0.5593 - val_loss: 1.3883 - val_acc: 0.4758\n",
            "Epoch 102/16000\n",
            " 93/100 [==========================>...] - ETA: 2s - loss: 0.3359 - acc: 0.5486"
          ],
          "name": "stdout"
        },
        {
          "output_type": "stream",
          "text": [
            " 99/100 [============================>.] - ETA: 0s - loss: 0.3294 - acc: 0.5487Epoch 00101: val_acc did not improve\n",
            "100/100 [==============================] - 59s - loss: 0.3283 - acc: 0.5499 - val_loss: 1.3655 - val_acc: 0.4750\n",
            "Epoch 103/16000\n",
            " 99/100 [============================>.] - ETA: 0s - loss: 0.3508 - acc: 0.5496Epoch 00102: val_acc improved from 0.47579 to 0.48457, saving model to best_model_new.h5\n",
            "100/100 [==============================] - 61s - loss: 0.3506 - acc: 0.5500 - val_loss: 1.3267 - val_acc: 0.4846\n",
            "Epoch 104/16000\n",
            " 99/100 [============================>.] - ETA: 0s - loss: 0.3491 - acc: 0.5528Epoch 00103: val_acc did not improve\n",
            "100/100 [==============================] - 58s - loss: 0.3480 - acc: 0.5536 - val_loss: 1.2903 - val_acc: 0.4808\n",
            "Epoch 105/16000\n",
            "  2/100 [..............................] - ETA: 31s - loss: 0.3981 - acc: 0.5817"
          ],
          "name": "stdout"
        },
        {
          "output_type": "stream",
          "text": [
            " 99/100 [============================>.] - ETA: 0s - loss: 0.3177 - acc: 0.5608Epoch 00104: val_acc did not improve\n",
            "100/100 [==============================] - 58s - loss: 0.3186 - acc: 0.5606 - val_loss: 1.2928 - val_acc: 0.4818\n",
            "Epoch 106/16000\n",
            " 99/100 [============================>.] - ETA: 0s - loss: 0.3881 - acc: 0.5379Epoch 00105: val_acc did not improve\n",
            "100/100 [==============================] - 59s - loss: 0.3908 - acc: 0.5378 - val_loss: 1.3126 - val_acc: 0.4788\n",
            "Epoch 107/16000\n",
            " 99/100 [============================>.] - ETA: 0s - loss: 0.3476 - acc: 0.5461Epoch 00106: val_acc did not improve\n",
            "100/100 [==============================] - 59s - loss: 0.3510 - acc: 0.5457 - val_loss: 1.2904 - val_acc: 0.4757\n",
            "Epoch 108/16000\n"
          ],
          "name": "stdout"
        },
        {
          "output_type": "stream",
          "text": [
            " 99/100 [============================>.] - ETA: 0s - loss: 0.3472 - acc: 0.5552Epoch 00107: val_acc did not improve\n",
            "100/100 [==============================] - 59s - loss: 0.3473 - acc: 0.5554 - val_loss: 1.3395 - val_acc: 0.4758\n",
            "Epoch 109/16000\n",
            " 99/100 [============================>.] - ETA: 0s - loss: 0.3310 - acc: 0.5512Epoch 00108: val_acc improved from 0.48457 to 0.48775, saving model to best_model_new.h5\n",
            "100/100 [==============================] - 61s - loss: 0.3319 - acc: 0.5508 - val_loss: 1.3000 - val_acc: 0.4878\n",
            "Epoch 110/16000\n",
            " 93/100 [==========================>...] - ETA: 2s - loss: 0.3364 - acc: 0.5510"
          ],
          "name": "stdout"
        },
        {
          "output_type": "stream",
          "text": [
            " 99/100 [============================>.] - ETA: 0s - loss: 0.3354 - acc: 0.5509Epoch 00109: val_acc did not improve\n",
            "100/100 [==============================] - 59s - loss: 0.3363 - acc: 0.5505 - val_loss: 1.2696 - val_acc: 0.4867\n",
            "Epoch 111/16000\n",
            " 99/100 [============================>.] - ETA: 0s - loss: 0.3128 - acc: 0.5597Epoch 00110: val_acc did not improve\n",
            "100/100 [==============================] - 59s - loss: 0.3103 - acc: 0.5604 - val_loss: 1.2790 - val_acc: 0.4828\n",
            "Epoch 112/16000\n",
            " 99/100 [============================>.] - ETA: 0s - loss: 0.3354 - acc: 0.5439Epoch 00111: val_acc did not improve\n",
            "100/100 [==============================] - 59s - loss: 0.3399 - acc: 0.5436 - val_loss: 1.3426 - val_acc: 0.4849\n",
            "Epoch 113/16000\n",
            "  9/100 [=>............................] - ETA: 29s - loss: 0.3188 - acc: 0.5307"
          ],
          "name": "stdout"
        },
        {
          "output_type": "stream",
          "text": [
            " 99/100 [============================>.] - ETA: 0s - loss: 0.3307 - acc: 0.5466Epoch 00112: val_acc improved from 0.48775 to 0.49055, saving model to best_model_new.h5\n",
            "100/100 [==============================] - 62s - loss: 0.3296 - acc: 0.5464 - val_loss: 1.2732 - val_acc: 0.4905\n",
            "Epoch 114/16000\n",
            " 99/100 [============================>.] - ETA: 0s - loss: 0.3051 - acc: 0.5636Epoch 00113: val_acc did not improve\n",
            "100/100 [==============================] - 59s - loss: 0.3026 - acc: 0.5639 - val_loss: 1.3135 - val_acc: 0.4889\n",
            "Epoch 115/16000\n",
            " 86/100 [========================>.....] - ETA: 4s - loss: 0.2917 - acc: 0.5534"
          ],
          "name": "stdout"
        },
        {
          "output_type": "stream",
          "text": [
            " 99/100 [============================>.] - ETA: 0s - loss: 0.2912 - acc: 0.5514Epoch 00114: val_acc did not improve\n",
            "100/100 [==============================] - 59s - loss: 0.2924 - acc: 0.5513 - val_loss: 1.3027 - val_acc: 0.4827\n",
            "Epoch 116/16000\n",
            " 99/100 [============================>.] - ETA: 0s - loss: 0.2926 - acc: 0.5607Epoch 00115: val_acc did not improve\n",
            "100/100 [==============================] - 59s - loss: 0.2963 - acc: 0.5604 - val_loss: 1.3064 - val_acc: 0.4864\n",
            "Epoch 117/16000\n",
            " 99/100 [============================>.] - ETA: 0s - loss: 0.2877 - acc: 0.5604Epoch 00116: val_acc did not improve\n",
            "100/100 [==============================] - 59s - loss: 0.2878 - acc: 0.5595 - val_loss: 1.3411 - val_acc: 0.4816\n",
            "Epoch 118/16000\n",
            "  9/100 [=>............................] - ETA: 29s - loss: 0.3076 - acc: 0.5467"
          ],
          "name": "stdout"
        },
        {
          "output_type": "stream",
          "text": [
            " 99/100 [============================>.] - ETA: 0s - loss: 0.3231 - acc: 0.5645Epoch 00117: val_acc improved from 0.49055 to 0.49177, saving model to best_model_new.h5\n",
            "100/100 [==============================] - 61s - loss: 0.3230 - acc: 0.5633 - val_loss: 1.2478 - val_acc: 0.4918\n",
            "Epoch 119/16000\n",
            " 99/100 [============================>.] - ETA: 0s - loss: 0.3073 - acc: 0.5537Epoch 00118: val_acc did not improve\n",
            "100/100 [==============================] - 59s - loss: 0.3051 - acc: 0.5542 - val_loss: 1.3080 - val_acc: 0.4835\n",
            "Epoch 120/16000\n",
            " 86/100 [========================>.....] - ETA: 4s - loss: 0.2522 - acc: 0.5733"
          ],
          "name": "stdout"
        },
        {
          "output_type": "stream",
          "text": [
            " 99/100 [============================>.] - ETA: 0s - loss: 0.2502 - acc: 0.5725Epoch 00119: val_acc did not improve\n",
            "100/100 [==============================] - 59s - loss: 0.2506 - acc: 0.5729 - val_loss: 1.2820 - val_acc: 0.4880\n",
            "Epoch 121/16000\n",
            " 99/100 [============================>.] - ETA: 0s - loss: 0.2689 - acc: 0.5606Epoch 00120: val_acc improved from 0.49177 to 0.49770, saving model to best_model_new.h5\n",
            "100/100 [==============================] - 61s - loss: 0.2695 - acc: 0.5603 - val_loss: 1.2302 - val_acc: 0.4977\n",
            "Epoch 122/16000\n",
            " 99/100 [============================>.] - ETA: 0s - loss: 0.2868 - acc: 0.5563Epoch 00121: val_acc did not improve\n",
            "100/100 [==============================] - 59s - loss: 0.2849 - acc: 0.5555 - val_loss: 1.2597 - val_acc: 0.4905\n",
            "Epoch 123/16000\n",
            "  1/100 [..............................] - ETA: 31s - loss: 0.1426 - acc: 0.6200"
          ],
          "name": "stdout"
        },
        {
          "output_type": "stream",
          "text": [
            " 99/100 [============================>.] - ETA: 0s - loss: 0.2682 - acc: 0.5648Epoch 00122: val_acc improved from 0.49770 to 0.50063, saving model to best_model_new.h5\n",
            "100/100 [==============================] - 61s - loss: 0.2662 - acc: 0.5649 - val_loss: 1.2442 - val_acc: 0.5006\n",
            "Epoch 124/16000\n",
            " 99/100 [============================>.] - ETA: 0s - loss: 0.2583 - acc: 0.5723Epoch 00123: val_acc did not improve\n",
            "100/100 [==============================] - 59s - loss: 0.2564 - acc: 0.5725 - val_loss: 1.2268 - val_acc: 0.4987\n",
            "Epoch 125/16000\n",
            " 85/100 [========================>.....] - ETA: 4s - loss: 0.2829 - acc: 0.5654"
          ],
          "name": "stdout"
        },
        {
          "output_type": "stream",
          "text": [
            " 99/100 [============================>.] - ETA: 0s - loss: 0.2853 - acc: 0.5648Epoch 00124: val_acc did not improve\n",
            "100/100 [==============================] - 58s - loss: 0.2850 - acc: 0.5659 - val_loss: 1.2685 - val_acc: 0.4917\n",
            "Epoch 126/16000\n",
            " 99/100 [============================>.] - ETA: 0s - loss: 0.2815 - acc: 0.5658Epoch 00125: val_acc improved from 0.50063 to 0.50304, saving model to best_model_new.h5\n",
            "100/100 [==============================] - 61s - loss: 0.2790 - acc: 0.5661 - val_loss: 1.2341 - val_acc: 0.5030\n",
            "Epoch 127/16000\n",
            " 99/100 [============================>.] - ETA: 0s - loss: 0.2780 - acc: 0.5657Epoch 00126: val_acc improved from 0.50304 to 0.50537, saving model to best_model_new.h5\n",
            "100/100 [==============================] - 61s - loss: 0.2787 - acc: 0.5656 - val_loss: 1.1879 - val_acc: 0.5054\n",
            "Epoch 128/16000\n"
          ],
          "name": "stdout"
        },
        {
          "output_type": "stream",
          "text": [
            " 99/100 [============================>.] - ETA: 0s - loss: 0.2648 - acc: 0.5688Epoch 00127: val_acc improved from 0.50537 to 0.50646, saving model to best_model_new.h5\n",
            "100/100 [==============================] - 61s - loss: 0.2637 - acc: 0.5686 - val_loss: 1.1865 - val_acc: 0.5065\n",
            "Epoch 129/16000\n",
            " 99/100 [============================>.] - ETA: 0s - loss: 0.2680 - acc: 0.5657Epoch 00128: val_acc did not improve\n",
            "100/100 [==============================] - 58s - loss: 0.2709 - acc: 0.5658 - val_loss: 1.2533 - val_acc: 0.4949\n",
            "Epoch 130/16000\n",
            " 85/100 [========================>.....] - ETA: 4s - loss: 0.2705 - acc: 0.5678"
          ],
          "name": "stdout"
        },
        {
          "output_type": "stream",
          "text": [
            " 99/100 [============================>.] - ETA: 0s - loss: 0.2681 - acc: 0.5683Epoch 00129: val_acc did not improve\n",
            "100/100 [==============================] - 59s - loss: 0.2667 - acc: 0.5694 - val_loss: 1.1730 - val_acc: 0.5057\n",
            "Epoch 131/16000\n",
            " 99/100 [============================>.] - ETA: 0s - loss: 0.2452 - acc: 0.5629Epoch 00130: val_acc did not improve\n",
            "100/100 [==============================] - 58s - loss: 0.2463 - acc: 0.5624 - val_loss: 1.1877 - val_acc: 0.5013\n",
            "Epoch 132/16000\n",
            " 99/100 [============================>.] - ETA: 0s - loss: 0.2106 - acc: 0.5602Epoch 00131: val_acc did not improve\n",
            "100/100 [==============================] - 59s - loss: 0.2107 - acc: 0.5600 - val_loss: 1.2443 - val_acc: 0.4944\n",
            "Epoch 133/16000\n",
            "  9/100 [=>............................] - ETA: 29s - loss: 0.2156 - acc: 0.5741"
          ],
          "name": "stdout"
        },
        {
          "output_type": "stream",
          "text": [
            " 99/100 [============================>.] - ETA: 0s - loss: 0.2463 - acc: 0.5693Epoch 00132: val_acc did not improve\n",
            "100/100 [==============================] - 59s - loss: 0.2463 - acc: 0.5695 - val_loss: 1.2622 - val_acc: 0.4955\n",
            "Epoch 134/16000\n",
            " 99/100 [============================>.] - ETA: 0s - loss: 0.2501 - acc: 0.5754Epoch 00133: val_acc did not improve\n",
            "100/100 [==============================] - 59s - loss: 0.2496 - acc: 0.5743 - val_loss: 1.2509 - val_acc: 0.4936\n",
            "Epoch 135/16000\n",
            " 99/100 [============================>.] - ETA: 0s - loss: 0.2919 - acc: 0.5583Epoch 00134: val_acc did not improve\n",
            "100/100 [==============================] - 58s - loss: 0.2909 - acc: 0.5583 - val_loss: 1.2911 - val_acc: 0.4791\n",
            "Epoch 136/16000\n",
            "  1/100 [..............................] - ETA: 31s - loss: 0.1646 - acc: 0.5933"
          ],
          "name": "stdout"
        },
        {
          "output_type": "stream",
          "text": [
            " 99/100 [============================>.] - ETA: 0s - loss: 0.2628 - acc: 0.5673Epoch 00135: val_acc did not improve\n",
            "100/100 [==============================] - 58s - loss: 0.2637 - acc: 0.5668 - val_loss: 1.2455 - val_acc: 0.4931\n",
            "Epoch 137/16000\n",
            " 99/100 [============================>.] - ETA: 0s - loss: 0.2426 - acc: 0.5701Epoch 00136: val_acc did not improve\n",
            "100/100 [==============================] - 59s - loss: 0.2422 - acc: 0.5711 - val_loss: 1.3083 - val_acc: 0.4917\n",
            "Epoch 138/16000\n",
            " 99/100 [============================>.] - ETA: 0s - loss: 0.2348 - acc: 0.5775Epoch 00137: val_acc did not improve\n",
            "100/100 [==============================] - 59s - loss: 0.2345 - acc: 0.5777 - val_loss: 1.2835 - val_acc: 0.4932\n",
            "Epoch 139/16000\n"
          ],
          "name": "stdout"
        },
        {
          "output_type": "stream",
          "text": [
            " 99/100 [============================>.] - ETA: 0s - loss: 0.2408 - acc: 0.5727Epoch 00138: val_acc did not improve\n",
            "100/100 [==============================] - 58s - loss: 0.2390 - acc: 0.5728 - val_loss: 1.2084 - val_acc: 0.5027\n",
            "Epoch 140/16000\n",
            " 99/100 [============================>.] - ETA: 0s - loss: 0.2507 - acc: 0.5711Epoch 00139: val_acc did not improve\n",
            "100/100 [==============================] - 59s - loss: 0.2504 - acc: 0.5700 - val_loss: 1.2665 - val_acc: 0.4929\n",
            "Epoch 141/16000\n",
            " 99/100 [============================>.] - ETA: 0s - loss: 0.2722 - acc: 0.5616Epoch 00140: val_acc improved from 0.50646 to 0.51211, saving model to best_model_new.h5\n",
            "100/100 [==============================] - 61s - loss: 0.2702 - acc: 0.5616 - val_loss: 1.2204 - val_acc: 0.5121"
          ],
          "name": "stdout"
        },
        {
          "output_type": "stream",
          "text": [
            "\n",
            "Epoch 142/16000\n",
            " 99/100 [============================>.] - ETA: 0s - loss: 0.2457 - acc: 0.5759Epoch 00141: val_acc did not improve\n",
            "100/100 [==============================] - 59s - loss: 0.2443 - acc: 0.5761 - val_loss: 1.2056 - val_acc: 0.5091\n",
            "Epoch 143/16000\n",
            " 99/100 [============================>.] - ETA: 0s - loss: 0.2651 - acc: 0.5683Epoch 00142: val_acc did not improve\n",
            "100/100 [==============================] - 58s - loss: 0.2648 - acc: 0.5681 - val_loss: 1.2152 - val_acc: 0.5009\n",
            "Epoch 144/16000\n",
            " 93/100 [==========================>...] - ETA: 2s - loss: 0.2383 - acc: 0.5658"
          ],
          "name": "stdout"
        },
        {
          "output_type": "stream",
          "text": [
            " 99/100 [============================>.] - ETA: 0s - loss: 0.2378 - acc: 0.5665Epoch 00143: val_acc did not improve\n",
            "100/100 [==============================] - 58s - loss: 0.2371 - acc: 0.5663 - val_loss: 1.1984 - val_acc: 0.5107\n",
            "Epoch 145/16000\n",
            " 99/100 [============================>.] - ETA: 0s - loss: 0.2266 - acc: 0.5747Epoch 00144: val_acc did not improve\n",
            "100/100 [==============================] - 58s - loss: 0.2265 - acc: 0.5743 - val_loss: 1.1923 - val_acc: 0.5074\n",
            "Epoch 146/16000\n",
            " 99/100 [============================>.] - ETA: 0s - loss: 0.2141 - acc: 0.5742Epoch 00145: val_acc improved from 0.51211 to 0.52259, saving model to best_model_new.h5\n",
            "100/100 [==============================] - 61s - loss: 0.2152 - acc: 0.5737 - val_loss: 1.1267 - val_acc: 0.5226\n",
            "Epoch 147/16000\n",
            "  8/100 [=>............................] - ETA: 30s - loss: 0.1544 - acc: 0.5929"
          ],
          "name": "stdout"
        },
        {
          "output_type": "stream",
          "text": [
            " 99/100 [============================>.] - ETA: 0s - loss: 0.2289 - acc: 0.5778Epoch 00146: val_acc did not improve\n",
            "100/100 [==============================] - 59s - loss: 0.2266 - acc: 0.5782 - val_loss: 1.1724 - val_acc: 0.5127\n",
            "Epoch 148/16000\n",
            " 99/100 [============================>.] - ETA: 0s - loss: 0.2358 - acc: 0.5692Epoch 00147: val_acc did not improve\n",
            "100/100 [==============================] - 58s - loss: 0.2353 - acc: 0.5690 - val_loss: 1.2047 - val_acc: 0.5098\n",
            "Epoch 149/16000\n",
            " 99/100 [============================>.] - ETA: 0s - loss: 0.2522 - acc: 0.5779Epoch 00148: val_acc did not improve\n",
            "100/100 [==============================] - 58s - loss: 0.2570 - acc: 0.5771 - val_loss: 1.1782 - val_acc: 0.5108\n",
            "Epoch 150/16000\n",
            "  1/100 [..............................] - ETA: 32s - loss: 0.4123 - acc: 0.4933"
          ],
          "name": "stdout"
        },
        {
          "output_type": "stream",
          "text": [
            " 99/100 [============================>.] - ETA: 0s - loss: 0.2247 - acc: 0.5696Epoch 00149: val_acc did not improve\n",
            "100/100 [==============================] - 59s - loss: 0.2245 - acc: 0.5690 - val_loss: 1.1741 - val_acc: 0.5132\n",
            "Epoch 151/16000\n",
            " 99/100 [============================>.] - ETA: 0s - loss: 0.2441 - acc: 0.5603Epoch 00150: val_acc did not improve\n",
            "100/100 [==============================] - 58s - loss: 0.2449 - acc: 0.5601 - val_loss: 1.1996 - val_acc: 0.5009\n",
            "Epoch 152/16000\n",
            " 99/100 [============================>.] - ETA: 0s - loss: 0.2987 - acc: 0.5608Epoch 00151: val_acc did not improve\n",
            "100/100 [==============================] - 59s - loss: 0.2962 - acc: 0.5612 - val_loss: 1.1644 - val_acc: 0.5075\n",
            "Epoch 153/16000\n"
          ],
          "name": "stdout"
        },
        {
          "output_type": "stream",
          "text": [
            " 99/100 [============================>.] - ETA: 0s - loss: 0.2472 - acc: 0.5674Epoch 00152: val_acc did not improve\n",
            "100/100 [==============================] - 59s - loss: 0.2471 - acc: 0.5675 - val_loss: 1.2263 - val_acc: 0.5089\n",
            "Epoch 154/16000\n",
            " 99/100 [============================>.] - ETA: 0s - loss: 0.2144 - acc: 0.5777Epoch 00153: val_acc did not improve\n",
            "100/100 [==============================] - 59s - loss: 0.2126 - acc: 0.5778 - val_loss: 1.1686 - val_acc: 0.5176\n",
            "Epoch 155/16000\n",
            " 99/100 [============================>.] - ETA: 0s - loss: 0.2196 - acc: 0.5799Epoch 00154: val_acc did not improve\n",
            "100/100 [==============================] - 59s - loss: 0.2187 - acc: 0.5791 - val_loss: 1.1559 - val_acc: 0.5132\n",
            "Epoch 156/16000\n"
          ],
          "name": "stdout"
        },
        {
          "output_type": "stream",
          "text": [
            " 99/100 [============================>.] - ETA: 0s - loss: 0.2305 - acc: 0.5787Epoch 00155: val_acc did not improve\n",
            "100/100 [==============================] - 58s - loss: 0.2299 - acc: 0.5791 - val_loss: 1.1310 - val_acc: 0.5222\n",
            "Epoch 157/16000\n",
            " 99/100 [============================>.] - ETA: 0s - loss: 0.2129 - acc: 0.5790Epoch 00156: val_acc improved from 0.52259 to 0.52614, saving model to best_model_new.h5\n",
            "100/100 [==============================] - 60s - loss: 0.2157 - acc: 0.5791 - val_loss: 1.1090 - val_acc: 0.5261\n",
            "Epoch 158/16000\n",
            " 93/100 [==========================>...] - ETA: 2s - loss: 0.1826 - acc: 0.5916"
          ],
          "name": "stdout"
        },
        {
          "output_type": "stream",
          "text": [
            " 99/100 [============================>.] - ETA: 0s - loss: 0.1858 - acc: 0.5909Epoch 00157: val_acc did not improve\n",
            "100/100 [==============================] - 59s - loss: 0.1882 - acc: 0.5907 - val_loss: 1.1267 - val_acc: 0.5224\n",
            "Epoch 159/16000\n",
            " 99/100 [============================>.] - ETA: 0s - loss: 0.1994 - acc: 0.5809Epoch 00158: val_acc improved from 0.52614 to 0.52735, saving model to best_model_new.h5\n",
            "100/100 [==============================] - 61s - loss: 0.2000 - acc: 0.5811 - val_loss: 1.1278 - val_acc: 0.5273\n",
            "Epoch 160/16000\n",
            " 99/100 [============================>.] - ETA: 0s - loss: 0.1849 - acc: 0.5734Epoch 00159: val_acc did not improve\n",
            "100/100 [==============================] - 58s - loss: 0.1833 - acc: 0.5731 - val_loss: 1.1518 - val_acc: 0.5192\n",
            "Epoch 161/16000\n",
            "  2/100 [..............................] - ETA: 31s - loss: 0.0658 - acc: 0.6250"
          ],
          "name": "stdout"
        },
        {
          "output_type": "stream",
          "text": [
            " 99/100 [============================>.] - ETA: 0s - loss: 0.2006 - acc: 0.5800Epoch 00160: val_acc did not improve\n",
            "100/100 [==============================] - 59s - loss: 0.2017 - acc: 0.5805 - val_loss: 1.0885 - val_acc: 0.5258\n",
            "Epoch 162/16000\n",
            " 99/100 [============================>.] - ETA: 0s - loss: 0.2133 - acc: 0.5792Epoch 00161: val_acc did not improve\n",
            "100/100 [==============================] - 59s - loss: 0.2113 - acc: 0.5798 - val_loss: 1.1044 - val_acc: 0.5231\n",
            "Epoch 163/16000\n",
            " 99/100 [============================>.] - ETA: 0s - loss: 0.2083 - acc: 0.5846Epoch 00162: val_acc did not improve\n",
            "100/100 [==============================] - 59s - loss: 0.2074 - acc: 0.5841 - val_loss: 1.1120 - val_acc: 0.5221\n",
            "Epoch 164/16000\n"
          ],
          "name": "stdout"
        },
        {
          "output_type": "stream",
          "text": [
            " 99/100 [============================>.] - ETA: 0s - loss: 0.2295 - acc: 0.5751Epoch 00163: val_acc improved from 0.52735 to 0.53079, saving model to best_model_new.h5\n",
            "100/100 [==============================] - 61s - loss: 0.2280 - acc: 0.5758 - val_loss: 1.0753 - val_acc: 0.5308\n",
            "Epoch 165/16000\n",
            " 99/100 [============================>.] - ETA: 0s - loss: 0.2061 - acc: 0.5791Epoch 00164: val_acc did not improve\n",
            "100/100 [==============================] - 59s - loss: 0.2048 - acc: 0.5788 - val_loss: 1.1011 - val_acc: 0.5282\n",
            "Epoch 166/16000\n",
            " 85/100 [========================>.....] - ETA: 4s - loss: 0.1882 - acc: 0.5756"
          ],
          "name": "stdout"
        },
        {
          "output_type": "stream",
          "text": [
            " 99/100 [============================>.] - ETA: 0s - loss: 0.1856 - acc: 0.5724Epoch 00165: val_acc did not improve\n",
            "100/100 [==============================] - 58s - loss: 0.1862 - acc: 0.5730 - val_loss: 1.1088 - val_acc: 0.5268\n",
            "Epoch 167/16000\n",
            " 99/100 [============================>.] - ETA: 0s - loss: 0.1851 - acc: 0.5896Epoch 00166: val_acc did not improve\n",
            "100/100 [==============================] - 59s - loss: 0.1865 - acc: 0.5907 - val_loss: 1.0914 - val_acc: 0.5264\n",
            "Epoch 168/16000\n",
            " 99/100 [============================>.] - ETA: 0s - loss: 0.1867 - acc: 0.5789Epoch 00167: val_acc did not improve\n",
            "100/100 [==============================] - 59s - loss: 0.1862 - acc: 0.5792 - val_loss: 1.0679 - val_acc: 0.5250\n",
            "Epoch 169/16000\n",
            "  9/100 [=>............................] - ETA: 29s - loss: 0.2354 - acc: 0.5937"
          ],
          "name": "stdout"
        },
        {
          "output_type": "stream",
          "text": [
            " 99/100 [============================>.] - ETA: 0s - loss: 0.1862 - acc: 0.5835Epoch 00168: val_acc did not improve\n",
            "100/100 [==============================] - 59s - loss: 0.1866 - acc: 0.5840 - val_loss: 1.0760 - val_acc: 0.5278\n",
            "Epoch 170/16000\n",
            " 99/100 [============================>.] - ETA: 0s - loss: 0.2003 - acc: 0.5763Epoch 00169: val_acc improved from 0.53079 to 0.53097, saving model to best_model_new.h5\n",
            "100/100 [==============================] - 61s - loss: 0.1986 - acc: 0.5762 - val_loss: 1.0514 - val_acc: 0.5310\n",
            "Epoch 171/16000\n",
            " 94/100 [===========================>..] - ETA: 1s - loss: 0.1627 - acc: 0.5825"
          ],
          "name": "stdout"
        },
        {
          "output_type": "stream",
          "text": [
            " 99/100 [============================>.] - ETA: 0s - loss: 0.1624 - acc: 0.5820Epoch 00170: val_acc did not improve\n",
            "100/100 [==============================] - 59s - loss: 0.1617 - acc: 0.5827 - val_loss: 1.0997 - val_acc: 0.5191\n",
            "Epoch 172/16000\n",
            " 99/100 [============================>.] - ETA: 0s - loss: 0.1871 - acc: 0.5854Epoch 00171: val_acc did not improve\n",
            "100/100 [==============================] - 58s - loss: 0.1858 - acc: 0.5851 - val_loss: 1.0226 - val_acc: 0.5217\n",
            "Epoch 173/16000\n",
            " 99/100 [============================>.] - ETA: 0s - loss: 0.2093 - acc: 0.5909Epoch 00172: val_acc did not improve\n",
            "100/100 [==============================] - 59s - loss: 0.2073 - acc: 0.5910 - val_loss: 1.0471 - val_acc: 0.5264\n",
            "Epoch 174/16000\n",
            "  9/100 [=>............................] - ETA: 29s - loss: 0.1219 - acc: 0.5722"
          ],
          "name": "stdout"
        },
        {
          "output_type": "stream",
          "text": [
            " 99/100 [============================>.] - ETA: 0s - loss: 0.1740 - acc: 0.5909Epoch 00173: val_acc did not improve\n",
            "100/100 [==============================] - 58s - loss: 0.1756 - acc: 0.5909 - val_loss: 1.0518 - val_acc: 0.5276\n",
            "Epoch 175/16000\n",
            " 99/100 [============================>.] - ETA: 0s - loss: 0.1854 - acc: 0.5826Epoch 00174: val_acc did not improve\n",
            "100/100 [==============================] - 58s - loss: 0.1845 - acc: 0.5819 - val_loss: 1.0698 - val_acc: 0.5251\n",
            "Epoch 176/16000\n",
            " 99/100 [============================>.] - ETA: 0s - loss: 0.1954 - acc: 0.5731Epoch 00175: val_acc did not improve\n",
            "100/100 [==============================] - 59s - loss: 0.1948 - acc: 0.5730 - val_loss: 1.0791 - val_acc: 0.5218\n",
            "Epoch 177/16000\n",
            "  1/100 [..............................] - ETA: 31s - loss: 0.0834 - acc: 0.5933"
          ],
          "name": "stdout"
        },
        {
          "output_type": "stream",
          "text": [
            " 99/100 [============================>.] - ETA: 0s - loss: 0.1761 - acc: 0.5903Epoch 00176: val_acc did not improve\n",
            "100/100 [==============================] - 59s - loss: 0.1760 - acc: 0.5898 - val_loss: 1.0960 - val_acc: 0.5231\n",
            "Epoch 178/16000\n",
            " 99/100 [============================>.] - ETA: 0s - loss: 0.1960 - acc: 0.5761Epoch 00177: val_acc did not improve\n",
            "100/100 [==============================] - 59s - loss: 0.1982 - acc: 0.5759 - val_loss: 1.1025 - val_acc: 0.5239\n",
            "Epoch 179/16000\n",
            " 99/100 [============================>.] - ETA: 0s - loss: 0.1718 - acc: 0.5818Epoch 00178: val_acc did not improve\n",
            "100/100 [==============================] - 59s - loss: 0.1744 - acc: 0.5823 - val_loss: 1.0736 - val_acc: 0.5245\n",
            "Epoch 180/16000\n"
          ],
          "name": "stdout"
        },
        {
          "output_type": "stream",
          "text": [
            " 99/100 [============================>.] - ETA: 0s - loss: 0.1734 - acc: 0.5821Epoch 00179: val_acc improved from 0.53097 to 0.53641, saving model to best_model_new.h5\n",
            "100/100 [==============================] - 61s - loss: 0.1741 - acc: 0.5822 - val_loss: 1.0288 - val_acc: 0.5364\n",
            "Epoch 181/16000\n",
            " 99/100 [============================>.] - ETA: 0s - loss: 0.1876 - acc: 0.5846Epoch 00180: val_acc did not improve\n",
            "100/100 [==============================] - 59s - loss: 0.1869 - acc: 0.5843 - val_loss: 1.0201 - val_acc: 0.5300\n",
            "Epoch 182/16000\n",
            " 85/100 [========================>.....] - ETA: 4s - loss: 0.1751 - acc: 0.5813"
          ],
          "name": "stdout"
        },
        {
          "output_type": "stream",
          "text": [
            " 99/100 [============================>.] - ETA: 0s - loss: 0.1706 - acc: 0.5810Epoch 00181: val_acc did not improve\n",
            "100/100 [==============================] - 59s - loss: 0.1706 - acc: 0.5809 - val_loss: 1.0552 - val_acc: 0.5281\n",
            "Epoch 183/16000\n",
            " 99/100 [============================>.] - ETA: 0s - loss: 0.1962 - acc: 0.5767Epoch 00182: val_acc did not improve\n",
            "100/100 [==============================] - 59s - loss: 0.1982 - acc: 0.5766 - val_loss: 1.0528 - val_acc: 0.5260\n",
            "Epoch 184/16000\n",
            " 99/100 [============================>.] - ETA: 0s - loss: 0.2240 - acc: 0.5776Epoch 00183: val_acc did not improve\n",
            "100/100 [==============================] - 59s - loss: 0.2223 - acc: 0.5783 - val_loss: 1.0452 - val_acc: 0.5313\n",
            "Epoch 185/16000\n",
            "  9/100 [=>............................] - ETA: 29s - loss: 0.2439 - acc: 0.5944"
          ],
          "name": "stdout"
        },
        {
          "output_type": "stream",
          "text": [
            " 99/100 [============================>.] - ETA: 0s - loss: 0.2088 - acc: 0.5753Epoch 00184: val_acc did not improve\n",
            "100/100 [==============================] - 59s - loss: 0.2074 - acc: 0.5754 - val_loss: 1.0840 - val_acc: 0.5213\n",
            "Epoch 186/16000\n",
            " 99/100 [============================>.] - ETA: 0s - loss: 0.1933 - acc: 0.5696Epoch 00185: val_acc did not improve\n",
            "100/100 [==============================] - 59s - loss: 0.1922 - acc: 0.5699 - val_loss: 1.0432 - val_acc: 0.5359\n",
            "Epoch 187/16000\n",
            " 99/100 [============================>.] - ETA: 0s - loss: 0.2056 - acc: 0.5794Epoch 00186: val_acc did not improve\n",
            "100/100 [==============================] - 59s - loss: 0.2039 - acc: 0.5796 - val_loss: 1.0359 - val_acc: 0.5355\n",
            "Epoch 188/16000\n",
            "  1/100 [..............................] - ETA: 30s - loss: 0.2536 - acc: 0.5267"
          ],
          "name": "stdout"
        },
        {
          "output_type": "stream",
          "text": [
            " 99/100 [============================>.] - ETA: 0s - loss: 0.1961 - acc: 0.5837Epoch 00187: val_acc did not improve\n",
            "100/100 [==============================] - 58s - loss: 0.1945 - acc: 0.5837 - val_loss: 1.0053 - val_acc: 0.5326\n",
            "Epoch 189/16000\n",
            " 99/100 [============================>.] - ETA: 0s - loss: 0.1612 - acc: 0.5807Epoch 00188: val_acc did not improve\n",
            "100/100 [==============================] - 59s - loss: 0.1619 - acc: 0.5804 - val_loss: 1.0363 - val_acc: 0.5277\n",
            "Epoch 190/16000\n",
            " 99/100 [============================>.] - ETA: 0s - loss: 0.1588 - acc: 0.5910Epoch 00189: val_acc did not improve\n",
            "100/100 [==============================] - 58s - loss: 0.1591 - acc: 0.5907 - val_loss: 1.0626 - val_acc: 0.5286\n",
            "Epoch 191/16000\n"
          ],
          "name": "stdout"
        },
        {
          "output_type": "stream",
          "text": [
            " 99/100 [============================>.] - ETA: 0s - loss: 0.1873 - acc: 0.5844Epoch 00190: val_acc did not improve\n",
            "100/100 [==============================] - 59s - loss: 0.1857 - acc: 0.5854 - val_loss: 1.0028 - val_acc: 0.5333\n",
            "Epoch 192/16000\n",
            " 99/100 [============================>.] - ETA: 0s - loss: 0.1705 - acc: 0.5851Epoch 00191: val_acc improved from 0.53641 to 0.53831, saving model to best_model_new.h5\n",
            "100/100 [==============================] - 60s - loss: 0.1741 - acc: 0.5849 - val_loss: 1.0157 - val_acc: 0.5383\n",
            "Epoch 193/16000\n",
            " 93/100 [==========================>...] - ETA: 2s - loss: 0.1787 - acc: 0.5895"
          ],
          "name": "stdout"
        },
        {
          "output_type": "stream",
          "text": [
            " 99/100 [============================>.] - ETA: 0s - loss: 0.1775 - acc: 0.5902Epoch 00192: val_acc improved from 0.53831 to 0.53904, saving model to best_model_new.h5\n",
            "100/100 [==============================] - 61s - loss: 0.1767 - acc: 0.5902 - val_loss: 1.0178 - val_acc: 0.5390\n",
            "Epoch 194/16000\n",
            " 99/100 [============================>.] - ETA: 0s - loss: 0.1260 - acc: 0.5948Epoch 00193: val_acc did not improve\n",
            "100/100 [==============================] - 58s - loss: 0.1265 - acc: 0.5953 - val_loss: 1.0321 - val_acc: 0.5369\n",
            "Epoch 195/16000\n",
            " 97/100 [============================>.] - ETA: 0s - loss: 0.1531 - acc: 0.5886"
          ],
          "name": "stdout"
        },
        {
          "output_type": "stream",
          "text": [
            " 99/100 [============================>.] - ETA: 0s - loss: 0.1542 - acc: 0.5881Epoch 00194: val_acc did not improve\n",
            "100/100 [==============================] - 59s - loss: 0.1539 - acc: 0.5877 - val_loss: 1.0391 - val_acc: 0.5343\n",
            "Epoch 196/16000\n",
            " 99/100 [============================>.] - ETA: 0s - loss: 0.1483 - acc: 0.5865Epoch 00195: val_acc did not improve\n",
            "100/100 [==============================] - 58s - loss: 0.1496 - acc: 0.5866 - val_loss: 1.0753 - val_acc: 0.5317\n",
            "Epoch 197/16000\n",
            " 99/100 [============================>.] - ETA: 0s - loss: 0.1438 - acc: 0.5808Epoch 00196: val_acc did not improve\n",
            "100/100 [==============================] - 58s - loss: 0.1460 - acc: 0.5798 - val_loss: 1.0527 - val_acc: 0.5353\n",
            "Epoch 198/16000\n",
            " 10/100 [==>...........................] - ETA: 29s - loss: 0.1361 - acc: 0.6123"
          ],
          "name": "stdout"
        },
        {
          "output_type": "stream",
          "text": [
            " 99/100 [============================>.] - ETA: 0s - loss: 0.1677 - acc: 0.5887Epoch 00197: val_acc did not improve\n",
            "100/100 [==============================] - 59s - loss: 0.1685 - acc: 0.5881 - val_loss: 1.0493 - val_acc: 0.5382\n",
            "Epoch 199/16000\n",
            " 99/100 [============================>.] - ETA: 0s - loss: 0.1667 - acc: 0.5807Epoch 00198: val_acc did not improve\n",
            "100/100 [==============================] - 58s - loss: 0.1669 - acc: 0.5800 - val_loss: 1.1046 - val_acc: 0.5186\n",
            "Epoch 200/16000\n",
            " 99/100 [============================>.] - ETA: 0s - loss: 0.1995 - acc: 0.5818Epoch 00199: val_acc did not improve\n",
            "100/100 [==============================] - 58s - loss: 0.1985 - acc: 0.5813 - val_loss: 1.0899 - val_acc: 0.5252\n",
            "Epoch 201/16000\n",
            "  1/100 [..............................] - ETA: 30s - loss: 0.2499 - acc: 0.6167"
          ],
          "name": "stdout"
        },
        {
          "output_type": "stream",
          "text": [
            " 99/100 [============================>.] - ETA: 0s - loss: 0.1873 - acc: 0.5785Epoch 00200: val_acc did not improve\n",
            "100/100 [==============================] - 59s - loss: 0.1856 - acc: 0.5779 - val_loss: 1.0911 - val_acc: 0.5264\n",
            "Epoch 202/16000\n",
            " 99/100 [============================>.] - ETA: 0s - loss: 0.1615 - acc: 0.5931Epoch 00201: val_acc did not improve\n",
            "100/100 [==============================] - 59s - loss: 0.1619 - acc: 0.5934 - val_loss: 1.0691 - val_acc: 0.5303\n",
            "Epoch 203/16000\n",
            " 99/100 [============================>.] - ETA: 0s - loss: 0.1443 - acc: 0.5868Epoch 00202: val_acc improved from 0.53904 to 0.54697, saving model to best_model_new.h5\n",
            "100/100 [==============================] - 61s - loss: 0.1432 - acc: 0.5872 - val_loss: 0.9784 - val_acc: 0.5470"
          ],
          "name": "stdout"
        },
        {
          "output_type": "stream",
          "text": [
            "\n",
            "Epoch 204/16000\n",
            " 99/100 [============================>.] - ETA: 0s - loss: 0.1710 - acc: 0.5880Epoch 00203: val_acc did not improve\n",
            "100/100 [==============================] - 59s - loss: 0.1732 - acc: 0.5878 - val_loss: 1.0139 - val_acc: 0.5386\n",
            "Epoch 205/16000\n",
            " 99/100 [============================>.] - ETA: 0s - loss: 0.1645 - acc: 0.5909Epoch 00204: val_acc did not improve\n",
            "100/100 [==============================] - 59s - loss: 0.1635 - acc: 0.5912 - val_loss: 0.9924 - val_acc: 0.5445\n",
            "Epoch 206/16000\n",
            " 93/100 [==========================>...] - ETA: 2s - loss: 0.1428 - acc: 0.5927"
          ],
          "name": "stdout"
        },
        {
          "output_type": "stream",
          "text": [
            " 99/100 [============================>.] - ETA: 0s - loss: 0.1420 - acc: 0.5922Epoch 00205: val_acc did not improve\n",
            "100/100 [==============================] - 59s - loss: 0.1422 - acc: 0.5923 - val_loss: 1.0061 - val_acc: 0.5405\n",
            "Epoch 207/16000\n",
            " 99/100 [============================>.] - ETA: 0s - loss: 0.1461 - acc: 0.5974Epoch 00206: val_acc did not improve\n",
            "100/100 [==============================] - 58s - loss: 0.1471 - acc: 0.5979 - val_loss: 1.0219 - val_acc: 0.5352\n",
            "Epoch 208/16000\n",
            " 99/100 [============================>.] - ETA: 0s - loss: 0.1708 - acc: 0.5900Epoch 00207: val_acc did not improve\n",
            "100/100 [==============================] - 59s - loss: 0.1695 - acc: 0.5905 - val_loss: 1.0034 - val_acc: 0.5391\n",
            "Epoch 209/16000\n",
            "  9/100 [=>............................] - ETA: 29s - loss: 0.1314 - acc: 0.5778"
          ],
          "name": "stdout"
        },
        {
          "output_type": "stream",
          "text": [
            " 99/100 [============================>.] - ETA: 0s - loss: 0.1279 - acc: 0.5883Epoch 00208: val_acc improved from 0.54697 to 0.54715, saving model to best_model_new.h5\n",
            "100/100 [==============================] - 61s - loss: 0.1270 - acc: 0.5891 - val_loss: 0.9894 - val_acc: 0.5472\n",
            "Epoch 210/16000\n",
            " 99/100 [============================>.] - ETA: 0s - loss: 0.1409 - acc: 0.5893Epoch 00209: val_acc did not improve\n",
            "100/100 [==============================] - 59s - loss: 0.1437 - acc: 0.5892 - val_loss: 1.0003 - val_acc: 0.5444\n",
            "Epoch 211/16000\n",
            " 86/100 [========================>.....] - ETA: 4s - loss: 0.1417 - acc: 0.5890"
          ],
          "name": "stdout"
        },
        {
          "output_type": "stream",
          "text": [
            " 99/100 [============================>.] - ETA: 0s - loss: 0.1379 - acc: 0.5893Epoch 00210: val_acc did not improve\n",
            "100/100 [==============================] - 58s - loss: 0.1398 - acc: 0.5892 - val_loss: 0.9650 - val_acc: 0.5470\n",
            "Epoch 212/16000\n",
            " 99/100 [============================>.] - ETA: 0s - loss: 0.1320 - acc: 0.5845Epoch 00211: val_acc improved from 0.54715 to 0.54929, saving model to best_model_new.h5\n",
            "100/100 [==============================] - 61s - loss: 0.1313 - acc: 0.5848 - val_loss: 0.9379 - val_acc: 0.5493\n",
            "Epoch 213/16000\n",
            " 99/100 [============================>.] - ETA: 0s - loss: 0.1297 - acc: 0.5913Epoch 00212: val_acc did not improve\n",
            "100/100 [==============================] - 59s - loss: 0.1287 - acc: 0.5915 - val_loss: 0.9954 - val_acc: 0.5413\n",
            "Epoch 214/16000\n",
            "  1/100 [..............................] - ETA: 32s - loss: 0.2465 - acc: 0.5400"
          ],
          "name": "stdout"
        },
        {
          "output_type": "stream",
          "text": [
            " 99/100 [============================>.] - ETA: 0s - loss: 0.1433 - acc: 0.5840Epoch 00213: val_acc did not improve\n",
            "100/100 [==============================] - 59s - loss: 0.1423 - acc: 0.5844 - val_loss: 1.0059 - val_acc: 0.5450\n",
            "Epoch 215/16000\n",
            " 99/100 [============================>.] - ETA: 0s - loss: 0.1274 - acc: 0.5880Epoch 00214: val_acc improved from 0.54929 to 0.54968, saving model to best_model_new.h5\n",
            "100/100 [==============================] - 61s - loss: 0.1297 - acc: 0.5883 - val_loss: 1.0021 - val_acc: 0.5497\n",
            "Epoch 216/16000\n",
            " 93/100 [==========================>...] - ETA: 2s - loss: 0.1376 - acc: 0.5915"
          ],
          "name": "stdout"
        },
        {
          "output_type": "stream",
          "text": [
            " 99/100 [============================>.] - ETA: 0s - loss: 0.1391 - acc: 0.5930Epoch 00215: val_acc did not improve\n",
            "100/100 [==============================] - 59s - loss: 0.1390 - acc: 0.5930 - val_loss: 0.9500 - val_acc: 0.5484\n",
            "Epoch 217/16000\n",
            " 99/100 [============================>.] - ETA: 0s - loss: 0.1390 - acc: 0.5943Epoch 00216: val_acc did not improve\n",
            "100/100 [==============================] - 59s - loss: 0.1394 - acc: 0.5950 - val_loss: 0.9589 - val_acc: 0.5462\n",
            "Epoch 218/16000\n",
            " 99/100 [============================>.] - ETA: 0s - loss: 0.1391 - acc: 0.5936Epoch 00217: val_acc did not improve\n",
            "100/100 [==============================] - 59s - loss: 0.1388 - acc: 0.5943 - val_loss: 1.0131 - val_acc: 0.5421\n",
            "Epoch 219/16000\n",
            "  9/100 [=>............................] - ETA: 29s - loss: 0.1038 - acc: 0.6396"
          ],
          "name": "stdout"
        },
        {
          "output_type": "stream",
          "text": [
            " 99/100 [============================>.] - ETA: 0s - loss: 0.1651 - acc: 0.5896Epoch 00218: val_acc did not improve\n",
            "100/100 [==============================] - 59s - loss: 0.1643 - acc: 0.5891 - val_loss: 1.0179 - val_acc: 0.5458\n",
            "Epoch 220/16000\n",
            " 99/100 [============================>.] - ETA: 0s - loss: 0.1172 - acc: 0.5963Epoch 00219: val_acc did not improve\n",
            "100/100 [==============================] - 59s - loss: 0.1164 - acc: 0.5964 - val_loss: 0.9797 - val_acc: 0.5382\n",
            "Epoch 221/16000\n",
            " 99/100 [============================>.] - ETA: 0s - loss: 0.1446 - acc: 0.5935Epoch 00220: val_acc improved from 0.54968 to 0.55253, saving model to best_model_new.h5\n",
            "100/100 [==============================] - 61s - loss: 0.1443 - acc: 0.5935 - val_loss: 0.9625 - val_acc: 0.5525\n",
            "Epoch 222/16000\n"
          ],
          "name": "stdout"
        },
        {
          "output_type": "stream",
          "text": [
            " 99/100 [============================>.] - ETA: 0s - loss: 0.1435 - acc: 0.5913Epoch 00221: val_acc did not improve\n",
            "100/100 [==============================] - 58s - loss: 0.1442 - acc: 0.5911 - val_loss: 0.9724 - val_acc: 0.5462\n",
            "Epoch 223/16000\n",
            " 99/100 [============================>.] - ETA: 0s - loss: 0.1167 - acc: 0.5929Epoch 00222: val_acc did not improve\n",
            "100/100 [==============================] - 59s - loss: 0.1165 - acc: 0.5925 - val_loss: 0.9658 - val_acc: 0.5499\n",
            "Epoch 224/16000\n",
            " 99/100 [============================>.] - ETA: 0s - loss: 0.1321 - acc: 0.5958Epoch 00223: val_acc did not improve\n",
            "100/100 [==============================] - 58s - loss: 0.1328 - acc: 0.5956 - val_loss: 0.9791 - val_acc: 0.5497\n",
            "Epoch 225/16000\n"
          ],
          "name": "stdout"
        },
        {
          "output_type": "stream",
          "text": [
            " 99/100 [============================>.] - ETA: 0s - loss: 0.1610 - acc: 0.5831Epoch 00224: val_acc did not improve\n",
            "100/100 [==============================] - 58s - loss: 0.1599 - acc: 0.5837 - val_loss: 1.0058 - val_acc: 0.5458\n",
            "Epoch 226/16000\n",
            " 99/100 [============================>.] - ETA: 0s - loss: 0.1312 - acc: 0.5882Epoch 00225: val_acc did not improve\n",
            "100/100 [==============================] - 59s - loss: 0.1314 - acc: 0.5886 - val_loss: 0.9962 - val_acc: 0.5505\n",
            "Epoch 227/16000\n",
            " 99/100 [============================>.] - ETA: 0s - loss: 0.1567 - acc: 0.5887Epoch 00226: val_acc did not improve\n",
            "100/100 [==============================] - 59s - loss: 0.1568 - acc: 0.5890 - val_loss: 0.9771 - val_acc: 0.5461\n",
            "Epoch 228/16000\n"
          ],
          "name": "stdout"
        },
        {
          "output_type": "stream",
          "text": [
            " 99/100 [============================>.] - ETA: 0s - loss: 0.1289 - acc: 0.5943Epoch 00227: val_acc did not improve\n",
            "100/100 [==============================] - 59s - loss: 0.1281 - acc: 0.5942 - val_loss: 0.9926 - val_acc: 0.5428\n",
            "Epoch 229/16000\n",
            " 99/100 [============================>.] - ETA: 0s - loss: 0.1282 - acc: 0.5884Epoch 00228: val_acc did not improve\n",
            "100/100 [==============================] - 59s - loss: 0.1271 - acc: 0.5892 - val_loss: 0.9300 - val_acc: 0.5510\n",
            "Epoch 230/16000\n",
            " 99/100 [============================>.] - ETA: 0s - loss: 0.1474 - acc: 0.5891Epoch 00229: val_acc did not improve\n",
            "100/100 [==============================] - 59s - loss: 0.1471 - acc: 0.5897 - val_loss: 0.9625 - val_acc: 0.5480\n",
            "Epoch 231/16000\n"
          ],
          "name": "stdout"
        },
        {
          "output_type": "stream",
          "text": [
            " 99/100 [============================>.] - ETA: 0s - loss: 0.1356 - acc: 0.5912Epoch 00230: val_acc did not improve\n",
            "100/100 [==============================] - 59s - loss: 0.1344 - acc: 0.5913 - val_loss: 1.0141 - val_acc: 0.5372\n",
            "Epoch 232/16000\n",
            " 99/100 [============================>.] - ETA: 0s - loss: 0.1275 - acc: 0.5949Epoch 00231: val_acc did not improve\n",
            "100/100 [==============================] - 59s - loss: 0.1285 - acc: 0.5954 - val_loss: 0.9772 - val_acc: 0.5524\n",
            "Epoch 233/16000\n",
            " 99/100 [============================>.] - ETA: 0s - loss: 0.1394 - acc: 0.5866Epoch 00232: val_acc did not improve\n",
            "100/100 [==============================] - 59s - loss: 0.1389 - acc: 0.5879 - val_loss: 0.9681 - val_acc: 0.5509\n",
            "Epoch 234/16000\n"
          ],
          "name": "stdout"
        },
        {
          "output_type": "stream",
          "text": [
            " 99/100 [============================>.] - ETA: 0s - loss: 0.1409 - acc: 0.5892Epoch 00233: val_acc improved from 0.55253 to 0.55292, saving model to best_model_new.h5\n",
            "100/100 [==============================] - 61s - loss: 0.1415 - acc: 0.5880 - val_loss: 0.9699 - val_acc: 0.5529\n",
            "Epoch 235/16000\n",
            " 99/100 [============================>.] - ETA: 0s - loss: 0.1547 - acc: 0.5950Epoch 00234: val_acc improved from 0.55292 to 0.55318, saving model to best_model_new.h5\n",
            "100/100 [==============================] - 61s - loss: 0.1533 - acc: 0.5944 - val_loss: 0.9481 - val_acc: 0.5532\n",
            "Epoch 236/16000\n",
            " 77/100 [======================>.......] - ETA: 7s - loss: 0.1596 - acc: 0.5881"
          ],
          "name": "stdout"
        },
        {
          "output_type": "stream",
          "text": [
            " 99/100 [============================>.] - ETA: 0s - loss: 0.1483 - acc: 0.5930Epoch 00235: val_acc did not improve\n",
            "100/100 [==============================] - 59s - loss: 0.1471 - acc: 0.5932 - val_loss: 1.0232 - val_acc: 0.5441\n",
            "Epoch 237/16000\n",
            " 99/100 [============================>.] - ETA: 0s - loss: 0.1217 - acc: 0.5936Epoch 00236: val_acc improved from 0.55318 to 0.55399, saving model to best_model_new.h5\n",
            "100/100 [==============================] - 61s - loss: 0.1207 - acc: 0.5930 - val_loss: 0.9442 - val_acc: 0.5540\n",
            "Epoch 238/16000\n",
            " 99/100 [============================>.] - ETA: 0s - loss: 0.1330 - acc: 0.5871Epoch 00237: val_acc did not improve\n",
            "100/100 [==============================] - 59s - loss: 0.1331 - acc: 0.5861 - val_loss: 0.9537 - val_acc: 0.5518\n",
            "Epoch 239/16000\n",
            "  1/100 [..............................] - ETA: 31s - loss: 0.0217 - acc: 0.6300"
          ],
          "name": "stdout"
        },
        {
          "output_type": "stream",
          "text": [
            " 99/100 [============================>.] - ETA: 0s - loss: 0.1298 - acc: 0.5950Epoch 00238: val_acc did not improve\n",
            "100/100 [==============================] - 59s - loss: 0.1286 - acc: 0.5957 - val_loss: 1.0022 - val_acc: 0.5472\n",
            "Epoch 240/16000\n",
            " 99/100 [============================>.] - ETA: 0s - loss: 0.1197 - acc: 0.5915Epoch 00239: val_acc did not improve\n",
            "100/100 [==============================] - 59s - loss: 0.1189 - acc: 0.5913 - val_loss: 0.9513 - val_acc: 0.5462\n",
            "Epoch 241/16000\n",
            " 99/100 [============================>.] - ETA: 0s - loss: 0.1586 - acc: 0.5942Epoch 00240: val_acc did not improve\n",
            "100/100 [==============================] - 59s - loss: 0.1586 - acc: 0.5947 - val_loss: 0.9467 - val_acc: 0.5528\n",
            "Epoch 242/16000\n"
          ],
          "name": "stdout"
        },
        {
          "output_type": "stream",
          "text": [
            " 99/100 [============================>.] - ETA: 0s - loss: 0.1315 - acc: 0.5932Epoch 00241: val_acc did not improve\n",
            "100/100 [==============================] - 59s - loss: 0.1322 - acc: 0.5931 - val_loss: 0.9985 - val_acc: 0.5493\n",
            "Epoch 243/16000\n",
            " 99/100 [============================>.] - ETA: 0s - loss: 0.1505 - acc: 0.5925Epoch 00242: val_acc did not improve\n",
            "100/100 [==============================] - 59s - loss: 0.1516 - acc: 0.5925 - val_loss: 1.0086 - val_acc: 0.5392\n",
            "Epoch 244/16000\n",
            " 99/100 [============================>.] - ETA: 0s - loss: 0.1566 - acc: 0.5795Epoch 00243: val_acc did not improve\n",
            "100/100 [==============================] - 59s - loss: 0.1563 - acc: 0.5796 - val_loss: 0.9711 - val_acc: 0.5503\n",
            "Epoch 245/16000\n"
          ],
          "name": "stdout"
        },
        {
          "output_type": "stream",
          "text": [
            " 99/100 [============================>.] - ETA: 0s - loss: 0.1385 - acc: 0.5947Epoch 00244: val_acc improved from 0.55399 to 0.55407, saving model to best_model_new.h5\n",
            "100/100 [==============================] - 61s - loss: 0.1378 - acc: 0.5945 - val_loss: 0.9406 - val_acc: 0.5541\n",
            "Epoch 246/16000\n",
            " 99/100 [============================>.] - ETA: 0s - loss: 0.1190 - acc: 0.5956Epoch 00245: val_acc improved from 0.55407 to 0.55473, saving model to best_model_new.h5\n",
            "100/100 [==============================] - 61s - loss: 0.1188 - acc: 0.5955 - val_loss: 0.9523 - val_acc: 0.5547\n",
            "Epoch 247/16000\n",
            " 77/100 [======================>.......] - ETA: 7s - loss: 0.1208 - acc: 0.5971"
          ],
          "name": "stdout"
        },
        {
          "output_type": "stream",
          "text": [
            " 99/100 [============================>.] - ETA: 0s - loss: 0.1216 - acc: 0.5964Epoch 00246: val_acc did not improve\n",
            "100/100 [==============================] - 59s - loss: 0.1213 - acc: 0.5962 - val_loss: 0.9711 - val_acc: 0.5505\n",
            "Epoch 248/16000\n",
            " 99/100 [============================>.] - ETA: 0s - loss: 0.1150 - acc: 0.6014Epoch 00247: val_acc did not improve\n",
            "100/100 [==============================] - 59s - loss: 0.1155 - acc: 0.6015 - val_loss: 0.9570 - val_acc: 0.5522\n",
            "Epoch 249/16000\n",
            " 99/100 [============================>.] - ETA: 0s - loss: 0.1259 - acc: 0.5909Epoch 00248: val_acc did not improve\n",
            "100/100 [==============================] - 59s - loss: 0.1266 - acc: 0.5911 - val_loss: 1.0078 - val_acc: 0.5540\n",
            "Epoch 250/16000\n",
            "  8/100 [=>............................] - ETA: 29s - loss: 0.1621 - acc: 0.6021"
          ],
          "name": "stdout"
        },
        {
          "output_type": "stream",
          "text": [
            " 99/100 [============================>.] - ETA: 0s - loss: 0.1604 - acc: 0.5867Epoch 00249: val_acc did not improve\n",
            "100/100 [==============================] - 59s - loss: 0.1601 - acc: 0.5865 - val_loss: 0.9967 - val_acc: 0.5412\n",
            "Epoch 251/16000\n",
            " 99/100 [============================>.] - ETA: 0s - loss: 0.2153 - acc: 0.5738Epoch 00250: val_acc did not improve\n",
            "100/100 [==============================] - 58s - loss: 0.2139 - acc: 0.5746 - val_loss: 0.9674 - val_acc: 0.5460\n",
            "Epoch 252/16000\n",
            " 99/100 [============================>.] - ETA: 0s - loss: 0.1382 - acc: 0.5888Epoch 00251: val_acc did not improve\n",
            "100/100 [==============================] - 59s - loss: 0.1372 - acc: 0.5890 - val_loss: 0.9610 - val_acc: 0.5424\n",
            "Epoch 253/16000\n",
            "  1/100 [..............................] - ETA: 31s - loss: 0.1316 - acc: 0.6400"
          ],
          "name": "stdout"
        },
        {
          "output_type": "stream",
          "text": [
            " 99/100 [============================>.] - ETA: 0s - loss: 0.1342 - acc: 0.5905Epoch 00252: val_acc did not improve\n",
            "100/100 [==============================] - 59s - loss: 0.1329 - acc: 0.5907 - val_loss: 1.0110 - val_acc: 0.5469\n",
            "Epoch 254/16000\n",
            " 99/100 [============================>.] - ETA: 0s - loss: 0.1345 - acc: 0.5909Epoch 00253: val_acc did not improve\n",
            "100/100 [==============================] - 59s - loss: 0.1332 - acc: 0.5914 - val_loss: 0.9736 - val_acc: 0.5532\n",
            "Epoch 255/16000\n",
            " 99/100 [============================>.] - ETA: 0s - loss: 0.1524 - acc: 0.5886Epoch 00254: val_acc did not improve\n",
            "100/100 [==============================] - 59s - loss: 0.1540 - acc: 0.5885 - val_loss: 0.9652 - val_acc: 0.5469\n",
            "Epoch 256/16000\n"
          ],
          "name": "stdout"
        },
        {
          "output_type": "stream",
          "text": [
            " 99/100 [============================>.] - ETA: 0s - loss: 0.1246 - acc: 0.6005Epoch 00255: val_acc improved from 0.55473 to 0.56067, saving model to best_model_new.h5\n",
            "100/100 [==============================] - 61s - loss: 0.1244 - acc: 0.6006 - val_loss: 0.9092 - val_acc: 0.5607\n",
            "Epoch 257/16000\n",
            " 99/100 [============================>.] - ETA: 0s - loss: 0.1287 - acc: 0.6003Epoch 00256: val_acc did not improve\n",
            "100/100 [==============================] - 58s - loss: 0.1276 - acc: 0.6006 - val_loss: 0.9843 - val_acc: 0.5547\n",
            "Epoch 258/16000\n",
            " 85/100 [========================>.....] - ETA: 4s - loss: 0.1419 - acc: 0.5962"
          ],
          "name": "stdout"
        },
        {
          "output_type": "stream",
          "text": [
            " 99/100 [============================>.] - ETA: 0s - loss: 0.1326 - acc: 0.5962Epoch 00257: val_acc did not improve\n",
            "100/100 [==============================] - 59s - loss: 0.1332 - acc: 0.5964 - val_loss: 0.9308 - val_acc: 0.5598\n",
            "Epoch 259/16000\n",
            " 99/100 [============================>.] - ETA: 0s - loss: 0.1264 - acc: 0.5986Epoch 00258: val_acc did not improve\n",
            "100/100 [==============================] - 58s - loss: 0.1274 - acc: 0.5980 - val_loss: 0.9866 - val_acc: 0.5549\n",
            "Epoch 260/16000\n",
            " 99/100 [============================>.] - ETA: 0s - loss: 0.1136 - acc: 0.6010Epoch 00259: val_acc did not improve\n",
            "100/100 [==============================] - 59s - loss: 0.1133 - acc: 0.6008 - val_loss: 0.9684 - val_acc: 0.5571\n",
            "Epoch 261/16000\n",
            "  9/100 [=>............................] - ETA: 29s - loss: 0.1024 - acc: 0.6148"
          ],
          "name": "stdout"
        },
        {
          "output_type": "stream",
          "text": [
            " 99/100 [============================>.] - ETA: 0s - loss: 0.1080 - acc: 0.6060Epoch 00260: val_acc did not improve\n",
            "100/100 [==============================] - 59s - loss: 0.1075 - acc: 0.6055 - val_loss: 0.9949 - val_acc: 0.5517\n",
            "Epoch 262/16000\n",
            " 99/100 [============================>.] - ETA: 0s - loss: 0.1258 - acc: 0.5952Epoch 00261: val_acc did not improve\n",
            "100/100 [==============================] - 59s - loss: 0.1260 - acc: 0.5946 - val_loss: 0.9899 - val_acc: 0.5585\n",
            "Epoch 263/16000\n",
            " 99/100 [============================>.] - ETA: 0s - loss: 0.1255 - acc: 0.5930Epoch 00262: val_acc did not improve\n",
            "100/100 [==============================] - 59s - loss: 0.1289 - acc: 0.5931 - val_loss: 0.9600 - val_acc: 0.5559\n",
            "Epoch 264/16000\n",
            "  1/100 [..............................] - ETA: 32s - loss: 0.0926 - acc: 0.5833"
          ],
          "name": "stdout"
        },
        {
          "output_type": "stream",
          "text": [
            " 99/100 [============================>.] - ETA: 0s - loss: 0.1079 - acc: 0.5944Epoch 00263: val_acc did not improve\n",
            "100/100 [==============================] - 59s - loss: 0.1069 - acc: 0.5943 - val_loss: 0.9057 - val_acc: 0.5568\n",
            "Epoch 265/16000\n",
            " 99/100 [============================>.] - ETA: 0s - loss: 0.1292 - acc: 0.5953Epoch 00264: val_acc did not improve\n",
            "100/100 [==============================] - 59s - loss: 0.1298 - acc: 0.5956 - val_loss: 0.9299 - val_acc: 0.5589\n",
            "Epoch 266/16000\n",
            " 99/100 [============================>.] - ETA: 0s - loss: 0.1261 - acc: 0.5961Epoch 00265: val_acc did not improve\n",
            "100/100 [==============================] - 59s - loss: 0.1275 - acc: 0.5961 - val_loss: 0.9528 - val_acc: 0.5529\n",
            "Epoch 267/16000\n"
          ],
          "name": "stdout"
        },
        {
          "output_type": "stream",
          "text": [
            " 99/100 [============================>.] - ETA: 0s - loss: 0.1177 - acc: 0.5989Epoch 00266: val_acc did not improve\n",
            "100/100 [==============================] - 59s - loss: 0.1167 - acc: 0.5992 - val_loss: 0.9739 - val_acc: 0.5589\n",
            "Epoch 268/16000\n",
            " 99/100 [============================>.] - ETA: 0s - loss: 0.1162 - acc: 0.6018Epoch 00267: val_acc did not improve\n",
            "100/100 [==============================] - 59s - loss: 0.1157 - acc: 0.6021 - val_loss: 0.9285 - val_acc: 0.5518\n",
            "Epoch 269/16000\n",
            " 99/100 [============================>.] - ETA: 0s - loss: 0.1197 - acc: 0.5944Epoch 00268: val_acc did not improve\n",
            "100/100 [==============================] - 59s - loss: 0.1187 - acc: 0.5949 - val_loss: 0.9451 - val_acc: 0.5515\n",
            "Epoch 270/16000\n"
          ],
          "name": "stdout"
        },
        {
          "output_type": "stream",
          "text": [
            " 99/100 [============================>.] - ETA: 0s - loss: 0.1243 - acc: 0.5909Epoch 00269: val_acc did not improve\n",
            "100/100 [==============================] - 59s - loss: 0.1241 - acc: 0.5915 - val_loss: 0.9997 - val_acc: 0.5562\n",
            "Epoch 271/16000\n",
            " 99/100 [============================>.] - ETA: 0s - loss: 0.1146 - acc: 0.5998Epoch 00270: val_acc did not improve\n",
            "100/100 [==============================] - 59s - loss: 0.1139 - acc: 0.5991 - val_loss: 0.9783 - val_acc: 0.5443\n",
            "Epoch 272/16000\n",
            " 99/100 [============================>.] - ETA: 0s - loss: 0.1213 - acc: 0.6043Epoch 00271: val_acc did not improve\n",
            "100/100 [==============================] - 59s - loss: 0.1215 - acc: 0.6036 - val_loss: 0.9762 - val_acc: 0.5471\n",
            "Epoch 273/16000\n"
          ],
          "name": "stdout"
        },
        {
          "output_type": "stream",
          "text": [
            " 99/100 [============================>.] - ETA: 0s - loss: 0.1258 - acc: 0.5891Epoch 00272: val_acc did not improve\n",
            "100/100 [==============================] - 59s - loss: 0.1248 - acc: 0.5895 - val_loss: 0.9425 - val_acc: 0.5498\n",
            "Epoch 274/16000\n",
            " 99/100 [============================>.] - ETA: 0s - loss: 0.1324 - acc: 0.5879Epoch 00273: val_acc did not improve\n",
            "100/100 [==============================] - 59s - loss: 0.1314 - acc: 0.5882 - val_loss: 0.9324 - val_acc: 0.5564\n",
            "Epoch 275/16000\n",
            " 99/100 [============================>.] - ETA: 0s - loss: 0.1131 - acc: 0.6011Epoch 00274: val_acc did not improve\n",
            "100/100 [==============================] - 59s - loss: 0.1131 - acc: 0.6012 - val_loss: 0.9526 - val_acc: 0.5515\n",
            "Epoch 276/16000\n"
          ],
          "name": "stdout"
        },
        {
          "output_type": "stream",
          "text": [
            " 99/100 [============================>.] - ETA: 0s - loss: 0.1086 - acc: 0.6015Epoch 00275: val_acc improved from 0.56067 to 0.56223, saving model to best_model_new.h5\n",
            "100/100 [==============================] - 61s - loss: 0.1082 - acc: 0.6011 - val_loss: 0.8748 - val_acc: 0.5622\n",
            "Epoch 277/16000\n",
            " 99/100 [============================>.] - ETA: 0s - loss: 0.1176 - acc: 0.5990Epoch 00276: val_acc did not improve\n",
            "100/100 [==============================] - 59s - loss: 0.1168 - acc: 0.5995 - val_loss: 0.9671 - val_acc: 0.5542\n",
            "Epoch 278/16000\n",
            " 85/100 [========================>.....] - ETA: 4s - loss: 0.1119 - acc: 0.5973"
          ],
          "name": "stdout"
        },
        {
          "output_type": "stream",
          "text": [
            " 99/100 [============================>.] - ETA: 0s - loss: 0.1053 - acc: 0.5970Epoch 00277: val_acc did not improve\n",
            "100/100 [==============================] - 59s - loss: 0.1046 - acc: 0.5976 - val_loss: 0.9531 - val_acc: 0.5528\n",
            "Epoch 279/16000\n",
            " 99/100 [============================>.] - ETA: 0s - loss: 0.1444 - acc: 0.5984Epoch 00278: val_acc did not improve\n",
            "100/100 [==============================] - 59s - loss: 0.1459 - acc: 0.5980 - val_loss: 0.9843 - val_acc: 0.5484\n",
            "Epoch 280/16000\n",
            " 99/100 [============================>.] - ETA: 0s - loss: 0.2474 - acc: 0.5784Epoch 00279: val_acc did not improve\n",
            "100/100 [==============================] - 59s - loss: 0.2467 - acc: 0.5777 - val_loss: 0.9545 - val_acc: 0.5440\n",
            "Epoch 281/16000\n",
            "  9/100 [=>............................] - ETA: 29s - loss: 0.1747 - acc: 0.5978"
          ],
          "name": "stdout"
        },
        {
          "output_type": "stream",
          "text": [
            " 99/100 [============================>.] - ETA: 0s - loss: 0.1246 - acc: 0.5987Epoch 00280: val_acc did not improve\n",
            "100/100 [==============================] - 59s - loss: 0.1246 - acc: 0.5984 - val_loss: 0.9688 - val_acc: 0.5559\n",
            "Epoch 282/16000\n",
            " 99/100 [============================>.] - ETA: 0s - loss: 0.1201 - acc: 0.5946Epoch 00281: val_acc did not improve\n",
            "100/100 [==============================] - 59s - loss: 0.1200 - acc: 0.5956 - val_loss: 0.9513 - val_acc: 0.5504\n",
            "Epoch 283/16000\n",
            " 99/100 [============================>.] - ETA: 0s - loss: 0.1236 - acc: 0.5927Epoch 00282: val_acc did not improve\n",
            "100/100 [==============================] - 59s - loss: 0.1224 - acc: 0.5928 - val_loss: 0.9394 - val_acc: 0.5547\n",
            "Epoch 284/16000\n",
            "  1/100 [..............................] - ETA: 30s - loss: 0.1745 - acc: 0.6033"
          ],
          "name": "stdout"
        },
        {
          "output_type": "stream",
          "text": [
            " 99/100 [============================>.] - ETA: 0s - loss: 0.1116 - acc: 0.6015Epoch 00283: val_acc did not improve\n",
            "100/100 [==============================] - 59s - loss: 0.1116 - acc: 0.6011 - val_loss: 0.9169 - val_acc: 0.5547\n",
            "Epoch 285/16000\n",
            " 99/100 [============================>.] - ETA: 0s - loss: 0.1127 - acc: 0.5968Epoch 00284: val_acc did not improve\n",
            "100/100 [==============================] - 59s - loss: 0.1116 - acc: 0.5970 - val_loss: 0.8889 - val_acc: 0.5597\n",
            "Epoch 286/16000\n",
            " 99/100 [============================>.] - ETA: 0s - loss: 0.1130 - acc: 0.6005Epoch 00285: val_acc did not improve\n",
            "100/100 [==============================] - 59s - loss: 0.1120 - acc: 0.6001 - val_loss: 0.9422 - val_acc: 0.5550\n",
            "Epoch 287/16000\n"
          ],
          "name": "stdout"
        },
        {
          "output_type": "stream",
          "text": [
            " 99/100 [============================>.] - ETA: 0s - loss: 0.1032 - acc: 0.6005Epoch 00286: val_acc did not improve\n",
            "100/100 [==============================] - 59s - loss: 0.1022 - acc: 0.6005 - val_loss: 0.9580 - val_acc: 0.5515\n",
            "Epoch 288/16000\n",
            " 99/100 [============================>.] - ETA: 0s - loss: 0.0780 - acc: 0.6019Epoch 00287: val_acc did not improve\n",
            "100/100 [==============================] - 59s - loss: 0.0774 - acc: 0.6018 - val_loss: 0.9075 - val_acc: 0.5613\n",
            "Epoch 289/16000\n",
            " 99/100 [============================>.] - ETA: 0s - loss: 0.1037 - acc: 0.6035Epoch 00288: val_acc improved from 0.56223 to 0.57005, saving model to best_model_new.h5\n",
            "100/100 [==============================] - 61s - loss: 0.1033 - acc: 0.6043 - val_loss: 0.8982 - val_acc: 0.5700"
          ],
          "name": "stdout"
        },
        {
          "output_type": "stream",
          "text": [
            "\n",
            "Epoch 290/16000\n",
            " 99/100 [============================>.] - ETA: 0s - loss: 0.0793 - acc: 0.5998Epoch 00289: val_acc did not improve\n",
            "100/100 [==============================] - 59s - loss: 0.0786 - acc: 0.5998 - val_loss: 0.9116 - val_acc: 0.5644\n",
            "Epoch 291/16000\n",
            " 99/100 [============================>.] - ETA: 0s - loss: 0.0904 - acc: 0.6058Epoch 00290: val_acc did not improve\n",
            "100/100 [==============================] - 59s - loss: 0.0913 - acc: 0.6058 - val_loss: 0.9439 - val_acc: 0.5621\n",
            "Epoch 292/16000\n",
            " 93/100 [==========================>...] - ETA: 2s - loss: 0.1010 - acc: 0.5982"
          ],
          "name": "stdout"
        },
        {
          "output_type": "stream",
          "text": [
            " 99/100 [============================>.] - ETA: 0s - loss: 0.0974 - acc: 0.6000Epoch 00291: val_acc did not improve\n",
            "100/100 [==============================] - 59s - loss: 0.1003 - acc: 0.5991 - val_loss: 0.9365 - val_acc: 0.5617\n",
            "Epoch 293/16000\n",
            " 99/100 [============================>.] - ETA: 0s - loss: 0.1197 - acc: 0.5959Epoch 00292: val_acc did not improve\n",
            "100/100 [==============================] - 59s - loss: 0.1201 - acc: 0.5962 - val_loss: 0.9883 - val_acc: 0.5583\n",
            "Epoch 294/16000\n",
            " 99/100 [============================>.] - ETA: 0s - loss: 0.0862 - acc: 0.5916Epoch 00293: val_acc improved from 0.57005 to 0.57049, saving model to best_model_new.h5\n",
            "100/100 [==============================] - 61s - loss: 0.0856 - acc: 0.5923 - val_loss: 0.8632 - val_acc: 0.5705\n",
            "Epoch 295/16000\n",
            "  8/100 [=>............................] - ETA: 30s - loss: 0.0662 - acc: 0.5767"
          ],
          "name": "stdout"
        },
        {
          "output_type": "stream",
          "text": [
            " 99/100 [============================>.] - ETA: 0s - loss: 0.0858 - acc: 0.6019Epoch 00294: val_acc did not improve\n",
            "100/100 [==============================] - 59s - loss: 0.0863 - acc: 0.6017 - val_loss: 0.8904 - val_acc: 0.5654\n",
            "Epoch 296/16000\n",
            " 99/100 [============================>.] - ETA: 0s - loss: 0.0816 - acc: 0.6080Epoch 00295: val_acc did not improve\n",
            "100/100 [==============================] - 59s - loss: 0.0810 - acc: 0.6082 - val_loss: 0.9078 - val_acc: 0.5646\n",
            "Epoch 297/16000\n",
            " 99/100 [============================>.] - ETA: 0s - loss: 0.0910 - acc: 0.5994Epoch 00296: val_acc did not improve\n",
            "100/100 [==============================] - 59s - loss: 0.0902 - acc: 0.5988 - val_loss: 0.9147 - val_acc: 0.5621\n",
            "Epoch 298/16000\n",
            "  1/100 [..............................] - ETA: 33s - loss: 0.1173 - acc: 0.5200"
          ],
          "name": "stdout"
        },
        {
          "output_type": "stream",
          "text": [
            " 99/100 [============================>.] - ETA: 0s - loss: 0.0971 - acc: 0.5969Epoch 00297: val_acc did not improve\n",
            "100/100 [==============================] - 59s - loss: 0.0963 - acc: 0.5962 - val_loss: 0.9347 - val_acc: 0.5649\n",
            "Epoch 299/16000\n",
            " 99/100 [============================>.] - ETA: 0s - loss: 0.1039 - acc: 0.5981Epoch 00298: val_acc did not improve\n",
            "100/100 [==============================] - 59s - loss: 0.1032 - acc: 0.5984 - val_loss: 0.8829 - val_acc: 0.5657\n",
            "Epoch 300/16000\n",
            " 99/100 [============================>.] - ETA: 0s - loss: 0.0943 - acc: 0.6004Epoch 00299: val_acc did not improve\n",
            "100/100 [==============================] - 59s - loss: 0.0955 - acc: 0.6001 - val_loss: 0.9543 - val_acc: 0.5614\n",
            "Epoch 301/16000\n"
          ],
          "name": "stdout"
        },
        {
          "output_type": "stream",
          "text": [
            " 99/100 [============================>.] - ETA: 0s - loss: 0.0904 - acc: 0.5975Epoch 00300: val_acc did not improve\n",
            "100/100 [==============================] - 59s - loss: 0.0903 - acc: 0.5976 - val_loss: 0.9355 - val_acc: 0.5659\n",
            "Epoch 302/16000\n",
            " 99/100 [============================>.] - ETA: 0s - loss: 0.0977 - acc: 0.6008Epoch 00301: val_acc did not improve\n",
            "100/100 [==============================] - 59s - loss: 0.0976 - acc: 0.6009 - val_loss: 0.9450 - val_acc: 0.5670\n",
            "Epoch 303/16000\n",
            " 99/100 [============================>.] - ETA: 0s - loss: 0.1188 - acc: 0.5932Epoch 00302: val_acc improved from 0.57049 to 0.57197, saving model to best_model_new.h5\n",
            "100/100 [==============================] - 61s - loss: 0.1196 - acc: 0.5934 - val_loss: 0.8929 - val_acc: 0.5720"
          ],
          "name": "stdout"
        },
        {
          "output_type": "stream",
          "text": [
            "\n",
            "Epoch 304/16000\n",
            " 99/100 [============================>.] - ETA: 0s - loss: 0.1196 - acc: 0.5965Epoch 00303: val_acc did not improve\n",
            "100/100 [==============================] - 58s - loss: 0.1193 - acc: 0.5959 - val_loss: 0.9548 - val_acc: 0.5651\n",
            "Epoch 305/16000\n",
            " 99/100 [============================>.] - ETA: 0s - loss: 0.1009 - acc: 0.5954Epoch 00304: val_acc did not improve\n",
            "100/100 [==============================] - 58s - loss: 0.1000 - acc: 0.5951 - val_loss: 0.9219 - val_acc: 0.5655\n",
            "Epoch 306/16000\n",
            " 93/100 [==========================>...] - ETA: 2s - loss: 0.1005 - acc: 0.5969"
          ],
          "name": "stdout"
        },
        {
          "output_type": "stream",
          "text": [
            " 99/100 [============================>.] - ETA: 0s - loss: 0.1009 - acc: 0.5976Epoch 00305: val_acc did not improve\n",
            "100/100 [==============================] - 58s - loss: 0.1009 - acc: 0.5981 - val_loss: 0.8806 - val_acc: 0.5684\n",
            "Epoch 307/16000\n",
            " 99/100 [============================>.] - ETA: 0s - loss: 0.1003 - acc: 0.6007Epoch 00306: val_acc did not improve\n",
            "100/100 [==============================] - 58s - loss: 0.1016 - acc: 0.6009 - val_loss: 0.9108 - val_acc: 0.5609\n",
            "Epoch 308/16000\n",
            " 99/100 [============================>.] - ETA: 0s - loss: 0.0995 - acc: 0.5822Epoch 00307: val_acc did not improve\n",
            "100/100 [==============================] - 58s - loss: 0.0985 - acc: 0.5822 - val_loss: 0.9202 - val_acc: 0.5664\n",
            "Epoch 309/16000\n",
            "  9/100 [=>............................] - ETA: 29s - loss: 0.0604 - acc: 0.5885"
          ],
          "name": "stdout"
        },
        {
          "output_type": "stream",
          "text": [
            " 99/100 [============================>.] - ETA: 0s - loss: 0.1011 - acc: 0.5987Epoch 00308: val_acc did not improve\n",
            "100/100 [==============================] - 59s - loss: 0.1001 - acc: 0.5990 - val_loss: 0.8928 - val_acc: 0.5685\n",
            "Epoch 310/16000\n",
            " 99/100 [============================>.] - ETA: 0s - loss: 0.0849 - acc: 0.5931Epoch 00309: val_acc did not improve\n",
            "100/100 [==============================] - 59s - loss: 0.0875 - acc: 0.5926 - val_loss: 0.8956 - val_acc: 0.5649\n",
            "Epoch 311/16000\n",
            " 99/100 [============================>.] - ETA: 0s - loss: 0.0914 - acc: 0.5906Epoch 00310: val_acc did not improve\n",
            "100/100 [==============================] - 58s - loss: 0.0909 - acc: 0.5906 - val_loss: 0.9078 - val_acc: 0.5663\n",
            "Epoch 312/16000\n",
            "  1/100 [..............................] - ETA: 31s - loss: 0.0845 - acc: 0.5767"
          ],
          "name": "stdout"
        },
        {
          "output_type": "stream",
          "text": [
            " 99/100 [============================>.] - ETA: 0s - loss: 0.0772 - acc: 0.5993Epoch 00311: val_acc did not improve\n",
            "100/100 [==============================] - 58s - loss: 0.0767 - acc: 0.5997 - val_loss: 0.9011 - val_acc: 0.5655\n",
            "Epoch 313/16000\n",
            " 99/100 [============================>.] - ETA: 0s - loss: 0.0804 - acc: 0.6032Epoch 00312: val_acc did not improve\n",
            "100/100 [==============================] - 58s - loss: 0.0798 - acc: 0.6029 - val_loss: 0.8733 - val_acc: 0.5691\n",
            "Epoch 314/16000\n",
            " 99/100 [============================>.] - ETA: 0s - loss: 0.0895 - acc: 0.5970Epoch 00313: val_acc did not improve\n",
            "100/100 [==============================] - 59s - loss: 0.0888 - acc: 0.5967 - val_loss: 0.8550 - val_acc: 0.5681\n",
            "Epoch 315/16000\n"
          ],
          "name": "stdout"
        },
        {
          "output_type": "stream",
          "text": [
            " 99/100 [============================>.] - ETA: 0s - loss: 0.0804 - acc: 0.5973Epoch 00314: val_acc improved from 0.57197 to 0.57389, saving model to best_model_new.h5\n",
            "100/100 [==============================] - 61s - loss: 0.0798 - acc: 0.5969 - val_loss: 0.8820 - val_acc: 0.5739\n",
            "Epoch 316/16000\n",
            " 99/100 [============================>.] - ETA: 0s - loss: 0.1002 - acc: 0.5970Epoch 00315: val_acc did not improve\n",
            "100/100 [==============================] - 59s - loss: 0.0996 - acc: 0.5976 - val_loss: 0.8981 - val_acc: 0.5693\n",
            "Epoch 317/16000\n",
            " 85/100 [========================>.....] - ETA: 4s - loss: 0.1113 - acc: 0.5990"
          ],
          "name": "stdout"
        },
        {
          "output_type": "stream",
          "text": [
            " 99/100 [============================>.] - ETA: 0s - loss: 0.1029 - acc: 0.5980Epoch 00316: val_acc did not improve\n",
            "100/100 [==============================] - 58s - loss: 0.1034 - acc: 0.5970 - val_loss: 0.8558 - val_acc: 0.5701\n",
            "Epoch 318/16000\n",
            " 99/100 [============================>.] - ETA: 0s - loss: 0.0829 - acc: 0.6016Epoch 00317: val_acc did not improve\n",
            "100/100 [==============================] - 59s - loss: 0.0836 - acc: 0.6009 - val_loss: 0.9086 - val_acc: 0.5645\n",
            "Epoch 319/16000\n",
            " 99/100 [============================>.] - ETA: 0s - loss: 0.0968 - acc: 0.5967Epoch 00318: val_acc did not improve\n",
            "100/100 [==============================] - 58s - loss: 0.0960 - acc: 0.5966 - val_loss: 0.9506 - val_acc: 0.5658\n",
            "Epoch 320/16000\n",
            "  9/100 [=>............................] - ETA: 29s - loss: 0.1625 - acc: 0.5848"
          ],
          "name": "stdout"
        },
        {
          "output_type": "stream",
          "text": [
            " 99/100 [============================>.] - ETA: 0s - loss: 0.1397 - acc: 0.5916Epoch 00319: val_acc did not improve\n",
            "100/100 [==============================] - 58s - loss: 0.1388 - acc: 0.5922 - val_loss: 0.9312 - val_acc: 0.5527\n",
            "Epoch 321/16000\n",
            " 99/100 [============================>.] - ETA: 0s - loss: 0.1238 - acc: 0.5902Epoch 00320: val_acc did not improve\n",
            "100/100 [==============================] - 59s - loss: 0.1241 - acc: 0.5895 - val_loss: 0.9476 - val_acc: 0.5698\n",
            "Epoch 322/16000\n",
            " 99/100 [============================>.] - ETA: 0s - loss: 0.1011 - acc: 0.6025Epoch 00321: val_acc did not improve\n",
            "100/100 [==============================] - 58s - loss: 0.1013 - acc: 0.6031 - val_loss: 0.9371 - val_acc: 0.5583\n",
            "Epoch 323/16000\n",
            "  1/100 [..............................] - ETA: 31s - loss: 0.1646 - acc: 0.5800"
          ],
          "name": "stdout"
        },
        {
          "output_type": "stream",
          "text": [
            " 99/100 [============================>.] - ETA: 0s - loss: 0.1106 - acc: 0.5992Epoch 00322: val_acc did not improve\n",
            "100/100 [==============================] - 59s - loss: 0.1112 - acc: 0.5998 - val_loss: 0.9296 - val_acc: 0.5633\n",
            "Epoch 324/16000\n",
            " 99/100 [============================>.] - ETA: 0s - loss: 0.1381 - acc: 0.5965Epoch 00323: val_acc did not improve\n",
            "100/100 [==============================] - 59s - loss: 0.1373 - acc: 0.5960 - val_loss: 1.0115 - val_acc: 0.5481\n",
            "Epoch 325/16000\n",
            " 99/100 [============================>.] - ETA: 0s - loss: 0.1707 - acc: 0.5770Epoch 00324: val_acc did not improve\n",
            "100/100 [==============================] - 59s - loss: 0.1692 - acc: 0.5765 - val_loss: 0.9481 - val_acc: 0.5543\n",
            "Epoch 326/16000\n"
          ],
          "name": "stdout"
        },
        {
          "output_type": "stream",
          "text": [
            " 99/100 [============================>.] - ETA: 0s - loss: 0.1199 - acc: 0.5955Epoch 00325: val_acc did not improve\n",
            "100/100 [==============================] - 59s - loss: 0.1190 - acc: 0.5953 - val_loss: 0.9805 - val_acc: 0.5501\n",
            "Epoch 327/16000\n",
            " 99/100 [============================>.] - ETA: 0s - loss: 0.0919 - acc: 0.5930Epoch 00326: val_acc did not improve\n",
            "100/100 [==============================] - 59s - loss: 0.0921 - acc: 0.5930 - val_loss: 0.9862 - val_acc: 0.5540\n",
            "Epoch 328/16000\n",
            " 99/100 [============================>.] - ETA: 0s - loss: 0.1271 - acc: 0.5968Epoch 00327: val_acc did not improve\n",
            "100/100 [==============================] - 59s - loss: 0.1263 - acc: 0.5973 - val_loss: 0.9108 - val_acc: 0.5627\n",
            "Epoch 329/16000\n"
          ],
          "name": "stdout"
        },
        {
          "output_type": "stream",
          "text": [
            " 99/100 [============================>.] - ETA: 0s - loss: 0.1324 - acc: 0.5950Epoch 00328: val_acc did not improve\n",
            "100/100 [==============================] - 59s - loss: 0.1330 - acc: 0.5955 - val_loss: 0.9061 - val_acc: 0.5671\n",
            "Epoch 330/16000\n",
            " 99/100 [============================>.] - ETA: 0s - loss: 0.1243 - acc: 0.5950Epoch 00329: val_acc did not improve\n",
            "100/100 [==============================] - 59s - loss: 0.1235 - acc: 0.5956 - val_loss: 0.9538 - val_acc: 0.5605\n",
            "Epoch 331/16000\n",
            " 99/100 [============================>.] - ETA: 0s - loss: 0.1150 - acc: 0.5908Epoch 00330: val_acc did not improve\n",
            "100/100 [==============================] - 58s - loss: 0.1143 - acc: 0.5903 - val_loss: 0.9286 - val_acc: 0.5674\n",
            "Epoch 332/16000\n"
          ],
          "name": "stdout"
        },
        {
          "output_type": "stream",
          "text": [
            " 99/100 [============================>.] - ETA: 0s - loss: 0.0958 - acc: 0.6076Epoch 00331: val_acc did not improve\n",
            "100/100 [==============================] - 59s - loss: 0.0950 - acc: 0.6077 - val_loss: 0.8720 - val_acc: 0.5652\n",
            "Epoch 333/16000\n",
            " 99/100 [============================>.] - ETA: 0s - loss: 0.0987 - acc: 0.6039Epoch 00332: val_acc improved from 0.57389 to 0.57841, saving model to best_model_new.h5\n",
            "100/100 [==============================] - 61s - loss: 0.0978 - acc: 0.6032 - val_loss: 0.8894 - val_acc: 0.5784\n",
            "Epoch 334/16000\n",
            " 93/100 [==========================>...] - ETA: 2s - loss: 0.0946 - acc: 0.5984"
          ],
          "name": "stdout"
        },
        {
          "output_type": "stream",
          "text": [
            " 99/100 [============================>.] - ETA: 0s - loss: 0.1017 - acc: 0.5974Epoch 00333: val_acc did not improve\n",
            "100/100 [==============================] - 59s - loss: 0.1012 - acc: 0.5980 - val_loss: 0.8821 - val_acc: 0.5742\n",
            "Epoch 335/16000\n",
            " 99/100 [============================>.] - ETA: 0s - loss: 0.0949 - acc: 0.5988Epoch 00334: val_acc did not improve\n",
            "100/100 [==============================] - 59s - loss: 0.0943 - acc: 0.5987 - val_loss: 0.8762 - val_acc: 0.5739\n",
            "Epoch 336/16000\n",
            " 99/100 [============================>.] - ETA: 0s - loss: 0.0870 - acc: 0.6013Epoch 00335: val_acc did not improve\n",
            "100/100 [==============================] - 59s - loss: 0.0886 - acc: 0.6005 - val_loss: 0.8674 - val_acc: 0.5768\n",
            "Epoch 337/16000\n",
            "  9/100 [=>............................] - ETA: 29s - loss: 0.1114 - acc: 0.5881"
          ],
          "name": "stdout"
        },
        {
          "output_type": "stream",
          "text": [
            " 99/100 [============================>.] - ETA: 0s - loss: 0.1112 - acc: 0.5986Epoch 00336: val_acc did not improve\n",
            "100/100 [==============================] - 59s - loss: 0.1105 - acc: 0.5991 - val_loss: 0.8804 - val_acc: 0.5697\n",
            "Epoch 338/16000\n",
            " 99/100 [============================>.] - ETA: 0s - loss: 0.0870 - acc: 0.5940Epoch 00337: val_acc did not improve\n",
            "100/100 [==============================] - 59s - loss: 0.0863 - acc: 0.5939 - val_loss: 0.8695 - val_acc: 0.5758\n",
            "Epoch 339/16000\n",
            " 99/100 [============================>.] - ETA: 0s - loss: 0.0894 - acc: 0.5953Epoch 00338: val_acc did not improve\n",
            "100/100 [==============================] - 59s - loss: 0.0894 - acc: 0.5956 - val_loss: 0.8667 - val_acc: 0.5730\n",
            "Epoch 340/16000\n",
            "  1/100 [..............................] - ETA: 32s - loss: 0.0843 - acc: 0.6400"
          ],
          "name": "stdout"
        },
        {
          "output_type": "stream",
          "text": [
            " 99/100 [============================>.] - ETA: 0s - loss: 0.0814 - acc: 0.5979Epoch 00339: val_acc did not improve\n",
            "100/100 [==============================] - 59s - loss: 0.0836 - acc: 0.5975 - val_loss: 0.8808 - val_acc: 0.5758\n",
            "Epoch 341/16000\n",
            " 99/100 [============================>.] - ETA: 0s - loss: 0.0658 - acc: 0.6025Epoch 00340: val_acc did not improve\n",
            "100/100 [==============================] - 59s - loss: 0.0669 - acc: 0.6023 - val_loss: 0.8854 - val_acc: 0.5738\n",
            "Epoch 342/16000\n",
            " 99/100 [============================>.] - ETA: 0s - loss: 0.0943 - acc: 0.5969Epoch 00341: val_acc did not improve\n",
            "100/100 [==============================] - 59s - loss: 0.0966 - acc: 0.5961 - val_loss: 0.9057 - val_acc: 0.5662\n",
            "Epoch 343/16000\n"
          ],
          "name": "stdout"
        },
        {
          "output_type": "stream",
          "text": [
            " 99/100 [============================>.] - ETA: 0s - loss: 0.0833 - acc: 0.5953Epoch 00342: val_acc did not improve\n",
            "100/100 [==============================] - 58s - loss: 0.0826 - acc: 0.5955 - val_loss: 0.8631 - val_acc: 0.5765\n",
            "Epoch 344/16000\n",
            " 99/100 [============================>.] - ETA: 0s - loss: 0.0851 - acc: 0.5996Epoch 00343: val_acc did not improve\n",
            "100/100 [==============================] - 59s - loss: 0.0854 - acc: 0.6007 - val_loss: 0.8984 - val_acc: 0.5685\n",
            "Epoch 345/16000\n",
            " 99/100 [============================>.] - ETA: 0s - loss: 0.0944 - acc: 0.6027Epoch 00344: val_acc did not improve\n",
            "100/100 [==============================] - 58s - loss: 0.0963 - acc: 0.6024 - val_loss: 0.8844 - val_acc: 0.5683\n",
            "Epoch 346/16000\n"
          ],
          "name": "stdout"
        },
        {
          "output_type": "stream",
          "text": [
            " 99/100 [============================>.] - ETA: 0s - loss: 0.0868 - acc: 0.6025Epoch 00345: val_acc did not improve\n",
            "100/100 [==============================] - 58s - loss: 0.0866 - acc: 0.6029 - val_loss: 0.8696 - val_acc: 0.5672\n",
            "Epoch 347/16000\n",
            " 99/100 [============================>.] - ETA: 0s - loss: 0.0730 - acc: 0.5994Epoch 00346: val_acc did not improve\n",
            "100/100 [==============================] - 58s - loss: 0.0738 - acc: 0.5996 - val_loss: 0.9021 - val_acc: 0.5659\n",
            "Epoch 348/16000\n",
            " 99/100 [============================>.] - ETA: 0s - loss: 0.0881 - acc: 0.5968Epoch 00347: val_acc did not improve\n",
            "100/100 [==============================] - 58s - loss: 0.0896 - acc: 0.5967 - val_loss: 0.8450 - val_acc: 0.5731\n",
            "Epoch 349/16000\n"
          ],
          "name": "stdout"
        },
        {
          "output_type": "stream",
          "text": [
            " 99/100 [============================>.] - ETA: 0s - loss: 0.0778 - acc: 0.6024Epoch 00348: val_acc did not improve\n",
            "100/100 [==============================] - 58s - loss: 0.0783 - acc: 0.6019 - val_loss: 0.8416 - val_acc: 0.5700\n",
            "Epoch 350/16000\n",
            " 99/100 [============================>.] - ETA: 0s - loss: 0.0874 - acc: 0.5979Epoch 00349: val_acc improved from 0.57841 to 0.58015, saving model to best_model_new.h5\n",
            "100/100 [==============================] - 60s - loss: 0.0866 - acc: 0.5982 - val_loss: 0.8251 - val_acc: 0.5801\n",
            "Epoch 351/16000\n",
            " 93/100 [==========================>...] - ETA: 2s - loss: 0.1075 - acc: 0.5918"
          ],
          "name": "stdout"
        },
        {
          "output_type": "stream",
          "text": [
            " 99/100 [============================>.] - ETA: 0s - loss: 0.1065 - acc: 0.5937Epoch 00350: val_acc did not improve\n",
            "100/100 [==============================] - 58s - loss: 0.1073 - acc: 0.5946 - val_loss: 0.8855 - val_acc: 0.5718\n",
            "Epoch 352/16000\n",
            " 99/100 [============================>.] - ETA: 0s - loss: 0.0752 - acc: 0.6043Epoch 00351: val_acc did not improve\n",
            "100/100 [==============================] - 59s - loss: 0.0755 - acc: 0.6034 - val_loss: 0.8477 - val_acc: 0.5778\n",
            "Epoch 353/16000\n",
            " 99/100 [============================>.] - ETA: 0s - loss: 0.0743 - acc: 0.6026Epoch 00352: val_acc did not improve\n",
            "100/100 [==============================] - 59s - loss: 0.0736 - acc: 0.6015 - val_loss: 0.8557 - val_acc: 0.5776\n",
            "Epoch 354/16000\n",
            "  9/100 [=>............................] - ETA: 30s - loss: 0.0990 - acc: 0.5948"
          ],
          "name": "stdout"
        },
        {
          "output_type": "stream",
          "text": [
            " 99/100 [============================>.] - ETA: 0s - loss: 0.0857 - acc: 0.6047Epoch 00353: val_acc did not improve\n",
            "100/100 [==============================] - 59s - loss: 0.0857 - acc: 0.6049 - val_loss: 0.8704 - val_acc: 0.5762\n",
            "Epoch 355/16000\n",
            " 99/100 [============================>.] - ETA: 0s - loss: 0.0895 - acc: 0.5979Epoch 00354: val_acc did not improve\n",
            "100/100 [==============================] - 59s - loss: 0.0909 - acc: 0.5988 - val_loss: 0.8375 - val_acc: 0.5784\n",
            "Epoch 356/16000\n",
            " 99/100 [============================>.] - ETA: 0s - loss: 0.0870 - acc: 0.6128Epoch 00355: val_acc did not improve\n",
            "100/100 [==============================] - 59s - loss: 0.0869 - acc: 0.6128 - val_loss: 0.8430 - val_acc: 0.5762\n",
            "Epoch 357/16000\n",
            "  1/100 [..............................] - ETA: 32s - loss: 0.1121 - acc: 0.5700"
          ],
          "name": "stdout"
        },
        {
          "output_type": "stream",
          "text": [
            " 99/100 [============================>.] - ETA: 0s - loss: 0.0940 - acc: 0.5969Epoch 00356: val_acc did not improve\n",
            "100/100 [==============================] - 59s - loss: 0.0938 - acc: 0.5971 - val_loss: 0.8669 - val_acc: 0.5734\n",
            "Epoch 358/16000\n",
            " 99/100 [============================>.] - ETA: 0s - loss: 0.0965 - acc: 0.6060Epoch 00357: val_acc did not improve\n",
            "100/100 [==============================] - 59s - loss: 0.0966 - acc: 0.6066 - val_loss: 0.9042 - val_acc: 0.5693\n",
            "Epoch 359/16000\n",
            " 99/100 [============================>.] - ETA: 0s - loss: 0.0934 - acc: 0.5998Epoch 00358: val_acc did not improve\n",
            "100/100 [==============================] - 59s - loss: 0.0926 - acc: 0.5992 - val_loss: 0.8997 - val_acc: 0.5644\n",
            "Epoch 360/16000\n"
          ],
          "name": "stdout"
        },
        {
          "output_type": "stream",
          "text": [
            " 99/100 [============================>.] - ETA: 0s - loss: 0.0890 - acc: 0.6045Epoch 00359: val_acc did not improve\n",
            "100/100 [==============================] - 60s - loss: 0.0883 - acc: 0.6049 - val_loss: 0.8978 - val_acc: 0.5652\n",
            "Epoch 361/16000\n",
            " 99/100 [============================>.] - ETA: 0s - loss: 0.0740 - acc: 0.6094Epoch 00360: val_acc improved from 0.58015 to 0.58048, saving model to best_model_new.h5\n",
            "100/100 [==============================] - 61s - loss: 0.0741 - acc: 0.6083 - val_loss: 0.8734 - val_acc: 0.5805\n",
            "Epoch 362/16000\n",
            " 93/100 [==========================>...] - ETA: 2s - loss: 0.0935 - acc: 0.6034"
          ],
          "name": "stdout"
        },
        {
          "output_type": "stream",
          "text": [
            " 99/100 [============================>.] - ETA: 0s - loss: 0.0936 - acc: 0.6025Epoch 00361: val_acc did not improve\n",
            "100/100 [==============================] - 59s - loss: 0.0929 - acc: 0.6029 - val_loss: 0.8654 - val_acc: 0.5750\n",
            "Epoch 363/16000\n",
            " 99/100 [============================>.] - ETA: 0s - loss: 0.0809 - acc: 0.6076Epoch 00362: val_acc improved from 0.58048 to 0.58147, saving model to best_model_new.h5\n",
            "100/100 [==============================] - 61s - loss: 0.0822 - acc: 0.6074 - val_loss: 0.8172 - val_acc: 0.5815\n",
            "Epoch 364/16000\n",
            " 99/100 [============================>.] - ETA: 0s - loss: 0.0763 - acc: 0.5997Epoch 00363: val_acc did not improve\n",
            "100/100 [==============================] - 60s - loss: 0.0760 - acc: 0.5993 - val_loss: 0.8354 - val_acc: 0.5793\n",
            "Epoch 365/16000\n",
            "  2/100 [..............................] - ETA: 32s - loss: 0.1963 - acc: 0.6200"
          ],
          "name": "stdout"
        },
        {
          "output_type": "stream",
          "text": [
            " 99/100 [============================>.] - ETA: 0s - loss: 0.0787 - acc: 0.6095Epoch 00364: val_acc did not improve\n",
            "100/100 [==============================] - 59s - loss: 0.0786 - acc: 0.6098 - val_loss: 0.8694 - val_acc: 0.5774\n",
            "Epoch 366/16000\n",
            " 99/100 [============================>.] - ETA: 0s - loss: 0.0942 - acc: 0.5986Epoch 00365: val_acc improved from 0.58147 to 0.58173, saving model to best_model_new.h5\n",
            "100/100 [==============================] - 62s - loss: 0.0934 - acc: 0.5994 - val_loss: 0.8649 - val_acc: 0.5817\n",
            "Epoch 367/16000\n",
            " 93/100 [==========================>...] - ETA: 2s - loss: 0.0707 - acc: 0.5996"
          ],
          "name": "stdout"
        },
        {
          "output_type": "stream",
          "text": [
            " 99/100 [============================>.] - ETA: 0s - loss: 0.0684 - acc: 0.6013Epoch 00366: val_acc did not improve\n",
            "100/100 [==============================] - 59s - loss: 0.0690 - acc: 0.6003 - val_loss: 0.8714 - val_acc: 0.5742\n",
            "Epoch 368/16000\n",
            " 99/100 [============================>.] - ETA: 0s - loss: 0.0840 - acc: 0.5974Epoch 00367: val_acc did not improve\n",
            "100/100 [==============================] - 59s - loss: 0.0832 - acc: 0.5975 - val_loss: 0.8826 - val_acc: 0.5675\n",
            "Epoch 369/16000\n",
            " 99/100 [============================>.] - ETA: 0s - loss: 0.0920 - acc: 0.6023Epoch 00368: val_acc did not improve\n",
            "100/100 [==============================] - 59s - loss: 0.0915 - acc: 0.6018 - val_loss: 0.8994 - val_acc: 0.5710\n",
            "Epoch 370/16000\n",
            "  9/100 [=>............................] - ETA: 30s - loss: 0.1079 - acc: 0.6137"
          ],
          "name": "stdout"
        },
        {
          "output_type": "stream",
          "text": [
            " 99/100 [============================>.] - ETA: 0s - loss: 0.0837 - acc: 0.6042Epoch 00369: val_acc did not improve\n",
            "100/100 [==============================] - 60s - loss: 0.0840 - acc: 0.6039 - val_loss: 0.8209 - val_acc: 0.5768\n",
            "Epoch 371/16000\n",
            " 99/100 [============================>.] - ETA: 0s - loss: 0.1096 - acc: 0.5967Epoch 00370: val_acc did not improve\n",
            "100/100 [==============================] - 58s - loss: 0.1088 - acc: 0.5962 - val_loss: 0.8794 - val_acc: 0.5712\n",
            "Epoch 372/16000\n",
            " 99/100 [============================>.] - ETA: 0s - loss: 0.0839 - acc: 0.5973Epoch 00371: val_acc did not improve\n",
            "100/100 [==============================] - 59s - loss: 0.0831 - acc: 0.5968 - val_loss: 0.8722 - val_acc: 0.5755\n",
            "Epoch 373/16000\n",
            "  1/100 [..............................] - ETA: 30s - loss: 0.1110 - acc: 0.6533"
          ],
          "name": "stdout"
        },
        {
          "output_type": "stream",
          "text": [
            " 99/100 [============================>.] - ETA: 0s - loss: 0.0737 - acc: 0.6005Epoch 00372: val_acc did not improve\n",
            "100/100 [==============================] - 59s - loss: 0.0735 - acc: 0.6004 - val_loss: 0.8203 - val_acc: 0.5789\n",
            "Epoch 374/16000\n",
            " 99/100 [============================>.] - ETA: 0s - loss: 0.0929 - acc: 0.5987Epoch 00373: val_acc did not improve\n",
            "100/100 [==============================] - 59s - loss: 0.0923 - acc: 0.5987 - val_loss: 0.8066 - val_acc: 0.5771\n",
            "Epoch 375/16000\n",
            " 99/100 [============================>.] - ETA: 0s - loss: 0.0951 - acc: 0.6001Epoch 00374: val_acc did not improve\n",
            "100/100 [==============================] - 59s - loss: 0.0942 - acc: 0.6004 - val_loss: 0.8590 - val_acc: 0.5726\n",
            "Epoch 376/16000\n"
          ],
          "name": "stdout"
        },
        {
          "output_type": "stream",
          "text": [
            " 99/100 [============================>.] - ETA: 0s - loss: 0.0926 - acc: 0.6147Epoch 00375: val_acc did not improve\n",
            "100/100 [==============================] - 59s - loss: 0.0923 - acc: 0.6145 - val_loss: 0.8528 - val_acc: 0.5768\n",
            "Epoch 377/16000\n",
            " 99/100 [============================>.] - ETA: 0s - loss: 0.0853 - acc: 0.6056Epoch 00376: val_acc did not improve\n",
            "100/100 [==============================] - 59s - loss: 0.0849 - acc: 0.6059 - val_loss: 0.8357 - val_acc: 0.5755\n",
            "Epoch 378/16000\n",
            " 99/100 [============================>.] - ETA: 0s - loss: 0.0649 - acc: 0.6103Epoch 00377: val_acc did not improve\n",
            "100/100 [==============================] - 59s - loss: 0.0643 - acc: 0.6104 - val_loss: 0.8419 - val_acc: 0.5731\n",
            "Epoch 379/16000\n"
          ],
          "name": "stdout"
        },
        {
          "output_type": "stream",
          "text": [
            " 99/100 [============================>.] - ETA: 0s - loss: 0.0985 - acc: 0.6047Epoch 00378: val_acc did not improve\n",
            "100/100 [==============================] - 59s - loss: 0.0988 - acc: 0.6045 - val_loss: 0.8352 - val_acc: 0.5791\n",
            "Epoch 380/16000\n",
            " 99/100 [============================>.] - ETA: 0s - loss: 0.0923 - acc: 0.6024Epoch 00379: val_acc did not improve\n",
            "100/100 [==============================] - 59s - loss: 0.0922 - acc: 0.6015 - val_loss: 0.8491 - val_acc: 0.5771\n",
            "Epoch 381/16000\n",
            " 99/100 [============================>.] - ETA: 0s - loss: 0.0926 - acc: 0.6045Epoch 00380: val_acc did not improve\n",
            "100/100 [==============================] - 59s - loss: 0.0930 - acc: 0.6041 - val_loss: 0.8387 - val_acc: 0.5755\n",
            "Epoch 382/16000\n"
          ],
          "name": "stdout"
        },
        {
          "output_type": "stream",
          "text": [
            " 99/100 [============================>.] - ETA: 0s - loss: 0.0794 - acc: 0.6015Epoch 00381: val_acc did not improve\n",
            "100/100 [==============================] - 59s - loss: 0.0787 - acc: 0.6026 - val_loss: 0.8832 - val_acc: 0.5718\n",
            "Epoch 383/16000\n",
            " 99/100 [============================>.] - ETA: 0s - loss: 0.0729 - acc: 0.6002Epoch 00382: val_acc did not improve\n",
            "100/100 [==============================] - 59s - loss: 0.0723 - acc: 0.5995 - val_loss: 0.8462 - val_acc: 0.5775\n",
            "Epoch 384/16000\n",
            " 99/100 [============================>.] - ETA: 0s - loss: 0.0632 - acc: 0.6051Epoch 00383: val_acc did not improve\n",
            "100/100 [==============================] - 59s - loss: 0.0632 - acc: 0.6049 - val_loss: 0.8656 - val_acc: 0.5763\n",
            "Epoch 385/16000\n"
          ],
          "name": "stdout"
        },
        {
          "output_type": "stream",
          "text": [
            " 99/100 [============================>.] - ETA: 0s - loss: 0.0677 - acc: 0.6086Epoch 00384: val_acc did not improve\n",
            "100/100 [==============================] - 60s - loss: 0.0671 - acc: 0.6087 - val_loss: 0.8858 - val_acc: 0.5762\n",
            "Epoch 386/16000\n",
            " 99/100 [============================>.] - ETA: 0s - loss: 0.0810 - acc: 0.6030Epoch 00385: val_acc did not improve\n",
            "100/100 [==============================] - 60s - loss: 0.0822 - acc: 0.6031 - val_loss: 0.8537 - val_acc: 0.5782\n",
            "Epoch 387/16000\n",
            " 99/100 [============================>.] - ETA: 0s - loss: 0.0607 - acc: 0.5997Epoch 00386: val_acc did not improve\n",
            "100/100 [==============================] - 59s - loss: 0.0612 - acc: 0.5996 - val_loss: 0.8514 - val_acc: 0.5805\n",
            "Epoch 388/16000\n"
          ],
          "name": "stdout"
        },
        {
          "output_type": "stream",
          "text": [
            " 99/100 [============================>.] - ETA: 0s - loss: 0.0851 - acc: 0.6020Epoch 00387: val_acc did not improve\n",
            "100/100 [==============================] - 59s - loss: 0.0844 - acc: 0.6023 - val_loss: 0.8112 - val_acc: 0.5769\n",
            "Epoch 389/16000\n",
            " 99/100 [============================>.] - ETA: 0s - loss: 0.0868 - acc: 0.5993Epoch 00388: val_acc did not improve\n",
            "100/100 [==============================] - 59s - loss: 0.0872 - acc: 0.5998 - val_loss: 0.8618 - val_acc: 0.5770\n",
            "Epoch 390/16000\n",
            " 99/100 [============================>.] - ETA: 0s - loss: 0.0926 - acc: 0.5982Epoch 00389: val_acc did not improve\n",
            "100/100 [==============================] - 59s - loss: 0.0918 - acc: 0.5981 - val_loss: 0.8455 - val_acc: 0.5781\n",
            "Epoch 391/16000\n"
          ],
          "name": "stdout"
        },
        {
          "output_type": "stream",
          "text": [
            " 99/100 [============================>.] - ETA: 0s - loss: 0.0724 - acc: 0.6035Epoch 00390: val_acc did not improve\n",
            "100/100 [==============================] - 59s - loss: 0.0736 - acc: 0.6034 - val_loss: 0.8613 - val_acc: 0.5732\n",
            "Epoch 392/16000\n",
            " 99/100 [============================>.] - ETA: 0s - loss: 0.0904 - acc: 0.6043Epoch 00391: val_acc did not improve\n",
            "100/100 [==============================] - 59s - loss: 0.0896 - acc: 0.6056 - val_loss: 0.8487 - val_acc: 0.5766\n",
            "Epoch 393/16000\n",
            " 99/100 [============================>.] - ETA: 0s - loss: 0.0888 - acc: 0.5948Epoch 00392: val_acc did not improve\n",
            "100/100 [==============================] - 59s - loss: 0.0880 - acc: 0.5941 - val_loss: 0.8999 - val_acc: 0.5727\n",
            "Epoch 394/16000\n"
          ],
          "name": "stdout"
        },
        {
          "output_type": "stream",
          "text": [
            " 99/100 [============================>.] - ETA: 0s - loss: 0.0809 - acc: 0.5997Epoch 00393: val_acc did not improve\n",
            "100/100 [==============================] - 59s - loss: 0.0807 - acc: 0.5994 - val_loss: 0.8932 - val_acc: 0.5740\n",
            "Epoch 395/16000\n",
            " 99/100 [============================>.] - ETA: 0s - loss: 0.0685 - acc: 0.6048Epoch 00394: val_acc did not improve\n",
            "100/100 [==============================] - 59s - loss: 0.0685 - acc: 0.6047 - val_loss: 0.8083 - val_acc: 0.5789\n",
            "Epoch 396/16000\n",
            " 99/100 [============================>.] - ETA: 0s - loss: 0.0946 - acc: 0.6003Epoch 00395: val_acc did not improve\n",
            "100/100 [==============================] - 59s - loss: 0.0937 - acc: 0.6012 - val_loss: 0.8870 - val_acc: 0.5754\n",
            "Epoch 397/16000\n"
          ],
          "name": "stdout"
        },
        {
          "output_type": "stream",
          "text": [
            " 99/100 [============================>.] - ETA: 0s - loss: 0.0885 - acc: 0.5984Epoch 00396: val_acc did not improve\n",
            "100/100 [==============================] - 59s - loss: 0.0882 - acc: 0.5987 - val_loss: 0.8390 - val_acc: 0.5796\n",
            "Epoch 398/16000\n",
            " 99/100 [============================>.] - ETA: 0s - loss: 0.0778 - acc: 0.6028Epoch 00397: val_acc did not improve\n",
            "100/100 [==============================] - 59s - loss: 0.0801 - acc: 0.6019 - val_loss: 0.8399 - val_acc: 0.5813\n",
            "Epoch 399/16000\n",
            " 99/100 [============================>.] - ETA: 0s - loss: 0.0693 - acc: 0.6085Epoch 00398: val_acc did not improve\n",
            "100/100 [==============================] - 59s - loss: 0.0687 - acc: 0.6092 - val_loss: 0.8788 - val_acc: 0.5734\n",
            "Epoch 400/16000\n"
          ],
          "name": "stdout"
        },
        {
          "output_type": "stream",
          "text": [
            " 99/100 [============================>.] - ETA: 0s - loss: 0.0842 - acc: 0.5959Epoch 00399: val_acc did not improve\n",
            "100/100 [==============================] - 59s - loss: 0.0845 - acc: 0.5953 - val_loss: 0.9123 - val_acc: 0.5725\n",
            "Epoch 401/16000\n",
            " 99/100 [============================>.] - ETA: 0s - loss: 0.0856 - acc: 0.6022Epoch 00400: val_acc did not improve\n",
            "100/100 [==============================] - 59s - loss: 0.0852 - acc: 0.6024 - val_loss: 0.8948 - val_acc: 0.5674\n",
            "Epoch 402/16000\n",
            " 99/100 [============================>.] - ETA: 0s - loss: 0.0914 - acc: 0.6024Epoch 00401: val_acc did not improve\n",
            "100/100 [==============================] - 59s - loss: 0.0907 - acc: 0.6021 - val_loss: 0.8874 - val_acc: 0.5711\n",
            "Epoch 403/16000\n"
          ],
          "name": "stdout"
        },
        {
          "output_type": "stream",
          "text": [
            " 99/100 [============================>.] - ETA: 0s - loss: 0.0989 - acc: 0.5954Epoch 00402: val_acc did not improve\n",
            "100/100 [==============================] - 59s - loss: 0.0980 - acc: 0.5967 - val_loss: 0.8727 - val_acc: 0.5751\n",
            "Epoch 404/16000\n",
            " 99/100 [============================>.] - ETA: 0s - loss: 0.0912 - acc: 0.6009Epoch 00403: val_acc did not improve\n",
            "100/100 [==============================] - 59s - loss: 0.0904 - acc: 0.6015 - val_loss: 0.8892 - val_acc: 0.5653\n",
            "Epoch 405/16000\n",
            " 99/100 [============================>.] - ETA: 0s - loss: 0.0837 - acc: 0.6069Epoch 00404: val_acc did not improve\n",
            "100/100 [==============================] - 59s - loss: 0.0850 - acc: 0.6069 - val_loss: 0.9024 - val_acc: 0.5691\n",
            "Epoch 406/16000\n"
          ],
          "name": "stdout"
        },
        {
          "output_type": "stream",
          "text": [
            " 99/100 [============================>.] - ETA: 0s - loss: 0.0812 - acc: 0.5994Epoch 00405: val_acc did not improve\n",
            "100/100 [==============================] - 59s - loss: 0.0815 - acc: 0.5990 - val_loss: 0.8786 - val_acc: 0.5749\n",
            "Epoch 407/16000\n",
            " 99/100 [============================>.] - ETA: 0s - loss: 0.0812 - acc: 0.5902Epoch 00406: val_acc did not improve\n",
            "100/100 [==============================] - 59s - loss: 0.0805 - acc: 0.5908 - val_loss: 0.8821 - val_acc: 0.5762\n",
            "Epoch 408/16000\n",
            " 99/100 [============================>.] - ETA: 0s - loss: 0.0786 - acc: 0.6030Epoch 00407: val_acc did not improve\n",
            "100/100 [==============================] - 59s - loss: 0.0793 - acc: 0.6025 - val_loss: 0.8346 - val_acc: 0.5748\n",
            "Epoch 409/16000\n"
          ],
          "name": "stdout"
        },
        {
          "output_type": "stream",
          "text": [
            " 99/100 [============================>.] - ETA: 0s - loss: 0.0688 - acc: 0.6086Epoch 00408: val_acc did not improve\n",
            "100/100 [==============================] - 59s - loss: 0.0689 - acc: 0.6077 - val_loss: 0.8576 - val_acc: 0.5738\n",
            "Epoch 410/16000\n",
            " 99/100 [============================>.] - ETA: 0s - loss: 0.0616 - acc: 0.6043Epoch 00409: val_acc did not improve\n",
            "100/100 [==============================] - 59s - loss: 0.0612 - acc: 0.6042 - val_loss: 0.8191 - val_acc: 0.5796\n",
            "Epoch 411/16000\n",
            " 99/100 [============================>.] - ETA: 0s - loss: 0.0843 - acc: 0.5996Epoch 00410: val_acc did not improve\n",
            "100/100 [==============================] - 58s - loss: 0.0835 - acc: 0.5995 - val_loss: 0.8531 - val_acc: 0.5775\n",
            "Epoch 412/16000\n"
          ],
          "name": "stdout"
        },
        {
          "output_type": "stream",
          "text": [
            " 99/100 [============================>.] - ETA: 0s - loss: 0.0754 - acc: 0.6057Epoch 00411: val_acc did not improve\n",
            "100/100 [==============================] - 59s - loss: 0.0756 - acc: 0.6057 - val_loss: 0.8172 - val_acc: 0.5801\n",
            "Epoch 413/16000\n",
            " 99/100 [============================>.] - ETA: 0s - loss: 0.0646 - acc: 0.6043Epoch 00412: val_acc did not improve\n",
            "100/100 [==============================] - 59s - loss: 0.0643 - acc: 0.6038 - val_loss: 0.8292 - val_acc: 0.5765\n",
            "Epoch 414/16000\n",
            " 99/100 [============================>.] - ETA: 0s - loss: 0.0840 - acc: 0.6020Epoch 00413: val_acc did not improve\n",
            "100/100 [==============================] - 59s - loss: 0.0832 - acc: 0.6016 - val_loss: 0.8483 - val_acc: 0.5797\n",
            "Epoch 415/16000\n"
          ],
          "name": "stdout"
        },
        {
          "output_type": "stream",
          "text": [
            " 99/100 [============================>.] - ETA: 0s - loss: 0.0885 - acc: 0.6005Epoch 00414: val_acc did not improve\n",
            "100/100 [==============================] - 58s - loss: 0.0882 - acc: 0.6008 - val_loss: 0.8646 - val_acc: 0.5782\n",
            "Epoch 416/16000\n",
            " 99/100 [============================>.] - ETA: 0s - loss: 0.0788 - acc: 0.6041Epoch 00415: val_acc did not improve\n",
            "100/100 [==============================] - 59s - loss: 0.0789 - acc: 0.6041 - val_loss: 0.8481 - val_acc: 0.5765\n",
            "Epoch 417/16000\n",
            " 99/100 [============================>.] - ETA: 0s - loss: 0.0855 - acc: 0.5926Epoch 00416: val_acc did not improve\n",
            "100/100 [==============================] - 59s - loss: 0.0859 - acc: 0.5924 - val_loss: 0.8880 - val_acc: 0.5730\n",
            "Epoch 418/16000\n"
          ],
          "name": "stdout"
        },
        {
          "output_type": "stream",
          "text": [
            " 99/100 [============================>.] - ETA: 0s - loss: 0.0614 - acc: 0.6089Epoch 00417: val_acc improved from 0.58173 to 0.58425, saving model to best_model_new.h5\n",
            "100/100 [==============================] - 61s - loss: 0.0617 - acc: 0.6087 - val_loss: 0.8045 - val_acc: 0.5842\n",
            "Epoch 419/16000\n",
            " 99/100 [============================>.] - ETA: 0s - loss: 0.0823 - acc: 0.5964Epoch 00418: val_acc did not improve\n",
            "100/100 [==============================] - 59s - loss: 0.0830 - acc: 0.5962 - val_loss: 0.7996 - val_acc: 0.5834\n",
            "Epoch 420/16000\n",
            " 85/100 [========================>.....] - ETA: 4s - loss: 0.0749 - acc: 0.6071"
          ],
          "name": "stdout"
        },
        {
          "output_type": "stream",
          "text": [
            " 99/100 [============================>.] - ETA: 0s - loss: 0.0763 - acc: 0.6073Epoch 00419: val_acc improved from 0.58425 to 0.58519, saving model to best_model_new.h5\n",
            "100/100 [==============================] - 61s - loss: 0.0764 - acc: 0.6069 - val_loss: 0.8074 - val_acc: 0.5852\n",
            "Epoch 421/16000\n",
            " 99/100 [============================>.] - ETA: 0s - loss: 0.0755 - acc: 0.6027Epoch 00420: val_acc did not improve\n",
            "100/100 [==============================] - 59s - loss: 0.0753 - acc: 0.6030 - val_loss: 0.8515 - val_acc: 0.5791\n",
            "Epoch 422/16000\n",
            " 96/100 [===========================>..] - ETA: 1s - loss: 0.0628 - acc: 0.6103"
          ],
          "name": "stdout"
        },
        {
          "output_type": "stream",
          "text": [
            " 99/100 [============================>.] - ETA: 0s - loss: 0.0650 - acc: 0.6090Epoch 00421: val_acc did not improve\n",
            "100/100 [==============================] - 59s - loss: 0.0646 - acc: 0.6085 - val_loss: 0.8983 - val_acc: 0.5727\n",
            "Epoch 423/16000\n",
            " 99/100 [============================>.] - ETA: 0s - loss: 0.0732 - acc: 0.6100Epoch 00422: val_acc did not improve\n",
            "100/100 [==============================] - 59s - loss: 0.0725 - acc: 0.6097 - val_loss: 0.8476 - val_acc: 0.5763\n",
            "Epoch 424/16000\n",
            " 99/100 [============================>.] - ETA: 0s - loss: 0.0818 - acc: 0.6053Epoch 00423: val_acc did not improve\n",
            "100/100 [==============================] - 59s - loss: 0.0821 - acc: 0.6053 - val_loss: 0.8193 - val_acc: 0.5829\n",
            "Epoch 425/16000\n",
            " 10/100 [==>...........................] - ETA: 29s - loss: 0.0890 - acc: 0.6113"
          ],
          "name": "stdout"
        },
        {
          "output_type": "stream",
          "text": [
            " 99/100 [============================>.] - ETA: 0s - loss: 0.0759 - acc: 0.6082Epoch 00424: val_acc improved from 0.58519 to 0.58974, saving model to best_model_new.h5\n",
            "100/100 [==============================] - 61s - loss: 0.0756 - acc: 0.6083 - val_loss: 0.8452 - val_acc: 0.5897\n",
            "Epoch 426/16000\n",
            " 99/100 [============================>.] - ETA: 0s - loss: 0.0765 - acc: 0.6090Epoch 00425: val_acc did not improve\n",
            "100/100 [==============================] - 59s - loss: 0.0758 - acc: 0.6092 - val_loss: 0.8583 - val_acc: 0.5792\n",
            "Epoch 427/16000\n",
            " 86/100 [========================>.....] - ETA: 4s - loss: 0.0713 - acc: 0.6014"
          ],
          "name": "stdout"
        },
        {
          "output_type": "stream",
          "text": [
            " 99/100 [============================>.] - ETA: 0s - loss: 0.0710 - acc: 0.6038Epoch 00426: val_acc did not improve\n",
            "100/100 [==============================] - 59s - loss: 0.0709 - acc: 0.6041 - val_loss: 0.8277 - val_acc: 0.5798\n",
            "Epoch 428/16000\n",
            " 99/100 [============================>.] - ETA: 0s - loss: 0.0751 - acc: 0.6102Epoch 00427: val_acc did not improve\n",
            "100/100 [==============================] - 59s - loss: 0.0744 - acc: 0.6100 - val_loss: 0.8213 - val_acc: 0.5816\n",
            "Epoch 429/16000\n",
            " 99/100 [============================>.] - ETA: 0s - loss: 0.0548 - acc: 0.6068Epoch 00428: val_acc did not improve\n",
            "100/100 [==============================] - 59s - loss: 0.0549 - acc: 0.6078 - val_loss: 0.8515 - val_acc: 0.5815\n",
            "Epoch 430/16000\n",
            "  9/100 [=>............................] - ETA: 29s - loss: 0.0951 - acc: 0.5959"
          ],
          "name": "stdout"
        },
        {
          "output_type": "stream",
          "text": [
            " 99/100 [============================>.] - ETA: 0s - loss: 0.0683 - acc: 0.6042Epoch 00429: val_acc did not improve\n",
            "100/100 [==============================] - 59s - loss: 0.0679 - acc: 0.6043 - val_loss: 0.8487 - val_acc: 0.5747\n",
            "Epoch 431/16000\n",
            " 99/100 [============================>.] - ETA: 0s - loss: 0.0938 - acc: 0.6117Epoch 00430: val_acc did not improve\n",
            "100/100 [==============================] - 59s - loss: 0.0931 - acc: 0.6118 - val_loss: 0.8471 - val_acc: 0.5776\n",
            "Epoch 432/16000\n",
            " 99/100 [============================>.] - ETA: 0s - loss: 0.0706 - acc: 0.6060Epoch 00431: val_acc did not improve\n",
            "100/100 [==============================] - 59s - loss: 0.0699 - acc: 0.6062 - val_loss: 0.8324 - val_acc: 0.5784\n",
            "Epoch 433/16000\n",
            "  1/100 [..............................] - ETA: 30s - loss: 0.0160 - acc: 0.7133"
          ],
          "name": "stdout"
        },
        {
          "output_type": "stream",
          "text": [
            " 99/100 [============================>.] - ETA: 0s - loss: 0.0655 - acc: 0.6099Epoch 00432: val_acc did not improve\n",
            "100/100 [==============================] - 59s - loss: 0.0651 - acc: 0.6104 - val_loss: 0.8515 - val_acc: 0.5818\n",
            "Epoch 434/16000\n",
            " 99/100 [============================>.] - ETA: 0s - loss: 0.0728 - acc: 0.6100Epoch 00433: val_acc did not improve\n",
            "100/100 [==============================] - 59s - loss: 0.0722 - acc: 0.6093 - val_loss: 0.8288 - val_acc: 0.5795\n",
            "Epoch 435/16000\n",
            " 99/100 [============================>.] - ETA: 0s - loss: 0.0700 - acc: 0.6025Epoch 00434: val_acc did not improve\n",
            "100/100 [==============================] - 59s - loss: 0.0715 - acc: 0.6024 - val_loss: 0.8241 - val_acc: 0.5785\n",
            "Epoch 436/16000\n"
          ],
          "name": "stdout"
        },
        {
          "output_type": "stream",
          "text": [
            " 99/100 [============================>.] - ETA: 0s - loss: 0.0624 - acc: 0.5926Epoch 00435: val_acc did not improve\n",
            "100/100 [==============================] - 59s - loss: 0.0619 - acc: 0.5928 - val_loss: 0.8382 - val_acc: 0.5783\n",
            "Epoch 437/16000\n",
            " 99/100 [============================>.] - ETA: 0s - loss: 0.0606 - acc: 0.6049Epoch 00436: val_acc did not improve\n",
            "100/100 [==============================] - 59s - loss: 0.0600 - acc: 0.6045 - val_loss: 0.8706 - val_acc: 0.5718\n",
            "Epoch 438/16000\n",
            " 99/100 [============================>.] - ETA: 0s - loss: 0.0565 - acc: 0.6032Epoch 00437: val_acc did not improve\n",
            "100/100 [==============================] - 59s - loss: 0.0560 - acc: 0.6033 - val_loss: 0.8818 - val_acc: 0.5762\n",
            "Epoch 439/16000\n"
          ],
          "name": "stdout"
        },
        {
          "output_type": "stream",
          "text": [
            " 99/100 [============================>.] - ETA: 0s - loss: 0.0657 - acc: 0.6021Epoch 00438: val_acc did not improve\n",
            "100/100 [==============================] - 59s - loss: 0.0664 - acc: 0.6024 - val_loss: 0.8550 - val_acc: 0.5777\n",
            "Epoch 440/16000\n",
            " 99/100 [============================>.] - ETA: 0s - loss: 0.0668 - acc: 0.6105Epoch 00439: val_acc did not improve\n",
            "100/100 [==============================] - 59s - loss: 0.0667 - acc: 0.6100 - val_loss: 0.8253 - val_acc: 0.5830\n",
            "Epoch 441/16000\n",
            " 99/100 [============================>.] - ETA: 0s - loss: 0.0636 - acc: 0.6122Epoch 00440: val_acc did not improve\n",
            "100/100 [==============================] - 59s - loss: 0.0635 - acc: 0.6122 - val_loss: 0.8357 - val_acc: 0.5844\n",
            "Epoch 442/16000\n"
          ],
          "name": "stdout"
        },
        {
          "output_type": "stream",
          "text": [
            " 99/100 [============================>.] - ETA: 0s - loss: 0.0753 - acc: 0.6063Epoch 00441: val_acc did not improve\n",
            "100/100 [==============================] - 59s - loss: 0.0747 - acc: 0.6076 - val_loss: 0.8126 - val_acc: 0.5848\n",
            "Epoch 443/16000\n",
            " 99/100 [============================>.] - ETA: 0s - loss: 0.0690 - acc: 0.5968Epoch 00442: val_acc did not improve\n",
            "100/100 [==============================] - 59s - loss: 0.0685 - acc: 0.5970 - val_loss: 0.8267 - val_acc: 0.5822\n",
            "Epoch 444/16000\n",
            " 99/100 [============================>.] - ETA: 0s - loss: 0.0664 - acc: 0.6142Epoch 00443: val_acc did not improve\n",
            "100/100 [==============================] - 59s - loss: 0.0659 - acc: 0.6135 - val_loss: 0.8591 - val_acc: 0.5841\n",
            "Epoch 445/16000\n"
          ],
          "name": "stdout"
        },
        {
          "output_type": "stream",
          "text": [
            " 99/100 [============================>.] - ETA: 0s - loss: 0.0759 - acc: 0.5983Epoch 00444: val_acc did not improve\n",
            "100/100 [==============================] - 59s - loss: 0.0754 - acc: 0.5984 - val_loss: 0.8351 - val_acc: 0.5811\n",
            "Epoch 446/16000\n",
            " 99/100 [============================>.] - ETA: 0s - loss: 0.0633 - acc: 0.6035Epoch 00445: val_acc did not improve\n",
            "100/100 [==============================] - 59s - loss: 0.0639 - acc: 0.6031 - val_loss: 0.8308 - val_acc: 0.5838\n",
            "Epoch 447/16000\n",
            " 99/100 [============================>.] - ETA: 0s - loss: 0.0730 - acc: 0.6059Epoch 00446: val_acc did not improve\n",
            "100/100 [==============================] - 59s - loss: 0.0734 - acc: 0.6062 - val_loss: 0.8383 - val_acc: 0.5807\n",
            "Epoch 448/16000\n"
          ],
          "name": "stdout"
        },
        {
          "output_type": "stream",
          "text": [
            " 99/100 [============================>.] - ETA: 0s - loss: 0.0780 - acc: 0.6003Epoch 00447: val_acc did not improve\n",
            "100/100 [==============================] - 59s - loss: 0.0774 - acc: 0.6013 - val_loss: 0.8448 - val_acc: 0.5811\n",
            "Epoch 449/16000\n",
            " 99/100 [============================>.] - ETA: 0s - loss: 0.0577 - acc: 0.6070Epoch 00448: val_acc did not improve\n",
            "100/100 [==============================] - 59s - loss: 0.0596 - acc: 0.6073 - val_loss: 0.7871 - val_acc: 0.5874\n",
            "Epoch 450/16000\n",
            " 99/100 [============================>.] - ETA: 0s - loss: 0.0626 - acc: 0.5978Epoch 00449: val_acc did not improve\n",
            "100/100 [==============================] - 59s - loss: 0.0622 - acc: 0.5969 - val_loss: 0.7845 - val_acc: 0.5867\n",
            "Epoch 451/16000\n"
          ],
          "name": "stdout"
        },
        {
          "output_type": "stream",
          "text": [
            " 99/100 [============================>.] - ETA: 0s - loss: 0.0731 - acc: 0.6159Epoch 00450: val_acc did not improve\n",
            "100/100 [==============================] - 59s - loss: 0.0744 - acc: 0.6160 - val_loss: 0.8095 - val_acc: 0.5861\n",
            "Epoch 452/16000\n",
            " 99/100 [============================>.] - ETA: 0s - loss: 0.1050 - acc: 0.6116Epoch 00451: val_acc did not improve\n",
            "100/100 [==============================] - 59s - loss: 0.1041 - acc: 0.6121 - val_loss: 0.8345 - val_acc: 0.5800\n",
            "Epoch 453/16000\n",
            " 99/100 [============================>.] - ETA: 0s - loss: 0.0682 - acc: 0.6150Epoch 00452: val_acc did not improve\n",
            "100/100 [==============================] - 59s - loss: 0.0675 - acc: 0.6154 - val_loss: 0.8216 - val_acc: 0.5817\n",
            "Epoch 454/16000\n"
          ],
          "name": "stdout"
        },
        {
          "output_type": "stream",
          "text": [
            " 99/100 [============================>.] - ETA: 0s - loss: 0.0826 - acc: 0.5946Epoch 00453: val_acc did not improve\n",
            "100/100 [==============================] - 59s - loss: 0.0820 - acc: 0.5947 - val_loss: 0.8011 - val_acc: 0.5864\n",
            "Epoch 455/16000\n",
            " 99/100 [============================>.] - ETA: 0s - loss: 0.0503 - acc: 0.6048Epoch 00454: val_acc did not improve\n",
            "100/100 [==============================] - 59s - loss: 0.0498 - acc: 0.6052 - val_loss: 0.8187 - val_acc: 0.5818\n",
            "Epoch 456/16000\n",
            " 99/100 [============================>.] - ETA: 0s - loss: 0.0672 - acc: 0.6060Epoch 00455: val_acc did not improve\n",
            "100/100 [==============================] - 59s - loss: 0.0676 - acc: 0.6057 - val_loss: 0.8132 - val_acc: 0.5859\n",
            "Epoch 457/16000\n"
          ],
          "name": "stdout"
        },
        {
          "output_type": "stream",
          "text": [
            " 99/100 [============================>.] - ETA: 0s - loss: 0.0664 - acc: 0.6122Epoch 00456: val_acc did not improve\n",
            "100/100 [==============================] - 59s - loss: 0.0660 - acc: 0.6118 - val_loss: 0.8019 - val_acc: 0.5843\n",
            "Epoch 458/16000\n",
            " 99/100 [============================>.] - ETA: 0s - loss: 0.0604 - acc: 0.6059Epoch 00457: val_acc did not improve\n",
            "100/100 [==============================] - 59s - loss: 0.0599 - acc: 0.6054 - val_loss: 0.8258 - val_acc: 0.5852\n",
            "Epoch 459/16000\n",
            " 99/100 [============================>.] - ETA: 0s - loss: 0.0633 - acc: 0.6103Epoch 00458: val_acc did not improve\n",
            "100/100 [==============================] - 59s - loss: 0.0627 - acc: 0.6103 - val_loss: 0.8211 - val_acc: 0.5838\n",
            "Epoch 460/16000\n"
          ],
          "name": "stdout"
        },
        {
          "output_type": "stream",
          "text": [
            " 99/100 [============================>.] - ETA: 0s - loss: 0.0633 - acc: 0.6076Epoch 00459: val_acc did not improve\n",
            "100/100 [==============================] - 59s - loss: 0.0642 - acc: 0.6072 - val_loss: 0.8014 - val_acc: 0.5788\n",
            "Epoch 461/16000\n",
            " 99/100 [============================>.] - ETA: 0s - loss: 0.0690 - acc: 0.6109Epoch 00460: val_acc did not improve\n",
            "100/100 [==============================] - 59s - loss: 0.0684 - acc: 0.6118 - val_loss: 0.8702 - val_acc: 0.5763\n",
            "Epoch 462/16000\n",
            " 99/100 [============================>.] - ETA: 0s - loss: 0.0733 - acc: 0.5960Epoch 00461: val_acc did not improve\n",
            "100/100 [==============================] - 59s - loss: 0.0734 - acc: 0.5960 - val_loss: 0.7784 - val_acc: 0.5800\n",
            "Epoch 463/16000\n"
          ],
          "name": "stdout"
        },
        {
          "output_type": "stream",
          "text": [
            " 99/100 [============================>.] - ETA: 0s - loss: 0.0848 - acc: 0.6076Epoch 00462: val_acc did not improve\n",
            "100/100 [==============================] - 59s - loss: 0.0857 - acc: 0.6077 - val_loss: 0.8308 - val_acc: 0.5844\n",
            "Epoch 464/16000\n",
            " 99/100 [============================>.] - ETA: 0s - loss: 0.0787 - acc: 0.6041Epoch 00463: val_acc did not improve\n",
            "100/100 [==============================] - 59s - loss: 0.0795 - acc: 0.6041 - val_loss: 0.8331 - val_acc: 0.5887\n",
            "Epoch 465/16000\n",
            " 99/100 [============================>.] - ETA: 0s - loss: 0.0609 - acc: 0.6040Epoch 00464: val_acc did not improve\n",
            "100/100 [==============================] - 59s - loss: 0.0603 - acc: 0.6045 - val_loss: 0.8726 - val_acc: 0.5804\n",
            "Epoch 466/16000\n"
          ],
          "name": "stdout"
        },
        {
          "output_type": "stream",
          "text": [
            " 99/100 [============================>.] - ETA: 0s - loss: 0.0689 - acc: 0.6027Epoch 00465: val_acc improved from 0.58974 to 0.59097, saving model to best_model_new.h5\n",
            "100/100 [==============================] - 61s - loss: 0.0686 - acc: 0.6025 - val_loss: 0.8136 - val_acc: 0.5910\n",
            "Epoch 467/16000\n",
            " 99/100 [============================>.] - ETA: 0s - loss: 0.0601 - acc: 0.6084Epoch 00466: val_acc did not improve\n",
            "100/100 [==============================] - 59s - loss: 0.0597 - acc: 0.6090 - val_loss: 0.7655 - val_acc: 0.5884\n",
            "Epoch 468/16000\n",
            " 85/100 [========================>.....] - ETA: 4s - loss: 0.0722 - acc: 0.6038"
          ],
          "name": "stdout"
        },
        {
          "output_type": "stream",
          "text": [
            " 99/100 [============================>.] - ETA: 0s - loss: 0.0700 - acc: 0.6008Epoch 00467: val_acc did not improve\n",
            "100/100 [==============================] - 59s - loss: 0.0700 - acc: 0.6011 - val_loss: 0.7999 - val_acc: 0.5811\n",
            "Epoch 469/16000\n",
            " 99/100 [============================>.] - ETA: 0s - loss: 0.0673 - acc: 0.6005Epoch 00468: val_acc did not improve\n",
            "100/100 [==============================] - 59s - loss: 0.0667 - acc: 0.6003 - val_loss: 0.7642 - val_acc: 0.5908\n",
            "Epoch 470/16000\n",
            " 99/100 [============================>.] - ETA: 0s - loss: 0.0603 - acc: 0.6157Epoch 00469: val_acc did not improve\n",
            "100/100 [==============================] - 59s - loss: 0.0598 - acc: 0.6153 - val_loss: 0.7693 - val_acc: 0.5906\n",
            "Epoch 471/16000\n",
            "  9/100 [=>............................] - ETA: 29s - loss: 0.0554 - acc: 0.6233"
          ],
          "name": "stdout"
        },
        {
          "output_type": "stream",
          "text": [
            " 99/100 [============================>.] - ETA: 0s - loss: 0.0589 - acc: 0.6104Epoch 00470: val_acc did not improve\n",
            "100/100 [==============================] - 59s - loss: 0.0589 - acc: 0.6112 - val_loss: 0.8024 - val_acc: 0.5889\n",
            "Epoch 472/16000\n",
            " 99/100 [============================>.] - ETA: 0s - loss: 0.0633 - acc: 0.6134Epoch 00471: val_acc improved from 0.59097 to 0.59111, saving model to best_model_new.h5\n",
            "100/100 [==============================] - 61s - loss: 0.0628 - acc: 0.6131 - val_loss: 0.8191 - val_acc: 0.5911\n",
            "Epoch 473/16000\n",
            " 94/100 [===========================>..] - ETA: 1s - loss: 0.0701 - acc: 0.6121"
          ],
          "name": "stdout"
        },
        {
          "output_type": "stream",
          "text": [
            " 99/100 [============================>.] - ETA: 0s - loss: 0.0691 - acc: 0.6135Epoch 00472: val_acc did not improve\n",
            "100/100 [==============================] - 59s - loss: 0.0684 - acc: 0.6127 - val_loss: 0.8147 - val_acc: 0.5890\n",
            "Epoch 474/16000\n",
            " 99/100 [============================>.] - ETA: 0s - loss: 0.1346 - acc: 0.5979Epoch 00473: val_acc did not improve\n",
            "100/100 [==============================] - 59s - loss: 0.1347 - acc: 0.5977 - val_loss: 0.8452 - val_acc: 0.5811\n",
            "Epoch 475/16000\n",
            " 99/100 [============================>.] - ETA: 0s - loss: 0.0831 - acc: 0.6079Epoch 00474: val_acc did not improve\n",
            "100/100 [==============================] - 59s - loss: 0.0824 - acc: 0.6075 - val_loss: 0.8090 - val_acc: 0.5866\n",
            "Epoch 476/16000\n",
            "  9/100 [=>............................] - ETA: 30s - loss: 0.0509 - acc: 0.6030"
          ],
          "name": "stdout"
        },
        {
          "output_type": "stream",
          "text": [
            " 99/100 [============================>.] - ETA: 0s - loss: 0.0571 - acc: 0.5969Epoch 00475: val_acc did not improve\n",
            "100/100 [==============================] - 60s - loss: 0.0579 - acc: 0.5964 - val_loss: 0.8101 - val_acc: 0.5886\n",
            "Epoch 477/16000\n",
            " 99/100 [============================>.] - ETA: 0s - loss: 0.0552 - acc: 0.6044Epoch 00476: val_acc did not improve\n",
            "100/100 [==============================] - 60s - loss: 0.0548 - acc: 0.6045 - val_loss: 0.8000 - val_acc: 0.5905\n",
            "Epoch 478/16000\n",
            " 99/100 [============================>.] - ETA: 0s - loss: 0.0620 - acc: 0.6079Epoch 00477: val_acc improved from 0.59111 to 0.59268, saving model to best_model_new.h5\n",
            "100/100 [==============================] - 61s - loss: 0.0619 - acc: 0.6079 - val_loss: 0.8119 - val_acc: 0.5927\n",
            "Epoch 479/16000\n"
          ],
          "name": "stdout"
        },
        {
          "output_type": "stream",
          "text": [
            " 99/100 [============================>.] - ETA: 0s - loss: 0.0598 - acc: 0.6088Epoch 00478: val_acc did not improve\n",
            "100/100 [==============================] - 59s - loss: 0.0613 - acc: 0.6081 - val_loss: 0.8150 - val_acc: 0.5890\n",
            "Epoch 480/16000\n",
            " 99/100 [============================>.] - ETA: 0s - loss: 0.0632 - acc: 0.6005Epoch 00479: val_acc did not improve\n",
            "100/100 [==============================] - 59s - loss: 0.0627 - acc: 0.6009 - val_loss: 0.8048 - val_acc: 0.5920\n",
            "Epoch 481/16000\n",
            " 99/100 [============================>.] - ETA: 0s - loss: 0.0581 - acc: 0.6148Epoch 00480: val_acc did not improve\n",
            "100/100 [==============================] - 59s - loss: 0.0576 - acc: 0.6146 - val_loss: 0.8249 - val_acc: 0.5878\n",
            "Epoch 482/16000\n"
          ],
          "name": "stdout"
        },
        {
          "output_type": "stream",
          "text": [
            " 99/100 [============================>.] - ETA: 0s - loss: 0.0562 - acc: 0.6127Epoch 00481: val_acc did not improve\n",
            "100/100 [==============================] - 59s - loss: 0.0561 - acc: 0.6130 - val_loss: 0.8081 - val_acc: 0.5902\n",
            "Epoch 483/16000\n",
            " 99/100 [============================>.] - ETA: 0s - loss: 0.0465 - acc: 0.6094Epoch 00482: val_acc did not improve\n",
            "100/100 [==============================] - 59s - loss: 0.0463 - acc: 0.6088 - val_loss: 0.7517 - val_acc: 0.5926\n",
            "Epoch 484/16000\n",
            " 99/100 [============================>.] - ETA: 0s - loss: 0.0581 - acc: 0.6087Epoch 00483: val_acc did not improve\n",
            "100/100 [==============================] - 59s - loss: 0.0579 - acc: 0.6087 - val_loss: 0.8094 - val_acc: 0.5913\n",
            "Epoch 485/16000\n"
          ],
          "name": "stdout"
        },
        {
          "output_type": "stream",
          "text": [
            " 99/100 [============================>.] - ETA: 0s - loss: 0.0678 - acc: 0.6056Epoch 00484: val_acc did not improve\n",
            "100/100 [==============================] - 59s - loss: 0.0671 - acc: 0.6066 - val_loss: 0.8159 - val_acc: 0.5872\n",
            "Epoch 486/16000\n",
            " 99/100 [============================>.] - ETA: 0s - loss: 0.0546 - acc: 0.6021Epoch 00485: val_acc improved from 0.59268 to 0.59432, saving model to best_model_new.h5\n",
            "100/100 [==============================] - 61s - loss: 0.0549 - acc: 0.6026 - val_loss: 0.7940 - val_acc: 0.5943\n",
            "Epoch 487/16000\n",
            " 93/100 [==========================>...] - ETA: 2s - loss: 0.0623 - acc: 0.6114"
          ],
          "name": "stdout"
        },
        {
          "output_type": "stream",
          "text": [
            " 99/100 [============================>.] - ETA: 0s - loss: 0.0625 - acc: 0.6119Epoch 00486: val_acc did not improve\n",
            "100/100 [==============================] - 59s - loss: 0.0619 - acc: 0.6126 - val_loss: 0.7967 - val_acc: 0.5892\n",
            "Epoch 488/16000\n",
            " 99/100 [============================>.] - ETA: 0s - loss: 0.0754 - acc: 0.6036Epoch 00487: val_acc improved from 0.59432 to 0.59437, saving model to best_model_new.h5\n",
            "100/100 [==============================] - 60s - loss: 0.0748 - acc: 0.6037 - val_loss: 0.7600 - val_acc: 0.5944\n",
            "Epoch 489/16000\n",
            " 99/100 [============================>.] - ETA: 0s - loss: 0.0834 - acc: 0.6016Epoch 00488: val_acc did not improve\n",
            "100/100 [==============================] - 59s - loss: 0.0827 - acc: 0.6012 - val_loss: 0.8270 - val_acc: 0.5843\n",
            "Epoch 490/16000\n",
            "  2/100 [..............................] - ETA: 31s - loss: 0.1221 - acc: 0.5767"
          ],
          "name": "stdout"
        },
        {
          "output_type": "stream",
          "text": [
            " 99/100 [============================>.] - ETA: 0s - loss: 0.0782 - acc: 0.6011Epoch 00489: val_acc did not improve\n",
            "100/100 [==============================] - 59s - loss: 0.0779 - acc: 0.6007 - val_loss: 0.8215 - val_acc: 0.5827\n",
            "Epoch 491/16000\n",
            " 99/100 [============================>.] - ETA: 0s - loss: 0.0792 - acc: 0.6062Epoch 00490: val_acc did not improve\n",
            "100/100 [==============================] - 59s - loss: 0.0803 - acc: 0.6052 - val_loss: 0.8118 - val_acc: 0.5833\n",
            "Epoch 492/16000\n",
            " 99/100 [============================>.] - ETA: 0s - loss: 0.0691 - acc: 0.6098Epoch 00491: val_acc did not improve\n",
            "100/100 [==============================] - 59s - loss: 0.0687 - acc: 0.6095 - val_loss: 0.7905 - val_acc: 0.5864\n",
            "Epoch 493/16000\n"
          ],
          "name": "stdout"
        },
        {
          "output_type": "stream",
          "text": [
            " 99/100 [============================>.] - ETA: 0s - loss: 0.0746 - acc: 0.5996Epoch 00492: val_acc did not improve\n",
            "100/100 [==============================] - 59s - loss: 0.0741 - acc: 0.5996 - val_loss: 0.8025 - val_acc: 0.5870\n",
            "Epoch 494/16000\n",
            " 99/100 [============================>.] - ETA: 0s - loss: 0.0814 - acc: 0.6051Epoch 00493: val_acc improved from 0.59437 to 0.59597, saving model to best_model_new.h5\n",
            "100/100 [==============================] - 61s - loss: 0.0811 - acc: 0.6053 - val_loss: 0.7213 - val_acc: 0.5960\n",
            "Epoch 495/16000\n",
            " 93/100 [==========================>...] - ETA: 2s - loss: 0.0660 - acc: 0.6026"
          ],
          "name": "stdout"
        },
        {
          "output_type": "stream",
          "text": [
            " 99/100 [============================>.] - ETA: 0s - loss: 0.0647 - acc: 0.6024Epoch 00494: val_acc did not improve\n",
            "100/100 [==============================] - 59s - loss: 0.0644 - acc: 0.6027 - val_loss: 0.8224 - val_acc: 0.5885\n",
            "Epoch 496/16000\n",
            " 99/100 [============================>.] - ETA: 0s - loss: 0.0773 - acc: 0.6114Epoch 00495: val_acc did not improve\n",
            "100/100 [==============================] - 59s - loss: 0.0766 - acc: 0.6117 - val_loss: 0.8116 - val_acc: 0.5913\n",
            "Epoch 497/16000\n",
            " 99/100 [============================>.] - ETA: 0s - loss: 0.0606 - acc: 0.6108Epoch 00496: val_acc did not improve\n",
            "100/100 [==============================] - 59s - loss: 0.0638 - acc: 0.6098 - val_loss: 0.8383 - val_acc: 0.5845\n",
            "Epoch 498/16000\n",
            "  9/100 [=>............................] - ETA: 29s - loss: 0.1252 - acc: 0.6137"
          ],
          "name": "stdout"
        },
        {
          "output_type": "stream",
          "text": [
            " 99/100 [============================>.] - ETA: 0s - loss: 0.0708 - acc: 0.6002Epoch 00497: val_acc did not improve\n",
            "100/100 [==============================] - 59s - loss: 0.0701 - acc: 0.6001 - val_loss: 0.7813 - val_acc: 0.5918\n",
            "Epoch 499/16000\n",
            " 99/100 [============================>.] - ETA: 0s - loss: 0.1117 - acc: 0.5967Epoch 00498: val_acc did not improve\n",
            "100/100 [==============================] - 59s - loss: 0.1119 - acc: 0.5972 - val_loss: 0.8277 - val_acc: 0.5799\n",
            "Epoch 500/16000\n",
            " 99/100 [============================>.] - ETA: 0s - loss: 0.0658 - acc: 0.6126Epoch 00499: val_acc did not improve\n",
            "100/100 [==============================] - 59s - loss: 0.0656 - acc: 0.6124 - val_loss: 0.7906 - val_acc: 0.5863\n",
            "Epoch 501/16000\n",
            "  1/100 [..............................] - ETA: 31s - loss: 0.0153 - acc: 0.5533"
          ],
          "name": "stdout"
        },
        {
          "output_type": "stream",
          "text": [
            " 99/100 [============================>.] - ETA: 0s - loss: 0.0677 - acc: 0.6124Epoch 00500: val_acc did not improve\n",
            "100/100 [==============================] - 59s - loss: 0.0680 - acc: 0.6120 - val_loss: 0.8083 - val_acc: 0.5871\n",
            "Epoch 502/16000\n",
            " 99/100 [============================>.] - ETA: 0s - loss: 0.0667 - acc: 0.6041Epoch 00501: val_acc did not improve\n",
            "100/100 [==============================] - 59s - loss: 0.0672 - acc: 0.6038 - val_loss: 0.7669 - val_acc: 0.5930\n",
            "Epoch 503/16000\n",
            " 99/100 [============================>.] - ETA: 0s - loss: 0.0466 - acc: 0.6118Epoch 00502: val_acc did not improve\n",
            "100/100 [==============================] - 59s - loss: 0.0462 - acc: 0.6114 - val_loss: 0.7794 - val_acc: 0.5880\n",
            "Epoch 504/16000\n"
          ],
          "name": "stdout"
        },
        {
          "output_type": "stream",
          "text": [
            " 99/100 [============================>.] - ETA: 0s - loss: 0.0606 - acc: 0.6180Epoch 00503: val_acc did not improve\n",
            "100/100 [==============================] - 59s - loss: 0.0654 - acc: 0.6174 - val_loss: 0.8245 - val_acc: 0.5887\n",
            "Epoch 505/16000\n",
            " 99/100 [============================>.] - ETA: 0s - loss: 0.0489 - acc: 0.6045Epoch 00504: val_acc did not improve\n",
            "100/100 [==============================] - 59s - loss: 0.0493 - acc: 0.6043 - val_loss: 0.8247 - val_acc: 0.5952\n",
            "Epoch 506/16000\n",
            " 99/100 [============================>.] - ETA: 0s - loss: 0.0479 - acc: 0.6087Epoch 00505: val_acc did not improve\n",
            "100/100 [==============================] - 60s - loss: 0.0478 - acc: 0.6089 - val_loss: 0.8358 - val_acc: 0.5951\n",
            "Epoch 507/16000\n"
          ],
          "name": "stdout"
        },
        {
          "output_type": "stream",
          "text": [
            " 99/100 [============================>.] - ETA: 0s - loss: 0.0578 - acc: 0.6027Epoch 00506: val_acc did not improve\n",
            "100/100 [==============================] - 59s - loss: 0.0572 - acc: 0.6030 - val_loss: 0.7860 - val_acc: 0.5889\n",
            "Epoch 508/16000\n",
            " 99/100 [============================>.] - ETA: 0s - loss: 0.0767 - acc: 0.6081Epoch 00507: val_acc did not improve\n",
            "100/100 [==============================] - 59s - loss: 0.0780 - acc: 0.6078 - val_loss: 0.7948 - val_acc: 0.5873\n",
            "Epoch 509/16000\n",
            " 99/100 [============================>.] - ETA: 0s - loss: 0.0611 - acc: 0.6025Epoch 00508: val_acc did not improve\n",
            "100/100 [==============================] - 59s - loss: 0.0613 - acc: 0.6028 - val_loss: 0.8683 - val_acc: 0.5842\n",
            "Epoch 510/16000\n"
          ],
          "name": "stdout"
        },
        {
          "output_type": "stream",
          "text": [
            " 99/100 [============================>.] - ETA: 0s - loss: 0.0604 - acc: 0.6049Epoch 00509: val_acc improved from 0.59597 to 0.59933, saving model to best_model_new.h5\n",
            "100/100 [==============================] - 61s - loss: 0.0599 - acc: 0.6052 - val_loss: 0.7885 - val_acc: 0.5993\n",
            "Epoch 511/16000\n",
            " 99/100 [============================>.] - ETA: 0s - loss: 0.0579 - acc: 0.6044Epoch 00510: val_acc did not improve\n",
            "100/100 [==============================] - 59s - loss: 0.0575 - acc: 0.6045 - val_loss: 0.7845 - val_acc: 0.5944\n",
            "Epoch 512/16000\n",
            " 85/100 [========================>.....] - ETA: 4s - loss: 0.0682 - acc: 0.6024"
          ],
          "name": "stdout"
        },
        {
          "output_type": "stream",
          "text": [
            " 99/100 [============================>.] - ETA: 0s - loss: 0.0661 - acc: 0.6069Epoch 00511: val_acc did not improve\n",
            "100/100 [==============================] - 59s - loss: 0.0655 - acc: 0.6068 - val_loss: 0.8154 - val_acc: 0.5930\n",
            "Epoch 513/16000\n",
            " 99/100 [============================>.] - ETA: 0s - loss: 0.0594 - acc: 0.6023Epoch 00512: val_acc did not improve\n",
            "100/100 [==============================] - 59s - loss: 0.0594 - acc: 0.6028 - val_loss: 0.8205 - val_acc: 0.5897\n",
            "Epoch 514/16000\n",
            " 99/100 [============================>.] - ETA: 0s - loss: 0.0525 - acc: 0.6095Epoch 00513: val_acc did not improve\n",
            "100/100 [==============================] - 59s - loss: 0.0520 - acc: 0.6088 - val_loss: 0.8569 - val_acc: 0.5897\n",
            "Epoch 515/16000\n",
            "  9/100 [=>............................] - ETA: 29s - loss: 0.0657 - acc: 0.6044"
          ],
          "name": "stdout"
        },
        {
          "output_type": "stream",
          "text": [
            " 99/100 [============================>.] - ETA: 0s - loss: 0.0551 - acc: 0.6018Epoch 00514: val_acc did not improve\n",
            "100/100 [==============================] - 59s - loss: 0.0570 - acc: 0.6017 - val_loss: 0.7845 - val_acc: 0.5952\n",
            "Epoch 516/16000\n",
            " 99/100 [============================>.] - ETA: 0s - loss: 0.0593 - acc: 0.6075Epoch 00515: val_acc did not improve\n",
            "100/100 [==============================] - 60s - loss: 0.0627 - acc: 0.6077 - val_loss: 0.8778 - val_acc: 0.5827\n",
            "Epoch 517/16000\n",
            " 99/100 [============================>.] - ETA: 0s - loss: 0.0618 - acc: 0.6079Epoch 00516: val_acc did not improve\n",
            "100/100 [==============================] - 60s - loss: 0.0629 - acc: 0.6084 - val_loss: 0.8713 - val_acc: 0.5864\n",
            "Epoch 518/16000\n",
            "  1/100 [..............................] - ETA: 33s - loss: 0.0793 - acc: 0.6200"
          ],
          "name": "stdout"
        },
        {
          "output_type": "stream",
          "text": [
            " 99/100 [============================>.] - ETA: 0s - loss: 0.0544 - acc: 0.6090Epoch 00517: val_acc did not improve\n",
            "100/100 [==============================] - 60s - loss: 0.0547 - acc: 0.6081 - val_loss: 0.9117 - val_acc: 0.5871\n",
            "Epoch 519/16000\n",
            " 99/100 [============================>.] - ETA: 0s - loss: 0.0445 - acc: 0.6148Epoch 00518: val_acc did not improve\n",
            "100/100 [==============================] - 60s - loss: 0.0446 - acc: 0.6139 - val_loss: 0.7958 - val_acc: 0.5901\n",
            "Epoch 520/16000\n",
            " 99/100 [============================>.] - ETA: 0s - loss: 0.0399 - acc: 0.6092Epoch 00519: val_acc did not improve\n",
            "100/100 [==============================] - 60s - loss: 0.0396 - acc: 0.6089 - val_loss: 0.8397 - val_acc: 0.5960\n",
            "Epoch 521/16000\n"
          ],
          "name": "stdout"
        },
        {
          "output_type": "stream",
          "text": [
            " 99/100 [============================>.] - ETA: 0s - loss: 0.0457 - acc: 0.6119Epoch 00520: val_acc did not improve\n",
            "100/100 [==============================] - 60s - loss: 0.0455 - acc: 0.6113 - val_loss: 0.8370 - val_acc: 0.5925\n",
            "Epoch 522/16000\n",
            " 99/100 [============================>.] - ETA: 0s - loss: 0.0599 - acc: 0.6066Epoch 00521: val_acc did not improve\n",
            "100/100 [==============================] - 60s - loss: 0.0594 - acc: 0.6064 - val_loss: 0.8311 - val_acc: 0.5894\n",
            "Epoch 523/16000\n",
            " 99/100 [============================>.] - ETA: 0s - loss: 0.0417 - acc: 0.6025Epoch 00522: val_acc did not improve\n",
            "100/100 [==============================] - 60s - loss: 0.0413 - acc: 0.6020 - val_loss: 0.8316 - val_acc: 0.5896\n",
            "Epoch 524/16000\n"
          ],
          "name": "stdout"
        },
        {
          "output_type": "stream",
          "text": [
            " 99/100 [============================>.] - ETA: 0s - loss: 0.0573 - acc: 0.6022Epoch 00523: val_acc did not improve\n",
            "100/100 [==============================] - 60s - loss: 0.0568 - acc: 0.6022 - val_loss: 0.8581 - val_acc: 0.5879\n",
            "Epoch 525/16000\n",
            " 99/100 [============================>.] - ETA: 0s - loss: 0.0677 - acc: 0.6048Epoch 00524: val_acc did not improve\n",
            "100/100 [==============================] - 60s - loss: 0.0680 - acc: 0.6051 - val_loss: 0.8001 - val_acc: 0.5963\n",
            "Epoch 526/16000\n",
            " 99/100 [============================>.] - ETA: 0s - loss: 0.0592 - acc: 0.6052Epoch 00525: val_acc did not improve\n",
            "100/100 [==============================] - 60s - loss: 0.0600 - acc: 0.6050 - val_loss: 0.8313 - val_acc: 0.5920\n",
            "Epoch 527/16000\n"
          ],
          "name": "stdout"
        },
        {
          "output_type": "stream",
          "text": [
            " 99/100 [============================>.] - ETA: 0s - loss: 0.0596 - acc: 0.6090Epoch 00526: val_acc did not improve\n",
            "100/100 [==============================] - 59s - loss: 0.0591 - acc: 0.6090 - val_loss: 0.7861 - val_acc: 0.5902\n",
            "Epoch 528/16000\n",
            " 99/100 [============================>.] - ETA: 0s - loss: 0.0575 - acc: 0.6112Epoch 00527: val_acc did not improve\n",
            "100/100 [==============================] - 58s - loss: 0.0570 - acc: 0.6112 - val_loss: 0.7976 - val_acc: 0.5953\n",
            "Epoch 529/16000\n",
            " 99/100 [============================>.] - ETA: 0s - loss: 0.0439 - acc: 0.6038Epoch 00528: val_acc did not improve\n",
            "100/100 [==============================] - 59s - loss: 0.0439 - acc: 0.6042 - val_loss: 0.7659 - val_acc: 0.5983\n",
            "Epoch 530/16000\n"
          ],
          "name": "stdout"
        },
        {
          "output_type": "stream",
          "text": [
            " 99/100 [============================>.] - ETA: 0s - loss: 0.0593 - acc: 0.6073Epoch 00529: val_acc did not improve\n",
            "100/100 [==============================] - 59s - loss: 0.0596 - acc: 0.6074 - val_loss: 0.8166 - val_acc: 0.5971\n",
            "Epoch 531/16000\n",
            " 99/100 [============================>.] - ETA: 0s - loss: 0.0652 - acc: 0.6116Epoch 00530: val_acc did not improve\n",
            "100/100 [==============================] - 59s - loss: 0.0660 - acc: 0.6115 - val_loss: 0.8135 - val_acc: 0.5857\n",
            "Epoch 532/16000\n",
            " 99/100 [============================>.] - ETA: 0s - loss: 0.0599 - acc: 0.6122Epoch 00531: val_acc did not improve\n",
            "100/100 [==============================] - 60s - loss: 0.0594 - acc: 0.6117 - val_loss: 0.8343 - val_acc: 0.5850\n",
            "Epoch 533/16000\n"
          ],
          "name": "stdout"
        },
        {
          "output_type": "stream",
          "text": [
            " 99/100 [============================>.] - ETA: 0s - loss: 0.0596 - acc: 0.6160Epoch 00532: val_acc did not improve\n",
            "100/100 [==============================] - 60s - loss: 0.0591 - acc: 0.6161 - val_loss: 0.8095 - val_acc: 0.5963\n",
            "Epoch 534/16000\n",
            " 99/100 [============================>.] - ETA: 0s - loss: 0.0673 - acc: 0.5998Epoch 00533: val_acc did not improve\n",
            "100/100 [==============================] - 60s - loss: 0.0674 - acc: 0.5999 - val_loss: 0.8479 - val_acc: 0.5885\n",
            "Epoch 535/16000\n",
            " 99/100 [============================>.] - ETA: 0s - loss: 0.1609 - acc: 0.5818Epoch 00534: val_acc did not improve\n",
            "100/100 [==============================] - 60s - loss: 0.1603 - acc: 0.5825 - val_loss: 0.9198 - val_acc: 0.5704\n",
            "Epoch 536/16000\n"
          ],
          "name": "stdout"
        },
        {
          "output_type": "stream",
          "text": [
            " 99/100 [============================>.] - ETA: 0s - loss: 0.1148 - acc: 0.5923Epoch 00535: val_acc did not improve\n",
            "100/100 [==============================] - 60s - loss: 0.1139 - acc: 0.5919 - val_loss: 0.9227 - val_acc: 0.5700\n",
            "Epoch 537/16000\n",
            " 99/100 [============================>.] - ETA: 0s - loss: 0.0947 - acc: 0.5956Epoch 00536: val_acc did not improve\n",
            "100/100 [==============================] - 60s - loss: 0.0948 - acc: 0.5954 - val_loss: 0.8681 - val_acc: 0.5763\n",
            "Epoch 538/16000\n",
            " 99/100 [============================>.] - ETA: 0s - loss: 0.0746 - acc: 0.6012Epoch 00537: val_acc did not improve\n",
            "100/100 [==============================] - 60s - loss: 0.0759 - acc: 0.6012 - val_loss: 0.9127 - val_acc: 0.5754\n",
            "Epoch 539/16000\n"
          ],
          "name": "stdout"
        },
        {
          "output_type": "stream",
          "text": [
            " 99/100 [============================>.] - ETA: 0s - loss: 0.0658 - acc: 0.6036Epoch 00538: val_acc did not improve\n",
            "100/100 [==============================] - 60s - loss: 0.0656 - acc: 0.6034 - val_loss: 0.8258 - val_acc: 0.5873\n",
            "Epoch 540/16000\n",
            " 99/100 [============================>.] - ETA: 0s - loss: 0.0659 - acc: 0.6072Epoch 00539: val_acc did not improve\n",
            "100/100 [==============================] - 60s - loss: 0.0654 - acc: 0.6076 - val_loss: 0.8122 - val_acc: 0.5843\n",
            "Epoch 541/16000\n",
            " 99/100 [============================>.] - ETA: 0s - loss: 0.0592 - acc: 0.6119Epoch 00540: val_acc did not improve\n",
            "100/100 [==============================] - 60s - loss: 0.0589 - acc: 0.6116 - val_loss: 0.8291 - val_acc: 0.5920\n",
            "Epoch 542/16000\n"
          ],
          "name": "stdout"
        },
        {
          "output_type": "stream",
          "text": [
            " 99/100 [============================>.] - ETA: 0s - loss: 0.0578 - acc: 0.6132Epoch 00541: val_acc did not improve\n",
            "100/100 [==============================] - 60s - loss: 0.0572 - acc: 0.6130 - val_loss: 0.8284 - val_acc: 0.5888\n",
            "Epoch 543/16000\n",
            " 99/100 [============================>.] - ETA: 0s - loss: 0.0661 - acc: 0.6073Epoch 00542: val_acc did not improve\n",
            "100/100 [==============================] - 59s - loss: 0.0658 - acc: 0.6072 - val_loss: 0.8209 - val_acc: 0.5947\n",
            "Epoch 544/16000\n",
            " 99/100 [============================>.] - ETA: 0s - loss: 0.0512 - acc: 0.6047Epoch 00543: val_acc did not improve\n",
            "100/100 [==============================] - 58s - loss: 0.0519 - acc: 0.6045 - val_loss: 0.8060 - val_acc: 0.5902\n",
            "Epoch 545/16000\n"
          ],
          "name": "stdout"
        },
        {
          "output_type": "stream",
          "text": [
            " 99/100 [============================>.] - ETA: 0s - loss: 0.0541 - acc: 0.5986Epoch 00544: val_acc did not improve\n",
            "100/100 [==============================] - 58s - loss: 0.0542 - acc: 0.5990 - val_loss: 0.7816 - val_acc: 0.5897\n",
            "Epoch 546/16000\n",
            " 99/100 [============================>.] - ETA: 0s - loss: 0.0563 - acc: 0.6076Epoch 00545: val_acc did not improve\n",
            "100/100 [==============================] - 58s - loss: 0.0558 - acc: 0.6066 - val_loss: 0.8221 - val_acc: 0.5905\n",
            "Epoch 547/16000\n",
            " 99/100 [============================>.] - ETA: 0s - loss: 0.0491 - acc: 0.6090Epoch 00546: val_acc did not improve\n",
            "100/100 [==============================] - 59s - loss: 0.0487 - acc: 0.6098 - val_loss: 0.8410 - val_acc: 0.5886\n",
            "Epoch 548/16000\n"
          ],
          "name": "stdout"
        },
        {
          "output_type": "stream",
          "text": [
            " 99/100 [============================>.] - ETA: 0s - loss: 0.0626 - acc: 0.6106Epoch 00547: val_acc did not improve\n",
            "100/100 [==============================] - 59s - loss: 0.0631 - acc: 0.6112 - val_loss: 0.8366 - val_acc: 0.5864\n",
            "Epoch 549/16000\n",
            " 99/100 [============================>.] - ETA: 0s - loss: 0.0624 - acc: 0.6107Epoch 00548: val_acc did not improve\n",
            "100/100 [==============================] - 59s - loss: 0.0618 - acc: 0.6112 - val_loss: 0.8453 - val_acc: 0.5905\n",
            "Epoch 550/16000\n",
            " 99/100 [============================>.] - ETA: 0s - loss: 0.0452 - acc: 0.6048Epoch 00549: val_acc did not improve\n",
            "100/100 [==============================] - 59s - loss: 0.0466 - acc: 0.6046 - val_loss: 0.8222 - val_acc: 0.5913\n",
            "Epoch 551/16000\n"
          ],
          "name": "stdout"
        },
        {
          "output_type": "stream",
          "text": [
            " 99/100 [============================>.] - ETA: 0s - loss: 0.0551 - acc: 0.6112Epoch 00550: val_acc did not improve\n",
            "100/100 [==============================] - 59s - loss: 0.0551 - acc: 0.6114 - val_loss: 0.8164 - val_acc: 0.5919\n",
            "Epoch 552/16000\n",
            " 99/100 [============================>.] - ETA: 0s - loss: 0.0442 - acc: 0.6121Epoch 00551: val_acc did not improve\n",
            "100/100 [==============================] - 59s - loss: 0.0439 - acc: 0.6120 - val_loss: 0.8661 - val_acc: 0.5886\n",
            "Epoch 553/16000\n",
            " 99/100 [============================>.] - ETA: 0s - loss: 0.0540 - acc: 0.6086Epoch 00552: val_acc did not improve\n",
            "100/100 [==============================] - 58s - loss: 0.0536 - acc: 0.6081 - val_loss: 0.8098 - val_acc: 0.5914\n",
            "Epoch 554/16000\n"
          ],
          "name": "stdout"
        },
        {
          "output_type": "stream",
          "text": [
            " 99/100 [============================>.] - ETA: 0s - loss: 0.0505 - acc: 0.6102Epoch 00553: val_acc did not improve\n",
            "100/100 [==============================] - 58s - loss: 0.0500 - acc: 0.6102 - val_loss: 0.7868 - val_acc: 0.5965\n",
            "Epoch 555/16000\n",
            " 99/100 [============================>.] - ETA: 0s - loss: 0.0514 - acc: 0.6123Epoch 00554: val_acc did not improve\n",
            "100/100 [==============================] - 59s - loss: 0.0520 - acc: 0.6117 - val_loss: 0.8455 - val_acc: 0.5860\n",
            "Epoch 556/16000\n",
            " 99/100 [============================>.] - ETA: 0s - loss: 0.0463 - acc: 0.6192Epoch 00555: val_acc did not improve\n",
            "100/100 [==============================] - 59s - loss: 0.0458 - acc: 0.6201 - val_loss: 0.8139 - val_acc: 0.5962\n",
            "Epoch 557/16000\n"
          ],
          "name": "stdout"
        },
        {
          "output_type": "stream",
          "text": [
            " 99/100 [============================>.] - ETA: 0s - loss: 0.0569 - acc: 0.6124Epoch 00556: val_acc did not improve\n",
            "100/100 [==============================] - 59s - loss: 0.0566 - acc: 0.6121 - val_loss: 0.7906 - val_acc: 0.5936\n",
            "Epoch 558/16000\n",
            " 99/100 [============================>.] - ETA: 0s - loss: 0.0470 - acc: 0.6145Epoch 00557: val_acc did not improve\n",
            "100/100 [==============================] - 59s - loss: 0.0469 - acc: 0.6143 - val_loss: 0.7720 - val_acc: 0.5945\n",
            "Epoch 559/16000\n",
            " 99/100 [============================>.] - ETA: 0s - loss: 0.0743 - acc: 0.6002Epoch 00558: val_acc did not improve\n",
            "100/100 [==============================] - 59s - loss: 0.0736 - acc: 0.6002 - val_loss: 0.7903 - val_acc: 0.5936\n",
            "Epoch 560/16000\n"
          ],
          "name": "stdout"
        },
        {
          "output_type": "stream",
          "text": [
            " 99/100 [============================>.] - ETA: 0s - loss: 0.0427 - acc: 0.6014Epoch 00559: val_acc did not improve\n",
            "100/100 [==============================] - 59s - loss: 0.0424 - acc: 0.6018 - val_loss: 0.8132 - val_acc: 0.5867\n",
            "Epoch 561/16000\n",
            " 99/100 [============================>.] - ETA: 0s - loss: 0.0536 - acc: 0.6198Epoch 00560: val_acc did not improve\n",
            "100/100 [==============================] - 59s - loss: 0.0536 - acc: 0.6200 - val_loss: 0.7598 - val_acc: 0.5962\n",
            "Epoch 562/16000\n",
            " 99/100 [============================>.] - ETA: 0s - loss: 0.0403 - acc: 0.6091Epoch 00561: val_acc did not improve\n",
            "100/100 [==============================] - 58s - loss: 0.0399 - acc: 0.6088 - val_loss: 0.7882 - val_acc: 0.5919\n",
            "Epoch 563/16000\n"
          ],
          "name": "stdout"
        },
        {
          "output_type": "stream",
          "text": [
            " 99/100 [============================>.] - ETA: 0s - loss: 0.0439 - acc: 0.6073Epoch 00562: val_acc did not improve\n",
            "100/100 [==============================] - 59s - loss: 0.0448 - acc: 0.6070 - val_loss: 0.8090 - val_acc: 0.5886\n",
            "Epoch 564/16000\n",
            " 99/100 [============================>.] - ETA: 0s - loss: 0.1233 - acc: 0.5838Epoch 00563: val_acc did not improve\n",
            "100/100 [==============================] - 59s - loss: 0.1230 - acc: 0.5840 - val_loss: 0.8640 - val_acc: 0.5841\n",
            "Epoch 565/16000\n",
            " 99/100 [============================>.] - ETA: 0s - loss: 0.0905 - acc: 0.6033Epoch 00564: val_acc did not improve\n",
            "100/100 [==============================] - 59s - loss: 0.0904 - acc: 0.6044 - val_loss: 0.8049 - val_acc: 0.5873\n",
            "Epoch 566/16000\n"
          ],
          "name": "stdout"
        },
        {
          "output_type": "stream",
          "text": [
            " 99/100 [============================>.] - ETA: 0s - loss: 0.0515 - acc: 0.6099Epoch 00565: val_acc did not improve\n",
            "100/100 [==============================] - 59s - loss: 0.0512 - acc: 0.6094 - val_loss: 0.8096 - val_acc: 0.5935\n",
            "Epoch 567/16000\n",
            " 99/100 [============================>.] - ETA: 0s - loss: 0.0625 - acc: 0.6101Epoch 00566: val_acc did not improve\n",
            "100/100 [==============================] - 59s - loss: 0.0636 - acc: 0.6100 - val_loss: 0.8567 - val_acc: 0.5854\n",
            "Epoch 568/16000\n",
            " 99/100 [============================>.] - ETA: 0s - loss: 0.0506 - acc: 0.6179Epoch 00567: val_acc did not improve\n",
            "100/100 [==============================] - 59s - loss: 0.0502 - acc: 0.6175 - val_loss: 0.7991 - val_acc: 0.5892\n",
            "Epoch 569/16000\n"
          ],
          "name": "stdout"
        },
        {
          "output_type": "stream",
          "text": [
            " 99/100 [============================>.] - ETA: 0s - loss: 0.0576 - acc: 0.6153Epoch 00568: val_acc did not improve\n",
            "100/100 [==============================] - 59s - loss: 0.0575 - acc: 0.6156 - val_loss: 0.8206 - val_acc: 0.5902\n",
            "Epoch 570/16000\n",
            " 99/100 [============================>.] - ETA: 0s - loss: 0.0584 - acc: 0.6105Epoch 00569: val_acc did not improve\n",
            "100/100 [==============================] - 59s - loss: 0.0578 - acc: 0.6112 - val_loss: 0.8023 - val_acc: 0.5912\n",
            "Epoch 571/16000\n",
            " 99/100 [============================>.] - ETA: 0s - loss: 0.0633 - acc: 0.6122Epoch 00570: val_acc did not improve\n",
            "100/100 [==============================] - 59s - loss: 0.0642 - acc: 0.6120 - val_loss: 0.8387 - val_acc: 0.5914\n",
            "Epoch 572/16000\n"
          ],
          "name": "stdout"
        },
        {
          "output_type": "stream",
          "text": [
            " 99/100 [============================>.] - ETA: 0s - loss: 0.0501 - acc: 0.6038Epoch 00571: val_acc did not improve\n",
            "100/100 [==============================] - 59s - loss: 0.0496 - acc: 0.6041 - val_loss: 0.8187 - val_acc: 0.5928\n",
            "Epoch 573/16000\n",
            " 99/100 [============================>.] - ETA: 0s - loss: 0.0397 - acc: 0.6081Epoch 00572: val_acc did not improve\n",
            "100/100 [==============================] - 60s - loss: 0.0395 - acc: 0.6079 - val_loss: 0.8207 - val_acc: 0.5947\n",
            "Epoch 574/16000\n",
            " 99/100 [============================>.] - ETA: 0s - loss: 0.0489 - acc: 0.6091Epoch 00573: val_acc did not improve\n",
            "100/100 [==============================] - 59s - loss: 0.0485 - acc: 0.6095 - val_loss: 0.8425 - val_acc: 0.5901\n",
            "Epoch 575/16000\n"
          ],
          "name": "stdout"
        },
        {
          "output_type": "stream",
          "text": [
            " 99/100 [============================>.] - ETA: 0s - loss: 0.0447 - acc: 0.6146Epoch 00574: val_acc did not improve\n",
            "100/100 [==============================] - 60s - loss: 0.0465 - acc: 0.6145 - val_loss: 0.8332 - val_acc: 0.5892\n",
            "Epoch 576/16000\n",
            " 99/100 [============================>.] - ETA: 0s - loss: 0.0568 - acc: 0.6011Epoch 00575: val_acc did not improve\n",
            "100/100 [==============================] - 59s - loss: 0.0570 - acc: 0.6006 - val_loss: 0.8160 - val_acc: 0.5896\n",
            "Epoch 577/16000\n",
            " 99/100 [============================>.] - ETA: 0s - loss: 0.0522 - acc: 0.6070Epoch 00576: val_acc did not improve\n",
            "100/100 [==============================] - 59s - loss: 0.0519 - acc: 0.6069 - val_loss: 0.8115 - val_acc: 0.5872\n",
            "Epoch 578/16000\n"
          ],
          "name": "stdout"
        },
        {
          "output_type": "stream",
          "text": [
            " 99/100 [============================>.] - ETA: 0s - loss: 0.0571 - acc: 0.6103Epoch 00577: val_acc did not improve\n",
            "100/100 [==============================] - 59s - loss: 0.0570 - acc: 0.6105 - val_loss: 0.8577 - val_acc: 0.5842\n",
            "Epoch 579/16000\n",
            " 99/100 [============================>.] - ETA: 0s - loss: 0.0437 - acc: 0.6076Epoch 00578: val_acc did not improve\n",
            "100/100 [==============================] - 60s - loss: 0.0439 - acc: 0.6087 - val_loss: 0.8361 - val_acc: 0.5885\n",
            "Epoch 580/16000\n",
            " 99/100 [============================>.] - ETA: 0s - loss: 0.0569 - acc: 0.6061Epoch 00579: val_acc did not improve\n",
            "100/100 [==============================] - 60s - loss: 0.0564 - acc: 0.6065 - val_loss: 0.8836 - val_acc: 0.5865\n",
            "Epoch 581/16000\n"
          ],
          "name": "stdout"
        },
        {
          "output_type": "stream",
          "text": [
            " 99/100 [============================>.] - ETA: 0s - loss: 0.0457 - acc: 0.6096Epoch 00580: val_acc did not improve\n",
            "100/100 [==============================] - 60s - loss: 0.0458 - acc: 0.6090 - val_loss: 0.8286 - val_acc: 0.5843\n",
            "Epoch 582/16000\n",
            " 99/100 [============================>.] - ETA: 0s - loss: 0.0647 - acc: 0.6130Epoch 00581: val_acc did not improve\n",
            "100/100 [==============================] - 60s - loss: 0.0651 - acc: 0.6127 - val_loss: 0.8396 - val_acc: 0.5876\n",
            "Epoch 583/16000\n",
            " 99/100 [============================>.] - ETA: 0s - loss: 0.0505 - acc: 0.6138Epoch 00582: val_acc did not improve\n",
            "100/100 [==============================] - 60s - loss: 0.0503 - acc: 0.6135 - val_loss: 0.8790 - val_acc: 0.5867\n",
            "Epoch 584/16000\n"
          ],
          "name": "stdout"
        },
        {
          "output_type": "stream",
          "text": [
            " 99/100 [============================>.] - ETA: 0s - loss: 0.0542 - acc: 0.6028Epoch 00583: val_acc did not improve\n",
            "100/100 [==============================] - 60s - loss: 0.0538 - acc: 0.6021 - val_loss: 0.8436 - val_acc: 0.5849\n",
            "Epoch 585/16000\n",
            " 99/100 [============================>.] - ETA: 0s - loss: 0.0544 - acc: 0.6100Epoch 00584: val_acc did not improve\n",
            "100/100 [==============================] - 60s - loss: 0.0541 - acc: 0.6105 - val_loss: 0.8150 - val_acc: 0.5907\n",
            "Epoch 586/16000\n",
            " 99/100 [============================>.] - ETA: 0s - loss: 0.0512 - acc: 0.6105Epoch 00585: val_acc did not improve\n",
            "100/100 [==============================] - 59s - loss: 0.0517 - acc: 0.6106 - val_loss: 0.8062 - val_acc: 0.5918\n",
            "Epoch 587/16000\n"
          ],
          "name": "stdout"
        },
        {
          "output_type": "stream",
          "text": [
            " 99/100 [============================>.] - ETA: 0s - loss: 0.0400 - acc: 0.6093Epoch 00586: val_acc did not improve\n",
            "100/100 [==============================] - 59s - loss: 0.0404 - acc: 0.6100 - val_loss: 0.7919 - val_acc: 0.5918\n",
            "Epoch 588/16000\n",
            " 99/100 [============================>.] - ETA: 0s - loss: 0.0499 - acc: 0.6098Epoch 00587: val_acc did not improve\n",
            "100/100 [==============================] - 59s - loss: 0.0495 - acc: 0.6095 - val_loss: 0.7731 - val_acc: 0.5981\n",
            "Epoch 589/16000\n",
            " 99/100 [============================>.] - ETA: 0s - loss: 0.0443 - acc: 0.6094Epoch 00588: val_acc did not improve\n",
            "100/100 [==============================] - 59s - loss: 0.0440 - acc: 0.6096 - val_loss: 0.7935 - val_acc: 0.5922\n",
            "Epoch 590/16000\n"
          ],
          "name": "stdout"
        },
        {
          "output_type": "stream",
          "text": [
            " 99/100 [============================>.] - ETA: 0s - loss: 0.0462 - acc: 0.6063Epoch 00589: val_acc did not improve\n",
            "100/100 [==============================] - 60s - loss: 0.0476 - acc: 0.6050 - val_loss: 0.8499 - val_acc: 0.5814\n",
            "Epoch 591/16000\n",
            " 99/100 [============================>.] - ETA: 0s - loss: 0.0837 - acc: 0.5995Epoch 00590: val_acc did not improve\n",
            "100/100 [==============================] - 60s - loss: 0.0834 - acc: 0.5994 - val_loss: 0.8172 - val_acc: 0.5895\n",
            "Epoch 592/16000\n",
            " 99/100 [============================>.] - ETA: 0s - loss: 0.0633 - acc: 0.6076Epoch 00591: val_acc did not improve\n",
            "100/100 [==============================] - 60s - loss: 0.0627 - acc: 0.6073 - val_loss: 0.8157 - val_acc: 0.5853\n",
            "Epoch 593/16000\n"
          ],
          "name": "stdout"
        },
        {
          "output_type": "stream",
          "text": [
            " 99/100 [============================>.] - ETA: 0s - loss: 0.0558 - acc: 0.6030Epoch 00592: val_acc did not improve\n",
            "100/100 [==============================] - 60s - loss: 0.0560 - acc: 0.6033 - val_loss: 0.8452 - val_acc: 0.5918\n",
            "Epoch 594/16000\n",
            " 99/100 [============================>.] - ETA: 0s - loss: 0.0625 - acc: 0.6036Epoch 00593: val_acc did not improve\n",
            "100/100 [==============================] - 60s - loss: 0.0625 - acc: 0.6036 - val_loss: 0.8672 - val_acc: 0.5850\n",
            "Epoch 595/16000\n",
            " 99/100 [============================>.] - ETA: 0s - loss: 0.0489 - acc: 0.6148Epoch 00594: val_acc did not improve\n",
            "100/100 [==============================] - 59s - loss: 0.0491 - acc: 0.6146 - val_loss: 0.8526 - val_acc: 0.5885\n",
            "Epoch 596/16000\n"
          ],
          "name": "stdout"
        },
        {
          "output_type": "stream",
          "text": [
            " 99/100 [============================>.] - ETA: 0s - loss: 0.0668 - acc: 0.6062Epoch 00595: val_acc did not improve\n",
            "100/100 [==============================] - 60s - loss: 0.0663 - acc: 0.6059 - val_loss: 0.8145 - val_acc: 0.5897\n",
            "Epoch 597/16000\n",
            " 99/100 [============================>.] - ETA: 0s - loss: 0.0565 - acc: 0.6062Epoch 00596: val_acc did not improve\n",
            "100/100 [==============================] - 59s - loss: 0.0567 - acc: 0.6051 - val_loss: 0.8111 - val_acc: 0.5925\n",
            "Epoch 598/16000\n",
            " 99/100 [============================>.] - ETA: 0s - loss: 0.0583 - acc: 0.6059Epoch 00597: val_acc did not improve\n",
            "100/100 [==============================] - 60s - loss: 0.0579 - acc: 0.6061 - val_loss: 0.8362 - val_acc: 0.5905\n",
            "Epoch 599/16000\n"
          ],
          "name": "stdout"
        },
        {
          "output_type": "stream",
          "text": [
            " 99/100 [============================>.] - ETA: 0s - loss: 0.0517 - acc: 0.6087Epoch 00598: val_acc did not improve\n",
            "100/100 [==============================] - 60s - loss: 0.0515 - acc: 0.6087 - val_loss: 0.8058 - val_acc: 0.5910\n",
            "Epoch 600/16000\n",
            " 99/100 [============================>.] - ETA: 0s - loss: 0.0706 - acc: 0.6137Epoch 00599: val_acc did not improve\n",
            "100/100 [==============================] - 60s - loss: 0.0713 - acc: 0.6135 - val_loss: 0.8316 - val_acc: 0.5896\n",
            "Epoch 601/16000\n",
            " 99/100 [============================>.] - ETA: 0s - loss: 0.0467 - acc: 0.6141Epoch 00600: val_acc did not improve\n",
            "100/100 [==============================] - 60s - loss: 0.0464 - acc: 0.6147 - val_loss: 0.8165 - val_acc: 0.5892\n",
            "Epoch 602/16000\n"
          ],
          "name": "stdout"
        },
        {
          "output_type": "stream",
          "text": [
            " 99/100 [============================>.] - ETA: 0s - loss: 0.1130 - acc: 0.6008Epoch 00601: val_acc did not improve\n",
            "100/100 [==============================] - 60s - loss: 0.1123 - acc: 0.6011 - val_loss: 0.9361 - val_acc: 0.5697\n",
            "Epoch 603/16000\n",
            " 99/100 [============================>.] - ETA: 0s - loss: 0.0697 - acc: 0.6103Epoch 00602: val_acc did not improve\n",
            "100/100 [==============================] - 59s - loss: 0.0712 - acc: 0.6100 - val_loss: 0.8515 - val_acc: 0.5786\n",
            "Epoch 604/16000\n",
            " 99/100 [============================>.] - ETA: 0s - loss: 0.1135 - acc: 0.6011Epoch 00603: val_acc did not improve\n",
            "100/100 [==============================] - 60s - loss: 0.1146 - acc: 0.6013 - val_loss: 0.8570 - val_acc: 0.5857\n",
            "Epoch 605/16000\n"
          ],
          "name": "stdout"
        },
        {
          "output_type": "stream",
          "text": [
            " 99/100 [============================>.] - ETA: 0s - loss: 0.0627 - acc: 0.6105Epoch 00604: val_acc did not improve\n",
            "100/100 [==============================] - 60s - loss: 0.0623 - acc: 0.6106 - val_loss: 0.8510 - val_acc: 0.5840\n",
            "Epoch 606/16000\n",
            " 99/100 [============================>.] - ETA: 0s - loss: 0.0570 - acc: 0.6106Epoch 00605: val_acc did not improve\n",
            "100/100 [==============================] - 60s - loss: 0.0570 - acc: 0.6103 - val_loss: 0.8413 - val_acc: 0.5857\n",
            "Epoch 607/16000\n",
            " 99/100 [============================>.] - ETA: 0s - loss: 0.0561 - acc: 0.6073Epoch 00606: val_acc did not improve\n",
            "100/100 [==============================] - 60s - loss: 0.0557 - acc: 0.6070 - val_loss: 0.8373 - val_acc: 0.5839\n",
            "Epoch 608/16000\n"
          ],
          "name": "stdout"
        },
        {
          "output_type": "stream",
          "text": [
            " 99/100 [============================>.] - ETA: 0s - loss: 0.0495 - acc: 0.6072Epoch 00607: val_acc did not improve\n",
            "100/100 [==============================] - 60s - loss: 0.0494 - acc: 0.6069 - val_loss: 0.8336 - val_acc: 0.5855\n",
            "Epoch 609/16000\n",
            " 99/100 [============================>.] - ETA: 0s - loss: 0.0660 - acc: 0.6021Epoch 00608: val_acc did not improve\n",
            "100/100 [==============================] - 59s - loss: 0.0654 - acc: 0.6024 - val_loss: 0.8248 - val_acc: 0.5852\n",
            "Epoch 610/16000\n",
            " 99/100 [============================>.] - ETA: 0s - loss: 0.0569 - acc: 0.6005Epoch 00609: val_acc did not improve\n",
            "100/100 [==============================] - 59s - loss: 0.0567 - acc: 0.6008 - val_loss: 0.8291 - val_acc: 0.5744\n",
            "Epoch 611/16000\n"
          ],
          "name": "stdout"
        },
        {
          "output_type": "stream",
          "text": [
            " 99/100 [============================>.] - ETA: 0s - loss: 0.0576 - acc: 0.6106Epoch 00610: val_acc did not improve\n",
            "100/100 [==============================] - 59s - loss: 0.0585 - acc: 0.6105 - val_loss: 0.8108 - val_acc: 0.5826\n"
          ],
          "name": "stdout"
        },
        {
          "output_type": "execute_result",
          "data": {
            "text/plain": [
              "<keras.callbacks.History at 0x7fb2574636a0>"
            ]
          },
          "metadata": {
            "tags": []
          },
          "execution_count": 110
        }
      ]
    },
    {
      "metadata": {
        "id": "5eLsn5DKCMvl",
        "colab_type": "code",
        "colab": {
          "base_uri": "https://localhost:8080/",
          "height": 340
        },
        "outputId": "396586f6-e089-4e39-a8ab-de17c1b1d642"
      },
      "cell_type": "code",
      "source": [
        "import os\n",
        "os.listdir()"
      ],
      "execution_count": 111,
      "outputs": [
        {
          "output_type": "execute_result",
          "data": {
            "text/plain": [
              "['datalab',\n",
              " 'clean_pairs.pkl',\n",
              " '.config',\n",
              " '.ipython',\n",
              " '.rnd',\n",
              " 'model2.json',\n",
              " '.keras',\n",
              " 'best_model_new.h5',\n",
              " 'hin.txt',\n",
              " 'model2_weights.h5',\n",
              " '.nv',\n",
              " 'enghindi.txt',\n",
              " 'dataset.pkl',\n",
              " 'attention_decoder.py',\n",
              " '.forever',\n",
              " '__pycache__',\n",
              " '.cache',\n",
              " '_about.txt',\n",
              " '.local']"
            ]
          },
          "metadata": {
            "tags": []
          },
          "execution_count": 111
        }
      ]
    },
    {
      "metadata": {
        "id": "pVdDT1Lhd9yk",
        "colab_type": "code",
        "colab": {
          "base_uri": "https://localhost:8080/",
          "height": 51
        },
        "outputId": "97c83460-f4ea-4f42-f11b-9bfbb7af2aef"
      },
      "cell_type": "code",
      "source": [
        "from keras.models import model_from_json\n",
        "model_json = model2.to_json()\n",
        "with open(\"model2.json\", \"w\") as json_file:\n",
        "    json_file.write(model_json)\n",
        "# serialize weights to HDF5\n",
        "model2.save_weights(\"model2_weights.h5\")\n",
        "print(\"Saved model to disk\")\n",
        " \n",
        "# later...\n",
        " \n",
        "# load json and create model\n",
        "json_file = open('model2.json', 'r')\n",
        "loaded_model_json = json_file.read()\n",
        "json_file.close()\n",
        "loaded_model = model_from_json(loaded_model_json,custom_objects={'AttentionDecoder': AttentionDecoder(LSTM_Unitsize, n_features)})\n",
        "print(\"Loaded model from disk\")\n"
      ],
      "execution_count": 112,
      "outputs": [
        {
          "output_type": "stream",
          "text": [
            "Saved model to disk\n",
            "Loaded model from disk\n"
          ],
          "name": "stdout"
        }
      ]
    },
    {
      "metadata": {
        "id": "xHFKRBwogu7S",
        "colab_type": "code",
        "colab": {
          "base_uri": "https://localhost:8080/",
          "height": 34
        },
        "outputId": "c19c9dc1-c776-481a-fc19-14a4599b3729"
      },
      "cell_type": "code",
      "source": [
        "# load weights into new model\n",
        "loaded_model.load_weights(\"model2_weights.h5\")\n",
        "print(\"Loaded model from disk\")\n",
        " \n",
        "# evaluate loaded model on test data\n",
        "loaded_model.compile(loss='categorical_crossentropy', optimizer='adam', metrics=['accuracy'])"
      ],
      "execution_count": 113,
      "outputs": [
        {
          "output_type": "stream",
          "text": [
            "Loaded model from disk\n"
          ],
          "name": "stdout"
        }
      ]
    },
    {
      "metadata": {
        "id": "FzKZtGHDlQuD",
        "colab_type": "code",
        "colab": {
          "base_uri": "https://localhost:8080/",
          "height": 340
        },
        "outputId": "a4a49118-fde2-4968-f0c6-9fc400632c9a"
      },
      "cell_type": "code",
      "source": [
        "import os\n",
        "os.listdir()"
      ],
      "execution_count": 114,
      "outputs": [
        {
          "output_type": "execute_result",
          "data": {
            "text/plain": [
              "['datalab',\n",
              " 'clean_pairs.pkl',\n",
              " '.config',\n",
              " '.ipython',\n",
              " '.rnd',\n",
              " 'model2.json',\n",
              " '.keras',\n",
              " 'best_model_new.h5',\n",
              " 'hin.txt',\n",
              " 'model2_weights.h5',\n",
              " '.nv',\n",
              " 'enghindi.txt',\n",
              " 'dataset.pkl',\n",
              " 'attention_decoder.py',\n",
              " '.forever',\n",
              " '__pycache__',\n",
              " '.cache',\n",
              " '_about.txt',\n",
              " '.local']"
            ]
          },
          "metadata": {
            "tags": []
          },
          "execution_count": 114
        }
      ]
    },
    {
      "metadata": {
        "id": "Jq75QNpnXuNt",
        "colab_type": "code",
        "colab": {}
      },
      "cell_type": "code",
      "source": [
        "# Install the PyDrive wrapper & import libraries. This is to upload model & weights to your GDrive.\n",
        "# This only needs to be done once in a notebook.\n",
        "!pip install -U -q PyDrive\n",
        "from pydrive.auth import GoogleAuth\n",
        "from pydrive.drive import GoogleDrive\n",
        "from google.colab import auth\n",
        "from oauth2client.client import GoogleCredentials\n",
        "\n",
        "# Authenticate and create the PyDrive client.\n",
        "# This only needs to be done once in a notebook.\n",
        "auth.authenticate_user()\n",
        "gauth = GoogleAuth()\n",
        "gauth.credentials = GoogleCredentials.get_application_default()\n",
        "drive = GoogleDrive(gauth)"
      ],
      "execution_count": 0,
      "outputs": []
    },
    {
      "metadata": {
        "id": "aXi-naqjcm9T",
        "colab_type": "code",
        "colab": {
          "base_uri": "https://localhost:8080/",
          "height": 34
        },
        "outputId": "4222b945-c74d-465f-ed82-288b36988cc3"
      },
      "cell_type": "code",
      "source": [
        "# Create & upload a file.\n",
        "modelname=\"model2.json\"\n",
        "uploaded = drive.CreateFile({'title': modelname})\n",
        "uploaded.SetContentFile(modelname)\n",
        "uploaded.Upload()\n",
        "print('Uploaded file with ID {}'.format(uploaded.get('id')))"
      ],
      "execution_count": 117,
      "outputs": [
        {
          "output_type": "stream",
          "text": [
            "Uploaded file with ID 1WROTQHnDCdJptpXCLvKn5RqVupj83dui\n"
          ],
          "name": "stdout"
        }
      ]
    },
    {
      "metadata": {
        "id": "oYB4U0JpjMvd",
        "colab_type": "code",
        "colab": {
          "base_uri": "https://localhost:8080/",
          "height": 34
        },
        "outputId": "5a01d237-c077-4a6d-a16b-9c6ee12e2e61"
      },
      "cell_type": "code",
      "source": [
        "# Create & upload a file.\n",
        "modelname=\"model2_weights.h5\"\n",
        "uploaded = drive.CreateFile({'title': modelname})\n",
        "uploaded.SetContentFile(modelname)\n",
        "uploaded.Upload()\n",
        "print('Uploaded file with ID {}'.format(uploaded.get('id')))\n"
      ],
      "execution_count": 118,
      "outputs": [
        {
          "output_type": "stream",
          "text": [
            "Uploaded file with ID 1c7KUemDpcEnnTRMrEihZ5gjWJzAIBOzA\n"
          ],
          "name": "stdout"
        }
      ]
    },
    {
      "metadata": {
        "id": "uO7ymZoomx7Q",
        "colab_type": "code",
        "colab": {}
      },
      "cell_type": "code",
      "source": [
        "# Create & upload a file.\n",
        "if (os.path.isfile(\"best_model_new.h5\")==False):\n",
        "  uploaded = drive.CreateFile({'title': modelname})\n",
        "  uploaded.SetContentFile(modelname)\n",
        "  uploaded.Upload()\n",
        "  print('Uploaded file with ID {}'.format(uploaded.get('id')))"
      ],
      "execution_count": 0,
      "outputs": []
    },
    {
      "metadata": {
        "id": "qcjgbzzOY84m",
        "colab_type": "code",
        "colab": {}
      },
      "cell_type": "code",
      "source": [
        "from keras.models import load_model\n",
        "prediction_model = load_model('best_model_new.h5',custom_objects={'AttentionDecoder': AttentionDecoder(LSTM_Unitsize, n_features)})\n",
        "#prediction_model=loaded_model"
      ],
      "execution_count": 0,
      "outputs": []
    },
    {
      "metadata": {
        "id": "frWPpNryEqsk",
        "colab_type": "code",
        "colab": {
          "base_uri": "https://localhost:8080/",
          "height": 85
        },
        "outputId": "23f3a65a-97e9-493f-b875-eb4790839444"
      },
      "cell_type": "code",
      "source": [
        "#Test\n",
        "test_index=test_start_index+14\n",
        "test=np.reshape(X[test_index],(1,X.shape[1]))\n",
        "prediction=np.round(prediction_model.predict(test))\n",
        "predicted_argmax=np.argmax(prediction,axis=2)\n",
        "predicted_argmax=np.reshape(predicted_argmax,(predicted_argmax.shape[1],))\n",
        "Y[test_index],predicted_argmax"
      ],
      "execution_count": 138,
      "outputs": [
        {
          "output_type": "execute_result",
          "data": {
            "text/plain": [
              "(array([2194, 4649, 2393, 3879,  296, 3229, 4321, 4644, 4533, 3179, 2239,\n",
              "        1616,    0,    0,    0]),\n",
              " array([2194, 4649, 2393, 3879,  296, 3229, 4321, 4644, 4533, 3179, 2239,\n",
              "        1616, 4719,    0,    0]))"
            ]
          },
          "metadata": {
            "tags": []
          },
          "execution_count": 138
        }
      ]
    },
    {
      "metadata": {
        "id": "BgUlalCkqNZb",
        "colab_type": "code",
        "colab": {
          "base_uri": "https://localhost:8080/",
          "height": 1054
        },
        "outputId": "789faa25-edc7-44bd-eff7-5a913c93292e"
      },
      "cell_type": "code",
      "source": [
        "#Predict for test sentence index which model has not seen yet.\n",
        "print(\"Pure Testacases are from following sentence numbers in X\",test_start_index)\n",
        "#Given encoding matrix of sentence & dictionary, get the sentence\n",
        "def return_sentences(X,Y,revere_dictionary_english,test_index,model2):\n",
        "  \n",
        "  def return_predicted_array(X,test_index,model2):\n",
        "    test=np.reshape(X[test_index],(1,X.shape[1]))\n",
        "    encoding_prediction=np.round(model2.predict(test))\n",
        "    predicted_argmax=np.argmax(encoding_prediction,axis=2)\n",
        "    predicted_argmax=np.reshape(predicted_argmax,(predicted_argmax.shape[1],))\n",
        "    return predicted_argmax\n",
        "  \n",
        "  encoding_prediction=return_predicted_array(X,test_index,prediction_model)\n",
        "  \n",
        "  encoding_actual=Y[test_index]\n",
        "  \n",
        "  def return_sentence_list(encoding,revere_dictionary_english,test_index):\n",
        "    #print(test_index)\n",
        "    sentence=list()\n",
        "    for key in encoding:\n",
        "      key=int(key)\n",
        "      #print(type(int(key)))\n",
        "      #print(revere_dictionary_english[key])\n",
        "      sentence.append(revere_dictionary_english[key])\n",
        "    return sentence\n",
        "\n",
        "  def concatenate_list_data(list):\n",
        "      result= ''\n",
        "      for element in list:\n",
        "          result += str(element)\n",
        "          result += str(\" \")\n",
        "      return result\n",
        "  actual_sentence=return_sentence_list(encoding_actual,revere_dictionary_english,test_index)\n",
        "  actual_sentence=concatenate_list_data(actual_sentence)\n",
        "  \n",
        "  predicted_sentence=return_sentence_list(encoding_prediction,revere_dictionary_english,test_index)\n",
        "  predicted_sentence=concatenate_list_data(predicted_sentence)\n",
        "  return(actual_sentence,predicted_sentence)\n",
        "\n",
        "#print(test_index)\n",
        "test_sentences=10\n",
        "for test_sentence_index in range(test_start_index,test_start_index+test_sentences):\n",
        "  Actual,Predicted=return_sentences(X,Y,revere_dictionary_english,test_sentence_index,prediction_model)\n",
        "  print(\"#############################\")\n",
        "  print(\"Actual Sentence is:\")\n",
        "  print(Actual)\n",
        "  print(\"Predicted Sentence is:\")\n",
        "  print(Predicted)\n",
        "  print(\"#############################\")"
      ],
      "execution_count": 139,
      "outputs": [
        {
          "output_type": "stream",
          "text": [
            "Pure Testacases are from following sentence numbers in X 39900\n",
            "#############################\n",
            "Actual Sentence is:\n",
            "rch kits are being provided directly to the districts by the government of india <pad> \n",
            "Predicted Sentence is:\n",
            "rch kits are being provided directly to the districts by the government of india <pad> \n",
            "#############################\n",
            "#############################\n",
            "Actual Sentence is:\n",
            "abhyantarvritti pranayama is extremely beneficial for the patients of asthma <pad> <pad> <pad> <pad> <pad> \n",
            "Predicted Sentence is:\n",
            "abhyantarvritti pranayama is extremely beneficial for the patients of asthma patients <pad> <pad> of diabetes \n",
            "#############################\n",
            "#############################\n",
            "Actual Sentence is:\n",
            "cylindrical glasses have to be worn always <pad> <pad> <pad> <pad> <pad> <pad> <pad> <pad> \n",
            "Predicted Sentence is:\n",
            "cylindrical glasses have to be worn always <pad> women be <pad> <pad> <pad> always <pad> \n",
            "#############################\n",
            "#############################\n",
            "Actual Sentence is:\n",
            "important information related to cause and cure <pad> <pad> <pad> <pad> <pad> <pad> <pad> <pad> \n",
            "Predicted Sentence is:\n",
            "important information related to cause and cure <pad> related to <pad> and related blood and \n",
            "#############################\n",
            "#############################\n",
            "Actual Sentence is:\n",
            "you must eat two or three eggs daily in breakfast <pad> <pad> <pad> <pad> <pad> \n",
            "Predicted Sentence is:\n",
            "you must eat two or three eggs daily in breakfast breakfast breakfast breakfast breakfast breakfast \n",
            "#############################\n",
            "#############################\n",
            "Actual Sentence is:\n",
            "drink plenty of water <pad> <pad> <pad> <pad> <pad> <pad> <pad> <pad> <pad> <pad> <pad> \n",
            "Predicted Sentence is:\n",
            "drink plenty of water and drink plenty of water and <pad> <pad> of water and \n",
            "#############################\n",
            "#############################\n",
            "Actual Sentence is:\n",
            "in the cardiac medical science this technique is known by the name of thrombocytic therapy \n",
            "Predicted Sentence is:\n",
            "the <pad> patient medical in this technique is known <pad> the name of <pad> therapy \n",
            "#############################\n",
            "#############################\n",
            "Actual Sentence is:\n",
            "do not lie down immediately after eating complain of heart burn can occur <pad> <pad> \n",
            "Predicted Sentence is:\n",
            "do not lie down immediately after eating complain of heart burn can occur again after \n",
            "#############################\n",
            "#############################\n",
            "Actual Sentence is:\n",
            "antioxidants are considered good for the maintenance of cells in body <pad> <pad> <pad> <pad> \n",
            "Predicted Sentence is:\n",
            "antioxidants are considered good for the maintenance of cells in body of <pad> body <pad> \n",
            "#############################\n",
            "#############################\n",
            "Actual Sentence is:\n",
            "many important elements present in the food continue staying in the body through black pepper \n",
            "Predicted Sentence is:\n",
            "with this bring to <pad> out <pad> <pad> <pad> <pad> <pad> <pad> <pad> <pad> <pad> \n",
            "#############################\n"
          ],
          "name": "stdout"
        }
      ]
    },
    {
      "metadata": {
        "id": "XCEpNyhxI8S-",
        "colab_type": "text"
      },
      "cell_type": "markdown",
      "source": [
        "[Click here to use google transliterate and copy the hindi sentence from there and paste in below cell when it asks for input.](https://www.google.co.in/inputtools/try/)"
      ]
    },
    {
      "metadata": {
        "id": "RstFo7hqHTxb",
        "colab_type": "code",
        "colab": {
          "base_uri": "https://localhost:8080/",
          "height": 68
        },
        "outputId": "7b1b2bce-095a-4e4e-ddc8-3261377a990f"
      },
      "cell_type": "code",
      "source": [
        "#Enter source language sentence from google transliterate https://www.google.co.in/inputtools/try/\n",
        "print(\"Enter Sentences less than 15 words. As of now that is what is set.\")\n",
        "user_sentence=input()\n",
        "print(type(user_sentence))"
      ],
      "execution_count": 140,
      "outputs": [
        {
          "output_type": "stream",
          "text": [
            "Enter Sentences less than 15 words. As of now that is what is set.\n",
            "ताजा साँसें और चमचमाते दाँत\n",
            "<class 'str'>\n"
          ],
          "name": "stdout"
        }
      ]
    },
    {
      "metadata": {
        "id": "6atLy0LnJitT",
        "colab_type": "code",
        "colab": {
          "base_uri": "https://localhost:8080/",
          "height": 51
        },
        "outputId": "9632cc52-a187-4d56-9866-e4fb888f6d85"
      },
      "cell_type": "code",
      "source": [
        "#Get Encoding\n",
        "words=user_sentence.split()\n",
        "user_encoding=[]\n",
        "for word in words:\n",
        "  try:\n",
        "    #print(hindi_dictionary[word])\n",
        "    user_encoding.append(hindi_dictionary[word])\n",
        "  except KeyError:\n",
        "    #print(hindi_dictionary['<unk>'])\n",
        "    user_encoding.append(hindi_dictionary['<unk>'])\n",
        "user_encoding\n",
        "#print(X.shape[1],len(user_encoding))\n",
        "if (X.shape[1]>len(user_encoding)):\n",
        "  padding_count=X.shape[1]-len(user_encoding)\n",
        "  for x in range(0,padding_count):\n",
        "    user_encoding.append(0)\n",
        "else:\n",
        "  user_encoding=user_encoding[0:X.shape[1]]\n",
        "user_encoding=np.array(user_encoding)\n",
        "user_encoding"
      ],
      "execution_count": 141,
      "outputs": [
        {
          "output_type": "execute_result",
          "data": {
            "text/plain": [
              "array([2533, 5802,  922, 1794, 2681,    0,    0,    0,    0,    0,    0,\n",
              "          0,    0,    0,    0])"
            ]
          },
          "metadata": {
            "tags": []
          },
          "execution_count": 141
        }
      ]
    },
    {
      "metadata": {
        "id": "-OlZNNWupj48",
        "colab_type": "code",
        "colab": {
          "base_uri": "https://localhost:8080/",
          "height": 102
        },
        "outputId": "5667b74b-245d-4019-ddc2-473c387a3527"
      },
      "cell_type": "code",
      "source": [
        "def return_predicted_array_user(user_encoding,model2):\n",
        "  test=np.reshape(user_encoding,(1,X.shape[1]))\n",
        "  encoding_prediction=np.round(model2.predict(test))\n",
        "  predicted_argmax=np.argmax(encoding_prediction,axis=2)\n",
        "  predicted_argmax=np.reshape(predicted_argmax,(predicted_argmax.shape[1],))\n",
        "  return predicted_argmax\n",
        "\n",
        "#from keras.models import load_model\n",
        "#bestmodel = load_model('complete_model_with_weigths.h5')\n",
        "\n",
        "predicted_user=return_predicted_array_user(user_encoding,prediction_model)\n",
        "print(\"Predicted Array\",predicted_user)\n",
        "\n",
        "def return_sentence_list(encoding,revere_dictionary_english):\n",
        "  sentence=list()\n",
        "  for ind in encoding:\n",
        "    #print(ind)\n",
        "    predicted_word=revere_dictionary_english[ind]\n",
        "    #print(predicted_word)\n",
        "    sentence.append(revere_dictionary_english[ind])\n",
        "  return sentence\n",
        "  \n",
        "user_translation_list=return_sentence_list(predicted_user,revere_dictionary_english)\n",
        "\n",
        "def concatenate_list_data(list):\n",
        "  result= ''\n",
        "  for element in list:\n",
        "    result += str(element)\n",
        "    result += str(\" \")\n",
        "  return result\n",
        "\n",
        "predicted_sentence=concatenate_list_data(user_translation_list)\n",
        "print(\"Predicted Sentence\")\n",
        "print(\"###################################\")\n",
        "print(predicted_sentence)"
      ],
      "execution_count": 142,
      "outputs": [
        {
          "output_type": "stream",
          "text": [
            "Predicted Array [1821  594  194 4134 4600 1500    0 3392 3392 1500 3392 3392 3392 3392\n",
            " 3392]\n",
            "Predicted Sentence\n",
            "###################################\n",
            "fresh breath and shining teeth enhance <pad> personality personality enhance personality personality personality personality personality \n"
          ],
          "name": "stdout"
        }
      ]
    },
    {
      "metadata": {
        "id": "P2SoIrt9ppnC",
        "colab_type": "text"
      },
      "cell_type": "markdown",
      "source": [
        "## 3. Quantitative Analysis\n",
        "While training you can see the loss as well as the accuracy on each of the positions of the output. The output snapshot below gives you an example of what the accuracies could be at 100th iteration in above settings: \n",
        "\n",
        "Epoch 100/100\n",
        "2800/2810 [============================>.] - ETA: 0s - loss: 5.1898 - dense_2_loss_1: 0.7850 - dense_2_loss_2: 0.8572 - dense_2_loss_3: 0.8971 - dense_2_loss_4: 0.8881 - dense_2_loss_5: 0.9539 - dense_2_loss_6: 0.8085 - dense_2_acc_1: 0.7875 - dense_2_acc_2: 0.7571 - dense_2_acc_3: 0.7443 - dense_2_acc_4: 0.7479 - dense_2_acc_5: 0.7379 - dense_2_acc_6: 0.7975Epoch 00099: saving model to main_model_weights.h5\n",
        "2810/2810 [==============================] - 17s - loss: 5.1868 - dense_2_loss_1: 0.7848 - dense_2_loss_2: 0.8570 - dense_2_loss_3: 0.8973 - dense_2_loss_4: 0.8891 - dense_2_loss_5: 0.9526 - dense_2_loss_6: 0.8061 - dense_2_acc_1: 0.7872 - dense_2_acc_2: 0.7569 - dense_2_acc_3: 0.7438 - dense_2_acc_4: 0.7480 - dense_2_acc_5: 0.7384 - dense_2_acc_6: 0.7982 - val_loss: 40.8334 - val_dense_2_loss_1: 4.3684 - val_dense_2_loss_2: 7.5746 - val_dense_2_loss_3: 6.9904 - val_dense_2_loss_4: 8.9484 - val_dense_2_loss_5: 6.6466 - val_dense_2_loss_6: 6.3049 - val_dense_2_acc_1: 0.4561 - val_dense_2_acc_2: 0.2807 - val_dense_2_acc_3: 0.1754 - val_dense_2_acc_4: 0.1579 - val_dense_2_acc_5: 0.2456 - val_dense_2_acc_6: 0.3684\n",
        "\n",
        "######################################################################################################\n",
        "\n",
        "<caption><left> Thus at 100-th iteration with unaltered settings above, `dense_2_acc_6: 0.7975` means that you are predicting the 6th word of the output correctly 79% of the time in the current batch of data. Also val_dense_2_acc_6: 0.3684 means the 6th digit prediction accuracy is 36%  </left></caption>\n",
        " "
      ]
    },
    {
      "metadata": {
        "id": "3ni-lR-FppnI",
        "colab_type": "text"
      },
      "cell_type": "markdown",
      "source": [
        "We can now see the results on new examples."
      ]
    },
    {
      "metadata": {
        "id": "wwlSpdlIppnP",
        "colab_type": "text"
      },
      "cell_type": "markdown",
      "source": [
        "We should be able to see following results. We have first sentence from training example and another one from true test. We can see that there is a pretty good translation for the data from training and for true test it was able to predict first place pretty accurately but failed in following portions.\n",
        "\n",
        " ##### \n",
        "\n",
        "Hindi इसको अपना घर ही समझो\n",
        "Expected: Please make yourself at home\n",
        "Predicted output: Please yourself yourself home <pad> <pad>\n",
        "\n",
        " ##### \n",
        "\n",
        "Hindi हमने खरीदी\n",
        "Predicted output: We leave up <pad> <pad> <pad>"
      ]
    },
    {
      "metadata": {
        "id": "S8ZzMgVhppnQ",
        "colab_type": "text"
      },
      "cell_type": "markdown",
      "source": [
        "## 5 References"
      ]
    },
    {
      "metadata": {
        "id": "SQmFPC6RppnR",
        "colab_type": "text"
      },
      "cell_type": "markdown",
      "source": [
        "Neural Machine Translation by Jointly Learning to Align and Translate: Dzmitry Bahdanau, Kyunghyun Cho, Yoshua Bengio https://arxiv.org/pdf/1409.0473.pdf\n",
        "\n",
        "https://machinelearningmastery.com\n",
        "\n",
        "https://www.coursera.org/\n",
        "\n",
        "https://www.udemy.com/"
      ]
    },
    {
      "metadata": {
        "id": "Pkhih1osppnT",
        "colab_type": "text"
      },
      "cell_type": "markdown",
      "source": [
        "## Appendix"
      ]
    },
    {
      "metadata": {
        "id": "l_RxBwoYppnT",
        "colab_type": "text"
      },
      "cell_type": "markdown",
      "source": [
        "One thing we can do to improve the model is instead of one hot encodings of words of length vocabulary, get the word2vec vectors for each word with fixed length.\n",
        "\n",
        "Another thing that can be done is train only short sentences.\n",
        "\n",
        "In below section we will provide the functions to help to do the tasks."
      ]
    },
    {
      "metadata": {
        "id": "oPjSbyZFppnU",
        "colab_type": "code",
        "colab": {}
      },
      "cell_type": "code",
      "source": [
        "#Converting input to word2vec.\n",
        "def sentences_to_word2vec_input_format(language_sentences_list):\n",
        "    word2vec_sentence_feed=list()\n",
        "    for sentence in language_sentences_list:\n",
        "        word2vec_sentence_feed.append(sentence.split())\n",
        "    return(word2vec_sentence_feed)\n",
        "english_sentences_w2v_format=sentences_to_word2vec_input_format(english_sentences_list)\n",
        "hindi_sentences_w2v_format=sentences_to_word2vec_input_format(hindi_sentences_list)"
      ],
      "execution_count": 0,
      "outputs": []
    },
    {
      "metadata": {
        "id": "55q44941ppnk",
        "colab_type": "code",
        "colab": {}
      },
      "cell_type": "code",
      "source": [
        "from gensim.models import Word2Vec\n",
        "# train model\n",
        "english_model = Word2Vec(english_sentences_w2v_format, min_count=1)\n",
        "english_words_vocab = list(english_model.wv.vocab)\n",
        "hindi_model = Word2Vec(hindi_sentences_w2v_format, min_count=1)\n",
        "english_words_vocab = list(hindi_model.wv.vocab)"
      ],
      "execution_count": 0,
      "outputs": []
    },
    {
      "metadata": {
        "id": "k7PhtEkvppnn",
        "colab_type": "code",
        "colab": {}
      },
      "cell_type": "code",
      "source": [
        "def sentences_to_w2vec(language_encoding,revere_dictionary_language,language_model):\n",
        "    import numpy as np\n",
        "    sentence_level_w2vec_list=[]\n",
        "    #arr = np.empty((2,), float)\n",
        "    number_of_sentences=language_encoding.shape[0]\n",
        "    for i in range(0,number_of_sentences):\n",
        "        language_list_padded=[]\n",
        "        #print (english_encoding[i])\n",
        "        for key in language_encoding[i]:\n",
        "            #print(revere_dictionary_english[key])\n",
        "            word=(revere_dictionary_language[key])\n",
        "            try:\n",
        "                #print(\"Found word Shape of word vector\",(english_model[word]).shape,arr.shape)\n",
        "                language_list_padded.append(language_model[word])\n",
        "            except KeyError:\n",
        "                unk='<unk>'\n",
        "                #print(\"not found! Assigning Unknown Vector\",  (english_model[unk]).shape)\n",
        "                language_list_padded.append(language_model[unk])\n",
        "        #print(np.array(language_list_padded))\n",
        "        sentence_level_w2vec_list.append((np.array(language_list_padded)))\n",
        "    sentence_level_w2vec=np.array(sentence_level_w2vec_list)\n",
        "    return(sentence_level_w2vec)"
      ],
      "execution_count": 0,
      "outputs": []
    },
    {
      "metadata": {
        "id": "bbsNCN0Oppnq",
        "colab_type": "code",
        "colab": {}
      },
      "cell_type": "code",
      "source": [
        "X=hindi_encoding\n",
        "Y=english_encoding\n",
        "#Y will remain the same.\n",
        "Yoh=np.array(list(map(lambda x: to_categorical(x, num_classes=len(english_dictionary)), Y)))\n",
        "print(\"X.shape:\", X.shape)\n",
        "print(\"Y.shape:\", Y.shape)\n",
        "print(\"Yoh.shape:\", Yoh.shape)"
      ],
      "execution_count": 0,
      "outputs": []
    },
    {
      "metadata": {
        "id": "Lx__HSMlppnu",
        "colab_type": "code",
        "colab": {}
      },
      "cell_type": "code",
      "source": [
        "#Run this if you want word2vec instead of One hot encoding\n",
        "#Naming it still as X0h and Yoh to avoid changes in too many places further.\n",
        "#Yoh \n",
        "Xoh=sentences_to_w2vec(hindi_encoding,revere_dictionary_hindi,hindi_model)\n",
        "print(\"Xoh.shape:\", Xoh.shape)\n",
        "print(\"Yoh.shape:\", Yoh.shape)"
      ],
      "execution_count": 0,
      "outputs": []
    },
    {
      "metadata": {
        "id": "a5xqchLzppn4",
        "colab_type": "text"
      },
      "cell_type": "markdown",
      "source": [
        "One might also like to get the sentences of only specific length from source as well as target, for example get all sentences which has maximum 5 words and in hindi maximum 8 words. Use below function and feed the length you need."
      ]
    },
    {
      "metadata": {
        "id": "ZIIhBSOwppn5",
        "colab_type": "code",
        "colab": {}
      },
      "cell_type": "code",
      "source": [
        "#dataset=Ndarray with following dimentions (sentence_length, 2)\n",
        "#source_len is the length of language in dataset[0][1]\n",
        "#target_len is the length of language in dataset[0][0]\n",
        "def get_sentences_subset(dataset,source_len,target_len):\n",
        "    limited=dataset\n",
        "    indexes_list=[]\n",
        "    for indexes in range(0,limited.shape[0]):\n",
        "        #print(len(limited[i][0].split()),len(limited[i][1].split()))\n",
        "        eng_len=len(limited[indexes][0].split()) \n",
        "        hin_len=len(limited[indexes][1].split())\n",
        "        state1=(eng_len<=target_len)\n",
        "        state2=(hin_len<=source_len)\n",
        "        final=state2&state1\n",
        "        #print(eng_len,hin_len,final)\n",
        "        #print(state1,state2,final)\n",
        "        if (final):\n",
        "            indexes_list.append(indexes)\n",
        "    #print(indexes_list,type(indexes_list))\n",
        "    return(limited[indexes_list])"
      ],
      "execution_count": 0,
      "outputs": []
    }
  ]
}