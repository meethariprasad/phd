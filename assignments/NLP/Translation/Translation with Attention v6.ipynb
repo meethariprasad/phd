{
 "cells": [
  {
   "cell_type": "markdown",
   "metadata": {},
   "source": [
    "# Neural Machine Translation\n",
    "\n",
    "Welcome to your first programming assignment for this week! \n",
    "\n",
    "You will build a Neural Machine Translation (NMT) model to translate human readable dates (\"25th of June, 2009\") into machine readable dates (\"2009-06-25\"). You will do this using an attention model, one of the most sophisticated sequence to sequence models. \n",
    "\n",
    "This notebook was produced together with NVIDIA's Deep Learning Institute. \n",
    "\n",
    "Let's load all the packages you will need for this assignment."
   ]
  },
  {
   "cell_type": "code",
   "execution_count": 1,
   "metadata": {},
   "outputs": [
    {
     "name": "stderr",
     "output_type": "stream",
     "text": [
      "Using TensorFlow backend.\n"
     ]
    }
   ],
   "source": [
    "from keras.layers import Bidirectional, Concatenate, Permute, Dot, Input, LSTM, Multiply\n",
    "from keras.layers import RepeatVector, Dense, Activation, Lambda\n",
    "from keras.optimizers import Adam\n",
    "from keras.utils import to_categorical\n",
    "from keras.models import load_model, Model\n",
    "import keras.backend as K\n",
    "import numpy as np\n",
    "\n",
    "from faker import Faker\n",
    "import random\n",
    "from tqdm import tqdm\n",
    "from babel.dates import format_date\n",
    "from nmt_utils import *\n",
    "import matplotlib.pyplot as plt\n",
    "%matplotlib inline"
   ]
  },
  {
   "cell_type": "markdown",
   "metadata": {},
   "source": [
    "## 1 - Translating human readable dates into machine readable dates\n",
    "\n",
    "The model you will build here could be used to translate from one language to another, such as translating from English to Hindi. However, language translation requires massive datasets and usually takes days of training on GPUs. To give you a place to experiment with these models even without using massive datasets, we will instead use a simpler \"date translation\" task. \n",
    "\n",
    "The network will input a date written in a variety of possible formats (*e.g. \"the 29th of August 1958\", \"03/30/1968\", \"24 JUNE 1987\"*) and translate them into standardized, machine readable dates (*e.g. \"1958-08-29\", \"1968-03-30\", \"1987-06-24\"*). We will have the network learn to output dates in the common machine-readable format YYYY-MM-DD. \n",
    "\n",
    "\n",
    "\n",
    "<!-- \n",
    "Take a look at [nmt_utils.py](./nmt_utils.py) to see all the formatting. Count and figure out how the formats work, you will need this knowledge later. !--> "
   ]
  },
  {
   "cell_type": "markdown",
   "metadata": {},
   "source": [
    "### 1.1 - Dataset\n",
    "\n",
    "We will train the model on a dataset of 10000 human readable dates and their equivalent, standardized, machine readable dates. Let's run the following cells to load the dataset and print some examples. "
   ]
  },
  {
   "cell_type": "code",
   "execution_count": 2,
   "metadata": {},
   "outputs": [],
   "source": [
    "#m = 10000\n",
    "#dataset, human_vocab, machine_vocab, inv_machine_vocab = load_dataset(m)"
   ]
  },
  {
   "cell_type": "code",
   "execution_count": 3,
   "metadata": {},
   "outputs": [
    {
     "data": {
      "text/plain": [
       "['english-hindi-train.pkl',\n",
       " 'english-german.pkl',\n",
       " 'enghindi.txt',\n",
       " 'main_model_weights.h5',\n",
       " 'main_model.h5',\n",
       " 'english-hindi.pkl',\n",
       " 'model.h5',\n",
       " 'english-german-train.pkl',\n",
       " 'final_model_weights.h5',\n",
       " 'images',\n",
       " 'hin.txt',\n",
       " 'english-hindi-both.pkl',\n",
       " 'model.bin',\n",
       " 'nmt_utils.py',\n",
       " 'english-german-both.pkl',\n",
       " 'english-hindi-test.pkl',\n",
       " '__pycache__',\n",
       " 'Neural+machine+translation+with+attention+-+v4.ipynb',\n",
       " 'english-german-test.pkl',\n",
       " '_about.txt']"
      ]
     },
     "execution_count": 3,
     "metadata": {},
     "output_type": "execute_result"
    }
   ],
   "source": [
    "import requests, zipfile, io\n",
    "#https://github.com/meethariprasad/phd/raw/master/assignments/NLP/Translation/hin.zip\n",
    "r = requests.get(\"http://www.manythings.org/anki/hin-eng.zip\")\n",
    "z = zipfile.ZipFile(io.BytesIO(r.content))\n",
    "z.extractall()\n",
    "os.listdir()"
   ]
  },
  {
   "cell_type": "code",
   "execution_count": 4,
   "metadata": {},
   "outputs": [],
   "source": [
    "file=open(\"hin.txt\",'r',encoding='utf-8')\n",
    "content=file.read()\n",
    "file.close()"
   ]
  },
  {
   "cell_type": "code",
   "execution_count": 5,
   "metadata": {},
   "outputs": [
    {
     "name": "stdout",
     "output_type": "stream",
     "text": [
      "Number of clean pairs 2867\n",
      "Saved: english-german.pkl\n",
      "[Help] => [बचाओ]\n",
      "[Jump] => [उछलो]\n",
      "[Jump] => [कूदो]\n",
      "[Jump] => [छलांग]\n",
      "[Hello] => [नमस्ते]\n",
      "[Hello] => [नमस्कार]\n",
      "[Cheers] => [वाहवाह]\n",
      "[Cheers] => [चियर्स]\n",
      "[Got it] => [समझे कि नहीं]\n",
      "[Im OK] => [मैं ठीक हूँ]\n"
     ]
    }
   ],
   "source": [
    "import string\n",
    "import re\n",
    "from pickle import dump\n",
    "from unicodedata import normalize\n",
    "from numpy import array\n",
    "\n",
    "# load doc into memory\n",
    "def load_doc(filename):\n",
    "\t# open the file as read only\n",
    "\tfile = open(filename, mode='rt', encoding='utf-8')\n",
    "\t# read all text\n",
    "\ttext = file.read()\n",
    "\t# close the file\n",
    "\tfile.close()\n",
    "\treturn text\n",
    "\n",
    "# split a loaded document into sentences\n",
    "def to_pairs(doc):\n",
    "\tlines = doc.strip().split('\\n')\n",
    "\tpairs = [line.split('\\t') for line in  lines]\n",
    "\treturn pairs\n",
    "\n",
    "# clean a list of lines\n",
    "def clean_pairs(lines):\n",
    "\tcleaned = list()\n",
    "\t# prepare regex for char filtering\n",
    "\tre_punc = re.compile('[।%s]' % re.escape(string.punctuation))\n",
    "\tre_print = re.compile('[^%s]' % re.escape(string.printable))\n",
    "\tfor pair in lines:\n",
    "\t\tclean_pair = list()\n",
    "\t\tfor line in pair:\n",
    "\t\t\t# tokenize on white space\n",
    "\t\t\tline = line.split()\n",
    "\t\t\t# remove punctuation from each token\n",
    "\t\t\tline = [re_punc.sub('', w) for w in line]\n",
    "\t\t\t# remove tokens with numbers in them\n",
    "\t\t\t#line = [word for word in line if word.isalpha()]\n",
    "\t\t\t#line=re.sub('[।]', '', line)\n",
    "\t\t\t# store as string\n",
    "\t\t\tclean_pair.append(' '.join(line))\n",
    "\t\tcleaned.append(clean_pair)\n",
    "\treturn array(cleaned)\n",
    "\n",
    "# save a list of clean sentences to file\n",
    "def save_clean_data(sentences, filename):\n",
    "\tdump(sentences, open(filename, 'wb'))\n",
    "\tprint('Saved: %s' % filename)\n",
    "\n",
    "# load dataset\n",
    "filename = 'hin.txt'\n",
    "doc = load_doc(filename)\n",
    "# split into english-german pairs\n",
    "pairs = to_pairs(doc)\n",
    "# clean sentences\n",
    "clean_pairs = clean_pairs(pairs)\n",
    "# save clean pairs to file\n",
    "print (\"Number of clean pairs\",clean_pairs.shape[0])\n",
    "save_clean_data(clean_pairs, 'english-german.pkl')\n",
    "# spot check\n",
    "for i in range(10):\n",
    "\tprint('[%s] => [%s]' % (clean_pairs[i,0], clean_pairs[i,1]))"
   ]
  },
  {
   "cell_type": "code",
   "execution_count": 6,
   "metadata": {},
   "outputs": [
    {
     "name": "stdout",
     "output_type": "stream",
     "text": [
      "2867\n",
      "Saved: english-german-both.pkl\n",
      "Saved: english-german-train.pkl\n",
      "Saved: english-german-test.pkl\n"
     ]
    }
   ],
   "source": [
    "from pickle import load\n",
    "from pickle import dump\n",
    "from numpy.random import shuffle\n",
    "\n",
    "# load a clean dataset\n",
    "def load_clean_sentences(filename):\n",
    "\treturn load(open(filename, 'rb'))\n",
    "\n",
    "# save a list of clean sentences to file\n",
    "def save_clean_data(sentences, filename):\n",
    "\tdump(sentences, open(filename, 'wb'))\n",
    "\tprint('Saved: %s' % filename)\n",
    "\n",
    "# load dataset\n",
    "raw_dataset = load_clean_sentences('english-german.pkl')\n",
    "\n",
    "# reduce dataset size\n",
    "n_sentences = raw_dataset.shape[0]\n",
    "print (n_sentences)\n",
    "dataset = raw_dataset[:n_sentences, :]\n",
    "# random shuffle\n",
    "shuffle(dataset)\n",
    "# split into train/test\n",
    "train, test = dataset[:2800], dataset[2800:]\n",
    "# save\n",
    "save_clean_data(dataset, 'english-german-both.pkl')\n",
    "save_clean_data(train, 'english-german-train.pkl')\n",
    "save_clean_data(test, 'english-german-test.pkl')"
   ]
  },
  {
   "cell_type": "code",
   "execution_count": 7,
   "metadata": {},
   "outputs": [
    {
     "data": {
      "text/plain": [
       "array([['Please make yourself at home', 'इसको अपना घर ही समझो'],\n",
       "       ['Who made this cake', 'यह केक किसने बनाया है'],\n",
       "       ['These dogs are big', 'ये कुत्ते बड़े हैं'],\n",
       "       ['May I see your passport please',\n",
       "        'मैं आपका पासपोर्ट देख सकता हूँ क्या'],\n",
       "       ['He took a picture of the koala', 'उसने कोआले की तस्वीर खींची'],\n",
       "       ['He was accused of murder', 'उसपर कत्ल का इलज़ाम लगाया गया'],\n",
       "       ['I am fully convinced of your innocence',\n",
       "        'मुझे तुम्हारे बेगुनाह होने पर पूरा यकीन है'],\n",
       "       ['There is a garden behind my house', 'मेरे घर के पीछे एक बगीचा है'],\n",
       "       ['They were scolded by the teacher', 'उन्हें अपनी टीचर से डाँट पड़ी'],\n",
       "       ['My money was stolen', 'मेरे पैसे चोरी हो गए']],\n",
       "      dtype='<U121')"
      ]
     },
     "execution_count": 7,
     "metadata": {},
     "output_type": "execute_result"
    }
   ],
   "source": [
    "dataset[:10]"
   ]
  },
  {
   "cell_type": "code",
   "execution_count": 8,
   "metadata": {},
   "outputs": [],
   "source": [
    "#Converting it to tuples.\n",
    "dataset_list=(list(tuple(map(tuple, dataset))))"
   ]
  },
  {
   "cell_type": "code",
   "execution_count": 9,
   "metadata": {},
   "outputs": [
    {
     "data": {
      "text/plain": [
       "list"
      ]
     },
     "execution_count": 9,
     "metadata": {},
     "output_type": "execute_result"
    }
   ],
   "source": [
    "type(dataset_list[1:2])"
   ]
  },
  {
   "cell_type": "code",
   "execution_count": 10,
   "metadata": {},
   "outputs": [
    {
     "data": {
      "text/plain": [
       "array([['Please make yourself at home', 'इसको अपना घर ही समझो'],\n",
       "       ['Who made this cake', 'यह केक किसने बनाया है'],\n",
       "       ['These dogs are big', 'ये कुत्ते बड़े हैं'],\n",
       "       ..., \n",
       "       ['Let me out', 'मुझे बाहर जाने दो'],\n",
       "       ['Mary loves going to the spa', 'मेरी को स्पा जाना पसंद है'],\n",
       "       ['Turn on the radio', 'रेडियो को चालू करो']],\n",
       "      dtype='<U121')"
      ]
     },
     "execution_count": 10,
     "metadata": {},
     "output_type": "execute_result"
    }
   ],
   "source": [
    "#Creating small subset for test\n",
    "#dataset=dataset[0:2]\n",
    "dataset"
   ]
  },
  {
   "cell_type": "code",
   "execution_count": 11,
   "metadata": {},
   "outputs": [],
   "source": [
    "#Converting it to tuples.\n",
    "dataset_list=(list(tuple(map(tuple, dataset))))"
   ]
  },
  {
   "cell_type": "code",
   "execution_count": 12,
   "metadata": {},
   "outputs": [],
   "source": [
    "english_sentences_list=list(dataset[:,0])"
   ]
  },
  {
   "cell_type": "code",
   "execution_count": 13,
   "metadata": {},
   "outputs": [],
   "source": [
    "english_unique_words=set((' '.join(english_sentences_list)).split())\n",
    "english_vocab_len=len(set((' '.join(english_sentences_list)).split()))"
   ]
  },
  {
   "cell_type": "code",
   "execution_count": 14,
   "metadata": {},
   "outputs": [],
   "source": [
    "hindi_sentences_list=list(dataset[:,1])"
   ]
  },
  {
   "cell_type": "code",
   "execution_count": 15,
   "metadata": {},
   "outputs": [],
   "source": [
    "hindi_unique_words=set((' '.join(hindi_sentences_list)).split())\n",
    "hindi_vocab_len=len(set((' '.join(hindi_sentences_list)).split()))"
   ]
  },
  {
   "cell_type": "code",
   "execution_count": 16,
   "metadata": {},
   "outputs": [],
   "source": [
    "## One thing we can do to improve the model is instead of one hot encodings of words of length vocabulary, get the word2vec vectors for each word with fixed length.\n",
    "## Another thing that can be done is train only short sentences. We have found that they are resulting in good results.\n",
    "## There is a suspition that at post BiLSTM it is better to add the input of previously predicted vector. "
   ]
  },
  {
   "cell_type": "code",
   "execution_count": 17,
   "metadata": {},
   "outputs": [],
   "source": [
    "# define training data\n",
    "sentences = [['this', 'is', 'the', 'first', 'sentence', 'for', 'word2vec'],\n",
    "\t\t\t['this', 'is', 'the', 'second', 'sentence'],\n",
    "\t\t\t['yet', 'another', 'sentence'],\n",
    "\t\t\t['one', 'more', 'sentence'],\n",
    "\t\t\t['and', 'the', 'final', 'sentence']]\n",
    "type(sentences)\n",
    "\n",
    "def sentences_to_word2vec_input_format(language_sentences_list):\n",
    "    word2vec_sentence_feed=list()\n",
    "    for sentence in language_sentences_list:\n",
    "        word2vec_sentence_feed.append(sentence.split())\n",
    "    return(word2vec_sentence_feed)\n",
    "english_sentences_w2v_format=sentences_to_word2vec_input_format(english_sentences_list)\n",
    "hindi_sentences_w2v_format=sentences_to_word2vec_input_format(hindi_sentences_list)"
   ]
  },
  {
   "cell_type": "code",
   "execution_count": 18,
   "metadata": {},
   "outputs": [],
   "source": [
    "from gensim.models import Word2Vec\n",
    "# train model\n",
    "english_model = Word2Vec(english_sentences_w2v_format, min_count=1)\n",
    "english_words_vocab = list(english_model.wv.vocab)\n",
    "hindi_model = Word2Vec(hindi_sentences_w2v_format, min_count=1)\n",
    "english_words_vocab = list(hindi_model.wv.vocab)"
   ]
  },
  {
   "cell_type": "code",
   "execution_count": 19,
   "metadata": {},
   "outputs": [
    {
     "name": "stdout",
     "output_type": "stream",
     "text": [
      "Shape of word vector (100,)\n"
     ]
    },
    {
     "name": "stderr",
     "output_type": "stream",
     "text": [
      "/usr/local/src/conda3_runtime/home/envs/DSX-Python35-Spark/lib/python3.5/site-packages/ipykernel/__main__.py:4: DeprecationWarning: Call to deprecated `__getitem__` (Method will be removed in 4.0.0, use self.wv.__getitem__() instead).\n"
     ]
    }
   ],
   "source": [
    "# access vector for one word\n",
    "word=\"sentence\"\n",
    "try:\n",
    "    print(\"Shape of word vector\",(english_model[word].shape))\n",
    "except KeyError:\n",
    "    print(\"not found! \",  word)"
   ]
  },
  {
   "cell_type": "code",
   "execution_count": 20,
   "metadata": {},
   "outputs": [],
   "source": [
    "#from gensim.models.wrappers import FastText\n",
    "\n",
    "#model = FastText.load_fasttext_format('wiki.simple')\n",
    "\n",
    "#print(model.most_similar('teacher'))\n",
    "# Output = [('headteacher', 0.8075869083404541), ('schoolteacher', 0.7955552339553833), ('teachers', 0.733420729637146), ('teaches', 0.6839243173599243), ('meacher', 0.6825737357139587), ('teach', 0.6285147070884705), ('taught', 0.6244685649871826), ('teaching', 0.6199781894683838), ('schoolmaster', 0.6037642955780029), ('lessons', 0.5812176465988159)]\n",
    "\n",
    "\n",
    "#print(model.similarity('teacher', 'teaches'))\n",
    "# Output = 0.683924396754"
   ]
  },
  {
   "cell_type": "code",
   "execution_count": 21,
   "metadata": {},
   "outputs": [],
   "source": [
    "#Dictionary\n",
    "english_dictionary=dict(zip(sorted(english_unique_words) + ['<unk>', '<pad>'], list(range(len(english_unique_words) + 2))))\n",
    "hindi_dictionary=dict(zip(sorted(hindi_unique_words) + ['<unk>', '<pad>'], list(range(len(hindi_unique_words) + 2))))"
   ]
  },
  {
   "cell_type": "code",
   "execution_count": 22,
   "metadata": {},
   "outputs": [],
   "source": [
    "#Reverse Dictionary\n",
    "revere_dictionary_hindi=dict((v,k) for k,v in hindi_dictionary.items())\n",
    "revere_dictionary_english=dict((v,k) for k,v in english_dictionary.items())"
   ]
  },
  {
   "cell_type": "code",
   "execution_count": 23,
   "metadata": {},
   "outputs": [],
   "source": [
    "english_padding_value=english_dictionary['<pad>']\n",
    "hindi_padding_value=hindi_dictionary['<pad>']"
   ]
  },
  {
   "cell_type": "code",
   "execution_count": 24,
   "metadata": {},
   "outputs": [
    {
     "name": "stdout",
     "output_type": "stream",
     "text": [
      "22 25\n"
     ]
    }
   ],
   "source": [
    "#This going to be the global variable with maximum number of words found in a sentence\n",
    "max_english_words=max(len(line.split()) for line in english_sentences_list)\n",
    "max_hindi_words=max(len(line.split()) for line in hindi_sentences_list)\n",
    "print(max_english_words,max_hindi_words)"
   ]
  },
  {
   "cell_type": "code",
   "execution_count": 25,
   "metadata": {},
   "outputs": [],
   "source": [
    "def get_padded_encoding(sentences_list,language_dictionary,max_language_words):\n",
    "    padding_value=language_dictionary['<pad>']\n",
    "    language_array=[]\n",
    "    #Iterate over List.\n",
    "    for sentence in sentences_list:\n",
    "        #Replaces English words with English Vocabulary Indexes and Hindi with Hindi Vocabulary Indexes.\n",
    "        #Remember to have a logic to have if condition in test where, if a word not in dictionary enters, it will be replaced by unk key value.\n",
    "        single_sentence_array=([language_dictionary[word] for word in sentence.split()])\n",
    "        #Find the length of english_single_sentence_array\n",
    "        length_single_sentence=(len(single_sentence_array))\n",
    "        #So how many times padding dictionary key needs to be appended, if we say maximum length of sentences to be considered is eng_max_len.\n",
    "        if (max_language_words>length_single_sentence):\n",
    "            padding_count=(max_language_words-length_single_sentence)\n",
    "        else:\n",
    "            padding_count=0\n",
    "        if (padding_count>0):\n",
    "            for pad in range(0,padding_count):\n",
    "                single_sentence_array.append(padding_value)\n",
    "        else:\n",
    "            single_sentence_array=single_sentence_array[0:max_language_words]\n",
    "        #Append to main array\n",
    "        language_array.append(single_sentence_array)\n",
    "    #Convert to Numpy array at the end\n",
    "    language_array=np.array(language_array)\n",
    "    return(language_array)"
   ]
  },
  {
   "cell_type": "code",
   "execution_count": 26,
   "metadata": {},
   "outputs": [],
   "source": [
    "#One of the things that can be done is create different models for different query lengths."
   ]
  },
  {
   "cell_type": "code",
   "execution_count": 27,
   "metadata": {},
   "outputs": [
    {
     "name": "stdout",
     "output_type": "stream",
     "text": [
      "(2867, 5) (2867, 6)\n"
     ]
    }
   ],
   "source": [
    "hindi_encoding=get_padded_encoding(hindi_sentences_list,hindi_dictionary,5)\n",
    "english_encoding=get_padded_encoding(english_sentences_list,english_dictionary,6)\n",
    "print(hindi_encoding.shape,english_encoding.shape)"
   ]
  },
  {
   "cell_type": "code",
   "execution_count": 28,
   "metadata": {},
   "outputs": [
    {
     "name": "stdout",
     "output_type": "stream",
     "text": [
      "Who made this cake यह केक किसने बनाया है\n",
      "[ 387 1559 2358  704 2619 2619] [2209  521  497 1827 2834]\n",
      "Who\n",
      "made\n",
      "this\n",
      "cake\n",
      "<pad>\n",
      "<pad>\n",
      "यह\n",
      "केक\n",
      "किसने\n",
      "बनाया\n",
      "है\n"
     ]
    },
    {
     "data": {
      "text/plain": [
       "2872"
      ]
     },
     "execution_count": 28,
     "metadata": {},
     "output_type": "execute_result"
    }
   ],
   "source": [
    "#Verification\n",
    "print(english_sentences_list[1],hindi_sentences_list[1])\n",
    "print(english_encoding[1],hindi_encoding[1])\n",
    "#Check if encoding gives back the same answer\n",
    "for key in english_encoding[1]:\n",
    "    print(revere_dictionary_english[key])\n",
    "for key in hindi_encoding[1]:\n",
    "    print(revere_dictionary_hindi[key])\n",
    "english_dictionary['<pad>']\n",
    "hindi_dictionary['<pad>']"
   ]
  },
  {
   "cell_type": "code",
   "execution_count": 29,
   "metadata": {},
   "outputs": [
    {
     "name": "stdout",
     "output_type": "stream",
     "text": [
      "X.shape: (2867, 5)\n",
      "Y.shape: (2867, 6)\n",
      "Xoh.shape: (2867, 5, 2873)\n",
      "Yoh.shape: (2867, 6, 2620)\n"
     ]
    }
   ],
   "source": [
    "#We will convert the english and hindi encodings to one hot encodings.\n",
    "#Please note Input is of the dimension (number of sentences,max_length_language(every column is a word))\n",
    "#Output is (number of sentences,Max_length_language(every row is a word),length of vocabulary)\n",
    "#Basically every row of the onehotcode matrix must be for one word.\n",
    "#How=1 => 1 0 0\n",
    "#Are=2 => 0 1 0\n",
    "#You=3 => 0 0 1\n",
    "#We are trying to translate hindi to english, so our X is Hindi and Y is English\n",
    "X=hindi_encoding\n",
    "Y=english_encoding\n",
    "#Instead of one hot we can use word embeddings.\n",
    "Xoh=np.array(list(map(lambda x: to_categorical(x, num_classes=len(hindi_dictionary)), X)))\n",
    "Yoh=np.array(list(map(lambda x: to_categorical(x, num_classes=len(english_dictionary)), Y)))\n",
    "print(\"X.shape:\", X.shape)\n",
    "print(\"Y.shape:\", Y.shape)\n",
    "print(\"Xoh.shape:\", Xoh.shape)\n",
    "print(\"Yoh.shape:\", Yoh.shape)"
   ]
  },
  {
   "cell_type": "code",
   "execution_count": 30,
   "metadata": {},
   "outputs": [
    {
     "data": {
      "text/plain": [
       "(5, 6)"
      ]
     },
     "execution_count": 30,
     "metadata": {},
     "output_type": "execute_result"
    }
   ],
   "source": [
    "Tx = hindi_encoding.shape[1]\n",
    "Ty = english_encoding.shape[1]\n",
    "Tx,Ty"
   ]
  },
  {
   "cell_type": "markdown",
   "metadata": {},
   "source": [
    "You've loaded:\n",
    "- `dataset`: a list of tuples of (human readable date, machine readable date)\n",
    "- `human_vocab`: a python dictionary mapping all characters used in the human readable dates to an integer-valued index \n",
    "- `machine_vocab`: a python dictionary mapping all characters used in machine readable dates to an integer-valued index. These indices are not necessarily consistent with `human_vocab`. \n",
    "- `inv_machine_vocab`: the inverse dictionary of `machine_vocab`, mapping from indices back to characters. \n",
    "\n",
    "Let's preprocess the data and map the raw text data into the index values. We will also use Tx=30 (which we assume is the maximum length of the human readable date; if we get a longer input, we would have to truncate it) and Ty=10 (since \"YYYY-MM-DD\" is 10 characters long). "
   ]
  },
  {
   "cell_type": "code",
   "execution_count": 31,
   "metadata": {},
   "outputs": [],
   "source": [
    "#Tx = 30\n",
    "#Ty = 15\n",
    "#X, Y, Xoh, Yoh = preprocess_data(dataset, human_vocab, machine_vocab, Tx, Ty)\n",
    "#X, Y, Xoh, Yoh = preprocess_data(dataset_list, english_dictionary, hindi_dictionary, Tx, Ty)\n",
    "\n",
    "#print(\"X.shape:\", X.shape)\n",
    "#print(\"Y.shape:\", Y.shape)\n",
    "#print(\"Xoh.shape:\", Xoh.shape)\n",
    "#print(\"Yoh.shape:\", Yoh.shape)"
   ]
  },
  {
   "cell_type": "code",
   "execution_count": 32,
   "metadata": {},
   "outputs": [
    {
     "data": {
      "text/plain": [
       "array([[ 0.,  0.,  0., ...,  0.,  0.,  0.],\n",
       "       [ 0.,  0.,  0., ...,  0.,  0.,  0.],\n",
       "       [ 0.,  0.,  0., ...,  0.,  0.,  0.],\n",
       "       [ 0.,  0.,  0., ...,  0.,  0.,  0.],\n",
       "       [ 0.,  0.,  0., ...,  0.,  0.,  0.]])"
      ]
     },
     "execution_count": 32,
     "metadata": {},
     "output_type": "execute_result"
    }
   ],
   "source": [
    "Xoh[1]"
   ]
  },
  {
   "cell_type": "markdown",
   "metadata": {},
   "source": [
    "You now have:\n",
    "- `X`: a processed version of the human readable dates in the training set, where each character is replaced by an index mapped to the character via `human_vocab`. Each date is further padded to $T_x$ values with a special character (< pad >). `X.shape = (m, Tx)`\n",
    "- `Y`: a processed version of the machine readable dates in the training set, where each character is replaced by the index it is mapped to in `machine_vocab`. You should have `Y.shape = (m, Ty)`. \n",
    "- `Xoh`: one-hot version of `X`, the \"1\" entry's index is mapped to the character thanks to `human_vocab`. `Xoh.shape = (m, Tx, len(human_vocab))`\n",
    "- `Yoh`: one-hot version of `Y`, the \"1\" entry's index is mapped to the character thanks to `machine_vocab`. `Yoh.shape = (m, Tx, len(machine_vocab))`. Here, `len(machine_vocab) = 11` since there are 11 characters ('-' as well as 0-9). \n"
   ]
  },
  {
   "cell_type": "markdown",
   "metadata": {},
   "source": [
    "Lets also look at some examples of preprocessed training examples. Feel free to play with `index` in the cell below to navigate the dataset and see how source/target dates are preprocessed. "
   ]
  },
  {
   "cell_type": "code",
   "execution_count": 33,
   "metadata": {},
   "outputs": [
    {
     "name": "stdout",
     "output_type": "stream",
     "text": [
      "Source: इसको अपना घर ही समझो\n",
      "Target: Please make yourself at home\n",
      "\n",
      "Source after preprocessing (indices): [ 218   59  752 2819 2579]\n",
      "Target after preprocessing (indices): [ 273 1565 2615  550 1345 2619]\n",
      "\n",
      "Source after preprocessing (one-hot): [[ 0.  0.  0. ...,  0.  0.  0.]\n",
      " [ 0.  0.  0. ...,  0.  0.  0.]\n",
      " [ 0.  0.  0. ...,  0.  0.  0.]\n",
      " [ 0.  0.  0. ...,  0.  0.  0.]\n",
      " [ 0.  0.  0. ...,  0.  0.  0.]]\n",
      "Target after preprocessing (one-hot): [[ 0.  0.  0. ...,  0.  0.  0.]\n",
      " [ 0.  0.  0. ...,  0.  0.  0.]\n",
      " [ 0.  0.  0. ...,  0.  0.  0.]\n",
      " [ 0.  0.  0. ...,  0.  0.  0.]\n",
      " [ 0.  0.  0. ...,  0.  0.  0.]\n",
      " [ 0.  0.  0. ...,  0.  0.  1.]]\n"
     ]
    }
   ],
   "source": [
    "index = 0\n",
    "#The dataset is english -> Hindi\n",
    "#Our target is to generate English given Hindi\n",
    "print(\"Source:\", dataset_list[index][1])\n",
    "print(\"Target:\", dataset_list[index][0])\n",
    "print()\n",
    "print(\"Source after preprocessing (indices):\", X[index])\n",
    "print(\"Target after preprocessing (indices):\", Y[index])\n",
    "print()\n",
    "print(\"Source after preprocessing (one-hot):\", Xoh[index])\n",
    "print(\"Target after preprocessing (one-hot):\", Yoh[index])"
   ]
  },
  {
   "cell_type": "markdown",
   "metadata": {},
   "source": [
    "## Tensorflow Implementation"
   ]
  },
  {
   "cell_type": "markdown",
   "metadata": {},
   "source": [
    "# These are all the modules we'll be using later. Make sure you can import them\n",
    "# before proceeding further.\n",
    "%matplotlib inline\n",
    "import math\n",
    "import numpy as np\n",
    "import os\n",
    "import random\n",
    "import tensorflow as tf\n",
    "from matplotlib import pylab\n",
    "from collections import Counter\n",
    "import csv\n",
    "\n",
    "# Seq2Seq Items\n",
    "import tensorflow.contrib.seq2seq as seq2seq\n",
    "from tensorflow.python.ops.rnn_cell import LSTMCell\n",
    "from tensorflow.python.ops.rnn_cell import MultiRNNCell\n",
    "from tensorflow.contrib.seq2seq.python.ops import attention_wrapper\n",
    "from tensorflow.python.layers.core import Dense"
   ]
  },
  {
   "cell_type": "markdown",
   "metadata": {},
   "source": [
    "## Input"
   ]
  },
  {
   "cell_type": "markdown",
   "metadata": {},
   "source": [
    "tf.reset_default_graph()\n",
    "\n",
    "enc_train_inputs = []\n",
    "dec_train_inputs = []\n",
    "\n",
    "# Need to use pre-trained word embeddings\n",
    "encoder_emb_layer = tf.convert_to_tensor(np.load('de-embeddings.npy'))\n",
    "decoder_emb_layer = tf.convert_to_tensor(np.load('en-embeddings.npy'))\n",
    "\n",
    "# Defining unrolled training inputs\n",
    "for ui in range(source_sequence_length):\n",
    "    enc_train_inputs.append(tf.placeholder(tf.int32, shape=[batch_size],name='enc_train_inputs_%d'%ui))\n",
    "\n",
    "dec_train_labels=[]\n",
    "dec_label_masks = []\n",
    "for ui in range(target_sequence_length):\n",
    "    dec_train_inputs.append(tf.placeholder(tf.int32, shape=[batch_size],name='dec_train_inputs_%d'%ui))\n",
    "    dec_train_labels.append(tf.placeholder(tf.int32, shape=[batch_size],name='dec-train_outputs_%d'%ui))\n",
    "    dec_label_masks.append(tf.placeholder(tf.float32, shape=[batch_size],name='dec-label_masks_%d'%ui))\n",
    "    \n",
    "encoder_emb_inp = [tf.nn.embedding_lookup(encoder_emb_layer, src) for src in enc_train_inputs]\n",
    "encoder_emb_inp = tf.stack(encoder_emb_inp)\n",
    "\n",
    "decoder_emb_inp = [tf.nn.embedding_lookup(decoder_emb_layer, src) for src in dec_train_inputs]\n",
    "decoder_emb_inp = tf.stack(decoder_emb_inp)\n",
    "\n",
    "enc_train_inp_lengths = tf.placeholder(tf.int32, shape=[batch_size],name='train_input_lengths')\n",
    "dec_train_inp_lengths = tf.placeholder(tf.int32, shape=[batch_size],name='train_output_lengths')"
   ]
  },
  {
   "cell_type": "markdown",
   "metadata": {},
   "source": [
    "## Encoder"
   ]
  },
  {
   "cell_type": "markdown",
   "metadata": {},
   "source": [
    "encoder_cell = tf.nn.rnn_cell.BasicLSTMCell(num_units)\n",
    "\n",
    "initial_state = encoder_cell.zero_state(batch_size, dtype=tf.float32)\n",
    "\n",
    "encoder_outputs, encoder_state = tf.nn.dynamic_rnn(\n",
    "    encoder_cell, encoder_emb_inp, initial_state=initial_state,\n",
    "    sequence_length=enc_train_inp_lengths, \n",
    "    time_major=True, swap_memory=True)"
   ]
  },
  {
   "cell_type": "markdown",
   "metadata": {},
   "source": [
    "## Decoder"
   ]
  },
  {
   "cell_type": "markdown",
   "metadata": {},
   "source": [
    "# Build RNN cell\n",
    "decoder_cell = tf.nn.rnn_cell.BasicLSTMCell(num_units)\n",
    "\n",
    "projection_layer = Dense(units=vocab_size, use_bias=True)\n",
    "\n",
    "# Helper\n",
    "helper = tf.contrib.seq2seq.TrainingHelper(\n",
    "    decoder_emb_inp, [tgt_max_sent_length-1 for _ in range(batch_size)], time_major=True)\n",
    "\n",
    "# Decoder\n",
    "if decoder_type == 'basic':\n",
    "    decoder = tf.contrib.seq2seq.BasicDecoder(\n",
    "        decoder_cell, helper, encoder_state,\n",
    "        output_layer=projection_layer)\n",
    "    \n",
    "elif decoder_type == 'attention':\n",
    "    decoder = tf.contrib.seq2seq.BahdanauAttention(\n",
    "        decoder_cell, helper, encoder_state,\n",
    "        output_layer=projection_layer)\n",
    "    \n",
    "# Dynamic decoding\n",
    "outputs, _, _ = tf.contrib.seq2seq.dynamic_decode(\n",
    "    decoder, output_time_major=True,\n",
    "    swap_memory=True"
   ]
  },
  {
   "cell_type": "markdown",
   "metadata": {},
   "source": [
    "## Loss & Prediction"
   ]
  },
  {
   "cell_type": "markdown",
   "metadata": {},
   "source": [
    "logits = outputs.rnn_output\n",
    "\n",
    "crossent = tf.nn.sparse_softmax_cross_entropy_with_logits(\n",
    "    labels=dec_train_labels, logits=logits)\n",
    "loss = (tf.reduce_sum(crossent*tf.stack(dec_label_masks)) / (batch_size*target_sequence_length))\n",
    "\n",
    "train_prediction = outputs.sample_id"
   ]
  },
  {
   "cell_type": "markdown",
   "metadata": {},
   "source": [
    "## Defining Optimizer with Gradient Clipping"
   ]
  },
  {
   "cell_type": "markdown",
   "metadata": {},
   "source": [
    "print('Defining Optimizer')\n",
    "# Adam Optimizer. And gradient clipping.\n",
    "global_step = tf.Variable(0, trainable=False)\n",
    "inc_gstep = tf.assign(global_step,global_step + 1)\n",
    "learning_rate = tf.train.exponential_decay(\n",
    "    0.01, global_step, decay_steps=10, decay_rate=0.9, staircase=True)\n",
    "\n",
    "with tf.variable_scope('Adam'):\n",
    "    adam_optimizer = tf.train.AdamOptimizer(learning_rate)\n",
    "\n",
    "adam_gradients, v = zip(*adam_optimizer.compute_gradients(loss))\n",
    "adam_gradients, _ = tf.clip_by_global_norm(adam_gradients, 25.0)\n",
    "adam_optimize = adam_optimizer.apply_gradients(zip(adam_gradients, v))\n",
    "\n",
    "with tf.variable_scope('SGD'):\n",
    "    sgd_optimizer = tf.train.GradientDescentOptimizer(learning_rate)\n",
    "\n",
    "sgd_gradients, v = zip(*sgd_optimizer.compute_gradients(loss))\n",
    "sgd_gradients, _ = tf.clip_by_global_norm(sgd_gradients, 25.0)\n",
    "sgd_optimize = sgd_optimizer.apply_gradients(zip(sgd_gradients, v))\n",
    "\n",
    "sess = tf.InteractiveSession()"
   ]
  },
  {
   "cell_type": "markdown",
   "metadata": {},
   "source": [
    "## Running the NMT"
   ]
  },
  {
   "cell_type": "markdown",
   "metadata": {},
   "source": [
    "for step in range(num_steps):\n",
    "\n",
    "    # input_sizes for each bin: [40]\n",
    "    # output_sizes for each bin: [60]\n",
    "    print('.',end='')\n",
    "    if (step+1)%100==0:\n",
    "        print('')\n",
    "        \n",
    "    sent_ids = np.random.randint(low=0,high=train_inputs.shape[0],size=(batch_size))\n",
    "    # ====================== ENCODER DATA COLLECTION ================================================\n",
    "    \n",
    "    eu_data, eu_labels, _, eu_lengths = enc_data_generator.unroll_batches(sent_ids=sent_ids)\n",
    "    \n",
    "    feed_dict = {}\n",
    "    feed_dict[enc_train_inp_lengths] = eu_lengths\n",
    "    for ui,(dat,lbl) in enumerate(zip(eu_data,eu_labels)):            \n",
    "        feed_dict[enc_train_inputs[ui]] = dat                \n",
    "    \n",
    "    # ====================== DECODER DATA COLLECITON ===========================\n",
    "    # First step we change the ids in a batch\n",
    "    du_data, du_labels, _, du_lengths = dec_data_generator.unroll_batches(sent_ids=sent_ids)\n",
    "    \n",
    "    feed_dict[dec_train_inp_lengths] = du_lengths\n",
    "    for ui,(dat,lbl) in enumerate(zip(du_data,du_labels)):            \n",
    "        feed_dict[dec_train_inputs[ui]] = dat\n",
    "        feed_dict[dec_train_labels[ui]] = lbl\n",
    "        feed_dict[dec_label_masks[ui]] = (np.array([ui for _ in range(batch_size)])<du_lengths).astype(np.int32)\n",
    "    \n",
    "# ======================= OPTIMIZATION ==========================\n",
    "    if step < 10000:\n",
    "        _,l,tr_pred = sess.run([adam_optimize,loss,train_prediction], feed_dict=feed_dict)\n",
    "    else:\n",
    "        _,l,tr_pred = sess.run([sgd_optimize,loss,train_prediction], feed_dict=feed_dict)\n",
    "        tr_pred = tr_pred.flatten()"
   ]
  },
  {
   "cell_type": "markdown",
   "metadata": {},
   "source": [
    "## 2 - Neural machine translation with attention\n",
    "\n",
    "If you had to translate a book's paragraph from French to English, you would not read the whole paragraph, then close the book and translate. Even during the translation process, you would read/re-read and focus on the parts of the French paragraph corresponding to the parts of the English you are writing down. \n",
    "\n",
    "The attention mechanism tells a Neural Machine Translation model where it should pay attention to at any step. \n",
    "\n",
    "\n",
    "### 2.1 - Attention mechanism\n",
    "\n",
    "In this part, you will implement the attention mechanism presented in the lecture videos. Here is a figure to remind you how the model works. The diagram on the left shows the attention model. The diagram on the right shows what one \"Attention\" step does to calculate the attention variables $\\alpha^{\\langle t, t' \\rangle}$, which are used to compute the context variable $context^{\\langle t \\rangle}$ for each timestep in the output ($t=1, \\ldots, T_y$). \n",
    "\n",
    "<table>\n",
    "<td> \n",
    "<img src=\"images/attn_model.png\" style=\"width:500;height:500px;\"> <br>\n",
    "</td> \n",
    "<td> \n",
    "<img src=\"images/attn_mechanism.png\" style=\"width:500;height:500px;\"> <br>\n",
    "</td> \n",
    "</table>\n",
    "<caption><center> **Figure 1**: Neural machine translation with attention</center></caption>\n"
   ]
  },
  {
   "cell_type": "markdown",
   "metadata": {},
   "source": [
    "\n",
    "Here are some properties of the model that you may notice: \n",
    "\n",
    "- There are two separate LSTMs in this model (see diagram on the left). Because the one at the bottom of the picture is a Bi-directional LSTM and comes *before* the attention mechanism, we will call it *pre-attention* Bi-LSTM. The LSTM at the top of the diagram comes *after* the attention mechanism, so we will call it the *post-attention* LSTM. The pre-attention Bi-LSTM goes through $T_x$ time steps; the post-attention LSTM goes through $T_y$ time steps. \n",
    "\n",
    "- The post-attention LSTM passes $s^{\\langle t \\rangle}, c^{\\langle t \\rangle}$ from one time step to the next. In the lecture videos, we were using only a basic RNN for the post-activation sequence model, so the state captured by the RNN output activations $s^{\\langle t\\rangle}$. But since we are using an LSTM here, the LSTM has both the output activation $s^{\\langle t\\rangle}$ and the hidden cell state $c^{\\langle t\\rangle}$. However, unlike previous text generation examples (such as Dinosaurus in week 1), in this model the post-activation LSTM at time $t$ does will not take the specific generated $y^{\\langle t-1 \\rangle}$ as input; it only takes $s^{\\langle t\\rangle}$ and $c^{\\langle t\\rangle}$ as input. We have designed the model this way, because (unlike language generation where adjacent characters are highly correlated) there isn't as strong a dependency between the previous character and the next character in a YYYY-MM-DD date. \n",
    "\n",
    "- We use $a^{\\langle t \\rangle} = [\\overrightarrow{a}^{\\langle t \\rangle}; \\overleftarrow{a}^{\\langle t \\rangle}]$ to represent the concatenation of the activations of both the forward-direction and backward-directions of the pre-attention Bi-LSTM. \n",
    "\n",
    "- The diagram on the right uses a `RepeatVector` node to copy $s^{\\langle t-1 \\rangle}$'s value $T_x$ times, and then `Concatenation` to concatenate $s^{\\langle t-1 \\rangle}$ and $a^{\\langle t \\rangle}$ to compute $e^{\\langle t, t'}$, which is then passed through a softmax to compute $\\alpha^{\\langle t, t' \\rangle}$. We'll explain how to use `RepeatVector` and `Concatenation` in Keras below. \n",
    "\n",
    "Lets implement this model. You will start by implementing two functions: `one_step_attention()` and `model()`.\n",
    "\n",
    "**1) `one_step_attention()`**: At step $t$, given all the hidden states of the Bi-LSTM ($[a^{<1>},a^{<2>}, ..., a^{<T_x>}]$) and the previous hidden state of the second LSTM ($s^{<t-1>}$), `one_step_attention()` will compute the attention weights ($[\\alpha^{<t,1>},\\alpha^{<t,2>}, ..., \\alpha^{<t,T_x>}]$) and output the context vector (see Figure  1 (right) for details):\n",
    "$$context^{<t>} = \\sum_{t' = 0}^{T_x} \\alpha^{<t,t'>}a^{<t'>}\\tag{1}$$ \n",
    "\n",
    "Note that we are denoting the attention in this notebook $context^{\\langle t \\rangle}$. In the lecture videos, the context was denoted $c^{\\langle t \\rangle}$, but here we are calling it $context^{\\langle t \\rangle}$ to avoid confusion with the (post-attention) LSTM's internal memory cell variable, which is sometimes also denoted $c^{\\langle t \\rangle}$. \n",
    "  \n",
    "**2) `model()`**: Implements the entire model. It first runs the input through a Bi-LSTM to get back $[a^{<1>},a^{<2>}, ..., a^{<T_x>}]$. Then, it calls `one_step_attention()` $T_y$ times (`for` loop). At each iteration of this loop, it gives the computed context vector $c^{<t>}$ to the second LSTM, and runs the output of the LSTM through a dense layer with softmax activation to generate a prediction $\\hat{y}^{<t>}$. \n",
    "\n",
    "\n",
    "\n",
    "**Exercise**: Implement `one_step_attention()`. The function `model()` will call the layers in `one_step_attention()` $T_y$ using a for-loop, and it is important that all $T_y$ copies have the same weights. I.e., it should not re-initiaiize the weights every time. In other words, all $T_y$ steps should have shared weights. Here's how you can implement layers with shareable weights in Keras:\n",
    "1. Define the layer objects (as global variables for examples).\n",
    "2. Call these objects when propagating the input.\n",
    "\n",
    "We have defined the layers you need as global variables. Please run the following cells to create them. Please check the Keras documentation to make sure you understand what these layers are: [RepeatVector()](https://keras.io/layers/core/#repeatvector), [Concatenate()](https://keras.io/layers/merge/#concatenate), [Dense()](https://keras.io/layers/core/#dense), [Activation()](https://keras.io/layers/core/#activation), [Dot()](https://keras.io/layers/merge/#dot)."
   ]
  },
  {
   "cell_type": "code",
   "execution_count": 34,
   "metadata": {},
   "outputs": [],
   "source": [
    "# Defined shared layers as global variables\n",
    "repeator = RepeatVector(Tx)\n",
    "concatenator = Concatenate(axis=-1)\n",
    "densor = Dense(1,activation = \"relu\")\n",
    "activator = Activation(softmax, name='attention_weights') # We are using a custom softmax(axis = 1) loaded in this notebook\n",
    "dotor = Dot(axes = 1)"
   ]
  },
  {
   "cell_type": "markdown",
   "metadata": {},
   "source": [
    "Now you can use these layers to implement `one_step_attention()`. In order to propagate a Keras tensor object X through one of these layers, use `layer(X)` (or `layer([X,Y])` if it requires multiple inputs.), e.g. `densor(X)` will propagate X through the `Dense(1)` layer defined above."
   ]
  },
  {
   "cell_type": "code",
   "execution_count": 35,
   "metadata": {},
   "outputs": [],
   "source": [
    "# GRADED FUNCTION: one_step_attention\n",
    "\n",
    "def one_step_attention(a, s_prev):\n",
    "    \"\"\"\n",
    "    Performs one step of attention: Outputs a context vector computed as a dot product of the attention weights\n",
    "    \"alphas\" and the hidden states \"a\" of the Bi-LSTM.\n",
    "    \n",
    "    Arguments:\n",
    "    a -- hidden state output of the Bi-LSTM, numpy-array of shape (m, Tx, 2*n_a)\n",
    "    s_prev -- previous hidden state of the (post-attention) LSTM, numpy-array of shape (m, n_s)\n",
    "    \n",
    "    Returns:\n",
    "    context -- context vector, input of the next (post-attetion) LSTM cell\n",
    "    \"\"\"\n",
    "    \n",
    "    ### START CODE HERE ###\n",
    "    # Use repeator to repeat s_prev to be of shape (m, Tx, n_s) so that you can concatenate it with all hidden states \"a\" (≈ 1 line)\n",
    "    print (\"s_prev.shape before repeator\",s_prev.shape)\n",
    "    s_prev = repeator(s_prev)\n",
    "    print (\"s_prev.shape after repeator\",s_prev.shape)\n",
    "    print (\"a.shape\",a.shape)\n",
    "    # Use concatenator to concatenate a and s_prev on the last axis (≈ 1 line)\n",
    "    concat = concatenator([a, s_prev])\n",
    "    print (\"concat.shape\",concat.shape)\n",
    "    # Use densor to propagate concat through a small fully-connected neural network to compute the \"energies\" variable e. (≈1 lines)\n",
    "    e = densor(concat)\n",
    "    print (\"e.shape\",e.shape)\n",
    "    # Use activator and e to compute the attention weights \"alphas\" (≈ 1 line)\n",
    "    alphas = activator(e)\n",
    "    print (\"alphas.shape\",alphas.shape)\n",
    "    # Use dotor together with \"alphas\" and \"a\" to compute the context vector to be given to the next (post-attention) LSTM-cell (≈ 1 line)\n",
    "    context = dotor([alphas, a])\n",
    "    print (\"context.shape\",context.shape)\n",
    "    ### END CODE HERE ###\n",
    "    \n",
    "    return context"
   ]
  },
  {
   "cell_type": "markdown",
   "metadata": {},
   "source": [
    "You will be able to check the expected output of `one_step_attention()` after you've coded the `model()` function."
   ]
  },
  {
   "cell_type": "markdown",
   "metadata": {},
   "source": [
    "**Exercise**: Implement `model()` as explained in figure 2 and the text above. Again, we have defined global layers that will share weights to be used in `model()`."
   ]
  },
  {
   "cell_type": "code",
   "execution_count": 36,
   "metadata": {},
   "outputs": [],
   "source": [
    "n_a = 500\n",
    "n_s = 500\n",
    "post_activation_LSTM_cell = (LSTM(n_s, activation='relu',return_state = True,dropout=0.4))\n",
    "output_layer = Dense(len(english_dictionary), activation=softmax)"
   ]
  },
  {
   "cell_type": "markdown",
   "metadata": {},
   "source": [
    "Now you can use these layers $T_y$ times in a `for` loop to generate the outputs, and their parameters will not be reinitialized. You will have to carry out the following steps: \n",
    "\n",
    "1. Propagate the input into a [Bidirectional](https://keras.io/layers/wrappers/#bidirectional) [LSTM](https://keras.io/layers/recurrent/#lstm)\n",
    "2. Iterate for $t = 0, \\dots, T_y-1$: \n",
    "    1. Call `one_step_attention()` on $[\\alpha^{<t,1>},\\alpha^{<t,2>}, ..., \\alpha^{<t,T_x>}]$ and $s^{<t-1>}$ to get the context vector $context^{<t>}$.\n",
    "    2. Give $context^{<t>}$ to the post-attention LSTM cell. Remember pass in the previous hidden-state $s^{\\langle t-1\\rangle}$ and cell-states $c^{\\langle t-1\\rangle}$ of this LSTM using `initial_state= [previous hidden state, previous cell state]`. Get back the new hidden state $s^{<t>}$ and the new cell state $c^{<t>}$.\n",
    "    3. Apply a softmax layer to $s^{<t>}$, get the output. \n",
    "    4. Save the output by adding it to the list of outputs.\n",
    "\n",
    "3. Create your Keras model instance, it should have three inputs (\"inputs\", $s^{<0>}$ and $c^{<0>}$) and output the list of \"outputs\"."
   ]
  },
  {
   "cell_type": "code",
   "execution_count": 37,
   "metadata": {},
   "outputs": [],
   "source": [
    "# GRADED FUNCTION: model\n",
    "\n",
    "def model(Tx, Ty, n_a, n_s, source_dictionary_size, target_dictionary_size):\n",
    "    \"\"\"\n",
    "    Arguments:\n",
    "    Tx -- length of the input sequence\n",
    "    Ty -- length of the output sequence\n",
    "    n_a -- hidden state size of the Bi-LSTM\n",
    "    n_s -- hidden state size of the post-attention LSTM\n",
    "    human_vocab_size -- size of the python dictionary \"human_vocab\"\n",
    "    machine_vocab_size -- size of the python dictionary \"machine_vocab\"\n",
    "\n",
    "    Returns:\n",
    "    model -- Keras model instance\n",
    "    \"\"\"\n",
    "    \n",
    "    # Define the inputs of your model with a shape (Tx,)\n",
    "    # Define s0 and c0, initial hidden state for the decoder LSTM of shape (n_s,)\n",
    "    X = Input(shape=(Tx, source_dictionary_size))\n",
    "    s0 = Input(shape=(n_s,), name='s0')\n",
    "    c0 = Input(shape=(n_s,), name='c0')\n",
    "    s = s0\n",
    "    c = c0\n",
    "    \n",
    "    # Initialize empty list of outputs\n",
    "    outputs = []\n",
    "    \n",
    "    ### START CODE HERE ###\n",
    "    \n",
    "    # Step 1: Define your pre-attention Bi-LSTM. Remember to use return_sequences=True. (≈ 1 line)\n",
    "    a = Bidirectional(LSTM(n_a, activation='relu',return_sequences=True,dropout=0.4))(X)\n",
    "    print(a,a.shape)\n",
    "    # Step 2: Iterate for Ty steps\n",
    "    for t in range(Ty):\n",
    "    \n",
    "        # Step 2.A: Perform one step of the attention mechanism to get back the context vector at step t (≈ 1 line)\n",
    "        print(\"Before getting Context: a.shape,s.shape\",a.shape,s.shape)\n",
    "        context = one_step_attention(a, s)\n",
    "        print(\"context.shape,s.shape,c.shape \",context.shape,s.shape,c.shape)\n",
    "        # Step 2.B: Apply the post-attention LSTM cell to the \"context\" vector.\n",
    "        # Don't forget to pass: initial_state = [hidden state, cell state] (≈ 1 line)\n",
    "        s,_, c = post_activation_LSTM_cell(context, initial_state = [s,c])\n",
    "        # Step 2.C: Apply Dense layer to the hidden state output of the post-attention LSTM (≈ 1 line)\n",
    "        out = output_layer(s)\n",
    "        \n",
    "        # Step 2.D: Append \"out\" to the \"outputs\" list (≈ 1 line)\n",
    "        outputs.append(out)\n",
    "    \n",
    "    # Step 3: Create model instance taking three inputs and returning the list of outputs. (≈ 1 line)\n",
    "    model = Model(inputs = [X, s0, c0], outputs = outputs)\n",
    "    \n",
    "    ### END CODE HERE ###\n",
    "    \n",
    "    return model"
   ]
  },
  {
   "cell_type": "code",
   "execution_count": 38,
   "metadata": {},
   "outputs": [
    {
     "name": "stdout",
     "output_type": "stream",
     "text": [
      "5 6 500 500 2873 2620\n"
     ]
    }
   ],
   "source": [
    "print (Tx, Ty, n_a, n_s, len(hindi_dictionary), len(english_dictionary))"
   ]
  },
  {
   "cell_type": "markdown",
   "metadata": {},
   "source": [
    "Run the following cell to create your model."
   ]
  },
  {
   "cell_type": "code",
   "execution_count": 39,
   "metadata": {},
   "outputs": [
    {
     "name": "stdout",
     "output_type": "stream",
     "text": [
      "Tensor(\"bidirectional_1/concat_2:0\", shape=(?, ?, 1000), dtype=float32) (?, ?, 1000)\n",
      "a.shape,s.shape (?, ?, 1000) (?, 500)\n",
      "s_prev.shape before repeator (?, 500)\n",
      "s_prev.shape after repeator (?, 5, 500)\n",
      "a.shape (?, ?, 1000)\n",
      "concat.shape (?, 5, 1500)\n",
      "e.shape (?, 5, 1)\n",
      "alphas.shape (?, 5, 1)\n",
      "context.shape (?, 1, 1000)\n",
      "a.shape,s.shape (?, ?, 1000) (?, 500)\n",
      "s_prev.shape before repeator (?, 500)\n",
      "s_prev.shape after repeator (?, 5, 500)\n",
      "a.shape (?, ?, 1000)\n",
      "concat.shape (?, 5, 1500)\n",
      "e.shape (?, 5, 1)\n",
      "alphas.shape (?, 5, 1)\n",
      "context.shape (?, 1, 1000)\n",
      "a.shape,s.shape (?, ?, 1000) (?, 500)\n",
      "s_prev.shape before repeator (?, 500)\n",
      "s_prev.shape after repeator (?, 5, 500)\n",
      "a.shape (?, ?, 1000)\n",
      "concat.shape (?, 5, 1500)\n",
      "e.shape (?, 5, 1)\n",
      "alphas.shape (?, 5, 1)\n",
      "context.shape (?, 1, 1000)\n",
      "a.shape,s.shape (?, ?, 1000) (?, 500)\n",
      "s_prev.shape before repeator (?, 500)\n",
      "s_prev.shape after repeator (?, 5, 500)\n",
      "a.shape (?, ?, 1000)\n",
      "concat.shape (?, 5, 1500)\n",
      "e.shape (?, 5, 1)\n",
      "alphas.shape (?, 5, 1)\n",
      "context.shape (?, 1, 1000)\n",
      "a.shape,s.shape (?, ?, 1000) (?, 500)\n",
      "s_prev.shape before repeator (?, 500)\n",
      "s_prev.shape after repeator (?, 5, 500)\n",
      "a.shape (?, ?, 1000)\n",
      "concat.shape (?, 5, 1500)\n",
      "e.shape (?, 5, 1)\n",
      "alphas.shape (?, 5, 1)\n",
      "context.shape (?, 1, 1000)\n",
      "a.shape,s.shape (?, ?, 1000) (?, 500)\n",
      "s_prev.shape before repeator (?, 500)\n",
      "s_prev.shape after repeator (?, 5, 500)\n",
      "a.shape (?, ?, 1000)\n",
      "concat.shape (?, 5, 1500)\n",
      "e.shape (?, 5, 1)\n",
      "alphas.shape (?, 5, 1)\n",
      "context.shape (?, 1, 1000)\n"
     ]
    }
   ],
   "source": [
    "model = model(Tx, Ty, n_a, n_s, len(hindi_dictionary), len(english_dictionary))\n",
    "\n",
    "#You will need copy of the model which will use the weights from model.fit.\n",
    "#model.load_weights(weightFile)\n",
    "loaded_model = model"
   ]
  },
  {
   "cell_type": "markdown",
   "metadata": {},
   "source": [
    "Let's get a summary of the model to check if it matches the expected output."
   ]
  },
  {
   "cell_type": "code",
   "execution_count": 40,
   "metadata": {},
   "outputs": [
    {
     "name": "stdout",
     "output_type": "stream",
     "text": [
      "____________________________________________________________________________________________________\n",
      "Layer (type)                     Output Shape          Param #     Connected to                     \n",
      "====================================================================================================\n",
      "input_1 (InputLayer)             (None, 5, 2873)       0                                            \n",
      "____________________________________________________________________________________________________\n",
      "s0 (InputLayer)                  (None, 500)           0                                            \n",
      "____________________________________________________________________________________________________\n",
      "bidirectional_1 (Bidirectional)  (None, 5, 1000)       13496000    input_1[0][0]                    \n",
      "____________________________________________________________________________________________________\n",
      "repeat_vector_1 (RepeatVector)   (None, 5, 500)        0           s0[0][0]                         \n",
      "                                                                   lstm_1[0][0]                     \n",
      "                                                                   lstm_1[1][0]                     \n",
      "                                                                   lstm_1[2][0]                     \n",
      "                                                                   lstm_1[3][0]                     \n",
      "                                                                   lstm_1[4][0]                     \n",
      "____________________________________________________________________________________________________\n",
      "concatenate_1 (Concatenate)      (None, 5, 1500)       0           bidirectional_1[0][0]            \n",
      "                                                                   repeat_vector_1[0][0]            \n",
      "                                                                   bidirectional_1[0][0]            \n",
      "                                                                   repeat_vector_1[1][0]            \n",
      "                                                                   bidirectional_1[0][0]            \n",
      "                                                                   repeat_vector_1[2][0]            \n",
      "                                                                   bidirectional_1[0][0]            \n",
      "                                                                   repeat_vector_1[3][0]            \n",
      "                                                                   bidirectional_1[0][0]            \n",
      "                                                                   repeat_vector_1[4][0]            \n",
      "                                                                   bidirectional_1[0][0]            \n",
      "                                                                   repeat_vector_1[5][0]            \n",
      "____________________________________________________________________________________________________\n",
      "dense_1 (Dense)                  (None, 5, 1)          1501        concatenate_1[0][0]              \n",
      "                                                                   concatenate_1[1][0]              \n",
      "                                                                   concatenate_1[2][0]              \n",
      "                                                                   concatenate_1[3][0]              \n",
      "                                                                   concatenate_1[4][0]              \n",
      "                                                                   concatenate_1[5][0]              \n",
      "____________________________________________________________________________________________________\n",
      "attention_weights (Activation)   (None, 5, 1)          0           dense_1[0][0]                    \n",
      "                                                                   dense_1[1][0]                    \n",
      "                                                                   dense_1[2][0]                    \n",
      "                                                                   dense_1[3][0]                    \n",
      "                                                                   dense_1[4][0]                    \n",
      "                                                                   dense_1[5][0]                    \n",
      "____________________________________________________________________________________________________\n",
      "dot_1 (Dot)                      (None, 1, 1000)       0           attention_weights[0][0]          \n",
      "                                                                   bidirectional_1[0][0]            \n",
      "                                                                   attention_weights[1][0]          \n",
      "                                                                   bidirectional_1[0][0]            \n",
      "                                                                   attention_weights[2][0]          \n",
      "                                                                   bidirectional_1[0][0]            \n",
      "                                                                   attention_weights[3][0]          \n",
      "                                                                   bidirectional_1[0][0]            \n",
      "                                                                   attention_weights[4][0]          \n",
      "                                                                   bidirectional_1[0][0]            \n",
      "                                                                   attention_weights[5][0]          \n",
      "                                                                   bidirectional_1[0][0]            \n",
      "____________________________________________________________________________________________________\n",
      "c0 (InputLayer)                  (None, 500)           0                                            \n",
      "____________________________________________________________________________________________________\n",
      "lstm_1 (LSTM)                    [(None, 500), (None,  3002000     dot_1[0][0]                      \n",
      "                                                                   s0[0][0]                         \n",
      "                                                                   c0[0][0]                         \n",
      "                                                                   dot_1[1][0]                      \n",
      "                                                                   lstm_1[0][0]                     \n",
      "                                                                   lstm_1[0][2]                     \n",
      "                                                                   dot_1[2][0]                      \n",
      "                                                                   lstm_1[1][0]                     \n",
      "                                                                   lstm_1[1][2]                     \n",
      "                                                                   dot_1[3][0]                      \n",
      "                                                                   lstm_1[2][0]                     \n",
      "                                                                   lstm_1[2][2]                     \n",
      "                                                                   dot_1[4][0]                      \n",
      "                                                                   lstm_1[3][0]                     \n",
      "                                                                   lstm_1[3][2]                     \n",
      "                                                                   dot_1[5][0]                      \n",
      "                                                                   lstm_1[4][0]                     \n",
      "                                                                   lstm_1[4][2]                     \n",
      "____________________________________________________________________________________________________\n",
      "dense_2 (Dense)                  (None, 2620)          1312620     lstm_1[0][0]                     \n",
      "                                                                   lstm_1[1][0]                     \n",
      "                                                                   lstm_1[2][0]                     \n",
      "                                                                   lstm_1[3][0]                     \n",
      "                                                                   lstm_1[4][0]                     \n",
      "                                                                   lstm_1[5][0]                     \n",
      "====================================================================================================\n",
      "Total params: 17,812,121\n",
      "Trainable params: 17,812,121\n",
      "Non-trainable params: 0\n",
      "____________________________________________________________________________________________________\n"
     ]
    }
   ],
   "source": [
    "model.summary()"
   ]
  },
  {
   "cell_type": "markdown",
   "metadata": {},
   "source": [
    "**Expected Output**:\n",
    "\n",
    "Here is the summary you should see\n",
    "<table>\n",
    "    <tr>\n",
    "        <td>\n",
    "            **Total params:**\n",
    "        </td>\n",
    "        <td>\n",
    "         185,484\n",
    "        </td>\n",
    "    </tr>\n",
    "        <tr>\n",
    "        <td>\n",
    "            **Trainable params:**\n",
    "        </td>\n",
    "        <td>\n",
    "         185,484\n",
    "        </td>\n",
    "    </tr>\n",
    "            <tr>\n",
    "        <td>\n",
    "            **Non-trainable params:**\n",
    "        </td>\n",
    "        <td>\n",
    "         0\n",
    "        </td>\n",
    "    </tr>\n",
    "                    <tr>\n",
    "        <td>\n",
    "            **bidirectional_1's output shape **\n",
    "        </td>\n",
    "        <td>\n",
    "         (None, 30, 128)  \n",
    "        </td>\n",
    "    </tr>\n",
    "    <tr>\n",
    "        <td>\n",
    "            **repeat_vector_1's output shape **\n",
    "        </td>\n",
    "        <td>\n",
    "         (None, 30, 128)  \n",
    "        </td>\n",
    "    </tr>\n",
    "                <tr>\n",
    "        <td>\n",
    "            **concatenate_1's output shape **\n",
    "        </td>\n",
    "        <td>\n",
    "         (None, 30, 256) \n",
    "        </td>\n",
    "    </tr>\n",
    "            <tr>\n",
    "        <td>\n",
    "            **attention_weights's output shape **\n",
    "        </td>\n",
    "        <td>\n",
    "         (None, 30, 1)  \n",
    "        </td>\n",
    "    </tr>\n",
    "        <tr>\n",
    "        <td>\n",
    "            **dot_1's output shape **\n",
    "        </td>\n",
    "        <td>\n",
    "         (None, 1, 128) \n",
    "        </td>\n",
    "    </tr>\n",
    "           <tr>\n",
    "        <td>\n",
    "            **dense_2's output shape **\n",
    "        </td>\n",
    "        <td>\n",
    "         (None, 11) \n",
    "        </td>\n",
    "    </tr>\n",
    "</table>\n"
   ]
  },
  {
   "cell_type": "markdown",
   "metadata": {},
   "source": [
    "As usual, after creating your model in Keras, you need to compile it and define what loss, optimizer and metrics your are want to use. Compile your model using `categorical_crossentropy` loss, a custom [Adam](https://keras.io/optimizers/#adam) [optimizer](https://keras.io/optimizers/#usage-of-optimizers) (`learning rate = 0.005`, $\\beta_1 = 0.9$, $\\beta_2 = 0.999$, `decay = 0.01`)  and `['accuracy']` metrics:"
   ]
  },
  {
   "cell_type": "code",
   "execution_count": 41,
   "metadata": {},
   "outputs": [],
   "source": [
    "from keras.optimizers import RMSprop,Adagrad,Adam,Adamax,Nadam,SGD"
   ]
  },
  {
   "cell_type": "code",
   "execution_count": 42,
   "metadata": {},
   "outputs": [],
   "source": [
    "### START CODE HERE ### (≈2 lines)\n",
    "from keras.optimizers import RMSprop\n",
    "out = model.compile(optimizer='rmsprop'#(lr=0.001, beta_1=0.7, beta_2=0.8, decay=0.02)\n",
    "                    ,metrics=['accuracy'],\n",
    "                    loss='categorical_crossentropy')\n",
    "out\n",
    "### END CODE HERE ###"
   ]
  },
  {
   "cell_type": "markdown",
   "metadata": {},
   "source": [
    "The last step is to define all your inputs and outputs to fit the model:\n",
    "- You already have X of shape $(m = 10000, T_x = 30)$ containing the training examples.\n",
    "- You need to create `s0` and `c0` to initialize your `post_activation_LSTM_cell` with 0s.\n",
    "- Given the `model()` you coded, you need the \"outputs\" to be a list of 11 elements of shape (m, T_y). So that: `outputs[i][0], ..., outputs[i][Ty]` represent the true labels (characters) corresponding to the $i^{th}$ training example (`X[i]`). More generally, `outputs[i][j]` is the true label of the $j^{th}$ character in the $i^{th}$ training example."
   ]
  },
  {
   "cell_type": "code",
   "execution_count": 43,
   "metadata": {},
   "outputs": [],
   "source": [
    "s0 = np.zeros((len(dataset_list), n_s))\n",
    "c0 = np.zeros((len(dataset_list), n_s))\n",
    "outputs = list(Yoh.swapaxes(0,1))"
   ]
  },
  {
   "cell_type": "code",
   "execution_count": 44,
   "metadata": {},
   "outputs": [
    {
     "data": {
      "text/plain": [
       "(6, 6)"
      ]
     },
     "execution_count": 44,
     "metadata": {},
     "output_type": "execute_result"
    }
   ],
   "source": [
    "len(list(Yoh[1])),len(list(Yoh.swapaxes(0,1)))"
   ]
  },
  {
   "cell_type": "code",
   "execution_count": 45,
   "metadata": {},
   "outputs": [
    {
     "data": {
      "text/plain": [
       "((2867, 6, 2620), (2867, 500), (2867, 500), (6, 2867, 2620))"
      ]
     },
     "execution_count": 45,
     "metadata": {},
     "output_type": "execute_result"
    }
   ],
   "source": [
    "Yoh.shape,s0.shape,c0.shape,Yoh.swapaxes(0,1).shape"
   ]
  },
  {
   "cell_type": "code",
   "execution_count": 50,
   "metadata": {},
   "outputs": [
    {
     "name": "stdout",
     "output_type": "stream",
     "text": [
      "Total Samples,Training,Testing 2867 2810 57\n",
      "Training X Shape and Y Shape (2810, 5, 2873) (2810, 6, 2620)\n",
      "Testing X Shape and Y Shape (57, 5, 2873) (57, 6, 2620)\n"
     ]
    }
   ],
   "source": [
    "#Divide data in to train & test\n",
    "#How much percentage of total data you need\n",
    "training_sample_percentage=98\n",
    "training_sample_count=(round(X.shape[0]*training_sample_percentage/100))\n",
    "#testing_sample_count=2\n",
    "#For to cover rest of data\n",
    "testing_sample_count=X.shape[0]-training_sample_count\n",
    "testing_sample_index=training_sample_count+testing_sample_count\n",
    "\n",
    "print(\"Total Samples,Training,Testing\",X.shape[0],training_sample_count,testing_sample_count)\n",
    "trainXoh=Xoh[0:training_sample_count]\n",
    "trainYoh=Yoh[0:training_sample_count]\n",
    "testXoh=Xoh[training_sample_count:testing_sample_index]\n",
    "testYoh=Yoh[training_sample_count:testing_sample_index]\n",
    "print(\"Training X Shape and Y Shape\",trainXoh.shape,trainYoh.shape)\n",
    "print(\"Testing X Shape and Y Shape\",testXoh.shape,testYoh.shape)\n",
    "train_outputs = list(trainYoh.swapaxes(0,1))\n",
    "test_outputs = list(testYoh.swapaxes(0,1))"
   ]
  },
  {
   "cell_type": "markdown",
   "metadata": {},
   "source": [
    "#Run this only to test with couple of samples to check everything is working fine.\n",
    "#If not needed just change the format to markdown or comment all code below.\n",
    "#Divide data in to train & test\n",
    "\n",
    "#Training sample count will alse serve as index\n",
    "training_sample_count=10\n",
    "testing_sample_count=2\n",
    "testing_sample_index=training_sample_count+testing_sample_count\n",
    "\n",
    "print(\"Total Samples,Training,Testing\",X.shape[0],training_sample_count,testing_sample_count)\n",
    "trainXoh=Xoh[0:training_sample_count]\n",
    "trainYoh=Yoh[0:training_sample_count]\n",
    "testXoh=Xoh[training_sample_count:testing_sample_index]\n",
    "testYoh=Yoh[training_sample_count:testing_sample_index]\n",
    "print(\"Training X Shape and Y Shape\",trainXoh.shape,trainYoh.shape)\n",
    "print(\"Testing X Shape and Y Shape\",testXoh.shape,testYoh.shape)\n",
    "train_outputs = list(trainYoh.swapaxes(0,1))\n",
    "test_outputs = list(testYoh.swapaxes(0,1))"
   ]
  },
  {
   "cell_type": "code",
   "execution_count": 51,
   "metadata": {},
   "outputs": [
    {
     "data": {
      "text/plain": [
       "(2867, 2810, 57)"
      ]
     },
     "execution_count": 51,
     "metadata": {},
     "output_type": "execute_result"
    }
   ],
   "source": [
    "len(dataset_list),training_sample_count,testing_sample_count"
   ]
  },
  {
   "cell_type": "code",
   "execution_count": 52,
   "metadata": {},
   "outputs": [
    {
     "name": "stdout",
     "output_type": "stream",
     "text": [
      "(2867, 500) (2867, 500)\n"
     ]
    }
   ],
   "source": [
    "train_s0 = np.zeros((training_sample_count, n_s))\n",
    "train_c0 = np.zeros((training_sample_count, n_s))\n",
    "trainX=[trainXoh, train_s0, train_c0]\n",
    "trainY=train_outputs\n",
    "test_s0 = np.zeros((testing_sample_count, n_s))\n",
    "test_c0 = np.zeros((testing_sample_count, n_s))\n",
    "testX=[testXoh, test_s0, test_c0]\n",
    "testY=test_outputs\n",
    "print(s0.shape,c0.shape)"
   ]
  },
  {
   "cell_type": "code",
   "execution_count": 53,
   "metadata": {},
   "outputs": [
    {
     "name": "stdout",
     "output_type": "stream",
     "text": [
      "Train on 2810 samples, validate on 57 samples\n",
      "Epoch 1/100\n",
      "2800/2810 [============================>.] - ETA: 0s - loss: 22.6681 - dense_2_loss_1: 2.5414 - dense_2_loss_2: 4.1077 - dense_2_loss_3: 4.2133 - dense_2_loss_4: 4.5343 - dense_2_loss_5: 4.0662 - dense_2_loss_6: 3.2052 - dense_2_acc_1: 0.4368 - dense_2_acc_2: 0.2011 - dense_2_acc_3: 0.1904 - dense_2_acc_4: 0.1700 - dense_2_acc_5: 0.2764 - dense_2_acc_6: 0.4361Epoch 00000: saving model to main_model_weights.h5\n",
      "2810/2810 [==============================] - 18s - loss: 22.6758 - dense_2_loss_1: 2.5452 - dense_2_loss_2: 4.1084 - dense_2_loss_3: 4.2155 - dense_2_loss_4: 4.5360 - dense_2_loss_5: 4.0625 - dense_2_loss_6: 3.2083 - dense_2_acc_1: 0.4359 - dense_2_acc_2: 0.2014 - dense_2_acc_3: 0.1904 - dense_2_acc_4: 0.1698 - dense_2_acc_5: 0.2765 - dense_2_acc_6: 0.4356 - val_loss: 33.0249 - val_dense_2_loss_1: 4.6319 - val_dense_2_loss_2: 6.9169 - val_dense_2_loss_3: 5.7078 - val_dense_2_loss_4: 6.5009 - val_dense_2_loss_5: 4.7510 - val_dense_2_loss_6: 4.5164 - val_dense_2_acc_1: 0.4211 - val_dense_2_acc_2: 0.1930 - val_dense_2_acc_3: 0.1053 - val_dense_2_acc_4: 0.1579 - val_dense_2_acc_5: 0.3158 - val_dense_2_acc_6: 0.4737\n",
      "Epoch 2/100\n",
      "2800/2810 [============================>.] - ETA: 0s - loss: 22.5144 - dense_2_loss_1: 2.5235 - dense_2_loss_2: 4.0715 - dense_2_loss_3: 4.2084 - dense_2_loss_4: 4.5000 - dense_2_loss_5: 4.0156 - dense_2_loss_6: 3.1954 - dense_2_acc_1: 0.4289 - dense_2_acc_2: 0.2043 - dense_2_acc_3: 0.1925 - dense_2_acc_4: 0.1732 - dense_2_acc_5: 0.2829 - dense_2_acc_6: 0.4396Epoch 00001: saving model to main_model_weights.h5\n",
      "2810/2810 [==============================] - 17s - loss: 22.5216 - dense_2_loss_1: 2.5233 - dense_2_loss_2: 4.0723 - dense_2_loss_3: 4.2085 - dense_2_loss_4: 4.5015 - dense_2_loss_5: 4.0199 - dense_2_loss_6: 3.1962 - dense_2_acc_1: 0.4281 - dense_2_acc_2: 0.2043 - dense_2_acc_3: 0.1922 - dense_2_acc_4: 0.1726 - dense_2_acc_5: 0.2822 - dense_2_acc_6: 0.4388 - val_loss: 32.3866 - val_dense_2_loss_1: 4.5355 - val_dense_2_loss_2: 6.7653 - val_dense_2_loss_3: 5.6658 - val_dense_2_loss_4: 6.3852 - val_dense_2_loss_5: 4.7034 - val_dense_2_loss_6: 4.3315 - val_dense_2_acc_1: 0.3684 - val_dense_2_acc_2: 0.1930 - val_dense_2_acc_3: 0.1579 - val_dense_2_acc_4: 0.1579 - val_dense_2_acc_5: 0.2982 - val_dense_2_acc_6: 0.4737\n",
      "Epoch 3/100\n",
      "2800/2810 [============================>.] - ETA: 0s - loss: 22.1417 - dense_2_loss_1: 2.5013 - dense_2_loss_2: 4.0014 - dense_2_loss_3: 4.1222 - dense_2_loss_4: 4.4328 - dense_2_loss_5: 3.9648 - dense_2_loss_6: 3.1193 - dense_2_acc_1: 0.4346 - dense_2_acc_2: 0.2114 - dense_2_acc_3: 0.2082 - dense_2_acc_4: 0.1768 - dense_2_acc_5: 0.2857 - dense_2_acc_6: 0.4429Epoch 00002: saving model to main_model_weights.h5\n",
      "2810/2810 [==============================] - 18s - loss: 22.1400 - dense_2_loss_1: 2.5001 - dense_2_loss_2: 4.0020 - dense_2_loss_3: 4.1217 - dense_2_loss_4: 4.4335 - dense_2_loss_5: 3.9642 - dense_2_loss_6: 3.1185 - dense_2_acc_1: 0.4342 - dense_2_acc_2: 0.2110 - dense_2_acc_3: 0.2085 - dense_2_acc_4: 0.1769 - dense_2_acc_5: 0.2858 - dense_2_acc_6: 0.4434 - val_loss: 33.2014 - val_dense_2_loss_1: 4.5404 - val_dense_2_loss_2: 7.0162 - val_dense_2_loss_3: 5.7825 - val_dense_2_loss_4: 6.5248 - val_dense_2_loss_5: 4.7877 - val_dense_2_loss_6: 4.5499 - val_dense_2_acc_1: 0.4035 - val_dense_2_acc_2: 0.1930 - val_dense_2_acc_3: 0.0877 - val_dense_2_acc_4: 0.1579 - val_dense_2_acc_5: 0.2982 - val_dense_2_acc_6: 0.4737\n",
      "Epoch 4/100\n",
      "2800/2810 [============================>.] - ETA: 0s - loss: 21.8785 - dense_2_loss_1: 2.4330 - dense_2_loss_2: 3.9661 - dense_2_loss_3: 4.0767 - dense_2_loss_4: 4.3732 - dense_2_loss_5: 3.9373 - dense_2_loss_6: 3.0923 - dense_2_acc_1: 0.4514 - dense_2_acc_2: 0.2050 - dense_2_acc_3: 0.2068 - dense_2_acc_4: 0.1857 - dense_2_acc_5: 0.2793 - dense_2_acc_6: 0.4425Epoch 00003: saving model to main_model_weights.h5\n",
      "2810/2810 [==============================] - 18s - loss: 21.8883 - dense_2_loss_1: 2.4377 - dense_2_loss_2: 3.9644 - dense_2_loss_3: 4.0811 - dense_2_loss_4: 4.3752 - dense_2_loss_5: 3.9401 - dense_2_loss_6: 3.0899 - dense_2_acc_1: 0.4505 - dense_2_acc_2: 0.2057 - dense_2_acc_3: 0.2060 - dense_2_acc_4: 0.1854 - dense_2_acc_5: 0.2786 - dense_2_acc_6: 0.4427 - val_loss: 31.9748 - val_dense_2_loss_1: 4.4473 - val_dense_2_loss_2: 6.7273 - val_dense_2_loss_3: 5.4401 - val_dense_2_loss_4: 6.3381 - val_dense_2_loss_5: 4.6721 - val_dense_2_loss_6: 4.3500 - val_dense_2_acc_1: 0.4035 - val_dense_2_acc_2: 0.1754 - val_dense_2_acc_3: 0.1053 - val_dense_2_acc_4: 0.1579 - val_dense_2_acc_5: 0.3333 - val_dense_2_acc_6: 0.4737\n",
      "Epoch 5/100\n",
      "2800/2810 [============================>.] - ETA: 0s - loss: 21.6467 - dense_2_loss_1: 2.4043 - dense_2_loss_2: 3.9011 - dense_2_loss_3: 4.0276 - dense_2_loss_4: 4.3352 - dense_2_loss_5: 3.8940 - dense_2_loss_6: 3.0846 - dense_2_acc_1: 0.4532 - dense_2_acc_2: 0.2268 - dense_2_acc_3: 0.2132 - dense_2_acc_4: 0.1854 - dense_2_acc_5: 0.2896 - dense_2_acc_6: 0.4514Epoch 00004: saving model to main_model_weights.h5\n",
      "2810/2810 [==============================] - 17s - loss: 21.6473 - dense_2_loss_1: 2.4035 - dense_2_loss_2: 3.9013 - dense_2_loss_3: 4.0250 - dense_2_loss_4: 4.3372 - dense_2_loss_5: 3.8934 - dense_2_loss_6: 3.0869 - dense_2_acc_1: 0.4527 - dense_2_acc_2: 0.2270 - dense_2_acc_3: 0.2135 - dense_2_acc_4: 0.1847 - dense_2_acc_5: 0.2897 - dense_2_acc_6: 0.4505 - val_loss: 32.2153 - val_dense_2_loss_1: 4.5227 - val_dense_2_loss_2: 6.6508 - val_dense_2_loss_3: 5.5788 - val_dense_2_loss_4: 6.4621 - val_dense_2_loss_5: 4.6489 - val_dense_2_loss_6: 4.3520 - val_dense_2_acc_1: 0.4211 - val_dense_2_acc_2: 0.1930 - val_dense_2_acc_3: 0.1053 - val_dense_2_acc_4: 0.1404 - val_dense_2_acc_5: 0.3333 - val_dense_2_acc_6: 0.4561\n",
      "Epoch 6/100\n",
      "2800/2810 [============================>.] - ETA: 0s - loss: 21.3447 - dense_2_loss_1: 2.3905 - dense_2_loss_2: 3.8412 - dense_2_loss_3: 3.9506 - dense_2_loss_4: 4.2667 - dense_2_loss_5: 3.8480 - dense_2_loss_6: 3.0476 - dense_2_acc_1: 0.4511 - dense_2_acc_2: 0.2282 - dense_2_acc_3: 0.2186 - dense_2_acc_4: 0.1925 - dense_2_acc_5: 0.2893 - dense_2_acc_6: 0.4425Epoch 00005: saving model to main_model_weights.h5\n",
      "2810/2810 [==============================] - 18s - loss: 21.3361 - dense_2_loss_1: 2.3915 - dense_2_loss_2: 3.8385 - dense_2_loss_3: 3.9489 - dense_2_loss_4: 4.2651 - dense_2_loss_5: 3.8452 - dense_2_loss_6: 3.0470 - dense_2_acc_1: 0.4512 - dense_2_acc_2: 0.2281 - dense_2_acc_3: 0.2181 - dense_2_acc_4: 0.1925 - dense_2_acc_5: 0.2893 - dense_2_acc_6: 0.4427 - val_loss: 33.3149 - val_dense_2_loss_1: 4.6283 - val_dense_2_loss_2: 6.9440 - val_dense_2_loss_3: 5.8032 - val_dense_2_loss_4: 6.7234 - val_dense_2_loss_5: 4.7135 - val_dense_2_loss_6: 4.5025 - val_dense_2_acc_1: 0.4211 - val_dense_2_acc_2: 0.1754 - val_dense_2_acc_3: 0.1228 - val_dense_2_acc_4: 0.1404 - val_dense_2_acc_5: 0.2807 - val_dense_2_acc_6: 0.4561\n",
      "Epoch 7/100\n",
      "2800/2810 [============================>.] - ETA: 0s - loss: 21.0722 - dense_2_loss_1: 2.3432 - dense_2_loss_2: 3.7972 - dense_2_loss_3: 3.9089 - dense_2_loss_4: 4.2425 - dense_2_loss_5: 3.7843 - dense_2_loss_6: 2.9963 - dense_2_acc_1: 0.4604 - dense_2_acc_2: 0.2493 - dense_2_acc_3: 0.2214 - dense_2_acc_4: 0.1907 - dense_2_acc_5: 0.2946 - dense_2_acc_6: 0.4496Epoch 00006: saving model to main_model_weights.h5\n",
      "2810/2810 [==============================] - 18s - loss: 21.0845 - dense_2_loss_1: 2.3490 - dense_2_loss_2: 3.7982 - dense_2_loss_3: 3.9060 - dense_2_loss_4: 4.2420 - dense_2_loss_5: 3.7901 - dense_2_loss_6: 2.9992 - dense_2_acc_1: 0.4598 - dense_2_acc_2: 0.2488 - dense_2_acc_3: 0.2210 - dense_2_acc_4: 0.1904 - dense_2_acc_5: 0.2936 - dense_2_acc_6: 0.4491 - val_loss: 32.5486 - val_dense_2_loss_1: 4.5820 - val_dense_2_loss_2: 6.8645 - val_dense_2_loss_3: 5.5050 - val_dense_2_loss_4: 6.5009 - val_dense_2_loss_5: 4.7258 - val_dense_2_loss_6: 4.3705 - val_dense_2_acc_1: 0.3860 - val_dense_2_acc_2: 0.1930 - val_dense_2_acc_3: 0.1228 - val_dense_2_acc_4: 0.1579 - val_dense_2_acc_5: 0.2632 - val_dense_2_acc_6: 0.4561\n",
      "Epoch 8/100\n",
      "2800/2810 [============================>.] - ETA: 0s - loss: 20.8702 - dense_2_loss_1: 2.3219 - dense_2_loss_2: 3.7597 - dense_2_loss_3: 3.8719 - dense_2_loss_4: 4.1631 - dense_2_loss_5: 3.7724 - dense_2_loss_6: 2.9812 - dense_2_acc_1: 0.4725 - dense_2_acc_2: 0.2511 - dense_2_acc_3: 0.2314 - dense_2_acc_4: 0.2032 - dense_2_acc_5: 0.2896 - dense_2_acc_6: 0.4479Epoch 00007: saving model to main_model_weights.h5\n",
      "2810/2810 [==============================] - 17s - loss: 20.8596 - dense_2_loss_1: 2.3222 - dense_2_loss_2: 3.7604 - dense_2_loss_3: 3.8689 - dense_2_loss_4: 4.1608 - dense_2_loss_5: 3.7708 - dense_2_loss_6: 2.9765 - dense_2_acc_1: 0.4719 - dense_2_acc_2: 0.2509 - dense_2_acc_3: 0.2313 - dense_2_acc_4: 0.2032 - dense_2_acc_5: 0.2900 - dense_2_acc_6: 0.4484 - val_loss: 33.3251 - val_dense_2_loss_1: 4.4772 - val_dense_2_loss_2: 7.1929 - val_dense_2_loss_3: 5.6564 - val_dense_2_loss_4: 6.6634 - val_dense_2_loss_5: 4.7754 - val_dense_2_loss_6: 4.5598 - val_dense_2_acc_1: 0.4386 - val_dense_2_acc_2: 0.1930 - val_dense_2_acc_3: 0.1053 - val_dense_2_acc_4: 0.1404 - val_dense_2_acc_5: 0.2632 - val_dense_2_acc_6: 0.4912\n",
      "Epoch 9/100\n",
      "2800/2810 [============================>.] - ETA: 0s - loss: 20.4464 - dense_2_loss_1: 2.2836 - dense_2_loss_2: 3.6914 - dense_2_loss_3: 3.7737 - dense_2_loss_4: 4.0983 - dense_2_loss_5: 3.6941 - dense_2_loss_6: 2.9053 - dense_2_acc_1: 0.4682 - dense_2_acc_2: 0.2514 - dense_2_acc_3: 0.2354 - dense_2_acc_4: 0.2046 - dense_2_acc_5: 0.3025 - dense_2_acc_6: 0.4518Epoch 00008: saving model to main_model_weights.h5\n",
      "2810/2810 [==============================] - 17s - loss: 20.4399 - dense_2_loss_1: 2.2848 - dense_2_loss_2: 3.6912 - dense_2_loss_3: 3.7717 - dense_2_loss_4: 4.0949 - dense_2_loss_5: 3.6907 - dense_2_loss_6: 2.9066 - dense_2_acc_1: 0.4676 - dense_2_acc_2: 0.2516 - dense_2_acc_3: 0.2356 - dense_2_acc_4: 0.2050 - dense_2_acc_5: 0.3028 - dense_2_acc_6: 0.4520 - val_loss: 32.7076 - val_dense_2_loss_1: 4.6049 - val_dense_2_loss_2: 6.8769 - val_dense_2_loss_3: 5.4458 - val_dense_2_loss_4: 6.6592 - val_dense_2_loss_5: 4.6194 - val_dense_2_loss_6: 4.5014 - val_dense_2_acc_1: 0.4211 - val_dense_2_acc_2: 0.1930 - val_dense_2_acc_3: 0.1579 - val_dense_2_acc_4: 0.1579 - val_dense_2_acc_5: 0.2982 - val_dense_2_acc_6: 0.4561\n",
      "Epoch 10/100\n",
      "2800/2810 [============================>.] - ETA: 0s - loss: 20.1457 - dense_2_loss_1: 2.2563 - dense_2_loss_2: 3.6290 - dense_2_loss_3: 3.7277 - dense_2_loss_4: 4.0339 - dense_2_loss_5: 3.6215 - dense_2_loss_6: 2.8773 - dense_2_acc_1: 0.4761 - dense_2_acc_2: 0.2589 - dense_2_acc_3: 0.2311 - dense_2_acc_4: 0.2111 - dense_2_acc_5: 0.3089 - dense_2_acc_6: 0.4536Epoch 00009: saving model to main_model_weights.h5\n",
      "2810/2810 [==============================] - 17s - loss: 20.1537 - dense_2_loss_1: 2.2583 - dense_2_loss_2: 3.6336 - dense_2_loss_3: 3.7306 - dense_2_loss_4: 4.0335 - dense_2_loss_5: 3.6214 - dense_2_loss_6: 2.8764 - dense_2_acc_1: 0.4762 - dense_2_acc_2: 0.2587 - dense_2_acc_3: 0.2310 - dense_2_acc_4: 0.2103 - dense_2_acc_5: 0.3089 - dense_2_acc_6: 0.4537 - val_loss: 32.6837 - val_dense_2_loss_1: 4.5292 - val_dense_2_loss_2: 6.8338 - val_dense_2_loss_3: 5.5638 - val_dense_2_loss_4: 6.4242 - val_dense_2_loss_5: 4.6809 - val_dense_2_loss_6: 4.6518 - val_dense_2_acc_1: 0.4211 - val_dense_2_acc_2: 0.2456 - val_dense_2_acc_3: 0.1404 - val_dense_2_acc_4: 0.1404 - val_dense_2_acc_5: 0.2982 - val_dense_2_acc_6: 0.4561\n",
      "Epoch 11/100\n",
      "2800/2810 [============================>.] - ETA: 0s - loss: 19.8120 - dense_2_loss_1: 2.2101 - dense_2_loss_2: 3.5666 - dense_2_loss_3: 3.6508 - dense_2_loss_4: 3.9799 - dense_2_loss_5: 3.5739 - dense_2_loss_6: 2.8308 - dense_2_acc_1: 0.4861 - dense_2_acc_2: 0.2668 - dense_2_acc_3: 0.2554 - dense_2_acc_4: 0.2096 - dense_2_acc_5: 0.3107 - dense_2_acc_6: 0.4596Epoch 00010: saving model to main_model_weights.h5\n",
      "2810/2810 [==============================] - 17s - loss: 19.8127 - dense_2_loss_1: 2.2082 - dense_2_loss_2: 3.5715 - dense_2_loss_3: 3.6541 - dense_2_loss_4: 3.9790 - dense_2_loss_5: 3.5711 - dense_2_loss_6: 2.8286 - dense_2_acc_1: 0.4861 - dense_2_acc_2: 0.2662 - dense_2_acc_3: 0.2548 - dense_2_acc_4: 0.2103 - dense_2_acc_5: 0.3110 - dense_2_acc_6: 0.4598 - val_loss: 33.0344 - val_dense_2_loss_1: 4.5424 - val_dense_2_loss_2: 6.7274 - val_dense_2_loss_3: 5.6900 - val_dense_2_loss_4: 6.6223 - val_dense_2_loss_5: 4.7510 - val_dense_2_loss_6: 4.7013 - val_dense_2_acc_1: 0.4035 - val_dense_2_acc_2: 0.1930 - val_dense_2_acc_3: 0.1053 - val_dense_2_acc_4: 0.1404 - val_dense_2_acc_5: 0.2807 - val_dense_2_acc_6: 0.4561\n",
      "Epoch 12/100\n",
      "2800/2810 [============================>.] - ETA: 0s - loss: 19.6974 - dense_2_loss_1: 2.2157 - dense_2_loss_2: 3.5551 - dense_2_loss_3: 3.6427 - dense_2_loss_4: 3.9299 - dense_2_loss_5: 3.5501 - dense_2_loss_6: 2.8039 - dense_2_acc_1: 0.4946 - dense_2_acc_2: 0.2700 - dense_2_acc_3: 0.2529 - dense_2_acc_4: 0.2250 - dense_2_acc_5: 0.3089 - dense_2_acc_6: 0.4596Epoch 00011: saving model to main_model_weights.h5\n",
      "2810/2810 [==============================] - 17s - loss: 19.6763 - dense_2_loss_1: 2.2125 - dense_2_loss_2: 3.5504 - dense_2_loss_3: 3.6423 - dense_2_loss_4: 3.9262 - dense_2_loss_5: 3.5452 - dense_2_loss_6: 2.7995 - dense_2_acc_1: 0.4947 - dense_2_acc_2: 0.2705 - dense_2_acc_3: 0.2534 - dense_2_acc_4: 0.2256 - dense_2_acc_5: 0.3096 - dense_2_acc_6: 0.4601 - val_loss: 33.0219 - val_dense_2_loss_1: 4.4797 - val_dense_2_loss_2: 6.9618 - val_dense_2_loss_3: 5.5076 - val_dense_2_loss_4: 6.6240 - val_dense_2_loss_5: 4.7077 - val_dense_2_loss_6: 4.7411 - val_dense_2_acc_1: 0.4035 - val_dense_2_acc_2: 0.1930 - val_dense_2_acc_3: 0.1579 - val_dense_2_acc_4: 0.1404 - val_dense_2_acc_5: 0.2632 - val_dense_2_acc_6: 0.4561\n",
      "Epoch 13/100\n",
      "2800/2810 [============================>.] - ETA: 0s - loss: 19.3755 - dense_2_loss_1: 2.1747 - dense_2_loss_2: 3.4941 - dense_2_loss_3: 3.5815 - dense_2_loss_4: 3.8536 - dense_2_loss_5: 3.5102 - dense_2_loss_6: 2.7615 - dense_2_acc_1: 0.4939 - dense_2_acc_2: 0.2761 - dense_2_acc_3: 0.2664 - dense_2_acc_4: 0.2286 - dense_2_acc_5: 0.3118 - dense_2_acc_6: 0.4604Epoch 00012: saving model to main_model_weights.h5\n",
      "2810/2810 [==============================] - 17s - loss: 19.3654 - dense_2_loss_1: 2.1746 - dense_2_loss_2: 3.4909 - dense_2_loss_3: 3.5785 - dense_2_loss_4: 3.8504 - dense_2_loss_5: 3.5100 - dense_2_loss_6: 2.7610 - dense_2_acc_1: 0.4940 - dense_2_acc_2: 0.2765 - dense_2_acc_3: 0.2669 - dense_2_acc_4: 0.2295 - dense_2_acc_5: 0.3121 - dense_2_acc_6: 0.4605 - val_loss: 32.9373 - val_dense_2_loss_1: 4.4486 - val_dense_2_loss_2: 6.8888 - val_dense_2_loss_3: 5.4114 - val_dense_2_loss_4: 6.7253 - val_dense_2_loss_5: 4.7285 - val_dense_2_loss_6: 4.7347 - val_dense_2_acc_1: 0.4035 - val_dense_2_acc_2: 0.2105 - val_dense_2_acc_3: 0.1754 - val_dense_2_acc_4: 0.1754 - val_dense_2_acc_5: 0.2982 - val_dense_2_acc_6: 0.4211\n",
      "Epoch 14/100\n",
      "2800/2810 [============================>.] - ETA: 0s - loss: 19.1350 - dense_2_loss_1: 2.1628 - dense_2_loss_2: 3.4440 - dense_2_loss_3: 3.5393 - dense_2_loss_4: 3.7956 - dense_2_loss_5: 3.4544 - dense_2_loss_6: 2.7388 - dense_2_acc_1: 0.5029 - dense_2_acc_2: 0.2807 - dense_2_acc_3: 0.2721 - dense_2_acc_4: 0.2354 - dense_2_acc_5: 0.3136 - dense_2_acc_6: 0.4639Epoch 00013: saving model to main_model_weights.h5\n",
      "2810/2810 [==============================] - 17s - loss: 19.1383 - dense_2_loss_1: 2.1613 - dense_2_loss_2: 3.4423 - dense_2_loss_3: 3.5428 - dense_2_loss_4: 3.8012 - dense_2_loss_5: 3.4538 - dense_2_loss_6: 2.7369 - dense_2_acc_1: 0.5036 - dense_2_acc_2: 0.2815 - dense_2_acc_3: 0.2726 - dense_2_acc_4: 0.2345 - dense_2_acc_5: 0.3135 - dense_2_acc_6: 0.4644 - val_loss: 33.5755 - val_dense_2_loss_1: 4.5043 - val_dense_2_loss_2: 7.0647 - val_dense_2_loss_3: 5.6076 - val_dense_2_loss_4: 6.6801 - val_dense_2_loss_5: 4.7698 - val_dense_2_loss_6: 4.9491 - val_dense_2_acc_1: 0.4035 - val_dense_2_acc_2: 0.2105 - val_dense_2_acc_3: 0.1404 - val_dense_2_acc_4: 0.1228 - val_dense_2_acc_5: 0.2632 - val_dense_2_acc_6: 0.4561\n",
      "Epoch 15/100\n",
      "2800/2810 [============================>.] - ETA: 0s - loss: 18.7155 - dense_2_loss_1: 2.1111 - dense_2_loss_2: 3.4154 - dense_2_loss_3: 3.4448 - dense_2_loss_4: 3.7109 - dense_2_loss_5: 3.3872 - dense_2_loss_6: 2.6460 - dense_2_acc_1: 0.5075 - dense_2_acc_2: 0.2818 - dense_2_acc_3: 0.2786 - dense_2_acc_4: 0.2500 - dense_2_acc_5: 0.3114 - dense_2_acc_6: 0.4711Epoch 00014: saving model to main_model_weights.h5\n",
      "2810/2810 [==============================] - 17s - loss: 18.7178 - dense_2_loss_1: 2.1112 - dense_2_loss_2: 3.4170 - dense_2_loss_3: 3.4466 - dense_2_loss_4: 3.7108 - dense_2_loss_5: 3.3878 - dense_2_loss_6: 2.6443 - dense_2_acc_1: 0.5075 - dense_2_acc_2: 0.2811 - dense_2_acc_3: 0.2783 - dense_2_acc_4: 0.2498 - dense_2_acc_5: 0.3114 - dense_2_acc_6: 0.4712 - val_loss: 33.9944 - val_dense_2_loss_1: 4.6619 - val_dense_2_loss_2: 7.5670 - val_dense_2_loss_3: 5.4915 - val_dense_2_loss_4: 6.5795 - val_dense_2_loss_5: 4.7969 - val_dense_2_loss_6: 4.8977 - val_dense_2_acc_1: 0.3860 - val_dense_2_acc_2: 0.2105 - val_dense_2_acc_3: 0.1930 - val_dense_2_acc_4: 0.1404 - val_dense_2_acc_5: 0.2456 - val_dense_2_acc_6: 0.4386\n",
      "Epoch 16/100\n",
      "2800/2810 [============================>.] - ETA: 0s - loss: 18.7135 - dense_2_loss_1: 2.1007 - dense_2_loss_2: 3.3818 - dense_2_loss_3: 3.4394 - dense_2_loss_4: 3.7369 - dense_2_loss_5: 3.3983 - dense_2_loss_6: 2.6563 - dense_2_acc_1: 0.5111 - dense_2_acc_2: 0.2911 - dense_2_acc_3: 0.2818 - dense_2_acc_4: 0.2468 - dense_2_acc_5: 0.3193 - dense_2_acc_6: 0.4711Epoch 00015: saving model to main_model_weights.h5\n",
      "2810/2810 [==============================] - 17s - loss: 18.7072 - dense_2_loss_1: 2.0966 - dense_2_loss_2: 3.3834 - dense_2_loss_3: 3.4394 - dense_2_loss_4: 3.7347 - dense_2_loss_5: 3.3987 - dense_2_loss_6: 2.6545 - dense_2_acc_1: 0.5114 - dense_2_acc_2: 0.2907 - dense_2_acc_3: 0.2822 - dense_2_acc_4: 0.2466 - dense_2_acc_5: 0.3192 - dense_2_acc_6: 0.4715 - val_loss: 33.7049 - val_dense_2_loss_1: 4.6003 - val_dense_2_loss_2: 6.9401 - val_dense_2_loss_3: 5.7875 - val_dense_2_loss_4: 6.8197 - val_dense_2_loss_5: 4.7709 - val_dense_2_loss_6: 4.7863 - val_dense_2_acc_1: 0.3860 - val_dense_2_acc_2: 0.1754 - val_dense_2_acc_3: 0.1053 - val_dense_2_acc_4: 0.1404 - val_dense_2_acc_5: 0.2807 - val_dense_2_acc_6: 0.4386\n",
      "Epoch 17/100\n",
      "2800/2810 [============================>.] - ETA: 0s - loss: 18.4031 - dense_2_loss_1: 2.0924 - dense_2_loss_2: 3.3578 - dense_2_loss_3: 3.4008 - dense_2_loss_4: 3.6274 - dense_2_loss_5: 3.3094 - dense_2_loss_6: 2.6152 - dense_2_acc_1: 0.5204 - dense_2_acc_2: 0.2971 - dense_2_acc_3: 0.2736 - dense_2_acc_4: 0.2511 - dense_2_acc_5: 0.3236 - dense_2_acc_6: 0.4768Epoch 00016: saving model to main_model_weights.h5\n",
      "2810/2810 [==============================] - 17s - loss: 18.4113 - dense_2_loss_1: 2.0917 - dense_2_loss_2: 3.3571 - dense_2_loss_3: 3.4024 - dense_2_loss_4: 3.6290 - dense_2_loss_5: 3.3161 - dense_2_loss_6: 2.6151 - dense_2_acc_1: 0.5206 - dense_2_acc_2: 0.2972 - dense_2_acc_3: 0.2737 - dense_2_acc_4: 0.2509 - dense_2_acc_5: 0.3228 - dense_2_acc_6: 0.4772 - val_loss: 33.2584 - val_dense_2_loss_1: 4.5975 - val_dense_2_loss_2: 6.9878 - val_dense_2_loss_3: 5.5112 - val_dense_2_loss_4: 6.5457 - val_dense_2_loss_5: 4.8210 - val_dense_2_loss_6: 4.7952 - val_dense_2_acc_1: 0.3684 - val_dense_2_acc_2: 0.1930 - val_dense_2_acc_3: 0.1930 - val_dense_2_acc_4: 0.1228 - val_dense_2_acc_5: 0.2632 - val_dense_2_acc_6: 0.3860\n",
      "Epoch 18/100\n",
      "2800/2810 [============================>.] - ETA: 0s - loss: 18.1292 - dense_2_loss_1: 2.0501 - dense_2_loss_2: 3.2491 - dense_2_loss_3: 3.3355 - dense_2_loss_4: 3.5824 - dense_2_loss_5: 3.3029 - dense_2_loss_6: 2.6091 - dense_2_acc_1: 0.5246 - dense_2_acc_2: 0.3057 - dense_2_acc_3: 0.2911 - dense_2_acc_4: 0.2618 - dense_2_acc_5: 0.3332 - dense_2_acc_6: 0.4721Epoch 00017: saving model to main_model_weights.h5\n",
      "2810/2810 [==============================] - 17s - loss: 18.1433 - dense_2_loss_1: 2.0505 - dense_2_loss_2: 3.2519 - dense_2_loss_3: 3.3404 - dense_2_loss_4: 3.5871 - dense_2_loss_5: 3.3015 - dense_2_loss_6: 2.6119 - dense_2_acc_1: 0.5246 - dense_2_acc_2: 0.3057 - dense_2_acc_3: 0.2900 - dense_2_acc_4: 0.2612 - dense_2_acc_5: 0.3338 - dense_2_acc_6: 0.4719 - val_loss: 33.9748 - val_dense_2_loss_1: 4.6178 - val_dense_2_loss_2: 7.1914 - val_dense_2_loss_3: 5.5892 - val_dense_2_loss_4: 6.8295 - val_dense_2_loss_5: 4.8420 - val_dense_2_loss_6: 4.9049 - val_dense_2_acc_1: 0.4211 - val_dense_2_acc_2: 0.1930 - val_dense_2_acc_3: 0.2105 - val_dense_2_acc_4: 0.1404 - val_dense_2_acc_5: 0.2982 - val_dense_2_acc_6: 0.4035\n",
      "Epoch 19/100\n",
      "2800/2810 [============================>.] - ETA: 0s - loss: 17.9451 - dense_2_loss_1: 2.0233 - dense_2_loss_2: 3.2688 - dense_2_loss_3: 3.3010 - dense_2_loss_4: 3.5194 - dense_2_loss_5: 3.2546 - dense_2_loss_6: 2.5780 - dense_2_acc_1: 0.5246 - dense_2_acc_2: 0.3032 - dense_2_acc_3: 0.3046 - dense_2_acc_4: 0.2604 - dense_2_acc_5: 0.3343 - dense_2_acc_6: 0.4725Epoch 00018: saving model to main_model_weights.h5\n",
      "2810/2810 [==============================] - 17s - loss: 17.9420 - dense_2_loss_1: 2.0256 - dense_2_loss_2: 3.2684 - dense_2_loss_3: 3.2988 - dense_2_loss_4: 3.5196 - dense_2_loss_5: 3.2518 - dense_2_loss_6: 2.5778 - dense_2_acc_1: 0.5242 - dense_2_acc_2: 0.3032 - dense_2_acc_3: 0.3050 - dense_2_acc_4: 0.2605 - dense_2_acc_5: 0.3345 - dense_2_acc_6: 0.4730 - val_loss: 34.0120 - val_dense_2_loss_1: 4.5164 - val_dense_2_loss_2: 7.2249 - val_dense_2_loss_3: 5.5551 - val_dense_2_loss_4: 6.9146 - val_dense_2_loss_5: 4.8619 - val_dense_2_loss_6: 4.9391 - val_dense_2_acc_1: 0.4035 - val_dense_2_acc_2: 0.1754 - val_dense_2_acc_3: 0.2281 - val_dense_2_acc_4: 0.1754 - val_dense_2_acc_5: 0.2456 - val_dense_2_acc_6: 0.4035\n",
      "Epoch 20/100\n",
      "2800/2810 [============================>.] - ETA: 0s - loss: 17.6889 - dense_2_loss_1: 2.0226 - dense_2_loss_2: 3.2180 - dense_2_loss_3: 3.2401 - dense_2_loss_4: 3.4652 - dense_2_loss_5: 3.2084 - dense_2_loss_6: 2.5346 - dense_2_acc_1: 0.5211 - dense_2_acc_2: 0.3146 - dense_2_acc_3: 0.3086 - dense_2_acc_4: 0.2700 - dense_2_acc_5: 0.3404 - dense_2_acc_6: 0.4836Epoch 00019: saving model to main_model_weights.h5\n",
      "2810/2810 [==============================] - 17s - loss: 17.6918 - dense_2_loss_1: 2.0280 - dense_2_loss_2: 3.2177 - dense_2_loss_3: 3.2440 - dense_2_loss_4: 3.4615 - dense_2_loss_5: 3.2063 - dense_2_loss_6: 2.5343 - dense_2_acc_1: 0.5203 - dense_2_acc_2: 0.3146 - dense_2_acc_3: 0.3078 - dense_2_acc_4: 0.2705 - dense_2_acc_5: 0.3413 - dense_2_acc_6: 0.4840 - val_loss: 34.5472 - val_dense_2_loss_1: 4.6133 - val_dense_2_loss_2: 6.9849 - val_dense_2_loss_3: 5.7614 - val_dense_2_loss_4: 7.1312 - val_dense_2_loss_5: 5.0462 - val_dense_2_loss_6: 5.0102 - val_dense_2_acc_1: 0.3684 - val_dense_2_acc_2: 0.1930 - val_dense_2_acc_3: 0.1228 - val_dense_2_acc_4: 0.1579 - val_dense_2_acc_5: 0.2281 - val_dense_2_acc_6: 0.4035\n",
      "Epoch 21/100\n",
      "2800/2810 [============================>.] - ETA: 0s - loss: 17.2728 - dense_2_loss_1: 1.9686 - dense_2_loss_2: 3.1386 - dense_2_loss_3: 3.1928 - dense_2_loss_4: 3.3726 - dense_2_loss_5: 3.1147 - dense_2_loss_6: 2.4854 - dense_2_acc_1: 0.5357 - dense_2_acc_2: 0.3225 - dense_2_acc_3: 0.3132 - dense_2_acc_4: 0.2814 - dense_2_acc_5: 0.3479 - dense_2_acc_6: 0.4850Epoch 00020: saving model to main_model_weights.h5\n",
      "2810/2810 [==============================] - 17s - loss: 17.2966 - dense_2_loss_1: 1.9734 - dense_2_loss_2: 3.1415 - dense_2_loss_3: 3.1971 - dense_2_loss_4: 3.3758 - dense_2_loss_5: 3.1158 - dense_2_loss_6: 2.4929 - dense_2_acc_1: 0.5356 - dense_2_acc_2: 0.3224 - dense_2_acc_3: 0.3132 - dense_2_acc_4: 0.2804 - dense_2_acc_5: 0.3477 - dense_2_acc_6: 0.4840 - val_loss: 34.6636 - val_dense_2_loss_1: 4.6272 - val_dense_2_loss_2: 7.2874 - val_dense_2_loss_3: 5.8670 - val_dense_2_loss_4: 6.8656 - val_dense_2_loss_5: 5.0598 - val_dense_2_loss_6: 4.9567 - val_dense_2_acc_1: 0.4035 - val_dense_2_acc_2: 0.2105 - val_dense_2_acc_3: 0.1579 - val_dense_2_acc_4: 0.1754 - val_dense_2_acc_5: 0.2105 - val_dense_2_acc_6: 0.4035\n",
      "Epoch 22/100\n",
      "2800/2810 [============================>.] - ETA: 0s - loss: 17.1236 - dense_2_loss_1: 1.9666 - dense_2_loss_2: 3.0840 - dense_2_loss_3: 3.1509 - dense_2_loss_4: 3.3445 - dense_2_loss_5: 3.0808 - dense_2_loss_6: 2.4968 - dense_2_acc_1: 0.5346 - dense_2_acc_2: 0.3289 - dense_2_acc_3: 0.2996 - dense_2_acc_4: 0.2775 - dense_2_acc_5: 0.3511 - dense_2_acc_6: 0.4907Epoch 00021: saving model to main_model_weights.h5\n",
      "2810/2810 [==============================] - 17s - loss: 17.1204 - dense_2_loss_1: 1.9690 - dense_2_loss_2: 3.0858 - dense_2_loss_3: 3.1530 - dense_2_loss_4: 3.3432 - dense_2_loss_5: 3.0769 - dense_2_loss_6: 2.4924 - dense_2_acc_1: 0.5345 - dense_2_acc_2: 0.3288 - dense_2_acc_3: 0.2986 - dense_2_acc_4: 0.2772 - dense_2_acc_5: 0.3516 - dense_2_acc_6: 0.4915 - val_loss: 34.2195 - val_dense_2_loss_1: 4.6677 - val_dense_2_loss_2: 7.0986 - val_dense_2_loss_3: 5.8222 - val_dense_2_loss_4: 6.8754 - val_dense_2_loss_5: 4.7995 - val_dense_2_loss_6: 4.9561 - val_dense_2_acc_1: 0.4561 - val_dense_2_acc_2: 0.2105 - val_dense_2_acc_3: 0.1930 - val_dense_2_acc_4: 0.1404 - val_dense_2_acc_5: 0.2105 - val_dense_2_acc_6: 0.4386\n",
      "Epoch 23/100\n",
      "2800/2810 [============================>.] - ETA: 0s - loss: 16.7943 - dense_2_loss_1: 1.9586 - dense_2_loss_2: 3.0456 - dense_2_loss_3: 3.0827 - dense_2_loss_4: 3.2689 - dense_2_loss_5: 3.0424 - dense_2_loss_6: 2.3961 - dense_2_acc_1: 0.5400 - dense_2_acc_2: 0.3289 - dense_2_acc_3: 0.3275 - dense_2_acc_4: 0.2896 - dense_2_acc_5: 0.3604 - dense_2_acc_6: 0.4968Epoch 00022: saving model to main_model_weights.h5\n",
      "2810/2810 [==============================] - 18s - loss: 16.8019 - dense_2_loss_1: 1.9599 - dense_2_loss_2: 3.0475 - dense_2_loss_3: 3.0819 - dense_2_loss_4: 3.2718 - dense_2_loss_5: 3.0447 - dense_2_loss_6: 2.3962 - dense_2_acc_1: 0.5399 - dense_2_acc_2: 0.3285 - dense_2_acc_3: 0.3274 - dense_2_acc_4: 0.2893 - dense_2_acc_5: 0.3598 - dense_2_acc_6: 0.4964 - val_loss: 33.8632 - val_dense_2_loss_1: 4.5803 - val_dense_2_loss_2: 6.8831 - val_dense_2_loss_3: 5.6515 - val_dense_2_loss_4: 6.9449 - val_dense_2_loss_5: 4.7909 - val_dense_2_loss_6: 5.0124 - val_dense_2_acc_1: 0.4211 - val_dense_2_acc_2: 0.2105 - val_dense_2_acc_3: 0.2281 - val_dense_2_acc_4: 0.1579 - val_dense_2_acc_5: 0.2281 - val_dense_2_acc_6: 0.4386\n",
      "Epoch 24/100\n",
      "2800/2810 [============================>.] - ETA: 0s - loss: 16.5526 - dense_2_loss_1: 1.9245 - dense_2_loss_2: 2.9804 - dense_2_loss_3: 3.0178 - dense_2_loss_4: 3.2715 - dense_2_loss_5: 2.9781 - dense_2_loss_6: 2.3803 - dense_2_acc_1: 0.5511 - dense_2_acc_2: 0.3436 - dense_2_acc_3: 0.3346 - dense_2_acc_4: 0.2825 - dense_2_acc_5: 0.3575 - dense_2_acc_6: 0.4986Epoch 00023: saving model to main_model_weights.h5\n",
      "2810/2810 [==============================] - 19s - loss: 16.5514 - dense_2_loss_1: 1.9281 - dense_2_loss_2: 2.9795 - dense_2_loss_3: 3.0159 - dense_2_loss_4: 3.2728 - dense_2_loss_5: 2.9766 - dense_2_loss_6: 2.3786 - dense_2_acc_1: 0.5505 - dense_2_acc_2: 0.3434 - dense_2_acc_3: 0.3352 - dense_2_acc_4: 0.2819 - dense_2_acc_5: 0.3580 - dense_2_acc_6: 0.4989 - val_loss: 33.9389 - val_dense_2_loss_1: 4.5334 - val_dense_2_loss_2: 7.0330 - val_dense_2_loss_3: 5.6669 - val_dense_2_loss_4: 6.9448 - val_dense_2_loss_5: 4.7633 - val_dense_2_loss_6: 4.9974 - val_dense_2_acc_1: 0.4386 - val_dense_2_acc_2: 0.2281 - val_dense_2_acc_3: 0.1930 - val_dense_2_acc_4: 0.1228 - val_dense_2_acc_5: 0.2281 - val_dense_2_acc_6: 0.4035\n",
      "Epoch 25/100\n",
      "2800/2810 [============================>.] - ETA: 0s - loss: 16.2355 - dense_2_loss_1: 1.9227 - dense_2_loss_2: 2.9192 - dense_2_loss_3: 2.9761 - dense_2_loss_4: 3.1443 - dense_2_loss_5: 2.9098 - dense_2_loss_6: 2.3633 - dense_2_acc_1: 0.5407 - dense_2_acc_2: 0.3511 - dense_2_acc_3: 0.3436 - dense_2_acc_4: 0.2993 - dense_2_acc_5: 0.3654 - dense_2_acc_6: 0.4900Epoch 00024: saving model to main_model_weights.h5\n",
      "2810/2810 [==============================] - 18s - loss: 16.2369 - dense_2_loss_1: 1.9187 - dense_2_loss_2: 2.9191 - dense_2_loss_3: 2.9763 - dense_2_loss_4: 3.1452 - dense_2_loss_5: 2.9118 - dense_2_loss_6: 2.3657 - dense_2_acc_1: 0.5416 - dense_2_acc_2: 0.3512 - dense_2_acc_3: 0.3431 - dense_2_acc_4: 0.2993 - dense_2_acc_5: 0.3651 - dense_2_acc_6: 0.4897 - val_loss: 34.8439 - val_dense_2_loss_1: 4.8051 - val_dense_2_loss_2: 7.1205 - val_dense_2_loss_3: 5.9557 - val_dense_2_loss_4: 7.1014 - val_dense_2_loss_5: 4.8409 - val_dense_2_loss_6: 5.0202 - val_dense_2_acc_1: 0.4386 - val_dense_2_acc_2: 0.1754 - val_dense_2_acc_3: 0.1930 - val_dense_2_acc_4: 0.1053 - val_dense_2_acc_5: 0.2456 - val_dense_2_acc_6: 0.4035\n",
      "Epoch 26/100\n",
      "2800/2810 [============================>.] - ETA: 0s - loss: 15.8465 - dense_2_loss_1: 1.8567 - dense_2_loss_2: 2.8580 - dense_2_loss_3: 2.9173 - dense_2_loss_4: 3.0431 - dense_2_loss_5: 2.8567 - dense_2_loss_6: 2.3147 - dense_2_acc_1: 0.5543 - dense_2_acc_2: 0.3539 - dense_2_acc_3: 0.3464 - dense_2_acc_4: 0.3325 - dense_2_acc_5: 0.3704 - dense_2_acc_6: 0.5000Epoch 00025: saving model to main_model_weights.h5\n",
      "2810/2810 [==============================] - 19s - loss: 15.8430 - dense_2_loss_1: 1.8568 - dense_2_loss_2: 2.8597 - dense_2_loss_3: 2.9180 - dense_2_loss_4: 3.0428 - dense_2_loss_5: 2.8520 - dense_2_loss_6: 2.3137 - dense_2_acc_1: 0.5541 - dense_2_acc_2: 0.3534 - dense_2_acc_3: 0.3459 - dense_2_acc_4: 0.3324 - dense_2_acc_5: 0.3719 - dense_2_acc_6: 0.5000 - val_loss: 35.4373 - val_dense_2_loss_1: 4.6771 - val_dense_2_loss_2: 7.4889 - val_dense_2_loss_3: 5.7726 - val_dense_2_loss_4: 7.4096 - val_dense_2_loss_5: 4.9090 - val_dense_2_loss_6: 5.1800 - val_dense_2_acc_1: 0.3860 - val_dense_2_acc_2: 0.2281 - val_dense_2_acc_3: 0.2105 - val_dense_2_acc_4: 0.1404 - val_dense_2_acc_5: 0.2807 - val_dense_2_acc_6: 0.4211\n",
      "Epoch 27/100\n",
      "2800/2810 [============================>.] - ETA: 0s - loss: 15.6933 - dense_2_loss_1: 1.8549 - dense_2_loss_2: 2.8265 - dense_2_loss_3: 2.8694 - dense_2_loss_4: 3.0303 - dense_2_loss_5: 2.8457 - dense_2_loss_6: 2.2665 - dense_2_acc_1: 0.5571 - dense_2_acc_2: 0.3693 - dense_2_acc_3: 0.3500 - dense_2_acc_4: 0.3129 - dense_2_acc_5: 0.3711 - dense_2_acc_6: 0.5175Epoch 00026: saving model to main_model_weights.h5\n",
      "2810/2810 [==============================] - 19s - loss: 15.7046 - dense_2_loss_1: 1.8576 - dense_2_loss_2: 2.8299 - dense_2_loss_3: 2.8719 - dense_2_loss_4: 3.0304 - dense_2_loss_5: 2.8443 - dense_2_loss_6: 2.2705 - dense_2_acc_1: 0.5562 - dense_2_acc_2: 0.3694 - dense_2_acc_3: 0.3498 - dense_2_acc_4: 0.3128 - dense_2_acc_5: 0.3708 - dense_2_acc_6: 0.5174 - val_loss: 34.1130 - val_dense_2_loss_1: 4.6110 - val_dense_2_loss_2: 6.8495 - val_dense_2_loss_3: 5.6720 - val_dense_2_loss_4: 6.9108 - val_dense_2_loss_5: 4.8714 - val_dense_2_loss_6: 5.1983 - val_dense_2_acc_1: 0.4035 - val_dense_2_acc_2: 0.2281 - val_dense_2_acc_3: 0.2105 - val_dense_2_acc_4: 0.1053 - val_dense_2_acc_5: 0.2456 - val_dense_2_acc_6: 0.3684\n",
      "Epoch 28/100\n",
      "2800/2810 [============================>.] - ETA: 0s - loss: 15.3229 - dense_2_loss_1: 1.8211 - dense_2_loss_2: 2.7724 - dense_2_loss_3: 2.7789 - dense_2_loss_4: 2.9304 - dense_2_loss_5: 2.7731 - dense_2_loss_6: 2.2469 - dense_2_acc_1: 0.5550 - dense_2_acc_2: 0.3643 - dense_2_acc_3: 0.3657 - dense_2_acc_4: 0.3314 - dense_2_acc_5: 0.3693 - dense_2_acc_6: 0.5150Epoch 00027: saving model to main_model_weights.h5\n",
      "2810/2810 [==============================] - 18s - loss: 15.3292 - dense_2_loss_1: 1.8252 - dense_2_loss_2: 2.7746 - dense_2_loss_3: 2.7816 - dense_2_loss_4: 2.9294 - dense_2_loss_5: 2.7731 - dense_2_loss_6: 2.2453 - dense_2_acc_1: 0.5544 - dense_2_acc_2: 0.3637 - dense_2_acc_3: 0.3651 - dense_2_acc_4: 0.3317 - dense_2_acc_5: 0.3690 - dense_2_acc_6: 0.5153 - val_loss: 33.9963 - val_dense_2_loss_1: 4.6093 - val_dense_2_loss_2: 6.8093 - val_dense_2_loss_3: 5.7740 - val_dense_2_loss_4: 6.9653 - val_dense_2_loss_5: 4.8804 - val_dense_2_loss_6: 4.9580 - val_dense_2_acc_1: 0.4386 - val_dense_2_acc_2: 0.2281 - val_dense_2_acc_3: 0.1579 - val_dense_2_acc_4: 0.0877 - val_dense_2_acc_5: 0.2281 - val_dense_2_acc_6: 0.4211\n",
      "Epoch 29/100\n",
      "2800/2810 [============================>.] - ETA: 0s - loss: 15.2278 - dense_2_loss_1: 1.7944 - dense_2_loss_2: 2.7617 - dense_2_loss_3: 2.7891 - dense_2_loss_4: 2.9013 - dense_2_loss_5: 2.7292 - dense_2_loss_6: 2.2521 - dense_2_acc_1: 0.5650 - dense_2_acc_2: 0.3686 - dense_2_acc_3: 0.3607 - dense_2_acc_4: 0.3329 - dense_2_acc_5: 0.3875 - dense_2_acc_6: 0.5143Epoch 00028: saving model to main_model_weights.h5\n",
      "2810/2810 [==============================] - 17s - loss: 15.2325 - dense_2_loss_1: 1.7949 - dense_2_loss_2: 2.7634 - dense_2_loss_3: 2.7916 - dense_2_loss_4: 2.9031 - dense_2_loss_5: 2.7278 - dense_2_loss_6: 2.2517 - dense_2_acc_1: 0.5648 - dense_2_acc_2: 0.3690 - dense_2_acc_3: 0.3601 - dense_2_acc_4: 0.3324 - dense_2_acc_5: 0.3875 - dense_2_acc_6: 0.5146 - val_loss: 35.4149 - val_dense_2_loss_1: 4.6052 - val_dense_2_loss_2: 7.3013 - val_dense_2_loss_3: 5.8297 - val_dense_2_loss_4: 7.4895 - val_dense_2_loss_5: 4.9792 - val_dense_2_loss_6: 5.2101 - val_dense_2_acc_1: 0.3509 - val_dense_2_acc_2: 0.2105 - val_dense_2_acc_3: 0.1404 - val_dense_2_acc_4: 0.1228 - val_dense_2_acc_5: 0.2632 - val_dense_2_acc_6: 0.4035\n",
      "Epoch 30/100\n",
      "2800/2810 [============================>.] - ETA: 0s - loss: 14.9761 - dense_2_loss_1: 1.7837 - dense_2_loss_2: 2.7048 - dense_2_loss_3: 2.7575 - dense_2_loss_4: 2.8671 - dense_2_loss_5: 2.6791 - dense_2_loss_6: 2.1839 - dense_2_acc_1: 0.5646 - dense_2_acc_2: 0.3807 - dense_2_acc_3: 0.3604 - dense_2_acc_4: 0.3504 - dense_2_acc_5: 0.3957 - dense_2_acc_6: 0.5150Epoch 00029: saving model to main_model_weights.h5\n",
      "2810/2810 [==============================] - 17s - loss: 14.9787 - dense_2_loss_1: 1.7863 - dense_2_loss_2: 2.7038 - dense_2_loss_3: 2.7570 - dense_2_loss_4: 2.8700 - dense_2_loss_5: 2.6774 - dense_2_loss_6: 2.1843 - dense_2_acc_1: 0.5644 - dense_2_acc_2: 0.3804 - dense_2_acc_3: 0.3609 - dense_2_acc_4: 0.3502 - dense_2_acc_5: 0.3957 - dense_2_acc_6: 0.5153 - val_loss: 34.6682 - val_dense_2_loss_1: 4.5614 - val_dense_2_loss_2: 7.2183 - val_dense_2_loss_3: 5.8583 - val_dense_2_loss_4: 7.0560 - val_dense_2_loss_5: 4.7905 - val_dense_2_loss_6: 5.1837 - val_dense_2_acc_1: 0.3684 - val_dense_2_acc_2: 0.2281 - val_dense_2_acc_3: 0.1579 - val_dense_2_acc_4: 0.0877 - val_dense_2_acc_5: 0.2281 - val_dense_2_acc_6: 0.3860\n",
      "Epoch 31/100\n",
      "2800/2810 [============================>.] - ETA: 0s - loss: 14.7309 - dense_2_loss_1: 1.7688 - dense_2_loss_2: 2.6564 - dense_2_loss_3: 2.6945 - dense_2_loss_4: 2.8302 - dense_2_loss_5: 2.6457 - dense_2_loss_6: 2.1353 - dense_2_acc_1: 0.5850 - dense_2_acc_2: 0.3900 - dense_2_acc_3: 0.3729 - dense_2_acc_4: 0.3489 - dense_2_acc_5: 0.4018 - dense_2_acc_6: 0.5207Epoch 00030: saving model to main_model_weights.h5\n",
      "2810/2810 [==============================] - 17s - loss: 14.7237 - dense_2_loss_1: 1.7710 - dense_2_loss_2: 2.6521 - dense_2_loss_3: 2.6957 - dense_2_loss_4: 2.8253 - dense_2_loss_5: 2.6459 - dense_2_loss_6: 2.1336 - dense_2_acc_1: 0.5847 - dense_2_acc_2: 0.3915 - dense_2_acc_3: 0.3726 - dense_2_acc_4: 0.3495 - dense_2_acc_5: 0.4014 - dense_2_acc_6: 0.5210 - val_loss: 34.6494 - val_dense_2_loss_1: 4.4788 - val_dense_2_loss_2: 6.8657 - val_dense_2_loss_3: 5.8200 - val_dense_2_loss_4: 7.3412 - val_dense_2_loss_5: 4.9395 - val_dense_2_loss_6: 5.2042 - val_dense_2_acc_1: 0.4211 - val_dense_2_acc_2: 0.1930 - val_dense_2_acc_3: 0.1930 - val_dense_2_acc_4: 0.1053 - val_dense_2_acc_5: 0.1754 - val_dense_2_acc_6: 0.3684\n",
      "Epoch 32/100\n",
      "2800/2810 [============================>.] - ETA: 0s - loss: 14.5482 - dense_2_loss_1: 1.7825 - dense_2_loss_2: 2.6419 - dense_2_loss_3: 2.6642 - dense_2_loss_4: 2.7680 - dense_2_loss_5: 2.5805 - dense_2_loss_6: 2.1111 - dense_2_acc_1: 0.5682 - dense_2_acc_2: 0.3800 - dense_2_acc_3: 0.3821 - dense_2_acc_4: 0.3604 - dense_2_acc_5: 0.4157 - dense_2_acc_6: 0.5236Epoch 00031: saving model to main_model_weights.h5\n",
      "2810/2810 [==============================] - 19s - loss: 14.5440 - dense_2_loss_1: 1.7805 - dense_2_loss_2: 2.6459 - dense_2_loss_3: 2.6604 - dense_2_loss_4: 2.7684 - dense_2_loss_5: 2.5785 - dense_2_loss_6: 2.1104 - dense_2_acc_1: 0.5683 - dense_2_acc_2: 0.3790 - dense_2_acc_3: 0.3833 - dense_2_acc_4: 0.3605 - dense_2_acc_5: 0.4164 - dense_2_acc_6: 0.5238 - val_loss: 35.7477 - val_dense_2_loss_1: 4.5989 - val_dense_2_loss_2: 7.0126 - val_dense_2_loss_3: 6.0615 - val_dense_2_loss_4: 7.6301 - val_dense_2_loss_5: 5.0169 - val_dense_2_loss_6: 5.4276 - val_dense_2_acc_1: 0.4211 - val_dense_2_acc_2: 0.2105 - val_dense_2_acc_3: 0.1930 - val_dense_2_acc_4: 0.1053 - val_dense_2_acc_5: 0.2982 - val_dense_2_acc_6: 0.4035\n",
      "Epoch 33/100\n",
      "2800/2810 [============================>.] - ETA: 0s - loss: 14.3173 - dense_2_loss_1: 1.7475 - dense_2_loss_2: 2.5935 - dense_2_loss_3: 2.6128 - dense_2_loss_4: 2.6859 - dense_2_loss_5: 2.5719 - dense_2_loss_6: 2.1057 - dense_2_acc_1: 0.5729 - dense_2_acc_2: 0.3964 - dense_2_acc_3: 0.3886 - dense_2_acc_4: 0.3621 - dense_2_acc_5: 0.4121 - dense_2_acc_6: 0.5200Epoch 00032: saving model to main_model_weights.h5\n",
      "2810/2810 [==============================] - 17s - loss: 14.3128 - dense_2_loss_1: 1.7496 - dense_2_loss_2: 2.5955 - dense_2_loss_3: 2.6121 - dense_2_loss_4: 2.6838 - dense_2_loss_5: 2.5686 - dense_2_loss_6: 2.1032 - dense_2_acc_1: 0.5722 - dense_2_acc_2: 0.3964 - dense_2_acc_3: 0.3886 - dense_2_acc_4: 0.3626 - dense_2_acc_5: 0.4132 - dense_2_acc_6: 0.5203 - val_loss: 34.8478 - val_dense_2_loss_1: 4.4847 - val_dense_2_loss_2: 6.9647 - val_dense_2_loss_3: 5.9748 - val_dense_2_loss_4: 7.4277 - val_dense_2_loss_5: 4.9167 - val_dense_2_loss_6: 5.0791 - val_dense_2_acc_1: 0.3860 - val_dense_2_acc_2: 0.1930 - val_dense_2_acc_3: 0.1579 - val_dense_2_acc_4: 0.1053 - val_dense_2_acc_5: 0.2982 - val_dense_2_acc_6: 0.4035\n",
      "Epoch 34/100\n",
      "2800/2810 [============================>.] - ETA: 0s - loss: 13.9972 - dense_2_loss_1: 1.7014 - dense_2_loss_2: 2.5447 - dense_2_loss_3: 2.5732 - dense_2_loss_4: 2.6525 - dense_2_loss_5: 2.4966 - dense_2_loss_6: 2.0288 - dense_2_acc_1: 0.5793 - dense_2_acc_2: 0.4036 - dense_2_acc_3: 0.3996 - dense_2_acc_4: 0.3779 - dense_2_acc_5: 0.4168 - dense_2_acc_6: 0.5336Epoch 00033: saving model to main_model_weights.h5\n",
      "2810/2810 [==============================] - 17s - loss: 14.0018 - dense_2_loss_1: 1.6987 - dense_2_loss_2: 2.5439 - dense_2_loss_3: 2.5753 - dense_2_loss_4: 2.6564 - dense_2_loss_5: 2.4981 - dense_2_loss_6: 2.0294 - dense_2_acc_1: 0.5797 - dense_2_acc_2: 0.4039 - dense_2_acc_3: 0.3989 - dense_2_acc_4: 0.3769 - dense_2_acc_5: 0.4164 - dense_2_acc_6: 0.5331 - val_loss: 34.8917 - val_dense_2_loss_1: 4.5564 - val_dense_2_loss_2: 6.9401 - val_dense_2_loss_3: 5.9543 - val_dense_2_loss_4: 7.3127 - val_dense_2_loss_5: 5.1525 - val_dense_2_loss_6: 4.9757 - val_dense_2_acc_1: 0.4035 - val_dense_2_acc_2: 0.1930 - val_dense_2_acc_3: 0.1930 - val_dense_2_acc_4: 0.1053 - val_dense_2_acc_5: 0.2281 - val_dense_2_acc_6: 0.4035\n",
      "Epoch 35/100\n",
      "2800/2810 [============================>.] - ETA: 0s - loss: 13.8646 - dense_2_loss_1: 1.6785 - dense_2_loss_2: 2.5076 - dense_2_loss_3: 2.5260 - dense_2_loss_4: 2.6381 - dense_2_loss_5: 2.5038 - dense_2_loss_6: 2.0107 - dense_2_acc_1: 0.5864 - dense_2_acc_2: 0.4139 - dense_2_acc_3: 0.4075 - dense_2_acc_4: 0.3857 - dense_2_acc_5: 0.4282 - dense_2_acc_6: 0.5482Epoch 00034: saving model to main_model_weights.h5\n",
      "2810/2810 [==============================] - 17s - loss: 13.8753 - dense_2_loss_1: 1.6804 - dense_2_loss_2: 2.5082 - dense_2_loss_3: 2.5304 - dense_2_loss_4: 2.6392 - dense_2_loss_5: 2.5071 - dense_2_loss_6: 2.0101 - dense_2_acc_1: 0.5865 - dense_2_acc_2: 0.4139 - dense_2_acc_3: 0.4068 - dense_2_acc_4: 0.3851 - dense_2_acc_5: 0.4281 - dense_2_acc_6: 0.5480 - val_loss: 35.1742 - val_dense_2_loss_1: 4.4226 - val_dense_2_loss_2: 7.2552 - val_dense_2_loss_3: 5.5878 - val_dense_2_loss_4: 7.3063 - val_dense_2_loss_5: 5.2609 - val_dense_2_loss_6: 5.3414 - val_dense_2_acc_1: 0.4737 - val_dense_2_acc_2: 0.2281 - val_dense_2_acc_3: 0.1930 - val_dense_2_acc_4: 0.1228 - val_dense_2_acc_5: 0.2105 - val_dense_2_acc_6: 0.4386\n",
      "Epoch 36/100\n",
      "2800/2810 [============================>.] - ETA: 0s - loss: 13.6911 - dense_2_loss_1: 1.6741 - dense_2_loss_2: 2.4646 - dense_2_loss_3: 2.4843 - dense_2_loss_4: 2.5880 - dense_2_loss_5: 2.4707 - dense_2_loss_6: 2.0092 - dense_2_acc_1: 0.5911 - dense_2_acc_2: 0.4189 - dense_2_acc_3: 0.4114 - dense_2_acc_4: 0.3921 - dense_2_acc_5: 0.4221 - dense_2_acc_6: 0.5386Epoch 00035: saving model to main_model_weights.h5\n",
      "2810/2810 [==============================] - 18s - loss: 13.6968 - dense_2_loss_1: 1.6750 - dense_2_loss_2: 2.4655 - dense_2_loss_3: 2.4886 - dense_2_loss_4: 2.5878 - dense_2_loss_5: 2.4723 - dense_2_loss_6: 2.0076 - dense_2_acc_1: 0.5911 - dense_2_acc_2: 0.4192 - dense_2_acc_3: 0.4114 - dense_2_acc_4: 0.3922 - dense_2_acc_5: 0.4224 - dense_2_acc_6: 0.5391 - val_loss: 35.1736 - val_dense_2_loss_1: 4.5205 - val_dense_2_loss_2: 7.3726 - val_dense_2_loss_3: 5.5251 - val_dense_2_loss_4: 7.2864 - val_dense_2_loss_5: 5.2657 - val_dense_2_loss_6: 5.2032 - val_dense_2_acc_1: 0.4035 - val_dense_2_acc_2: 0.1930 - val_dense_2_acc_3: 0.2105 - val_dense_2_acc_4: 0.1228 - val_dense_2_acc_5: 0.2632 - val_dense_2_acc_6: 0.4211\n",
      "Epoch 37/100\n",
      "2800/2810 [============================>.] - ETA: 0s - loss: 13.5909 - dense_2_loss_1: 1.6469 - dense_2_loss_2: 2.4616 - dense_2_loss_3: 2.4643 - dense_2_loss_4: 2.5631 - dense_2_loss_5: 2.4426 - dense_2_loss_6: 2.0124 - dense_2_acc_1: 0.5954 - dense_2_acc_2: 0.4129 - dense_2_acc_3: 0.4139 - dense_2_acc_4: 0.3950 - dense_2_acc_5: 0.4282 - dense_2_acc_6: 0.5350Epoch 00036: saving model to main_model_weights.h5\n",
      "2810/2810 [==============================] - 17s - loss: 13.5967 - dense_2_loss_1: 1.6468 - dense_2_loss_2: 2.4636 - dense_2_loss_3: 2.4663 - dense_2_loss_4: 2.5628 - dense_2_loss_5: 2.4468 - dense_2_loss_6: 2.0104 - dense_2_acc_1: 0.5957 - dense_2_acc_2: 0.4132 - dense_2_acc_3: 0.4142 - dense_2_acc_4: 0.3947 - dense_2_acc_5: 0.4270 - dense_2_acc_6: 0.5356 - val_loss: 35.5017 - val_dense_2_loss_1: 4.5635 - val_dense_2_loss_2: 7.0325 - val_dense_2_loss_3: 5.8693 - val_dense_2_loss_4: 7.5277 - val_dense_2_loss_5: 5.3137 - val_dense_2_loss_6: 5.1950 - val_dense_2_acc_1: 0.4211 - val_dense_2_acc_2: 0.2105 - val_dense_2_acc_3: 0.1930 - val_dense_2_acc_4: 0.1228 - val_dense_2_acc_5: 0.1930 - val_dense_2_acc_6: 0.4211\n",
      "Epoch 38/100\n",
      "2800/2810 [============================>.] - ETA: 0s - loss: 13.3470 - dense_2_loss_1: 1.6395 - dense_2_loss_2: 2.4148 - dense_2_loss_3: 2.4205 - dense_2_loss_4: 2.5270 - dense_2_loss_5: 2.3570 - dense_2_loss_6: 1.9881 - dense_2_acc_1: 0.5911 - dense_2_acc_2: 0.4279 - dense_2_acc_3: 0.4154 - dense_2_acc_4: 0.4011 - dense_2_acc_5: 0.4443 - dense_2_acc_6: 0.5354Epoch 00037: saving model to main_model_weights.h5\n",
      "2810/2810 [==============================] - 17s - loss: 13.3439 - dense_2_loss_1: 1.6359 - dense_2_loss_2: 2.4122 - dense_2_loss_3: 2.4203 - dense_2_loss_4: 2.5266 - dense_2_loss_5: 2.3601 - dense_2_loss_6: 1.9887 - dense_2_acc_1: 0.5918 - dense_2_acc_2: 0.4281 - dense_2_acc_3: 0.4153 - dense_2_acc_4: 0.4014 - dense_2_acc_5: 0.4438 - dense_2_acc_6: 0.5349 - val_loss: 34.8009 - val_dense_2_loss_1: 4.4886 - val_dense_2_loss_2: 6.8851 - val_dense_2_loss_3: 5.8657 - val_dense_2_loss_4: 7.3373 - val_dense_2_loss_5: 5.1410 - val_dense_2_loss_6: 5.0832 - val_dense_2_acc_1: 0.3860 - val_dense_2_acc_2: 0.2281 - val_dense_2_acc_3: 0.2632 - val_dense_2_acc_4: 0.0877 - val_dense_2_acc_5: 0.2281 - val_dense_2_acc_6: 0.4386\n",
      "Epoch 39/100\n",
      "2800/2810 [============================>.] - ETA: 0s - loss: 13.0751 - dense_2_loss_1: 1.6082 - dense_2_loss_2: 2.3714 - dense_2_loss_3: 2.3958 - dense_2_loss_4: 2.5131 - dense_2_loss_5: 2.2974 - dense_2_loss_6: 1.8892 - dense_2_acc_1: 0.6021 - dense_2_acc_2: 0.4371 - dense_2_acc_3: 0.4211 - dense_2_acc_4: 0.4036 - dense_2_acc_5: 0.4486 - dense_2_acc_6: 0.5536Epoch 00038: saving model to main_model_weights.h5\n",
      "2810/2810 [==============================] - 17s - loss: 13.0705 - dense_2_loss_1: 1.6072 - dense_2_loss_2: 2.3672 - dense_2_loss_3: 2.3940 - dense_2_loss_4: 2.5105 - dense_2_loss_5: 2.3033 - dense_2_loss_6: 1.8883 - dense_2_acc_1: 0.6021 - dense_2_acc_2: 0.4377 - dense_2_acc_3: 0.4214 - dense_2_acc_4: 0.4039 - dense_2_acc_5: 0.4480 - dense_2_acc_6: 0.5534 - val_loss: 35.4721 - val_dense_2_loss_1: 4.5129 - val_dense_2_loss_2: 7.2661 - val_dense_2_loss_3: 5.7871 - val_dense_2_loss_4: 7.4850 - val_dense_2_loss_5: 5.2816 - val_dense_2_loss_6: 5.1395 - val_dense_2_acc_1: 0.3860 - val_dense_2_acc_2: 0.2105 - val_dense_2_acc_3: 0.2105 - val_dense_2_acc_4: 0.1228 - val_dense_2_acc_5: 0.2632 - val_dense_2_acc_6: 0.3333\n",
      "Epoch 40/100\n",
      "2800/2810 [============================>.] - ETA: 0s - loss: 12.8223 - dense_2_loss_1: 1.5801 - dense_2_loss_2: 2.3157 - dense_2_loss_3: 2.3619 - dense_2_loss_4: 2.4300 - dense_2_loss_5: 2.2599 - dense_2_loss_6: 1.8747 - dense_2_acc_1: 0.6039 - dense_2_acc_2: 0.4418 - dense_2_acc_3: 0.4304 - dense_2_acc_4: 0.4200 - dense_2_acc_5: 0.4464 - dense_2_acc_6: 0.5589Epoch 00039: saving model to main_model_weights.h5\n",
      "2810/2810 [==============================] - 17s - loss: 12.8188 - dense_2_loss_1: 1.5791 - dense_2_loss_2: 2.3133 - dense_2_loss_3: 2.3604 - dense_2_loss_4: 2.4270 - dense_2_loss_5: 2.2600 - dense_2_loss_6: 1.8790 - dense_2_acc_1: 0.6039 - dense_2_acc_2: 0.4423 - dense_2_acc_3: 0.4313 - dense_2_acc_4: 0.4206 - dense_2_acc_5: 0.4459 - dense_2_acc_6: 0.5584 - val_loss: 36.1106 - val_dense_2_loss_1: 4.5516 - val_dense_2_loss_2: 7.1677 - val_dense_2_loss_3: 5.7294 - val_dense_2_loss_4: 7.6920 - val_dense_2_loss_5: 5.7643 - val_dense_2_loss_6: 5.2057 - val_dense_2_acc_1: 0.4035 - val_dense_2_acc_2: 0.2281 - val_dense_2_acc_3: 0.1930 - val_dense_2_acc_4: 0.1404 - val_dense_2_acc_5: 0.2632 - val_dense_2_acc_6: 0.4386\n",
      "Epoch 41/100\n",
      "2800/2810 [============================>.] - ETA: 0s - loss: 12.6384 - dense_2_loss_1: 1.5503 - dense_2_loss_2: 2.2763 - dense_2_loss_3: 2.2889 - dense_2_loss_4: 2.3715 - dense_2_loss_5: 2.2568 - dense_2_loss_6: 1.8946 - dense_2_acc_1: 0.6054 - dense_2_acc_2: 0.4407 - dense_2_acc_3: 0.4375 - dense_2_acc_4: 0.4304 - dense_2_acc_5: 0.4564 - dense_2_acc_6: 0.5493Epoch 00040: saving model to main_model_weights.h5\n",
      "2810/2810 [==============================] - 17s - loss: 12.6233 - dense_2_loss_1: 1.5502 - dense_2_loss_2: 2.2762 - dense_2_loss_3: 2.2856 - dense_2_loss_4: 2.3680 - dense_2_loss_5: 2.2518 - dense_2_loss_6: 1.8915 - dense_2_acc_1: 0.6050 - dense_2_acc_2: 0.4409 - dense_2_acc_3: 0.4388 - dense_2_acc_4: 0.4302 - dense_2_acc_5: 0.4577 - dense_2_acc_6: 0.5502 - val_loss: 36.5507 - val_dense_2_loss_1: 4.5464 - val_dense_2_loss_2: 7.0429 - val_dense_2_loss_3: 6.4138 - val_dense_2_loss_4: 7.6880 - val_dense_2_loss_5: 5.4092 - val_dense_2_loss_6: 5.4504 - val_dense_2_acc_1: 0.4211 - val_dense_2_acc_2: 0.2105 - val_dense_2_acc_3: 0.1579 - val_dense_2_acc_4: 0.0702 - val_dense_2_acc_5: 0.2632 - val_dense_2_acc_6: 0.3860\n",
      "Epoch 42/100\n",
      "2800/2810 [============================>.] - ETA: 0s - loss: 12.4675 - dense_2_loss_1: 1.5136 - dense_2_loss_2: 2.2572 - dense_2_loss_3: 2.2841 - dense_2_loss_4: 2.3379 - dense_2_loss_5: 2.2325 - dense_2_loss_6: 1.8421 - dense_2_acc_1: 0.6189 - dense_2_acc_2: 0.4489 - dense_2_acc_3: 0.4436 - dense_2_acc_4: 0.4150 - dense_2_acc_5: 0.4554 - dense_2_acc_6: 0.5700Epoch 00041: saving model to main_model_weights.h5\n",
      "2810/2810 [==============================] - 17s - loss: 12.4812 - dense_2_loss_1: 1.5162 - dense_2_loss_2: 2.2579 - dense_2_loss_3: 2.2868 - dense_2_loss_4: 2.3390 - dense_2_loss_5: 2.2385 - dense_2_loss_6: 1.8429 - dense_2_acc_1: 0.6189 - dense_2_acc_2: 0.4488 - dense_2_acc_3: 0.4438 - dense_2_acc_4: 0.4142 - dense_2_acc_5: 0.4544 - dense_2_acc_6: 0.5694 - val_loss: 35.3663 - val_dense_2_loss_1: 4.5338 - val_dense_2_loss_2: 7.1269 - val_dense_2_loss_3: 5.9435 - val_dense_2_loss_4: 7.0623 - val_dense_2_loss_5: 5.5266 - val_dense_2_loss_6: 5.1732 - val_dense_2_acc_1: 0.4035 - val_dense_2_acc_2: 0.2281 - val_dense_2_acc_3: 0.1404 - val_dense_2_acc_4: 0.1404 - val_dense_2_acc_5: 0.1404 - val_dense_2_acc_6: 0.3860\n",
      "Epoch 43/100\n",
      "2800/2810 [============================>.] - ETA: 0s - loss: 12.1516 - dense_2_loss_1: 1.5204 - dense_2_loss_2: 2.1936 - dense_2_loss_3: 2.1990 - dense_2_loss_4: 2.2564 - dense_2_loss_5: 2.2053 - dense_2_loss_6: 1.7767 - dense_2_acc_1: 0.6150 - dense_2_acc_2: 0.4539 - dense_2_acc_3: 0.4664 - dense_2_acc_4: 0.4314 - dense_2_acc_5: 0.4646 - dense_2_acc_6: 0.5675Epoch 00042: saving model to main_model_weights.h5\n",
      "2810/2810 [==============================] - 18s - loss: 12.1487 - dense_2_loss_1: 1.5221 - dense_2_loss_2: 2.1963 - dense_2_loss_3: 2.1993 - dense_2_loss_4: 2.2542 - dense_2_loss_5: 2.2024 - dense_2_loss_6: 1.7746 - dense_2_acc_1: 0.6146 - dense_2_acc_2: 0.4534 - dense_2_acc_3: 0.4662 - dense_2_acc_4: 0.4313 - dense_2_acc_5: 0.4651 - dense_2_acc_6: 0.5680 - val_loss: 35.8615 - val_dense_2_loss_1: 4.4249 - val_dense_2_loss_2: 6.9130 - val_dense_2_loss_3: 6.1647 - val_dense_2_loss_4: 7.6886 - val_dense_2_loss_5: 5.4160 - val_dense_2_loss_6: 5.2543 - val_dense_2_acc_1: 0.3860 - val_dense_2_acc_2: 0.1930 - val_dense_2_acc_3: 0.1404 - val_dense_2_acc_4: 0.1404 - val_dense_2_acc_5: 0.2632 - val_dense_2_acc_6: 0.4561\n",
      "Epoch 44/100\n",
      "2800/2810 [============================>.] - ETA: 0s - loss: 12.0315 - dense_2_loss_1: 1.4681 - dense_2_loss_2: 2.1559 - dense_2_loss_3: 2.1741 - dense_2_loss_4: 2.2737 - dense_2_loss_5: 2.1801 - dense_2_loss_6: 1.7796 - dense_2_acc_1: 0.6232 - dense_2_acc_2: 0.4746 - dense_2_acc_3: 0.4661 - dense_2_acc_4: 0.4389 - dense_2_acc_5: 0.4668 - dense_2_acc_6: 0.5854Epoch 00043: saving model to main_model_weights.h5\n",
      "2810/2810 [==============================] - 18s - loss: 12.0222 - dense_2_loss_1: 1.4676 - dense_2_loss_2: 2.1563 - dense_2_loss_3: 2.1741 - dense_2_loss_4: 2.2699 - dense_2_loss_5: 2.1779 - dense_2_loss_6: 1.7765 - dense_2_acc_1: 0.6238 - dense_2_acc_2: 0.4740 - dense_2_acc_3: 0.4662 - dense_2_acc_4: 0.4395 - dense_2_acc_5: 0.4665 - dense_2_acc_6: 0.5861 - val_loss: 36.6092 - val_dense_2_loss_1: 4.5491 - val_dense_2_loss_2: 7.0490 - val_dense_2_loss_3: 6.3712 - val_dense_2_loss_4: 7.7166 - val_dense_2_loss_5: 5.7669 - val_dense_2_loss_6: 5.1564 - val_dense_2_acc_1: 0.4211 - val_dense_2_acc_2: 0.2105 - val_dense_2_acc_3: 0.1404 - val_dense_2_acc_4: 0.1404 - val_dense_2_acc_5: 0.2281 - val_dense_2_acc_6: 0.4211\n",
      "Epoch 45/100\n",
      "2800/2810 [============================>.] - ETA: 0s - loss: 11.6969 - dense_2_loss_1: 1.4922 - dense_2_loss_2: 2.1286 - dense_2_loss_3: 2.0841 - dense_2_loss_4: 2.1798 - dense_2_loss_5: 2.1091 - dense_2_loss_6: 1.7030 - dense_2_acc_1: 0.6218 - dense_2_acc_2: 0.4729 - dense_2_acc_3: 0.4829 - dense_2_acc_4: 0.4482 - dense_2_acc_5: 0.4929 - dense_2_acc_6: 0.5900Epoch 00044: saving model to main_model_weights.h5\n",
      "2810/2810 [==============================] - 17s - loss: 11.6976 - dense_2_loss_1: 1.4932 - dense_2_loss_2: 2.1296 - dense_2_loss_3: 2.0849 - dense_2_loss_4: 2.1781 - dense_2_loss_5: 2.1087 - dense_2_loss_6: 1.7030 - dense_2_acc_1: 0.6206 - dense_2_acc_2: 0.4726 - dense_2_acc_3: 0.4829 - dense_2_acc_4: 0.4480 - dense_2_acc_5: 0.4925 - dense_2_acc_6: 0.5897 - val_loss: 36.4045 - val_dense_2_loss_1: 4.5385 - val_dense_2_loss_2: 7.1547 - val_dense_2_loss_3: 6.3336 - val_dense_2_loss_4: 7.6180 - val_dense_2_loss_5: 5.4635 - val_dense_2_loss_6: 5.2962 - val_dense_2_acc_1: 0.4211 - val_dense_2_acc_2: 0.2105 - val_dense_2_acc_3: 0.1579 - val_dense_2_acc_4: 0.1404 - val_dense_2_acc_5: 0.2982 - val_dense_2_acc_6: 0.4035\n",
      "Epoch 46/100\n",
      "2800/2810 [============================>.] - ETA: 0s - loss: 11.6722 - dense_2_loss_1: 1.4700 - dense_2_loss_2: 2.1059 - dense_2_loss_3: 2.1116 - dense_2_loss_4: 2.1961 - dense_2_loss_5: 2.0774 - dense_2_loss_6: 1.7112 - dense_2_acc_1: 0.6293 - dense_2_acc_2: 0.4893 - dense_2_acc_3: 0.4779 - dense_2_acc_4: 0.4532 - dense_2_acc_5: 0.4854 - dense_2_acc_6: 0.5904Epoch 00045: saving model to main_model_weights.h5\n",
      "2810/2810 [==============================] - 18s - loss: 11.6639 - dense_2_loss_1: 1.4672 - dense_2_loss_2: 2.1037 - dense_2_loss_3: 2.1086 - dense_2_loss_4: 2.1969 - dense_2_loss_5: 2.0765 - dense_2_loss_6: 1.7109 - dense_2_acc_1: 0.6299 - dense_2_acc_2: 0.4904 - dense_2_acc_3: 0.4786 - dense_2_acc_4: 0.4534 - dense_2_acc_5: 0.4851 - dense_2_acc_6: 0.5907 - val_loss: 36.4729 - val_dense_2_loss_1: 4.5122 - val_dense_2_loss_2: 7.2498 - val_dense_2_loss_3: 5.8979 - val_dense_2_loss_4: 7.7237 - val_dense_2_loss_5: 5.6176 - val_dense_2_loss_6: 5.4717 - val_dense_2_acc_1: 0.3684 - val_dense_2_acc_2: 0.2105 - val_dense_2_acc_3: 0.1754 - val_dense_2_acc_4: 0.1754 - val_dense_2_acc_5: 0.1930 - val_dense_2_acc_6: 0.3684\n",
      "Epoch 47/100\n",
      "2800/2810 [============================>.] - ETA: 0s - loss: 11.3746 - dense_2_loss_1: 1.4047 - dense_2_loss_2: 2.0844 - dense_2_loss_3: 2.0720 - dense_2_loss_4: 2.1156 - dense_2_loss_5: 2.0250 - dense_2_loss_6: 1.6730 - dense_2_acc_1: 0.6436 - dense_2_acc_2: 0.4886 - dense_2_acc_3: 0.4889 - dense_2_acc_4: 0.4689 - dense_2_acc_5: 0.5100 - dense_2_acc_6: 0.5914Epoch 00046: saving model to main_model_weights.h5\n",
      "2810/2810 [==============================] - 17s - loss: 11.3697 - dense_2_loss_1: 1.4037 - dense_2_loss_2: 2.0866 - dense_2_loss_3: 2.0696 - dense_2_loss_4: 2.1133 - dense_2_loss_5: 2.0260 - dense_2_loss_6: 1.6705 - dense_2_acc_1: 0.6441 - dense_2_acc_2: 0.4886 - dense_2_acc_3: 0.4897 - dense_2_acc_4: 0.4694 - dense_2_acc_5: 0.5093 - dense_2_acc_6: 0.5918 - val_loss: 35.7160 - val_dense_2_loss_1: 4.5137 - val_dense_2_loss_2: 6.8955 - val_dense_2_loss_3: 6.0626 - val_dense_2_loss_4: 7.5530 - val_dense_2_loss_5: 5.3535 - val_dense_2_loss_6: 5.3377 - val_dense_2_acc_1: 0.4386 - val_dense_2_acc_2: 0.2456 - val_dense_2_acc_3: 0.1930 - val_dense_2_acc_4: 0.1053 - val_dense_2_acc_5: 0.1930 - val_dense_2_acc_6: 0.4035\n",
      "Epoch 48/100\n",
      "2800/2810 [============================>.] - ETA: 0s - loss: 11.3484 - dense_2_loss_1: 1.4109 - dense_2_loss_2: 2.0404 - dense_2_loss_3: 2.0794 - dense_2_loss_4: 2.1223 - dense_2_loss_5: 2.0448 - dense_2_loss_6: 1.6507 - dense_2_acc_1: 0.6364 - dense_2_acc_2: 0.4868 - dense_2_acc_3: 0.4861 - dense_2_acc_4: 0.4668 - dense_2_acc_5: 0.4950 - dense_2_acc_6: 0.5918Epoch 00047: saving model to main_model_weights.h5\n",
      "2810/2810 [==============================] - 17s - loss: 11.3630 - dense_2_loss_1: 1.4138 - dense_2_loss_2: 2.0429 - dense_2_loss_3: 2.0801 - dense_2_loss_4: 2.1248 - dense_2_loss_5: 2.0449 - dense_2_loss_6: 1.6565 - dense_2_acc_1: 0.6363 - dense_2_acc_2: 0.4861 - dense_2_acc_3: 0.4854 - dense_2_acc_4: 0.4658 - dense_2_acc_5: 0.4943 - dense_2_acc_6: 0.5907 - val_loss: 37.3577 - val_dense_2_loss_1: 4.5988 - val_dense_2_loss_2: 7.0068 - val_dense_2_loss_3: 6.3890 - val_dense_2_loss_4: 8.0311 - val_dense_2_loss_5: 5.6679 - val_dense_2_loss_6: 5.6641 - val_dense_2_acc_1: 0.4386 - val_dense_2_acc_2: 0.2105 - val_dense_2_acc_3: 0.1404 - val_dense_2_acc_4: 0.1053 - val_dense_2_acc_5: 0.2632 - val_dense_2_acc_6: 0.4035\n",
      "Epoch 49/100\n",
      "2800/2810 [============================>.] - ETA: 0s - loss: 11.1701 - dense_2_loss_1: 1.4035 - dense_2_loss_2: 2.0101 - dense_2_loss_3: 2.0272 - dense_2_loss_4: 2.0944 - dense_2_loss_5: 2.0037 - dense_2_loss_6: 1.6312 - dense_2_acc_1: 0.6321 - dense_2_acc_2: 0.4996 - dense_2_acc_3: 0.4968 - dense_2_acc_4: 0.4761 - dense_2_acc_5: 0.4982 - dense_2_acc_6: 0.6150Epoch 00048: saving model to main_model_weights.h5\n",
      "2810/2810 [==============================] - 17s - loss: 11.1869 - dense_2_loss_1: 1.4058 - dense_2_loss_2: 2.0128 - dense_2_loss_3: 2.0281 - dense_2_loss_4: 2.0998 - dense_2_loss_5: 2.0062 - dense_2_loss_6: 1.6342 - dense_2_acc_1: 0.6320 - dense_2_acc_2: 0.4986 - dense_2_acc_3: 0.4964 - dense_2_acc_4: 0.4754 - dense_2_acc_5: 0.4979 - dense_2_acc_6: 0.6149 - val_loss: 36.8413 - val_dense_2_loss_1: 4.4846 - val_dense_2_loss_2: 7.1988 - val_dense_2_loss_3: 6.2931 - val_dense_2_loss_4: 7.8732 - val_dense_2_loss_5: 5.5950 - val_dense_2_loss_6: 5.3966 - val_dense_2_acc_1: 0.4035 - val_dense_2_acc_2: 0.1930 - val_dense_2_acc_3: 0.1579 - val_dense_2_acc_4: 0.0877 - val_dense_2_acc_5: 0.1930 - val_dense_2_acc_6: 0.4035\n",
      "Epoch 50/100\n",
      "2800/2810 [============================>.] - ETA: 0s - loss: 10.8926 - dense_2_loss_1: 1.3832 - dense_2_loss_2: 1.9477 - dense_2_loss_3: 1.9790 - dense_2_loss_4: 2.0428 - dense_2_loss_5: 1.9613 - dense_2_loss_6: 1.5786 - dense_2_acc_1: 0.6493 - dense_2_acc_2: 0.5093 - dense_2_acc_3: 0.5032 - dense_2_acc_4: 0.4861 - dense_2_acc_5: 0.5225 - dense_2_acc_6: 0.6054Epoch 00049: saving model to main_model_weights.h5\n",
      "2810/2810 [==============================] - 17s - loss: 10.8936 - dense_2_loss_1: 1.3861 - dense_2_loss_2: 1.9497 - dense_2_loss_3: 1.9778 - dense_2_loss_4: 2.0443 - dense_2_loss_5: 1.9576 - dense_2_loss_6: 1.5781 - dense_2_acc_1: 0.6480 - dense_2_acc_2: 0.5082 - dense_2_acc_3: 0.5039 - dense_2_acc_4: 0.4868 - dense_2_acc_5: 0.5235 - dense_2_acc_6: 0.6053 - val_loss: 37.0731 - val_dense_2_loss_1: 4.4314 - val_dense_2_loss_2: 7.3005 - val_dense_2_loss_3: 5.9970 - val_dense_2_loss_4: 8.1341 - val_dense_2_loss_5: 5.7206 - val_dense_2_loss_6: 5.4895 - val_dense_2_acc_1: 0.4211 - val_dense_2_acc_2: 0.2281 - val_dense_2_acc_3: 0.1228 - val_dense_2_acc_4: 0.1228 - val_dense_2_acc_5: 0.2632 - val_dense_2_acc_6: 0.3860\n",
      "Epoch 51/100\n",
      "2800/2810 [============================>.] - ETA: 0s - loss: 10.7848 - dense_2_loss_1: 1.3704 - dense_2_loss_2: 1.9728 - dense_2_loss_3: 1.9782 - dense_2_loss_4: 1.9419 - dense_2_loss_5: 1.9208 - dense_2_loss_6: 1.6008 - dense_2_acc_1: 0.6518 - dense_2_acc_2: 0.5107 - dense_2_acc_3: 0.4964 - dense_2_acc_4: 0.5093 - dense_2_acc_5: 0.5129 - dense_2_acc_6: 0.6189Epoch 00050: saving model to main_model_weights.h5\n",
      "2810/2810 [==============================] - 17s - loss: 10.7818 - dense_2_loss_1: 1.3730 - dense_2_loss_2: 1.9731 - dense_2_loss_3: 1.9762 - dense_2_loss_4: 1.9429 - dense_2_loss_5: 1.9186 - dense_2_loss_6: 1.5980 - dense_2_acc_1: 0.6516 - dense_2_acc_2: 0.5107 - dense_2_acc_3: 0.4972 - dense_2_acc_4: 0.5093 - dense_2_acc_5: 0.5132 - dense_2_acc_6: 0.6192 - val_loss: 37.2973 - val_dense_2_loss_1: 4.4989 - val_dense_2_loss_2: 7.1161 - val_dense_2_loss_3: 5.9539 - val_dense_2_loss_4: 7.9745 - val_dense_2_loss_5: 6.0782 - val_dense_2_loss_6: 5.6758 - val_dense_2_acc_1: 0.4211 - val_dense_2_acc_2: 0.1930 - val_dense_2_acc_3: 0.1404 - val_dense_2_acc_4: 0.0877 - val_dense_2_acc_5: 0.2105 - val_dense_2_acc_6: 0.3509\n",
      "Epoch 52/100\n",
      "2800/2810 [============================>.] - ETA: 0s - loss: 10.5885 - dense_2_loss_1: 1.3661 - dense_2_loss_2: 1.9181 - dense_2_loss_3: 1.9094 - dense_2_loss_4: 1.9437 - dense_2_loss_5: 1.8883 - dense_2_loss_6: 1.5629 - dense_2_acc_1: 0.6482 - dense_2_acc_2: 0.5104 - dense_2_acc_3: 0.5107 - dense_2_acc_4: 0.4961 - dense_2_acc_5: 0.5325 - dense_2_acc_6: 0.6154Epoch 00051: saving model to main_model_weights.h5\n",
      "2810/2810 [==============================] - 17s - loss: 10.5860 - dense_2_loss_1: 1.3652 - dense_2_loss_2: 1.9191 - dense_2_loss_3: 1.9077 - dense_2_loss_4: 1.9461 - dense_2_loss_5: 1.8877 - dense_2_loss_6: 1.5602 - dense_2_acc_1: 0.6488 - dense_2_acc_2: 0.5100 - dense_2_acc_3: 0.5110 - dense_2_acc_4: 0.4954 - dense_2_acc_5: 0.5327 - dense_2_acc_6: 0.6160 - val_loss: 37.2135 - val_dense_2_loss_1: 4.4256 - val_dense_2_loss_2: 7.1777 - val_dense_2_loss_3: 6.2496 - val_dense_2_loss_4: 7.8477 - val_dense_2_loss_5: 5.9242 - val_dense_2_loss_6: 5.5886 - val_dense_2_acc_1: 0.4386 - val_dense_2_acc_2: 0.2105 - val_dense_2_acc_3: 0.1404 - val_dense_2_acc_4: 0.1228 - val_dense_2_acc_5: 0.2281 - val_dense_2_acc_6: 0.4035\n",
      "Epoch 53/100\n",
      "2800/2810 [============================>.] - ETA: 0s - loss: 10.3406 - dense_2_loss_1: 1.3554 - dense_2_loss_2: 1.8533 - dense_2_loss_3: 1.8825 - dense_2_loss_4: 1.9147 - dense_2_loss_5: 1.8195 - dense_2_loss_6: 1.5152 - dense_2_acc_1: 0.6439 - dense_2_acc_2: 0.5279 - dense_2_acc_3: 0.5189 - dense_2_acc_4: 0.5050 - dense_2_acc_5: 0.5289 - dense_2_acc_6: 0.6296Epoch 00052: saving model to main_model_weights.h5\n",
      "2810/2810 [==============================] - 18s - loss: 10.3359 - dense_2_loss_1: 1.3540 - dense_2_loss_2: 1.8539 - dense_2_loss_3: 1.8845 - dense_2_loss_4: 1.9149 - dense_2_loss_5: 1.8167 - dense_2_loss_6: 1.5118 - dense_2_acc_1: 0.6441 - dense_2_acc_2: 0.5278 - dense_2_acc_3: 0.5192 - dense_2_acc_4: 0.5057 - dense_2_acc_5: 0.5299 - dense_2_acc_6: 0.6302 - val_loss: 37.2393 - val_dense_2_loss_1: 4.5161 - val_dense_2_loss_2: 7.0793 - val_dense_2_loss_3: 6.2665 - val_dense_2_loss_4: 8.0994 - val_dense_2_loss_5: 5.7427 - val_dense_2_loss_6: 5.5354 - val_dense_2_acc_1: 0.4211 - val_dense_2_acc_2: 0.1930 - val_dense_2_acc_3: 0.1579 - val_dense_2_acc_4: 0.1404 - val_dense_2_acc_5: 0.2456 - val_dense_2_acc_6: 0.4211\n",
      "Epoch 54/100\n",
      "2800/2810 [============================>.] - ETA: 0s - loss: 10.3933 - dense_2_loss_1: 1.3403 - dense_2_loss_2: 1.8952 - dense_2_loss_3: 1.8359 - dense_2_loss_4: 1.9260 - dense_2_loss_5: 1.8664 - dense_2_loss_6: 1.5297 - dense_2_acc_1: 0.6468 - dense_2_acc_2: 0.5264 - dense_2_acc_3: 0.5196 - dense_2_acc_4: 0.5071 - dense_2_acc_5: 0.5400 - dense_2_acc_6: 0.6214Epoch 00053: saving model to main_model_weights.h5\n",
      "2810/2810 [==============================] - 18s - loss: 10.3992 - dense_2_loss_1: 1.3384 - dense_2_loss_2: 1.8967 - dense_2_loss_3: 1.8391 - dense_2_loss_4: 1.9291 - dense_2_loss_5: 1.8678 - dense_2_loss_6: 1.5281 - dense_2_acc_1: 0.6466 - dense_2_acc_2: 0.5263 - dense_2_acc_3: 0.5189 - dense_2_acc_4: 0.5068 - dense_2_acc_5: 0.5399 - dense_2_acc_6: 0.6217 - val_loss: 37.3887 - val_dense_2_loss_1: 4.5681 - val_dense_2_loss_2: 6.8476 - val_dense_2_loss_3: 6.2391 - val_dense_2_loss_4: 8.3110 - val_dense_2_loss_5: 5.7269 - val_dense_2_loss_6: 5.6959 - val_dense_2_acc_1: 0.4386 - val_dense_2_acc_2: 0.2632 - val_dense_2_acc_3: 0.1754 - val_dense_2_acc_4: 0.1053 - val_dense_2_acc_5: 0.2105 - val_dense_2_acc_6: 0.4035\n",
      "Epoch 55/100\n",
      "2800/2810 [============================>.] - ETA: 0s - loss: 10.1896 - dense_2_loss_1: 1.3188 - dense_2_loss_2: 1.8381 - dense_2_loss_3: 1.8263 - dense_2_loss_4: 1.8640 - dense_2_loss_5: 1.8026 - dense_2_loss_6: 1.5398 - dense_2_acc_1: 0.6636 - dense_2_acc_2: 0.5446 - dense_2_acc_3: 0.5211 - dense_2_acc_4: 0.5054 - dense_2_acc_5: 0.5268 - dense_2_acc_6: 0.6246Epoch 00054: saving model to main_model_weights.h5\n",
      "2810/2810 [==============================] - 17s - loss: 10.2088 - dense_2_loss_1: 1.3232 - dense_2_loss_2: 1.8401 - dense_2_loss_3: 1.8276 - dense_2_loss_4: 1.8684 - dense_2_loss_5: 1.8049 - dense_2_loss_6: 1.5446 - dense_2_acc_1: 0.6626 - dense_2_acc_2: 0.5441 - dense_2_acc_3: 0.5206 - dense_2_acc_4: 0.5046 - dense_2_acc_5: 0.5263 - dense_2_acc_6: 0.6238 - val_loss: 37.3847 - val_dense_2_loss_1: 4.4509 - val_dense_2_loss_2: 7.1016 - val_dense_2_loss_3: 6.1830 - val_dense_2_loss_4: 7.9438 - val_dense_2_loss_5: 6.1663 - val_dense_2_loss_6: 5.5391 - val_dense_2_acc_1: 0.4561 - val_dense_2_acc_2: 0.2632 - val_dense_2_acc_3: 0.1930 - val_dense_2_acc_4: 0.1053 - val_dense_2_acc_5: 0.2281 - val_dense_2_acc_6: 0.4035\n",
      "Epoch 56/100\n",
      "2800/2810 [============================>.] - ETA: 0s - loss: 9.9577 - dense_2_loss_1: 1.2955 - dense_2_loss_2: 1.7939 - dense_2_loss_3: 1.8063 - dense_2_loss_4: 1.8549 - dense_2_loss_5: 1.7831 - dense_2_loss_6: 1.4239 - dense_2_acc_1: 0.6675 - dense_2_acc_2: 0.5382 - dense_2_acc_3: 0.5457 - dense_2_acc_4: 0.5339 - dense_2_acc_5: 0.5361 - dense_2_acc_6: 0.6411Epoch 00055: saving model to main_model_weights.h5\n",
      "2810/2810 [==============================] - 18s - loss: 9.9470 - dense_2_loss_1: 1.2945 - dense_2_loss_2: 1.7920 - dense_2_loss_3: 1.8044 - dense_2_loss_4: 1.8536 - dense_2_loss_5: 1.7817 - dense_2_loss_6: 1.4208 - dense_2_acc_1: 0.6680 - dense_2_acc_2: 0.5391 - dense_2_acc_3: 0.5463 - dense_2_acc_4: 0.5338 - dense_2_acc_5: 0.5367 - dense_2_acc_6: 0.6420 - val_loss: 38.2211 - val_dense_2_loss_1: 4.4310 - val_dense_2_loss_2: 7.1659 - val_dense_2_loss_3: 6.1940 - val_dense_2_loss_4: 8.5004 - val_dense_2_loss_5: 6.2118 - val_dense_2_loss_6: 5.7178 - val_dense_2_acc_1: 0.4737 - val_dense_2_acc_2: 0.2105 - val_dense_2_acc_3: 0.1754 - val_dense_2_acc_4: 0.1228 - val_dense_2_acc_5: 0.2281 - val_dense_2_acc_6: 0.3860\n",
      "Epoch 57/100\n",
      "2800/2810 [============================>.] - ETA: 0s - loss: 9.8818 - dense_2_loss_1: 1.2970 - dense_2_loss_2: 1.7799 - dense_2_loss_3: 1.7660 - dense_2_loss_4: 1.7808 - dense_2_loss_5: 1.7849 - dense_2_loss_6: 1.4731 - dense_2_acc_1: 0.6557 - dense_2_acc_2: 0.5404 - dense_2_acc_3: 0.5475 - dense_2_acc_4: 0.5396 - dense_2_acc_5: 0.5446 - dense_2_acc_6: 0.6386Epoch 00056: saving model to main_model_weights.h5\n",
      "2810/2810 [==============================] - 17s - loss: 9.8787 - dense_2_loss_1: 1.2958 - dense_2_loss_2: 1.7789 - dense_2_loss_3: 1.7655 - dense_2_loss_4: 1.7820 - dense_2_loss_5: 1.7835 - dense_2_loss_6: 1.4731 - dense_2_acc_1: 0.6559 - dense_2_acc_2: 0.5406 - dense_2_acc_3: 0.5473 - dense_2_acc_4: 0.5391 - dense_2_acc_5: 0.5448 - dense_2_acc_6: 0.6391 - val_loss: 38.1358 - val_dense_2_loss_1: 4.4531 - val_dense_2_loss_2: 7.3162 - val_dense_2_loss_3: 6.7244 - val_dense_2_loss_4: 8.3731 - val_dense_2_loss_5: 5.6302 - val_dense_2_loss_6: 5.6388 - val_dense_2_acc_1: 0.4561 - val_dense_2_acc_2: 0.2105 - val_dense_2_acc_3: 0.1404 - val_dense_2_acc_4: 0.1404 - val_dense_2_acc_5: 0.2281 - val_dense_2_acc_6: 0.4211\n",
      "Epoch 58/100\n",
      "2800/2810 [============================>.] - ETA: 0s - loss: 9.7530 - dense_2_loss_1: 1.3001 - dense_2_loss_2: 1.7525 - dense_2_loss_3: 1.7603 - dense_2_loss_4: 1.7873 - dense_2_loss_5: 1.7190 - dense_2_loss_6: 1.4339 - dense_2_acc_1: 0.6582 - dense_2_acc_2: 0.5521 - dense_2_acc_3: 0.5486 - dense_2_acc_4: 0.5411 - dense_2_acc_5: 0.5643 - dense_2_acc_6: 0.6457Epoch 00057: saving model to main_model_weights.h5\n",
      "2810/2810 [==============================] - 17s - loss: 9.7428 - dense_2_loss_1: 1.2972 - dense_2_loss_2: 1.7508 - dense_2_loss_3: 1.7580 - dense_2_loss_4: 1.7843 - dense_2_loss_5: 1.7169 - dense_2_loss_6: 1.4356 - dense_2_acc_1: 0.6584 - dense_2_acc_2: 0.5527 - dense_2_acc_3: 0.5488 - dense_2_acc_4: 0.5416 - dense_2_acc_5: 0.5644 - dense_2_acc_6: 0.6448 - val_loss: 37.8977 - val_dense_2_loss_1: 4.4711 - val_dense_2_loss_2: 7.3662 - val_dense_2_loss_3: 6.5597 - val_dense_2_loss_4: 7.8727 - val_dense_2_loss_5: 5.9847 - val_dense_2_loss_6: 5.6434 - val_dense_2_acc_1: 0.4211 - val_dense_2_acc_2: 0.2281 - val_dense_2_acc_3: 0.1404 - val_dense_2_acc_4: 0.1754 - val_dense_2_acc_5: 0.2105 - val_dense_2_acc_6: 0.3684\n",
      "Epoch 59/100\n",
      "2800/2810 [============================>.] - ETA: 0s - loss: 9.4171 - dense_2_loss_1: 1.2706 - dense_2_loss_2: 1.6976 - dense_2_loss_3: 1.6779 - dense_2_loss_4: 1.7136 - dense_2_loss_5: 1.6477 - dense_2_loss_6: 1.4097 - dense_2_acc_1: 0.6768 - dense_2_acc_2: 0.5729 - dense_2_acc_3: 0.5614 - dense_2_acc_4: 0.5446 - dense_2_acc_5: 0.5754 - dense_2_acc_6: 0.6518Epoch 00058: saving model to main_model_weights.h5\n",
      "2810/2810 [==============================] - 17s - loss: 9.4256 - dense_2_loss_1: 1.2676 - dense_2_loss_2: 1.6973 - dense_2_loss_3: 1.6821 - dense_2_loss_4: 1.7181 - dense_2_loss_5: 1.6499 - dense_2_loss_6: 1.4105 - dense_2_acc_1: 0.6776 - dense_2_acc_2: 0.5730 - dense_2_acc_3: 0.5609 - dense_2_acc_4: 0.5441 - dense_2_acc_5: 0.5747 - dense_2_acc_6: 0.6512 - val_loss: 36.6689 - val_dense_2_loss_1: 4.3510 - val_dense_2_loss_2: 7.4054 - val_dense_2_loss_3: 6.2422 - val_dense_2_loss_4: 7.5910 - val_dense_2_loss_5: 5.5927 - val_dense_2_loss_6: 5.4866 - val_dense_2_acc_1: 0.4737 - val_dense_2_acc_2: 0.2105 - val_dense_2_acc_3: 0.1053 - val_dense_2_acc_4: 0.1930 - val_dense_2_acc_5: 0.2456 - val_dense_2_acc_6: 0.4561\n",
      "Epoch 60/100\n",
      "2800/2810 [============================>.] - ETA: 0s - loss: 9.3614 - dense_2_loss_1: 1.2695 - dense_2_loss_2: 1.6830 - dense_2_loss_3: 1.7032 - dense_2_loss_4: 1.7130 - dense_2_loss_5: 1.6327 - dense_2_loss_6: 1.3601 - dense_2_acc_1: 0.6604 - dense_2_acc_2: 0.5714 - dense_2_acc_3: 0.5600 - dense_2_acc_4: 0.5432 - dense_2_acc_5: 0.5771 - dense_2_acc_6: 0.6618Epoch 00059: saving model to main_model_weights.h5\n",
      "2810/2810 [==============================] - 17s - loss: 9.3648 - dense_2_loss_1: 1.2689 - dense_2_loss_2: 1.6825 - dense_2_loss_3: 1.7056 - dense_2_loss_4: 1.7137 - dense_2_loss_5: 1.6338 - dense_2_loss_6: 1.3602 - dense_2_acc_1: 0.6605 - dense_2_acc_2: 0.5715 - dense_2_acc_3: 0.5594 - dense_2_acc_4: 0.5431 - dense_2_acc_5: 0.5765 - dense_2_acc_6: 0.6619 - val_loss: 37.6649 - val_dense_2_loss_1: 4.4792 - val_dense_2_loss_2: 7.0506 - val_dense_2_loss_3: 6.4935 - val_dense_2_loss_4: 8.1831 - val_dense_2_loss_5: 5.8823 - val_dense_2_loss_6: 5.5763 - val_dense_2_acc_1: 0.4561 - val_dense_2_acc_2: 0.2456 - val_dense_2_acc_3: 0.1579 - val_dense_2_acc_4: 0.1053 - val_dense_2_acc_5: 0.1930 - val_dense_2_acc_6: 0.4035\n",
      "Epoch 61/100\n",
      "2800/2810 [============================>.] - ETA: 0s - loss: 9.1670 - dense_2_loss_1: 1.2214 - dense_2_loss_2: 1.6381 - dense_2_loss_3: 1.6190 - dense_2_loss_4: 1.6373 - dense_2_loss_5: 1.6671 - dense_2_loss_6: 1.3840 - dense_2_acc_1: 0.6743 - dense_2_acc_2: 0.5711 - dense_2_acc_3: 0.5811 - dense_2_acc_4: 0.5693 - dense_2_acc_5: 0.5757 - dense_2_acc_6: 0.6557Epoch 00060: saving model to main_model_weights.h5\n",
      "2810/2810 [==============================] - 17s - loss: 9.1482 - dense_2_loss_1: 1.2195 - dense_2_loss_2: 1.6352 - dense_2_loss_3: 1.6163 - dense_2_loss_4: 1.6344 - dense_2_loss_5: 1.6621 - dense_2_loss_6: 1.3807 - dense_2_acc_1: 0.6747 - dense_2_acc_2: 0.5715 - dense_2_acc_3: 0.5815 - dense_2_acc_4: 0.5698 - dense_2_acc_5: 0.5772 - dense_2_acc_6: 0.6566 - val_loss: 36.7091 - val_dense_2_loss_1: 4.4355 - val_dense_2_loss_2: 7.1120 - val_dense_2_loss_3: 6.3992 - val_dense_2_loss_4: 7.8097 - val_dense_2_loss_5: 5.4825 - val_dense_2_loss_6: 5.4703 - val_dense_2_acc_1: 0.4561 - val_dense_2_acc_2: 0.2281 - val_dense_2_acc_3: 0.1754 - val_dense_2_acc_4: 0.1228 - val_dense_2_acc_5: 0.2105 - val_dense_2_acc_6: 0.4211\n",
      "Epoch 62/100\n",
      "2800/2810 [============================>.] - ETA: 0s - loss: 9.0187 - dense_2_loss_1: 1.2236 - dense_2_loss_2: 1.5812 - dense_2_loss_3: 1.6307 - dense_2_loss_4: 1.6220 - dense_2_loss_5: 1.6245 - dense_2_loss_6: 1.3367 - dense_2_acc_1: 0.6729 - dense_2_acc_2: 0.5854 - dense_2_acc_3: 0.5707 - dense_2_acc_4: 0.5793 - dense_2_acc_5: 0.5800 - dense_2_acc_6: 0.6625Epoch 00061: saving model to main_model_weights.h5\n",
      "2810/2810 [==============================] - 17s - loss: 9.0104 - dense_2_loss_1: 1.2213 - dense_2_loss_2: 1.5804 - dense_2_loss_3: 1.6285 - dense_2_loss_4: 1.6207 - dense_2_loss_5: 1.6224 - dense_2_loss_6: 1.3370 - dense_2_acc_1: 0.6733 - dense_2_acc_2: 0.5861 - dense_2_acc_3: 0.5712 - dense_2_acc_4: 0.5797 - dense_2_acc_5: 0.5801 - dense_2_acc_6: 0.6619 - val_loss: 37.4729 - val_dense_2_loss_1: 4.3764 - val_dense_2_loss_2: 7.4028 - val_dense_2_loss_3: 6.2789 - val_dense_2_loss_4: 8.1991 - val_dense_2_loss_5: 5.7540 - val_dense_2_loss_6: 5.4617 - val_dense_2_acc_1: 0.4912 - val_dense_2_acc_2: 0.2281 - val_dense_2_acc_3: 0.1404 - val_dense_2_acc_4: 0.1404 - val_dense_2_acc_5: 0.2456 - val_dense_2_acc_6: 0.4035\n",
      "Epoch 63/100\n",
      "2800/2810 [============================>.] - ETA: 0s - loss: 9.1500 - dense_2_loss_1: 1.2648 - dense_2_loss_2: 1.5971 - dense_2_loss_3: 1.6503 - dense_2_loss_4: 1.6343 - dense_2_loss_5: 1.6250 - dense_2_loss_6: 1.3785 - dense_2_acc_1: 0.6689 - dense_2_acc_2: 0.5921 - dense_2_acc_3: 0.5761 - dense_2_acc_4: 0.5696 - dense_2_acc_5: 0.5793 - dense_2_acc_6: 0.6589Epoch 00062: saving model to main_model_weights.h5\n",
      "2810/2810 [==============================] - 17s - loss: 9.1429 - dense_2_loss_1: 1.2625 - dense_2_loss_2: 1.5968 - dense_2_loss_3: 1.6494 - dense_2_loss_4: 1.6325 - dense_2_loss_5: 1.6256 - dense_2_loss_6: 1.3761 - dense_2_acc_1: 0.6698 - dense_2_acc_2: 0.5922 - dense_2_acc_3: 0.5762 - dense_2_acc_4: 0.5698 - dense_2_acc_5: 0.5797 - dense_2_acc_6: 0.6598 - val_loss: 37.3626 - val_dense_2_loss_1: 4.4110 - val_dense_2_loss_2: 7.2149 - val_dense_2_loss_3: 6.5749 - val_dense_2_loss_4: 8.0303 - val_dense_2_loss_5: 5.5181 - val_dense_2_loss_6: 5.6133 - val_dense_2_acc_1: 0.4386 - val_dense_2_acc_2: 0.2632 - val_dense_2_acc_3: 0.1754 - val_dense_2_acc_4: 0.1228 - val_dense_2_acc_5: 0.2456 - val_dense_2_acc_6: 0.2982\n",
      "Epoch 64/100\n",
      "2800/2810 [============================>.] - ETA: 0s - loss: 8.6885 - dense_2_loss_1: 1.1953 - dense_2_loss_2: 1.5503 - dense_2_loss_3: 1.5635 - dense_2_loss_4: 1.5926 - dense_2_loss_5: 1.5106 - dense_2_loss_6: 1.2762 - dense_2_acc_1: 0.6843 - dense_2_acc_2: 0.5914 - dense_2_acc_3: 0.5818 - dense_2_acc_4: 0.5800 - dense_2_acc_5: 0.6036 - dense_2_acc_6: 0.6786Epoch 00063: saving model to main_model_weights.h5\n",
      "2810/2810 [==============================] - 17s - loss: 8.6760 - dense_2_loss_1: 1.1953 - dense_2_loss_2: 1.5488 - dense_2_loss_3: 1.5619 - dense_2_loss_4: 1.5892 - dense_2_loss_5: 1.5079 - dense_2_loss_6: 1.2729 - dense_2_acc_1: 0.6843 - dense_2_acc_2: 0.5918 - dense_2_acc_3: 0.5822 - dense_2_acc_4: 0.5808 - dense_2_acc_5: 0.6039 - dense_2_acc_6: 0.6794 - val_loss: 37.7430 - val_dense_2_loss_1: 4.3762 - val_dense_2_loss_2: 7.2537 - val_dense_2_loss_3: 6.2995 - val_dense_2_loss_4: 8.2104 - val_dense_2_loss_5: 5.7813 - val_dense_2_loss_6: 5.8220 - val_dense_2_acc_1: 0.4561 - val_dense_2_acc_2: 0.2456 - val_dense_2_acc_3: 0.1404 - val_dense_2_acc_4: 0.1053 - val_dense_2_acc_5: 0.2281 - val_dense_2_acc_6: 0.4035\n",
      "Epoch 65/100\n",
      "2800/2810 [============================>.] - ETA: 0s - loss: 8.6739 - dense_2_loss_1: 1.1682 - dense_2_loss_2: 1.5406 - dense_2_loss_3: 1.5554 - dense_2_loss_4: 1.5901 - dense_2_loss_5: 1.5409 - dense_2_loss_6: 1.2788 - dense_2_acc_1: 0.6854 - dense_2_acc_2: 0.5904 - dense_2_acc_3: 0.5979 - dense_2_acc_4: 0.5807 - dense_2_acc_5: 0.5968 - dense_2_acc_6: 0.6711Epoch 00064: saving model to main_model_weights.h5\n",
      "2810/2810 [==============================] - 17s - loss: 8.6727 - dense_2_loss_1: 1.1677 - dense_2_loss_2: 1.5397 - dense_2_loss_3: 1.5552 - dense_2_loss_4: 1.5889 - dense_2_loss_5: 1.5409 - dense_2_loss_6: 1.2803 - dense_2_acc_1: 0.6858 - dense_2_acc_2: 0.5904 - dense_2_acc_3: 0.5972 - dense_2_acc_4: 0.5811 - dense_2_acc_5: 0.5972 - dense_2_acc_6: 0.6701 - val_loss: 37.5536 - val_dense_2_loss_1: 4.3419 - val_dense_2_loss_2: 7.5758 - val_dense_2_loss_3: 6.1778 - val_dense_2_loss_4: 7.9945 - val_dense_2_loss_5: 5.7901 - val_dense_2_loss_6: 5.6735 - val_dense_2_acc_1: 0.4912 - val_dense_2_acc_2: 0.2456 - val_dense_2_acc_3: 0.1404 - val_dense_2_acc_4: 0.0877 - val_dense_2_acc_5: 0.2632 - val_dense_2_acc_6: 0.3684\n",
      "Epoch 66/100\n",
      "2800/2810 [============================>.] - ETA: 0s - loss: 8.4216 - dense_2_loss_1: 1.1283 - dense_2_loss_2: 1.4797 - dense_2_loss_3: 1.5399 - dense_2_loss_4: 1.5225 - dense_2_loss_5: 1.4987 - dense_2_loss_6: 1.2525 - dense_2_acc_1: 0.7050 - dense_2_acc_2: 0.6243 - dense_2_acc_3: 0.5907 - dense_2_acc_4: 0.5925 - dense_2_acc_5: 0.6043 - dense_2_acc_6: 0.6789Epoch 00065: saving model to main_model_weights.h5\n",
      "2810/2810 [==============================] - 17s - loss: 8.4238 - dense_2_loss_1: 1.1331 - dense_2_loss_2: 1.4827 - dense_2_loss_3: 1.5385 - dense_2_loss_4: 1.5212 - dense_2_loss_5: 1.4975 - dense_2_loss_6: 1.2508 - dense_2_acc_1: 0.7043 - dense_2_acc_2: 0.6242 - dense_2_acc_3: 0.5915 - dense_2_acc_4: 0.5925 - dense_2_acc_5: 0.6046 - dense_2_acc_6: 0.6794 - val_loss: 38.2047 - val_dense_2_loss_1: 4.4648 - val_dense_2_loss_2: 7.2287 - val_dense_2_loss_3: 6.3532 - val_dense_2_loss_4: 8.3304 - val_dense_2_loss_5: 6.1270 - val_dense_2_loss_6: 5.7006 - val_dense_2_acc_1: 0.4211 - val_dense_2_acc_2: 0.2105 - val_dense_2_acc_3: 0.1754 - val_dense_2_acc_4: 0.0877 - val_dense_2_acc_5: 0.2456 - val_dense_2_acc_6: 0.4211\n",
      "Epoch 67/100\n",
      "2800/2810 [============================>.] - ETA: 0s - loss: 8.3561 - dense_2_loss_1: 1.1420 - dense_2_loss_2: 1.4936 - dense_2_loss_3: 1.4903 - dense_2_loss_4: 1.5438 - dense_2_loss_5: 1.4742 - dense_2_loss_6: 1.2123 - dense_2_acc_1: 0.6964 - dense_2_acc_2: 0.6029 - dense_2_acc_3: 0.6136 - dense_2_acc_4: 0.5886 - dense_2_acc_5: 0.6050 - dense_2_acc_6: 0.6911Epoch 00066: saving model to main_model_weights.h5\n",
      "2810/2810 [==============================] - 17s - loss: 8.3596 - dense_2_loss_1: 1.1436 - dense_2_loss_2: 1.4926 - dense_2_loss_3: 1.4912 - dense_2_loss_4: 1.5467 - dense_2_loss_5: 1.4719 - dense_2_loss_6: 1.2136 - dense_2_acc_1: 0.6957 - dense_2_acc_2: 0.6032 - dense_2_acc_3: 0.6132 - dense_2_acc_4: 0.5875 - dense_2_acc_5: 0.6057 - dense_2_acc_6: 0.6911 - val_loss: 38.4269 - val_dense_2_loss_1: 4.4832 - val_dense_2_loss_2: 7.5950 - val_dense_2_loss_3: 6.5417 - val_dense_2_loss_4: 8.0631 - val_dense_2_loss_5: 5.9327 - val_dense_2_loss_6: 5.8110 - val_dense_2_acc_1: 0.3860 - val_dense_2_acc_2: 0.2281 - val_dense_2_acc_3: 0.1754 - val_dense_2_acc_4: 0.1404 - val_dense_2_acc_5: 0.2281 - val_dense_2_acc_6: 0.4386\n",
      "Epoch 68/100\n",
      "2800/2810 [============================>.] - ETA: 0s - loss: 8.1458 - dense_2_loss_1: 1.1456 - dense_2_loss_2: 1.4101 - dense_2_loss_3: 1.4339 - dense_2_loss_4: 1.4821 - dense_2_loss_5: 1.4255 - dense_2_loss_6: 1.2486 - dense_2_acc_1: 0.6939 - dense_2_acc_2: 0.6279 - dense_2_acc_3: 0.6136 - dense_2_acc_4: 0.5971 - dense_2_acc_5: 0.6286 - dense_2_acc_6: 0.6786Epoch 00067: saving model to main_model_weights.h5\n",
      "2810/2810 [==============================] - 17s - loss: 8.1535 - dense_2_loss_1: 1.1495 - dense_2_loss_2: 1.4103 - dense_2_loss_3: 1.4377 - dense_2_loss_4: 1.4838 - dense_2_loss_5: 1.4263 - dense_2_loss_6: 1.2458 - dense_2_acc_1: 0.6932 - dense_2_acc_2: 0.6278 - dense_2_acc_3: 0.6128 - dense_2_acc_4: 0.5972 - dense_2_acc_5: 0.6285 - dense_2_acc_6: 0.6794 - val_loss: 39.7398 - val_dense_2_loss_1: 4.5326 - val_dense_2_loss_2: 7.4204 - val_dense_2_loss_3: 6.5516 - val_dense_2_loss_4: 8.6884 - val_dense_2_loss_5: 6.4265 - val_dense_2_loss_6: 6.1202 - val_dense_2_acc_1: 0.4035 - val_dense_2_acc_2: 0.2281 - val_dense_2_acc_3: 0.1404 - val_dense_2_acc_4: 0.1053 - val_dense_2_acc_5: 0.1579 - val_dense_2_acc_6: 0.3333\n",
      "Epoch 69/100\n",
      "2800/2810 [============================>.] - ETA: 0s - loss: 8.0394 - dense_2_loss_1: 1.1184 - dense_2_loss_2: 1.4007 - dense_2_loss_3: 1.4544 - dense_2_loss_4: 1.4670 - dense_2_loss_5: 1.3967 - dense_2_loss_6: 1.2023 - dense_2_acc_1: 0.6950 - dense_2_acc_2: 0.6271 - dense_2_acc_3: 0.6168 - dense_2_acc_4: 0.5979 - dense_2_acc_5: 0.6321 - dense_2_acc_6: 0.6993Epoch 00068: saving model to main_model_weights.h5\n",
      "2810/2810 [==============================] - 17s - loss: 8.0384 - dense_2_loss_1: 1.1187 - dense_2_loss_2: 1.4033 - dense_2_loss_3: 1.4538 - dense_2_loss_4: 1.4654 - dense_2_loss_5: 1.3955 - dense_2_loss_6: 1.2017 - dense_2_acc_1: 0.6943 - dense_2_acc_2: 0.6270 - dense_2_acc_3: 0.6171 - dense_2_acc_4: 0.5975 - dense_2_acc_5: 0.6327 - dense_2_acc_6: 0.6993 - val_loss: 37.7482 - val_dense_2_loss_1: 4.4294 - val_dense_2_loss_2: 7.2110 - val_dense_2_loss_3: 6.1256 - val_dense_2_loss_4: 8.1294 - val_dense_2_loss_5: 6.3248 - val_dense_2_loss_6: 5.5280 - val_dense_2_acc_1: 0.4561 - val_dense_2_acc_2: 0.2281 - val_dense_2_acc_3: 0.1579 - val_dense_2_acc_4: 0.1404 - val_dense_2_acc_5: 0.2105 - val_dense_2_acc_6: 0.4035\n",
      "Epoch 70/100\n",
      "2800/2810 [============================>.] - ETA: 0s - loss: 7.7960 - dense_2_loss_1: 1.1065 - dense_2_loss_2: 1.3648 - dense_2_loss_3: 1.4116 - dense_2_loss_4: 1.4252 - dense_2_loss_5: 1.3674 - dense_2_loss_6: 1.1205 - dense_2_acc_1: 0.6950 - dense_2_acc_2: 0.6339 - dense_2_acc_3: 0.6157 - dense_2_acc_4: 0.6154 - dense_2_acc_5: 0.6375 - dense_2_acc_6: 0.7100Epoch 00069: saving model to main_model_weights.h5\n",
      "2810/2810 [==============================] - 17s - loss: 7.7888 - dense_2_loss_1: 1.1051 - dense_2_loss_2: 1.3622 - dense_2_loss_3: 1.4105 - dense_2_loss_4: 1.4236 - dense_2_loss_5: 1.3663 - dense_2_loss_6: 1.1212 - dense_2_acc_1: 0.6950 - dense_2_acc_2: 0.6345 - dense_2_acc_3: 0.6160 - dense_2_acc_4: 0.6153 - dense_2_acc_5: 0.6377 - dense_2_acc_6: 0.7096 - val_loss: 38.8305 - val_dense_2_loss_1: 4.3019 - val_dense_2_loss_2: 7.5114 - val_dense_2_loss_3: 6.4289 - val_dense_2_loss_4: 8.7677 - val_dense_2_loss_5: 6.1383 - val_dense_2_loss_6: 5.6823 - val_dense_2_acc_1: 0.4211 - val_dense_2_acc_2: 0.2281 - val_dense_2_acc_3: 0.1754 - val_dense_2_acc_4: 0.1053 - val_dense_2_acc_5: 0.2456 - val_dense_2_acc_6: 0.4561\n",
      "Epoch 71/100\n",
      "2800/2810 [============================>.] - ETA: 0s - loss: 7.9461 - dense_2_loss_1: 1.1085 - dense_2_loss_2: 1.3820 - dense_2_loss_3: 1.3780 - dense_2_loss_4: 1.4831 - dense_2_loss_5: 1.3878 - dense_2_loss_6: 1.2067 - dense_2_acc_1: 0.6982 - dense_2_acc_2: 0.6346 - dense_2_acc_3: 0.6196 - dense_2_acc_4: 0.6068 - dense_2_acc_5: 0.6450 - dense_2_acc_6: 0.6957Epoch 00070: saving model to main_model_weights.h5\n",
      "2810/2810 [==============================] - 17s - loss: 7.9510 - dense_2_loss_1: 1.1103 - dense_2_loss_2: 1.3834 - dense_2_loss_3: 1.3757 - dense_2_loss_4: 1.4815 - dense_2_loss_5: 1.3899 - dense_2_loss_6: 1.2101 - dense_2_acc_1: 0.6979 - dense_2_acc_2: 0.6345 - dense_2_acc_3: 0.6203 - dense_2_acc_4: 0.6071 - dense_2_acc_5: 0.6441 - dense_2_acc_6: 0.6947 - val_loss: 40.1933 - val_dense_2_loss_1: 4.4162 - val_dense_2_loss_2: 7.7639 - val_dense_2_loss_3: 7.2277 - val_dense_2_loss_4: 8.8432 - val_dense_2_loss_5: 6.2600 - val_dense_2_loss_6: 5.6822 - val_dense_2_acc_1: 0.4561 - val_dense_2_acc_2: 0.1930 - val_dense_2_acc_3: 0.1404 - val_dense_2_acc_4: 0.1579 - val_dense_2_acc_5: 0.2807 - val_dense_2_acc_6: 0.4211\n",
      "Epoch 72/100\n",
      "2800/2810 [============================>.] - ETA: 0s - loss: 7.6204 - dense_2_loss_1: 1.0721 - dense_2_loss_2: 1.3273 - dense_2_loss_3: 1.3391 - dense_2_loss_4: 1.3659 - dense_2_loss_5: 1.3542 - dense_2_loss_6: 1.1618 - dense_2_acc_1: 0.7150 - dense_2_acc_2: 0.6432 - dense_2_acc_3: 0.6364 - dense_2_acc_4: 0.6271 - dense_2_acc_5: 0.6429 - dense_2_acc_6: 0.7061Epoch 00071: saving model to main_model_weights.h5\n",
      "2810/2810 [==============================] - 17s - loss: 7.6318 - dense_2_loss_1: 1.0717 - dense_2_loss_2: 1.3280 - dense_2_loss_3: 1.3408 - dense_2_loss_4: 1.3672 - dense_2_loss_5: 1.3551 - dense_2_loss_6: 1.1690 - dense_2_acc_1: 0.7153 - dense_2_acc_2: 0.6438 - dense_2_acc_3: 0.6363 - dense_2_acc_4: 0.6274 - dense_2_acc_5: 0.6431 - dense_2_acc_6: 0.7053 - val_loss: 38.2731 - val_dense_2_loss_1: 4.4230 - val_dense_2_loss_2: 7.7045 - val_dense_2_loss_3: 6.3090 - val_dense_2_loss_4: 8.0484 - val_dense_2_loss_5: 5.8917 - val_dense_2_loss_6: 5.8965 - val_dense_2_acc_1: 0.4035 - val_dense_2_acc_2: 0.2281 - val_dense_2_acc_3: 0.1754 - val_dense_2_acc_4: 0.1228 - val_dense_2_acc_5: 0.2632 - val_dense_2_acc_6: 0.3860\n",
      "Epoch 73/100\n",
      "2800/2810 [============================>.] - ETA: 0s - loss: 7.4697 - dense_2_loss_1: 1.0592 - dense_2_loss_2: 1.3122 - dense_2_loss_3: 1.3183 - dense_2_loss_4: 1.3109 - dense_2_loss_5: 1.3284 - dense_2_loss_6: 1.1407 - dense_2_acc_1: 0.7132 - dense_2_acc_2: 0.6471 - dense_2_acc_3: 0.6379 - dense_2_acc_4: 0.6382 - dense_2_acc_5: 0.6436 - dense_2_acc_6: 0.7036Epoch 00072: saving model to main_model_weights.h5\n",
      "2810/2810 [==============================] - 17s - loss: 7.4731 - dense_2_loss_1: 1.0594 - dense_2_loss_2: 1.3107 - dense_2_loss_3: 1.3223 - dense_2_loss_4: 1.3132 - dense_2_loss_5: 1.3277 - dense_2_loss_6: 1.1398 - dense_2_acc_1: 0.7128 - dense_2_acc_2: 0.6473 - dense_2_acc_3: 0.6370 - dense_2_acc_4: 0.6377 - dense_2_acc_5: 0.6438 - dense_2_acc_6: 0.7036 - val_loss: 39.1643 - val_dense_2_loss_1: 4.4600 - val_dense_2_loss_2: 7.5402 - val_dense_2_loss_3: 6.4598 - val_dense_2_loss_4: 8.3680 - val_dense_2_loss_5: 6.3271 - val_dense_2_loss_6: 6.0092 - val_dense_2_acc_1: 0.4386 - val_dense_2_acc_2: 0.2807 - val_dense_2_acc_3: 0.1754 - val_dense_2_acc_4: 0.1579 - val_dense_2_acc_5: 0.2105 - val_dense_2_acc_6: 0.3684\n",
      "Epoch 74/100\n",
      "2800/2810 [============================>.] - ETA: 0s - loss: 7.4675 - dense_2_loss_1: 1.0693 - dense_2_loss_2: 1.3081 - dense_2_loss_3: 1.3414 - dense_2_loss_4: 1.3336 - dense_2_loss_5: 1.3105 - dense_2_loss_6: 1.1046 - dense_2_acc_1: 0.7136 - dense_2_acc_2: 0.6568 - dense_2_acc_3: 0.6361 - dense_2_acc_4: 0.6371 - dense_2_acc_5: 0.6479 - dense_2_acc_6: 0.7086Epoch 00073: saving model to main_model_weights.h5\n",
      "2810/2810 [==============================] - 17s - loss: 7.4629 - dense_2_loss_1: 1.0686 - dense_2_loss_2: 1.3059 - dense_2_loss_3: 1.3413 - dense_2_loss_4: 1.3337 - dense_2_loss_5: 1.3108 - dense_2_loss_6: 1.1027 - dense_2_acc_1: 0.7139 - dense_2_acc_2: 0.6577 - dense_2_acc_3: 0.6359 - dense_2_acc_4: 0.6370 - dense_2_acc_5: 0.6484 - dense_2_acc_6: 0.7089 - val_loss: 39.7746 - val_dense_2_loss_1: 4.4749 - val_dense_2_loss_2: 7.6658 - val_dense_2_loss_3: 6.5117 - val_dense_2_loss_4: 8.6579 - val_dense_2_loss_5: 6.3167 - val_dense_2_loss_6: 6.1476 - val_dense_2_acc_1: 0.4386 - val_dense_2_acc_2: 0.2456 - val_dense_2_acc_3: 0.1754 - val_dense_2_acc_4: 0.1404 - val_dense_2_acc_5: 0.2105 - val_dense_2_acc_6: 0.3509\n",
      "Epoch 75/100\n",
      "2800/2810 [============================>.] - ETA: 0s - loss: 7.4168 - dense_2_loss_1: 1.0776 - dense_2_loss_2: 1.3188 - dense_2_loss_3: 1.3341 - dense_2_loss_4: 1.3560 - dense_2_loss_5: 1.2733 - dense_2_loss_6: 1.0571 - dense_2_acc_1: 0.7114 - dense_2_acc_2: 0.6636 - dense_2_acc_3: 0.6511 - dense_2_acc_4: 0.6457 - dense_2_acc_5: 0.6636 - dense_2_acc_6: 0.7271Epoch 00074: saving model to main_model_weights.h5\n",
      "2810/2810 [==============================] - 17s - loss: 7.4124 - dense_2_loss_1: 1.0788 - dense_2_loss_2: 1.3206 - dense_2_loss_3: 1.3333 - dense_2_loss_4: 1.3546 - dense_2_loss_5: 1.2716 - dense_2_loss_6: 1.0535 - dense_2_acc_1: 0.7114 - dense_2_acc_2: 0.6641 - dense_2_acc_3: 0.6516 - dense_2_acc_4: 0.6463 - dense_2_acc_5: 0.6641 - dense_2_acc_6: 0.7281 - val_loss: 38.7715 - val_dense_2_loss_1: 4.4086 - val_dense_2_loss_2: 7.6026 - val_dense_2_loss_3: 6.4107 - val_dense_2_loss_4: 8.3495 - val_dense_2_loss_5: 6.2231 - val_dense_2_loss_6: 5.7770 - val_dense_2_acc_1: 0.4561 - val_dense_2_acc_2: 0.2807 - val_dense_2_acc_3: 0.1404 - val_dense_2_acc_4: 0.1228 - val_dense_2_acc_5: 0.2456 - val_dense_2_acc_6: 0.4211\n",
      "Epoch 76/100\n",
      "2800/2810 [============================>.] - ETA: 0s - loss: 7.2140 - dense_2_loss_1: 1.0252 - dense_2_loss_2: 1.2668 - dense_2_loss_3: 1.2405 - dense_2_loss_4: 1.2915 - dense_2_loss_5: 1.2786 - dense_2_loss_6: 1.1116 - dense_2_acc_1: 0.7121 - dense_2_acc_2: 0.6593 - dense_2_acc_3: 0.6564 - dense_2_acc_4: 0.6475 - dense_2_acc_5: 0.6646 - dense_2_acc_6: 0.7168Epoch 00075: saving model to main_model_weights.h5\n",
      "2810/2810 [==============================] - 17s - loss: 7.2200 - dense_2_loss_1: 1.0250 - dense_2_loss_2: 1.2671 - dense_2_loss_3: 1.2424 - dense_2_loss_4: 1.2928 - dense_2_loss_5: 1.2809 - dense_2_loss_6: 1.1119 - dense_2_acc_1: 0.7117 - dense_2_acc_2: 0.6594 - dense_2_acc_3: 0.6559 - dense_2_acc_4: 0.6470 - dense_2_acc_5: 0.6637 - dense_2_acc_6: 0.7171 - val_loss: 41.7121 - val_dense_2_loss_1: 4.4812 - val_dense_2_loss_2: 7.5154 - val_dense_2_loss_3: 7.1690 - val_dense_2_loss_4: 9.3074 - val_dense_2_loss_5: 6.9750 - val_dense_2_loss_6: 6.2642 - val_dense_2_acc_1: 0.4737 - val_dense_2_acc_2: 0.2281 - val_dense_2_acc_3: 0.0877 - val_dense_2_acc_4: 0.0877 - val_dense_2_acc_5: 0.1930 - val_dense_2_acc_6: 0.3684\n",
      "Epoch 77/100\n",
      "2800/2810 [============================>.] - ETA: 0s - loss: 7.2158 - dense_2_loss_1: 1.0369 - dense_2_loss_2: 1.2310 - dense_2_loss_3: 1.2662 - dense_2_loss_4: 1.3295 - dense_2_loss_5: 1.2472 - dense_2_loss_6: 1.1049 - dense_2_acc_1: 0.7186 - dense_2_acc_2: 0.6696 - dense_2_acc_3: 0.6525 - dense_2_acc_4: 0.6414 - dense_2_acc_5: 0.6657 - dense_2_acc_6: 0.7232Epoch 00076: saving model to main_model_weights.h5\n",
      "2810/2810 [==============================] - 17s - loss: 7.2171 - dense_2_loss_1: 1.0382 - dense_2_loss_2: 1.2309 - dense_2_loss_3: 1.2669 - dense_2_loss_4: 1.3313 - dense_2_loss_5: 1.2465 - dense_2_loss_6: 1.1033 - dense_2_acc_1: 0.7181 - dense_2_acc_2: 0.6694 - dense_2_acc_3: 0.6523 - dense_2_acc_4: 0.6409 - dense_2_acc_5: 0.6651 - dense_2_acc_6: 0.7235 - val_loss: 39.5549 - val_dense_2_loss_1: 4.3690 - val_dense_2_loss_2: 7.5545 - val_dense_2_loss_3: 6.5490 - val_dense_2_loss_4: 9.0352 - val_dense_2_loss_5: 6.1855 - val_dense_2_loss_6: 5.8618 - val_dense_2_acc_1: 0.4561 - val_dense_2_acc_2: 0.2632 - val_dense_2_acc_3: 0.1404 - val_dense_2_acc_4: 0.1228 - val_dense_2_acc_5: 0.2807 - val_dense_2_acc_6: 0.4035\n",
      "Epoch 78/100\n",
      "2800/2810 [============================>.] - ETA: 0s - loss: 6.9974 - dense_2_loss_1: 1.0039 - dense_2_loss_2: 1.1979 - dense_2_loss_3: 1.2245 - dense_2_loss_4: 1.2838 - dense_2_loss_5: 1.2425 - dense_2_loss_6: 1.0448 - dense_2_acc_1: 0.7289 - dense_2_acc_2: 0.6743 - dense_2_acc_3: 0.6743 - dense_2_acc_4: 0.6457 - dense_2_acc_5: 0.6607 - dense_2_acc_6: 0.7311Epoch 00077: saving model to main_model_weights.h5\n",
      "2810/2810 [==============================] - 17s - loss: 6.9859 - dense_2_loss_1: 1.0010 - dense_2_loss_2: 1.1955 - dense_2_loss_3: 1.2240 - dense_2_loss_4: 1.2810 - dense_2_loss_5: 1.2414 - dense_2_loss_6: 1.0431 - dense_2_acc_1: 0.7299 - dense_2_acc_2: 0.6747 - dense_2_acc_3: 0.6744 - dense_2_acc_4: 0.6466 - dense_2_acc_5: 0.6612 - dense_2_acc_6: 0.7313 - val_loss: 39.6639 - val_dense_2_loss_1: 4.4109 - val_dense_2_loss_2: 7.9215 - val_dense_2_loss_3: 6.4625 - val_dense_2_loss_4: 8.4147 - val_dense_2_loss_5: 6.2427 - val_dense_2_loss_6: 6.2115 - val_dense_2_acc_1: 0.4737 - val_dense_2_acc_2: 0.2632 - val_dense_2_acc_3: 0.1404 - val_dense_2_acc_4: 0.1053 - val_dense_2_acc_5: 0.2105 - val_dense_2_acc_6: 0.3860\n",
      "Epoch 79/100\n",
      "2800/2810 [============================>.] - ETA: 0s - loss: 6.9130 - dense_2_loss_1: 0.9883 - dense_2_loss_2: 1.2255 - dense_2_loss_3: 1.2218 - dense_2_loss_4: 1.2091 - dense_2_loss_5: 1.2396 - dense_2_loss_6: 1.0287 - dense_2_acc_1: 0.7332 - dense_2_acc_2: 0.6800 - dense_2_acc_3: 0.6664 - dense_2_acc_4: 0.6704 - dense_2_acc_5: 0.6704 - dense_2_acc_6: 0.7439Epoch 00078: saving model to main_model_weights.h5\n",
      "2810/2810 [==============================] - 17s - loss: 6.9031 - dense_2_loss_1: 0.9882 - dense_2_loss_2: 1.2244 - dense_2_loss_3: 1.2189 - dense_2_loss_4: 1.2067 - dense_2_loss_5: 1.2384 - dense_2_loss_6: 1.0264 - dense_2_acc_1: 0.7335 - dense_2_acc_2: 0.6797 - dense_2_acc_3: 0.6673 - dense_2_acc_4: 0.6712 - dense_2_acc_5: 0.6708 - dense_2_acc_6: 0.7441 - val_loss: 39.6738 - val_dense_2_loss_1: 4.4164 - val_dense_2_loss_2: 7.4254 - val_dense_2_loss_3: 6.8605 - val_dense_2_loss_4: 8.4538 - val_dense_2_loss_5: 6.2546 - val_dense_2_loss_6: 6.2632 - val_dense_2_acc_1: 0.4211 - val_dense_2_acc_2: 0.2807 - val_dense_2_acc_3: 0.1228 - val_dense_2_acc_4: 0.1404 - val_dense_2_acc_5: 0.2456 - val_dense_2_acc_6: 0.4211\n",
      "Epoch 80/100\n",
      "2800/2810 [============================>.] - ETA: 0s - loss: 6.9248 - dense_2_loss_1: 0.9939 - dense_2_loss_2: 1.1998 - dense_2_loss_3: 1.2185 - dense_2_loss_4: 1.2439 - dense_2_loss_5: 1.2166 - dense_2_loss_6: 1.0521 - dense_2_acc_1: 0.7296 - dense_2_acc_2: 0.6614 - dense_2_acc_3: 0.6761 - dense_2_acc_4: 0.6732 - dense_2_acc_5: 0.6807 - dense_2_acc_6: 0.7350Epoch 00079: saving model to main_model_weights.h5\n",
      "2810/2810 [==============================] - 17s - loss: 6.9253 - dense_2_loss_1: 0.9938 - dense_2_loss_2: 1.1972 - dense_2_loss_3: 1.2184 - dense_2_loss_4: 1.2421 - dense_2_loss_5: 1.2179 - dense_2_loss_6: 1.0558 - dense_2_acc_1: 0.7299 - dense_2_acc_2: 0.6623 - dense_2_acc_3: 0.6762 - dense_2_acc_4: 0.6737 - dense_2_acc_5: 0.6801 - dense_2_acc_6: 0.7352 - val_loss: 38.5498 - val_dense_2_loss_1: 4.2903 - val_dense_2_loss_2: 7.2878 - val_dense_2_loss_3: 6.4637 - val_dense_2_loss_4: 8.4143 - val_dense_2_loss_5: 6.3861 - val_dense_2_loss_6: 5.7076 - val_dense_2_acc_1: 0.4561 - val_dense_2_acc_2: 0.2807 - val_dense_2_acc_3: 0.1579 - val_dense_2_acc_4: 0.1404 - val_dense_2_acc_5: 0.2456 - val_dense_2_acc_6: 0.4211\n",
      "Epoch 81/100\n",
      "2800/2810 [============================>.] - ETA: 0s - loss: 6.7020 - dense_2_loss_1: 0.9802 - dense_2_loss_2: 1.1369 - dense_2_loss_3: 1.2032 - dense_2_loss_4: 1.1867 - dense_2_loss_5: 1.1638 - dense_2_loss_6: 1.0312 - dense_2_acc_1: 0.7293 - dense_2_acc_2: 0.6964 - dense_2_acc_3: 0.6575 - dense_2_acc_4: 0.6814 - dense_2_acc_5: 0.6850 - dense_2_acc_6: 0.7343Epoch 00080: saving model to main_model_weights.h5\n",
      "2810/2810 [==============================] - 18s - loss: 6.7067 - dense_2_loss_1: 0.9811 - dense_2_loss_2: 1.1370 - dense_2_loss_3: 1.2030 - dense_2_loss_4: 1.1875 - dense_2_loss_5: 1.1648 - dense_2_loss_6: 1.0333 - dense_2_acc_1: 0.7288 - dense_2_acc_2: 0.6964 - dense_2_acc_3: 0.6573 - dense_2_acc_4: 0.6811 - dense_2_acc_5: 0.6847 - dense_2_acc_6: 0.7335 - val_loss: 40.5114 - val_dense_2_loss_1: 4.4340 - val_dense_2_loss_2: 7.5985 - val_dense_2_loss_3: 6.7321 - val_dense_2_loss_4: 8.9455 - val_dense_2_loss_5: 6.4713 - val_dense_2_loss_6: 6.3301 - val_dense_2_acc_1: 0.4386 - val_dense_2_acc_2: 0.2632 - val_dense_2_acc_3: 0.1754 - val_dense_2_acc_4: 0.1228 - val_dense_2_acc_5: 0.1930 - val_dense_2_acc_6: 0.3684\n",
      "Epoch 82/100\n",
      "2800/2810 [============================>.] - ETA: 0s - loss: 6.6820 - dense_2_loss_1: 0.9520 - dense_2_loss_2: 1.1326 - dense_2_loss_3: 1.1778 - dense_2_loss_4: 1.2393 - dense_2_loss_5: 1.1849 - dense_2_loss_6: 0.9954 - dense_2_acc_1: 0.7339 - dense_2_acc_2: 0.6868 - dense_2_acc_3: 0.6732 - dense_2_acc_4: 0.6621 - dense_2_acc_5: 0.6893 - dense_2_acc_6: 0.7386Epoch 00081: saving model to main_model_weights.h5\n",
      "2810/2810 [==============================] - 19s - loss: 6.6782 - dense_2_loss_1: 0.9499 - dense_2_loss_2: 1.1321 - dense_2_loss_3: 1.1755 - dense_2_loss_4: 1.2398 - dense_2_loss_5: 1.1844 - dense_2_loss_6: 0.9965 - dense_2_acc_1: 0.7345 - dense_2_acc_2: 0.6868 - dense_2_acc_3: 0.6740 - dense_2_acc_4: 0.6619 - dense_2_acc_5: 0.6897 - dense_2_acc_6: 0.7388 - val_loss: 39.1318 - val_dense_2_loss_1: 4.4488 - val_dense_2_loss_2: 7.6723 - val_dense_2_loss_3: 6.5647 - val_dense_2_loss_4: 8.2723 - val_dense_2_loss_5: 6.4011 - val_dense_2_loss_6: 5.7726 - val_dense_2_acc_1: 0.4386 - val_dense_2_acc_2: 0.2632 - val_dense_2_acc_3: 0.1404 - val_dense_2_acc_4: 0.1754 - val_dense_2_acc_5: 0.2632 - val_dense_2_acc_6: 0.3333\n",
      "Epoch 83/100\n",
      "2800/2810 [============================>.] - ETA: 0s - loss: 6.3889 - dense_2_loss_1: 0.9531 - dense_2_loss_2: 1.0965 - dense_2_loss_3: 1.1170 - dense_2_loss_4: 1.1420 - dense_2_loss_5: 1.1294 - dense_2_loss_6: 0.9510 - dense_2_acc_1: 0.7343 - dense_2_acc_2: 0.7104 - dense_2_acc_3: 0.6904 - dense_2_acc_4: 0.7000 - dense_2_acc_5: 0.7075 - dense_2_acc_6: 0.7554Epoch 00082: saving model to main_model_weights.h5\n",
      "2810/2810 [==============================] - 17s - loss: 6.3882 - dense_2_loss_1: 0.9516 - dense_2_loss_2: 1.0954 - dense_2_loss_3: 1.1180 - dense_2_loss_4: 1.1432 - dense_2_loss_5: 1.1306 - dense_2_loss_6: 0.9494 - dense_2_acc_1: 0.7349 - dense_2_acc_2: 0.7107 - dense_2_acc_3: 0.6900 - dense_2_acc_4: 0.6989 - dense_2_acc_5: 0.7068 - dense_2_acc_6: 0.7559 - val_loss: 39.6528 - val_dense_2_loss_1: 4.4391 - val_dense_2_loss_2: 7.9494 - val_dense_2_loss_3: 6.5082 - val_dense_2_loss_4: 8.5018 - val_dense_2_loss_5: 6.2571 - val_dense_2_loss_6: 5.9971 - val_dense_2_acc_1: 0.4737 - val_dense_2_acc_2: 0.2456 - val_dense_2_acc_3: 0.1404 - val_dense_2_acc_4: 0.1404 - val_dense_2_acc_5: 0.2632 - val_dense_2_acc_6: 0.3684\n",
      "Epoch 84/100\n",
      "2800/2810 [============================>.] - ETA: 0s - loss: 6.3412 - dense_2_loss_1: 0.9402 - dense_2_loss_2: 1.1031 - dense_2_loss_3: 1.0759 - dense_2_loss_4: 1.1469 - dense_2_loss_5: 1.1172 - dense_2_loss_6: 0.9579 - dense_2_acc_1: 0.7393 - dense_2_acc_2: 0.7100 - dense_2_acc_3: 0.6989 - dense_2_acc_4: 0.6857 - dense_2_acc_5: 0.7054 - dense_2_acc_6: 0.7550Epoch 00083: saving model to main_model_weights.h5\n",
      "2810/2810 [==============================] - 18s - loss: 6.3284 - dense_2_loss_1: 0.9380 - dense_2_loss_2: 1.1017 - dense_2_loss_3: 1.0738 - dense_2_loss_4: 1.1448 - dense_2_loss_5: 1.1141 - dense_2_loss_6: 0.9559 - dense_2_acc_1: 0.7399 - dense_2_acc_2: 0.7103 - dense_2_acc_3: 0.6996 - dense_2_acc_4: 0.6858 - dense_2_acc_5: 0.7060 - dense_2_acc_6: 0.7555 - val_loss: 39.4047 - val_dense_2_loss_1: 4.4289 - val_dense_2_loss_2: 7.5976 - val_dense_2_loss_3: 6.8958 - val_dense_2_loss_4: 8.4740 - val_dense_2_loss_5: 6.3758 - val_dense_2_loss_6: 5.6327 - val_dense_2_acc_1: 0.4912 - val_dense_2_acc_2: 0.2456 - val_dense_2_acc_3: 0.1930 - val_dense_2_acc_4: 0.1579 - val_dense_2_acc_5: 0.2281 - val_dense_2_acc_6: 0.4737\n",
      "Epoch 85/100\n",
      "2800/2810 [============================>.] - ETA: 0s - loss: 6.1707 - dense_2_loss_1: 0.9090 - dense_2_loss_2: 1.0874 - dense_2_loss_3: 1.0625 - dense_2_loss_4: 1.1084 - dense_2_loss_5: 1.0652 - dense_2_loss_6: 0.9383 - dense_2_acc_1: 0.7518 - dense_2_acc_2: 0.7096 - dense_2_acc_3: 0.6957 - dense_2_acc_4: 0.6900 - dense_2_acc_5: 0.7107 - dense_2_acc_6: 0.7457Epoch 00084: saving model to main_model_weights.h5\n",
      "2810/2810 [==============================] - 17s - loss: 6.1715 - dense_2_loss_1: 0.9115 - dense_2_loss_2: 1.0868 - dense_2_loss_3: 1.0634 - dense_2_loss_4: 1.1060 - dense_2_loss_5: 1.0648 - dense_2_loss_6: 0.9390 - dense_2_acc_1: 0.7509 - dense_2_acc_2: 0.7100 - dense_2_acc_3: 0.6950 - dense_2_acc_4: 0.6900 - dense_2_acc_5: 0.7110 - dense_2_acc_6: 0.7456 - val_loss: 41.4435 - val_dense_2_loss_1: 4.5011 - val_dense_2_loss_2: 7.2925 - val_dense_2_loss_3: 6.9625 - val_dense_2_loss_4: 9.0609 - val_dense_2_loss_5: 6.6844 - val_dense_2_loss_6: 6.9422 - val_dense_2_acc_1: 0.4211 - val_dense_2_acc_2: 0.2632 - val_dense_2_acc_3: 0.1404 - val_dense_2_acc_4: 0.1228 - val_dense_2_acc_5: 0.2456 - val_dense_2_acc_6: 0.2807\n",
      "Epoch 86/100\n",
      "2800/2810 [============================>.] - ETA: 0s - loss: 6.2875 - dense_2_loss_1: 0.9297 - dense_2_loss_2: 1.0648 - dense_2_loss_3: 1.1168 - dense_2_loss_4: 1.0994 - dense_2_loss_5: 1.1506 - dense_2_loss_6: 0.9262 - dense_2_acc_1: 0.7439 - dense_2_acc_2: 0.7104 - dense_2_acc_3: 0.6939 - dense_2_acc_4: 0.7064 - dense_2_acc_5: 0.7043 - dense_2_acc_6: 0.7596Epoch 00085: saving model to main_model_weights.h5\n",
      "2810/2810 [==============================] - 18s - loss: 6.2834 - dense_2_loss_1: 0.9303 - dense_2_loss_2: 1.0654 - dense_2_loss_3: 1.1165 - dense_2_loss_4: 1.0985 - dense_2_loss_5: 1.1485 - dense_2_loss_6: 0.9243 - dense_2_acc_1: 0.7441 - dense_2_acc_2: 0.7096 - dense_2_acc_3: 0.6940 - dense_2_acc_4: 0.7068 - dense_2_acc_5: 0.7050 - dense_2_acc_6: 0.7601 - val_loss: 40.1291 - val_dense_2_loss_1: 4.3662 - val_dense_2_loss_2: 7.6384 - val_dense_2_loss_3: 6.8001 - val_dense_2_loss_4: 8.7150 - val_dense_2_loss_5: 6.4521 - val_dense_2_loss_6: 6.1573 - val_dense_2_acc_1: 0.4912 - val_dense_2_acc_2: 0.2807 - val_dense_2_acc_3: 0.1754 - val_dense_2_acc_4: 0.1579 - val_dense_2_acc_5: 0.2456 - val_dense_2_acc_6: 0.3684\n",
      "Epoch 87/100\n",
      "2800/2810 [============================>.] - ETA: 0s - loss: 6.2521 - dense_2_loss_1: 0.9020 - dense_2_loss_2: 1.0426 - dense_2_loss_3: 1.0936 - dense_2_loss_4: 1.1639 - dense_2_loss_5: 1.1303 - dense_2_loss_6: 0.9196 - dense_2_acc_1: 0.7532 - dense_2_acc_2: 0.7143 - dense_2_acc_3: 0.7000 - dense_2_acc_4: 0.6818 - dense_2_acc_5: 0.6993 - dense_2_acc_6: 0.7500Epoch 00086: saving model to main_model_weights.h5\n",
      "2810/2810 [==============================] - 18s - loss: 6.2466 - dense_2_loss_1: 0.9006 - dense_2_loss_2: 1.0410 - dense_2_loss_3: 1.0922 - dense_2_loss_4: 1.1634 - dense_2_loss_5: 1.1294 - dense_2_loss_6: 0.9200 - dense_2_acc_1: 0.7534 - dense_2_acc_2: 0.7142 - dense_2_acc_3: 0.7007 - dense_2_acc_4: 0.6819 - dense_2_acc_5: 0.6993 - dense_2_acc_6: 0.7498 - val_loss: 41.4378 - val_dense_2_loss_1: 4.4591 - val_dense_2_loss_2: 7.6317 - val_dense_2_loss_3: 7.0639 - val_dense_2_loss_4: 8.8977 - val_dense_2_loss_5: 6.5462 - val_dense_2_loss_6: 6.8394 - val_dense_2_acc_1: 0.4211 - val_dense_2_acc_2: 0.2807 - val_dense_2_acc_3: 0.1228 - val_dense_2_acc_4: 0.1579 - val_dense_2_acc_5: 0.2632 - val_dense_2_acc_6: 0.3333\n",
      "Epoch 88/100\n",
      "2800/2810 [============================>.] - ETA: 0s - loss: 6.1689 - dense_2_loss_1: 0.8935 - dense_2_loss_2: 1.0366 - dense_2_loss_3: 1.0817 - dense_2_loss_4: 1.1009 - dense_2_loss_5: 1.1139 - dense_2_loss_6: 0.9423 - dense_2_acc_1: 0.7436 - dense_2_acc_2: 0.7157 - dense_2_acc_3: 0.6946 - dense_2_acc_4: 0.6925 - dense_2_acc_5: 0.7100 - dense_2_acc_6: 0.7643Epoch 00087: saving model to main_model_weights.h5\n",
      "2810/2810 [==============================] - 18s - loss: 6.1631 - dense_2_loss_1: 0.8940 - dense_2_loss_2: 1.0336 - dense_2_loss_3: 1.0828 - dense_2_loss_4: 1.1008 - dense_2_loss_5: 1.1126 - dense_2_loss_6: 0.9393 - dense_2_acc_1: 0.7431 - dense_2_acc_2: 0.7167 - dense_2_acc_3: 0.6943 - dense_2_acc_4: 0.6918 - dense_2_acc_5: 0.7103 - dense_2_acc_6: 0.7651 - val_loss: 40.4941 - val_dense_2_loss_1: 4.3417 - val_dense_2_loss_2: 7.6599 - val_dense_2_loss_3: 6.7266 - val_dense_2_loss_4: 8.5100 - val_dense_2_loss_5: 6.8218 - val_dense_2_loss_6: 6.4341 - val_dense_2_acc_1: 0.4386 - val_dense_2_acc_2: 0.2632 - val_dense_2_acc_3: 0.1754 - val_dense_2_acc_4: 0.1228 - val_dense_2_acc_5: 0.2456 - val_dense_2_acc_6: 0.4035\n",
      "Epoch 89/100\n",
      "2800/2810 [============================>.] - ETA: 0s - loss: 5.9439 - dense_2_loss_1: 0.8894 - dense_2_loss_2: 1.0028 - dense_2_loss_3: 1.0283 - dense_2_loss_4: 1.0160 - dense_2_loss_5: 1.0262 - dense_2_loss_6: 0.9812 - dense_2_acc_1: 0.7507 - dense_2_acc_2: 0.7289 - dense_2_acc_3: 0.7064 - dense_2_acc_4: 0.7168 - dense_2_acc_5: 0.7179 - dense_2_acc_6: 0.7525Epoch 00088: saving model to main_model_weights.h5\n",
      "2810/2810 [==============================] - 18s - loss: 5.9450 - dense_2_loss_1: 0.8889 - dense_2_loss_2: 1.0016 - dense_2_loss_3: 1.0272 - dense_2_loss_4: 1.0153 - dense_2_loss_5: 1.0289 - dense_2_loss_6: 0.9831 - dense_2_acc_1: 0.7509 - dense_2_acc_2: 0.7288 - dense_2_acc_3: 0.7064 - dense_2_acc_4: 0.7174 - dense_2_acc_5: 0.7171 - dense_2_acc_6: 0.7523 - val_loss: 40.5545 - val_dense_2_loss_1: 4.3957 - val_dense_2_loss_2: 7.5065 - val_dense_2_loss_3: 7.2084 - val_dense_2_loss_4: 8.8177 - val_dense_2_loss_5: 6.3055 - val_dense_2_loss_6: 6.3207 - val_dense_2_acc_1: 0.4386 - val_dense_2_acc_2: 0.2281 - val_dense_2_acc_3: 0.1228 - val_dense_2_acc_4: 0.0877 - val_dense_2_acc_5: 0.2456 - val_dense_2_acc_6: 0.3509\n",
      "Epoch 90/100\n",
      "2800/2810 [============================>.] - ETA: 0s - loss: 5.9917 - dense_2_loss_1: 0.8766 - dense_2_loss_2: 1.0181 - dense_2_loss_3: 1.0247 - dense_2_loss_4: 1.0726 - dense_2_loss_5: 1.0847 - dense_2_loss_6: 0.9150 - dense_2_acc_1: 0.7543 - dense_2_acc_2: 0.7246 - dense_2_acc_3: 0.7171 - dense_2_acc_4: 0.7036 - dense_2_acc_5: 0.7100 - dense_2_acc_6: 0.7721Epoch 00089: saving model to main_model_weights.h5\n",
      "2810/2810 [==============================] - 17s - loss: 5.9920 - dense_2_loss_1: 0.8761 - dense_2_loss_2: 1.0171 - dense_2_loss_3: 1.0249 - dense_2_loss_4: 1.0738 - dense_2_loss_5: 1.0844 - dense_2_loss_6: 0.9157 - dense_2_acc_1: 0.7544 - dense_2_acc_2: 0.7249 - dense_2_acc_3: 0.7171 - dense_2_acc_4: 0.7028 - dense_2_acc_5: 0.7100 - dense_2_acc_6: 0.7719 - val_loss: 38.6760 - val_dense_2_loss_1: 4.4356 - val_dense_2_loss_2: 7.6543 - val_dense_2_loss_3: 6.2638 - val_dense_2_loss_4: 8.2711 - val_dense_2_loss_5: 6.1768 - val_dense_2_loss_6: 5.8743 - val_dense_2_acc_1: 0.4561 - val_dense_2_acc_2: 0.2632 - val_dense_2_acc_3: 0.1404 - val_dense_2_acc_4: 0.0877 - val_dense_2_acc_5: 0.2632 - val_dense_2_acc_6: 0.4035\n",
      "Epoch 91/100\n",
      "2800/2810 [============================>.] - ETA: 0s - loss: 5.6853 - dense_2_loss_1: 0.8712 - dense_2_loss_2: 0.9424 - dense_2_loss_3: 0.9777 - dense_2_loss_4: 1.0194 - dense_2_loss_5: 1.0109 - dense_2_loss_6: 0.8637 - dense_2_acc_1: 0.7557 - dense_2_acc_2: 0.7429 - dense_2_acc_3: 0.7289 - dense_2_acc_4: 0.7161 - dense_2_acc_5: 0.7325 - dense_2_acc_6: 0.7843Epoch 00090: saving model to main_model_weights.h5\n",
      "2810/2810 [==============================] - 18s - loss: 5.7064 - dense_2_loss_1: 0.8733 - dense_2_loss_2: 0.9458 - dense_2_loss_3: 0.9822 - dense_2_loss_4: 1.0237 - dense_2_loss_5: 1.0131 - dense_2_loss_6: 0.8682 - dense_2_acc_1: 0.7552 - dense_2_acc_2: 0.7420 - dense_2_acc_3: 0.7278 - dense_2_acc_4: 0.7149 - dense_2_acc_5: 0.7317 - dense_2_acc_6: 0.7840 - val_loss: 39.2760 - val_dense_2_loss_1: 4.2808 - val_dense_2_loss_2: 7.2745 - val_dense_2_loss_3: 6.4694 - val_dense_2_loss_4: 8.2357 - val_dense_2_loss_5: 6.2300 - val_dense_2_loss_6: 6.7857 - val_dense_2_acc_1: 0.4386 - val_dense_2_acc_2: 0.2281 - val_dense_2_acc_3: 0.1930 - val_dense_2_acc_4: 0.1053 - val_dense_2_acc_5: 0.2632 - val_dense_2_acc_6: 0.2632\n",
      "Epoch 92/100\n",
      "2800/2810 [============================>.] - ETA: 0s - loss: 5.8796 - dense_2_loss_1: 0.8759 - dense_2_loss_2: 0.9687 - dense_2_loss_3: 1.0510 - dense_2_loss_4: 1.0221 - dense_2_loss_5: 1.0538 - dense_2_loss_6: 0.9082 - dense_2_acc_1: 0.7525 - dense_2_acc_2: 0.7361 - dense_2_acc_3: 0.7096 - dense_2_acc_4: 0.7164 - dense_2_acc_5: 0.7211 - dense_2_acc_6: 0.7746Epoch 00091: saving model to main_model_weights.h5\n",
      "2810/2810 [==============================] - 17s - loss: 5.8846 - dense_2_loss_1: 0.8775 - dense_2_loss_2: 0.9694 - dense_2_loss_3: 1.0530 - dense_2_loss_4: 1.0234 - dense_2_loss_5: 1.0554 - dense_2_loss_6: 0.9059 - dense_2_acc_1: 0.7520 - dense_2_acc_2: 0.7356 - dense_2_acc_3: 0.7093 - dense_2_acc_4: 0.7164 - dense_2_acc_5: 0.7206 - dense_2_acc_6: 0.7751 - val_loss: 41.0460 - val_dense_2_loss_1: 4.4255 - val_dense_2_loss_2: 7.6789 - val_dense_2_loss_3: 6.9242 - val_dense_2_loss_4: 9.1780 - val_dense_2_loss_5: 6.6147 - val_dense_2_loss_6: 6.2246 - val_dense_2_acc_1: 0.4561 - val_dense_2_acc_2: 0.2456 - val_dense_2_acc_3: 0.1228 - val_dense_2_acc_4: 0.0877 - val_dense_2_acc_5: 0.2281 - val_dense_2_acc_6: 0.3684\n",
      "Epoch 93/100\n",
      "2800/2810 [============================>.] - ETA: 0s - loss: 5.6286 - dense_2_loss_1: 0.8444 - dense_2_loss_2: 0.9712 - dense_2_loss_3: 0.9710 - dense_2_loss_4: 0.9987 - dense_2_loss_5: 0.9973 - dense_2_loss_6: 0.8460 - dense_2_acc_1: 0.7661 - dense_2_acc_2: 0.7393 - dense_2_acc_3: 0.7296 - dense_2_acc_4: 0.7307 - dense_2_acc_5: 0.7325 - dense_2_acc_6: 0.7861Epoch 00092: saving model to main_model_weights.h5\n",
      "2810/2810 [==============================] - 17s - loss: 5.6248 - dense_2_loss_1: 0.8421 - dense_2_loss_2: 0.9688 - dense_2_loss_3: 0.9699 - dense_2_loss_4: 0.9999 - dense_2_loss_5: 0.9968 - dense_2_loss_6: 0.8472 - dense_2_acc_1: 0.7669 - dense_2_acc_2: 0.7399 - dense_2_acc_3: 0.7295 - dense_2_acc_4: 0.7302 - dense_2_acc_5: 0.7324 - dense_2_acc_6: 0.7854 - val_loss: 41.3865 - val_dense_2_loss_1: 4.3746 - val_dense_2_loss_2: 7.6375 - val_dense_2_loss_3: 6.8778 - val_dense_2_loss_4: 9.5900 - val_dense_2_loss_5: 6.6451 - val_dense_2_loss_6: 6.2615 - val_dense_2_acc_1: 0.4737 - val_dense_2_acc_2: 0.2807 - val_dense_2_acc_3: 0.1754 - val_dense_2_acc_4: 0.1404 - val_dense_2_acc_5: 0.2982 - val_dense_2_acc_6: 0.3684\n",
      "Epoch 94/100\n",
      "2800/2810 [============================>.] - ETA: 0s - loss: 5.6043 - dense_2_loss_1: 0.8640 - dense_2_loss_2: 0.9468 - dense_2_loss_3: 0.9292 - dense_2_loss_4: 0.9633 - dense_2_loss_5: 0.9924 - dense_2_loss_6: 0.9085 - dense_2_acc_1: 0.7564 - dense_2_acc_2: 0.7446 - dense_2_acc_3: 0.7475 - dense_2_acc_4: 0.7314 - dense_2_acc_5: 0.7368 - dense_2_acc_6: 0.7789Epoch 00093: saving model to main_model_weights.h5\n",
      "2810/2810 [==============================] - 17s - loss: 5.6089 - dense_2_loss_1: 0.8651 - dense_2_loss_2: 0.9462 - dense_2_loss_3: 0.9278 - dense_2_loss_4: 0.9669 - dense_2_loss_5: 0.9951 - dense_2_loss_6: 0.9079 - dense_2_acc_1: 0.7562 - dense_2_acc_2: 0.7448 - dense_2_acc_3: 0.7477 - dense_2_acc_4: 0.7302 - dense_2_acc_5: 0.7363 - dense_2_acc_6: 0.7790 - val_loss: 39.2582 - val_dense_2_loss_1: 4.3575 - val_dense_2_loss_2: 7.4701 - val_dense_2_loss_3: 6.5618 - val_dense_2_loss_4: 8.5401 - val_dense_2_loss_5: 6.0201 - val_dense_2_loss_6: 6.3086 - val_dense_2_acc_1: 0.4737 - val_dense_2_acc_2: 0.2632 - val_dense_2_acc_3: 0.1579 - val_dense_2_acc_4: 0.1228 - val_dense_2_acc_5: 0.2456 - val_dense_2_acc_6: 0.3333\n",
      "Epoch 95/100\n",
      "2800/2810 [============================>.] - ETA: 0s - loss: 5.6025 - dense_2_loss_1: 0.8353 - dense_2_loss_2: 0.9411 - dense_2_loss_3: 0.9581 - dense_2_loss_4: 0.9940 - dense_2_loss_5: 0.9894 - dense_2_loss_6: 0.8846 - dense_2_acc_1: 0.7593 - dense_2_acc_2: 0.7461 - dense_2_acc_3: 0.7311 - dense_2_acc_4: 0.7196 - dense_2_acc_5: 0.7325 - dense_2_acc_6: 0.7739Epoch 00094: saving model to main_model_weights.h5\n",
      "2810/2810 [==============================] - 17s - loss: 5.5959 - dense_2_loss_1: 0.8338 - dense_2_loss_2: 0.9393 - dense_2_loss_3: 0.9590 - dense_2_loss_4: 0.9924 - dense_2_loss_5: 0.9886 - dense_2_loss_6: 0.8828 - dense_2_acc_1: 0.7598 - dense_2_acc_2: 0.7470 - dense_2_acc_3: 0.7310 - dense_2_acc_4: 0.7203 - dense_2_acc_5: 0.7324 - dense_2_acc_6: 0.7744 - val_loss: 41.1814 - val_dense_2_loss_1: 4.4583 - val_dense_2_loss_2: 7.8144 - val_dense_2_loss_3: 7.0380 - val_dense_2_loss_4: 8.7296 - val_dense_2_loss_5: 6.5120 - val_dense_2_loss_6: 6.6291 - val_dense_2_acc_1: 0.4386 - val_dense_2_acc_2: 0.2807 - val_dense_2_acc_3: 0.1404 - val_dense_2_acc_4: 0.1053 - val_dense_2_acc_5: 0.2807 - val_dense_2_acc_6: 0.3860\n",
      "Epoch 96/100\n",
      "2800/2810 [============================>.] - ETA: 0s - loss: 5.3169 - dense_2_loss_1: 0.7943 - dense_2_loss_2: 0.9071 - dense_2_loss_3: 0.9196 - dense_2_loss_4: 0.9400 - dense_2_loss_5: 0.9585 - dense_2_loss_6: 0.7975 - dense_2_acc_1: 0.7704 - dense_2_acc_2: 0.7546 - dense_2_acc_3: 0.7411 - dense_2_acc_4: 0.7382 - dense_2_acc_5: 0.7496 - dense_2_acc_6: 0.7879Epoch 00095: saving model to main_model_weights.h5\n",
      "2810/2810 [==============================] - 17s - loss: 5.3189 - dense_2_loss_1: 0.7928 - dense_2_loss_2: 0.9081 - dense_2_loss_3: 0.9186 - dense_2_loss_4: 0.9418 - dense_2_loss_5: 0.9588 - dense_2_loss_6: 0.7988 - dense_2_acc_1: 0.7708 - dense_2_acc_2: 0.7537 - dense_2_acc_3: 0.7416 - dense_2_acc_4: 0.7381 - dense_2_acc_5: 0.7495 - dense_2_acc_6: 0.7872 - val_loss: 40.9437 - val_dense_2_loss_1: 4.4786 - val_dense_2_loss_2: 8.0316 - val_dense_2_loss_3: 6.9135 - val_dense_2_loss_4: 8.5354 - val_dense_2_loss_5: 6.4088 - val_dense_2_loss_6: 6.5757 - val_dense_2_acc_1: 0.4561 - val_dense_2_acc_2: 0.2807 - val_dense_2_acc_3: 0.1228 - val_dense_2_acc_4: 0.0877 - val_dense_2_acc_5: 0.2982 - val_dense_2_acc_6: 0.3333\n",
      "Epoch 97/100\n",
      "2800/2810 [============================>.] - ETA: 0s - loss: 5.3629 - dense_2_loss_1: 0.7991 - dense_2_loss_2: 0.9069 - dense_2_loss_3: 0.9108 - dense_2_loss_4: 0.9659 - dense_2_loss_5: 0.9685 - dense_2_loss_6: 0.8117 - dense_2_acc_1: 0.7764 - dense_2_acc_2: 0.7518 - dense_2_acc_3: 0.7454 - dense_2_acc_4: 0.7357 - dense_2_acc_5: 0.7368 - dense_2_acc_6: 0.7904Epoch 00096: saving model to main_model_weights.h5\n",
      "2810/2810 [==============================] - 17s - loss: 5.3605 - dense_2_loss_1: 0.7978 - dense_2_loss_2: 0.9080 - dense_2_loss_3: 0.9109 - dense_2_loss_4: 0.9661 - dense_2_loss_5: 0.9681 - dense_2_loss_6: 0.8096 - dense_2_acc_1: 0.7769 - dense_2_acc_2: 0.7520 - dense_2_acc_3: 0.7452 - dense_2_acc_4: 0.7356 - dense_2_acc_5: 0.7363 - dense_2_acc_6: 0.7907 - val_loss: 42.2691 - val_dense_2_loss_1: 4.4378 - val_dense_2_loss_2: 7.5291 - val_dense_2_loss_3: 7.2503 - val_dense_2_loss_4: 9.5212 - val_dense_2_loss_5: 6.9410 - val_dense_2_loss_6: 6.5897 - val_dense_2_acc_1: 0.4386 - val_dense_2_acc_2: 0.2281 - val_dense_2_acc_3: 0.1404 - val_dense_2_acc_4: 0.1228 - val_dense_2_acc_5: 0.2456 - val_dense_2_acc_6: 0.3684\n",
      "Epoch 98/100\n",
      "2800/2810 [============================>.] - ETA: 0s - loss: 5.3630 - dense_2_loss_1: 0.8034 - dense_2_loss_2: 0.8942 - dense_2_loss_3: 0.9156 - dense_2_loss_4: 0.9495 - dense_2_loss_5: 0.9236 - dense_2_loss_6: 0.8767 - dense_2_acc_1: 0.7750 - dense_2_acc_2: 0.7525 - dense_2_acc_3: 0.7404 - dense_2_acc_4: 0.7364 - dense_2_acc_5: 0.7582 - dense_2_acc_6: 0.7886Epoch 00097: saving model to main_model_weights.h5\n",
      "2810/2810 [==============================] - 17s - loss: 5.3772 - dense_2_loss_1: 0.8091 - dense_2_loss_2: 0.8941 - dense_2_loss_3: 0.9180 - dense_2_loss_4: 0.9531 - dense_2_loss_5: 0.9259 - dense_2_loss_6: 0.8770 - dense_2_acc_1: 0.7740 - dense_2_acc_2: 0.7530 - dense_2_acc_3: 0.7395 - dense_2_acc_4: 0.7356 - dense_2_acc_5: 0.7577 - dense_2_acc_6: 0.7883 - val_loss: 42.3741 - val_dense_2_loss_1: 4.4957 - val_dense_2_loss_2: 7.4911 - val_dense_2_loss_3: 7.3047 - val_dense_2_loss_4: 9.4713 - val_dense_2_loss_5: 6.9230 - val_dense_2_loss_6: 6.6882 - val_dense_2_acc_1: 0.4035 - val_dense_2_acc_2: 0.2982 - val_dense_2_acc_3: 0.1754 - val_dense_2_acc_4: 0.1228 - val_dense_2_acc_5: 0.2281 - val_dense_2_acc_6: 0.3333\n",
      "Epoch 99/100\n",
      "2800/2810 [============================>.] - ETA: 0s - loss: 5.2746 - dense_2_loss_1: 0.7852 - dense_2_loss_2: 0.8761 - dense_2_loss_3: 0.9141 - dense_2_loss_4: 0.9298 - dense_2_loss_5: 0.9367 - dense_2_loss_6: 0.8326 - dense_2_acc_1: 0.7779 - dense_2_acc_2: 0.7621 - dense_2_acc_3: 0.7361 - dense_2_acc_4: 0.7454 - dense_2_acc_5: 0.7443 - dense_2_acc_6: 0.7889Epoch 00098: saving model to main_model_weights.h5\n",
      "2810/2810 [==============================] - 17s - loss: 5.2774 - dense_2_loss_1: 0.7848 - dense_2_loss_2: 0.8766 - dense_2_loss_3: 0.9165 - dense_2_loss_4: 0.9301 - dense_2_loss_5: 0.9372 - dense_2_loss_6: 0.8324 - dense_2_acc_1: 0.7776 - dense_2_acc_2: 0.7619 - dense_2_acc_3: 0.7352 - dense_2_acc_4: 0.7452 - dense_2_acc_5: 0.7438 - dense_2_acc_6: 0.7890 - val_loss: 42.1434 - val_dense_2_loss_1: 4.4885 - val_dense_2_loss_2: 7.9574 - val_dense_2_loss_3: 6.9847 - val_dense_2_loss_4: 8.8683 - val_dense_2_loss_5: 6.9010 - val_dense_2_loss_6: 6.9434 - val_dense_2_acc_1: 0.4386 - val_dense_2_acc_2: 0.2807 - val_dense_2_acc_3: 0.1930 - val_dense_2_acc_4: 0.1228 - val_dense_2_acc_5: 0.2281 - val_dense_2_acc_6: 0.3509\n",
      "Epoch 100/100\n",
      "2800/2810 [============================>.] - ETA: 0s - loss: 5.1898 - dense_2_loss_1: 0.7850 - dense_2_loss_2: 0.8572 - dense_2_loss_3: 0.8971 - dense_2_loss_4: 0.8881 - dense_2_loss_5: 0.9539 - dense_2_loss_6: 0.8085 - dense_2_acc_1: 0.7875 - dense_2_acc_2: 0.7571 - dense_2_acc_3: 0.7443 - dense_2_acc_4: 0.7479 - dense_2_acc_5: 0.7379 - dense_2_acc_6: 0.7975Epoch 00099: saving model to main_model_weights.h5\n",
      "2810/2810 [==============================] - 17s - loss: 5.1868 - dense_2_loss_1: 0.7848 - dense_2_loss_2: 0.8570 - dense_2_loss_3: 0.8973 - dense_2_loss_4: 0.8891 - dense_2_loss_5: 0.9526 - dense_2_loss_6: 0.8061 - dense_2_acc_1: 0.7872 - dense_2_acc_2: 0.7569 - dense_2_acc_3: 0.7438 - dense_2_acc_4: 0.7480 - dense_2_acc_5: 0.7384 - dense_2_acc_6: 0.7982 - val_loss: 40.8334 - val_dense_2_loss_1: 4.3684 - val_dense_2_loss_2: 7.5746 - val_dense_2_loss_3: 6.9904 - val_dense_2_loss_4: 8.9484 - val_dense_2_loss_5: 6.6466 - val_dense_2_loss_6: 6.3049 - val_dense_2_acc_1: 0.4561 - val_dense_2_acc_2: 0.2807 - val_dense_2_acc_3: 0.1754 - val_dense_2_acc_4: 0.1579 - val_dense_2_acc_5: 0.2456 - val_dense_2_acc_6: 0.3684\n"
     ]
    }
   ],
   "source": [
    "from keras.callbacks import ModelCheckpoint\n",
    "checkpoint = ModelCheckpoint('main_model_weights.h5', monitor='val_loss', verbose=1, save_best_only=False, mode='auto',save_weights_only=True)\n",
    "model.fit(trainX, trainY, epochs=100, batch_size=20, validation_data=(testX, testY), callbacks=[checkpoint])\n",
    "#Hoping to save model without errors.\n",
    "model.save('main_model.h5')\n",
    "model.save_weights('final_model_weights.h5')"
   ]
  },
  {
   "cell_type": "markdown",
   "metadata": {},
   "source": [
    "Let's now fit the model and run it for one epoch."
   ]
  },
  {
   "cell_type": "code",
   "execution_count": null,
   "metadata": {},
   "outputs": [],
   "source": [
    "#All data model.\n",
    "#model.fit([Xoh, s0, c0], outputs, epochs=10000, batch_size=20)\n",
    "#model.save_weights('model_weights.h5')"
   ]
  },
  {
   "cell_type": "markdown",
   "metadata": {},
   "source": [
    "While training you can see the loss as well as the accuracy on each of the 10 positions of the output. The table below gives you an example of what the accuracies could be if the batch had 2 examples: \n",
    "\n",
    "<img src=\"images/table.png\" style=\"width:700;height:200px;\"> <br>\n",
    "<caption><center>Thus, `dense_2_acc_8: 0.89` means that you are predicting the 7th character of the output correctly 89% of the time in the current batch of data. </center></caption>\n",
    "\n",
    "\n",
    "We have run this model for longer, and saved the weights. Run the next cell to load our weights. (By training a model for several minutes, you should be able to obtain a model of similar accuracy, but loading our model will save you time.) "
   ]
  },
  {
   "cell_type": "code",
   "execution_count": null,
   "metadata": {},
   "outputs": [],
   "source": [
    "# model.load_weights('models/model.h5')"
   ]
  },
  {
   "cell_type": "code",
   "execution_count": 54,
   "metadata": {},
   "outputs": [],
   "source": [
    "from keras.models import load_model\n",
    "loaded_model.load_weights('main_model_weights.h5')"
   ]
  },
  {
   "cell_type": "markdown",
   "metadata": {},
   "source": [
    "You can now see the results on new examples."
   ]
  },
  {
   "cell_type": "code",
   "execution_count": 60,
   "metadata": {},
   "outputs": [
    {
     "data": {
      "text/plain": [
       "['इसको अपना घर ही समझो', 'हमने खरीदी']"
      ]
     },
     "execution_count": 60,
     "metadata": {},
     "output_type": "execute_result"
    }
   ],
   "source": [
    "#EXAMPLES = ['3 May 1979', '5 April 09', '21th of August 2016', 'Tue 10 Jul 2007', 'Saturday May 9 2018', 'March 3 2001', 'March 3rd 2001', '1 March 2001']\n",
    "EXAMPLES=hindi_sentences_list[0:1]\n",
    "true_test=\"हमने खरीदी\"\n",
    "EXAMPLES.append(true_test)\n",
    "EXAMPLES"
   ]
  },
  {
   "cell_type": "code",
   "execution_count": 61,
   "metadata": {},
   "outputs": [
    {
     "name": "stdout",
     "output_type": "stream",
     "text": [
      "[[ 218   59  752 2819 2579]\n",
      " [2770  590 2872 2872 2872]] (2, 5) (2867, 5)\n"
     ]
    }
   ],
   "source": [
    "EXAMPLES_CODED=get_padded_encoding(EXAMPLES,hindi_dictionary,5)\n",
    "print(EXAMPLES_CODED,EXAMPLES_CODED.shape,hindi_encoding.shape)"
   ]
  },
  {
   "cell_type": "code",
   "execution_count": 62,
   "metadata": {},
   "outputs": [
    {
     "name": "stdout",
     "output_type": "stream",
     "text": [
      "\n",
      " ##### \n",
      "\n",
      "Hindi इसको अपना घर ही समझो\n",
      "Expected: Please make yourself at home\n",
      "Predicted output: Please yourself yourself home <pad> <pad>\n",
      "\n",
      " ##### \n",
      "\n",
      "Hindi हमने खरीदी\n",
      "Predicted output: We leave up <pad> <pad> <pad>\n"
     ]
    }
   ],
   "source": [
    "i=0\n",
    "for example in EXAMPLES_CODED:\n",
    "    iteration=i+1\n",
    "    source = example\n",
    "    source = np.array(list(map(lambda x: to_categorical(x, num_classes=len(hindi_dictionary)), source))).swapaxes(0,1)\n",
    "    prediction = model.predict([source,train_s0, train_c0])\n",
    "    #print (\"Prediction, Type & Shape:\",prediction,type(prediction),len(prediction))\n",
    "    prediction = np.argmax(prediction, axis = -1)\n",
    "    #print (\"Prediction, After Argmax:\",prediction)\n",
    "    output = [revere_dictionary_english[int(i)] for i in prediction]\n",
    "    print(\"\\n ##### \\n\")\n",
    "    print(\"Hindi\",EXAMPLES[i])\n",
    "    if (iteration!=EXAMPLES_CODED.shape[0]):\n",
    "        print(\"Expected:\",english_sentences_list[i])\n",
    "    print(\"Predicted output:\", ' '.join(output))\n",
    "    #print (\"Prediction:\",list(prediction))\n",
    "    i=i+1"
   ]
  },
  {
   "cell_type": "markdown",
   "metadata": {},
   "source": [
    "You can also change these examples to test with your own examples. The next part will give you a better sense on what the attention mechanism is doing--i.e., what part of the input the network is paying attention to when generating a particular output character. "
   ]
  },
  {
   "cell_type": "markdown",
   "metadata": {},
   "source": [
    "## 3 - Visualizing Attention (Optional / Ungraded)\n",
    "\n",
    "Since the problem has a fixed output length of 10, it is also possible to carry out this task using 10 different softmax units to generate the 10 characters of the output. But one advantage of the attention model is that each part of the output (say the month) knows it needs to depend only on a small part of the input (the characters in the input giving the month). We can  visualize what part of the output is looking at what part of the input.\n",
    "\n",
    "Consider the task of translating \"Saturday 9 May 2018\" to \"2018-05-09\". If we visualize the computed $\\alpha^{\\langle t, t' \\rangle}$ we get this: \n",
    "\n",
    "<img src=\"images/date_attention.png\" style=\"width:600;height:300px;\"> <br>\n",
    "<caption><center> **Figure 8**: Full Attention Map</center></caption>\n",
    "\n",
    "Notice how the output ignores the \"Saturday\" portion of the input. None of the output timesteps are paying much attention to that portion of the input. We see also that 9 has been translated as 09 and May has been correctly translated into 05, with the output paying attention to the parts of the input it needs to to make the translation. The year mostly requires it to pay attention to the input's \"18\" in order to generate \"2018.\" \n",
    "\n"
   ]
  },
  {
   "cell_type": "markdown",
   "metadata": {},
   "source": [
    "### 3.1 - Getting the activations from the network\n",
    "\n",
    "Lets now visualize the attention values in your network. We'll propagate an example through the network, then visualize the values of $\\alpha^{\\langle t, t' \\rangle}$. \n",
    "\n",
    "To figure out where the attention values are located, let's start by printing a summary of the model ."
   ]
  },
  {
   "cell_type": "code",
   "execution_count": null,
   "metadata": {},
   "outputs": [],
   "source": [
    "model.summary()"
   ]
  },
  {
   "cell_type": "markdown",
   "metadata": {},
   "source": [
    "Navigate through the output of `model.summary()` above. You can see that the layer named `attention_weights` outputs the `alphas` of shape (m, 30, 1) before `dot_2` computes the context vector for every time step $t = 0, \\ldots, T_y-1$. Lets get the activations from this layer.\n",
    "\n",
    "The function `attention_map()` pulls out the attention values from your model and plots them."
   ]
  },
  {
   "cell_type": "code",
   "execution_count": null,
   "metadata": {},
   "outputs": [],
   "source": [
    "test_sentence=str(hindi_sentences_list[1])"
   ]
  },
  {
   "cell_type": "code",
   "execution_count": null,
   "metadata": {
    "scrolled": false
   },
   "outputs": [],
   "source": [
    "attention_map = plot_attention_map(model, hindi_dictionary, revere_dictionary_english, test_sentence, num = 6, n_s = 128)"
   ]
  },
  {
   "cell_type": "markdown",
   "metadata": {},
   "source": [
    "On the generated plot you can observe the values of the attention weights for each character of the predicted output. Examine this plot and check that where the network is paying attention makes sense to you.\n",
    "\n",
    "In the date translation application, you will observe that most of the time attention helps predict the year, and hasn't much impact on predicting the day/month."
   ]
  },
  {
   "cell_type": "markdown",
   "metadata": {},
   "source": [
    "### Congratulations!\n",
    "\n",
    "\n",
    "You have come to the end of this assignment \n",
    "\n",
    "<font color='blue'> **Here's what you should remember from this notebook**:\n",
    "\n",
    "- Machine translation models can be used to map from one sequence to another. They are useful not just for translating human languages (like French->English) but also for tasks like date format translation. \n",
    "- An attention mechanism allows a network to focus on the most relevant parts of the input when producing a specific part of the output. \n",
    "- A network using an attention mechanism can translate from inputs of length $T_x$ to outputs of length $T_y$, where $T_x$ and $T_y$ can be different. \n",
    "- You can visualize attention weights $\\alpha^{\\langle t,t' \\rangle}$ to see what the network is paying attention to while generating each output."
   ]
  },
  {
   "cell_type": "markdown",
   "metadata": {},
   "source": [
    "Congratulations on finishing this assignment! You are now able to implement an attention model and use it to learn complex mappings from one sequence to another. "
   ]
  }
 ],
 "metadata": {
  "coursera": {
   "course_slug": "nlp-sequence-models",
   "graded_item_id": "n16CQ",
   "launcher_item_id": "npjGi"
  },
  "kernelspec": {
   "display_name": "Python 3.5 with Spark 1.6 (Unsupported)",
   "language": "python",
   "name": "python3"
  },
  "language_info": {
   "codemirror_mode": {
    "name": "ipython",
    "version": 3
   },
   "file_extension": ".py",
   "mimetype": "text/x-python",
   "name": "python",
   "nbconvert_exporter": "python",
   "pygments_lexer": "ipython3",
   "version": "3.5.4"
  }
 },
 "nbformat": 4,
 "nbformat_minor": 2
}
