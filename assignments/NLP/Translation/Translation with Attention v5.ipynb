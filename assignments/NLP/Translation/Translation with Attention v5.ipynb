{
 "cells": [
  {
   "cell_type": "markdown",
   "metadata": {},
   "source": [
    "# Neural Machine Translation\n",
    "\n",
    "Welcome to your first programming assignment for this week! \n",
    "\n",
    "You will build a Neural Machine Translation (NMT) model to translate human readable dates (\"25th of June, 2009\") into machine readable dates (\"2009-06-25\"). You will do this using an attention model, one of the most sophisticated sequence to sequence models. \n",
    "\n",
    "This notebook was produced together with NVIDIA's Deep Learning Institute. \n",
    "\n",
    "Let's load all the packages you will need for this assignment."
   ]
  },
  {
   "cell_type": "code",
   "execution_count": 1,
   "metadata": {},
   "outputs": [
    {
     "name": "stderr",
     "output_type": "stream",
     "text": [
      "Using TensorFlow backend.\n"
     ]
    }
   ],
   "source": [
    "from keras.layers import Bidirectional, Concatenate, Permute, Dot, Input, LSTM, Multiply\n",
    "from keras.layers import RepeatVector, Dense, Activation, Lambda\n",
    "from keras.optimizers import Adam\n",
    "from keras.utils import to_categorical\n",
    "from keras.models import load_model, Model\n",
    "import keras.backend as K\n",
    "import numpy as np\n",
    "\n",
    "from faker import Faker\n",
    "import random\n",
    "from tqdm import tqdm\n",
    "from babel.dates import format_date\n",
    "from nmt_utils import *\n",
    "import matplotlib.pyplot as plt\n",
    "%matplotlib inline"
   ]
  },
  {
   "cell_type": "code",
   "execution_count": 49,
   "metadata": {},
   "outputs": [
    {
     "name": "stdout",
     "output_type": "stream",
     "text": [
      "Word2Vec(vocab=14, size=100, alpha=0.025)\n",
      "['this', 'another', 'second', 'for', 'more', 'first', 'yet', 'is', 'final', 'word2vec', 'sentence', 'one', 'and', 'the']\n",
      "Vecctor of word sentence [ -3.49668408e-04   4.73653711e-03   1.17032044e-03  -3.78806982e-03\n",
      "   7.80358794e-04  -4.46151197e-03  -2.90264585e-03   3.62122431e-03\n",
      "  -3.49260424e-03   3.28061497e-03   4.25094832e-03   2.55290442e-03\n",
      "   3.26669775e-03  -4.69293213e-03   4.82706324e-04   1.63925230e-03\n",
      "   4.62356664e-04  -3.12877307e-03   2.58861249e-03   1.72645657e-03\n",
      "  -2.59265420e-03   1.40092638e-03  -2.09739688e-03  -3.86068295e-03\n",
      "  -2.96218204e-03   2.84044840e-03   7.99995032e-05   2.18092138e-03\n",
      "   3.04037030e-03  -4.01629077e-04  -9.77552147e-04  -3.67132179e-03\n",
      "   3.01169208e-03   3.44321714e-03  -4.87036584e-03   4.60917503e-03\n",
      "   1.20434801e-04   3.66202020e-03   2.65591103e-03   3.90945561e-03\n",
      "   3.63834412e-03   4.20947978e-03  -3.98514559e-03  -3.08260997e-03\n",
      "  -1.71891239e-03  -1.27864711e-03   2.09493097e-03  -4.23093559e-03\n",
      "  -8.82102235e-04   3.81997367e-03   1.66321779e-03   4.87890001e-03\n",
      "  -4.52019367e-03  -1.78758334e-03   1.89399696e-03   4.77570482e-03\n",
      "   3.56493727e-03   2.39901198e-03  -3.59559897e-03  -3.87428678e-03\n",
      "  -1.44356815e-03   1.03010947e-03   1.33160048e-03   1.31597195e-03\n",
      "   4.01924085e-03   2.93260440e-03  -3.65768629e-03  -9.51838447e-04\n",
      "  -6.57273282e-04  -5.02561685e-04   4.87134093e-03   1.45677873e-03\n",
      "  -5.08574267e-05  -3.34158214e-03  -6.47891662e-04   2.50304444e-03\n",
      "   6.25299348e-04  -4.60278941e-03  -2.28648982e-03   8.00784561e-04\n",
      "   1.24705606e-03   3.11055570e-04   1.17617100e-03  -4.34719678e-03\n",
      "   2.32225447e-03   1.82067743e-03   3.75392707e-03   3.96244414e-03\n",
      "   4.40691505e-03   8.97917314e-04   2.43903929e-03   2.83352355e-03\n",
      "   4.91445512e-03   1.76440703e-03  -4.42944933e-03  -8.53221864e-04\n",
      "   3.86351254e-03  -4.79527563e-03  -5.11498947e-04   4.64723073e-03]\n",
      "Word2Vec(vocab=14, size=100, alpha=0.025)\n"
     ]
    },
    {
     "name": "stderr",
     "output_type": "stream",
     "text": [
      "/usr/local/src/conda3_runtime/home/envs/DSX-Python35-Spark/lib/python3.5/site-packages/ipykernel/__main__.py:16: DeprecationWarning: Call to deprecated `__getitem__` (Method will be removed in 4.0.0, use self.wv.__getitem__() instead).\n"
     ]
    }
   ],
   "source": [
    "from gensim.models import Word2Vec\n",
    "# define training data\n",
    "sentences = [['this', 'is', 'the', 'first', 'sentence', 'for', 'word2vec'],\n",
    "\t\t\t['this', 'is', 'the', 'second', 'sentence'],\n",
    "\t\t\t['yet', 'another', 'sentence'],\n",
    "\t\t\t['one', 'more', 'sentence'],\n",
    "\t\t\t['and', 'the', 'final', 'sentence']]\n",
    "# train model\n",
    "model = Word2Vec(sentences, min_count=1)\n",
    "# summarize the loaded model\n",
    "print(model)\n",
    "# summarize vocabulary\n",
    "words = list(model.wv.vocab)\n",
    "print(words)\n",
    "# access vector for one word\n",
    "print(\"Vecctor of word sentence\",model['sentence'])\n",
    "# save model\n",
    "model.save('model.bin')\n",
    "# load model\n",
    "new_model = Word2Vec.load('model.bin')\n",
    "print(new_model)"
   ]
  },
  {
   "cell_type": "markdown",
   "metadata": {},
   "source": [
    "## 1 - Translating human readable dates into machine readable dates\n",
    "\n",
    "The model you will build here could be used to translate from one language to another, such as translating from English to Hindi. However, language translation requires massive datasets and usually takes days of training on GPUs. To give you a place to experiment with these models even without using massive datasets, we will instead use a simpler \"date translation\" task. \n",
    "\n",
    "The network will input a date written in a variety of possible formats (*e.g. \"the 29th of August 1958\", \"03/30/1968\", \"24 JUNE 1987\"*) and translate them into standardized, machine readable dates (*e.g. \"1958-08-29\", \"1968-03-30\", \"1987-06-24\"*). We will have the network learn to output dates in the common machine-readable format YYYY-MM-DD. \n",
    "\n",
    "\n",
    "\n",
    "<!-- \n",
    "Take a look at [nmt_utils.py](./nmt_utils.py) to see all the formatting. Count and figure out how the formats work, you will need this knowledge later. !--> "
   ]
  },
  {
   "cell_type": "markdown",
   "metadata": {},
   "source": [
    "### 1.1 - Dataset\n",
    "\n",
    "We will train the model on a dataset of 10000 human readable dates and their equivalent, standardized, machine readable dates. Let's run the following cells to load the dataset and print some examples. "
   ]
  },
  {
   "cell_type": "code",
   "execution_count": 2,
   "metadata": {},
   "outputs": [],
   "source": [
    "#m = 10000\n",
    "#dataset, human_vocab, machine_vocab, inv_machine_vocab = load_dataset(m)"
   ]
  },
  {
   "cell_type": "code",
   "execution_count": 3,
   "metadata": {},
   "outputs": [
    {
     "data": {
      "text/plain": [
       "['english-hindi-train.pkl',\n",
       " 'english-german.pkl',\n",
       " 'enghindi.txt',\n",
       " 'main_model_weights.h5',\n",
       " 'main_model.h5',\n",
       " 'english-hindi.pkl',\n",
       " 'model.h5',\n",
       " 'english-german-train.pkl',\n",
       " 'images',\n",
       " 'hin.txt',\n",
       " 'english-hindi-both.pkl',\n",
       " 'nmt_utils.py',\n",
       " 'english-german-both.pkl',\n",
       " 'english-hindi-test.pkl',\n",
       " '__pycache__',\n",
       " 'Neural+machine+translation+with+attention+-+v4.ipynb',\n",
       " 'english-german-test.pkl',\n",
       " '_about.txt']"
      ]
     },
     "execution_count": 3,
     "metadata": {},
     "output_type": "execute_result"
    }
   ],
   "source": [
    "import requests, zipfile, io\n",
    "#https://github.com/meethariprasad/phd/raw/master/assignments/NLP/Translation/hin.zip\n",
    "r = requests.get(\"http://www.manythings.org/anki/hin-eng.zip\")\n",
    "z = zipfile.ZipFile(io.BytesIO(r.content))\n",
    "z.extractall()\n",
    "os.listdir()"
   ]
  },
  {
   "cell_type": "code",
   "execution_count": 4,
   "metadata": {},
   "outputs": [],
   "source": [
    "file=open(\"hin.txt\",'r',encoding='utf-8')\n",
    "content=file.read()\n",
    "file.close()"
   ]
  },
  {
   "cell_type": "code",
   "execution_count": 5,
   "metadata": {},
   "outputs": [
    {
     "name": "stdout",
     "output_type": "stream",
     "text": [
      "Number of clean pairs 2867\n",
      "Saved: english-german.pkl\n",
      "[Help] => [बचाओ]\n",
      "[Jump] => [उछलो]\n",
      "[Jump] => [कूदो]\n",
      "[Jump] => [छलांग]\n",
      "[Hello] => [नमस्ते]\n",
      "[Hello] => [नमस्कार]\n",
      "[Cheers] => [वाहवाह]\n",
      "[Cheers] => [चियर्स]\n",
      "[Got it] => [समझे कि नहीं]\n",
      "[Im OK] => [मैं ठीक हूँ]\n"
     ]
    }
   ],
   "source": [
    "import string\n",
    "import re\n",
    "from pickle import dump\n",
    "from unicodedata import normalize\n",
    "from numpy import array\n",
    "\n",
    "# load doc into memory\n",
    "def load_doc(filename):\n",
    "\t# open the file as read only\n",
    "\tfile = open(filename, mode='rt', encoding='utf-8')\n",
    "\t# read all text\n",
    "\ttext = file.read()\n",
    "\t# close the file\n",
    "\tfile.close()\n",
    "\treturn text\n",
    "\n",
    "# split a loaded document into sentences\n",
    "def to_pairs(doc):\n",
    "\tlines = doc.strip().split('\\n')\n",
    "\tpairs = [line.split('\\t') for line in  lines]\n",
    "\treturn pairs\n",
    "\n",
    "# clean a list of lines\n",
    "def clean_pairs(lines):\n",
    "\tcleaned = list()\n",
    "\t# prepare regex for char filtering\n",
    "\tre_punc = re.compile('[।%s]' % re.escape(string.punctuation))\n",
    "\tre_print = re.compile('[^%s]' % re.escape(string.printable))\n",
    "\tfor pair in lines:\n",
    "\t\tclean_pair = list()\n",
    "\t\tfor line in pair:\n",
    "\t\t\t# tokenize on white space\n",
    "\t\t\tline = line.split()\n",
    "\t\t\t# remove punctuation from each token\n",
    "\t\t\tline = [re_punc.sub('', w) for w in line]\n",
    "\t\t\t# remove tokens with numbers in them\n",
    "\t\t\t#line = [word for word in line if word.isalpha()]\n",
    "\t\t\t#line=re.sub('[।]', '', line)\n",
    "\t\t\t# store as string\n",
    "\t\t\tclean_pair.append(' '.join(line))\n",
    "\t\tcleaned.append(clean_pair)\n",
    "\treturn array(cleaned)\n",
    "\n",
    "# save a list of clean sentences to file\n",
    "def save_clean_data(sentences, filename):\n",
    "\tdump(sentences, open(filename, 'wb'))\n",
    "\tprint('Saved: %s' % filename)\n",
    "\n",
    "# load dataset\n",
    "filename = 'hin.txt'\n",
    "doc = load_doc(filename)\n",
    "# split into english-german pairs\n",
    "pairs = to_pairs(doc)\n",
    "# clean sentences\n",
    "clean_pairs = clean_pairs(pairs)\n",
    "# save clean pairs to file\n",
    "print (\"Number of clean pairs\",clean_pairs.shape[0])\n",
    "save_clean_data(clean_pairs, 'english-german.pkl')\n",
    "# spot check\n",
    "for i in range(10):\n",
    "\tprint('[%s] => [%s]' % (clean_pairs[i,0], clean_pairs[i,1]))"
   ]
  },
  {
   "cell_type": "code",
   "execution_count": 6,
   "metadata": {},
   "outputs": [
    {
     "name": "stdout",
     "output_type": "stream",
     "text": [
      "2867\n",
      "Saved: english-german-both.pkl\n",
      "Saved: english-german-train.pkl\n",
      "Saved: english-german-test.pkl\n"
     ]
    }
   ],
   "source": [
    "from pickle import load\n",
    "from pickle import dump\n",
    "from numpy.random import shuffle\n",
    "\n",
    "# load a clean dataset\n",
    "def load_clean_sentences(filename):\n",
    "\treturn load(open(filename, 'rb'))\n",
    "\n",
    "# save a list of clean sentences to file\n",
    "def save_clean_data(sentences, filename):\n",
    "\tdump(sentences, open(filename, 'wb'))\n",
    "\tprint('Saved: %s' % filename)\n",
    "\n",
    "# load dataset\n",
    "raw_dataset = load_clean_sentences('english-german.pkl')\n",
    "\n",
    "# reduce dataset size\n",
    "n_sentences = raw_dataset.shape[0]\n",
    "print (n_sentences)\n",
    "dataset = raw_dataset[:n_sentences, :]\n",
    "# random shuffle\n",
    "shuffle(dataset)\n",
    "# split into train/test\n",
    "train, test = dataset[:2800], dataset[2800:]\n",
    "# save\n",
    "save_clean_data(dataset, 'english-german-both.pkl')\n",
    "save_clean_data(train, 'english-german-train.pkl')\n",
    "save_clean_data(test, 'english-german-test.pkl')"
   ]
  },
  {
   "cell_type": "code",
   "execution_count": 7,
   "metadata": {},
   "outputs": [
    {
     "data": {
      "text/plain": [
       "array([['I wake up at 7 oclock', 'मैं सात बजे सोकर उठता हूँ'],\n",
       "       ['My hands are dirty I have been repairing my bicycle',\n",
       "        'मेरे हाथ गंदे हैं मैं अपनी साईकल ठीक कर रहा था'],\n",
       "       ['Im going to tell you something', 'मैं तुम्हें कुछ बताने वाला हूँ'],\n",
       "       ['He is tall and strong', 'वह लम्बा और ताकतवर है'],\n",
       "       ['When did the accident happen', 'घटना कब हुई'],\n",
       "       ['The man committed murder', 'उस आदमी ने कत्ल किया'],\n",
       "       ['How rude of you', 'बदतमीज़'],\n",
       "       ['My sister has a job', 'मेरी बहन के पास नौकरी है'],\n",
       "       ['The sooner the better', 'जितना जल्दी उतना अच्छा'],\n",
       "       ['Do you think he will be elected president again',\n",
       "        'क्या तुम्हे लगता है वह फिरसे प्रेसीडेंट चुना जाएगा']],\n",
       "      dtype='<U121')"
      ]
     },
     "execution_count": 7,
     "metadata": {},
     "output_type": "execute_result"
    }
   ],
   "source": [
    "dataset[:10]"
   ]
  },
  {
   "cell_type": "code",
   "execution_count": 8,
   "metadata": {},
   "outputs": [],
   "source": [
    "#Converting it to tuples.\n",
    "dataset_list=(list(tuple(map(tuple, dataset))))"
   ]
  },
  {
   "cell_type": "code",
   "execution_count": 9,
   "metadata": {},
   "outputs": [
    {
     "data": {
      "text/plain": [
       "list"
      ]
     },
     "execution_count": 9,
     "metadata": {},
     "output_type": "execute_result"
    }
   ],
   "source": [
    "type(dataset_list[1:2])"
   ]
  },
  {
   "cell_type": "code",
   "execution_count": 10,
   "metadata": {},
   "outputs": [
    {
     "data": {
      "text/plain": [
       "array([['I wake up at 7 oclock', 'मैं सात बजे सोकर उठता हूँ'],\n",
       "       ['My hands are dirty I have been repairing my bicycle',\n",
       "        'मेरे हाथ गंदे हैं मैं अपनी साईकल ठीक कर रहा था'],\n",
       "       ['Im going to tell you something', 'मैं तुम्हें कुछ बताने वाला हूँ'],\n",
       "       ..., \n",
       "       ['A mother is responsible for the conduct of her children',\n",
       "        'एक माँ अपने बच्चों के बर्ताव के लिए ज़िम्मेदार होती है'],\n",
       "       ['The man lost all hope', 'उस आदमी ने सारी उम्मीद छोड़दी'],\n",
       "       ['Will you go to the party tonight',\n",
       "        'तुम आज रात पार्टी में जाओगे क्या']],\n",
       "      dtype='<U121')"
      ]
     },
     "execution_count": 10,
     "metadata": {},
     "output_type": "execute_result"
    }
   ],
   "source": [
    "#Creating small subset for test\n",
    "#dataset=dataset[0:2]\n",
    "dataset"
   ]
  },
  {
   "cell_type": "code",
   "execution_count": 11,
   "metadata": {},
   "outputs": [],
   "source": [
    "#Converting it to tuples.\n",
    "dataset_list=(list(tuple(map(tuple, dataset))))"
   ]
  },
  {
   "cell_type": "code",
   "execution_count": 12,
   "metadata": {},
   "outputs": [],
   "source": [
    "english_sentences_list=list(dataset[:,0])"
   ]
  },
  {
   "cell_type": "code",
   "execution_count": 13,
   "metadata": {},
   "outputs": [],
   "source": [
    "english_unique_words=set((' '.join(english_sentences_list)).split())\n",
    "english_vocab_len=len(set((' '.join(english_sentences_list)).split()))"
   ]
  },
  {
   "cell_type": "code",
   "execution_count": 14,
   "metadata": {},
   "outputs": [],
   "source": [
    "hindi_sentences_list=list(dataset[:,1])"
   ]
  },
  {
   "cell_type": "code",
   "execution_count": 15,
   "metadata": {},
   "outputs": [],
   "source": [
    "hindi_unique_words=set((' '.join(hindi_sentences_list)).split())\n",
    "hindi_vocab_len=len(set((' '.join(hindi_sentences_list)).split()))"
   ]
  },
  {
   "cell_type": "code",
   "execution_count": 16,
   "metadata": {},
   "outputs": [],
   "source": [
    "#Dictionary\n",
    "english_dictionary=dict(zip(sorted(english_unique_words) + ['<unk>', '<pad>'], list(range(len(english_unique_words) + 2))))\n",
    "hindi_dictionary=dict(zip(sorted(hindi_unique_words) + ['<unk>', '<pad>'], list(range(len(hindi_unique_words) + 2))))"
   ]
  },
  {
   "cell_type": "code",
   "execution_count": 17,
   "metadata": {},
   "outputs": [],
   "source": [
    "#Reverse Dictionary\n",
    "revere_dictionary_hindi=dict((v,k) for k,v in hindi_dictionary.items())\n",
    "revere_dictionary_english=dict((v,k) for k,v in english_dictionary.items())"
   ]
  },
  {
   "cell_type": "code",
   "execution_count": 18,
   "metadata": {},
   "outputs": [],
   "source": [
    "english_padding_value=english_dictionary['<pad>']\n",
    "hindi_padding_value=hindi_dictionary['<pad>']"
   ]
  },
  {
   "cell_type": "code",
   "execution_count": 19,
   "metadata": {},
   "outputs": [
    {
     "name": "stdout",
     "output_type": "stream",
     "text": [
      "22 25\n"
     ]
    }
   ],
   "source": [
    "#This going to be the global variable with maximum number of words found in a sentence\n",
    "max_english_words=max(len(line.split()) for line in english_sentences_list)\n",
    "max_hindi_words=max(len(line.split()) for line in hindi_sentences_list)\n",
    "print(max_english_words,max_hindi_words)"
   ]
  },
  {
   "cell_type": "code",
   "execution_count": 20,
   "metadata": {},
   "outputs": [],
   "source": [
    "def get_padded_encoding(sentences_list,language_dictionary,max_language_words):\n",
    "    padding_value=language_dictionary['<pad>']\n",
    "    language_array=[]\n",
    "    #Iterate over List.\n",
    "    for sentence in sentences_list:\n",
    "        #Replaces English words with English Vocabulary Indexes and Hindi with Hindi Vocabulary Indexes.\n",
    "        #Remember to have a logic to have if condition in test where, if a word not in dictionary enters, it will be replaced by unk key value.\n",
    "        single_sentence_array=([language_dictionary[word] for word in sentence.split()])\n",
    "        #Find the length of english_single_sentence_array\n",
    "        length_single_sentence=(len(single_sentence_array))\n",
    "        #So how many times padding dictionary key needs to be appended, if we say maximum length of sentences to be considered is eng_max_len.\n",
    "        padding_count=(max_language_words-length_single_sentence)\n",
    "        for pad in range(0,padding_count):\n",
    "            single_sentence_array.append(padding_value)\n",
    "        #Append to main array\n",
    "        language_array.append(single_sentence_array)\n",
    "    #Convert to Numpy array at the end\n",
    "    language_array=np.array(language_array)\n",
    "    return(language_array)"
   ]
  },
  {
   "cell_type": "code",
   "execution_count": 21,
   "metadata": {},
   "outputs": [
    {
     "name": "stdout",
     "output_type": "stream",
     "text": [
      "(2867, 25) (2867, 22)\n"
     ]
    }
   ],
   "source": [
    "hindi_encoding=get_padded_encoding(hindi_sentences_list,hindi_dictionary,max_hindi_words)\n",
    "english_encoding=get_padded_encoding(english_sentences_list,english_dictionary,max_english_words)\n",
    "print(hindi_encoding.shape,english_encoding.shape)"
   ]
  },
  {
   "cell_type": "code",
   "execution_count": 22,
   "metadata": {},
   "outputs": [
    {
     "name": "stdout",
     "output_type": "stream",
     "text": [
      "My hands are dirty I have been repairing my bicycle मेरे हाथ गंदे हैं मैं अपनी साईकल ठीक कर रहा था\n",
      "[ 242 1280  527  946  185 1300  599 1972 1646  624 2619 2619 2619 2619 2619\n",
      " 2619 2619 2619 2619 2619 2619 2619] [2186 2795  665 2835 2189   60 2619 1098  391 2259 1225 2872 2872 2872 2872\n",
      " 2872 2872 2872 2872 2872 2872 2872 2872 2872 2872]\n",
      "My\n",
      "hands\n",
      "are\n",
      "dirty\n",
      "I\n",
      "have\n",
      "been\n",
      "repairing\n",
      "my\n",
      "bicycle\n",
      "<pad>\n",
      "<pad>\n",
      "<pad>\n",
      "<pad>\n",
      "<pad>\n",
      "<pad>\n",
      "<pad>\n",
      "<pad>\n",
      "<pad>\n",
      "<pad>\n",
      "<pad>\n",
      "<pad>\n",
      "मेरे\n",
      "हाथ\n",
      "गंदे\n",
      "हैं\n",
      "मैं\n",
      "अपनी\n",
      "साईकल\n",
      "ठीक\n",
      "कर\n",
      "रहा\n",
      "था\n",
      "<pad>\n",
      "<pad>\n",
      "<pad>\n",
      "<pad>\n",
      "<pad>\n",
      "<pad>\n",
      "<pad>\n",
      "<pad>\n",
      "<pad>\n",
      "<pad>\n",
      "<pad>\n",
      "<pad>\n",
      "<pad>\n",
      "<pad>\n"
     ]
    },
    {
     "data": {
      "text/plain": [
       "2872"
      ]
     },
     "execution_count": 22,
     "metadata": {},
     "output_type": "execute_result"
    }
   ],
   "source": [
    "#Verification\n",
    "print(english_sentences_list[1],hindi_sentences_list[1])\n",
    "print(english_encoding[1],hindi_encoding[1])\n",
    "#Check if encoding gives back the same answer\n",
    "for key in english_encoding[1]:\n",
    "    print(revere_dictionary_english[key])\n",
    "for key in hindi_encoding[1]:\n",
    "    print(revere_dictionary_hindi[key])\n",
    "english_dictionary['<pad>']\n",
    "hindi_dictionary['<pad>']"
   ]
  },
  {
   "cell_type": "code",
   "execution_count": 23,
   "metadata": {},
   "outputs": [
    {
     "name": "stdout",
     "output_type": "stream",
     "text": [
      "X.shape: (2867, 25)\n",
      "Y.shape: (2867, 22)\n",
      "Xoh.shape: (2867, 25, 2873)\n",
      "Yoh.shape: (2867, 22, 2620)\n"
     ]
    }
   ],
   "source": [
    "#We will convert the english and hindi encodings to one hot encodings.\n",
    "#Please note Input is of the dimension (number of sentences,max_length_language(every column is a word))\n",
    "#Output is (number of sentences,Max_length_language(every row is a word),length of vocabulary)\n",
    "#Basically every row of the onehotcode matrix must be for one word.\n",
    "#How=1 => 1 0 0\n",
    "#Are=2 => 0 1 0\n",
    "#You=3 => 0 0 1\n",
    "#We are trying to translate hindi to english, so our X is Hindi and Y is English\n",
    "X=hindi_encoding\n",
    "Y=english_encoding\n",
    "#Instead of one hot we can use word embeddings.\n",
    "Xoh=np.array(list(map(lambda x: to_categorical(x, num_classes=len(hindi_dictionary)), X)))\n",
    "Yoh=np.array(list(map(lambda x: to_categorical(x, num_classes=len(english_dictionary)), Y)))\n",
    "print(\"X.shape:\", X.shape)\n",
    "print(\"Y.shape:\", Y.shape)\n",
    "print(\"Xoh.shape:\", Xoh.shape)\n",
    "print(\"Yoh.shape:\", Yoh.shape)"
   ]
  },
  {
   "cell_type": "code",
   "execution_count": 24,
   "metadata": {},
   "outputs": [
    {
     "data": {
      "text/plain": [
       "(25, 22)"
      ]
     },
     "execution_count": 24,
     "metadata": {},
     "output_type": "execute_result"
    }
   ],
   "source": [
    "Tx = hindi_encoding.shape[1]\n",
    "Ty = english_encoding.shape[1]\n",
    "Tx,Ty"
   ]
  },
  {
   "cell_type": "markdown",
   "metadata": {},
   "source": [
    "You've loaded:\n",
    "- `dataset`: a list of tuples of (human readable date, machine readable date)\n",
    "- `human_vocab`: a python dictionary mapping all characters used in the human readable dates to an integer-valued index \n",
    "- `machine_vocab`: a python dictionary mapping all characters used in machine readable dates to an integer-valued index. These indices are not necessarily consistent with `human_vocab`. \n",
    "- `inv_machine_vocab`: the inverse dictionary of `machine_vocab`, mapping from indices back to characters. \n",
    "\n",
    "Let's preprocess the data and map the raw text data into the index values. We will also use Tx=30 (which we assume is the maximum length of the human readable date; if we get a longer input, we would have to truncate it) and Ty=10 (since \"YYYY-MM-DD\" is 10 characters long). "
   ]
  },
  {
   "cell_type": "code",
   "execution_count": 25,
   "metadata": {},
   "outputs": [],
   "source": [
    "#Tx = 30\n",
    "#Ty = 15\n",
    "#X, Y, Xoh, Yoh = preprocess_data(dataset, human_vocab, machine_vocab, Tx, Ty)\n",
    "#X, Y, Xoh, Yoh = preprocess_data(dataset_list, english_dictionary, hindi_dictionary, Tx, Ty)\n",
    "\n",
    "#print(\"X.shape:\", X.shape)\n",
    "#print(\"Y.shape:\", Y.shape)\n",
    "#print(\"Xoh.shape:\", Xoh.shape)\n",
    "#print(\"Yoh.shape:\", Yoh.shape)"
   ]
  },
  {
   "cell_type": "code",
   "execution_count": 26,
   "metadata": {},
   "outputs": [
    {
     "data": {
      "text/plain": [
       "array([[ 0.,  0.,  0., ...,  0.,  0.,  0.],\n",
       "       [ 0.,  0.,  0., ...,  0.,  0.,  0.],\n",
       "       [ 0.,  0.,  0., ...,  0.,  0.,  0.],\n",
       "       ..., \n",
       "       [ 0.,  0.,  0., ...,  0.,  0.,  1.],\n",
       "       [ 0.,  0.,  0., ...,  0.,  0.,  1.],\n",
       "       [ 0.,  0.,  0., ...,  0.,  0.,  1.]])"
      ]
     },
     "execution_count": 26,
     "metadata": {},
     "output_type": "execute_result"
    }
   ],
   "source": [
    "Xoh[1]"
   ]
  },
  {
   "cell_type": "markdown",
   "metadata": {},
   "source": [
    "You now have:\n",
    "- `X`: a processed version of the human readable dates in the training set, where each character is replaced by an index mapped to the character via `human_vocab`. Each date is further padded to $T_x$ values with a special character (< pad >). `X.shape = (m, Tx)`\n",
    "- `Y`: a processed version of the machine readable dates in the training set, where each character is replaced by the index it is mapped to in `machine_vocab`. You should have `Y.shape = (m, Ty)`. \n",
    "- `Xoh`: one-hot version of `X`, the \"1\" entry's index is mapped to the character thanks to `human_vocab`. `Xoh.shape = (m, Tx, len(human_vocab))`\n",
    "- `Yoh`: one-hot version of `Y`, the \"1\" entry's index is mapped to the character thanks to `machine_vocab`. `Yoh.shape = (m, Tx, len(machine_vocab))`. Here, `len(machine_vocab) = 11` since there are 11 characters ('-' as well as 0-9). \n"
   ]
  },
  {
   "cell_type": "markdown",
   "metadata": {},
   "source": [
    "Lets also look at some examples of preprocessed training examples. Feel free to play with `index` in the cell below to navigate the dataset and see how source/target dates are preprocessed. "
   ]
  },
  {
   "cell_type": "code",
   "execution_count": 27,
   "metadata": {},
   "outputs": [
    {
     "name": "stdout",
     "output_type": "stream",
     "text": [
      "Source: मैं सात बजे सोकर उठता हूँ\n",
      "Target: I wake up at 7 oclock\n",
      "\n",
      "Source after preprocessing (indices): [2189 2623 1779 2716  234 2830 2872 2872 2872 2872 2872 2872 2872 2872 2872\n",
      " 2872 2872 2872 2872 2872 2872 2872 2872 2872 2872]\n",
      "Target after preprocessing (indices): [ 185 2482 2448  550   24 1709 2619 2619 2619 2619 2619 2619 2619 2619 2619\n",
      " 2619 2619 2619 2619 2619 2619 2619]\n",
      "\n",
      "Source after preprocessing (one-hot): [[ 0.  0.  0. ...,  0.  0.  0.]\n",
      " [ 0.  0.  0. ...,  0.  0.  0.]\n",
      " [ 0.  0.  0. ...,  0.  0.  0.]\n",
      " ..., \n",
      " [ 0.  0.  0. ...,  0.  0.  1.]\n",
      " [ 0.  0.  0. ...,  0.  0.  1.]\n",
      " [ 0.  0.  0. ...,  0.  0.  1.]]\n",
      "Target after preprocessing (one-hot): [[ 0.  0.  0. ...,  0.  0.  0.]\n",
      " [ 0.  0.  0. ...,  0.  0.  0.]\n",
      " [ 0.  0.  0. ...,  0.  0.  0.]\n",
      " ..., \n",
      " [ 0.  0.  0. ...,  0.  0.  1.]\n",
      " [ 0.  0.  0. ...,  0.  0.  1.]\n",
      " [ 0.  0.  0. ...,  0.  0.  1.]]\n"
     ]
    }
   ],
   "source": [
    "index = 0\n",
    "#The dataset is english -> Hindi\n",
    "#Our target is to generate English given Hindi\n",
    "print(\"Source:\", dataset_list[index][1])\n",
    "print(\"Target:\", dataset_list[index][0])\n",
    "print()\n",
    "print(\"Source after preprocessing (indices):\", X[index])\n",
    "print(\"Target after preprocessing (indices):\", Y[index])\n",
    "print()\n",
    "print(\"Source after preprocessing (one-hot):\", Xoh[index])\n",
    "print(\"Target after preprocessing (one-hot):\", Yoh[index])"
   ]
  },
  {
   "cell_type": "markdown",
   "metadata": {},
   "source": [
    "## Tensorflow Implementation"
   ]
  },
  {
   "cell_type": "markdown",
   "metadata": {},
   "source": [
    "# These are all the modules we'll be using later. Make sure you can import them\n",
    "# before proceeding further.\n",
    "%matplotlib inline\n",
    "import math\n",
    "import numpy as np\n",
    "import os\n",
    "import random\n",
    "import tensorflow as tf\n",
    "from matplotlib import pylab\n",
    "from collections import Counter\n",
    "import csv\n",
    "\n",
    "# Seq2Seq Items\n",
    "import tensorflow.contrib.seq2seq as seq2seq\n",
    "from tensorflow.python.ops.rnn_cell import LSTMCell\n",
    "from tensorflow.python.ops.rnn_cell import MultiRNNCell\n",
    "from tensorflow.contrib.seq2seq.python.ops import attention_wrapper\n",
    "from tensorflow.python.layers.core import Dense"
   ]
  },
  {
   "cell_type": "markdown",
   "metadata": {},
   "source": [
    "## Input"
   ]
  },
  {
   "cell_type": "markdown",
   "metadata": {},
   "source": [
    "tf.reset_default_graph()\n",
    "\n",
    "enc_train_inputs = []\n",
    "dec_train_inputs = []\n",
    "\n",
    "# Need to use pre-trained word embeddings\n",
    "encoder_emb_layer = tf.convert_to_tensor(np.load('de-embeddings.npy'))\n",
    "decoder_emb_layer = tf.convert_to_tensor(np.load('en-embeddings.npy'))\n",
    "\n",
    "# Defining unrolled training inputs\n",
    "for ui in range(source_sequence_length):\n",
    "    enc_train_inputs.append(tf.placeholder(tf.int32, shape=[batch_size],name='enc_train_inputs_%d'%ui))\n",
    "\n",
    "dec_train_labels=[]\n",
    "dec_label_masks = []\n",
    "for ui in range(target_sequence_length):\n",
    "    dec_train_inputs.append(tf.placeholder(tf.int32, shape=[batch_size],name='dec_train_inputs_%d'%ui))\n",
    "    dec_train_labels.append(tf.placeholder(tf.int32, shape=[batch_size],name='dec-train_outputs_%d'%ui))\n",
    "    dec_label_masks.append(tf.placeholder(tf.float32, shape=[batch_size],name='dec-label_masks_%d'%ui))\n",
    "    \n",
    "encoder_emb_inp = [tf.nn.embedding_lookup(encoder_emb_layer, src) for src in enc_train_inputs]\n",
    "encoder_emb_inp = tf.stack(encoder_emb_inp)\n",
    "\n",
    "decoder_emb_inp = [tf.nn.embedding_lookup(decoder_emb_layer, src) for src in dec_train_inputs]\n",
    "decoder_emb_inp = tf.stack(decoder_emb_inp)\n",
    "\n",
    "enc_train_inp_lengths = tf.placeholder(tf.int32, shape=[batch_size],name='train_input_lengths')\n",
    "dec_train_inp_lengths = tf.placeholder(tf.int32, shape=[batch_size],name='train_output_lengths')"
   ]
  },
  {
   "cell_type": "markdown",
   "metadata": {},
   "source": [
    "## Encoder"
   ]
  },
  {
   "cell_type": "markdown",
   "metadata": {},
   "source": [
    "encoder_cell = tf.nn.rnn_cell.BasicLSTMCell(num_units)\n",
    "\n",
    "initial_state = encoder_cell.zero_state(batch_size, dtype=tf.float32)\n",
    "\n",
    "encoder_outputs, encoder_state = tf.nn.dynamic_rnn(\n",
    "    encoder_cell, encoder_emb_inp, initial_state=initial_state,\n",
    "    sequence_length=enc_train_inp_lengths, \n",
    "    time_major=True, swap_memory=True)"
   ]
  },
  {
   "cell_type": "markdown",
   "metadata": {},
   "source": [
    "## Decoder"
   ]
  },
  {
   "cell_type": "markdown",
   "metadata": {},
   "source": [
    "# Build RNN cell\n",
    "decoder_cell = tf.nn.rnn_cell.BasicLSTMCell(num_units)\n",
    "\n",
    "projection_layer = Dense(units=vocab_size, use_bias=True)\n",
    "\n",
    "# Helper\n",
    "helper = tf.contrib.seq2seq.TrainingHelper(\n",
    "    decoder_emb_inp, [tgt_max_sent_length-1 for _ in range(batch_size)], time_major=True)\n",
    "\n",
    "# Decoder\n",
    "if decoder_type == 'basic':\n",
    "    decoder = tf.contrib.seq2seq.BasicDecoder(\n",
    "        decoder_cell, helper, encoder_state,\n",
    "        output_layer=projection_layer)\n",
    "    \n",
    "elif decoder_type == 'attention':\n",
    "    decoder = tf.contrib.seq2seq.BahdanauAttention(\n",
    "        decoder_cell, helper, encoder_state,\n",
    "        output_layer=projection_layer)\n",
    "    \n",
    "# Dynamic decoding\n",
    "outputs, _, _ = tf.contrib.seq2seq.dynamic_decode(\n",
    "    decoder, output_time_major=True,\n",
    "    swap_memory=True"
   ]
  },
  {
   "cell_type": "markdown",
   "metadata": {},
   "source": [
    "## Loss & Prediction"
   ]
  },
  {
   "cell_type": "markdown",
   "metadata": {},
   "source": [
    "logits = outputs.rnn_output\n",
    "\n",
    "crossent = tf.nn.sparse_softmax_cross_entropy_with_logits(\n",
    "    labels=dec_train_labels, logits=logits)\n",
    "loss = (tf.reduce_sum(crossent*tf.stack(dec_label_masks)) / (batch_size*target_sequence_length))\n",
    "\n",
    "train_prediction = outputs.sample_id"
   ]
  },
  {
   "cell_type": "markdown",
   "metadata": {},
   "source": [
    "## Defining Optimizer with Gradient Clipping"
   ]
  },
  {
   "cell_type": "markdown",
   "metadata": {},
   "source": [
    "print('Defining Optimizer')\n",
    "# Adam Optimizer. And gradient clipping.\n",
    "global_step = tf.Variable(0, trainable=False)\n",
    "inc_gstep = tf.assign(global_step,global_step + 1)\n",
    "learning_rate = tf.train.exponential_decay(\n",
    "    0.01, global_step, decay_steps=10, decay_rate=0.9, staircase=True)\n",
    "\n",
    "with tf.variable_scope('Adam'):\n",
    "    adam_optimizer = tf.train.AdamOptimizer(learning_rate)\n",
    "\n",
    "adam_gradients, v = zip(*adam_optimizer.compute_gradients(loss))\n",
    "adam_gradients, _ = tf.clip_by_global_norm(adam_gradients, 25.0)\n",
    "adam_optimize = adam_optimizer.apply_gradients(zip(adam_gradients, v))\n",
    "\n",
    "with tf.variable_scope('SGD'):\n",
    "    sgd_optimizer = tf.train.GradientDescentOptimizer(learning_rate)\n",
    "\n",
    "sgd_gradients, v = zip(*sgd_optimizer.compute_gradients(loss))\n",
    "sgd_gradients, _ = tf.clip_by_global_norm(sgd_gradients, 25.0)\n",
    "sgd_optimize = sgd_optimizer.apply_gradients(zip(sgd_gradients, v))\n",
    "\n",
    "sess = tf.InteractiveSession()"
   ]
  },
  {
   "cell_type": "markdown",
   "metadata": {},
   "source": [
    "## Running the NMT"
   ]
  },
  {
   "cell_type": "markdown",
   "metadata": {},
   "source": [
    "for step in range(num_steps):\n",
    "\n",
    "    # input_sizes for each bin: [40]\n",
    "    # output_sizes for each bin: [60]\n",
    "    print('.',end='')\n",
    "    if (step+1)%100==0:\n",
    "        print('')\n",
    "        \n",
    "    sent_ids = np.random.randint(low=0,high=train_inputs.shape[0],size=(batch_size))\n",
    "    # ====================== ENCODER DATA COLLECTION ================================================\n",
    "    \n",
    "    eu_data, eu_labels, _, eu_lengths = enc_data_generator.unroll_batches(sent_ids=sent_ids)\n",
    "    \n",
    "    feed_dict = {}\n",
    "    feed_dict[enc_train_inp_lengths] = eu_lengths\n",
    "    for ui,(dat,lbl) in enumerate(zip(eu_data,eu_labels)):            \n",
    "        feed_dict[enc_train_inputs[ui]] = dat                \n",
    "    \n",
    "    # ====================== DECODER DATA COLLECITON ===========================\n",
    "    # First step we change the ids in a batch\n",
    "    du_data, du_labels, _, du_lengths = dec_data_generator.unroll_batches(sent_ids=sent_ids)\n",
    "    \n",
    "    feed_dict[dec_train_inp_lengths] = du_lengths\n",
    "    for ui,(dat,lbl) in enumerate(zip(du_data,du_labels)):            \n",
    "        feed_dict[dec_train_inputs[ui]] = dat\n",
    "        feed_dict[dec_train_labels[ui]] = lbl\n",
    "        feed_dict[dec_label_masks[ui]] = (np.array([ui for _ in range(batch_size)])<du_lengths).astype(np.int32)\n",
    "    \n",
    "# ======================= OPTIMIZATION ==========================\n",
    "    if step < 10000:\n",
    "        _,l,tr_pred = sess.run([adam_optimize,loss,train_prediction], feed_dict=feed_dict)\n",
    "    else:\n",
    "        _,l,tr_pred = sess.run([sgd_optimize,loss,train_prediction], feed_dict=feed_dict)\n",
    "        tr_pred = tr_pred.flatten()"
   ]
  },
  {
   "cell_type": "markdown",
   "metadata": {},
   "source": [
    "## 2 - Neural machine translation with attention\n",
    "\n",
    "If you had to translate a book's paragraph from French to English, you would not read the whole paragraph, then close the book and translate. Even during the translation process, you would read/re-read and focus on the parts of the French paragraph corresponding to the parts of the English you are writing down. \n",
    "\n",
    "The attention mechanism tells a Neural Machine Translation model where it should pay attention to at any step. \n",
    "\n",
    "\n",
    "### 2.1 - Attention mechanism\n",
    "\n",
    "In this part, you will implement the attention mechanism presented in the lecture videos. Here is a figure to remind you how the model works. The diagram on the left shows the attention model. The diagram on the right shows what one \"Attention\" step does to calculate the attention variables $\\alpha^{\\langle t, t' \\rangle}$, which are used to compute the context variable $context^{\\langle t \\rangle}$ for each timestep in the output ($t=1, \\ldots, T_y$). \n",
    "\n",
    "<table>\n",
    "<td> \n",
    "<img src=\"images/attn_model.png\" style=\"width:500;height:500px;\"> <br>\n",
    "</td> \n",
    "<td> \n",
    "<img src=\"images/attn_mechanism.png\" style=\"width:500;height:500px;\"> <br>\n",
    "</td> \n",
    "</table>\n",
    "<caption><center> **Figure 1**: Neural machine translation with attention</center></caption>\n"
   ]
  },
  {
   "cell_type": "markdown",
   "metadata": {},
   "source": [
    "\n",
    "Here are some properties of the model that you may notice: \n",
    "\n",
    "- There are two separate LSTMs in this model (see diagram on the left). Because the one at the bottom of the picture is a Bi-directional LSTM and comes *before* the attention mechanism, we will call it *pre-attention* Bi-LSTM. The LSTM at the top of the diagram comes *after* the attention mechanism, so we will call it the *post-attention* LSTM. The pre-attention Bi-LSTM goes through $T_x$ time steps; the post-attention LSTM goes through $T_y$ time steps. \n",
    "\n",
    "- The post-attention LSTM passes $s^{\\langle t \\rangle}, c^{\\langle t \\rangle}$ from one time step to the next. In the lecture videos, we were using only a basic RNN for the post-activation sequence model, so the state captured by the RNN output activations $s^{\\langle t\\rangle}$. But since we are using an LSTM here, the LSTM has both the output activation $s^{\\langle t\\rangle}$ and the hidden cell state $c^{\\langle t\\rangle}$. However, unlike previous text generation examples (such as Dinosaurus in week 1), in this model the post-activation LSTM at time $t$ does will not take the specific generated $y^{\\langle t-1 \\rangle}$ as input; it only takes $s^{\\langle t\\rangle}$ and $c^{\\langle t\\rangle}$ as input. We have designed the model this way, because (unlike language generation where adjacent characters are highly correlated) there isn't as strong a dependency between the previous character and the next character in a YYYY-MM-DD date. \n",
    "\n",
    "- We use $a^{\\langle t \\rangle} = [\\overrightarrow{a}^{\\langle t \\rangle}; \\overleftarrow{a}^{\\langle t \\rangle}]$ to represent the concatenation of the activations of both the forward-direction and backward-directions of the pre-attention Bi-LSTM. \n",
    "\n",
    "- The diagram on the right uses a `RepeatVector` node to copy $s^{\\langle t-1 \\rangle}$'s value $T_x$ times, and then `Concatenation` to concatenate $s^{\\langle t-1 \\rangle}$ and $a^{\\langle t \\rangle}$ to compute $e^{\\langle t, t'}$, which is then passed through a softmax to compute $\\alpha^{\\langle t, t' \\rangle}$. We'll explain how to use `RepeatVector` and `Concatenation` in Keras below. \n",
    "\n",
    "Lets implement this model. You will start by implementing two functions: `one_step_attention()` and `model()`.\n",
    "\n",
    "**1) `one_step_attention()`**: At step $t$, given all the hidden states of the Bi-LSTM ($[a^{<1>},a^{<2>}, ..., a^{<T_x>}]$) and the previous hidden state of the second LSTM ($s^{<t-1>}$), `one_step_attention()` will compute the attention weights ($[\\alpha^{<t,1>},\\alpha^{<t,2>}, ..., \\alpha^{<t,T_x>}]$) and output the context vector (see Figure  1 (right) for details):\n",
    "$$context^{<t>} = \\sum_{t' = 0}^{T_x} \\alpha^{<t,t'>}a^{<t'>}\\tag{1}$$ \n",
    "\n",
    "Note that we are denoting the attention in this notebook $context^{\\langle t \\rangle}$. In the lecture videos, the context was denoted $c^{\\langle t \\rangle}$, but here we are calling it $context^{\\langle t \\rangle}$ to avoid confusion with the (post-attention) LSTM's internal memory cell variable, which is sometimes also denoted $c^{\\langle t \\rangle}$. \n",
    "  \n",
    "**2) `model()`**: Implements the entire model. It first runs the input through a Bi-LSTM to get back $[a^{<1>},a^{<2>}, ..., a^{<T_x>}]$. Then, it calls `one_step_attention()` $T_y$ times (`for` loop). At each iteration of this loop, it gives the computed context vector $c^{<t>}$ to the second LSTM, and runs the output of the LSTM through a dense layer with softmax activation to generate a prediction $\\hat{y}^{<t>}$. \n",
    "\n",
    "\n",
    "\n",
    "**Exercise**: Implement `one_step_attention()`. The function `model()` will call the layers in `one_step_attention()` $T_y$ using a for-loop, and it is important that all $T_y$ copies have the same weights. I.e., it should not re-initiaiize the weights every time. In other words, all $T_y$ steps should have shared weights. Here's how you can implement layers with shareable weights in Keras:\n",
    "1. Define the layer objects (as global variables for examples).\n",
    "2. Call these objects when propagating the input.\n",
    "\n",
    "We have defined the layers you need as global variables. Please run the following cells to create them. Please check the Keras documentation to make sure you understand what these layers are: [RepeatVector()](https://keras.io/layers/core/#repeatvector), [Concatenate()](https://keras.io/layers/merge/#concatenate), [Dense()](https://keras.io/layers/core/#dense), [Activation()](https://keras.io/layers/core/#activation), [Dot()](https://keras.io/layers/merge/#dot)."
   ]
  },
  {
   "cell_type": "code",
   "execution_count": 28,
   "metadata": {},
   "outputs": [],
   "source": [
    "# Defined shared layers as global variables\n",
    "repeator = RepeatVector(Tx)\n",
    "concatenator = Concatenate(axis=-1)\n",
    "densor = Dense(1,activation = \"relu\")\n",
    "activator = Activation(softmax, name='attention_weights') # We are using a custom softmax(axis = 1) loaded in this notebook\n",
    "dotor = Dot(axes = 1)"
   ]
  },
  {
   "cell_type": "markdown",
   "metadata": {},
   "source": [
    "Now you can use these layers to implement `one_step_attention()`. In order to propagate a Keras tensor object X through one of these layers, use `layer(X)` (or `layer([X,Y])` if it requires multiple inputs.), e.g. `densor(X)` will propagate X through the `Dense(1)` layer defined above."
   ]
  },
  {
   "cell_type": "code",
   "execution_count": 29,
   "metadata": {},
   "outputs": [],
   "source": [
    "# GRADED FUNCTION: one_step_attention\n",
    "\n",
    "def one_step_attention(a, s_prev):\n",
    "    \"\"\"\n",
    "    Performs one step of attention: Outputs a context vector computed as a dot product of the attention weights\n",
    "    \"alphas\" and the hidden states \"a\" of the Bi-LSTM.\n",
    "    \n",
    "    Arguments:\n",
    "    a -- hidden state output of the Bi-LSTM, numpy-array of shape (m, Tx, 2*n_a)\n",
    "    s_prev -- previous hidden state of the (post-attention) LSTM, numpy-array of shape (m, n_s)\n",
    "    \n",
    "    Returns:\n",
    "    context -- context vector, input of the next (post-attetion) LSTM cell\n",
    "    \"\"\"\n",
    "    \n",
    "    ### START CODE HERE ###\n",
    "    # Use repeator to repeat s_prev to be of shape (m, Tx, n_s) so that you can concatenate it with all hidden states \"a\" (≈ 1 line)\n",
    "    print (\"s_prev.shape before repeator\",s_prev.shape)\n",
    "    s_prev = repeator(s_prev)\n",
    "    print (\"s_prev.shape after repeator\",s_prev.shape)\n",
    "    print (\"a.shape\",a.shape)\n",
    "    # Use concatenator to concatenate a and s_prev on the last axis (≈ 1 line)\n",
    "    concat = concatenator([a, s_prev])\n",
    "    print (\"concat.shape\",concat.shape)\n",
    "    # Use densor to propagate concat through a small fully-connected neural network to compute the \"energies\" variable e. (≈1 lines)\n",
    "    e = densor(concat)\n",
    "    print (\"e.shape\",e.shape)\n",
    "    # Use activator and e to compute the attention weights \"alphas\" (≈ 1 line)\n",
    "    alphas = activator(e)\n",
    "    print (\"alphas.shape\",alphas.shape)\n",
    "    # Use dotor together with \"alphas\" and \"a\" to compute the context vector to be given to the next (post-attention) LSTM-cell (≈ 1 line)\n",
    "    context = dotor([alphas, a])\n",
    "    print (\"context.shape\",context.shape)\n",
    "    ### END CODE HERE ###\n",
    "    \n",
    "    return context"
   ]
  },
  {
   "cell_type": "markdown",
   "metadata": {},
   "source": [
    "You will be able to check the expected output of `one_step_attention()` after you've coded the `model()` function."
   ]
  },
  {
   "cell_type": "markdown",
   "metadata": {},
   "source": [
    "**Exercise**: Implement `model()` as explained in figure 2 and the text above. Again, we have defined global layers that will share weights to be used in `model()`."
   ]
  },
  {
   "cell_type": "code",
   "execution_count": 30,
   "metadata": {},
   "outputs": [],
   "source": [
    "n_a = 500\n",
    "n_s = 500\n",
    "post_activation_LSTM_cell = (LSTM(n_s, activation='relu',return_state = True,dropout=0.2))\n",
    "output_layer = Dense(len(english_dictionary), activation=softmax)"
   ]
  },
  {
   "cell_type": "markdown",
   "metadata": {},
   "source": [
    "Now you can use these layers $T_y$ times in a `for` loop to generate the outputs, and their parameters will not be reinitialized. You will have to carry out the following steps: \n",
    "\n",
    "1. Propagate the input into a [Bidirectional](https://keras.io/layers/wrappers/#bidirectional) [LSTM](https://keras.io/layers/recurrent/#lstm)\n",
    "2. Iterate for $t = 0, \\dots, T_y-1$: \n",
    "    1. Call `one_step_attention()` on $[\\alpha^{<t,1>},\\alpha^{<t,2>}, ..., \\alpha^{<t,T_x>}]$ and $s^{<t-1>}$ to get the context vector $context^{<t>}$.\n",
    "    2. Give $context^{<t>}$ to the post-attention LSTM cell. Remember pass in the previous hidden-state $s^{\\langle t-1\\rangle}$ and cell-states $c^{\\langle t-1\\rangle}$ of this LSTM using `initial_state= [previous hidden state, previous cell state]`. Get back the new hidden state $s^{<t>}$ and the new cell state $c^{<t>}$.\n",
    "    3. Apply a softmax layer to $s^{<t>}$, get the output. \n",
    "    4. Save the output by adding it to the list of outputs.\n",
    "\n",
    "3. Create your Keras model instance, it should have three inputs (\"inputs\", $s^{<0>}$ and $c^{<0>}$) and output the list of \"outputs\"."
   ]
  },
  {
   "cell_type": "code",
   "execution_count": 31,
   "metadata": {},
   "outputs": [],
   "source": [
    "# GRADED FUNCTION: model\n",
    "\n",
    "def model(Tx, Ty, n_a, n_s, source_dictionary_size, target_dictionary_size):\n",
    "    \"\"\"\n",
    "    Arguments:\n",
    "    Tx -- length of the input sequence\n",
    "    Ty -- length of the output sequence\n",
    "    n_a -- hidden state size of the Bi-LSTM\n",
    "    n_s -- hidden state size of the post-attention LSTM\n",
    "    human_vocab_size -- size of the python dictionary \"human_vocab\"\n",
    "    machine_vocab_size -- size of the python dictionary \"machine_vocab\"\n",
    "\n",
    "    Returns:\n",
    "    model -- Keras model instance\n",
    "    \"\"\"\n",
    "    \n",
    "    # Define the inputs of your model with a shape (Tx,)\n",
    "    # Define s0 and c0, initial hidden state for the decoder LSTM of shape (n_s,)\n",
    "    X = Input(shape=(Tx, source_dictionary_size))\n",
    "    s0 = Input(shape=(n_s,), name='s0')\n",
    "    c0 = Input(shape=(n_s,), name='c0')\n",
    "    s = s0\n",
    "    c = c0\n",
    "    \n",
    "    # Initialize empty list of outputs\n",
    "    outputs = []\n",
    "    \n",
    "    ### START CODE HERE ###\n",
    "    \n",
    "    # Step 1: Define your pre-attention Bi-LSTM. Remember to use return_sequences=True. (≈ 1 line)\n",
    "    a = Bidirectional(LSTM(n_a, activation='relu',return_sequences=True))(X)\n",
    "    \n",
    "    # Step 2: Iterate for Ty steps\n",
    "    for t in range(Ty):\n",
    "    \n",
    "        # Step 2.A: Perform one step of the attention mechanism to get back the context vector at step t (≈ 1 line)\n",
    "        print(\"a.shape,s.shape\",a.shape,s.shape)\n",
    "        context = one_step_attention(a, s)\n",
    "        \n",
    "        # Step 2.B: Apply the post-attention LSTM cell to the \"context\" vector.\n",
    "        # Don't forget to pass: initial_state = [hidden state, cell state] (≈ 1 line)\n",
    "        s,_, c = post_activation_LSTM_cell(context, initial_state = [s,c])\n",
    "        \n",
    "        # Step 2.C: Apply Dense layer to the hidden state output of the post-attention LSTM (≈ 1 line)\n",
    "        out = output_layer(s)\n",
    "        \n",
    "        # Step 2.D: Append \"out\" to the \"outputs\" list (≈ 1 line)\n",
    "        outputs.append(out)\n",
    "    \n",
    "    # Step 3: Create model instance taking three inputs and returning the list of outputs. (≈ 1 line)\n",
    "    model = Model(inputs = [X, s0, c0], outputs = outputs)\n",
    "    \n",
    "    ### END CODE HERE ###\n",
    "    \n",
    "    return model"
   ]
  },
  {
   "cell_type": "code",
   "execution_count": 32,
   "metadata": {},
   "outputs": [
    {
     "name": "stdout",
     "output_type": "stream",
     "text": [
      "25 22 500 500 2873 2620\n"
     ]
    }
   ],
   "source": [
    "print (Tx, Ty, n_a, n_s, len(hindi_dictionary), len(english_dictionary))"
   ]
  },
  {
   "cell_type": "markdown",
   "metadata": {},
   "source": [
    "Run the following cell to create your model."
   ]
  },
  {
   "cell_type": "code",
   "execution_count": 33,
   "metadata": {},
   "outputs": [
    {
     "name": "stdout",
     "output_type": "stream",
     "text": [
      "a.shape,s.shape (?, ?, 1000) (?, 500)\n",
      "s_prev.shape before repeator (?, 500)\n",
      "s_prev.shape after repeator (?, 25, 500)\n",
      "a.shape (?, ?, 1000)\n",
      "concat.shape (?, 25, 1500)\n",
      "e.shape (?, 25, 1)\n",
      "alphas.shape (?, 25, 1)\n",
      "context.shape (?, 1, 1000)\n",
      "a.shape,s.shape (?, ?, 1000) (?, 500)\n",
      "s_prev.shape before repeator (?, 500)\n",
      "s_prev.shape after repeator (?, 25, 500)\n",
      "a.shape (?, ?, 1000)\n",
      "concat.shape (?, 25, 1500)\n",
      "e.shape (?, 25, 1)\n",
      "alphas.shape (?, 25, 1)\n",
      "context.shape (?, 1, 1000)\n",
      "a.shape,s.shape (?, ?, 1000) (?, 500)\n",
      "s_prev.shape before repeator (?, 500)\n",
      "s_prev.shape after repeator (?, 25, 500)\n",
      "a.shape (?, ?, 1000)\n",
      "concat.shape (?, 25, 1500)\n",
      "e.shape (?, 25, 1)\n",
      "alphas.shape (?, 25, 1)\n",
      "context.shape (?, 1, 1000)\n",
      "a.shape,s.shape (?, ?, 1000) (?, 500)\n",
      "s_prev.shape before repeator (?, 500)\n",
      "s_prev.shape after repeator (?, 25, 500)\n",
      "a.shape (?, ?, 1000)\n",
      "concat.shape (?, 25, 1500)\n",
      "e.shape (?, 25, 1)\n",
      "alphas.shape (?, 25, 1)\n",
      "context.shape (?, 1, 1000)\n",
      "a.shape,s.shape (?, ?, 1000) (?, 500)\n",
      "s_prev.shape before repeator (?, 500)\n",
      "s_prev.shape after repeator (?, 25, 500)\n",
      "a.shape (?, ?, 1000)\n",
      "concat.shape (?, 25, 1500)\n",
      "e.shape (?, 25, 1)\n",
      "alphas.shape (?, 25, 1)\n",
      "context.shape (?, 1, 1000)\n",
      "a.shape,s.shape (?, ?, 1000) (?, 500)\n",
      "s_prev.shape before repeator (?, 500)\n",
      "s_prev.shape after repeator (?, 25, 500)\n",
      "a.shape (?, ?, 1000)\n",
      "concat.shape (?, 25, 1500)\n",
      "e.shape (?, 25, 1)\n",
      "alphas.shape (?, 25, 1)\n",
      "context.shape (?, 1, 1000)\n",
      "a.shape,s.shape (?, ?, 1000) (?, 500)\n",
      "s_prev.shape before repeator (?, 500)\n",
      "s_prev.shape after repeator (?, 25, 500)\n",
      "a.shape (?, ?, 1000)\n",
      "concat.shape (?, 25, 1500)\n",
      "e.shape (?, 25, 1)\n",
      "alphas.shape (?, 25, 1)\n",
      "context.shape (?, 1, 1000)\n",
      "a.shape,s.shape (?, ?, 1000) (?, 500)\n",
      "s_prev.shape before repeator (?, 500)\n",
      "s_prev.shape after repeator (?, 25, 500)\n",
      "a.shape (?, ?, 1000)\n",
      "concat.shape (?, 25, 1500)\n",
      "e.shape (?, 25, 1)\n",
      "alphas.shape (?, 25, 1)\n",
      "context.shape (?, 1, 1000)\n",
      "a.shape,s.shape (?, ?, 1000) (?, 500)\n",
      "s_prev.shape before repeator (?, 500)\n",
      "s_prev.shape after repeator (?, 25, 500)\n",
      "a.shape (?, ?, 1000)\n",
      "concat.shape (?, 25, 1500)\n",
      "e.shape (?, 25, 1)\n",
      "alphas.shape (?, 25, 1)\n",
      "context.shape (?, 1, 1000)\n",
      "a.shape,s.shape (?, ?, 1000) (?, 500)\n",
      "s_prev.shape before repeator (?, 500)\n",
      "s_prev.shape after repeator (?, 25, 500)\n",
      "a.shape (?, ?, 1000)\n",
      "concat.shape (?, 25, 1500)\n",
      "e.shape (?, 25, 1)\n",
      "alphas.shape (?, 25, 1)\n",
      "context.shape (?, 1, 1000)\n",
      "a.shape,s.shape (?, ?, 1000) (?, 500)\n",
      "s_prev.shape before repeator (?, 500)\n",
      "s_prev.shape after repeator (?, 25, 500)\n",
      "a.shape (?, ?, 1000)\n",
      "concat.shape (?, 25, 1500)\n",
      "e.shape (?, 25, 1)\n",
      "alphas.shape (?, 25, 1)\n",
      "context.shape (?, 1, 1000)\n",
      "a.shape,s.shape (?, ?, 1000) (?, 500)\n",
      "s_prev.shape before repeator (?, 500)\n",
      "s_prev.shape after repeator (?, 25, 500)\n",
      "a.shape (?, ?, 1000)\n",
      "concat.shape (?, 25, 1500)\n",
      "e.shape (?, 25, 1)\n",
      "alphas.shape (?, 25, 1)\n",
      "context.shape (?, 1, 1000)\n",
      "a.shape,s.shape (?, ?, 1000) (?, 500)\n",
      "s_prev.shape before repeator (?, 500)\n",
      "s_prev.shape after repeator (?, 25, 500)\n",
      "a.shape (?, ?, 1000)\n",
      "concat.shape (?, 25, 1500)\n",
      "e.shape (?, 25, 1)\n",
      "alphas.shape (?, 25, 1)\n",
      "context.shape (?, 1, 1000)\n",
      "a.shape,s.shape (?, ?, 1000) (?, 500)\n",
      "s_prev.shape before repeator (?, 500)\n",
      "s_prev.shape after repeator (?, 25, 500)\n",
      "a.shape (?, ?, 1000)\n",
      "concat.shape (?, 25, 1500)\n",
      "e.shape (?, 25, 1)\n",
      "alphas.shape (?, 25, 1)\n",
      "context.shape (?, 1, 1000)\n",
      "a.shape,s.shape (?, ?, 1000) (?, 500)\n",
      "s_prev.shape before repeator (?, 500)\n",
      "s_prev.shape after repeator (?, 25, 500)\n",
      "a.shape (?, ?, 1000)\n",
      "concat.shape (?, 25, 1500)\n",
      "e.shape (?, 25, 1)\n",
      "alphas.shape (?, 25, 1)\n",
      "context.shape (?, 1, 1000)\n",
      "a.shape,s.shape (?, ?, 1000) (?, 500)\n",
      "s_prev.shape before repeator (?, 500)\n",
      "s_prev.shape after repeator (?, 25, 500)\n",
      "a.shape (?, ?, 1000)\n",
      "concat.shape (?, 25, 1500)\n",
      "e.shape (?, 25, 1)\n",
      "alphas.shape (?, 25, 1)\n",
      "context.shape (?, 1, 1000)\n",
      "a.shape,s.shape (?, ?, 1000) (?, 500)\n",
      "s_prev.shape before repeator (?, 500)\n",
      "s_prev.shape after repeator (?, 25, 500)\n",
      "a.shape (?, ?, 1000)\n",
      "concat.shape (?, 25, 1500)\n",
      "e.shape (?, 25, 1)\n",
      "alphas.shape (?, 25, 1)\n",
      "context.shape (?, 1, 1000)\n",
      "a.shape,s.shape (?, ?, 1000) (?, 500)\n",
      "s_prev.shape before repeator (?, 500)\n",
      "s_prev.shape after repeator (?, 25, 500)\n",
      "a.shape (?, ?, 1000)\n",
      "concat.shape (?, 25, 1500)\n",
      "e.shape (?, 25, 1)\n",
      "alphas.shape (?, 25, 1)\n",
      "context.shape (?, 1, 1000)\n",
      "a.shape,s.shape (?, ?, 1000) (?, 500)\n",
      "s_prev.shape before repeator (?, 500)\n",
      "s_prev.shape after repeator (?, 25, 500)\n",
      "a.shape (?, ?, 1000)\n",
      "concat.shape (?, 25, 1500)\n",
      "e.shape (?, 25, 1)\n",
      "alphas.shape (?, 25, 1)\n",
      "context.shape (?, 1, 1000)\n",
      "a.shape,s.shape (?, ?, 1000) (?, 500)\n",
      "s_prev.shape before repeator (?, 500)\n",
      "s_prev.shape after repeator (?, 25, 500)\n",
      "a.shape (?, ?, 1000)\n",
      "concat.shape (?, 25, 1500)\n",
      "e.shape (?, 25, 1)\n",
      "alphas.shape (?, 25, 1)\n",
      "context.shape (?, 1, 1000)\n",
      "a.shape,s.shape (?, ?, 1000) (?, 500)\n",
      "s_prev.shape before repeator (?, 500)\n",
      "s_prev.shape after repeator (?, 25, 500)\n",
      "a.shape (?, ?, 1000)\n",
      "concat.shape (?, 25, 1500)\n",
      "e.shape (?, 25, 1)\n",
      "alphas.shape (?, 25, 1)\n",
      "context.shape (?, 1, 1000)\n",
      "a.shape,s.shape (?, ?, 1000) (?, 500)\n",
      "s_prev.shape before repeator (?, 500)\n",
      "s_prev.shape after repeator (?, 25, 500)\n",
      "a.shape (?, ?, 1000)\n",
      "concat.shape (?, 25, 1500)\n",
      "e.shape (?, 25, 1)\n",
      "alphas.shape (?, 25, 1)\n",
      "context.shape (?, 1, 1000)\n"
     ]
    }
   ],
   "source": [
    "model = model(Tx, Ty, n_a, n_s, len(hindi_dictionary), len(english_dictionary))\n",
    "\n",
    "#You will need copy of the model which will use the weights from model.fit.\n",
    "#model.load_weights(weightFile)\n",
    "loaded_model = model"
   ]
  },
  {
   "cell_type": "markdown",
   "metadata": {},
   "source": [
    "Let's get a summary of the model to check if it matches the expected output."
   ]
  },
  {
   "cell_type": "code",
   "execution_count": 34,
   "metadata": {},
   "outputs": [
    {
     "name": "stdout",
     "output_type": "stream",
     "text": [
      "____________________________________________________________________________________________________\n",
      "Layer (type)                     Output Shape          Param #     Connected to                     \n",
      "====================================================================================================\n",
      "input_1 (InputLayer)             (None, 25, 2873)      0                                            \n",
      "____________________________________________________________________________________________________\n",
      "s0 (InputLayer)                  (None, 500)           0                                            \n",
      "____________________________________________________________________________________________________\n",
      "bidirectional_1 (Bidirectional)  (None, 25, 1000)      13496000    input_1[0][0]                    \n",
      "____________________________________________________________________________________________________\n",
      "repeat_vector_1 (RepeatVector)   (None, 25, 500)       0           s0[0][0]                         \n",
      "                                                                   lstm_1[0][0]                     \n",
      "                                                                   lstm_1[1][0]                     \n",
      "                                                                   lstm_1[2][0]                     \n",
      "                                                                   lstm_1[3][0]                     \n",
      "                                                                   lstm_1[4][0]                     \n",
      "                                                                   lstm_1[5][0]                     \n",
      "                                                                   lstm_1[6][0]                     \n",
      "                                                                   lstm_1[7][0]                     \n",
      "                                                                   lstm_1[8][0]                     \n",
      "                                                                   lstm_1[9][0]                     \n",
      "                                                                   lstm_1[10][0]                    \n",
      "                                                                   lstm_1[11][0]                    \n",
      "                                                                   lstm_1[12][0]                    \n",
      "                                                                   lstm_1[13][0]                    \n",
      "                                                                   lstm_1[14][0]                    \n",
      "                                                                   lstm_1[15][0]                    \n",
      "                                                                   lstm_1[16][0]                    \n",
      "                                                                   lstm_1[17][0]                    \n",
      "                                                                   lstm_1[18][0]                    \n",
      "                                                                   lstm_1[19][0]                    \n",
      "                                                                   lstm_1[20][0]                    \n",
      "____________________________________________________________________________________________________\n",
      "concatenate_1 (Concatenate)      (None, 25, 1500)      0           bidirectional_1[0][0]            \n",
      "                                                                   repeat_vector_1[0][0]            \n",
      "                                                                   bidirectional_1[0][0]            \n",
      "                                                                   repeat_vector_1[1][0]            \n",
      "                                                                   bidirectional_1[0][0]            \n",
      "                                                                   repeat_vector_1[2][0]            \n",
      "                                                                   bidirectional_1[0][0]            \n",
      "                                                                   repeat_vector_1[3][0]            \n",
      "                                                                   bidirectional_1[0][0]            \n",
      "                                                                   repeat_vector_1[4][0]            \n",
      "                                                                   bidirectional_1[0][0]            \n",
      "                                                                   repeat_vector_1[5][0]            \n",
      "                                                                   bidirectional_1[0][0]            \n",
      "                                                                   repeat_vector_1[6][0]            \n",
      "                                                                   bidirectional_1[0][0]            \n",
      "                                                                   repeat_vector_1[7][0]            \n",
      "                                                                   bidirectional_1[0][0]            \n",
      "                                                                   repeat_vector_1[8][0]            \n",
      "                                                                   bidirectional_1[0][0]            \n",
      "                                                                   repeat_vector_1[9][0]            \n",
      "                                                                   bidirectional_1[0][0]            \n",
      "                                                                   repeat_vector_1[10][0]           \n",
      "                                                                   bidirectional_1[0][0]            \n",
      "                                                                   repeat_vector_1[11][0]           \n",
      "                                                                   bidirectional_1[0][0]            \n",
      "                                                                   repeat_vector_1[12][0]           \n",
      "                                                                   bidirectional_1[0][0]            \n",
      "                                                                   repeat_vector_1[13][0]           \n",
      "                                                                   bidirectional_1[0][0]            \n",
      "                                                                   repeat_vector_1[14][0]           \n",
      "                                                                   bidirectional_1[0][0]            \n",
      "                                                                   repeat_vector_1[15][0]           \n",
      "                                                                   bidirectional_1[0][0]            \n",
      "                                                                   repeat_vector_1[16][0]           \n",
      "                                                                   bidirectional_1[0][0]            \n",
      "                                                                   repeat_vector_1[17][0]           \n",
      "                                                                   bidirectional_1[0][0]            \n",
      "                                                                   repeat_vector_1[18][0]           \n",
      "                                                                   bidirectional_1[0][0]            \n",
      "                                                                   repeat_vector_1[19][0]           \n",
      "                                                                   bidirectional_1[0][0]            \n",
      "                                                                   repeat_vector_1[20][0]           \n",
      "                                                                   bidirectional_1[0][0]            \n",
      "                                                                   repeat_vector_1[21][0]           \n",
      "____________________________________________________________________________________________________\n",
      "dense_1 (Dense)                  (None, 25, 1)         1501        concatenate_1[0][0]              \n",
      "                                                                   concatenate_1[1][0]              \n",
      "                                                                   concatenate_1[2][0]              \n",
      "                                                                   concatenate_1[3][0]              \n",
      "                                                                   concatenate_1[4][0]              \n",
      "                                                                   concatenate_1[5][0]              \n",
      "                                                                   concatenate_1[6][0]              \n",
      "                                                                   concatenate_1[7][0]              \n",
      "                                                                   concatenate_1[8][0]              \n",
      "                                                                   concatenate_1[9][0]              \n",
      "                                                                   concatenate_1[10][0]             \n",
      "                                                                   concatenate_1[11][0]             \n",
      "                                                                   concatenate_1[12][0]             \n",
      "                                                                   concatenate_1[13][0]             \n",
      "                                                                   concatenate_1[14][0]             \n",
      "                                                                   concatenate_1[15][0]             \n",
      "                                                                   concatenate_1[16][0]             \n",
      "                                                                   concatenate_1[17][0]             \n",
      "                                                                   concatenate_1[18][0]             \n",
      "                                                                   concatenate_1[19][0]             \n",
      "                                                                   concatenate_1[20][0]             \n",
      "                                                                   concatenate_1[21][0]             \n",
      "____________________________________________________________________________________________________\n",
      "attention_weights (Activation)   (None, 25, 1)         0           dense_1[0][0]                    \n",
      "                                                                   dense_1[1][0]                    \n",
      "                                                                   dense_1[2][0]                    \n",
      "                                                                   dense_1[3][0]                    \n",
      "                                                                   dense_1[4][0]                    \n",
      "                                                                   dense_1[5][0]                    \n",
      "                                                                   dense_1[6][0]                    \n",
      "                                                                   dense_1[7][0]                    \n",
      "                                                                   dense_1[8][0]                    \n",
      "                                                                   dense_1[9][0]                    \n",
      "                                                                   dense_1[10][0]                   \n",
      "                                                                   dense_1[11][0]                   \n",
      "                                                                   dense_1[12][0]                   \n",
      "                                                                   dense_1[13][0]                   \n",
      "                                                                   dense_1[14][0]                   \n",
      "                                                                   dense_1[15][0]                   \n",
      "                                                                   dense_1[16][0]                   \n",
      "                                                                   dense_1[17][0]                   \n",
      "                                                                   dense_1[18][0]                   \n",
      "                                                                   dense_1[19][0]                   \n",
      "                                                                   dense_1[20][0]                   \n",
      "                                                                   dense_1[21][0]                   \n",
      "____________________________________________________________________________________________________\n",
      "dot_1 (Dot)                      (None, 1, 1000)       0           attention_weights[0][0]          \n",
      "                                                                   bidirectional_1[0][0]            \n",
      "                                                                   attention_weights[1][0]          \n",
      "                                                                   bidirectional_1[0][0]            \n",
      "                                                                   attention_weights[2][0]          \n",
      "                                                                   bidirectional_1[0][0]            \n",
      "                                                                   attention_weights[3][0]          \n",
      "                                                                   bidirectional_1[0][0]            \n",
      "                                                                   attention_weights[4][0]          \n",
      "                                                                   bidirectional_1[0][0]            \n",
      "                                                                   attention_weights[5][0]          \n",
      "                                                                   bidirectional_1[0][0]            \n",
      "                                                                   attention_weights[6][0]          \n",
      "                                                                   bidirectional_1[0][0]            \n",
      "                                                                   attention_weights[7][0]          \n",
      "                                                                   bidirectional_1[0][0]            \n",
      "                                                                   attention_weights[8][0]          \n",
      "                                                                   bidirectional_1[0][0]            \n",
      "                                                                   attention_weights[9][0]          \n",
      "                                                                   bidirectional_1[0][0]            \n",
      "                                                                   attention_weights[10][0]         \n",
      "                                                                   bidirectional_1[0][0]            \n",
      "                                                                   attention_weights[11][0]         \n",
      "                                                                   bidirectional_1[0][0]            \n",
      "                                                                   attention_weights[12][0]         \n",
      "                                                                   bidirectional_1[0][0]            \n",
      "                                                                   attention_weights[13][0]         \n",
      "                                                                   bidirectional_1[0][0]            \n",
      "                                                                   attention_weights[14][0]         \n",
      "                                                                   bidirectional_1[0][0]            \n",
      "                                                                   attention_weights[15][0]         \n",
      "                                                                   bidirectional_1[0][0]            \n",
      "                                                                   attention_weights[16][0]         \n",
      "                                                                   bidirectional_1[0][0]            \n",
      "                                                                   attention_weights[17][0]         \n",
      "                                                                   bidirectional_1[0][0]            \n",
      "                                                                   attention_weights[18][0]         \n",
      "                                                                   bidirectional_1[0][0]            \n",
      "                                                                   attention_weights[19][0]         \n",
      "                                                                   bidirectional_1[0][0]            \n",
      "                                                                   attention_weights[20][0]         \n",
      "                                                                   bidirectional_1[0][0]            \n",
      "                                                                   attention_weights[21][0]         \n",
      "                                                                   bidirectional_1[0][0]            \n",
      "____________________________________________________________________________________________________\n",
      "c0 (InputLayer)                  (None, 500)           0                                            \n",
      "____________________________________________________________________________________________________\n",
      "lstm_1 (LSTM)                    [(None, 500), (None,  3002000     dot_1[0][0]                      \n",
      "                                                                   s0[0][0]                         \n",
      "                                                                   c0[0][0]                         \n",
      "                                                                   dot_1[1][0]                      \n",
      "                                                                   lstm_1[0][0]                     \n",
      "                                                                   lstm_1[0][2]                     \n",
      "                                                                   dot_1[2][0]                      \n",
      "                                                                   lstm_1[1][0]                     \n",
      "                                                                   lstm_1[1][2]                     \n",
      "                                                                   dot_1[3][0]                      \n",
      "                                                                   lstm_1[2][0]                     \n",
      "                                                                   lstm_1[2][2]                     \n",
      "                                                                   dot_1[4][0]                      \n",
      "                                                                   lstm_1[3][0]                     \n",
      "                                                                   lstm_1[3][2]                     \n",
      "                                                                   dot_1[5][0]                      \n",
      "                                                                   lstm_1[4][0]                     \n",
      "                                                                   lstm_1[4][2]                     \n",
      "                                                                   dot_1[6][0]                      \n",
      "                                                                   lstm_1[5][0]                     \n",
      "                                                                   lstm_1[5][2]                     \n",
      "                                                                   dot_1[7][0]                      \n",
      "                                                                   lstm_1[6][0]                     \n",
      "                                                                   lstm_1[6][2]                     \n",
      "                                                                   dot_1[8][0]                      \n",
      "                                                                   lstm_1[7][0]                     \n",
      "                                                                   lstm_1[7][2]                     \n",
      "                                                                   dot_1[9][0]                      \n",
      "                                                                   lstm_1[8][0]                     \n",
      "                                                                   lstm_1[8][2]                     \n",
      "                                                                   dot_1[10][0]                     \n",
      "                                                                   lstm_1[9][0]                     \n",
      "                                                                   lstm_1[9][2]                     \n",
      "                                                                   dot_1[11][0]                     \n",
      "                                                                   lstm_1[10][0]                    \n",
      "                                                                   lstm_1[10][2]                    \n",
      "                                                                   dot_1[12][0]                     \n",
      "                                                                   lstm_1[11][0]                    \n",
      "                                                                   lstm_1[11][2]                    \n",
      "                                                                   dot_1[13][0]                     \n",
      "                                                                   lstm_1[12][0]                    \n",
      "                                                                   lstm_1[12][2]                    \n",
      "                                                                   dot_1[14][0]                     \n",
      "                                                                   lstm_1[13][0]                    \n",
      "                                                                   lstm_1[13][2]                    \n",
      "                                                                   dot_1[15][0]                     \n",
      "                                                                   lstm_1[14][0]                    \n",
      "                                                                   lstm_1[14][2]                    \n",
      "                                                                   dot_1[16][0]                     \n",
      "                                                                   lstm_1[15][0]                    \n",
      "                                                                   lstm_1[15][2]                    \n",
      "                                                                   dot_1[17][0]                     \n",
      "                                                                   lstm_1[16][0]                    \n",
      "                                                                   lstm_1[16][2]                    \n",
      "                                                                   dot_1[18][0]                     \n",
      "                                                                   lstm_1[17][0]                    \n",
      "                                                                   lstm_1[17][2]                    \n",
      "                                                                   dot_1[19][0]                     \n",
      "                                                                   lstm_1[18][0]                    \n",
      "                                                                   lstm_1[18][2]                    \n",
      "                                                                   dot_1[20][0]                     \n",
      "                                                                   lstm_1[19][0]                    \n",
      "                                                                   lstm_1[19][2]                    \n",
      "                                                                   dot_1[21][0]                     \n",
      "                                                                   lstm_1[20][0]                    \n",
      "                                                                   lstm_1[20][2]                    \n",
      "____________________________________________________________________________________________________\n",
      "dense_2 (Dense)                  (None, 2620)          1312620     lstm_1[0][0]                     \n",
      "                                                                   lstm_1[1][0]                     \n",
      "                                                                   lstm_1[2][0]                     \n",
      "                                                                   lstm_1[3][0]                     \n",
      "                                                                   lstm_1[4][0]                     \n",
      "                                                                   lstm_1[5][0]                     \n",
      "                                                                   lstm_1[6][0]                     \n",
      "                                                                   lstm_1[7][0]                     \n",
      "                                                                   lstm_1[8][0]                     \n",
      "                                                                   lstm_1[9][0]                     \n",
      "                                                                   lstm_1[10][0]                    \n",
      "                                                                   lstm_1[11][0]                    \n",
      "                                                                   lstm_1[12][0]                    \n",
      "                                                                   lstm_1[13][0]                    \n",
      "                                                                   lstm_1[14][0]                    \n",
      "                                                                   lstm_1[15][0]                    \n",
      "                                                                   lstm_1[16][0]                    \n",
      "                                                                   lstm_1[17][0]                    \n",
      "                                                                   lstm_1[18][0]                    \n",
      "                                                                   lstm_1[19][0]                    \n",
      "                                                                   lstm_1[20][0]                    \n",
      "                                                                   lstm_1[21][0]                    \n",
      "====================================================================================================\n",
      "Total params: 17,812,121\n",
      "Trainable params: 17,812,121\n",
      "Non-trainable params: 0\n",
      "____________________________________________________________________________________________________\n"
     ]
    }
   ],
   "source": [
    "model.summary()"
   ]
  },
  {
   "cell_type": "markdown",
   "metadata": {},
   "source": [
    "**Expected Output**:\n",
    "\n",
    "Here is the summary you should see\n",
    "<table>\n",
    "    <tr>\n",
    "        <td>\n",
    "            **Total params:**\n",
    "        </td>\n",
    "        <td>\n",
    "         185,484\n",
    "        </td>\n",
    "    </tr>\n",
    "        <tr>\n",
    "        <td>\n",
    "            **Trainable params:**\n",
    "        </td>\n",
    "        <td>\n",
    "         185,484\n",
    "        </td>\n",
    "    </tr>\n",
    "            <tr>\n",
    "        <td>\n",
    "            **Non-trainable params:**\n",
    "        </td>\n",
    "        <td>\n",
    "         0\n",
    "        </td>\n",
    "    </tr>\n",
    "                    <tr>\n",
    "        <td>\n",
    "            **bidirectional_1's output shape **\n",
    "        </td>\n",
    "        <td>\n",
    "         (None, 30, 128)  \n",
    "        </td>\n",
    "    </tr>\n",
    "    <tr>\n",
    "        <td>\n",
    "            **repeat_vector_1's output shape **\n",
    "        </td>\n",
    "        <td>\n",
    "         (None, 30, 128)  \n",
    "        </td>\n",
    "    </tr>\n",
    "                <tr>\n",
    "        <td>\n",
    "            **concatenate_1's output shape **\n",
    "        </td>\n",
    "        <td>\n",
    "         (None, 30, 256) \n",
    "        </td>\n",
    "    </tr>\n",
    "            <tr>\n",
    "        <td>\n",
    "            **attention_weights's output shape **\n",
    "        </td>\n",
    "        <td>\n",
    "         (None, 30, 1)  \n",
    "        </td>\n",
    "    </tr>\n",
    "        <tr>\n",
    "        <td>\n",
    "            **dot_1's output shape **\n",
    "        </td>\n",
    "        <td>\n",
    "         (None, 1, 128) \n",
    "        </td>\n",
    "    </tr>\n",
    "           <tr>\n",
    "        <td>\n",
    "            **dense_2's output shape **\n",
    "        </td>\n",
    "        <td>\n",
    "         (None, 11) \n",
    "        </td>\n",
    "    </tr>\n",
    "</table>\n"
   ]
  },
  {
   "cell_type": "markdown",
   "metadata": {},
   "source": [
    "As usual, after creating your model in Keras, you need to compile it and define what loss, optimizer and metrics your are want to use. Compile your model using `categorical_crossentropy` loss, a custom [Adam](https://keras.io/optimizers/#adam) [optimizer](https://keras.io/optimizers/#usage-of-optimizers) (`learning rate = 0.005`, $\\beta_1 = 0.9$, $\\beta_2 = 0.999$, `decay = 0.01`)  and `['accuracy']` metrics:"
   ]
  },
  {
   "cell_type": "code",
   "execution_count": 35,
   "metadata": {},
   "outputs": [],
   "source": [
    "from keras.optimizers import RMSprop,Adagrad,Adam,Adamax,Nadam,SGD"
   ]
  },
  {
   "cell_type": "code",
   "execution_count": 36,
   "metadata": {},
   "outputs": [],
   "source": [
    "### START CODE HERE ### (≈2 lines)\n",
    "from keras.optimizers import RMSprop\n",
    "out = model.compile(optimizer=Adam(lr=0.001, beta_1=0.7, beta_2=0.8, decay=0.02)\n",
    "                    ,metrics=['accuracy'],\n",
    "                    loss='categorical_crossentropy')\n",
    "out\n",
    "### END CODE HERE ###"
   ]
  },
  {
   "cell_type": "markdown",
   "metadata": {},
   "source": [
    "The last step is to define all your inputs and outputs to fit the model:\n",
    "- You already have X of shape $(m = 10000, T_x = 30)$ containing the training examples.\n",
    "- You need to create `s0` and `c0` to initialize your `post_activation_LSTM_cell` with 0s.\n",
    "- Given the `model()` you coded, you need the \"outputs\" to be a list of 11 elements of shape (m, T_y). So that: `outputs[i][0], ..., outputs[i][Ty]` represent the true labels (characters) corresponding to the $i^{th}$ training example (`X[i]`). More generally, `outputs[i][j]` is the true label of the $j^{th}$ character in the $i^{th}$ training example."
   ]
  },
  {
   "cell_type": "code",
   "execution_count": 37,
   "metadata": {},
   "outputs": [],
   "source": [
    "s0 = np.zeros((len(dataset_list), n_s))\n",
    "c0 = np.zeros((len(dataset_list), n_s))\n",
    "outputs = list(Yoh.swapaxes(0,1))"
   ]
  },
  {
   "cell_type": "code",
   "execution_count": 38,
   "metadata": {},
   "outputs": [
    {
     "data": {
      "text/plain": [
       "(22, 22)"
      ]
     },
     "execution_count": 38,
     "metadata": {},
     "output_type": "execute_result"
    }
   ],
   "source": [
    "len(list(Yoh[1])),len(list(Yoh.swapaxes(0,1)))"
   ]
  },
  {
   "cell_type": "code",
   "execution_count": 39,
   "metadata": {},
   "outputs": [
    {
     "data": {
      "text/plain": [
       "((2867, 22, 2620), (2867, 500), (2867, 500), (22, 2867, 2620))"
      ]
     },
     "execution_count": 39,
     "metadata": {},
     "output_type": "execute_result"
    }
   ],
   "source": [
    "Yoh.shape,s0.shape,c0.shape,Yoh.swapaxes(0,1).shape"
   ]
  },
  {
   "cell_type": "code",
   "execution_count": 40,
   "metadata": {},
   "outputs": [
    {
     "name": "stdout",
     "output_type": "stream",
     "text": [
      "Total Samples,Training,Testing 2867 2810 2\n",
      "Training X Shape and Y Shape (2810, 25, 2873) (2810, 22, 2620)\n",
      "Testing X Shape and Y Shape (2, 25, 2873) (2, 22, 2620)\n"
     ]
    }
   ],
   "source": [
    "#Divide data in to train & test\n",
    "#How much percentage of total data you need\n",
    "training_sample_percentage=98\n",
    "training_sample_count=(round(X.shape[0]*training_sample_percentage/100))\n",
    "testing_sample_count=2\n",
    "#For to cover rest of data\n",
    "#testing_sample_count=X.shape[0]-training_sample_count\n",
    "testing_sample_index=training_sample_count+testing_sample_count\n",
    "\n",
    "print(\"Total Samples,Training,Testing\",X.shape[0],training_sample_count,testing_sample_count)\n",
    "trainXoh=Xoh[0:training_sample_count]\n",
    "trainYoh=Yoh[0:training_sample_count]\n",
    "testXoh=Xoh[training_sample_count:testing_sample_index]\n",
    "testYoh=Yoh[training_sample_count:testing_sample_index]\n",
    "print(\"Training X Shape and Y Shape\",trainXoh.shape,trainYoh.shape)\n",
    "print(\"Testing X Shape and Y Shape\",testXoh.shape,testYoh.shape)\n",
    "train_outputs = list(trainYoh.swapaxes(0,1))\n",
    "test_outputs = list(testYoh.swapaxes(0,1))"
   ]
  },
  {
   "cell_type": "markdown",
   "metadata": {},
   "source": [
    "#Run this only to test with couple of samples to check everything is working fine.\n",
    "#If not needed just change the format to markdown or comment all code below.\n",
    "#Divide data in to train & test\n",
    "\n",
    "#Training sample count will alse serve as index\n",
    "training_sample_count=10\n",
    "testing_sample_count=2\n",
    "testing_sample_index=training_sample_count+testing_sample_count\n",
    "\n",
    "print(\"Total Samples,Training,Testing\",X.shape[0],training_sample_count,testing_sample_count)\n",
    "trainXoh=Xoh[0:training_sample_count]\n",
    "trainYoh=Yoh[0:training_sample_count]\n",
    "testXoh=Xoh[training_sample_count:testing_sample_index]\n",
    "testYoh=Yoh[training_sample_count:testing_sample_index]\n",
    "print(\"Training X Shape and Y Shape\",trainXoh.shape,trainYoh.shape)\n",
    "print(\"Testing X Shape and Y Shape\",testXoh.shape,testYoh.shape)\n",
    "train_outputs = list(trainYoh.swapaxes(0,1))\n",
    "test_outputs = list(testYoh.swapaxes(0,1))"
   ]
  },
  {
   "cell_type": "code",
   "execution_count": 41,
   "metadata": {},
   "outputs": [
    {
     "data": {
      "text/plain": [
       "(2867, 2810, 2)"
      ]
     },
     "execution_count": 41,
     "metadata": {},
     "output_type": "execute_result"
    }
   ],
   "source": [
    "len(dataset_list),training_sample_count,testing_sample_count"
   ]
  },
  {
   "cell_type": "code",
   "execution_count": 42,
   "metadata": {},
   "outputs": [
    {
     "name": "stdout",
     "output_type": "stream",
     "text": [
      "(2867, 500) (2867, 500)\n"
     ]
    }
   ],
   "source": [
    "train_s0 = np.zeros((training_sample_count, n_s))\n",
    "train_c0 = np.zeros((training_sample_count, n_s))\n",
    "trainX=[trainXoh, train_s0, train_c0]\n",
    "trainY=train_outputs\n",
    "test_s0 = np.zeros((testing_sample_count, n_s))\n",
    "test_c0 = np.zeros((testing_sample_count, n_s))\n",
    "testX=[testXoh, test_s0, test_c0]\n",
    "testY=test_outputs\n",
    "print(s0.shape,c0.shape)"
   ]
  },
  {
   "cell_type": "code",
   "execution_count": 43,
   "metadata": {},
   "outputs": [
    {
     "name": "stdout",
     "output_type": "stream",
     "text": [
      "Train on 2810 samples, validate on 2 samples\n",
      "Epoch 1/50\n",
      "2800/2810 [============================>.] - ETA: 0s - loss: 47.5452 - dense_2_loss_1: 6.4367 - dense_2_loss_2: 6.7911 - dense_2_loss_3: 6.4695 - dense_2_loss_4: 6.4466 - dense_2_loss_5: 5.6277 - dense_2_loss_6: 4.5464 - dense_2_loss_7: 3.4472 - dense_2_loss_8: 2.4165 - dense_2_loss_9: 1.5590 - dense_2_loss_10: 1.0354 - dense_2_loss_11: 0.6563 - dense_2_loss_12: 0.4288 - dense_2_loss_13: 0.2694 - dense_2_loss_14: 0.2338 - dense_2_loss_15: 0.1754 - dense_2_loss_16: 0.1581 - dense_2_loss_17: 0.1531 - dense_2_loss_18: 0.1454 - dense_2_loss_19: 0.1397 - dense_2_loss_20: 0.1372 - dense_2_loss_21: 0.1364 - dense_2_loss_22: 0.1356 - dense_2_acc_1: 0.1011 - dense_2_acc_2: 0.0150 - dense_2_acc_3: 0.0257 - dense_2_acc_4: 0.0857 - dense_2_acc_5: 0.2293 - dense_2_acc_6: 0.4150 - dense_2_acc_7: 0.5893 - dense_2_acc_8: 0.7350 - dense_2_acc_9: 0.8414 - dense_2_acc_10: 0.9036 - dense_2_acc_11: 0.9439 - dense_2_acc_12: 0.9686 - dense_2_acc_13: 0.9829 - dense_2_acc_14: 0.9875 - dense_2_acc_15: 0.9929 - dense_2_acc_16: 0.9946 - dense_2_acc_17: 0.9950 - dense_2_acc_18: 0.9954 - dense_2_acc_19: 0.9957 - dense_2_acc_20: 0.9961 - dense_2_acc_21: 0.9961 - dense_2_acc_22: 0.9961Epoch 00000: saving model to main_model_weights.h5\n",
      "2810/2810 [==============================] - 84s - loss: 47.5114 - dense_2_loss_1: 6.4328 - dense_2_loss_2: 6.7923 - dense_2_loss_3: 6.4685 - dense_2_loss_4: 6.4416 - dense_2_loss_5: 5.6285 - dense_2_loss_6: 4.5410 - dense_2_loss_7: 3.4402 - dense_2_loss_8: 2.4139 - dense_2_loss_9: 1.5608 - dense_2_loss_10: 1.0322 - dense_2_loss_11: 0.6542 - dense_2_loss_12: 0.4274 - dense_2_loss_13: 0.2685 - dense_2_loss_14: 0.2329 - dense_2_loss_15: 0.1748 - dense_2_loss_16: 0.1575 - dense_2_loss_17: 0.1525 - dense_2_loss_18: 0.1449 - dense_2_loss_19: 0.1392 - dense_2_loss_20: 0.1367 - dense_2_loss_21: 0.1359 - dense_2_loss_22: 0.1351 - dense_2_acc_1: 0.1018 - dense_2_acc_2: 0.0149 - dense_2_acc_3: 0.0256 - dense_2_acc_4: 0.0861 - dense_2_acc_5: 0.2295 - dense_2_acc_6: 0.4157 - dense_2_acc_7: 0.5900 - dense_2_acc_8: 0.7352 - dense_2_acc_9: 0.8413 - dense_2_acc_10: 0.9039 - dense_2_acc_11: 0.9441 - dense_2_acc_12: 0.9687 - dense_2_acc_13: 0.9829 - dense_2_acc_14: 0.9875 - dense_2_acc_15: 0.9929 - dense_2_acc_16: 0.9947 - dense_2_acc_17: 0.9950 - dense_2_acc_18: 0.9954 - dense_2_acc_19: 0.9957 - dense_2_acc_20: 0.9961 - dense_2_acc_21: 0.9961 - dense_2_acc_22: 0.9961 - val_loss: 71.0619 - val_dense_2_loss_1: 4.2922 - val_dense_2_loss_2: 4.6302 - val_dense_2_loss_3: 7.0833 - val_dense_2_loss_4: 4.5500 - val_dense_2_loss_5: 7.3347 - val_dense_2_loss_6: 4.8627 - val_dense_2_loss_7: 7.3000 - val_dense_2_loss_8: 6.1559 - val_dense_2_loss_9: 6.7804 - val_dense_2_loss_10: 9.0103 - val_dense_2_loss_11: 2.9978 - val_dense_2_loss_12: 6.0593 - val_dense_2_loss_13: 0.0044 - val_dense_2_loss_14: 4.7709e-04 - val_dense_2_loss_15: 2.4498e-05 - val_dense_2_loss_16: 5.0664e-07 - val_dense_2_loss_17: 1.1921e-07 - val_dense_2_loss_18: 1.1921e-07 - val_dense_2_loss_19: 1.1921e-07 - val_dense_2_loss_20: 1.1921e-07 - val_dense_2_loss_21: 1.1921e-07 - val_dense_2_loss_22: 1.1921e-07 - val_dense_2_acc_1: 0.5000 - val_dense_2_acc_2: 0.0000e+00 - val_dense_2_acc_3: 0.0000e+00 - val_dense_2_acc_4: 0.0000e+00 - val_dense_2_acc_5: 0.0000e+00 - val_dense_2_acc_6: 0.0000e+00 - val_dense_2_acc_7: 0.0000e+00 - val_dense_2_acc_8: 0.0000e+00 - val_dense_2_acc_9: 0.0000e+00 - val_dense_2_acc_10: 0.0000e+00 - val_dense_2_acc_11: 0.5000 - val_dense_2_acc_12: 0.5000 - val_dense_2_acc_13: 1.0000 - val_dense_2_acc_14: 1.0000 - val_dense_2_acc_15: 1.0000 - val_dense_2_acc_16: 1.0000 - val_dense_2_acc_17: 1.0000 - val_dense_2_acc_18: 1.0000 - val_dense_2_acc_19: 1.0000 - val_dense_2_acc_20: 1.0000 - val_dense_2_acc_21: 1.0000 - val_dense_2_acc_22: 1.0000\n",
      "Epoch 2/50\n",
      "1810/2810 [==================>...........] - ETA: 26s - loss: 41.5358 - dense_2_loss_1: 5.0853 - dense_2_loss_2: 6.3880 - dense_2_loss_3: 6.0397 - dense_2_loss_4: 6.0773 - dense_2_loss_5: 5.3082 - dense_2_loss_6: 4.1714 - dense_2_loss_7: 3.1270 - dense_2_loss_8: 2.0832 - dense_2_loss_9: 1.3410 - dense_2_loss_10: 0.8358 - dense_2_loss_11: 0.4688 - dense_2_loss_12: 0.2432 - dense_2_loss_13: 0.1142 - dense_2_loss_14: 0.0874 - dense_2_loss_15: 0.0360 - dense_2_loss_16: 0.0325 - dense_2_loss_17: 0.0327 - dense_2_loss_18: 0.0239 - dense_2_loss_19: 0.0113 - dense_2_loss_20: 0.0105 - dense_2_loss_21: 0.0086 - dense_2_loss_22: 0.0097 - dense_2_acc_1: 0.1724 - dense_2_acc_2: 0.0558 - dense_2_acc_3: 0.0282 - dense_2_acc_4: 0.0878 - dense_2_acc_5: 0.2282 - dense_2_acc_6: 0.4182 - dense_2_acc_7: 0.5878 - dense_2_acc_8: 0.7343 - dense_2_acc_9: 0.8381 - dense_2_acc_10: 0.9039 - dense_2_acc_11: 0.9475 - dense_2_acc_12: 0.9729 - dense_2_acc_13: 0.9862 - dense_2_acc_14: 0.9906 - dense_2_acc_15: 0.9961 - dense_2_acc_16: 0.9978 - dense_2_acc_17: 0.9978 - dense_2_acc_18: 0.9983 - dense_2_acc_19: 0.9989 - dense_2_acc_20: 0.9994 - dense_2_acc_21: 0.9994 - dense_2_acc_22: 0.9994"
     ]
    },
    {
     "ename": "KeyboardInterrupt",
     "evalue": "",
     "output_type": "error",
     "traceback": [
      "\u001b[0;31m---------------------------------------------------------------------------\u001b[0m",
      "\u001b[0;31mKeyboardInterrupt\u001b[0m                         Traceback (most recent call last)",
      "\u001b[0;32m<ipython-input-43-7bbf7f888469>\u001b[0m in \u001b[0;36m<module>\u001b[0;34m()\u001b[0m\n\u001b[1;32m      1\u001b[0m \u001b[0;32mfrom\u001b[0m \u001b[0mkeras\u001b[0m\u001b[0;34m.\u001b[0m\u001b[0mcallbacks\u001b[0m \u001b[0;32mimport\u001b[0m \u001b[0mModelCheckpoint\u001b[0m\u001b[0;34m\u001b[0m\u001b[0m\n\u001b[1;32m      2\u001b[0m \u001b[0mcheckpoint\u001b[0m \u001b[0;34m=\u001b[0m \u001b[0mModelCheckpoint\u001b[0m\u001b[0;34m(\u001b[0m\u001b[0;34m'main_model_weights.h5'\u001b[0m\u001b[0;34m,\u001b[0m \u001b[0mmonitor\u001b[0m\u001b[0;34m=\u001b[0m\u001b[0;34m'val_loss'\u001b[0m\u001b[0;34m,\u001b[0m \u001b[0mverbose\u001b[0m\u001b[0;34m=\u001b[0m\u001b[0;36m1\u001b[0m\u001b[0;34m,\u001b[0m \u001b[0msave_best_only\u001b[0m\u001b[0;34m=\u001b[0m\u001b[0;32mFalse\u001b[0m\u001b[0;34m,\u001b[0m \u001b[0mmode\u001b[0m\u001b[0;34m=\u001b[0m\u001b[0;34m'min'\u001b[0m\u001b[0;34m,\u001b[0m\u001b[0msave_weights_only\u001b[0m\u001b[0;34m=\u001b[0m\u001b[0;32mTrue\u001b[0m\u001b[0;34m)\u001b[0m\u001b[0;34m\u001b[0m\u001b[0m\n\u001b[0;32m----> 3\u001b[0;31m \u001b[0mmodel\u001b[0m\u001b[0;34m.\u001b[0m\u001b[0mfit\u001b[0m\u001b[0;34m(\u001b[0m\u001b[0mtrainX\u001b[0m\u001b[0;34m,\u001b[0m \u001b[0mtrainY\u001b[0m\u001b[0;34m,\u001b[0m \u001b[0mepochs\u001b[0m\u001b[0;34m=\u001b[0m\u001b[0;36m50\u001b[0m\u001b[0;34m,\u001b[0m \u001b[0mbatch_size\u001b[0m\u001b[0;34m=\u001b[0m\u001b[0;36m10\u001b[0m\u001b[0;34m,\u001b[0m \u001b[0mvalidation_data\u001b[0m\u001b[0;34m=\u001b[0m\u001b[0;34m(\u001b[0m\u001b[0mtestX\u001b[0m\u001b[0;34m,\u001b[0m \u001b[0mtestY\u001b[0m\u001b[0;34m)\u001b[0m\u001b[0;34m,\u001b[0m \u001b[0mcallbacks\u001b[0m\u001b[0;34m=\u001b[0m\u001b[0;34m[\u001b[0m\u001b[0mcheckpoint\u001b[0m\u001b[0;34m]\u001b[0m\u001b[0;34m)\u001b[0m\u001b[0;34m\u001b[0m\u001b[0m\n\u001b[0m\u001b[1;32m      4\u001b[0m \u001b[0;31m#Hoping to save model without errors.\u001b[0m\u001b[0;34m\u001b[0m\u001b[0;34m\u001b[0m\u001b[0m\n\u001b[1;32m      5\u001b[0m \u001b[0mmodel\u001b[0m\u001b[0;34m.\u001b[0m\u001b[0msave\u001b[0m\u001b[0;34m(\u001b[0m\u001b[0;34m'main_model.h5'\u001b[0m\u001b[0;34m)\u001b[0m\u001b[0;34m\u001b[0m\u001b[0m\n",
      "\u001b[0;32m/usr/local/src/conda3_runtime/home/envs/DSX-Python35-Spark/lib/python3.5/site-packages/keras/engine/training.py\u001b[0m in \u001b[0;36mfit\u001b[0;34m(self, x, y, batch_size, epochs, verbose, callbacks, validation_split, validation_data, shuffle, class_weight, sample_weight, initial_epoch, **kwargs)\u001b[0m\n\u001b[1;32m   1505\u001b[0m                               \u001b[0mval_f\u001b[0m\u001b[0;34m=\u001b[0m\u001b[0mval_f\u001b[0m\u001b[0;34m,\u001b[0m \u001b[0mval_ins\u001b[0m\u001b[0;34m=\u001b[0m\u001b[0mval_ins\u001b[0m\u001b[0;34m,\u001b[0m \u001b[0mshuffle\u001b[0m\u001b[0;34m=\u001b[0m\u001b[0mshuffle\u001b[0m\u001b[0;34m,\u001b[0m\u001b[0;34m\u001b[0m\u001b[0m\n\u001b[1;32m   1506\u001b[0m                               \u001b[0mcallback_metrics\u001b[0m\u001b[0;34m=\u001b[0m\u001b[0mcallback_metrics\u001b[0m\u001b[0;34m,\u001b[0m\u001b[0;34m\u001b[0m\u001b[0m\n\u001b[0;32m-> 1507\u001b[0;31m                               initial_epoch=initial_epoch)\n\u001b[0m\u001b[1;32m   1508\u001b[0m \u001b[0;34m\u001b[0m\u001b[0m\n\u001b[1;32m   1509\u001b[0m     \u001b[0;32mdef\u001b[0m \u001b[0mevaluate\u001b[0m\u001b[0;34m(\u001b[0m\u001b[0mself\u001b[0m\u001b[0;34m,\u001b[0m \u001b[0mx\u001b[0m\u001b[0;34m,\u001b[0m \u001b[0my\u001b[0m\u001b[0;34m,\u001b[0m \u001b[0mbatch_size\u001b[0m\u001b[0;34m=\u001b[0m\u001b[0;36m32\u001b[0m\u001b[0;34m,\u001b[0m \u001b[0mverbose\u001b[0m\u001b[0;34m=\u001b[0m\u001b[0;36m1\u001b[0m\u001b[0;34m,\u001b[0m \u001b[0msample_weight\u001b[0m\u001b[0;34m=\u001b[0m\u001b[0;32mNone\u001b[0m\u001b[0;34m)\u001b[0m\u001b[0;34m:\u001b[0m\u001b[0;34m\u001b[0m\u001b[0m\n",
      "\u001b[0;32m/usr/local/src/conda3_runtime/home/envs/DSX-Python35-Spark/lib/python3.5/site-packages/keras/engine/training.py\u001b[0m in \u001b[0;36m_fit_loop\u001b[0;34m(self, f, ins, out_labels, batch_size, epochs, verbose, callbacks, val_f, val_ins, shuffle, callback_metrics, initial_epoch)\u001b[0m\n\u001b[1;32m   1154\u001b[0m                 \u001b[0mbatch_logs\u001b[0m\u001b[0;34m[\u001b[0m\u001b[0;34m'size'\u001b[0m\u001b[0;34m]\u001b[0m \u001b[0;34m=\u001b[0m \u001b[0mlen\u001b[0m\u001b[0;34m(\u001b[0m\u001b[0mbatch_ids\u001b[0m\u001b[0;34m)\u001b[0m\u001b[0;34m\u001b[0m\u001b[0m\n\u001b[1;32m   1155\u001b[0m                 \u001b[0mcallbacks\u001b[0m\u001b[0;34m.\u001b[0m\u001b[0mon_batch_begin\u001b[0m\u001b[0;34m(\u001b[0m\u001b[0mbatch_index\u001b[0m\u001b[0;34m,\u001b[0m \u001b[0mbatch_logs\u001b[0m\u001b[0;34m)\u001b[0m\u001b[0;34m\u001b[0m\u001b[0m\n\u001b[0;32m-> 1156\u001b[0;31m                 \u001b[0mouts\u001b[0m \u001b[0;34m=\u001b[0m \u001b[0mf\u001b[0m\u001b[0;34m(\u001b[0m\u001b[0mins_batch\u001b[0m\u001b[0;34m)\u001b[0m\u001b[0;34m\u001b[0m\u001b[0m\n\u001b[0m\u001b[1;32m   1157\u001b[0m                 \u001b[0;32mif\u001b[0m \u001b[0;32mnot\u001b[0m \u001b[0misinstance\u001b[0m\u001b[0;34m(\u001b[0m\u001b[0mouts\u001b[0m\u001b[0;34m,\u001b[0m \u001b[0mlist\u001b[0m\u001b[0;34m)\u001b[0m\u001b[0;34m:\u001b[0m\u001b[0;34m\u001b[0m\u001b[0m\n\u001b[1;32m   1158\u001b[0m                     \u001b[0mouts\u001b[0m \u001b[0;34m=\u001b[0m \u001b[0;34m[\u001b[0m\u001b[0mouts\u001b[0m\u001b[0;34m]\u001b[0m\u001b[0;34m\u001b[0m\u001b[0m\n",
      "\u001b[0;32m/usr/local/src/conda3_runtime/home/envs/DSX-Python35-Spark/lib/python3.5/site-packages/keras/backend/tensorflow_backend.py\u001b[0m in \u001b[0;36m__call__\u001b[0;34m(self, inputs)\u001b[0m\n\u001b[1;32m   2267\u001b[0m         updated = session.run(self.outputs + [self.updates_op],\n\u001b[1;32m   2268\u001b[0m                               \u001b[0mfeed_dict\u001b[0m\u001b[0;34m=\u001b[0m\u001b[0mfeed_dict\u001b[0m\u001b[0;34m,\u001b[0m\u001b[0;34m\u001b[0m\u001b[0m\n\u001b[0;32m-> 2269\u001b[0;31m                               **self.session_kwargs)\n\u001b[0m\u001b[1;32m   2270\u001b[0m         \u001b[0;32mreturn\u001b[0m \u001b[0mupdated\u001b[0m\u001b[0;34m[\u001b[0m\u001b[0;34m:\u001b[0m\u001b[0mlen\u001b[0m\u001b[0;34m(\u001b[0m\u001b[0mself\u001b[0m\u001b[0;34m.\u001b[0m\u001b[0moutputs\u001b[0m\u001b[0;34m)\u001b[0m\u001b[0;34m]\u001b[0m\u001b[0;34m\u001b[0m\u001b[0m\n\u001b[1;32m   2271\u001b[0m \u001b[0;34m\u001b[0m\u001b[0m\n",
      "\u001b[0;32m/usr/local/src/conda3_runtime/home/envs/DSX-Python35-Spark/lib/python3.5/site-packages/tensorflow/python/client/session.py\u001b[0m in \u001b[0;36mrun\u001b[0;34m(self, fetches, feed_dict, options, run_metadata)\u001b[0m\n\u001b[1;32m    893\u001b[0m     \u001b[0;32mtry\u001b[0m\u001b[0;34m:\u001b[0m\u001b[0;34m\u001b[0m\u001b[0m\n\u001b[1;32m    894\u001b[0m       result = self._run(None, fetches, feed_dict, options_ptr,\n\u001b[0;32m--> 895\u001b[0;31m                          run_metadata_ptr)\n\u001b[0m\u001b[1;32m    896\u001b[0m       \u001b[0;32mif\u001b[0m \u001b[0mrun_metadata\u001b[0m\u001b[0;34m:\u001b[0m\u001b[0;34m\u001b[0m\u001b[0m\n\u001b[1;32m    897\u001b[0m         \u001b[0mproto_data\u001b[0m \u001b[0;34m=\u001b[0m \u001b[0mtf_session\u001b[0m\u001b[0;34m.\u001b[0m\u001b[0mTF_GetBuffer\u001b[0m\u001b[0;34m(\u001b[0m\u001b[0mrun_metadata_ptr\u001b[0m\u001b[0;34m)\u001b[0m\u001b[0;34m\u001b[0m\u001b[0m\n",
      "\u001b[0;32m/usr/local/src/conda3_runtime/home/envs/DSX-Python35-Spark/lib/python3.5/site-packages/tensorflow/python/client/session.py\u001b[0m in \u001b[0;36m_run\u001b[0;34m(self, handle, fetches, feed_dict, options, run_metadata)\u001b[0m\n\u001b[1;32m   1122\u001b[0m     \u001b[0;32mif\u001b[0m \u001b[0mfinal_fetches\u001b[0m \u001b[0;32mor\u001b[0m \u001b[0mfinal_targets\u001b[0m \u001b[0;32mor\u001b[0m \u001b[0;34m(\u001b[0m\u001b[0mhandle\u001b[0m \u001b[0;32mand\u001b[0m \u001b[0mfeed_dict_tensor\u001b[0m\u001b[0;34m)\u001b[0m\u001b[0;34m:\u001b[0m\u001b[0;34m\u001b[0m\u001b[0m\n\u001b[1;32m   1123\u001b[0m       results = self._do_run(handle, final_targets, final_fetches,\n\u001b[0;32m-> 1124\u001b[0;31m                              feed_dict_tensor, options, run_metadata)\n\u001b[0m\u001b[1;32m   1125\u001b[0m     \u001b[0;32melse\u001b[0m\u001b[0;34m:\u001b[0m\u001b[0;34m\u001b[0m\u001b[0m\n\u001b[1;32m   1126\u001b[0m       \u001b[0mresults\u001b[0m \u001b[0;34m=\u001b[0m \u001b[0;34m[\u001b[0m\u001b[0;34m]\u001b[0m\u001b[0;34m\u001b[0m\u001b[0m\n",
      "\u001b[0;32m/usr/local/src/conda3_runtime/home/envs/DSX-Python35-Spark/lib/python3.5/site-packages/tensorflow/python/client/session.py\u001b[0m in \u001b[0;36m_do_run\u001b[0;34m(self, handle, target_list, fetch_list, feed_dict, options, run_metadata)\u001b[0m\n\u001b[1;32m   1319\u001b[0m     \u001b[0;32mif\u001b[0m \u001b[0mhandle\u001b[0m \u001b[0;32mis\u001b[0m \u001b[0;32mNone\u001b[0m\u001b[0;34m:\u001b[0m\u001b[0;34m\u001b[0m\u001b[0m\n\u001b[1;32m   1320\u001b[0m       return self._do_call(_run_fn, self._session, feeds, fetches, targets,\n\u001b[0;32m-> 1321\u001b[0;31m                            options, run_metadata)\n\u001b[0m\u001b[1;32m   1322\u001b[0m     \u001b[0;32melse\u001b[0m\u001b[0;34m:\u001b[0m\u001b[0;34m\u001b[0m\u001b[0m\n\u001b[1;32m   1323\u001b[0m       \u001b[0;32mreturn\u001b[0m \u001b[0mself\u001b[0m\u001b[0;34m.\u001b[0m\u001b[0m_do_call\u001b[0m\u001b[0;34m(\u001b[0m\u001b[0m_prun_fn\u001b[0m\u001b[0;34m,\u001b[0m \u001b[0mself\u001b[0m\u001b[0;34m.\u001b[0m\u001b[0m_session\u001b[0m\u001b[0;34m,\u001b[0m \u001b[0mhandle\u001b[0m\u001b[0;34m,\u001b[0m \u001b[0mfeeds\u001b[0m\u001b[0;34m,\u001b[0m \u001b[0mfetches\u001b[0m\u001b[0;34m)\u001b[0m\u001b[0;34m\u001b[0m\u001b[0m\n",
      "\u001b[0;32m/usr/local/src/conda3_runtime/home/envs/DSX-Python35-Spark/lib/python3.5/site-packages/tensorflow/python/client/session.py\u001b[0m in \u001b[0;36m_do_call\u001b[0;34m(self, fn, *args)\u001b[0m\n\u001b[1;32m   1325\u001b[0m   \u001b[0;32mdef\u001b[0m \u001b[0m_do_call\u001b[0m\u001b[0;34m(\u001b[0m\u001b[0mself\u001b[0m\u001b[0;34m,\u001b[0m \u001b[0mfn\u001b[0m\u001b[0;34m,\u001b[0m \u001b[0;34m*\u001b[0m\u001b[0margs\u001b[0m\u001b[0;34m)\u001b[0m\u001b[0;34m:\u001b[0m\u001b[0;34m\u001b[0m\u001b[0m\n\u001b[1;32m   1326\u001b[0m     \u001b[0;32mtry\u001b[0m\u001b[0;34m:\u001b[0m\u001b[0;34m\u001b[0m\u001b[0m\n\u001b[0;32m-> 1327\u001b[0;31m       \u001b[0;32mreturn\u001b[0m \u001b[0mfn\u001b[0m\u001b[0;34m(\u001b[0m\u001b[0;34m*\u001b[0m\u001b[0margs\u001b[0m\u001b[0;34m)\u001b[0m\u001b[0;34m\u001b[0m\u001b[0m\n\u001b[0m\u001b[1;32m   1328\u001b[0m     \u001b[0;32mexcept\u001b[0m \u001b[0merrors\u001b[0m\u001b[0;34m.\u001b[0m\u001b[0mOpError\u001b[0m \u001b[0;32mas\u001b[0m \u001b[0me\u001b[0m\u001b[0;34m:\u001b[0m\u001b[0;34m\u001b[0m\u001b[0m\n\u001b[1;32m   1329\u001b[0m       \u001b[0mmessage\u001b[0m \u001b[0;34m=\u001b[0m \u001b[0mcompat\u001b[0m\u001b[0;34m.\u001b[0m\u001b[0mas_text\u001b[0m\u001b[0;34m(\u001b[0m\u001b[0me\u001b[0m\u001b[0;34m.\u001b[0m\u001b[0mmessage\u001b[0m\u001b[0;34m)\u001b[0m\u001b[0;34m\u001b[0m\u001b[0m\n",
      "\u001b[0;32m/usr/local/src/conda3_runtime/home/envs/DSX-Python35-Spark/lib/python3.5/site-packages/tensorflow/python/client/session.py\u001b[0m in \u001b[0;36m_run_fn\u001b[0;34m(session, feed_dict, fetch_list, target_list, options, run_metadata)\u001b[0m\n\u001b[1;32m   1304\u001b[0m           return tf_session.TF_Run(session, options,\n\u001b[1;32m   1305\u001b[0m                                    \u001b[0mfeed_dict\u001b[0m\u001b[0;34m,\u001b[0m \u001b[0mfetch_list\u001b[0m\u001b[0;34m,\u001b[0m \u001b[0mtarget_list\u001b[0m\u001b[0;34m,\u001b[0m\u001b[0;34m\u001b[0m\u001b[0m\n\u001b[0;32m-> 1306\u001b[0;31m                                    status, run_metadata)\n\u001b[0m\u001b[1;32m   1307\u001b[0m \u001b[0;34m\u001b[0m\u001b[0m\n\u001b[1;32m   1308\u001b[0m     \u001b[0;32mdef\u001b[0m \u001b[0m_prun_fn\u001b[0m\u001b[0;34m(\u001b[0m\u001b[0msession\u001b[0m\u001b[0;34m,\u001b[0m \u001b[0mhandle\u001b[0m\u001b[0;34m,\u001b[0m \u001b[0mfeed_dict\u001b[0m\u001b[0;34m,\u001b[0m \u001b[0mfetch_list\u001b[0m\u001b[0;34m)\u001b[0m\u001b[0;34m:\u001b[0m\u001b[0;34m\u001b[0m\u001b[0m\n",
      "\u001b[0;31mKeyboardInterrupt\u001b[0m: "
     ]
    }
   ],
   "source": [
    "from keras.callbacks import ModelCheckpoint\n",
    "checkpoint = ModelCheckpoint('main_model_weights.h5', monitor='val_loss', verbose=1, save_best_only=False, mode='min',save_weights_only=True)\n",
    "model.fit(trainX, trainY, epochs=50, batch_size=10, validation_data=(testX, testY), callbacks=[checkpoint])\n",
    "#Hoping to save model without errors.\n",
    "model.save('main_model.h5')\n",
    "model.save_weights('final_model_weights.h5')"
   ]
  },
  {
   "cell_type": "markdown",
   "metadata": {},
   "source": [
    "Let's now fit the model and run it for one epoch."
   ]
  },
  {
   "cell_type": "code",
   "execution_count": null,
   "metadata": {},
   "outputs": [],
   "source": [
    "#All data model.\n",
    "#model.fit([Xoh, s0, c0], outputs, epochs=10000, batch_size=20)\n",
    "#model.save_weights('model_weights.h5')"
   ]
  },
  {
   "cell_type": "markdown",
   "metadata": {},
   "source": [
    "While training you can see the loss as well as the accuracy on each of the 10 positions of the output. The table below gives you an example of what the accuracies could be if the batch had 2 examples: \n",
    "\n",
    "<img src=\"images/table.png\" style=\"width:700;height:200px;\"> <br>\n",
    "<caption><center>Thus, `dense_2_acc_8: 0.89` means that you are predicting the 7th character of the output correctly 89% of the time in the current batch of data. </center></caption>\n",
    "\n",
    "\n",
    "We have run this model for longer, and saved the weights. Run the next cell to load our weights. (By training a model for several minutes, you should be able to obtain a model of similar accuracy, but loading our model will save you time.) "
   ]
  },
  {
   "cell_type": "code",
   "execution_count": null,
   "metadata": {},
   "outputs": [],
   "source": [
    "# model.load_weights('models/model.h5')"
   ]
  },
  {
   "cell_type": "code",
   "execution_count": null,
   "metadata": {},
   "outputs": [],
   "source": [
    "from keras.models import load_model\n",
    "loaded_model.load_weights('main_model_weights.h5')"
   ]
  },
  {
   "cell_type": "markdown",
   "metadata": {},
   "source": [
    "You can now see the results on new examples."
   ]
  },
  {
   "cell_type": "code",
   "execution_count": null,
   "metadata": {},
   "outputs": [],
   "source": [
    "#EXAMPLES = ['3 May 1979', '5 April 09', '21th of August 2016', 'Tue 10 Jul 2007', 'Saturday May 9 2018', 'March 3 2001', 'March 3rd 2001', '1 March 2001']\n",
    "EXAMPLES=hindi_sentences_list[0:2]\n",
    "EXAMPLES"
   ]
  },
  {
   "cell_type": "code",
   "execution_count": null,
   "metadata": {},
   "outputs": [],
   "source": [
    "EXAMPLES_CODED=get_padded_encoding(EXAMPLES,hindi_dictionary,max_hindi_words)\n",
    "print(EXAMPLES_CODED.shape,hindi_encoding.shape)"
   ]
  },
  {
   "cell_type": "code",
   "execution_count": null,
   "metadata": {},
   "outputs": [],
   "source": [
    "i=0\n",
    "for example in EXAMPLES_CODED:\n",
    "    source = example\n",
    "    source = np.array(list(map(lambda x: to_categorical(x, num_classes=len(hindi_dictionary)), source))).swapaxes(0,1)\n",
    "    prediction = loaded_model.predict([source, s0, c0])\n",
    "    print (\"Prediction Type & Shape:\",type(prediction),len(prediction))\n",
    "    prediction = np.argmax(prediction, axis = -1)\n",
    "    output = [revere_dictionary_english[int(i)] for i in prediction]\n",
    "    \n",
    "    print(\"Hindi\",EXAMPLES[i])\n",
    "    print(\"Expected\",english_sentences_list[i])\n",
    "    print(\"output:\", ' '.join(output))\n",
    "    print (\"Prediction:\",list(prediction))\n",
    "    i=i+1"
   ]
  },
  {
   "cell_type": "markdown",
   "metadata": {},
   "source": [
    "You can also change these examples to test with your own examples. The next part will give you a better sense on what the attention mechanism is doing--i.e., what part of the input the network is paying attention to when generating a particular output character. "
   ]
  },
  {
   "cell_type": "markdown",
   "metadata": {},
   "source": [
    "## 3 - Visualizing Attention (Optional / Ungraded)\n",
    "\n",
    "Since the problem has a fixed output length of 10, it is also possible to carry out this task using 10 different softmax units to generate the 10 characters of the output. But one advantage of the attention model is that each part of the output (say the month) knows it needs to depend only on a small part of the input (the characters in the input giving the month). We can  visualize what part of the output is looking at what part of the input.\n",
    "\n",
    "Consider the task of translating \"Saturday 9 May 2018\" to \"2018-05-09\". If we visualize the computed $\\alpha^{\\langle t, t' \\rangle}$ we get this: \n",
    "\n",
    "<img src=\"images/date_attention.png\" style=\"width:600;height:300px;\"> <br>\n",
    "<caption><center> **Figure 8**: Full Attention Map</center></caption>\n",
    "\n",
    "Notice how the output ignores the \"Saturday\" portion of the input. None of the output timesteps are paying much attention to that portion of the input. We see also that 9 has been translated as 09 and May has been correctly translated into 05, with the output paying attention to the parts of the input it needs to to make the translation. The year mostly requires it to pay attention to the input's \"18\" in order to generate \"2018.\" \n",
    "\n"
   ]
  },
  {
   "cell_type": "markdown",
   "metadata": {},
   "source": [
    "### 3.1 - Getting the activations from the network\n",
    "\n",
    "Lets now visualize the attention values in your network. We'll propagate an example through the network, then visualize the values of $\\alpha^{\\langle t, t' \\rangle}$. \n",
    "\n",
    "To figure out where the attention values are located, let's start by printing a summary of the model ."
   ]
  },
  {
   "cell_type": "code",
   "execution_count": null,
   "metadata": {},
   "outputs": [],
   "source": [
    "model.summary()"
   ]
  },
  {
   "cell_type": "markdown",
   "metadata": {},
   "source": [
    "Navigate through the output of `model.summary()` above. You can see that the layer named `attention_weights` outputs the `alphas` of shape (m, 30, 1) before `dot_2` computes the context vector for every time step $t = 0, \\ldots, T_y-1$. Lets get the activations from this layer.\n",
    "\n",
    "The function `attention_map()` pulls out the attention values from your model and plots them."
   ]
  },
  {
   "cell_type": "code",
   "execution_count": null,
   "metadata": {},
   "outputs": [],
   "source": [
    "test_sentence=str(hindi_sentences_list[1])"
   ]
  },
  {
   "cell_type": "code",
   "execution_count": null,
   "metadata": {
    "scrolled": false
   },
   "outputs": [],
   "source": [
    "attention_map = plot_attention_map(model, hindi_dictionary, revere_dictionary_english, test_sentence, num = 6, n_s = 128)"
   ]
  },
  {
   "cell_type": "markdown",
   "metadata": {},
   "source": [
    "On the generated plot you can observe the values of the attention weights for each character of the predicted output. Examine this plot and check that where the network is paying attention makes sense to you.\n",
    "\n",
    "In the date translation application, you will observe that most of the time attention helps predict the year, and hasn't much impact on predicting the day/month."
   ]
  },
  {
   "cell_type": "markdown",
   "metadata": {},
   "source": [
    "### Congratulations!\n",
    "\n",
    "\n",
    "You have come to the end of this assignment \n",
    "\n",
    "<font color='blue'> **Here's what you should remember from this notebook**:\n",
    "\n",
    "- Machine translation models can be used to map from one sequence to another. They are useful not just for translating human languages (like French->English) but also for tasks like date format translation. \n",
    "- An attention mechanism allows a network to focus on the most relevant parts of the input when producing a specific part of the output. \n",
    "- A network using an attention mechanism can translate from inputs of length $T_x$ to outputs of length $T_y$, where $T_x$ and $T_y$ can be different. \n",
    "- You can visualize attention weights $\\alpha^{\\langle t,t' \\rangle}$ to see what the network is paying attention to while generating each output."
   ]
  },
  {
   "cell_type": "markdown",
   "metadata": {},
   "source": [
    "Congratulations on finishing this assignment! You are now able to implement an attention model and use it to learn complex mappings from one sequence to another. "
   ]
  }
 ],
 "metadata": {
  "coursera": {
   "course_slug": "nlp-sequence-models",
   "graded_item_id": "n16CQ",
   "launcher_item_id": "npjGi"
  },
  "kernelspec": {
   "display_name": "Python 3.5 with Spark 1.6 (Unsupported)",
   "language": "python",
   "name": "python3"
  },
  "language_info": {
   "codemirror_mode": {
    "name": "ipython",
    "version": 3
   },
   "file_extension": ".py",
   "mimetype": "text/x-python",
   "name": "python",
   "nbconvert_exporter": "python",
   "pygments_lexer": "ipython3",
   "version": "3.5.4"
  }
 },
 "nbformat": 4,
 "nbformat_minor": 2
}
