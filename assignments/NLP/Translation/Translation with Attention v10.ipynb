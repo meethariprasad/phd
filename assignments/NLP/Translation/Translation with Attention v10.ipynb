{
 "cells": [
  {
   "cell_type": "markdown",
   "metadata": {},
   "source": [
    "# Neural Machine Translation\n",
    "\n",
    "Welcome to your first programming assignment for this week! \n",
    "\n",
    "You will build a Neural Machine Translation (NMT) model to translate human readable dates (\"25th of June, 2009\") into machine readable dates (\"2009-06-25\"). You will do this using an attention model, one of the most sophisticated sequence to sequence models. \n",
    "\n",
    "This notebook was produced together with NVIDIA's Deep Learning Institute. \n",
    "\n",
    "Let's load all the packages you will need for this assignment."
   ]
  },
  {
   "cell_type": "code",
   "execution_count": 1,
   "metadata": {},
   "outputs": [
    {
     "name": "stderr",
     "output_type": "stream",
     "text": [
      "Using TensorFlow backend.\n"
     ]
    }
   ],
   "source": [
    "from keras.layers import Bidirectional, Concatenate, Permute, Dot, Input, LSTM, Multiply\n",
    "from keras.layers import RepeatVector, Dense, Activation, Lambda\n",
    "from keras.optimizers import Adam\n",
    "from keras.utils import to_categorical\n",
    "from keras.models import load_model, Model\n",
    "import keras.backend as K\n",
    "import numpy as np\n",
    "\n",
    "from faker import Faker\n",
    "import random\n",
    "from tqdm import tqdm\n",
    "from babel.dates import format_date\n",
    "from nmt_utils import *\n",
    "import matplotlib.pyplot as plt\n",
    "%matplotlib inline"
   ]
  },
  {
   "cell_type": "markdown",
   "metadata": {},
   "source": [
    "## 1 - Translating human readable dates into machine readable dates\n",
    "\n",
    "The model you will build here could be used to translate from one language to another, such as translating from English to Hindi. However, language translation requires massive datasets and usually takes days of training on GPUs. To give you a place to experiment with these models even without using massive datasets, we will instead use a simpler \"date translation\" task. \n",
    "\n",
    "The network will input a date written in a variety of possible formats (*e.g. \"the 29th of August 1958\", \"03/30/1968\", \"24 JUNE 1987\"*) and translate them into standardized, machine readable dates (*e.g. \"1958-08-29\", \"1968-03-30\", \"1987-06-24\"*). We will have the network learn to output dates in the common machine-readable format YYYY-MM-DD. \n",
    "\n",
    "\n",
    "\n",
    "<!-- \n",
    "Take a look at [nmt_utils.py](./nmt_utils.py) to see all the formatting. Count and figure out how the formats work, you will need this knowledge later. !--> "
   ]
  },
  {
   "cell_type": "markdown",
   "metadata": {},
   "source": [
    "### 1.1 - Dataset\n",
    "\n",
    "We will train the model on a dataset of 10000 human readable dates and their equivalent, standardized, machine readable dates. Let's run the following cells to load the dataset and print some examples. "
   ]
  },
  {
   "cell_type": "code",
   "execution_count": 2,
   "metadata": {},
   "outputs": [],
   "source": [
    "#m = 10000\n",
    "#dataset, human_vocab, machine_vocab, inv_machine_vocab = load_dataset(m)"
   ]
  },
  {
   "cell_type": "code",
   "execution_count": 3,
   "metadata": {},
   "outputs": [
    {
     "data": {
      "text/plain": [
       "['english-hindi-train.pkl',\n",
       " 'english-german.pkl',\n",
       " 'enghindi.txt',\n",
       " 'main_model_weights.h5',\n",
       " 'main_model.h5',\n",
       " 'english-hindi.pkl',\n",
       " 'model.h5',\n",
       " 'english-german-train.pkl',\n",
       " 'final_model_weights.h5',\n",
       " 'images',\n",
       " 'hin.txt',\n",
       " 'english-hindi-both.pkl',\n",
       " 'model.bin',\n",
       " 'nmt_utils.py',\n",
       " 'english-german-both.pkl',\n",
       " 'english-hindi-test.pkl',\n",
       " '__pycache__',\n",
       " 'Neural+machine+translation+with+attention+-+v4.ipynb',\n",
       " 'english-german-test.pkl',\n",
       " '_about.txt']"
      ]
     },
     "execution_count": 3,
     "metadata": {},
     "output_type": "execute_result"
    }
   ],
   "source": [
    "import requests, zipfile, io\n",
    "#https://github.com/meethariprasad/phd/raw/master/assignments/NLP/Translation/hin.zip\n",
    "r = requests.get(\"http://www.manythings.org/anki/hin-eng.zip\")\n",
    "z = zipfile.ZipFile(io.BytesIO(r.content))\n",
    "z.extractall()\n",
    "os.listdir()"
   ]
  },
  {
   "cell_type": "code",
   "execution_count": 4,
   "metadata": {},
   "outputs": [],
   "source": [
    "file=open(\"hin.txt\",'r',encoding='utf-8')\n",
    "content=file.read()\n",
    "file.close()"
   ]
  },
  {
   "cell_type": "code",
   "execution_count": 5,
   "metadata": {},
   "outputs": [
    {
     "name": "stdout",
     "output_type": "stream",
     "text": [
      "Number of clean pairs 2867\n",
      "Saved: english-german.pkl\n",
      "[Help] => [बचाओ]\n",
      "[Jump] => [उछलो]\n",
      "[Jump] => [कूदो]\n",
      "[Jump] => [छलांग]\n",
      "[Hello] => [नमस्ते]\n",
      "[Hello] => [नमस्कार]\n",
      "[Cheers] => [वाहवाह]\n",
      "[Cheers] => [चियर्स]\n",
      "[Got it] => [समझे कि नहीं]\n",
      "[Im OK] => [मैं ठीक हूँ]\n"
     ]
    }
   ],
   "source": [
    "import string\n",
    "import re\n",
    "from pickle import dump\n",
    "from unicodedata import normalize\n",
    "from numpy import array\n",
    "\n",
    "# load doc into memory\n",
    "def load_doc(filename):\n",
    "\t# open the file as read only\n",
    "\tfile = open(filename, mode='rt', encoding='utf-8')\n",
    "\t# read all text\n",
    "\ttext = file.read()\n",
    "\t# close the file\n",
    "\tfile.close()\n",
    "\treturn text\n",
    "\n",
    "# split a loaded document into sentences\n",
    "def to_pairs(doc):\n",
    "\tlines = doc.strip().split('\\n')\n",
    "\tpairs = [line.split('\\t') for line in  lines]\n",
    "\treturn pairs\n",
    "\n",
    "# clean a list of lines\n",
    "def clean_pairs(lines):\n",
    "\tcleaned = list()\n",
    "\t# prepare regex for char filtering\n",
    "\tre_punc = re.compile('[।%s]' % re.escape(string.punctuation))\n",
    "\tre_print = re.compile('[^%s]' % re.escape(string.printable))\n",
    "\tfor pair in lines:\n",
    "\t\tclean_pair = list()\n",
    "\t\tfor line in pair:\n",
    "\t\t\t# tokenize on white space\n",
    "\t\t\tline = line.split()\n",
    "\t\t\t# remove punctuation from each token\n",
    "\t\t\tline = [re_punc.sub('', w) for w in line]\n",
    "\t\t\t# remove tokens with numbers in them\n",
    "\t\t\t#line = [word for word in line if word.isalpha()]\n",
    "\t\t\t#line=re.sub('[।]', '', line)\n",
    "\t\t\t# store as string\n",
    "\t\t\tclean_pair.append(' '.join(line))\n",
    "\t\tcleaned.append(clean_pair)\n",
    "\treturn array(cleaned)\n",
    "\n",
    "# save a list of clean sentences to file\n",
    "def save_clean_data(sentences, filename):\n",
    "\tdump(sentences, open(filename, 'wb'))\n",
    "\tprint('Saved: %s' % filename)\n",
    "\n",
    "# load dataset\n",
    "filename = 'hin.txt'\n",
    "doc = load_doc(filename)\n",
    "# split into english-german pairs\n",
    "pairs = to_pairs(doc)\n",
    "# clean sentences\n",
    "clean_pairs = clean_pairs(pairs)\n",
    "# save clean pairs to file\n",
    "print (\"Number of clean pairs\",clean_pairs.shape[0])\n",
    "save_clean_data(clean_pairs, 'english-german.pkl')\n",
    "# spot check\n",
    "for i in range(10):\n",
    "\tprint('[%s] => [%s]' % (clean_pairs[i,0], clean_pairs[i,1]))"
   ]
  },
  {
   "cell_type": "code",
   "execution_count": 6,
   "metadata": {},
   "outputs": [
    {
     "name": "stdout",
     "output_type": "stream",
     "text": [
      "2867\n",
      "Saved: english-german-both.pkl\n",
      "Saved: english-german-train.pkl\n",
      "Saved: english-german-test.pkl\n"
     ]
    }
   ],
   "source": [
    "from pickle import load\n",
    "from pickle import dump\n",
    "from numpy.random import shuffle\n",
    "\n",
    "# load a clean dataset\n",
    "def load_clean_sentences(filename):\n",
    "\treturn load(open(filename, 'rb'))\n",
    "\n",
    "# save a list of clean sentences to file\n",
    "def save_clean_data(sentences, filename):\n",
    "\tdump(sentences, open(filename, 'wb'))\n",
    "\tprint('Saved: %s' % filename)\n",
    "\n",
    "# load dataset\n",
    "raw_dataset = load_clean_sentences('english-german.pkl')\n",
    "\n",
    "# reduce dataset size\n",
    "n_sentences = raw_dataset.shape[0]\n",
    "print (n_sentences)\n",
    "dataset = raw_dataset[:n_sentences, :]\n",
    "# random shuffle\n",
    "shuffle(dataset)\n",
    "# split into train/test\n",
    "train, test = dataset[:2800], dataset[2800:]\n",
    "# save\n",
    "save_clean_data(dataset, 'english-german-both.pkl')\n",
    "save_clean_data(train, 'english-german-train.pkl')\n",
    "save_clean_data(test, 'english-german-test.pkl')"
   ]
  },
  {
   "cell_type": "code",
   "execution_count": 7,
   "metadata": {},
   "outputs": [
    {
     "data": {
      "text/plain": [
       "array([['The museum is open from Monday to Friday',\n",
       "        'म्युज़ियम सोमवार से शुक्रवार तक खुला रहता है'],\n",
       "       ['I was afraid he might die', 'मुझे उसके मरने का डर था'],\n",
       "       ['When he arrives in Tokyo Ill call you right away',\n",
       "        'उसके टोक्यो आते ही मैं तुम्हें तुरंत फ़ोन करूँगी'],\n",
       "       ['The children tried to imitate their teacher',\n",
       "        'बच्चों ने एकदूसरे की नकल करने की कोशिश करी'],\n",
       "       ['She leaped for joy', 'वह खुशी से उछल पड़ी'],\n",
       "       ['He weighed the stone in his hand',\n",
       "        'उसने पत्थर को अपने हाथ में रखकर तोला'],\n",
       "       ['The animals in the forest died off', 'जंगल के जानवर मर गए'],\n",
       "       ['His main object in life was to become rich',\n",
       "        'उसका ज़िन्दगी में एक की उद्देश्य था और वह था अमीर बन जाना'],\n",
       "       ['My father left me a lot of money in his will',\n",
       "        'मेरे पिता नें अपनी वसीयत में मुझे बहुत सारे पैसे छोड़े थे'],\n",
       "       ['Ill never forget how kind you have been',\n",
       "        'मैं आपके अच्छेपन को कभी नहीं भूलूँगा']],\n",
       "      dtype='<U121')"
      ]
     },
     "execution_count": 7,
     "metadata": {},
     "output_type": "execute_result"
    }
   ],
   "source": [
    "dataset[:10]"
   ]
  },
  {
   "cell_type": "code",
   "execution_count": 8,
   "metadata": {},
   "outputs": [],
   "source": [
    "#Converting it to tuples.\n",
    "dataset_list=(list(tuple(map(tuple, dataset))))"
   ]
  },
  {
   "cell_type": "code",
   "execution_count": 9,
   "metadata": {},
   "outputs": [
    {
     "data": {
      "text/plain": [
       "list"
      ]
     },
     "execution_count": 9,
     "metadata": {},
     "output_type": "execute_result"
    }
   ],
   "source": [
    "type(dataset_list[1:2])"
   ]
  },
  {
   "cell_type": "code",
   "execution_count": 10,
   "metadata": {},
   "outputs": [
    {
     "data": {
      "text/plain": [
       "array([['The museum is open from Monday to Friday',\n",
       "        'म्युज़ियम सोमवार से शुक्रवार तक खुला रहता है'],\n",
       "       ['I was afraid he might die', 'मुझे उसके मरने का डर था'],\n",
       "       ['When he arrives in Tokyo Ill call you right away',\n",
       "        'उसके टोक्यो आते ही मैं तुम्हें तुरंत फ़ोन करूँगी'],\n",
       "       ..., \n",
       "       ['I saw him crossing the road', 'मैंने उसे सड़क पार करते हुए देखा'],\n",
       "       ['Do you think he will be elected president again',\n",
       "        'क्या तुम्हे लगता है वह फिरसे प्रेसीडेंट चुना जाएगा'],\n",
       "       ['Lets take a train', 'रेलगाड़ी से चलते हैं']],\n",
       "      dtype='<U121')"
      ]
     },
     "execution_count": 10,
     "metadata": {},
     "output_type": "execute_result"
    }
   ],
   "source": [
    "#Creating small subset for test\n",
    "#dataset=dataset[0:2]\n",
    "dataset"
   ]
  },
  {
   "cell_type": "code",
   "execution_count": 11,
   "metadata": {},
   "outputs": [],
   "source": [
    "#Converting it to tuples.\n",
    "pad='<pad>'\n",
    "unk='<unk>'\n",
    "dataset_list=(list(tuple(map(tuple, dataset))))"
   ]
  },
  {
   "cell_type": "code",
   "execution_count": 12,
   "metadata": {},
   "outputs": [
    {
     "data": {
      "text/plain": [
       "['<pad>', '<unk>']"
      ]
     },
     "execution_count": 12,
     "metadata": {},
     "output_type": "execute_result"
    }
   ],
   "source": [
    "english_sentences_list=list(dataset[:,0])\n",
    "#Add Pad and Unknown.\n",
    "english_sentences_list.append(pad)\n",
    "english_sentences_list.append(unk)\n",
    "english_sentences_list[len(english_sentences_list)-2:len(english_sentences_list)]"
   ]
  },
  {
   "cell_type": "code",
   "execution_count": 13,
   "metadata": {},
   "outputs": [
    {
     "data": {
      "text/plain": [
       "2620"
      ]
     },
     "execution_count": 13,
     "metadata": {},
     "output_type": "execute_result"
    }
   ],
   "source": [
    "english_unique_words=set((' '.join(english_sentences_list)).split())\n",
    "english_vocab_len=len(set((' '.join(english_sentences_list)).split()))\n",
    "english_vocab_len"
   ]
  },
  {
   "cell_type": "code",
   "execution_count": 14,
   "metadata": {},
   "outputs": [],
   "source": [
    "hindi_sentences_list=list(dataset[:,1])\n",
    "#Add Pad and Unknown.\n",
    "hindi_sentences_list.append(pad)\n",
    "hindi_sentences_list.append(unk)"
   ]
  },
  {
   "cell_type": "code",
   "execution_count": 15,
   "metadata": {},
   "outputs": [
    {
     "data": {
      "text/plain": [
       "2873"
      ]
     },
     "execution_count": 15,
     "metadata": {},
     "output_type": "execute_result"
    }
   ],
   "source": [
    "hindi_unique_words=set((' '.join(hindi_sentences_list)).split())\n",
    "hindi_vocab_len=len(set((' '.join(hindi_sentences_list)).split()))\n",
    "hindi_vocab_len"
   ]
  },
  {
   "cell_type": "code",
   "execution_count": 16,
   "metadata": {},
   "outputs": [],
   "source": [
    "## One thing we can do to improve the model is instead of one hot encodings of words of length vocabulary, get the word2vec vectors for each word with fixed length.\n",
    "## Another thing that can be done is train only short sentences. We have found that they are resulting in good results.\n",
    "## There is a suspition that at post BiLSTM it is better to add the input of previously predicted vector. "
   ]
  },
  {
   "cell_type": "code",
   "execution_count": 17,
   "metadata": {},
   "outputs": [],
   "source": [
    "# define training data\n",
    "sentences = [['this', 'is', 'the', 'first', 'sentence', 'for', 'word2vec'],\n",
    "\t\t\t['this', 'is', 'the', 'second', 'sentence'],\n",
    "\t\t\t['yet', 'another', 'sentence'],\n",
    "\t\t\t['one', 'more', 'sentence'],\n",
    "\t\t\t['and', 'the', 'final', 'sentence']]\n",
    "type(sentences)\n",
    "\n",
    "def sentences_to_word2vec_input_format(language_sentences_list):\n",
    "    word2vec_sentence_feed=list()\n",
    "    for sentence in language_sentences_list:\n",
    "        word2vec_sentence_feed.append(sentence.split())\n",
    "    return(word2vec_sentence_feed)\n",
    "english_sentences_w2v_format=sentences_to_word2vec_input_format(english_sentences_list)\n",
    "hindi_sentences_w2v_format=sentences_to_word2vec_input_format(hindi_sentences_list)"
   ]
  },
  {
   "cell_type": "code",
   "execution_count": 18,
   "metadata": {},
   "outputs": [],
   "source": [
    "from gensim.models import Word2Vec\n",
    "# train model\n",
    "english_model = Word2Vec(english_sentences_w2v_format, size=english_vocab_len,min_count=1)\n",
    "english_words_vocab = list(english_model.wv.vocab)\n",
    "hindi_model = Word2Vec(hindi_sentences_w2v_format, size=hindi_vocab_len,min_count=1)\n",
    "english_words_vocab = list(hindi_model.wv.vocab)"
   ]
  },
  {
   "cell_type": "code",
   "execution_count": 19,
   "metadata": {},
   "outputs": [
    {
     "name": "stdout",
     "output_type": "stream",
     "text": [
      "not found! Assigning Unknown Vector (2620,)\n"
     ]
    },
    {
     "name": "stderr",
     "output_type": "stream",
     "text": [
      "/usr/local/src/conda3_runtime/home/envs/DSX-Python35-Spark/lib/python3.5/site-packages/ipykernel/__main__.py:4: DeprecationWarning: Call to deprecated `__getitem__` (Method will be removed in 4.0.0, use self.wv.__getitem__() instead).\n",
      "/usr/local/src/conda3_runtime/home/envs/DSX-Python35-Spark/lib/python3.5/site-packages/ipykernel/__main__.py:6: DeprecationWarning: Call to deprecated `__getitem__` (Method will be removed in 4.0.0, use self.wv.__getitem__() instead).\n"
     ]
    }
   ],
   "source": [
    "# access vector for one word\n",
    "word=\"hari\"\n",
    "try:\n",
    "    print(\"Found word Shape of word vector\",(english_model[word]).shape)\n",
    "except KeyError:\n",
    "    print(\"not found! Assigning Unknown Vector\",  (english_model[unk]).shape)"
   ]
  },
  {
   "cell_type": "code",
   "execution_count": 20,
   "metadata": {},
   "outputs": [],
   "source": [
    "#Convert sentences to Xoh format, but with word to vectors rather than one hot code.\n",
    "#Xoh.shape (2867, 8, 2873)\n",
    "#Basically we need to take every word of sentence, get a vector of it. \n",
    "#Append these vectors rowwise till you reach.\n",
    "#Append this combined vector to another Global vector List.\n",
    "#Xoh.shape"
   ]
  },
  {
   "cell_type": "code",
   "execution_count": 21,
   "metadata": {},
   "outputs": [],
   "source": [
    "#from gensim.models.wrappers import FastText\n",
    "\n",
    "#model = FastText.load_fasttext_format('wiki.simple')\n",
    "\n",
    "#print(model.most_similar('teacher'))\n",
    "# Output = [('headteacher', 0.8075869083404541), ('schoolteacher', 0.7955552339553833), ('teachers', 0.733420729637146), ('teaches', 0.6839243173599243), ('meacher', 0.6825737357139587), ('teach', 0.6285147070884705), ('taught', 0.6244685649871826), ('teaching', 0.6199781894683838), ('schoolmaster', 0.6037642955780029), ('lessons', 0.5812176465988159)]\n",
    "\n",
    "\n",
    "#print(model.similarity('teacher', 'teaches'))\n",
    "# Output = 0.683924396754"
   ]
  },
  {
   "cell_type": "code",
   "execution_count": 22,
   "metadata": {},
   "outputs": [],
   "source": [
    "#Dictionary\n",
    "english_dictionary=dict(zip(sorted(english_unique_words), list(range(len(english_unique_words)))))\n",
    "hindi_dictionary=dict(zip(sorted(hindi_unique_words), list(range(len(hindi_unique_words)))))"
   ]
  },
  {
   "cell_type": "code",
   "execution_count": 23,
   "metadata": {},
   "outputs": [],
   "source": [
    "#Reverse Dictionary\n",
    "revere_dictionary_hindi=dict((v,k) for k,v in hindi_dictionary.items())\n",
    "revere_dictionary_english=dict((v,k) for k,v in english_dictionary.items())"
   ]
  },
  {
   "cell_type": "code",
   "execution_count": 24,
   "metadata": {},
   "outputs": [],
   "source": [
    "english_padding_value=english_dictionary['<pad>']\n",
    "hindi_padding_value=hindi_dictionary['<pad>']"
   ]
  },
  {
   "cell_type": "code",
   "execution_count": 25,
   "metadata": {},
   "outputs": [
    {
     "name": "stdout",
     "output_type": "stream",
     "text": [
      "22 25 10 12\n"
     ]
    }
   ],
   "source": [
    "#This going to be the global variable with maximum number of words found in a sentence\n",
    "max_english_words=max(len(line.split()) for line in english_sentences_list)\n",
    "max_hindi_words=max(len(line.split()) for line in hindi_sentences_list)\n",
    "min_english_words=min(len(line.split()) for line in english_sentences_list)\n",
    "min_hindi_words=min(len(line.split()) for line in hindi_sentences_list)\n",
    "average_english_sentence_size=round(0.5*(max_english_words-min_english_words))\n",
    "average_hindi_sentence_size=round(0.5*(max_hindi_words-min_hindi_words))\n",
    "print(max_english_words,max_hindi_words,average_english_sentence_size,average_hindi_sentence_size)"
   ]
  },
  {
   "cell_type": "code",
   "execution_count": 26,
   "metadata": {},
   "outputs": [],
   "source": [
    "def get_padded_encoding(sentences_list,language_dictionary,max_language_words):\n",
    "    padding_value=language_dictionary['<pad>']\n",
    "    language_array=[]\n",
    "    #Iterate over List.\n",
    "    for sentence in sentences_list:\n",
    "        #Replaces English words with English Vocabulary Indexes and Hindi with Hindi Vocabulary Indexes.\n",
    "        #Remember to have a logic to have if condition in test where, if a word not in dictionary enters, it will be replaced by unk key value.\n",
    "        single_sentence_array=([language_dictionary[word] for word in sentence.split()])\n",
    "        #Find the length of english_single_sentence_array\n",
    "        length_single_sentence=(len(single_sentence_array))\n",
    "        #So how many times padding dictionary key needs to be appended, if we say maximum length of sentences to be considered is eng_max_len.\n",
    "        if (max_language_words>length_single_sentence):\n",
    "            padding_count=(max_language_words-length_single_sentence)\n",
    "        else:\n",
    "            padding_count=0\n",
    "        if (padding_count>0):\n",
    "            for pad in range(0,padding_count):\n",
    "                single_sentence_array.append(padding_value)\n",
    "        else:\n",
    "            single_sentence_array=single_sentence_array[0:max_language_words]\n",
    "        #Append to main array\n",
    "        language_array.append(single_sentence_array)\n",
    "    #Convert to Numpy array at the end\n",
    "    language_array=np.array(language_array)\n",
    "    return(language_array)"
   ]
  },
  {
   "cell_type": "code",
   "execution_count": 27,
   "metadata": {},
   "outputs": [],
   "source": [
    "#One of the things that can be done is create different models for different query lengths."
   ]
  },
  {
   "cell_type": "code",
   "execution_count": 28,
   "metadata": {},
   "outputs": [
    {
     "name": "stdout",
     "output_type": "stream",
     "text": [
      "(2869, 8) (2869, 8)\n"
     ]
    }
   ],
   "source": [
    "average_hindi_sentence_size=8\n",
    "average_english_sentence_size=8\n",
    "hindi_encoding=get_padded_encoding(hindi_sentences_list,hindi_dictionary,average_hindi_sentence_size)\n",
    "english_encoding=get_padded_encoding(english_sentences_list,english_dictionary,average_english_sentence_size)\n",
    "print(hindi_encoding.shape,english_encoding.shape)"
   ]
  },
  {
   "cell_type": "code",
   "execution_count": 29,
   "metadata": {},
   "outputs": [
    {
     "name": "stdout",
     "output_type": "stream",
     "text": [
      "(3,) (3,) (2, 3)\n"
     ]
    }
   ],
   "source": [
    "a = np.array([1, 2, 3])\n",
    "b = np.array([2, 3, 4])\n",
    "print(a.shape,b.shape,np.stack((a, b)).shape)"
   ]
  },
  {
   "cell_type": "code",
   "execution_count": 30,
   "metadata": {},
   "outputs": [],
   "source": [
    "#Verification\n",
    "#print(english_sentences_list[1],hindi_sentences_list[1])\n",
    "#print(english_encoding[1],hindi_encoding[1])\n",
    "#Check if encoding gives back the same answer\n",
    "\n",
    "def sentences_to_w2vec(language_encoding,revere_dictionary_language,language_model):\n",
    "    import numpy as np\n",
    "    sentence_level_w2vec_list=[]\n",
    "    #arr = np.empty((2,), float)\n",
    "    number_of_sentences=language_encoding.shape[0]\n",
    "    for i in range(0,number_of_sentences):\n",
    "        language_list_padded=[]\n",
    "        #print (english_encoding[i])\n",
    "        for key in language_encoding[i]:\n",
    "            #print(revere_dictionary_english[key])\n",
    "            word=(revere_dictionary_language[key])\n",
    "            try:\n",
    "                #print(\"Found word Shape of word vector\",(english_model[word]).shape,arr.shape)\n",
    "                language_list_padded.append(language_model[word])\n",
    "            except KeyError:\n",
    "                unk='<unk>'\n",
    "                #print(\"not found! Assigning Unknown Vector\",  (english_model[unk]).shape)\n",
    "                language_list_padded.append(language_model[unk])\n",
    "        #print(np.array(language_list_padded))\n",
    "        sentence_level_w2vec_list.append((np.array(language_list_padded)))\n",
    "    sentence_level_w2vec=np.array(sentence_level_w2vec_list)\n",
    "    return(sentence_level_w2vec)\n",
    "#for sentence in range(0,len(language_list)):\n",
    " #   print(language_list[sentence])\n",
    "#for key in hindi_encoding[1]:\n",
    "#    print(revere_dictionary_hindi[key])\n",
    "#english_dictionary['<pad>']\n",
    "#hindi_dictionary['<pad>']"
   ]
  },
  {
   "cell_type": "code",
   "execution_count": 31,
   "metadata": {},
   "outputs": [
    {
     "name": "stderr",
     "output_type": "stream",
     "text": [
      "/usr/local/src/conda3_runtime/home/envs/DSX-Python35-Spark/lib/python3.5/site-packages/ipykernel/__main__.py:19: DeprecationWarning: Call to deprecated `__getitem__` (Method will be removed in 4.0.0, use self.wv.__getitem__() instead).\n"
     ]
    },
    {
     "name": "stdout",
     "output_type": "stream",
     "text": [
      "(2869, 8, 2620)\n",
      "(2869, 8, 2873)\n"
     ]
    }
   ],
   "source": [
    "print((sentences_to_w2vec(english_encoding,revere_dictionary_english,english_model)).shape)\n",
    "print((sentences_to_w2vec(hindi_encoding,revere_dictionary_hindi,hindi_model)).shape)"
   ]
  },
  {
   "cell_type": "code",
   "execution_count": 33,
   "metadata": {},
   "outputs": [
    {
     "name": "stdout",
     "output_type": "stream",
     "text": [
      "X.shape: (2869, 8)\n",
      "Y.shape: (2869, 8)\n",
      "Yoh.shape: (2869, 8, 2620)\n"
     ]
    }
   ],
   "source": [
    "#We will convert the english and hindi encodings to one hot encodings.\n",
    "#Please note Input is of the dimension (number of sentences,max_length_language(every column is a word))\n",
    "#Output is (number of sentences,Max_length_language(every row is a word),length of vocabulary)\n",
    "#Basically every row of the onehotcode matrix must be for one word.\n",
    "#How=1 => 1 0 0\n",
    "#Are=2 => 0 1 0\n",
    "#You=3 => 0 0 1\n",
    "#We are trying to translate hindi to english, so our X is Hindi and Y is English\n",
    "X=hindi_encoding\n",
    "Y=english_encoding\n",
    "#Instead of one hot we can use word embeddings.\n",
    "#Xoh=np.array(list(map(lambda x: to_categorical(x, num_classes=len(hindi_dictionary)), X)))\n",
    "Yoh=np.array(list(map(lambda x: to_categorical(x, num_classes=len(english_dictionary)), Y)))\n",
    "print(\"X.shape:\", X.shape)\n",
    "print(\"Y.shape:\", Y.shape)\n",
    "#print(\"Xoh.shape:\", Xoh.shape)\n",
    "print(\"Yoh.shape:\", Yoh.shape)"
   ]
  },
  {
   "cell_type": "code",
   "execution_count": 34,
   "metadata": {},
   "outputs": [
    {
     "name": "stderr",
     "output_type": "stream",
     "text": [
      "/usr/local/src/conda3_runtime/home/envs/DSX-Python35-Spark/lib/python3.5/site-packages/ipykernel/__main__.py:19: DeprecationWarning: Call to deprecated `__getitem__` (Method will be removed in 4.0.0, use self.wv.__getitem__() instead).\n"
     ]
    },
    {
     "name": "stdout",
     "output_type": "stream",
     "text": [
      "Xoh.shape: (2869, 8, 2873)\n",
      "Yoh.shape: (2869, 8, 2620)\n"
     ]
    }
   ],
   "source": [
    "#Run this if you want word2vec instead of One hot encoding\n",
    "#Naming it still as X0h and Yoh to avoid changes in too many places further.\n",
    "#Yoh=sentences_to_w2vec(english_encoding,revere_dictionary_english,english_model)\n",
    "Xoh=sentences_to_w2vec(hindi_encoding,revere_dictionary_hindi,hindi_model)\n",
    "print(\"Xoh.shape:\", Xoh.shape)\n",
    "print(\"Yoh.shape:\", Yoh.shape)"
   ]
  },
  {
   "cell_type": "code",
   "execution_count": 35,
   "metadata": {},
   "outputs": [
    {
     "data": {
      "text/plain": [
       "(8, 8)"
      ]
     },
     "execution_count": 35,
     "metadata": {},
     "output_type": "execute_result"
    }
   ],
   "source": [
    "Tx = hindi_encoding.shape[1]\n",
    "Ty = english_encoding.shape[1]\n",
    "Tx,Ty"
   ]
  },
  {
   "cell_type": "markdown",
   "metadata": {},
   "source": [
    "You've loaded:\n",
    "- `dataset`: a list of tuples of (human readable date, machine readable date)\n",
    "- `human_vocab`: a python dictionary mapping all characters used in the human readable dates to an integer-valued index \n",
    "- `machine_vocab`: a python dictionary mapping all characters used in machine readable dates to an integer-valued index. These indices are not necessarily consistent with `human_vocab`. \n",
    "- `inv_machine_vocab`: the inverse dictionary of `machine_vocab`, mapping from indices back to characters. \n",
    "\n",
    "Let's preprocess the data and map the raw text data into the index values. We will also use Tx=30 (which we assume is the maximum length of the human readable date; if we get a longer input, we would have to truncate it) and Ty=10 (since \"YYYY-MM-DD\" is 10 characters long). "
   ]
  },
  {
   "cell_type": "code",
   "execution_count": 36,
   "metadata": {},
   "outputs": [],
   "source": [
    "#Tx = 30\n",
    "#Ty = 15\n",
    "#X, Y, Xoh, Yoh = preprocess_data(dataset, human_vocab, machine_vocab, Tx, Ty)\n",
    "#X, Y, Xoh, Yoh = preprocess_data(dataset_list, english_dictionary, hindi_dictionary, Tx, Ty)\n",
    "\n",
    "#print(\"X.shape:\", X.shape)\n",
    "#print(\"Y.shape:\", Y.shape)\n",
    "#print(\"Xoh.shape:\", Xoh.shape)\n",
    "#print(\"Yoh.shape:\", Yoh.shape)"
   ]
  },
  {
   "cell_type": "code",
   "execution_count": 37,
   "metadata": {},
   "outputs": [
    {
     "data": {
      "text/plain": [
       "array([[ -3.56408395e-03,  -4.75548096e-02,   5.82975755e-03, ...,\n",
       "          8.76715034e-03,   2.73769945e-02,  -2.81386339e-04],\n",
       "       [ -2.49159336e-03,  -3.11945938e-02,   3.67889809e-03, ...,\n",
       "          5.89270284e-03,   1.79800224e-02,   6.40845246e-05],\n",
       "       [ -7.89944825e-05,  -4.70746338e-04,   1.46515638e-04, ...,\n",
       "          1.37500801e-05,   2.81576184e-04,  -1.23428079e-04],\n",
       "       ..., \n",
       "       [ -3.84483696e-03,  -5.13472371e-02,   6.32582139e-03, ...,\n",
       "          9.54120420e-03,   2.93499213e-02,  -1.67550301e-04],\n",
       "       [  8.02592185e-05,   1.45401928e-05,   1.35659007e-04, ...,\n",
       "          1.29358377e-04,  -1.25067469e-04,  -1.82720432e-05],\n",
       "       [  8.02592185e-05,   1.45401928e-05,   1.35659007e-04, ...,\n",
       "          1.29358377e-04,  -1.25067469e-04,  -1.82720432e-05]], dtype=float32)"
      ]
     },
     "execution_count": 37,
     "metadata": {},
     "output_type": "execute_result"
    }
   ],
   "source": [
    "Xoh[1]"
   ]
  },
  {
   "cell_type": "markdown",
   "metadata": {},
   "source": [
    "You now have:\n",
    "- `X`: a processed version of the human readable dates in the training set, where each character is replaced by an index mapped to the character via `human_vocab`. Each date is further padded to $T_x$ values with a special character (< pad >). `X.shape = (m, Tx)`\n",
    "- `Y`: a processed version of the machine readable dates in the training set, where each character is replaced by the index it is mapped to in `machine_vocab`. You should have `Y.shape = (m, Ty)`. \n",
    "- `Xoh`: one-hot version of `X`, the \"1\" entry's index is mapped to the character thanks to `human_vocab`. `Xoh.shape = (m, Tx, len(human_vocab))`\n",
    "- `Yoh`: one-hot version of `Y`, the \"1\" entry's index is mapped to the character thanks to `machine_vocab`. `Yoh.shape = (m, Tx, len(machine_vocab))`. Here, `len(machine_vocab) = 11` since there are 11 characters ('-' as well as 0-9). \n"
   ]
  },
  {
   "cell_type": "markdown",
   "metadata": {},
   "source": [
    "Lets also look at some examples of preprocessed training examples. Feel free to play with `index` in the cell below to navigate the dataset and see how source/target dates are preprocessed. "
   ]
  },
  {
   "cell_type": "code",
   "execution_count": 38,
   "metadata": {},
   "outputs": [
    {
     "name": "stdout",
     "output_type": "stream",
     "text": [
      "Source: म्युज़ियम सोमवार से शुक्रवार तक खुला रहता है\n",
      "Target: The museum is open from Monday to Friday\n",
      "\n",
      "Source after preprocessing (indices): [2208 2731 2709 2508 1146  643 2254 2836]\n",
      "Target after preprocessing (indices): [ 340 1645 1424 1728 1202  238 2380  151]\n",
      "\n",
      "Source after preprocessing (one-hot): [[  6.45118689e-06  -8.52670695e-04   1.94610475e-05 ...,   6.18271997e-06\n",
      "    4.24826168e-04   6.89226435e-05]\n",
      " [ -8.11736973e-05  -1.09579880e-03   1.82175034e-04 ...,   3.76858225e-04\n",
      "    8.34580627e-04  -1.64108769e-05]\n",
      " [ -6.42605219e-03  -8.61317515e-02   1.05661964e-02 ...,   1.61849614e-02\n",
      "    4.90934141e-02  -2.45744071e-04]\n",
      " ..., \n",
      " [ -2.59779423e-04  -1.93835970e-03   3.95607378e-04 ...,   2.70963588e-04\n",
      "    1.20365177e-03  -8.44917213e-06]\n",
      " [ -7.62141543e-04  -8.22582562e-03   9.44241008e-04 ...,   1.60022883e-03\n",
      "    4.87474864e-03   1.29325796e-04]\n",
      " [ -5.73584484e-03  -7.46004432e-02   8.95692036e-03 ...,   1.38950869e-02\n",
      "    4.27252799e-02  -3.57443729e-04]]\n",
      "Target after preprocessing (one-hot): [[ 0.  0.  0. ...,  0.  0.  0.]\n",
      " [ 0.  0.  0. ...,  0.  0.  0.]\n",
      " [ 0.  0.  0. ...,  0.  0.  0.]\n",
      " ..., \n",
      " [ 0.  0.  0. ...,  0.  0.  0.]\n",
      " [ 0.  0.  0. ...,  0.  0.  0.]\n",
      " [ 0.  0.  0. ...,  0.  0.  0.]]\n"
     ]
    }
   ],
   "source": [
    "index = 0\n",
    "#The dataset is english -> Hindi\n",
    "#Our target is to generate English given Hindi\n",
    "print(\"Source:\", dataset_list[index][1])\n",
    "print(\"Target:\", dataset_list[index][0])\n",
    "print()\n",
    "print(\"Source after preprocessing (indices):\", X[index])\n",
    "print(\"Target after preprocessing (indices):\", Y[index])\n",
    "print()\n",
    "print(\"Source after preprocessing (one-hot):\", Xoh[index])\n",
    "print(\"Target after preprocessing (one-hot):\", Yoh[index])"
   ]
  },
  {
   "cell_type": "markdown",
   "metadata": {},
   "source": [
    "## Tensorflow Implementation"
   ]
  },
  {
   "cell_type": "markdown",
   "metadata": {},
   "source": [
    "# These are all the modules we'll be using later. Make sure you can import them\n",
    "# before proceeding further.\n",
    "%matplotlib inline\n",
    "import math\n",
    "import numpy as np\n",
    "import os\n",
    "import random\n",
    "import tensorflow as tf\n",
    "from matplotlib import pylab\n",
    "from collections import Counter\n",
    "import csv\n",
    "\n",
    "# Seq2Seq Items\n",
    "import tensorflow.contrib.seq2seq as seq2seq\n",
    "from tensorflow.python.ops.rnn_cell import LSTMCell\n",
    "from tensorflow.python.ops.rnn_cell import MultiRNNCell\n",
    "from tensorflow.contrib.seq2seq.python.ops import attention_wrapper\n",
    "from tensorflow.python.layers.core import Dense"
   ]
  },
  {
   "cell_type": "markdown",
   "metadata": {},
   "source": [
    "## Input"
   ]
  },
  {
   "cell_type": "markdown",
   "metadata": {},
   "source": [
    "tf.reset_default_graph()\n",
    "\n",
    "enc_train_inputs = []\n",
    "dec_train_inputs = []\n",
    "\n",
    "# Need to use pre-trained word embeddings\n",
    "encoder_emb_layer = tf.convert_to_tensor(np.load('de-embeddings.npy'))\n",
    "decoder_emb_layer = tf.convert_to_tensor(np.load('en-embeddings.npy'))\n",
    "\n",
    "# Defining unrolled training inputs\n",
    "for ui in range(source_sequence_length):\n",
    "    enc_train_inputs.append(tf.placeholder(tf.int32, shape=[batch_size],name='enc_train_inputs_%d'%ui))\n",
    "\n",
    "dec_train_labels=[]\n",
    "dec_label_masks = []\n",
    "for ui in range(target_sequence_length):\n",
    "    dec_train_inputs.append(tf.placeholder(tf.int32, shape=[batch_size],name='dec_train_inputs_%d'%ui))\n",
    "    dec_train_labels.append(tf.placeholder(tf.int32, shape=[batch_size],name='dec-train_outputs_%d'%ui))\n",
    "    dec_label_masks.append(tf.placeholder(tf.float32, shape=[batch_size],name='dec-label_masks_%d'%ui))\n",
    "    \n",
    "encoder_emb_inp = [tf.nn.embedding_lookup(encoder_emb_layer, src) for src in enc_train_inputs]\n",
    "encoder_emb_inp = tf.stack(encoder_emb_inp)\n",
    "\n",
    "decoder_emb_inp = [tf.nn.embedding_lookup(decoder_emb_layer, src) for src in dec_train_inputs]\n",
    "decoder_emb_inp = tf.stack(decoder_emb_inp)\n",
    "\n",
    "enc_train_inp_lengths = tf.placeholder(tf.int32, shape=[batch_size],name='train_input_lengths')\n",
    "dec_train_inp_lengths = tf.placeholder(tf.int32, shape=[batch_size],name='train_output_lengths')"
   ]
  },
  {
   "cell_type": "markdown",
   "metadata": {},
   "source": [
    "## Encoder"
   ]
  },
  {
   "cell_type": "markdown",
   "metadata": {},
   "source": [
    "encoder_cell = tf.nn.rnn_cell.BasicLSTMCell(num_units)\n",
    "\n",
    "initial_state = encoder_cell.zero_state(batch_size, dtype=tf.float32)\n",
    "\n",
    "encoder_outputs, encoder_state = tf.nn.dynamic_rnn(\n",
    "    encoder_cell, encoder_emb_inp, initial_state=initial_state,\n",
    "    sequence_length=enc_train_inp_lengths, \n",
    "    time_major=True, swap_memory=True)"
   ]
  },
  {
   "cell_type": "markdown",
   "metadata": {},
   "source": [
    "## Decoder"
   ]
  },
  {
   "cell_type": "markdown",
   "metadata": {},
   "source": [
    "# Build RNN cell\n",
    "decoder_cell = tf.nn.rnn_cell.BasicLSTMCell(num_units)\n",
    "\n",
    "projection_layer = Dense(units=vocab_size, use_bias=True)\n",
    "\n",
    "# Helper\n",
    "helper = tf.contrib.seq2seq.TrainingHelper(\n",
    "    decoder_emb_inp, [tgt_max_sent_length-1 for _ in range(batch_size)], time_major=True)\n",
    "\n",
    "# Decoder\n",
    "if decoder_type == 'basic':\n",
    "    decoder = tf.contrib.seq2seq.BasicDecoder(\n",
    "        decoder_cell, helper, encoder_state,\n",
    "        output_layer=projection_layer)\n",
    "    \n",
    "elif decoder_type == 'attention':\n",
    "    decoder = tf.contrib.seq2seq.BahdanauAttention(\n",
    "        decoder_cell, helper, encoder_state,\n",
    "        output_layer=projection_layer)\n",
    "    \n",
    "# Dynamic decoding\n",
    "outputs, _, _ = tf.contrib.seq2seq.dynamic_decode(\n",
    "    decoder, output_time_major=True,\n",
    "    swap_memory=True"
   ]
  },
  {
   "cell_type": "markdown",
   "metadata": {},
   "source": [
    "## Loss & Prediction"
   ]
  },
  {
   "cell_type": "markdown",
   "metadata": {},
   "source": [
    "logits = outputs.rnn_output\n",
    "\n",
    "crossent = tf.nn.sparse_softmax_cross_entropy_with_logits(\n",
    "    labels=dec_train_labels, logits=logits)\n",
    "loss = (tf.reduce_sum(crossent*tf.stack(dec_label_masks)) / (batch_size*target_sequence_length))\n",
    "\n",
    "train_prediction = outputs.sample_id"
   ]
  },
  {
   "cell_type": "markdown",
   "metadata": {},
   "source": [
    "## Defining Optimizer with Gradient Clipping"
   ]
  },
  {
   "cell_type": "markdown",
   "metadata": {},
   "source": [
    "print('Defining Optimizer')\n",
    "# Adam Optimizer. And gradient clipping.\n",
    "global_step = tf.Variable(0, trainable=False)\n",
    "inc_gstep = tf.assign(global_step,global_step + 1)\n",
    "learning_rate = tf.train.exponential_decay(\n",
    "    0.01, global_step, decay_steps=10, decay_rate=0.9, staircase=True)\n",
    "\n",
    "with tf.variable_scope('Adam'):\n",
    "    adam_optimizer = tf.train.AdamOptimizer(learning_rate)\n",
    "\n",
    "adam_gradients, v = zip(*adam_optimizer.compute_gradients(loss))\n",
    "adam_gradients, _ = tf.clip_by_global_norm(adam_gradients, 25.0)\n",
    "adam_optimize = adam_optimizer.apply_gradients(zip(adam_gradients, v))\n",
    "\n",
    "with tf.variable_scope('SGD'):\n",
    "    sgd_optimizer = tf.train.GradientDescentOptimizer(learning_rate)\n",
    "\n",
    "sgd_gradients, v = zip(*sgd_optimizer.compute_gradients(loss))\n",
    "sgd_gradients, _ = tf.clip_by_global_norm(sgd_gradients, 25.0)\n",
    "sgd_optimize = sgd_optimizer.apply_gradients(zip(sgd_gradients, v))\n",
    "\n",
    "sess = tf.InteractiveSession()"
   ]
  },
  {
   "cell_type": "markdown",
   "metadata": {},
   "source": [
    "## Running the NMT"
   ]
  },
  {
   "cell_type": "markdown",
   "metadata": {},
   "source": [
    "for step in range(num_steps):\n",
    "\n",
    "    # input_sizes for each bin: [40]\n",
    "    # output_sizes for each bin: [60]\n",
    "    print('.',end='')\n",
    "    if (step+1)%100==0:\n",
    "        print('')\n",
    "        \n",
    "    sent_ids = np.random.randint(low=0,high=train_inputs.shape[0],size=(batch_size))\n",
    "    # ====================== ENCODER DATA COLLECTION ================================================\n",
    "    \n",
    "    eu_data, eu_labels, _, eu_lengths = enc_data_generator.unroll_batches(sent_ids=sent_ids)\n",
    "    \n",
    "    feed_dict = {}\n",
    "    feed_dict[enc_train_inp_lengths] = eu_lengths\n",
    "    for ui,(dat,lbl) in enumerate(zip(eu_data,eu_labels)):            \n",
    "        feed_dict[enc_train_inputs[ui]] = dat                \n",
    "    \n",
    "    # ====================== DECODER DATA COLLECITON ===========================\n",
    "    # First step we change the ids in a batch\n",
    "    du_data, du_labels, _, du_lengths = dec_data_generator.unroll_batches(sent_ids=sent_ids)\n",
    "    \n",
    "    feed_dict[dec_train_inp_lengths] = du_lengths\n",
    "    for ui,(dat,lbl) in enumerate(zip(du_data,du_labels)):            \n",
    "        feed_dict[dec_train_inputs[ui]] = dat\n",
    "        feed_dict[dec_train_labels[ui]] = lbl\n",
    "        feed_dict[dec_label_masks[ui]] = (np.array([ui for _ in range(batch_size)])<du_lengths).astype(np.int32)\n",
    "    \n",
    "# ======================= OPTIMIZATION ==========================\n",
    "    if step < 10000:\n",
    "        _,l,tr_pred = sess.run([adam_optimize,loss,train_prediction], feed_dict=feed_dict)\n",
    "    else:\n",
    "        _,l,tr_pred = sess.run([sgd_optimize,loss,train_prediction], feed_dict=feed_dict)\n",
    "        tr_pred = tr_pred.flatten()"
   ]
  },
  {
   "cell_type": "markdown",
   "metadata": {},
   "source": [
    "## 2 - Neural machine translation with attention\n",
    "\n",
    "If you had to translate a book's paragraph from French to English, you would not read the whole paragraph, then close the book and translate. Even during the translation process, you would read/re-read and focus on the parts of the French paragraph corresponding to the parts of the English you are writing down. \n",
    "\n",
    "The attention mechanism tells a Neural Machine Translation model where it should pay attention to at any step. \n",
    "\n",
    "\n",
    "### 2.1 - Attention mechanism\n",
    "\n",
    "In this part, you will implement the attention mechanism presented in the lecture videos. Here is a figure to remind you how the model works. The diagram on the left shows the attention model. The diagram on the right shows what one \"Attention\" step does to calculate the attention variables $\\alpha^{\\langle t, t' \\rangle}$, which are used to compute the context variable $context^{\\langle t \\rangle}$ for each timestep in the output ($t=1, \\ldots, T_y$). \n",
    "\n",
    "<table>\n",
    "<td> \n",
    "<img src=\"images/attn_model.png\" style=\"width:500;height:500px;\"> <br>\n",
    "</td> \n",
    "<td> \n",
    "<img src=\"images/attn_mechanism.png\" style=\"width:500;height:500px;\"> <br>\n",
    "</td> \n",
    "</table>\n",
    "<caption><center> **Figure 1**: Neural machine translation with attention</center></caption>\n"
   ]
  },
  {
   "cell_type": "markdown",
   "metadata": {},
   "source": [
    "\n",
    "Here are some properties of the model that you may notice: \n",
    "\n",
    "- There are two separate LSTMs in this model (see diagram on the left). Because the one at the bottom of the picture is a Bi-directional LSTM and comes *before* the attention mechanism, we will call it *pre-attention* Bi-LSTM. The LSTM at the top of the diagram comes *after* the attention mechanism, so we will call it the *post-attention* LSTM. The pre-attention Bi-LSTM goes through $T_x$ time steps; the post-attention LSTM goes through $T_y$ time steps. \n",
    "\n",
    "- The post-attention LSTM passes $s^{\\langle t \\rangle}, c^{\\langle t \\rangle}$ from one time step to the next. In the lecture videos, we were using only a basic RNN for the post-activation sequence model, so the state captured by the RNN output activations $s^{\\langle t\\rangle}$. But since we are using an LSTM here, the LSTM has both the output activation $s^{\\langle t\\rangle}$ and the hidden cell state $c^{\\langle t\\rangle}$. However, unlike previous text generation examples (such as Dinosaurus in week 1), in this model the post-activation LSTM at time $t$ does will not take the specific generated $y^{\\langle t-1 \\rangle}$ as input; it only takes $s^{\\langle t\\rangle}$ and $c^{\\langle t\\rangle}$ as input. We have designed the model this way, because (unlike language generation where adjacent characters are highly correlated) there isn't as strong a dependency between the previous character and the next character in a YYYY-MM-DD date. \n",
    "\n",
    "- We use $a^{\\langle t \\rangle} = [\\overrightarrow{a}^{\\langle t \\rangle}; \\overleftarrow{a}^{\\langle t \\rangle}]$ to represent the concatenation of the activations of both the forward-direction and backward-directions of the pre-attention Bi-LSTM. \n",
    "\n",
    "- The diagram on the right uses a `RepeatVector` node to copy $s^{\\langle t-1 \\rangle}$'s value $T_x$ times, and then `Concatenation` to concatenate $s^{\\langle t-1 \\rangle}$ and $a^{\\langle t \\rangle}$ to compute $e^{\\langle t, t'}$, which is then passed through a softmax to compute $\\alpha^{\\langle t, t' \\rangle}$. We'll explain how to use `RepeatVector` and `Concatenation` in Keras below. \n",
    "\n",
    "Lets implement this model. You will start by implementing two functions: `one_step_attention()` and `model()`.\n",
    "\n",
    "**1) `one_step_attention()`**: At step $t$, given all the hidden states of the Bi-LSTM ($[a^{<1>},a^{<2>}, ..., a^{<T_x>}]$) and the previous hidden state of the second LSTM ($s^{<t-1>}$), `one_step_attention()` will compute the attention weights ($[\\alpha^{<t,1>},\\alpha^{<t,2>}, ..., \\alpha^{<t,T_x>}]$) and output the context vector (see Figure  1 (right) for details):\n",
    "$$context^{<t>} = \\sum_{t' = 0}^{T_x} \\alpha^{<t,t'>}a^{<t'>}\\tag{1}$$ \n",
    "\n",
    "Note that we are denoting the attention in this notebook $context^{\\langle t \\rangle}$. In the lecture videos, the context was denoted $c^{\\langle t \\rangle}$, but here we are calling it $context^{\\langle t \\rangle}$ to avoid confusion with the (post-attention) LSTM's internal memory cell variable, which is sometimes also denoted $c^{\\langle t \\rangle}$. \n",
    "  \n",
    "**2) `model()`**: Implements the entire model. It first runs the input through a Bi-LSTM to get back $[a^{<1>},a^{<2>}, ..., a^{<T_x>}]$. Then, it calls `one_step_attention()` $T_y$ times (`for` loop). At each iteration of this loop, it gives the computed context vector $c^{<t>}$ to the second LSTM, and runs the output of the LSTM through a dense layer with softmax activation to generate a prediction $\\hat{y}^{<t>}$. \n",
    "\n",
    "\n",
    "\n",
    "**Exercise**: Implement `one_step_attention()`. The function `model()` will call the layers in `one_step_attention()` $T_y$ using a for-loop, and it is important that all $T_y$ copies have the same weights. I.e., it should not re-initiaiize the weights every time. In other words, all $T_y$ steps should have shared weights. Here's how you can implement layers with shareable weights in Keras:\n",
    "1. Define the layer objects (as global variables for examples).\n",
    "2. Call these objects when propagating the input.\n",
    "\n",
    "We have defined the layers you need as global variables. Please run the following cells to create them. Please check the Keras documentation to make sure you understand what these layers are: [RepeatVector()](https://keras.io/layers/core/#repeatvector), [Concatenate()](https://keras.io/layers/merge/#concatenate), [Dense()](https://keras.io/layers/core/#dense), [Activation()](https://keras.io/layers/core/#activation), [Dot()](https://keras.io/layers/merge/#dot)."
   ]
  },
  {
   "cell_type": "code",
   "execution_count": 39,
   "metadata": {},
   "outputs": [],
   "source": [
    "# Defined shared layers as global variables\n",
    "repeator = RepeatVector(Tx)\n",
    "concatenator = Concatenate(axis=-1)\n",
    "densor = Dense(1,activation = \"relu\")\n",
    "activator = Activation(softmax, name='attention_weights') # We are using a custom softmax(axis = 1) loaded in this notebook\n",
    "dotor = Dot(axes = 1)"
   ]
  },
  {
   "cell_type": "markdown",
   "metadata": {},
   "source": [
    "Now you can use these layers to implement `one_step_attention()`. In order to propagate a Keras tensor object X through one of these layers, use `layer(X)` (or `layer([X,Y])` if it requires multiple inputs.), e.g. `densor(X)` will propagate X through the `Dense(1)` layer defined above."
   ]
  },
  {
   "cell_type": "code",
   "execution_count": 40,
   "metadata": {},
   "outputs": [],
   "source": [
    "# GRADED FUNCTION: one_step_attention\n",
    "\n",
    "def one_step_attention(a, s_prev):\n",
    "    \"\"\"\n",
    "    Performs one step of attention: Outputs a context vector computed as a dot product of the attention weights\n",
    "    \"alphas\" and the hidden states \"a\" of the Bi-LSTM.\n",
    "    \n",
    "    Arguments:\n",
    "    a -- hidden state output of the Bi-LSTM, numpy-array of shape (m, Tx, 2*n_a)\n",
    "    s_prev -- previous hidden state of the (post-attention) LSTM, numpy-array of shape (m, n_s)\n",
    "    \n",
    "    Returns:\n",
    "    context -- context vector, input of the next (post-attetion) LSTM cell\n",
    "    \"\"\"\n",
    "    \n",
    "    ### START CODE HERE ###\n",
    "    # Use repeator to repeat s_prev to be of shape (m, Tx, n_s) so that you can concatenate it with all hidden states \"a\" (≈ 1 line)\n",
    "    print (\"s_prev.shape before repeator\",s_prev.shape)\n",
    "    s_prev = repeator(s_prev)\n",
    "    print (\"s_prev.shape after repeator\",s_prev.shape)\n",
    "    print (\"a.shape\",a.shape)\n",
    "    # Use concatenator to concatenate a and s_prev on the last axis (≈ 1 line)\n",
    "    concat = concatenator([a, s_prev])\n",
    "    print (\"concat.shape\",concat.shape)\n",
    "    # Use densor to propagate concat through a small fully-connected neural network to compute the \"energies\" variable e. (≈1 lines)\n",
    "    e = densor(concat)\n",
    "    print (\"e.shape\",e.shape)\n",
    "    # Use activator and e to compute the attention weights \"alphas\" (≈ 1 line)\n",
    "    alphas = activator(e)\n",
    "    print (\"alphas.shape\",alphas.shape)\n",
    "    # Use dotor together with \"alphas\" and \"a\" to compute the context vector to be given to the next (post-attention) LSTM-cell (≈ 1 line)\n",
    "    context = dotor([alphas, a])\n",
    "    print (\"context.shape\",context.shape)\n",
    "    ### END CODE HERE ###\n",
    "    \n",
    "    return context"
   ]
  },
  {
   "cell_type": "markdown",
   "metadata": {},
   "source": [
    "You will be able to check the expected output of `one_step_attention()` after you've coded the `model()` function."
   ]
  },
  {
   "cell_type": "markdown",
   "metadata": {},
   "source": [
    "**Exercise**: Implement `model()` as explained in figure 2 and the text above. Again, we have defined global layers that will share weights to be used in `model()`."
   ]
  },
  {
   "cell_type": "code",
   "execution_count": 41,
   "metadata": {},
   "outputs": [],
   "source": [
    "n_a = 500\n",
    "n_s = 500\n",
    "post_activation_LSTM_cell = LSTM(n_s, activation='relu',return_state = True,dropout=0.25\n",
    "                                 ,return_sequences=True\n",
    "                                 )\n",
    "output_layer = Dense(len(english_dictionary), activation=softmax)"
   ]
  },
  {
   "cell_type": "markdown",
   "metadata": {},
   "source": [
    "Now you can use these layers $T_y$ times in a `for` loop to generate the outputs, and their parameters will not be reinitialized. You will have to carry out the following steps: \n",
    "\n",
    "1. Propagate the input into a [Bidirectional](https://keras.io/layers/wrappers/#bidirectional) [LSTM](https://keras.io/layers/recurrent/#lstm)\n",
    "2. Iterate for $t = 0, \\dots, T_y-1$: \n",
    "    1. Call `one_step_attention()` on $[\\alpha^{<t,1>},\\alpha^{<t,2>}, ..., \\alpha^{<t,T_x>}]$ and $s^{<t-1>}$ to get the context vector $context^{<t>}$.\n",
    "    2. Give $context^{<t>}$ to the post-attention LSTM cell. Remember pass in the previous hidden-state $s^{\\langle t-1\\rangle}$ and cell-states $c^{\\langle t-1\\rangle}$ of this LSTM using `initial_state= [previous hidden state, previous cell state]`. Get back the new hidden state $s^{<t>}$ and the new cell state $c^{<t>}$.\n",
    "    3. Apply a softmax layer to $s^{<t>}$, get the output. \n",
    "    4. Save the output by adding it to the list of outputs.\n",
    "\n",
    "3. Create your Keras model instance, it should have three inputs (\"inputs\", $s^{<0>}$ and $c^{<0>}$) and output the list of \"outputs\"."
   ]
  },
  {
   "cell_type": "code",
   "execution_count": 42,
   "metadata": {},
   "outputs": [],
   "source": [
    "# GRADED FUNCTION: model\n",
    "\n",
    "def model(Tx, Ty, n_a, n_s, source_dictionary_size, target_dictionary_size):\n",
    "    \"\"\"\n",
    "    Arguments:\n",
    "    Tx -- length of the input sequence\n",
    "    Ty -- length of the output sequence\n",
    "    n_a -- hidden state size of the Bi-LSTM\n",
    "    n_s -- hidden state size of the post-attention LSTM\n",
    "    human_vocab_size -- size of the python dictionary \"human_vocab\"\n",
    "    machine_vocab_size -- size of the python dictionary \"machine_vocab\"\n",
    "\n",
    "    Returns:\n",
    "    model -- Keras model instance\n",
    "    \"\"\"\n",
    "    \n",
    "    # Define the inputs of your model with a shape (Tx,)\n",
    "    # Define s0 and c0, initial hidden state for the decoder LSTM of shape (n_s,)\n",
    "    X = Input(shape=(Tx, source_dictionary_size))\n",
    "    s0 = Input(shape=(n_s,), name='s0')\n",
    "    c0 = Input(shape=(n_s,), name='c0')\n",
    "    s = s0\n",
    "    c = c0\n",
    "    #out=Input(shape=(1, target_dictionary_size))\n",
    "    \n",
    "    # Initialize empty list of outputs\n",
    "    outputs = []\n",
    "    \n",
    "    ### START CODE HERE ###\n",
    "    \n",
    "    # Step 1: Define your pre-attention Bi-LSTM. Remember to use return_sequences=True. (≈ 1 line)\n",
    "    a = Bidirectional(LSTM(n_a, activation='relu',return_sequences=True,dropout=0.25))(X)\n",
    "    print(\"a.shape:\",a.shape)\n",
    "    # Step 2: Iterate for Ty steps\n",
    "    for t in range(Ty):\n",
    "    \n",
    "        # Step 2.A: Perform one step of the attention mechanism to get back the context vector at step t (≈ 1 line)\n",
    "        print(\"Before getting Context: a.shape,s.shape\",a.shape,s.shape)\n",
    "        context = one_step_attention(a, s)\n",
    "        print(\"Pre (Post Activation Cell) context.shape,s.shape,c.shape \",context.shape,s.shape,c.shape)\n",
    "        # Step 2.B: Apply the post-attention LSTM cell to the \"context\" vector.\n",
    "        # Don't forget to pass: initial_state = [hidden state, cell state] (≈ 1 line)\n",
    "        #s,_, c = post_activation_LSTM_cell(context,initial_state = [s,c])\n",
    "        _,s, c = post_activation_LSTM_cell(context,initial_state = [s,c])\n",
    "        print(\"Post Activation Cell s.shape,c.shape \",s.shape,c.shape)\n",
    "        # Step 2.C: Apply Dense layer to the hidden state output of the post-attention LSTM (≈ 1 line)\n",
    "        out = output_layer(s)\n",
    "        print(\"Out shape\",out.shape)\n",
    "        # Step 2.D: Append \"out\" to the \"outputs\" list (≈ 1 line)\n",
    "        outputs.append(out)\n",
    "    \n",
    "    # Step 3: Create model instance taking three inputs and returning the list of outputs. (≈ 1 line)\n",
    "    model = Model(inputs = [X, s0, c0], outputs = outputs)\n",
    "    \n",
    "    ### END CODE HERE ###\n",
    "    \n",
    "    return model"
   ]
  },
  {
   "cell_type": "code",
   "execution_count": 43,
   "metadata": {},
   "outputs": [
    {
     "name": "stdout",
     "output_type": "stream",
     "text": [
      "8 8 500 500 2873 2620 2873 2620\n"
     ]
    }
   ],
   "source": [
    "print (Tx, Ty, n_a, n_s, len(hindi_dictionary), len(english_dictionary),Xoh.shape[2],Yoh.shape[2])"
   ]
  },
  {
   "cell_type": "code",
   "execution_count": 44,
   "metadata": {},
   "outputs": [],
   "source": [
    "source_dictionary_size=Xoh.shape[2]"
   ]
  },
  {
   "cell_type": "markdown",
   "metadata": {},
   "source": [
    "Run the following cell to create your model."
   ]
  },
  {
   "cell_type": "code",
   "execution_count": 45,
   "metadata": {},
   "outputs": [
    {
     "name": "stdout",
     "output_type": "stream",
     "text": [
      "a.shape: (?, ?, 1000)\n",
      "Before getting Context: a.shape,s.shape (?, ?, 1000) (?, 500)\n",
      "s_prev.shape before repeator (?, 500)\n",
      "s_prev.shape after repeator (?, 8, 500)\n",
      "a.shape (?, ?, 1000)\n",
      "concat.shape (?, 8, 1500)\n",
      "e.shape (?, 8, 1)\n",
      "alphas.shape (?, 8, 1)\n",
      "context.shape (?, 1, 1000)\n",
      "Pre (Post Activation Cell) context.shape,s.shape,c.shape  (?, 1, 1000) (?, 500) (?, 500)\n",
      "Post Activation Cell s.shape,c.shape  (?, 500) (?, 500)\n",
      "Out shape (?, 2620)\n",
      "Before getting Context: a.shape,s.shape (?, ?, 1000) (?, 500)\n",
      "s_prev.shape before repeator (?, 500)\n",
      "s_prev.shape after repeator (?, 8, 500)\n",
      "a.shape (?, ?, 1000)\n",
      "concat.shape (?, 8, 1500)\n",
      "e.shape (?, 8, 1)\n",
      "alphas.shape (?, 8, 1)\n",
      "context.shape (?, 1, 1000)\n",
      "Pre (Post Activation Cell) context.shape,s.shape,c.shape  (?, 1, 1000) (?, 500) (?, 500)\n",
      "Post Activation Cell s.shape,c.shape  (?, 500) (?, 500)\n",
      "Out shape (?, 2620)\n",
      "Before getting Context: a.shape,s.shape (?, ?, 1000) (?, 500)\n",
      "s_prev.shape before repeator (?, 500)\n",
      "s_prev.shape after repeator (?, 8, 500)\n",
      "a.shape (?, ?, 1000)\n",
      "concat.shape (?, 8, 1500)\n",
      "e.shape (?, 8, 1)\n",
      "alphas.shape (?, 8, 1)\n",
      "context.shape (?, 1, 1000)\n",
      "Pre (Post Activation Cell) context.shape,s.shape,c.shape  (?, 1, 1000) (?, 500) (?, 500)\n",
      "Post Activation Cell s.shape,c.shape  (?, 500) (?, 500)\n",
      "Out shape (?, 2620)\n",
      "Before getting Context: a.shape,s.shape (?, ?, 1000) (?, 500)\n",
      "s_prev.shape before repeator (?, 500)\n",
      "s_prev.shape after repeator (?, 8, 500)\n",
      "a.shape (?, ?, 1000)\n",
      "concat.shape (?, 8, 1500)\n",
      "e.shape (?, 8, 1)\n",
      "alphas.shape (?, 8, 1)\n",
      "context.shape (?, 1, 1000)\n",
      "Pre (Post Activation Cell) context.shape,s.shape,c.shape  (?, 1, 1000) (?, 500) (?, 500)\n",
      "Post Activation Cell s.shape,c.shape  (?, 500) (?, 500)\n",
      "Out shape (?, 2620)\n",
      "Before getting Context: a.shape,s.shape (?, ?, 1000) (?, 500)\n",
      "s_prev.shape before repeator (?, 500)\n",
      "s_prev.shape after repeator (?, 8, 500)\n",
      "a.shape (?, ?, 1000)\n",
      "concat.shape (?, 8, 1500)\n",
      "e.shape (?, 8, 1)\n",
      "alphas.shape (?, 8, 1)\n",
      "context.shape (?, 1, 1000)\n",
      "Pre (Post Activation Cell) context.shape,s.shape,c.shape  (?, 1, 1000) (?, 500) (?, 500)\n",
      "Post Activation Cell s.shape,c.shape  (?, 500) (?, 500)\n",
      "Out shape (?, 2620)\n",
      "Before getting Context: a.shape,s.shape (?, ?, 1000) (?, 500)\n",
      "s_prev.shape before repeator (?, 500)\n",
      "s_prev.shape after repeator (?, 8, 500)\n",
      "a.shape (?, ?, 1000)\n",
      "concat.shape (?, 8, 1500)\n",
      "e.shape (?, 8, 1)\n",
      "alphas.shape (?, 8, 1)\n",
      "context.shape (?, 1, 1000)\n",
      "Pre (Post Activation Cell) context.shape,s.shape,c.shape  (?, 1, 1000) (?, 500) (?, 500)\n",
      "Post Activation Cell s.shape,c.shape  (?, 500) (?, 500)\n",
      "Out shape (?, 2620)\n",
      "Before getting Context: a.shape,s.shape (?, ?, 1000) (?, 500)\n",
      "s_prev.shape before repeator (?, 500)\n",
      "s_prev.shape after repeator (?, 8, 500)\n",
      "a.shape (?, ?, 1000)\n",
      "concat.shape (?, 8, 1500)\n",
      "e.shape (?, 8, 1)\n",
      "alphas.shape (?, 8, 1)\n",
      "context.shape (?, 1, 1000)\n",
      "Pre (Post Activation Cell) context.shape,s.shape,c.shape  (?, 1, 1000) (?, 500) (?, 500)\n",
      "Post Activation Cell s.shape,c.shape  (?, 500) (?, 500)\n",
      "Out shape (?, 2620)\n",
      "Before getting Context: a.shape,s.shape (?, ?, 1000) (?, 500)\n",
      "s_prev.shape before repeator (?, 500)\n",
      "s_prev.shape after repeator (?, 8, 500)\n",
      "a.shape (?, ?, 1000)\n",
      "concat.shape (?, 8, 1500)\n",
      "e.shape (?, 8, 1)\n",
      "alphas.shape (?, 8, 1)\n",
      "context.shape (?, 1, 1000)\n",
      "Pre (Post Activation Cell) context.shape,s.shape,c.shape  (?, 1, 1000) (?, 500) (?, 500)\n",
      "Post Activation Cell s.shape,c.shape  (?, 500) (?, 500)\n",
      "Out shape (?, 2620)\n"
     ]
    }
   ],
   "source": [
    "model = model(Tx, Ty, n_a, n_s, len(hindi_dictionary), len(english_dictionary))\n",
    "\n",
    "#You will need copy of the model which will use the weights from model.fit.\n",
    "#model.load_weights(weightFile)\n",
    "loaded_model = model"
   ]
  },
  {
   "cell_type": "markdown",
   "metadata": {},
   "source": [
    "Let's get a summary of the model to check if it matches the expected output."
   ]
  },
  {
   "cell_type": "code",
   "execution_count": 46,
   "metadata": {},
   "outputs": [
    {
     "name": "stdout",
     "output_type": "stream",
     "text": [
      "____________________________________________________________________________________________________\n",
      "Layer (type)                     Output Shape          Param #     Connected to                     \n",
      "====================================================================================================\n",
      "input_1 (InputLayer)             (None, 8, 2873)       0                                            \n",
      "____________________________________________________________________________________________________\n",
      "s0 (InputLayer)                  (None, 500)           0                                            \n",
      "____________________________________________________________________________________________________\n",
      "bidirectional_1 (Bidirectional)  (None, 8, 1000)       13496000    input_1[0][0]                    \n",
      "____________________________________________________________________________________________________\n",
      "repeat_vector_1 (RepeatVector)   (None, 8, 500)        0           s0[0][0]                         \n",
      "                                                                   lstm_1[0][1]                     \n",
      "                                                                   lstm_1[1][1]                     \n",
      "                                                                   lstm_1[2][1]                     \n",
      "                                                                   lstm_1[3][1]                     \n",
      "                                                                   lstm_1[4][1]                     \n",
      "                                                                   lstm_1[5][1]                     \n",
      "                                                                   lstm_1[6][1]                     \n",
      "____________________________________________________________________________________________________\n",
      "concatenate_1 (Concatenate)      (None, 8, 1500)       0           bidirectional_1[0][0]            \n",
      "                                                                   repeat_vector_1[0][0]            \n",
      "                                                                   bidirectional_1[0][0]            \n",
      "                                                                   repeat_vector_1[1][0]            \n",
      "                                                                   bidirectional_1[0][0]            \n",
      "                                                                   repeat_vector_1[2][0]            \n",
      "                                                                   bidirectional_1[0][0]            \n",
      "                                                                   repeat_vector_1[3][0]            \n",
      "                                                                   bidirectional_1[0][0]            \n",
      "                                                                   repeat_vector_1[4][0]            \n",
      "                                                                   bidirectional_1[0][0]            \n",
      "                                                                   repeat_vector_1[5][0]            \n",
      "                                                                   bidirectional_1[0][0]            \n",
      "                                                                   repeat_vector_1[6][0]            \n",
      "                                                                   bidirectional_1[0][0]            \n",
      "                                                                   repeat_vector_1[7][0]            \n",
      "____________________________________________________________________________________________________\n",
      "dense_1 (Dense)                  (None, 8, 1)          1501        concatenate_1[0][0]              \n",
      "                                                                   concatenate_1[1][0]              \n",
      "                                                                   concatenate_1[2][0]              \n",
      "                                                                   concatenate_1[3][0]              \n",
      "                                                                   concatenate_1[4][0]              \n",
      "                                                                   concatenate_1[5][0]              \n",
      "                                                                   concatenate_1[6][0]              \n",
      "                                                                   concatenate_1[7][0]              \n",
      "____________________________________________________________________________________________________\n",
      "attention_weights (Activation)   (None, 8, 1)          0           dense_1[0][0]                    \n",
      "                                                                   dense_1[1][0]                    \n",
      "                                                                   dense_1[2][0]                    \n",
      "                                                                   dense_1[3][0]                    \n",
      "                                                                   dense_1[4][0]                    \n",
      "                                                                   dense_1[5][0]                    \n",
      "                                                                   dense_1[6][0]                    \n",
      "                                                                   dense_1[7][0]                    \n",
      "____________________________________________________________________________________________________\n",
      "dot_1 (Dot)                      (None, 1, 1000)       0           attention_weights[0][0]          \n",
      "                                                                   bidirectional_1[0][0]            \n",
      "                                                                   attention_weights[1][0]          \n",
      "                                                                   bidirectional_1[0][0]            \n",
      "                                                                   attention_weights[2][0]          \n",
      "                                                                   bidirectional_1[0][0]            \n",
      "                                                                   attention_weights[3][0]          \n",
      "                                                                   bidirectional_1[0][0]            \n",
      "                                                                   attention_weights[4][0]          \n",
      "                                                                   bidirectional_1[0][0]            \n",
      "                                                                   attention_weights[5][0]          \n",
      "                                                                   bidirectional_1[0][0]            \n",
      "                                                                   attention_weights[6][0]          \n",
      "                                                                   bidirectional_1[0][0]            \n",
      "                                                                   attention_weights[7][0]          \n",
      "                                                                   bidirectional_1[0][0]            \n",
      "____________________________________________________________________________________________________\n",
      "c0 (InputLayer)                  (None, 500)           0                                            \n",
      "____________________________________________________________________________________________________\n",
      "lstm_1 (LSTM)                    [(None, 1, 500), (Non 3002000     dot_1[0][0]                      \n",
      "                                                                   s0[0][0]                         \n",
      "                                                                   c0[0][0]                         \n",
      "                                                                   dot_1[1][0]                      \n",
      "                                                                   lstm_1[0][1]                     \n",
      "                                                                   lstm_1[0][2]                     \n",
      "                                                                   dot_1[2][0]                      \n",
      "                                                                   lstm_1[1][1]                     \n",
      "                                                                   lstm_1[1][2]                     \n",
      "                                                                   dot_1[3][0]                      \n",
      "                                                                   lstm_1[2][1]                     \n",
      "                                                                   lstm_1[2][2]                     \n",
      "                                                                   dot_1[4][0]                      \n",
      "                                                                   lstm_1[3][1]                     \n",
      "                                                                   lstm_1[3][2]                     \n",
      "                                                                   dot_1[5][0]                      \n",
      "                                                                   lstm_1[4][1]                     \n",
      "                                                                   lstm_1[4][2]                     \n",
      "                                                                   dot_1[6][0]                      \n",
      "                                                                   lstm_1[5][1]                     \n",
      "                                                                   lstm_1[5][2]                     \n",
      "                                                                   dot_1[7][0]                      \n",
      "                                                                   lstm_1[6][1]                     \n",
      "                                                                   lstm_1[6][2]                     \n",
      "____________________________________________________________________________________________________\n",
      "dense_2 (Dense)                  (None, 2620)          1312620     lstm_1[0][1]                     \n",
      "                                                                   lstm_1[1][1]                     \n",
      "                                                                   lstm_1[2][1]                     \n",
      "                                                                   lstm_1[3][1]                     \n",
      "                                                                   lstm_1[4][1]                     \n",
      "                                                                   lstm_1[5][1]                     \n",
      "                                                                   lstm_1[6][1]                     \n",
      "                                                                   lstm_1[7][1]                     \n",
      "====================================================================================================\n",
      "Total params: 17,812,121\n",
      "Trainable params: 17,812,121\n",
      "Non-trainable params: 0\n",
      "____________________________________________________________________________________________________\n"
     ]
    }
   ],
   "source": [
    "model.summary()"
   ]
  },
  {
   "cell_type": "markdown",
   "metadata": {},
   "source": [
    "**Expected Output**:\n",
    "\n",
    "Here is the summary you should see\n",
    "<table>\n",
    "    <tr>\n",
    "        <td>\n",
    "            **Total params:**\n",
    "        </td>\n",
    "        <td>\n",
    "         185,484\n",
    "        </td>\n",
    "    </tr>\n",
    "        <tr>\n",
    "        <td>\n",
    "            **Trainable params:**\n",
    "        </td>\n",
    "        <td>\n",
    "         185,484\n",
    "        </td>\n",
    "    </tr>\n",
    "            <tr>\n",
    "        <td>\n",
    "            **Non-trainable params:**\n",
    "        </td>\n",
    "        <td>\n",
    "         0\n",
    "        </td>\n",
    "    </tr>\n",
    "                    <tr>\n",
    "        <td>\n",
    "            **bidirectional_1's output shape **\n",
    "        </td>\n",
    "        <td>\n",
    "         (None, 30, 128)  \n",
    "        </td>\n",
    "    </tr>\n",
    "    <tr>\n",
    "        <td>\n",
    "            **repeat_vector_1's output shape **\n",
    "        </td>\n",
    "        <td>\n",
    "         (None, 30, 128)  \n",
    "        </td>\n",
    "    </tr>\n",
    "                <tr>\n",
    "        <td>\n",
    "            **concatenate_1's output shape **\n",
    "        </td>\n",
    "        <td>\n",
    "         (None, 30, 256) \n",
    "        </td>\n",
    "    </tr>\n",
    "            <tr>\n",
    "        <td>\n",
    "            **attention_weights's output shape **\n",
    "        </td>\n",
    "        <td>\n",
    "         (None, 30, 1)  \n",
    "        </td>\n",
    "    </tr>\n",
    "        <tr>\n",
    "        <td>\n",
    "            **dot_1's output shape **\n",
    "        </td>\n",
    "        <td>\n",
    "         (None, 1, 128) \n",
    "        </td>\n",
    "    </tr>\n",
    "           <tr>\n",
    "        <td>\n",
    "            **dense_2's output shape **\n",
    "        </td>\n",
    "        <td>\n",
    "         (None, 11) \n",
    "        </td>\n",
    "    </tr>\n",
    "</table>\n"
   ]
  },
  {
   "cell_type": "markdown",
   "metadata": {},
   "source": [
    "As usual, after creating your model in Keras, you need to compile it and define what loss, optimizer and metrics your are want to use. Compile your model using `categorical_crossentropy` loss, a custom [Adam](https://keras.io/optimizers/#adam) [optimizer](https://keras.io/optimizers/#usage-of-optimizers) (`learning rate = 0.005`, $\\beta_1 = 0.9$, $\\beta_2 = 0.999$, `decay = 0.01`)  and `['accuracy']` metrics:"
   ]
  },
  {
   "cell_type": "code",
   "execution_count": 47,
   "metadata": {},
   "outputs": [],
   "source": [
    "from keras.optimizers import RMSprop,Adagrad,Adam,Adamax,Nadam,SGD"
   ]
  },
  {
   "cell_type": "code",
   "execution_count": 48,
   "metadata": {},
   "outputs": [],
   "source": [
    "### START CODE HERE ### (≈2 lines)\n",
    "from keras.optimizers import RMSprop\n",
    "out = model.compile(optimizer='rmsprop'#(lr=0.001, beta_1=0.7, beta_2=0.8, decay=0.02)\n",
    "                    ,metrics=['accuracy'],\n",
    "                    loss='categorical_crossentropy')\n",
    "out\n",
    "### END CODE HERE ###"
   ]
  },
  {
   "cell_type": "markdown",
   "metadata": {},
   "source": [
    "The last step is to define all your inputs and outputs to fit the model:\n",
    "- You already have X of shape $(m = 10000, T_x = 30)$ containing the training examples.\n",
    "- You need to create `s0` and `c0` to initialize your `post_activation_LSTM_cell` with 0s.\n",
    "- Given the `model()` you coded, you need the \"outputs\" to be a list of 11 elements of shape (m, T_y). So that: `outputs[i][0], ..., outputs[i][Ty]` represent the true labels (characters) corresponding to the $i^{th}$ training example (`X[i]`). More generally, `outputs[i][j]` is the true label of the $j^{th}$ character in the $i^{th}$ training example."
   ]
  },
  {
   "cell_type": "code",
   "execution_count": 49,
   "metadata": {},
   "outputs": [],
   "source": [
    "s0 = np.zeros((len(dataset_list), n_s))\n",
    "c0 = np.zeros((len(dataset_list), n_s))\n",
    "outputs = list(Yoh.swapaxes(0,1))"
   ]
  },
  {
   "cell_type": "code",
   "execution_count": 50,
   "metadata": {},
   "outputs": [
    {
     "data": {
      "text/plain": [
       "(8, 8)"
      ]
     },
     "execution_count": 50,
     "metadata": {},
     "output_type": "execute_result"
    }
   ],
   "source": [
    "len(list(Yoh[1])),len(list(Yoh.swapaxes(0,1)))"
   ]
  },
  {
   "cell_type": "code",
   "execution_count": 51,
   "metadata": {},
   "outputs": [
    {
     "data": {
      "text/plain": [
       "((2869, 8, 2620), (2867, 500), (2867, 500), (8, 2869, 2620))"
      ]
     },
     "execution_count": 51,
     "metadata": {},
     "output_type": "execute_result"
    }
   ],
   "source": [
    "Yoh.shape,s0.shape,c0.shape,Yoh.swapaxes(0,1).shape"
   ]
  },
  {
   "cell_type": "code",
   "execution_count": 52,
   "metadata": {},
   "outputs": [
    {
     "name": "stdout",
     "output_type": "stream",
     "text": [
      "Total Samples,Training,Testing 2869 2812 57\n",
      "Training X Shape and Y Shape (2812, 8, 2873) (2812, 8, 2620)\n",
      "Testing X Shape and Y Shape (57, 8, 2873) (57, 8, 2620)\n"
     ]
    }
   ],
   "source": [
    "#Divide data in to train & test\n",
    "#How much percentage of total data you need\n",
    "training_sample_percentage=98\n",
    "training_sample_count=(round(X.shape[0]*training_sample_percentage/100))\n",
    "#testing_sample_count=2\n",
    "#For to cover rest of data\n",
    "testing_sample_count=X.shape[0]-training_sample_count\n",
    "testing_sample_index=training_sample_count+testing_sample_count\n",
    "\n",
    "print(\"Total Samples,Training,Testing\",X.shape[0],training_sample_count,testing_sample_count)\n",
    "trainXoh=Xoh[0:training_sample_count]\n",
    "trainYoh=Yoh[0:training_sample_count]\n",
    "testXoh=Xoh[training_sample_count:testing_sample_index]\n",
    "testYoh=Yoh[training_sample_count:testing_sample_index]\n",
    "print(\"Training X Shape and Y Shape\",trainXoh.shape,trainYoh.shape)\n",
    "print(\"Testing X Shape and Y Shape\",testXoh.shape,testYoh.shape)\n",
    "train_outputs = list(trainYoh.swapaxes(0,1))\n",
    "test_outputs = list(testYoh.swapaxes(0,1))"
   ]
  },
  {
   "cell_type": "markdown",
   "metadata": {},
   "source": [
    "#Run this only to test with couple of samples to check everything is working fine.\n",
    "#If not needed just change the format to markdown or comment all code below.\n",
    "#Divide data in to train & test\n",
    "\n",
    "#Training sample count will alse serve as index\n",
    "training_sample_count=10\n",
    "testing_sample_count=2\n",
    "testing_sample_index=training_sample_count+testing_sample_count\n",
    "\n",
    "print(\"Total Samples,Training,Testing\",X.shape[0],training_sample_count,testing_sample_count)\n",
    "trainXoh=Xoh[0:training_sample_count]\n",
    "trainYoh=Yoh[0:training_sample_count]\n",
    "testXoh=Xoh[training_sample_count:testing_sample_index]\n",
    "testYoh=Yoh[training_sample_count:testing_sample_index]\n",
    "print(\"Training X Shape and Y Shape\",trainXoh.shape,trainYoh.shape)\n",
    "print(\"Testing X Shape and Y Shape\",testXoh.shape,testYoh.shape)\n",
    "train_outputs = list(trainYoh.swapaxes(0,1))\n",
    "test_outputs = list(testYoh.swapaxes(0,1))"
   ]
  },
  {
   "cell_type": "code",
   "execution_count": 53,
   "metadata": {},
   "outputs": [
    {
     "data": {
      "text/plain": [
       "(2867, 2812, 57)"
      ]
     },
     "execution_count": 53,
     "metadata": {},
     "output_type": "execute_result"
    }
   ],
   "source": [
    "len(dataset_list),training_sample_count,testing_sample_count"
   ]
  },
  {
   "cell_type": "code",
   "execution_count": 54,
   "metadata": {},
   "outputs": [
    {
     "name": "stdout",
     "output_type": "stream",
     "text": [
      "(2867, 500) (2867, 500)\n"
     ]
    }
   ],
   "source": [
    "train_s0 = np.zeros((training_sample_count, n_s))\n",
    "train_c0 = np.zeros((training_sample_count, n_s))\n",
    "trainX=[trainXoh, train_s0, train_c0]\n",
    "trainY=train_outputs\n",
    "test_s0 = np.zeros((testing_sample_count, n_s))\n",
    "test_c0 = np.zeros((testing_sample_count, n_s))\n",
    "testX=[testXoh, test_s0, test_c0]\n",
    "testY=test_outputs\n",
    "print(s0.shape,c0.shape)"
   ]
  },
  {
   "cell_type": "code",
   "execution_count": null,
   "metadata": {},
   "outputs": [
    {
     "name": "stdout",
     "output_type": "stream",
     "text": [
      "Train on 2812 samples, validate on 57 samples\n",
      "Epoch 1/50\n",
      "2800/2812 [============================>.] - ETA: 0s - loss: 41.6247 - dense_2_loss_1: 5.2552 - dense_2_loss_2: 6.5864 - dense_2_loss_3: 6.3308 - dense_2_loss_4: 6.4382 - dense_2_loss_5: 5.7852 - dense_2_loss_6: 4.7378 - dense_2_loss_7: 3.7392 - dense_2_loss_8: 2.7519 - dense_2_acc_1: 0.1425 - dense_2_acc_2: 0.0543 - dense_2_acc_3: 0.0446 - dense_2_acc_4: 0.0939 - dense_2_acc_5: 0.2325 - dense_2_acc_6: 0.4146 - dense_2_acc_7: 0.5864 - dense_2_acc_8: 0.7296Epoch 00000: val_loss improved from inf to 36.38821, saving model to main_model_weights.h5\n",
      "2812/2812 [==============================] - 115s - loss: 41.6100 - dense_2_loss_1: 5.2481 - dense_2_loss_2: 6.5865 - dense_2_loss_3: 6.3344 - dense_2_loss_4: 6.4326 - dense_2_loss_5: 5.7841 - dense_2_loss_6: 4.7388 - dense_2_loss_7: 3.7402 - dense_2_loss_8: 2.7452 - dense_2_acc_1: 0.1430 - dense_2_acc_2: 0.0544 - dense_2_acc_3: 0.0445 - dense_2_acc_4: 0.0939 - dense_2_acc_5: 0.2322 - dense_2_acc_6: 0.4143 - dense_2_acc_7: 0.5864 - dense_2_acc_8: 0.7301 - val_loss: 36.3882 - val_dense_2_loss_1: 4.0914 - val_dense_2_loss_2: 5.8718 - val_dense_2_loss_3: 5.9376 - val_dense_2_loss_4: 5.6953 - val_dense_2_loss_5: 5.8563 - val_dense_2_loss_6: 5.0239 - val_dense_2_loss_7: 2.3664 - val_dense_2_loss_8: 1.5455 - val_dense_2_acc_1: 0.1754 - val_dense_2_acc_2: 0.1404 - val_dense_2_acc_3: 0.0877 - val_dense_2_acc_4: 0.1228 - val_dense_2_acc_5: 0.1754 - val_dense_2_acc_6: 0.4035 - val_dense_2_acc_7: 0.7368 - val_dense_2_acc_8: 0.8421\n",
      "Epoch 2/50\n",
      "2800/2812 [============================>.] - ETA: 0s - loss: 36.9577 - dense_2_loss_1: 4.2275 - dense_2_loss_2: 5.9856 - dense_2_loss_3: 5.8820 - dense_2_loss_4: 6.0002 - dense_2_loss_5: 5.2349 - dense_2_loss_6: 4.2086 - dense_2_loss_7: 3.1960 - dense_2_loss_8: 2.2228 - dense_2_acc_1: 0.1771 - dense_2_acc_2: 0.0807 - dense_2_acc_3: 0.0646 - dense_2_acc_4: 0.1104 - dense_2_acc_5: 0.2350 - dense_2_acc_6: 0.4161 - dense_2_acc_7: 0.5893 - dense_2_acc_8: 0.7361Epoch 00001: val_loss did not improve\n",
      "2812/2812 [==============================] - 110s - loss: 36.9573 - dense_2_loss_1: 4.2325 - dense_2_loss_2: 5.9878 - dense_2_loss_3: 5.8830 - dense_2_loss_4: 6.0031 - dense_2_loss_5: 5.2359 - dense_2_loss_6: 4.2050 - dense_2_loss_7: 3.1914 - dense_2_loss_8: 2.2186 - dense_2_acc_1: 0.1767 - dense_2_acc_2: 0.0804 - dense_2_acc_3: 0.0644 - dense_2_acc_4: 0.1102 - dense_2_acc_5: 0.2351 - dense_2_acc_6: 0.4168 - dense_2_acc_7: 0.5903 - dense_2_acc_8: 0.7368 - val_loss: 36.5857 - val_dense_2_loss_1: 4.0201 - val_dense_2_loss_2: 5.6200 - val_dense_2_loss_3: 5.8525 - val_dense_2_loss_4: 5.7136 - val_dense_2_loss_5: 6.3137 - val_dense_2_loss_6: 5.4376 - val_dense_2_loss_7: 2.2227 - val_dense_2_loss_8: 1.4055 - val_dense_2_acc_1: 0.1930 - val_dense_2_acc_2: 0.1053 - val_dense_2_acc_3: 0.1053 - val_dense_2_acc_4: 0.1228 - val_dense_2_acc_5: 0.1579 - val_dense_2_acc_6: 0.4035 - val_dense_2_acc_7: 0.7368 - val_dense_2_acc_8: 0.8421\n",
      "Epoch 3/50\n",
      "2800/2812 [============================>.] - ETA: 0s - loss: 35.7962 - dense_2_loss_1: 4.0618 - dense_2_loss_2: 5.7771 - dense_2_loss_3: 5.7007 - dense_2_loss_4: 5.8572 - dense_2_loss_5: 5.0961 - dense_2_loss_6: 4.1149 - dense_2_loss_7: 3.0851 - dense_2_loss_8: 2.1034 - dense_2_acc_1: 0.1904 - dense_2_acc_2: 0.0807 - dense_2_acc_3: 0.0689 - dense_2_acc_4: 0.1175 - dense_2_acc_5: 0.2468 - dense_2_acc_6: 0.4161 - dense_2_acc_7: 0.5904 - dense_2_acc_8: 0.7379Epoch 00002: val_loss improved from 36.38821 to 36.00720, saving model to main_model_weights.h5\n",
      "2812/2812 [==============================] - 110s - loss: 35.7792 - dense_2_loss_1: 4.0572 - dense_2_loss_2: 5.7757 - dense_2_loss_3: 5.6995 - dense_2_loss_4: 5.8582 - dense_2_loss_5: 5.0969 - dense_2_loss_6: 4.1091 - dense_2_loss_7: 3.0790 - dense_2_loss_8: 2.1036 - dense_2_acc_1: 0.1910 - dense_2_acc_2: 0.0807 - dense_2_acc_3: 0.0686 - dense_2_acc_4: 0.1174 - dense_2_acc_5: 0.2468 - dense_2_acc_6: 0.4171 - dense_2_acc_7: 0.5910 - dense_2_acc_8: 0.7379 - val_loss: 36.0072 - val_dense_2_loss_1: 4.0078 - val_dense_2_loss_2: 5.5632 - val_dense_2_loss_3: 5.8958 - val_dense_2_loss_4: 5.6685 - val_dense_2_loss_5: 6.0967 - val_dense_2_loss_6: 5.2109 - val_dense_2_loss_7: 2.1996 - val_dense_2_loss_8: 1.3645 - val_dense_2_acc_1: 0.2105 - val_dense_2_acc_2: 0.1053 - val_dense_2_acc_3: 0.1053 - val_dense_2_acc_4: 0.1404 - val_dense_2_acc_5: 0.1754 - val_dense_2_acc_6: 0.4035 - val_dense_2_acc_7: 0.7368 - val_dense_2_acc_8: 0.8421\n",
      "Epoch 4/50\n",
      "2800/2812 [============================>.] - ETA: 0s - loss: 34.9958 - dense_2_loss_1: 3.9709 - dense_2_loss_2: 5.6414 - dense_2_loss_3: 5.5849 - dense_2_loss_4: 5.7273 - dense_2_loss_5: 4.9977 - dense_2_loss_6: 4.0204 - dense_2_loss_7: 3.0086 - dense_2_loss_8: 2.0446 - dense_2_acc_1: 0.1986 - dense_2_acc_2: 0.0836 - dense_2_acc_3: 0.0836 - dense_2_acc_4: 0.1200 - dense_2_acc_5: 0.2489 - dense_2_acc_6: 0.4175 - dense_2_acc_7: 0.5918 - dense_2_acc_8: 0.7386Epoch 00003: val_loss did not improve\n",
      "2812/2812 [==============================] - 111s - loss: 35.0250 - dense_2_loss_1: 3.9710 - dense_2_loss_2: 5.6461 - dense_2_loss_3: 5.5821 - dense_2_loss_4: 5.7273 - dense_2_loss_5: 5.0083 - dense_2_loss_6: 4.0228 - dense_2_loss_7: 3.0167 - dense_2_loss_8: 2.0507 - dense_2_acc_1: 0.1988 - dense_2_acc_2: 0.0832 - dense_2_acc_3: 0.0832 - dense_2_acc_4: 0.1195 - dense_2_acc_5: 0.2482 - dense_2_acc_6: 0.4171 - dense_2_acc_7: 0.5910 - dense_2_acc_8: 0.7379 - val_loss: 36.2384 - val_dense_2_loss_1: 3.9570 - val_dense_2_loss_2: 5.5615 - val_dense_2_loss_3: 5.9123 - val_dense_2_loss_4: 5.6864 - val_dense_2_loss_5: 5.9721 - val_dense_2_loss_6: 5.1750 - val_dense_2_loss_7: 2.4372 - val_dense_2_loss_8: 1.5369 - val_dense_2_acc_1: 0.2105 - val_dense_2_acc_2: 0.0702 - val_dense_2_acc_3: 0.1053 - val_dense_2_acc_4: 0.1404 - val_dense_2_acc_5: 0.2105 - val_dense_2_acc_6: 0.4035 - val_dense_2_acc_7: 0.7368 - val_dense_2_acc_8: 0.8421\n",
      "Epoch 5/50\n",
      "2800/2812 [============================>.] - ETA: 0s - loss: 34.5189 - dense_2_loss_1: 3.8905 - dense_2_loss_2: 5.5510 - dense_2_loss_3: 5.4856 - dense_2_loss_4: 5.6613 - dense_2_loss_5: 4.9462 - dense_2_loss_6: 3.9760 - dense_2_loss_7: 2.9781 - dense_2_loss_8: 2.0302 - dense_2_acc_1: 0.2061 - dense_2_acc_2: 0.0839 - dense_2_acc_3: 0.0807 - dense_2_acc_4: 0.1214 - dense_2_acc_5: 0.2493 - dense_2_acc_6: 0.4182 - dense_2_acc_7: 0.5911 - dense_2_acc_8: 0.7371Epoch 00004: val_loss improved from 36.00720 to 35.90287, saving model to main_model_weights.h5\n",
      "2812/2812 [==============================] - 112s - loss: 34.5178 - dense_2_loss_1: 3.8929 - dense_2_loss_2: 5.5484 - dense_2_loss_3: 5.4828 - dense_2_loss_4: 5.6633 - dense_2_loss_5: 4.9463 - dense_2_loss_6: 3.9772 - dense_2_loss_7: 2.9773 - dense_2_loss_8: 2.0297 - dense_2_acc_1: 0.2052 - dense_2_acc_2: 0.0839 - dense_2_acc_3: 0.0804 - dense_2_acc_4: 0.1213 - dense_2_acc_5: 0.2489 - dense_2_acc_6: 0.4186 - dense_2_acc_7: 0.5910 - dense_2_acc_8: 0.7372 - val_loss: 35.9029 - val_dense_2_loss_1: 3.9824 - val_dense_2_loss_2: 5.5443 - val_dense_2_loss_3: 5.8484 - val_dense_2_loss_4: 5.6330 - val_dense_2_loss_5: 5.8835 - val_dense_2_loss_6: 5.1531 - val_dense_2_loss_7: 2.3822 - val_dense_2_loss_8: 1.4760 - val_dense_2_acc_1: 0.2105 - val_dense_2_acc_2: 0.1053 - val_dense_2_acc_3: 0.1053 - val_dense_2_acc_4: 0.1404 - val_dense_2_acc_5: 0.1930 - val_dense_2_acc_6: 0.4035 - val_dense_2_acc_7: 0.7368 - val_dense_2_acc_8: 0.8421\n",
      "Epoch 6/50\n",
      "2800/2812 [============================>.] - ETA: 0s - loss: 34.0056 - dense_2_loss_1: 3.8490 - dense_2_loss_2: 5.4561 - dense_2_loss_3: 5.3910 - dense_2_loss_4: 5.5737 - dense_2_loss_5: 4.8746 - dense_2_loss_6: 3.9210 - dense_2_loss_7: 2.9417 - dense_2_loss_8: 1.9984 - dense_2_acc_1: 0.2089 - dense_2_acc_2: 0.0868 - dense_2_acc_3: 0.0889 - dense_2_acc_4: 0.1229 - dense_2_acc_5: 0.2511 - dense_2_acc_6: 0.4171 - dense_2_acc_7: 0.5911 - dense_2_acc_8: 0.7375Epoch 00005: val_loss did not improve\n",
      "2812/2812 [==============================] - 110s - loss: 34.0031 - dense_2_loss_1: 3.8496 - dense_2_loss_2: 5.4564 - dense_2_loss_3: 5.3903 - dense_2_loss_4: 5.5721 - dense_2_loss_5: 4.8772 - dense_2_loss_6: 3.9195 - dense_2_loss_7: 2.9421 - dense_2_loss_8: 1.9958 - dense_2_acc_1: 0.2091 - dense_2_acc_2: 0.0868 - dense_2_acc_3: 0.0885 - dense_2_acc_4: 0.1223 - dense_2_acc_5: 0.2511 - dense_2_acc_6: 0.4175 - dense_2_acc_7: 0.5910 - dense_2_acc_8: 0.7379 - val_loss: 35.9529 - val_dense_2_loss_1: 3.9923 - val_dense_2_loss_2: 5.5005 - val_dense_2_loss_3: 5.9108 - val_dense_2_loss_4: 5.6871 - val_dense_2_loss_5: 6.0619 - val_dense_2_loss_6: 5.2228 - val_dense_2_loss_7: 2.2175 - val_dense_2_loss_8: 1.3600 - val_dense_2_acc_1: 0.2105 - val_dense_2_acc_2: 0.1228 - val_dense_2_acc_3: 0.1053 - val_dense_2_acc_4: 0.1404 - val_dense_2_acc_5: 0.1754 - val_dense_2_acc_6: 0.4035 - val_dense_2_acc_7: 0.7368 - val_dense_2_acc_8: 0.8421\n",
      "Epoch 7/50\n",
      "2800/2812 [============================>.] - ETA: 0s - loss: 33.5704 - dense_2_loss_1: 3.7945 - dense_2_loss_2: 5.3800 - dense_2_loss_3: 5.3236 - dense_2_loss_4: 5.5031 - dense_2_loss_5: 4.8174 - dense_2_loss_6: 3.8831 - dense_2_loss_7: 2.8991 - dense_2_loss_8: 1.9695 - dense_2_acc_1: 0.2125 - dense_2_acc_2: 0.0968 - dense_2_acc_3: 0.0943 - dense_2_acc_4: 0.1196 - dense_2_acc_5: 0.2493 - dense_2_acc_6: 0.4179 - dense_2_acc_7: 0.5918 - dense_2_acc_8: 0.7386Epoch 00006: val_loss did not improve\n",
      "2812/2812 [==============================] - 111s - loss: 33.5678 - dense_2_loss_1: 3.7944 - dense_2_loss_2: 5.3781 - dense_2_loss_3: 5.3233 - dense_2_loss_4: 5.4983 - dense_2_loss_5: 4.8166 - dense_2_loss_6: 3.8794 - dense_2_loss_7: 2.9028 - dense_2_loss_8: 1.9749 - dense_2_acc_1: 0.2123 - dense_2_acc_2: 0.0967 - dense_2_acc_3: 0.0942 - dense_2_acc_4: 0.1206 - dense_2_acc_5: 0.2496 - dense_2_acc_6: 0.4179 - dense_2_acc_7: 0.5910 - dense_2_acc_8: 0.7379 - val_loss: 35.9847 - val_dense_2_loss_1: 3.9988 - val_dense_2_loss_2: 5.4610 - val_dense_2_loss_3: 5.8504 - val_dense_2_loss_4: 5.6583 - val_dense_2_loss_5: 6.1967 - val_dense_2_loss_6: 5.2604 - val_dense_2_loss_7: 2.2058 - val_dense_2_loss_8: 1.3534 - val_dense_2_acc_1: 0.2281 - val_dense_2_acc_2: 0.1228 - val_dense_2_acc_3: 0.1228 - val_dense_2_acc_4: 0.1404 - val_dense_2_acc_5: 0.1930 - val_dense_2_acc_6: 0.4035 - val_dense_2_acc_7: 0.7368 - val_dense_2_acc_8: 0.8421\n",
      "Epoch 8/50\n",
      "2800/2812 [============================>.] - ETA: 0s - loss: 33.1246 - dense_2_loss_1: 3.7430 - dense_2_loss_2: 5.2867 - dense_2_loss_3: 5.2397 - dense_2_loss_4: 5.4263 - dense_2_loss_5: 4.7660 - dense_2_loss_6: 3.8406 - dense_2_loss_7: 2.8692 - dense_2_loss_8: 1.9531 - dense_2_acc_1: 0.2086 - dense_2_acc_2: 0.1050 - dense_2_acc_3: 0.0982 - dense_2_acc_4: 0.1236 - dense_2_acc_5: 0.2500 - dense_2_acc_6: 0.4179 - dense_2_acc_7: 0.5911 - dense_2_acc_8: 0.7375Epoch 00007: val_loss improved from 35.90287 to 35.60029, saving model to main_model_weights.h5\n",
      "2812/2812 [==============================] - 111s - loss: 33.1078 - dense_2_loss_1: 3.7444 - dense_2_loss_2: 5.2877 - dense_2_loss_3: 5.2398 - dense_2_loss_4: 5.4211 - dense_2_loss_5: 4.7602 - dense_2_loss_6: 3.8359 - dense_2_loss_7: 2.8677 - dense_2_loss_8: 1.9510 - dense_2_acc_1: 0.2084 - dense_2_acc_2: 0.1046 - dense_2_acc_3: 0.0982 - dense_2_acc_4: 0.1241 - dense_2_acc_5: 0.2507 - dense_2_acc_6: 0.4182 - dense_2_acc_7: 0.5910 - dense_2_acc_8: 0.7379 - val_loss: 35.6003 - val_dense_2_loss_1: 3.8663 - val_dense_2_loss_2: 5.3612 - val_dense_2_loss_3: 5.8713 - val_dense_2_loss_4: 5.6401 - val_dense_2_loss_5: 6.1220 - val_dense_2_loss_6: 5.2051 - val_dense_2_loss_7: 2.1876 - val_dense_2_loss_8: 1.3468 - val_dense_2_acc_1: 0.2281 - val_dense_2_acc_2: 0.1404 - val_dense_2_acc_3: 0.1228 - val_dense_2_acc_4: 0.1404 - val_dense_2_acc_5: 0.1754 - val_dense_2_acc_6: 0.4035 - val_dense_2_acc_7: 0.7368 - val_dense_2_acc_8: 0.8421\n",
      "Epoch 9/50\n",
      "2800/2812 [============================>.] - ETA: 0s - loss: 32.6251 - dense_2_loss_1: 3.6849 - dense_2_loss_2: 5.2050 - dense_2_loss_3: 5.1681 - dense_2_loss_4: 5.3486 - dense_2_loss_5: 4.6938 - dense_2_loss_6: 3.7777 - dense_2_loss_7: 2.8354 - dense_2_loss_8: 1.9116 - dense_2_acc_1: 0.2146 - dense_2_acc_2: 0.1161 - dense_2_acc_3: 0.1071 - dense_2_acc_4: 0.1254 - dense_2_acc_5: 0.2511 - dense_2_acc_6: 0.4175 - dense_2_acc_7: 0.5914 - dense_2_acc_8: 0.7389Epoch 00008: val_loss did not improve\n",
      "2812/2812 [==============================] - 111s - loss: 32.6247 - dense_2_loss_1: 3.6845 - dense_2_loss_2: 5.2033 - dense_2_loss_3: 5.1665 - dense_2_loss_4: 5.3502 - dense_2_loss_5: 4.6893 - dense_2_loss_6: 3.7784 - dense_2_loss_7: 2.8369 - dense_2_loss_8: 1.9155 - dense_2_acc_1: 0.2141 - dense_2_acc_2: 0.1159 - dense_2_acc_3: 0.1070 - dense_2_acc_4: 0.1252 - dense_2_acc_5: 0.2514 - dense_2_acc_6: 0.4175 - dense_2_acc_7: 0.5910 - dense_2_acc_8: 0.7379 - val_loss: 36.0960 - val_dense_2_loss_1: 3.9772 - val_dense_2_loss_2: 5.3646 - val_dense_2_loss_3: 5.9362 - val_dense_2_loss_4: 5.7350 - val_dense_2_loss_5: 6.2705 - val_dense_2_loss_6: 5.3201 - val_dense_2_loss_7: 2.1452 - val_dense_2_loss_8: 1.3471 - val_dense_2_acc_1: 0.2105 - val_dense_2_acc_2: 0.1228 - val_dense_2_acc_3: 0.1228 - val_dense_2_acc_4: 0.1579 - val_dense_2_acc_5: 0.1754 - val_dense_2_acc_6: 0.4035 - val_dense_2_acc_7: 0.7368 - val_dense_2_acc_8: 0.8421\n",
      "Epoch 10/50\n",
      "2800/2812 [============================>.] - ETA: 0s - loss: 32.2144 - dense_2_loss_1: 3.6463 - dense_2_loss_2: 5.1219 - dense_2_loss_3: 5.0970 - dense_2_loss_4: 5.2774 - dense_2_loss_5: 4.6376 - dense_2_loss_6: 3.7271 - dense_2_loss_7: 2.8038 - dense_2_loss_8: 1.9031 - dense_2_acc_1: 0.2200 - dense_2_acc_2: 0.1171 - dense_2_acc_3: 0.1068 - dense_2_acc_4: 0.1246 - dense_2_acc_5: 0.2507 - dense_2_acc_6: 0.4189 - dense_2_acc_7: 0.5914 - dense_2_acc_8: 0.7382Epoch 00009: val_loss improved from 35.60029 to 35.33552, saving model to main_model_weights.h5\n",
      "2812/2812 [==============================] - 110s - loss: 32.2213 - dense_2_loss_1: 3.6476 - dense_2_loss_2: 5.1242 - dense_2_loss_3: 5.0970 - dense_2_loss_4: 5.2784 - dense_2_loss_5: 4.6367 - dense_2_loss_6: 3.7293 - dense_2_loss_7: 2.8034 - dense_2_loss_8: 1.9048 - dense_2_acc_1: 0.2194 - dense_2_acc_2: 0.1170 - dense_2_acc_3: 0.1063 - dense_2_acc_4: 0.1248 - dense_2_acc_5: 0.2504 - dense_2_acc_6: 0.4186 - dense_2_acc_7: 0.5910 - dense_2_acc_8: 0.7379 - val_loss: 35.3355 - val_dense_2_loss_1: 3.9414 - val_dense_2_loss_2: 5.2551 - val_dense_2_loss_3: 5.7963 - val_dense_2_loss_4: 5.6423 - val_dense_2_loss_5: 6.0323 - val_dense_2_loss_6: 5.1401 - val_dense_2_loss_7: 2.1695 - val_dense_2_loss_8: 1.3585 - val_dense_2_acc_1: 0.1754 - val_dense_2_acc_2: 0.1404 - val_dense_2_acc_3: 0.1053 - val_dense_2_acc_4: 0.1404 - val_dense_2_acc_5: 0.1754 - val_dense_2_acc_6: 0.4035 - val_dense_2_acc_7: 0.7368 - val_dense_2_acc_8: 0.8421\n",
      "Epoch 11/50\n",
      "2800/2812 [============================>.] - ETA: 0s - loss: 31.8654 - dense_2_loss_1: 3.6123 - dense_2_loss_2: 5.0496 - dense_2_loss_3: 5.0239 - dense_2_loss_4: 5.2014 - dense_2_loss_5: 4.5870 - dense_2_loss_6: 3.7064 - dense_2_loss_7: 2.7867 - dense_2_loss_8: 1.8982 - dense_2_acc_1: 0.2171 - dense_2_acc_2: 0.1211 - dense_2_acc_3: 0.1107 - dense_2_acc_4: 0.1250 - dense_2_acc_5: 0.2518 - dense_2_acc_6: 0.4164 - dense_2_acc_7: 0.5900 - dense_2_acc_8: 0.7371Epoch 00010: val_loss did not improve\n",
      "2812/2812 [==============================] - 110s - loss: 31.8510 - dense_2_loss_1: 3.6081 - dense_2_loss_2: 5.0503 - dense_2_loss_3: 5.0262 - dense_2_loss_4: 5.2056 - dense_2_loss_5: 4.5863 - dense_2_loss_6: 3.6997 - dense_2_loss_7: 2.7812 - dense_2_loss_8: 1.8937 - dense_2_acc_1: 0.2176 - dense_2_acc_2: 0.1209 - dense_2_acc_3: 0.1110 - dense_2_acc_4: 0.1245 - dense_2_acc_5: 0.2528 - dense_2_acc_6: 0.4179 - dense_2_acc_7: 0.5910 - dense_2_acc_8: 0.7379 - val_loss: 35.8621 - val_dense_2_loss_1: 3.9215 - val_dense_2_loss_2: 5.2154 - val_dense_2_loss_3: 5.8366 - val_dense_2_loss_4: 5.6666 - val_dense_2_loss_5: 6.3363 - val_dense_2_loss_6: 5.4091 - val_dense_2_loss_7: 2.1515 - val_dense_2_loss_8: 1.3251 - val_dense_2_acc_1: 0.2632 - val_dense_2_acc_2: 0.1754 - val_dense_2_acc_3: 0.1228 - val_dense_2_acc_4: 0.1579 - val_dense_2_acc_5: 0.1754 - val_dense_2_acc_6: 0.4035 - val_dense_2_acc_7: 0.7368 - val_dense_2_acc_8: 0.8421\n",
      "Epoch 12/50\n",
      "2800/2812 [============================>.] - ETA: 0s - loss: 31.4570 - dense_2_loss_1: 3.5595 - dense_2_loss_2: 4.9763 - dense_2_loss_3: 4.9697 - dense_2_loss_4: 5.1532 - dense_2_loss_5: 4.5276 - dense_2_loss_6: 3.6552 - dense_2_loss_7: 2.7512 - dense_2_loss_8: 1.8642 - dense_2_acc_1: 0.2196 - dense_2_acc_2: 0.1239 - dense_2_acc_3: 0.1089 - dense_2_acc_4: 0.1236 - dense_2_acc_5: 0.2507 - dense_2_acc_6: 0.4164 - dense_2_acc_7: 0.5907 - dense_2_acc_8: 0.7379Epoch 00011: val_loss did not improve\n",
      "2812/2812 [==============================] - 111s - loss: 31.4440 - dense_2_loss_1: 3.5571 - dense_2_loss_2: 4.9745 - dense_2_loss_3: 4.9682 - dense_2_loss_4: 5.1499 - dense_2_loss_5: 4.5328 - dense_2_loss_6: 3.6520 - dense_2_loss_7: 2.7478 - dense_2_loss_8: 1.8617 - dense_2_acc_1: 0.2194 - dense_2_acc_2: 0.1248 - dense_2_acc_3: 0.1092 - dense_2_acc_4: 0.1234 - dense_2_acc_5: 0.2500 - dense_2_acc_6: 0.4171 - dense_2_acc_7: 0.5910 - dense_2_acc_8: 0.7379 - val_loss: 35.6440 - val_dense_2_loss_1: 3.9724 - val_dense_2_loss_2: 5.2737 - val_dense_2_loss_3: 5.8407 - val_dense_2_loss_4: 5.6574 - val_dense_2_loss_5: 6.1050 - val_dense_2_loss_6: 5.2478 - val_dense_2_loss_7: 2.1980 - val_dense_2_loss_8: 1.3490 - val_dense_2_acc_1: 0.2281 - val_dense_2_acc_2: 0.1754 - val_dense_2_acc_3: 0.1228 - val_dense_2_acc_4: 0.1579 - val_dense_2_acc_5: 0.1754 - val_dense_2_acc_6: 0.4035 - val_dense_2_acc_7: 0.7368 - val_dense_2_acc_8: 0.8421\n",
      "Epoch 13/50\n",
      "2800/2812 [============================>.] - ETA: 0s - loss: 31.1262 - dense_2_loss_1: 3.5181 - dense_2_loss_2: 4.9053 - dense_2_loss_3: 4.9021 - dense_2_loss_4: 5.0986 - dense_2_loss_5: 4.4968 - dense_2_loss_6: 3.6235 - dense_2_loss_7: 2.7242 - dense_2_loss_8: 1.8576 - dense_2_acc_1: 0.2229 - dense_2_acc_2: 0.1229 - dense_2_acc_3: 0.1143 - dense_2_acc_4: 0.1264 - dense_2_acc_5: 0.2511 - dense_2_acc_6: 0.4189 - dense_2_acc_7: 0.5896 - dense_2_acc_8: 0.7375Epoch 00012: val_loss did not improve\n",
      "2812/2812 [==============================] - 111s - loss: 31.1100 - dense_2_loss_1: 3.5158 - dense_2_loss_2: 4.9098 - dense_2_loss_3: 4.9014 - dense_2_loss_4: 5.0978 - dense_2_loss_5: 4.4915 - dense_2_loss_6: 3.6189 - dense_2_loss_7: 2.7194 - dense_2_loss_8: 1.8554 - dense_2_acc_1: 0.2233 - dense_2_acc_2: 0.1230 - dense_2_acc_3: 0.1142 - dense_2_acc_4: 0.1270 - dense_2_acc_5: 0.2518 - dense_2_acc_6: 0.4196 - dense_2_acc_7: 0.5903 - dense_2_acc_8: 0.7379 - val_loss: 35.8951 - val_dense_2_loss_1: 3.9421 - val_dense_2_loss_2: 5.2457 - val_dense_2_loss_3: 5.8319 - val_dense_2_loss_4: 5.7374 - val_dense_2_loss_5: 6.2998 - val_dense_2_loss_6: 5.4069 - val_dense_2_loss_7: 2.1121 - val_dense_2_loss_8: 1.3193 - val_dense_2_acc_1: 0.2456 - val_dense_2_acc_2: 0.1930 - val_dense_2_acc_3: 0.1228 - val_dense_2_acc_4: 0.1579 - val_dense_2_acc_5: 0.1754 - val_dense_2_acc_6: 0.4035 - val_dense_2_acc_7: 0.7368 - val_dense_2_acc_8: 0.8421\n",
      "Epoch 14/50\n",
      "2800/2812 [============================>.] - ETA: 0s - loss: 30.7002 - dense_2_loss_1: 3.4735 - dense_2_loss_2: 4.8482 - dense_2_loss_3: 4.8289 - dense_2_loss_4: 5.0304 - dense_2_loss_5: 4.4354 - dense_2_loss_6: 3.5575 - dense_2_loss_7: 2.6917 - dense_2_loss_8: 1.8345 - dense_2_acc_1: 0.2268 - dense_2_acc_2: 0.1300 - dense_2_acc_3: 0.1136 - dense_2_acc_4: 0.1264 - dense_2_acc_5: 0.2536 - dense_2_acc_6: 0.4204 - dense_2_acc_7: 0.5907 - dense_2_acc_8: 0.7375Epoch 00013: val_loss did not improve\n",
      "2812/2812 [==============================] - 112s - loss: 30.6961 - dense_2_loss_1: 3.4708 - dense_2_loss_2: 4.8509 - dense_2_loss_3: 4.8269 - dense_2_loss_4: 5.0311 - dense_2_loss_5: 4.4302 - dense_2_loss_6: 3.5646 - dense_2_loss_7: 2.6903 - dense_2_loss_8: 1.8312 - dense_2_acc_1: 0.2269 - dense_2_acc_2: 0.1294 - dense_2_acc_3: 0.1145 - dense_2_acc_4: 0.1266 - dense_2_acc_5: 0.2536 - dense_2_acc_6: 0.4196 - dense_2_acc_7: 0.5910 - dense_2_acc_8: 0.7379 - val_loss: 35.7125 - val_dense_2_loss_1: 3.8912 - val_dense_2_loss_2: 5.1833 - val_dense_2_loss_3: 5.9507 - val_dense_2_loss_4: 5.6881 - val_dense_2_loss_5: 6.2046 - val_dense_2_loss_6: 5.3596 - val_dense_2_loss_7: 2.1316 - val_dense_2_loss_8: 1.3033 - val_dense_2_acc_1: 0.2105 - val_dense_2_acc_2: 0.1930 - val_dense_2_acc_3: 0.1228 - val_dense_2_acc_4: 0.1404 - val_dense_2_acc_5: 0.1754 - val_dense_2_acc_6: 0.4211 - val_dense_2_acc_7: 0.7368 - val_dense_2_acc_8: 0.8421\n",
      "Epoch 15/50\n",
      "2800/2812 [============================>.] - ETA: 0s - loss: 30.3161 - dense_2_loss_1: 3.4344 - dense_2_loss_2: 4.7830 - dense_2_loss_3: 4.7730 - dense_2_loss_4: 4.9679 - dense_2_loss_5: 4.3726 - dense_2_loss_6: 3.5301 - dense_2_loss_7: 2.6483 - dense_2_loss_8: 1.8069 - dense_2_acc_1: 0.2311 - dense_2_acc_2: 0.1282 - dense_2_acc_3: 0.1143 - dense_2_acc_4: 0.1289 - dense_2_acc_5: 0.2543 - dense_2_acc_6: 0.4214 - dense_2_acc_7: 0.5914 - dense_2_acc_8: 0.7379Epoch 00014: val_loss did not improve\n",
      "2812/2812 [==============================] - 112s - loss: 30.3286 - dense_2_loss_1: 3.4334 - dense_2_loss_2: 4.7826 - dense_2_loss_3: 4.7729 - dense_2_loss_4: 4.9673 - dense_2_loss_5: 4.3718 - dense_2_loss_6: 3.5361 - dense_2_loss_7: 2.6533 - dense_2_loss_8: 1.8110 - dense_2_acc_1: 0.2315 - dense_2_acc_2: 0.1287 - dense_2_acc_3: 0.1142 - dense_2_acc_4: 0.1287 - dense_2_acc_5: 0.2543 - dense_2_acc_6: 0.4207 - dense_2_acc_7: 0.5907 - dense_2_acc_8: 0.7372 - val_loss: 35.8204 - val_dense_2_loss_1: 3.8227 - val_dense_2_loss_2: 5.1716 - val_dense_2_loss_3: 5.9550 - val_dense_2_loss_4: 5.8265 - val_dense_2_loss_5: 6.2641 - val_dense_2_loss_6: 5.2516 - val_dense_2_loss_7: 2.1944 - val_dense_2_loss_8: 1.3345 - val_dense_2_acc_1: 0.2105 - val_dense_2_acc_2: 0.1754 - val_dense_2_acc_3: 0.1228 - val_dense_2_acc_4: 0.1404 - val_dense_2_acc_5: 0.1930 - val_dense_2_acc_6: 0.4211 - val_dense_2_acc_7: 0.7368 - val_dense_2_acc_8: 0.8421\n",
      "Epoch 16/50\n",
      "2800/2812 [============================>.] - ETA: 0s - loss: 29.9818 - dense_2_loss_1: 3.3862 - dense_2_loss_2: 4.7234 - dense_2_loss_3: 4.7227 - dense_2_loss_4: 4.9005 - dense_2_loss_5: 4.3335 - dense_2_loss_6: 3.4902 - dense_2_loss_7: 2.6313 - dense_2_loss_8: 1.7940 - dense_2_acc_1: 0.2329 - dense_2_acc_2: 0.1286 - dense_2_acc_3: 0.1168 - dense_2_acc_4: 0.1311 - dense_2_acc_5: 0.2546 - dense_2_acc_6: 0.4204 - dense_2_acc_7: 0.5918 - dense_2_acc_8: 0.7379Epoch 00015: val_loss did not improve\n",
      "2812/2812 [==============================] - 111s - loss: 29.9944 - dense_2_loss_1: 3.3860 - dense_2_loss_2: 4.7243 - dense_2_loss_3: 4.7217 - dense_2_loss_4: 4.9017 - dense_2_loss_5: 4.3357 - dense_2_loss_6: 3.4904 - dense_2_loss_7: 2.6368 - dense_2_loss_8: 1.7978 - dense_2_acc_1: 0.2333 - dense_2_acc_2: 0.1287 - dense_2_acc_3: 0.1170 - dense_2_acc_4: 0.1305 - dense_2_acc_5: 0.2543 - dense_2_acc_6: 0.4200 - dense_2_acc_7: 0.5914 - dense_2_acc_8: 0.7376 - val_loss: 35.6684 - val_dense_2_loss_1: 3.9718 - val_dense_2_loss_2: 5.1572 - val_dense_2_loss_3: 5.7528 - val_dense_2_loss_4: 5.7149 - val_dense_2_loss_5: 6.0902 - val_dense_2_loss_6: 5.2679 - val_dense_2_loss_7: 2.2473 - val_dense_2_loss_8: 1.4663 - val_dense_2_acc_1: 0.2456 - val_dense_2_acc_2: 0.1930 - val_dense_2_acc_3: 0.1228 - val_dense_2_acc_4: 0.1404 - val_dense_2_acc_5: 0.1930 - val_dense_2_acc_6: 0.4211 - val_dense_2_acc_7: 0.7368 - val_dense_2_acc_8: 0.8421\n",
      "Epoch 17/50\n",
      "2800/2812 [============================>.] - ETA: 0s - loss: 29.6328 - dense_2_loss_1: 3.3541 - dense_2_loss_2: 4.6642 - dense_2_loss_3: 4.6728 - dense_2_loss_4: 4.8554 - dense_2_loss_5: 4.2816 - dense_2_loss_6: 3.4487 - dense_2_loss_7: 2.5907 - dense_2_loss_8: 1.7653 - dense_2_acc_1: 0.2368 - dense_2_acc_2: 0.1318 - dense_2_acc_3: 0.1186 - dense_2_acc_4: 0.1304 - dense_2_acc_5: 0.2554 - dense_2_acc_6: 0.4218 - dense_2_acc_7: 0.5914 - dense_2_acc_8: 0.7379Epoch 00016: val_loss did not improve\n",
      "2812/2812 [==============================] - 111s - loss: 29.6325 - dense_2_loss_1: 3.3514 - dense_2_loss_2: 4.6633 - dense_2_loss_3: 4.6716 - dense_2_loss_4: 4.8587 - dense_2_loss_5: 4.2850 - dense_2_loss_6: 3.4501 - dense_2_loss_7: 2.5891 - dense_2_loss_8: 1.7633 - dense_2_acc_1: 0.2372 - dense_2_acc_2: 0.1323 - dense_2_acc_3: 0.1188 - dense_2_acc_4: 0.1302 - dense_2_acc_5: 0.2550 - dense_2_acc_6: 0.4214 - dense_2_acc_7: 0.5914 - dense_2_acc_8: 0.7379 - val_loss: 36.0989 - val_dense_2_loss_1: 3.9350 - val_dense_2_loss_2: 5.3342 - val_dense_2_loss_3: 5.8758 - val_dense_2_loss_4: 5.8514 - val_dense_2_loss_5: 6.2647 - val_dense_2_loss_6: 5.3664 - val_dense_2_loss_7: 2.1407 - val_dense_2_loss_8: 1.3306 - val_dense_2_acc_1: 0.2456 - val_dense_2_acc_2: 0.1930 - val_dense_2_acc_3: 0.1228 - val_dense_2_acc_4: 0.1579 - val_dense_2_acc_5: 0.1754 - val_dense_2_acc_6: 0.4211 - val_dense_2_acc_7: 0.7368 - val_dense_2_acc_8: 0.8421\n",
      "Epoch 18/50\n",
      "2800/2812 [============================>.] - ETA: 0s - loss: 29.2731 - dense_2_loss_1: 3.3229 - dense_2_loss_2: 4.6067 - dense_2_loss_3: 4.5955 - dense_2_loss_4: 4.7991 - dense_2_loss_5: 4.2253 - dense_2_loss_6: 3.4130 - dense_2_loss_7: 2.5580 - dense_2_loss_8: 1.7526 - dense_2_acc_1: 0.2386 - dense_2_acc_2: 0.1314 - dense_2_acc_3: 0.1257 - dense_2_acc_4: 0.1304 - dense_2_acc_5: 0.2586 - dense_2_acc_6: 0.4239 - dense_2_acc_7: 0.5911 - dense_2_acc_8: 0.7368Epoch 00017: val_loss did not improve\n",
      "2812/2812 [==============================] - 111s - loss: 29.2693 - dense_2_loss_1: 3.3216 - dense_2_loss_2: 4.6068 - dense_2_loss_3: 4.5953 - dense_2_loss_4: 4.7965 - dense_2_loss_5: 4.2260 - dense_2_loss_6: 3.4157 - dense_2_loss_7: 2.5586 - dense_2_loss_8: 1.7488 - dense_2_acc_1: 0.2386 - dense_2_acc_2: 0.1312 - dense_2_acc_3: 0.1259 - dense_2_acc_4: 0.1305 - dense_2_acc_5: 0.2578 - dense_2_acc_6: 0.4235 - dense_2_acc_7: 0.5914 - dense_2_acc_8: 0.7376 - val_loss: 36.4963 - val_dense_2_loss_1: 3.9256 - val_dense_2_loss_2: 5.1502 - val_dense_2_loss_3: 5.9863 - val_dense_2_loss_4: 5.9626 - val_dense_2_loss_5: 6.4576 - val_dense_2_loss_6: 5.5245 - val_dense_2_loss_7: 2.1555 - val_dense_2_loss_8: 1.3341 - val_dense_2_acc_1: 0.2281 - val_dense_2_acc_2: 0.1930 - val_dense_2_acc_3: 0.1228 - val_dense_2_acc_4: 0.1228 - val_dense_2_acc_5: 0.1930 - val_dense_2_acc_6: 0.4211 - val_dense_2_acc_7: 0.7368 - val_dense_2_acc_8: 0.8421\n",
      "Epoch 19/50\n",
      "2800/2812 [============================>.] - ETA: 0s - loss: 28.9584 - dense_2_loss_1: 3.2726 - dense_2_loss_2: 4.5554 - dense_2_loss_3: 4.5539 - dense_2_loss_4: 4.7337 - dense_2_loss_5: 4.1775 - dense_2_loss_6: 3.3829 - dense_2_loss_7: 2.5443 - dense_2_loss_8: 1.7382 - dense_2_acc_1: 0.2432 - dense_2_acc_2: 0.1350 - dense_2_acc_3: 0.1250 - dense_2_acc_4: 0.1296 - dense_2_acc_5: 0.2543 - dense_2_acc_6: 0.4221 - dense_2_acc_7: 0.5900 - dense_2_acc_8: 0.7371Epoch 00018: val_loss did not improve\n",
      "2812/2812 [==============================] - 112s - loss: 28.9373 - dense_2_loss_1: 3.2728 - dense_2_loss_2: 4.5550 - dense_2_loss_3: 4.5516 - dense_2_loss_4: 4.7333 - dense_2_loss_5: 4.1768 - dense_2_loss_6: 3.3774 - dense_2_loss_7: 2.5374 - dense_2_loss_8: 1.7330 - dense_2_acc_1: 0.2429 - dense_2_acc_2: 0.1355 - dense_2_acc_3: 0.1252 - dense_2_acc_4: 0.1302 - dense_2_acc_5: 0.2543 - dense_2_acc_6: 0.4232 - dense_2_acc_7: 0.5914 - dense_2_acc_8: 0.7379 - val_loss: 36.5110 - val_dense_2_loss_1: 3.9150 - val_dense_2_loss_2: 5.1888 - val_dense_2_loss_3: 5.9317 - val_dense_2_loss_4: 5.9068 - val_dense_2_loss_5: 6.5799 - val_dense_2_loss_6: 5.5607 - val_dense_2_loss_7: 2.1405 - val_dense_2_loss_8: 1.2876 - val_dense_2_acc_1: 0.2456 - val_dense_2_acc_2: 0.2281 - val_dense_2_acc_3: 0.1228 - val_dense_2_acc_4: 0.1404 - val_dense_2_acc_5: 0.1754 - val_dense_2_acc_6: 0.4211 - val_dense_2_acc_7: 0.7368 - val_dense_2_acc_8: 0.8421\n",
      "Epoch 20/50\n",
      "2800/2812 [============================>.] - ETA: 0s - loss: 28.5920 - dense_2_loss_1: 3.2375 - dense_2_loss_2: 4.4961 - dense_2_loss_3: 4.4993 - dense_2_loss_4: 4.6798 - dense_2_loss_5: 4.1218 - dense_2_loss_6: 3.3431 - dense_2_loss_7: 2.5099 - dense_2_loss_8: 1.7045 - dense_2_acc_1: 0.2486 - dense_2_acc_2: 0.1371 - dense_2_acc_3: 0.1271 - dense_2_acc_4: 0.1279 - dense_2_acc_5: 0.2579 - dense_2_acc_6: 0.4225 - dense_2_acc_7: 0.5921 - dense_2_acc_8: 0.7382Epoch 00019: val_loss did not improve\n",
      "2812/2812 [==============================] - 111s - loss: 28.6061 - dense_2_loss_1: 3.2357 - dense_2_loss_2: 4.5004 - dense_2_loss_3: 4.4955 - dense_2_loss_4: 4.6811 - dense_2_loss_5: 4.1261 - dense_2_loss_6: 3.3427 - dense_2_loss_7: 2.5112 - dense_2_loss_8: 1.7134 - dense_2_acc_1: 0.2482 - dense_2_acc_2: 0.1366 - dense_2_acc_3: 0.1273 - dense_2_acc_4: 0.1277 - dense_2_acc_5: 0.2578 - dense_2_acc_6: 0.4225 - dense_2_acc_7: 0.5917 - dense_2_acc_8: 0.7372 - val_loss: 35.8715 - val_dense_2_loss_1: 3.9351 - val_dense_2_loss_2: 5.1253 - val_dense_2_loss_3: 5.7953 - val_dense_2_loss_4: 5.9304 - val_dense_2_loss_5: 6.3259 - val_dense_2_loss_6: 5.2452 - val_dense_2_loss_7: 2.1891 - val_dense_2_loss_8: 1.3251 - val_dense_2_acc_1: 0.2456 - val_dense_2_acc_2: 0.2281 - val_dense_2_acc_3: 0.1228 - val_dense_2_acc_4: 0.1228 - val_dense_2_acc_5: 0.1754 - val_dense_2_acc_6: 0.4211 - val_dense_2_acc_7: 0.7368 - val_dense_2_acc_8: 0.8246\n",
      "Epoch 21/50\n",
      " 600/2812 [=====>........................] - ETA: 88s - loss: 28.3421 - dense_2_loss_1: 3.2038 - dense_2_loss_2: 4.4184 - dense_2_loss_3: 4.6086 - dense_2_loss_4: 4.5219 - dense_2_loss_5: 4.1260 - dense_2_loss_6: 3.4284 - dense_2_loss_7: 2.4486 - dense_2_loss_8: 1.5864 - dense_2_acc_1: 0.2583 - dense_2_acc_2: 0.1450 - dense_2_acc_3: 0.1017 - dense_2_acc_4: 0.1267 - dense_2_acc_5: 0.2450 - dense_2_acc_6: 0.4083 - dense_2_acc_7: 0.6000 - dense_2_acc_8: 0.7517"
     ]
    }
   ],
   "source": [
    "from keras.callbacks import ModelCheckpoint\n",
    "checkpoint = ModelCheckpoint('main_model_weights.h5', monitor='val_loss', verbose=1, save_best_only=True, mode='auto',save_weights_only=True)\n",
    "model.fit(trainX, trainY, epochs=50, batch_size=20, validation_data=(testX, testY), callbacks=[checkpoint])\n",
    "#Hoping to save model without errors.\n",
    "model.save('main_model.h5')\n",
    "model.save_weights('final_model_weights.h5')"
   ]
  },
  {
   "cell_type": "markdown",
   "metadata": {},
   "source": [
    "Let's now fit the model and run it for one epoch."
   ]
  },
  {
   "cell_type": "code",
   "execution_count": null,
   "metadata": {},
   "outputs": [],
   "source": [
    "#All data model.\n",
    "#model.fit([Xoh, s0, c0], outputs, epochs=10000, batch_size=20)\n",
    "#model.save_weights('model_weights.h5')"
   ]
  },
  {
   "cell_type": "markdown",
   "metadata": {},
   "source": [
    "While training you can see the loss as well as the accuracy on each of the 10 positions of the output. The table below gives you an example of what the accuracies could be if the batch had 2 examples: \n",
    "\n",
    "<img src=\"images/table.png\" style=\"width:700;height:200px;\"> <br>\n",
    "<caption><center>Thus, `dense_2_acc_8: 0.89` means that you are predicting the 7th character of the output correctly 89% of the time in the current batch of data. </center></caption>\n",
    "\n",
    "\n",
    "We have run this model for longer, and saved the weights. Run the next cell to load our weights. (By training a model for several minutes, you should be able to obtain a model of similar accuracy, but loading our model will save you time.) "
   ]
  },
  {
   "cell_type": "code",
   "execution_count": null,
   "metadata": {},
   "outputs": [],
   "source": [
    "# model.load_weights('models/model.h5')"
   ]
  },
  {
   "cell_type": "code",
   "execution_count": null,
   "metadata": {},
   "outputs": [],
   "source": [
    "from keras.models import load_model\n",
    "loaded_model.load_weights('main_model_weights.h5')"
   ]
  },
  {
   "cell_type": "markdown",
   "metadata": {},
   "source": [
    "You can now see the results on new examples."
   ]
  },
  {
   "cell_type": "code",
   "execution_count": null,
   "metadata": {},
   "outputs": [],
   "source": [
    "#EXAMPLES = ['3 May 1979', '5 April 09', '21th of August 2016', 'Tue 10 Jul 2007', 'Saturday May 9 2018', 'March 3 2001', 'March 3rd 2001', '1 March 2001']\n",
    "EXAMPLES=hindi_sentences_list[0:8]\n",
    "true_test=\"हमने खरीदी\"\n",
    "EXAMPLES.append(true_test)\n",
    "EXAMPLES"
   ]
  },
  {
   "cell_type": "code",
   "execution_count": null,
   "metadata": {},
   "outputs": [],
   "source": [
    "EXAMPLES_CODED=get_padded_encoding(EXAMPLES,hindi_dictionary,average_hindi_sentence_size)\n",
    "print(EXAMPLES_CODED,EXAMPLES_CODED.shape,hindi_encoding.shape)"
   ]
  },
  {
   "cell_type": "code",
   "execution_count": null,
   "metadata": {},
   "outputs": [],
   "source": [
    "hindi_encoding"
   ]
  },
  {
   "cell_type": "code",
   "execution_count": null,
   "metadata": {},
   "outputs": [],
   "source": [
    "print(i,hindi_encoding.shape,EXAMPLES_CODED.shape)\n",
    "i=0\n",
    "print(i)\n",
    "source_wvec=sentences_to_w2vec(EXAMPLES_CODED,revere_dictionary_hindi,hindi_model)\n",
    "#np.reshape(a, (2, 3))\n",
    "print(np.reshape(source_wvec[0],(1,source_wvec[0].shape[0],source_wvec[0].shape[1])).shape)\n",
    "source=np.reshape(source_wvec[0],(1,source_wvec[0].shape[0],source_wvec[0].shape[1]))\n",
    "prediction = model.predict([source,train_s0, train_c0])\n",
    "prediction[1].shape\n",
    "np.argmax(prediction, axis = -1)"
   ]
  },
  {
   "cell_type": "code",
   "execution_count": null,
   "metadata": {},
   "outputs": [],
   "source": [
    ">>> a = np.arange(6).reshape(2,3)\n",
    ">>> a\n",
    "array([[0, 1, 2],\n",
    "       [3, 4, 5]])\n",
    ">>> np.argmax(a)\n",
    "5\n",
    ">>> np.argmax(a, axis=0)\n",
    "array([1, 1, 1])\n",
    ">>> np.argmax(a, axis=1)\n",
    "array([2, 2])\n",
    "np.argmax(a, axis=-1)"
   ]
  },
  {
   "cell_type": "code",
   "execution_count": null,
   "metadata": {},
   "outputs": [],
   "source": [
    "i=0\n",
    "for example in EXAMPLES_CODED:\n",
    "    iteration=i+1\n",
    "    source = example\n",
    "    source = np.array(list(map(lambda x: to_categorical(x, num_classes=len(hindi_dictionary)), source))).swapaxes(0,1)\n",
    "    print(source.shape)\n",
    "    prediction = loaded_model.predict([source,train_s0, train_c0])\n",
    "    #print (\"Prediction, Type & Shape:\",prediction,type(prediction),len(prediction))\n",
    "    prediction = np.argmax(prediction, axis = -1)\n",
    "    #print (\"Prediction, After Argmax:\",prediction)\n",
    "    output = [revere_dictionary_english[int(i)] for i in prediction]\n",
    "    print(\"\\n ##### \\n\")\n",
    "    print(\"Hindi\",EXAMPLES[i])\n",
    "    if (iteration!=EXAMPLES_CODED.shape[0]):\n",
    "        print(\"Expected:\",english_sentences_list[i])\n",
    "    print(\"Predicted output:\", ' '.join(output))\n",
    "    #print (\"Prediction:\",list(prediction))\n",
    "    i=i+1"
   ]
  },
  {
   "cell_type": "markdown",
   "metadata": {},
   "source": [
    "You can also change these examples to test with your own examples. The next part will give you a better sense on what the attention mechanism is doing--i.e., what part of the input the network is paying attention to when generating a particular output character. "
   ]
  },
  {
   "cell_type": "markdown",
   "metadata": {},
   "source": [
    "## 3 - Visualizing Attention (Optional / Ungraded)\n",
    "\n",
    "Since the problem has a fixed output length of 10, it is also possible to carry out this task using 10 different softmax units to generate the 10 characters of the output. But one advantage of the attention model is that each part of the output (say the month) knows it needs to depend only on a small part of the input (the characters in the input giving the month). We can  visualize what part of the output is looking at what part of the input.\n",
    "\n",
    "Consider the task of translating \"Saturday 9 May 2018\" to \"2018-05-09\". If we visualize the computed $\\alpha^{\\langle t, t' \\rangle}$ we get this: \n",
    "\n",
    "<img src=\"images/date_attention.png\" style=\"width:600;height:300px;\"> <br>\n",
    "<caption><center> **Figure 8**: Full Attention Map</center></caption>\n",
    "\n",
    "Notice how the output ignores the \"Saturday\" portion of the input. None of the output timesteps are paying much attention to that portion of the input. We see also that 9 has been translated as 09 and May has been correctly translated into 05, with the output paying attention to the parts of the input it needs to to make the translation. The year mostly requires it to pay attention to the input's \"18\" in order to generate \"2018.\" \n",
    "\n"
   ]
  },
  {
   "cell_type": "markdown",
   "metadata": {},
   "source": [
    "### 3.1 - Getting the activations from the network\n",
    "\n",
    "Lets now visualize the attention values in your network. We'll propagate an example through the network, then visualize the values of $\\alpha^{\\langle t, t' \\rangle}$. \n",
    "\n",
    "To figure out where the attention values are located, let's start by printing a summary of the model ."
   ]
  },
  {
   "cell_type": "code",
   "execution_count": null,
   "metadata": {},
   "outputs": [],
   "source": [
    "model.summary()"
   ]
  },
  {
   "cell_type": "markdown",
   "metadata": {},
   "source": [
    "Navigate through the output of `model.summary()` above. You can see that the layer named `attention_weights` outputs the `alphas` of shape (m, 30, 1) before `dot_2` computes the context vector for every time step $t = 0, \\ldots, T_y-1$. Lets get the activations from this layer.\n",
    "\n",
    "The function `attention_map()` pulls out the attention values from your model and plots them."
   ]
  },
  {
   "cell_type": "code",
   "execution_count": null,
   "metadata": {},
   "outputs": [],
   "source": [
    "test_sentence=str(hindi_sentences_list[1])"
   ]
  },
  {
   "cell_type": "code",
   "execution_count": null,
   "metadata": {
    "scrolled": false
   },
   "outputs": [],
   "source": [
    "attention_map = plot_attention_map(model, hindi_dictionary, revere_dictionary_english, test_sentence, num = 6, n_s = 128)"
   ]
  },
  {
   "cell_type": "markdown",
   "metadata": {},
   "source": [
    "On the generated plot you can observe the values of the attention weights for each character of the predicted output. Examine this plot and check that where the network is paying attention makes sense to you.\n",
    "\n",
    "In the date translation application, you will observe that most of the time attention helps predict the year, and hasn't much impact on predicting the day/month."
   ]
  },
  {
   "cell_type": "markdown",
   "metadata": {},
   "source": [
    "### Congratulations!\n",
    "\n",
    "\n",
    "You have come to the end of this assignment \n",
    "\n",
    "<font color='blue'> **Here's what you should remember from this notebook**:\n",
    "\n",
    "- Machine translation models can be used to map from one sequence to another. They are useful not just for translating human languages (like French->English) but also for tasks like date format translation. \n",
    "- An attention mechanism allows a network to focus on the most relevant parts of the input when producing a specific part of the output. \n",
    "- A network using an attention mechanism can translate from inputs of length $T_x$ to outputs of length $T_y$, where $T_x$ and $T_y$ can be different. \n",
    "- You can visualize attention weights $\\alpha^{\\langle t,t' \\rangle}$ to see what the network is paying attention to while generating each output."
   ]
  },
  {
   "cell_type": "markdown",
   "metadata": {},
   "source": [
    "Congratulations on finishing this assignment! You are now able to implement an attention model and use it to learn complex mappings from one sequence to another. "
   ]
  }
 ],
 "metadata": {
  "coursera": {
   "course_slug": "nlp-sequence-models",
   "graded_item_id": "n16CQ",
   "launcher_item_id": "npjGi"
  },
  "kernelspec": {
   "display_name": "Python 3.5 with Spark 1.6 (Unsupported)",
   "language": "python",
   "name": "python3"
  },
  "language_info": {
   "codemirror_mode": {
    "name": "ipython",
    "version": 3
   },
   "file_extension": ".py",
   "mimetype": "text/x-python",
   "name": "python",
   "nbconvert_exporter": "python",
   "pygments_lexer": "ipython3",
   "version": "3.5.4"
  }
 },
 "nbformat": 4,
 "nbformat_minor": 2
}
