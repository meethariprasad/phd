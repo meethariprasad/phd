{
 "cells": [
  {
   "cell_type": "markdown",
   "metadata": {},
   "source": [
    "# Neural Machine Translation\n",
    "\n",
    "Welcome to your first programming assignment for this week! \n",
    "\n",
    "You will build a Neural Machine Translation (NMT) model to translate human readable dates (\"25th of June, 2009\") into machine readable dates (\"2009-06-25\"). You will do this using an attention model, one of the most sophisticated sequence to sequence models. \n",
    "\n",
    "This notebook was produced together with NVIDIA's Deep Learning Institute. \n",
    "\n",
    "Let's load all the packages you will need for this assignment."
   ]
  },
  {
   "cell_type": "code",
   "execution_count": 1,
   "metadata": {},
   "outputs": [
    {
     "name": "stderr",
     "output_type": "stream",
     "text": [
      "Using TensorFlow backend.\n"
     ]
    }
   ],
   "source": [
    "from keras.layers import Bidirectional, Concatenate, Permute, Dot, Input, LSTM, Multiply\n",
    "from keras.layers import RepeatVector, Dense, Activation, Lambda\n",
    "from keras.optimizers import Adam\n",
    "from keras.utils import to_categorical\n",
    "from keras.models import load_model, Model\n",
    "import keras.backend as K\n",
    "import numpy as np\n",
    "\n",
    "from faker import Faker\n",
    "import random\n",
    "from tqdm import tqdm\n",
    "from babel.dates import format_date\n",
    "from nmt_utils import *\n",
    "import matplotlib.pyplot as plt\n",
    "%matplotlib inline"
   ]
  },
  {
   "cell_type": "markdown",
   "metadata": {},
   "source": [
    "## 1 - Translating human readable dates into machine readable dates\n",
    "\n",
    "The model you will build here could be used to translate from one language to another, such as translating from English to Hindi. However, language translation requires massive datasets and usually takes days of training on GPUs. To give you a place to experiment with these models even without using massive datasets, we will instead use a simpler \"date translation\" task. \n",
    "\n",
    "The network will input a date written in a variety of possible formats (*e.g. \"the 29th of August 1958\", \"03/30/1968\", \"24 JUNE 1987\"*) and translate them into standardized, machine readable dates (*e.g. \"1958-08-29\", \"1968-03-30\", \"1987-06-24\"*). We will have the network learn to output dates in the common machine-readable format YYYY-MM-DD. \n",
    "\n",
    "\n",
    "\n",
    "<!-- \n",
    "Take a look at [nmt_utils.py](./nmt_utils.py) to see all the formatting. Count and figure out how the formats work, you will need this knowledge later. !--> "
   ]
  },
  {
   "cell_type": "markdown",
   "metadata": {},
   "source": [
    "### 1.1 - Dataset\n",
    "\n",
    "We will train the model on a dataset of 10000 human readable dates and their equivalent, standardized, machine readable dates. Let's run the following cells to load the dataset and print some examples. "
   ]
  },
  {
   "cell_type": "code",
   "execution_count": 2,
   "metadata": {},
   "outputs": [],
   "source": [
    "#m = 10000\n",
    "#dataset, human_vocab, machine_vocab, inv_machine_vocab = load_dataset(m)"
   ]
  },
  {
   "cell_type": "code",
   "execution_count": 3,
   "metadata": {},
   "outputs": [
    {
     "data": {
      "text/plain": [
       "['english-hindi-train.pkl',\n",
       " 'english-german.pkl',\n",
       " 'enghindi.txt',\n",
       " 'english-hindi.pkl',\n",
       " 'model.h5',\n",
       " 'english-german-train.pkl',\n",
       " 'images',\n",
       " 'hin.txt',\n",
       " 'english-hindi-both.pkl',\n",
       " 'nmt_utils.py',\n",
       " 'english-german-both.pkl',\n",
       " 'english-hindi-test.pkl',\n",
       " '__pycache__',\n",
       " 'Neural+machine+translation+with+attention+-+v4.ipynb',\n",
       " 'english-german-test.pkl',\n",
       " '_about.txt']"
      ]
     },
     "execution_count": 3,
     "metadata": {},
     "output_type": "execute_result"
    }
   ],
   "source": [
    "import requests, zipfile, io\n",
    "#https://github.com/meethariprasad/phd/raw/master/assignments/NLP/Translation/hin.zip\n",
    "r = requests.get(\"http://www.manythings.org/anki/hin-eng.zip\")\n",
    "z = zipfile.ZipFile(io.BytesIO(r.content))\n",
    "z.extractall()\n",
    "os.listdir()"
   ]
  },
  {
   "cell_type": "code",
   "execution_count": 4,
   "metadata": {},
   "outputs": [],
   "source": [
    "file=open(\"hin.txt\",'r',encoding='utf-8')\n",
    "content=file.read()\n",
    "file.close()"
   ]
  },
  {
   "cell_type": "code",
   "execution_count": 5,
   "metadata": {},
   "outputs": [
    {
     "name": "stdout",
     "output_type": "stream",
     "text": [
      "Number of clean pairs 2867\n",
      "Saved: english-german.pkl\n",
      "[Help] => [बचाओ]\n",
      "[Jump] => [उछलो]\n",
      "[Jump] => [कूदो]\n",
      "[Jump] => [छलांग]\n",
      "[Hello] => [नमस्ते]\n",
      "[Hello] => [नमस्कार]\n",
      "[Cheers] => [वाहवाह]\n",
      "[Cheers] => [चियर्स]\n",
      "[Got it] => [समझे कि नहीं]\n",
      "[Im OK] => [मैं ठीक हूँ]\n"
     ]
    }
   ],
   "source": [
    "import string\n",
    "import re\n",
    "from pickle import dump\n",
    "from unicodedata import normalize\n",
    "from numpy import array\n",
    "\n",
    "# load doc into memory\n",
    "def load_doc(filename):\n",
    "\t# open the file as read only\n",
    "\tfile = open(filename, mode='rt', encoding='utf-8')\n",
    "\t# read all text\n",
    "\ttext = file.read()\n",
    "\t# close the file\n",
    "\tfile.close()\n",
    "\treturn text\n",
    "\n",
    "# split a loaded document into sentences\n",
    "def to_pairs(doc):\n",
    "\tlines = doc.strip().split('\\n')\n",
    "\tpairs = [line.split('\\t') for line in  lines]\n",
    "\treturn pairs\n",
    "\n",
    "# clean a list of lines\n",
    "def clean_pairs(lines):\n",
    "\tcleaned = list()\n",
    "\t# prepare regex for char filtering\n",
    "\tre_punc = re.compile('[।%s]' % re.escape(string.punctuation))\n",
    "\tre_print = re.compile('[^%s]' % re.escape(string.printable))\n",
    "\tfor pair in lines:\n",
    "\t\tclean_pair = list()\n",
    "\t\tfor line in pair:\n",
    "\t\t\t# tokenize on white space\n",
    "\t\t\tline = line.split()\n",
    "\t\t\t# remove punctuation from each token\n",
    "\t\t\tline = [re_punc.sub('', w) for w in line]\n",
    "\t\t\t# remove tokens with numbers in them\n",
    "\t\t\t#line = [word for word in line if word.isalpha()]\n",
    "\t\t\t#line=re.sub('[।]', '', line)\n",
    "\t\t\t# store as string\n",
    "\t\t\tclean_pair.append(' '.join(line))\n",
    "\t\tcleaned.append(clean_pair)\n",
    "\treturn array(cleaned)\n",
    "\n",
    "# save a list of clean sentences to file\n",
    "def save_clean_data(sentences, filename):\n",
    "\tdump(sentences, open(filename, 'wb'))\n",
    "\tprint('Saved: %s' % filename)\n",
    "\n",
    "# load dataset\n",
    "filename = 'hin.txt'\n",
    "doc = load_doc(filename)\n",
    "# split into english-german pairs\n",
    "pairs = to_pairs(doc)\n",
    "# clean sentences\n",
    "clean_pairs = clean_pairs(pairs)\n",
    "# save clean pairs to file\n",
    "print (\"Number of clean pairs\",clean_pairs.shape[0])\n",
    "save_clean_data(clean_pairs, 'english-german.pkl')\n",
    "# spot check\n",
    "for i in range(10):\n",
    "\tprint('[%s] => [%s]' % (clean_pairs[i,0], clean_pairs[i,1]))"
   ]
  },
  {
   "cell_type": "code",
   "execution_count": 6,
   "metadata": {},
   "outputs": [
    {
     "name": "stdout",
     "output_type": "stream",
     "text": [
      "2867\n",
      "Saved: english-german-both.pkl\n",
      "Saved: english-german-train.pkl\n",
      "Saved: english-german-test.pkl\n"
     ]
    }
   ],
   "source": [
    "from pickle import load\n",
    "from pickle import dump\n",
    "from numpy.random import shuffle\n",
    "\n",
    "# load a clean dataset\n",
    "def load_clean_sentences(filename):\n",
    "\treturn load(open(filename, 'rb'))\n",
    "\n",
    "# save a list of clean sentences to file\n",
    "def save_clean_data(sentences, filename):\n",
    "\tdump(sentences, open(filename, 'wb'))\n",
    "\tprint('Saved: %s' % filename)\n",
    "\n",
    "# load dataset\n",
    "raw_dataset = load_clean_sentences('english-german.pkl')\n",
    "\n",
    "# reduce dataset size\n",
    "n_sentences = raw_dataset.shape[0]\n",
    "print (n_sentences)\n",
    "dataset = raw_dataset[:n_sentences, :]\n",
    "# random shuffle\n",
    "shuffle(dataset)\n",
    "# split into train/test\n",
    "train, test = dataset[:2800], dataset[2800:]\n",
    "# save\n",
    "save_clean_data(dataset, 'english-german-both.pkl')\n",
    "save_clean_data(train, 'english-german-train.pkl')\n",
    "save_clean_data(test, 'english-german-test.pkl')"
   ]
  },
  {
   "cell_type": "code",
   "execution_count": 7,
   "metadata": {},
   "outputs": [
    {
     "data": {
      "text/plain": [
       "array([['He told me where to go', 'उसने मुझे बताया कहाँ जाना है'],\n",
       "       ['He went to New York on Monday', 'वह सोमवार को न्यूयॉर्क चला गया'],\n",
       "       ['His clothes always smell bad', 'उसके कपड़े हमेशा बदबू करतें हैं'],\n",
       "       ['We are happy', 'हम खुश हैं'],\n",
       "       ['Excuse me Im lost', 'माफ़ कीजिएगा मैं खो गई हूँ'],\n",
       "       ['If I had known her address I would have written to her',\n",
       "        'अगर मुझे उसका पता पता होता तो मैंने उसे चिट्ठी लिखी हुई होती'],\n",
       "       ['The old farmer did not pay him much money',\n",
       "        'वह बूढ़ा किसान उसको बहुत पैसे नहीं देता था'],\n",
       "       ['Im willing to help you if you want me to',\n",
       "        'अगर तुम मदद चाह्ते हो तो मैं मदद करने के लिए तैयार हूँ'],\n",
       "       ['Its for free', 'यह मुफ़्त है'],\n",
       "       ['Dont open your book', 'अपनी किताब मत खोलो']],\n",
       "      dtype='<U121')"
      ]
     },
     "execution_count": 7,
     "metadata": {},
     "output_type": "execute_result"
    }
   ],
   "source": [
    "dataset[:10]"
   ]
  },
  {
   "cell_type": "code",
   "execution_count": 8,
   "metadata": {},
   "outputs": [],
   "source": [
    "#Converting it to tuples.\n",
    "dataset_list=(list(tuple(map(tuple, dataset))))"
   ]
  },
  {
   "cell_type": "code",
   "execution_count": 9,
   "metadata": {},
   "outputs": [
    {
     "data": {
      "text/plain": [
       "list"
      ]
     },
     "execution_count": 9,
     "metadata": {},
     "output_type": "execute_result"
    }
   ],
   "source": [
    "type(dataset_list[1:2])"
   ]
  },
  {
   "cell_type": "code",
   "execution_count": 10,
   "metadata": {},
   "outputs": [
    {
     "data": {
      "text/plain": [
       "array([['He told me where to go', 'उसने मुझे बताया कहाँ जाना है'],\n",
       "       ['He went to New York on Monday', 'वह सोमवार को न्यूयॉर्क चला गया'],\n",
       "       ['His clothes always smell bad', 'उसके कपड़े हमेशा बदबू करतें हैं'],\n",
       "       ..., \n",
       "       ['When you leave the room please make sure you turn off the lights',\n",
       "        'कमरे से निकलने से पहले कृपया बत्तियाँ बंद कर दीजिएगा'],\n",
       "       ['I am a student at Oxford University',\n",
       "        'मैं ऑक्सफ़र्ड विश्वविद्यालय में विद्यार्थी हूँ'],\n",
       "       ['What do you call this bird', 'इस पक्षी का नाम क्या है']],\n",
       "      dtype='<U121')"
      ]
     },
     "execution_count": 10,
     "metadata": {},
     "output_type": "execute_result"
    }
   ],
   "source": [
    "#Creating small subset for test\n",
    "#dataset=dataset[0:2]\n",
    "dataset"
   ]
  },
  {
   "cell_type": "code",
   "execution_count": 11,
   "metadata": {},
   "outputs": [],
   "source": [
    "#Converting it to tuples.\n",
    "dataset_list=(list(tuple(map(tuple, dataset))))"
   ]
  },
  {
   "cell_type": "code",
   "execution_count": 12,
   "metadata": {},
   "outputs": [],
   "source": [
    "english_sentences_list=list(dataset[:,0])"
   ]
  },
  {
   "cell_type": "code",
   "execution_count": 13,
   "metadata": {},
   "outputs": [],
   "source": [
    "english_unique_words=set((' '.join(english_sentences_list)).split())\n",
    "english_vocab_len=len(set((' '.join(english_sentences_list)).split()))"
   ]
  },
  {
   "cell_type": "code",
   "execution_count": 14,
   "metadata": {},
   "outputs": [],
   "source": [
    "hindi_sentences_list=list(dataset[:,1])"
   ]
  },
  {
   "cell_type": "code",
   "execution_count": 15,
   "metadata": {},
   "outputs": [],
   "source": [
    "hindi_unique_words=set((' '.join(hindi_sentences_list)).split())\n",
    "hindi_vocab_len=len(set((' '.join(hindi_sentences_list)).split()))"
   ]
  },
  {
   "cell_type": "code",
   "execution_count": 16,
   "metadata": {},
   "outputs": [],
   "source": [
    "#Dictionary\n",
    "english_dictionary=dict(zip(sorted(english_unique_words) + ['<unk>', '<pad>'], list(range(len(english_unique_words) + 2))))\n",
    "hindi_dictionary=dict(zip(sorted(hindi_unique_words) + ['<unk>', '<pad>'], list(range(len(hindi_unique_words) + 2))))"
   ]
  },
  {
   "cell_type": "code",
   "execution_count": 17,
   "metadata": {},
   "outputs": [],
   "source": [
    "#Reverse Dictionary\n",
    "revere_dictionary_hindi=dict((v,k) for k,v in hindi_dictionary.items())\n",
    "revere_dictionary_english=dict((v,k) for k,v in english_dictionary.items())"
   ]
  },
  {
   "cell_type": "code",
   "execution_count": 18,
   "metadata": {},
   "outputs": [],
   "source": [
    "english_padding_value=english_dictionary['<pad>']\n",
    "hindi_padding_value=hindi_dictionary['<pad>']"
   ]
  },
  {
   "cell_type": "code",
   "execution_count": 19,
   "metadata": {},
   "outputs": [
    {
     "name": "stdout",
     "output_type": "stream",
     "text": [
      "22 25\n"
     ]
    }
   ],
   "source": [
    "#This going to be the global variable with maximum number of words found in a sentence\n",
    "max_english_words=max(len(line.split()) for line in english_sentences_list)\n",
    "max_hindi_words=max(len(line.split()) for line in hindi_sentences_list)\n",
    "print(max_english_words,max_hindi_words)"
   ]
  },
  {
   "cell_type": "code",
   "execution_count": 20,
   "metadata": {},
   "outputs": [],
   "source": [
    "def get_padded_encoding(sentences_list,language_dictionary,max_language_words):\n",
    "    padding_value=language_dictionary['<pad>']\n",
    "    language_array=[]\n",
    "    #Iterate over List.\n",
    "    for sentence in sentences_list:\n",
    "        #Replaces English words with English Vocabulary Indexes and Hindi with Hindi Vocabulary Indexes.\n",
    "        #Remember to have a logic to have if condition in test where, if a word not in dictionary enters, it will be replaced by unk key value.\n",
    "        single_sentence_array=([language_dictionary[word] for word in sentence.split()])\n",
    "        #Find the length of english_single_sentence_array\n",
    "        length_single_sentence=(len(single_sentence_array))\n",
    "        #So how many times padding dictionary key needs to be appended, if we say maximum length of sentences to be considered is eng_max_len.\n",
    "        padding_count=(max_language_words-length_single_sentence)\n",
    "        for pad in range(0,padding_count):\n",
    "            single_sentence_array.append(padding_value)\n",
    "        #Append to main array\n",
    "        language_array.append(single_sentence_array)\n",
    "    #Convert to Numpy array at the end\n",
    "    language_array=np.array(language_array)\n",
    "    return(language_array)"
   ]
  },
  {
   "cell_type": "code",
   "execution_count": 21,
   "metadata": {},
   "outputs": [
    {
     "name": "stdout",
     "output_type": "stream",
     "text": [
      "(2867, 25) (2867, 22)\n"
     ]
    }
   ],
   "source": [
    "hindi_encoding=get_padded_encoding(hindi_sentences_list,hindi_dictionary,max_hindi_words)\n",
    "english_encoding=get_padded_encoding(english_sentences_list,english_dictionary,max_english_words)\n",
    "print(hindi_encoding.shape,english_encoding.shape)"
   ]
  },
  {
   "cell_type": "code",
   "execution_count": 22,
   "metadata": {},
   "outputs": [
    {
     "name": "stdout",
     "output_type": "stream",
     "text": [
      "He went to New York on Monday वह सोमवार को न्यूयॉर्क चला गया\n",
      "[ 170 2522 2378  245  406 1721  236 2619 2619 2619 2619 2619 2619 2619 2619\n",
      " 2619 2619 2619 2619 2619 2619 2619] [2429 2729  539 1471  791  674 2872 2872 2872 2872 2872 2872 2872 2872 2872\n",
      " 2872 2872 2872 2872 2872 2872 2872 2872 2872 2872]\n",
      "He\n",
      "went\n",
      "to\n",
      "New\n",
      "York\n",
      "on\n",
      "Monday\n",
      "<pad>\n",
      "<pad>\n",
      "<pad>\n",
      "<pad>\n",
      "<pad>\n",
      "<pad>\n",
      "<pad>\n",
      "<pad>\n",
      "<pad>\n",
      "<pad>\n",
      "<pad>\n",
      "<pad>\n",
      "<pad>\n",
      "<pad>\n",
      "<pad>\n",
      "वह\n",
      "सोमवार\n",
      "को\n",
      "न्यूयॉर्क\n",
      "चला\n",
      "गया\n",
      "<pad>\n",
      "<pad>\n",
      "<pad>\n",
      "<pad>\n",
      "<pad>\n",
      "<pad>\n",
      "<pad>\n",
      "<pad>\n",
      "<pad>\n",
      "<pad>\n",
      "<pad>\n",
      "<pad>\n",
      "<pad>\n",
      "<pad>\n",
      "<pad>\n",
      "<pad>\n",
      "<pad>\n",
      "<pad>\n",
      "<pad>\n"
     ]
    },
    {
     "data": {
      "text/plain": [
       "2872"
      ]
     },
     "execution_count": 22,
     "metadata": {},
     "output_type": "execute_result"
    }
   ],
   "source": [
    "#Verification\n",
    "print(english_sentences_list[1],hindi_sentences_list[1])\n",
    "print(english_encoding[1],hindi_encoding[1])\n",
    "#Check if encoding gives back the same answer\n",
    "for key in english_encoding[1]:\n",
    "    print(revere_dictionary_english[key])\n",
    "for key in hindi_encoding[1]:\n",
    "    print(revere_dictionary_hindi[key])\n",
    "english_dictionary['<pad>']\n",
    "hindi_dictionary['<pad>']"
   ]
  },
  {
   "cell_type": "code",
   "execution_count": 23,
   "metadata": {},
   "outputs": [
    {
     "name": "stdout",
     "output_type": "stream",
     "text": [
      "X.shape: (2867, 25)\n",
      "Y.shape: (2867, 22)\n",
      "Xoh.shape: (2867, 25, 2873)\n",
      "Yoh.shape: (2867, 22, 2620)\n"
     ]
    }
   ],
   "source": [
    "#We will convert the english and hindi encodings to one hot encodings.\n",
    "#Please note Input is of the dimension (number of sentences,max_length_language(every column is a word))\n",
    "#Output is (number of sentences,Max_length_language(every row is a word),length of vocabulary)\n",
    "#Basically every row of the onehotcode matrix must be for one word.\n",
    "#How=1 => 1 0 0\n",
    "#Are=2 => 0 1 0\n",
    "#You=3 => 0 0 1\n",
    "#We are trying to translate hindi to english, so our X is Hindi and Y is English\n",
    "X=hindi_encoding\n",
    "Y=english_encoding\n",
    "Xoh=np.array(list(map(lambda x: to_categorical(x, num_classes=len(hindi_dictionary)), X)))\n",
    "Yoh=np.array(list(map(lambda x: to_categorical(x, num_classes=len(english_dictionary)), Y)))\n",
    "print(\"X.shape:\", X.shape)\n",
    "print(\"Y.shape:\", Y.shape)\n",
    "print(\"Xoh.shape:\", Xoh.shape)\n",
    "print(\"Yoh.shape:\", Yoh.shape)"
   ]
  },
  {
   "cell_type": "code",
   "execution_count": 24,
   "metadata": {},
   "outputs": [
    {
     "data": {
      "text/plain": [
       "(25, 22)"
      ]
     },
     "execution_count": 24,
     "metadata": {},
     "output_type": "execute_result"
    }
   ],
   "source": [
    "Tx = hindi_encoding.shape[1]\n",
    "Ty = english_encoding.shape[1]\n",
    "Tx,Ty"
   ]
  },
  {
   "cell_type": "markdown",
   "metadata": {},
   "source": [
    "You've loaded:\n",
    "- `dataset`: a list of tuples of (human readable date, machine readable date)\n",
    "- `human_vocab`: a python dictionary mapping all characters used in the human readable dates to an integer-valued index \n",
    "- `machine_vocab`: a python dictionary mapping all characters used in machine readable dates to an integer-valued index. These indices are not necessarily consistent with `human_vocab`. \n",
    "- `inv_machine_vocab`: the inverse dictionary of `machine_vocab`, mapping from indices back to characters. \n",
    "\n",
    "Let's preprocess the data and map the raw text data into the index values. We will also use Tx=30 (which we assume is the maximum length of the human readable date; if we get a longer input, we would have to truncate it) and Ty=10 (since \"YYYY-MM-DD\" is 10 characters long). "
   ]
  },
  {
   "cell_type": "code",
   "execution_count": 25,
   "metadata": {},
   "outputs": [],
   "source": [
    "#Tx = 30\n",
    "#Ty = 15\n",
    "#X, Y, Xoh, Yoh = preprocess_data(dataset, human_vocab, machine_vocab, Tx, Ty)\n",
    "#X, Y, Xoh, Yoh = preprocess_data(dataset_list, english_dictionary, hindi_dictionary, Tx, Ty)\n",
    "\n",
    "#print(\"X.shape:\", X.shape)\n",
    "#print(\"Y.shape:\", Y.shape)\n",
    "#print(\"Xoh.shape:\", Xoh.shape)\n",
    "#print(\"Yoh.shape:\", Yoh.shape)"
   ]
  },
  {
   "cell_type": "code",
   "execution_count": 26,
   "metadata": {},
   "outputs": [
    {
     "data": {
      "text/plain": [
       "array([[ 0.,  0.,  0., ...,  0.,  0.,  0.],\n",
       "       [ 0.,  0.,  0., ...,  0.,  0.,  0.],\n",
       "       [ 0.,  0.,  0., ...,  0.,  0.,  0.],\n",
       "       ..., \n",
       "       [ 0.,  0.,  0., ...,  0.,  0.,  1.],\n",
       "       [ 0.,  0.,  0., ...,  0.,  0.,  1.],\n",
       "       [ 0.,  0.,  0., ...,  0.,  0.,  1.]])"
      ]
     },
     "execution_count": 26,
     "metadata": {},
     "output_type": "execute_result"
    }
   ],
   "source": [
    "Xoh[1]"
   ]
  },
  {
   "cell_type": "markdown",
   "metadata": {},
   "source": [
    "You now have:\n",
    "- `X`: a processed version of the human readable dates in the training set, where each character is replaced by an index mapped to the character via `human_vocab`. Each date is further padded to $T_x$ values with a special character (< pad >). `X.shape = (m, Tx)`\n",
    "- `Y`: a processed version of the machine readable dates in the training set, where each character is replaced by the index it is mapped to in `machine_vocab`. You should have `Y.shape = (m, Ty)`. \n",
    "- `Xoh`: one-hot version of `X`, the \"1\" entry's index is mapped to the character thanks to `human_vocab`. `Xoh.shape = (m, Tx, len(human_vocab))`\n",
    "- `Yoh`: one-hot version of `Y`, the \"1\" entry's index is mapped to the character thanks to `machine_vocab`. `Yoh.shape = (m, Tx, len(machine_vocab))`. Here, `len(machine_vocab) = 11` since there are 11 characters ('-' as well as 0-9). \n"
   ]
  },
  {
   "cell_type": "markdown",
   "metadata": {},
   "source": [
    "Lets also look at some examples of preprocessed training examples. Feel free to play with `index` in the cell below to navigate the dataset and see how source/target dates are preprocessed. "
   ]
  },
  {
   "cell_type": "code",
   "execution_count": 27,
   "metadata": {},
   "outputs": [
    {
     "name": "stdout",
     "output_type": "stream",
     "text": [
      "Source: उसने मुझे बताया कहाँ जाना है\n",
      "Target: He told me where to go\n",
      "\n",
      "Source after preprocessing (indices): [ 302 2151 1798  440  992 2834 2872 2872 2872 2872 2872 2872 2872 2872 2872\n",
      " 2872 2872 2872 2872 2872 2872 2872 2872 2872 2872]\n",
      "Target after preprocessing (indices): [ 170 2384 1585 2532 2378 1237 2619 2619 2619 2619 2619 2619 2619 2619 2619\n",
      " 2619 2619 2619 2619 2619 2619 2619]\n",
      "\n",
      "Source after preprocessing (one-hot): [[ 0.  0.  0. ...,  0.  0.  0.]\n",
      " [ 0.  0.  0. ...,  0.  0.  0.]\n",
      " [ 0.  0.  0. ...,  0.  0.  0.]\n",
      " ..., \n",
      " [ 0.  0.  0. ...,  0.  0.  1.]\n",
      " [ 0.  0.  0. ...,  0.  0.  1.]\n",
      " [ 0.  0.  0. ...,  0.  0.  1.]]\n",
      "Target after preprocessing (one-hot): [[ 0.  0.  0. ...,  0.  0.  0.]\n",
      " [ 0.  0.  0. ...,  0.  0.  0.]\n",
      " [ 0.  0.  0. ...,  0.  0.  0.]\n",
      " ..., \n",
      " [ 0.  0.  0. ...,  0.  0.  1.]\n",
      " [ 0.  0.  0. ...,  0.  0.  1.]\n",
      " [ 0.  0.  0. ...,  0.  0.  1.]]\n"
     ]
    }
   ],
   "source": [
    "index = 0\n",
    "#The dataset is english -> Hindi\n",
    "#Our target is to generate English given Hindi\n",
    "print(\"Source:\", dataset_list[index][1])\n",
    "print(\"Target:\", dataset_list[index][0])\n",
    "print()\n",
    "print(\"Source after preprocessing (indices):\", X[index])\n",
    "print(\"Target after preprocessing (indices):\", Y[index])\n",
    "print()\n",
    "print(\"Source after preprocessing (one-hot):\", Xoh[index])\n",
    "print(\"Target after preprocessing (one-hot):\", Yoh[index])"
   ]
  },
  {
   "cell_type": "markdown",
   "metadata": {},
   "source": [
    "## Tensorflow Implementation"
   ]
  },
  {
   "cell_type": "markdown",
   "metadata": {},
   "source": [
    "# These are all the modules we'll be using later. Make sure you can import them\n",
    "# before proceeding further.\n",
    "%matplotlib inline\n",
    "import math\n",
    "import numpy as np\n",
    "import os\n",
    "import random\n",
    "import tensorflow as tf\n",
    "from matplotlib import pylab\n",
    "from collections import Counter\n",
    "import csv\n",
    "\n",
    "# Seq2Seq Items\n",
    "import tensorflow.contrib.seq2seq as seq2seq\n",
    "from tensorflow.python.ops.rnn_cell import LSTMCell\n",
    "from tensorflow.python.ops.rnn_cell import MultiRNNCell\n",
    "from tensorflow.contrib.seq2seq.python.ops import attention_wrapper\n",
    "from tensorflow.python.layers.core import Dense"
   ]
  },
  {
   "cell_type": "markdown",
   "metadata": {},
   "source": [
    "## Input"
   ]
  },
  {
   "cell_type": "markdown",
   "metadata": {},
   "source": [
    "tf.reset_default_graph()\n",
    "\n",
    "enc_train_inputs = []\n",
    "dec_train_inputs = []\n",
    "\n",
    "# Need to use pre-trained word embeddings\n",
    "encoder_emb_layer = tf.convert_to_tensor(np.load('de-embeddings.npy'))\n",
    "decoder_emb_layer = tf.convert_to_tensor(np.load('en-embeddings.npy'))\n",
    "\n",
    "# Defining unrolled training inputs\n",
    "for ui in range(source_sequence_length):\n",
    "    enc_train_inputs.append(tf.placeholder(tf.int32, shape=[batch_size],name='enc_train_inputs_%d'%ui))\n",
    "\n",
    "dec_train_labels=[]\n",
    "dec_label_masks = []\n",
    "for ui in range(target_sequence_length):\n",
    "    dec_train_inputs.append(tf.placeholder(tf.int32, shape=[batch_size],name='dec_train_inputs_%d'%ui))\n",
    "    dec_train_labels.append(tf.placeholder(tf.int32, shape=[batch_size],name='dec-train_outputs_%d'%ui))\n",
    "    dec_label_masks.append(tf.placeholder(tf.float32, shape=[batch_size],name='dec-label_masks_%d'%ui))\n",
    "    \n",
    "encoder_emb_inp = [tf.nn.embedding_lookup(encoder_emb_layer, src) for src in enc_train_inputs]\n",
    "encoder_emb_inp = tf.stack(encoder_emb_inp)\n",
    "\n",
    "decoder_emb_inp = [tf.nn.embedding_lookup(decoder_emb_layer, src) for src in dec_train_inputs]\n",
    "decoder_emb_inp = tf.stack(decoder_emb_inp)\n",
    "\n",
    "enc_train_inp_lengths = tf.placeholder(tf.int32, shape=[batch_size],name='train_input_lengths')\n",
    "dec_train_inp_lengths = tf.placeholder(tf.int32, shape=[batch_size],name='train_output_lengths')"
   ]
  },
  {
   "cell_type": "markdown",
   "metadata": {},
   "source": [
    "## Encoder"
   ]
  },
  {
   "cell_type": "markdown",
   "metadata": {},
   "source": [
    "encoder_cell = tf.nn.rnn_cell.BasicLSTMCell(num_units)\n",
    "\n",
    "initial_state = encoder_cell.zero_state(batch_size, dtype=tf.float32)\n",
    "\n",
    "encoder_outputs, encoder_state = tf.nn.dynamic_rnn(\n",
    "    encoder_cell, encoder_emb_inp, initial_state=initial_state,\n",
    "    sequence_length=enc_train_inp_lengths, \n",
    "    time_major=True, swap_memory=True)"
   ]
  },
  {
   "cell_type": "markdown",
   "metadata": {},
   "source": [
    "## Decoder"
   ]
  },
  {
   "cell_type": "markdown",
   "metadata": {},
   "source": [
    "# Build RNN cell\n",
    "decoder_cell = tf.nn.rnn_cell.BasicLSTMCell(num_units)\n",
    "\n",
    "projection_layer = Dense(units=vocab_size, use_bias=True)\n",
    "\n",
    "# Helper\n",
    "helper = tf.contrib.seq2seq.TrainingHelper(\n",
    "    decoder_emb_inp, [tgt_max_sent_length-1 for _ in range(batch_size)], time_major=True)\n",
    "\n",
    "# Decoder\n",
    "if decoder_type == 'basic':\n",
    "    decoder = tf.contrib.seq2seq.BasicDecoder(\n",
    "        decoder_cell, helper, encoder_state,\n",
    "        output_layer=projection_layer)\n",
    "    \n",
    "elif decoder_type == 'attention':\n",
    "    decoder = tf.contrib.seq2seq.BahdanauAttention(\n",
    "        decoder_cell, helper, encoder_state,\n",
    "        output_layer=projection_layer)\n",
    "    \n",
    "# Dynamic decoding\n",
    "outputs, _, _ = tf.contrib.seq2seq.dynamic_decode(\n",
    "    decoder, output_time_major=True,\n",
    "    swap_memory=True"
   ]
  },
  {
   "cell_type": "markdown",
   "metadata": {},
   "source": [
    "## Loss & Prediction"
   ]
  },
  {
   "cell_type": "markdown",
   "metadata": {},
   "source": [
    "logits = outputs.rnn_output\n",
    "\n",
    "crossent = tf.nn.sparse_softmax_cross_entropy_with_logits(\n",
    "    labels=dec_train_labels, logits=logits)\n",
    "loss = (tf.reduce_sum(crossent*tf.stack(dec_label_masks)) / (batch_size*target_sequence_length))\n",
    "\n",
    "train_prediction = outputs.sample_id"
   ]
  },
  {
   "cell_type": "markdown",
   "metadata": {},
   "source": [
    "## Defining Optimizer with Gradient Clipping"
   ]
  },
  {
   "cell_type": "markdown",
   "metadata": {},
   "source": [
    "print('Defining Optimizer')\n",
    "# Adam Optimizer. And gradient clipping.\n",
    "global_step = tf.Variable(0, trainable=False)\n",
    "inc_gstep = tf.assign(global_step,global_step + 1)\n",
    "learning_rate = tf.train.exponential_decay(\n",
    "    0.01, global_step, decay_steps=10, decay_rate=0.9, staircase=True)\n",
    "\n",
    "with tf.variable_scope('Adam'):\n",
    "    adam_optimizer = tf.train.AdamOptimizer(learning_rate)\n",
    "\n",
    "adam_gradients, v = zip(*adam_optimizer.compute_gradients(loss))\n",
    "adam_gradients, _ = tf.clip_by_global_norm(adam_gradients, 25.0)\n",
    "adam_optimize = adam_optimizer.apply_gradients(zip(adam_gradients, v))\n",
    "\n",
    "with tf.variable_scope('SGD'):\n",
    "    sgd_optimizer = tf.train.GradientDescentOptimizer(learning_rate)\n",
    "\n",
    "sgd_gradients, v = zip(*sgd_optimizer.compute_gradients(loss))\n",
    "sgd_gradients, _ = tf.clip_by_global_norm(sgd_gradients, 25.0)\n",
    "sgd_optimize = sgd_optimizer.apply_gradients(zip(sgd_gradients, v))\n",
    "\n",
    "sess = tf.InteractiveSession()"
   ]
  },
  {
   "cell_type": "markdown",
   "metadata": {},
   "source": [
    "## Running the NMT"
   ]
  },
  {
   "cell_type": "markdown",
   "metadata": {},
   "source": [
    "for step in range(num_steps):\n",
    "\n",
    "    # input_sizes for each bin: [40]\n",
    "    # output_sizes for each bin: [60]\n",
    "    print('.',end='')\n",
    "    if (step+1)%100==0:\n",
    "        print('')\n",
    "        \n",
    "    sent_ids = np.random.randint(low=0,high=train_inputs.shape[0],size=(batch_size))\n",
    "    # ====================== ENCODER DATA COLLECTION ================================================\n",
    "    \n",
    "    eu_data, eu_labels, _, eu_lengths = enc_data_generator.unroll_batches(sent_ids=sent_ids)\n",
    "    \n",
    "    feed_dict = {}\n",
    "    feed_dict[enc_train_inp_lengths] = eu_lengths\n",
    "    for ui,(dat,lbl) in enumerate(zip(eu_data,eu_labels)):            \n",
    "        feed_dict[enc_train_inputs[ui]] = dat                \n",
    "    \n",
    "    # ====================== DECODER DATA COLLECITON ===========================\n",
    "    # First step we change the ids in a batch\n",
    "    du_data, du_labels, _, du_lengths = dec_data_generator.unroll_batches(sent_ids=sent_ids)\n",
    "    \n",
    "    feed_dict[dec_train_inp_lengths] = du_lengths\n",
    "    for ui,(dat,lbl) in enumerate(zip(du_data,du_labels)):            \n",
    "        feed_dict[dec_train_inputs[ui]] = dat\n",
    "        feed_dict[dec_train_labels[ui]] = lbl\n",
    "        feed_dict[dec_label_masks[ui]] = (np.array([ui for _ in range(batch_size)])<du_lengths).astype(np.int32)\n",
    "    \n",
    "# ======================= OPTIMIZATION ==========================\n",
    "    if step < 10000:\n",
    "        _,l,tr_pred = sess.run([adam_optimize,loss,train_prediction], feed_dict=feed_dict)\n",
    "    else:\n",
    "        _,l,tr_pred = sess.run([sgd_optimize,loss,train_prediction], feed_dict=feed_dict)\n",
    "        tr_pred = tr_pred.flatten()"
   ]
  },
  {
   "cell_type": "markdown",
   "metadata": {},
   "source": [
    "## 2 - Neural machine translation with attention\n",
    "\n",
    "If you had to translate a book's paragraph from French to English, you would not read the whole paragraph, then close the book and translate. Even during the translation process, you would read/re-read and focus on the parts of the French paragraph corresponding to the parts of the English you are writing down. \n",
    "\n",
    "The attention mechanism tells a Neural Machine Translation model where it should pay attention to at any step. \n",
    "\n",
    "\n",
    "### 2.1 - Attention mechanism\n",
    "\n",
    "In this part, you will implement the attention mechanism presented in the lecture videos. Here is a figure to remind you how the model works. The diagram on the left shows the attention model. The diagram on the right shows what one \"Attention\" step does to calculate the attention variables $\\alpha^{\\langle t, t' \\rangle}$, which are used to compute the context variable $context^{\\langle t \\rangle}$ for each timestep in the output ($t=1, \\ldots, T_y$). \n",
    "\n",
    "<table>\n",
    "<td> \n",
    "<img src=\"images/attn_model.png\" style=\"width:500;height:500px;\"> <br>\n",
    "</td> \n",
    "<td> \n",
    "<img src=\"images/attn_mechanism.png\" style=\"width:500;height:500px;\"> <br>\n",
    "</td> \n",
    "</table>\n",
    "<caption><center> **Figure 1**: Neural machine translation with attention</center></caption>\n"
   ]
  },
  {
   "cell_type": "markdown",
   "metadata": {},
   "source": [
    "\n",
    "Here are some properties of the model that you may notice: \n",
    "\n",
    "- There are two separate LSTMs in this model (see diagram on the left). Because the one at the bottom of the picture is a Bi-directional LSTM and comes *before* the attention mechanism, we will call it *pre-attention* Bi-LSTM. The LSTM at the top of the diagram comes *after* the attention mechanism, so we will call it the *post-attention* LSTM. The pre-attention Bi-LSTM goes through $T_x$ time steps; the post-attention LSTM goes through $T_y$ time steps. \n",
    "\n",
    "- The post-attention LSTM passes $s^{\\langle t \\rangle}, c^{\\langle t \\rangle}$ from one time step to the next. In the lecture videos, we were using only a basic RNN for the post-activation sequence model, so the state captured by the RNN output activations $s^{\\langle t\\rangle}$. But since we are using an LSTM here, the LSTM has both the output activation $s^{\\langle t\\rangle}$ and the hidden cell state $c^{\\langle t\\rangle}$. However, unlike previous text generation examples (such as Dinosaurus in week 1), in this model the post-activation LSTM at time $t$ does will not take the specific generated $y^{\\langle t-1 \\rangle}$ as input; it only takes $s^{\\langle t\\rangle}$ and $c^{\\langle t\\rangle}$ as input. We have designed the model this way, because (unlike language generation where adjacent characters are highly correlated) there isn't as strong a dependency between the previous character and the next character in a YYYY-MM-DD date. \n",
    "\n",
    "- We use $a^{\\langle t \\rangle} = [\\overrightarrow{a}^{\\langle t \\rangle}; \\overleftarrow{a}^{\\langle t \\rangle}]$ to represent the concatenation of the activations of both the forward-direction and backward-directions of the pre-attention Bi-LSTM. \n",
    "\n",
    "- The diagram on the right uses a `RepeatVector` node to copy $s^{\\langle t-1 \\rangle}$'s value $T_x$ times, and then `Concatenation` to concatenate $s^{\\langle t-1 \\rangle}$ and $a^{\\langle t \\rangle}$ to compute $e^{\\langle t, t'}$, which is then passed through a softmax to compute $\\alpha^{\\langle t, t' \\rangle}$. We'll explain how to use `RepeatVector` and `Concatenation` in Keras below. \n",
    "\n",
    "Lets implement this model. You will start by implementing two functions: `one_step_attention()` and `model()`.\n",
    "\n",
    "**1) `one_step_attention()`**: At step $t$, given all the hidden states of the Bi-LSTM ($[a^{<1>},a^{<2>}, ..., a^{<T_x>}]$) and the previous hidden state of the second LSTM ($s^{<t-1>}$), `one_step_attention()` will compute the attention weights ($[\\alpha^{<t,1>},\\alpha^{<t,2>}, ..., \\alpha^{<t,T_x>}]$) and output the context vector (see Figure  1 (right) for details):\n",
    "$$context^{<t>} = \\sum_{t' = 0}^{T_x} \\alpha^{<t,t'>}a^{<t'>}\\tag{1}$$ \n",
    "\n",
    "Note that we are denoting the attention in this notebook $context^{\\langle t \\rangle}$. In the lecture videos, the context was denoted $c^{\\langle t \\rangle}$, but here we are calling it $context^{\\langle t \\rangle}$ to avoid confusion with the (post-attention) LSTM's internal memory cell variable, which is sometimes also denoted $c^{\\langle t \\rangle}$. \n",
    "  \n",
    "**2) `model()`**: Implements the entire model. It first runs the input through a Bi-LSTM to get back $[a^{<1>},a^{<2>}, ..., a^{<T_x>}]$. Then, it calls `one_step_attention()` $T_y$ times (`for` loop). At each iteration of this loop, it gives the computed context vector $c^{<t>}$ to the second LSTM, and runs the output of the LSTM through a dense layer with softmax activation to generate a prediction $\\hat{y}^{<t>}$. \n",
    "\n",
    "\n",
    "\n",
    "**Exercise**: Implement `one_step_attention()`. The function `model()` will call the layers in `one_step_attention()` $T_y$ using a for-loop, and it is important that all $T_y$ copies have the same weights. I.e., it should not re-initiaiize the weights every time. In other words, all $T_y$ steps should have shared weights. Here's how you can implement layers with shareable weights in Keras:\n",
    "1. Define the layer objects (as global variables for examples).\n",
    "2. Call these objects when propagating the input.\n",
    "\n",
    "We have defined the layers you need as global variables. Please run the following cells to create them. Please check the Keras documentation to make sure you understand what these layers are: [RepeatVector()](https://keras.io/layers/core/#repeatvector), [Concatenate()](https://keras.io/layers/merge/#concatenate), [Dense()](https://keras.io/layers/core/#dense), [Activation()](https://keras.io/layers/core/#activation), [Dot()](https://keras.io/layers/merge/#dot)."
   ]
  },
  {
   "cell_type": "code",
   "execution_count": 28,
   "metadata": {},
   "outputs": [],
   "source": [
    "# Defined shared layers as global variables\n",
    "repeator = RepeatVector(Tx)\n",
    "concatenator = Concatenate(axis=-1)\n",
    "densor = Dense(1,activation = \"tanh\")\n",
    "activator = Activation(softmax, name='attention_weights') # We are using a custom softmax(axis = 1) loaded in this notebook\n",
    "dotor = Dot(axes = 1)"
   ]
  },
  {
   "cell_type": "markdown",
   "metadata": {},
   "source": [
    "Now you can use these layers to implement `one_step_attention()`. In order to propagate a Keras tensor object X through one of these layers, use `layer(X)` (or `layer([X,Y])` if it requires multiple inputs.), e.g. `densor(X)` will propagate X through the `Dense(1)` layer defined above."
   ]
  },
  {
   "cell_type": "code",
   "execution_count": 29,
   "metadata": {},
   "outputs": [],
   "source": [
    "# GRADED FUNCTION: one_step_attention\n",
    "\n",
    "def one_step_attention(a, s_prev):\n",
    "    \"\"\"\n",
    "    Performs one step of attention: Outputs a context vector computed as a dot product of the attention weights\n",
    "    \"alphas\" and the hidden states \"a\" of the Bi-LSTM.\n",
    "    \n",
    "    Arguments:\n",
    "    a -- hidden state output of the Bi-LSTM, numpy-array of shape (m, Tx, 2*n_a)\n",
    "    s_prev -- previous hidden state of the (post-attention) LSTM, numpy-array of shape (m, n_s)\n",
    "    \n",
    "    Returns:\n",
    "    context -- context vector, input of the next (post-attetion) LSTM cell\n",
    "    \"\"\"\n",
    "    \n",
    "    ### START CODE HERE ###\n",
    "    # Use repeator to repeat s_prev to be of shape (m, Tx, n_s) so that you can concatenate it with all hidden states \"a\" (≈ 1 line)\n",
    "    print (\"s_prev.shape before repeator\",s_prev.shape)\n",
    "    s_prev = repeator(s_prev)\n",
    "    print (\"s_prev.shape after repeator\",s_prev.shape)\n",
    "    print (\"a.shape\",a.shape)\n",
    "    # Use concatenator to concatenate a and s_prev on the last axis (≈ 1 line)\n",
    "    concat = concatenator([a, s_prev])\n",
    "    print (\"concat.shape\",concat.shape)\n",
    "    # Use densor to propagate concat through a small fully-connected neural network to compute the \"energies\" variable e. (≈1 lines)\n",
    "    e = densor(concat)\n",
    "    print (\"e.shape\",e.shape)\n",
    "    # Use activator and e to compute the attention weights \"alphas\" (≈ 1 line)\n",
    "    alphas = activator(e)\n",
    "    print (\"alphas.shape\",alphas.shape)\n",
    "    # Use dotor together with \"alphas\" and \"a\" to compute the context vector to be given to the next (post-attention) LSTM-cell (≈ 1 line)\n",
    "    context = dotor([alphas, a])\n",
    "    print (\"context.shape\",context.shape)\n",
    "    ### END CODE HERE ###\n",
    "    \n",
    "    return context"
   ]
  },
  {
   "cell_type": "markdown",
   "metadata": {},
   "source": [
    "You will be able to check the expected output of `one_step_attention()` after you've coded the `model()` function."
   ]
  },
  {
   "cell_type": "markdown",
   "metadata": {},
   "source": [
    "**Exercise**: Implement `model()` as explained in figure 2 and the text above. Again, we have defined global layers that will share weights to be used in `model()`."
   ]
  },
  {
   "cell_type": "code",
   "execution_count": 30,
   "metadata": {},
   "outputs": [],
   "source": [
    "n_a = 400\n",
    "n_s = 800\n",
    "post_activation_LSTM_cell = (LSTM(n_s, activation='relu',return_state = True,dropout=0.4))\n",
    "output_layer = Dense(len(english_dictionary), activation=softmax)"
   ]
  },
  {
   "cell_type": "markdown",
   "metadata": {},
   "source": [
    "Now you can use these layers $T_y$ times in a `for` loop to generate the outputs, and their parameters will not be reinitialized. You will have to carry out the following steps: \n",
    "\n",
    "1. Propagate the input into a [Bidirectional](https://keras.io/layers/wrappers/#bidirectional) [LSTM](https://keras.io/layers/recurrent/#lstm)\n",
    "2. Iterate for $t = 0, \\dots, T_y-1$: \n",
    "    1. Call `one_step_attention()` on $[\\alpha^{<t,1>},\\alpha^{<t,2>}, ..., \\alpha^{<t,T_x>}]$ and $s^{<t-1>}$ to get the context vector $context^{<t>}$.\n",
    "    2. Give $context^{<t>}$ to the post-attention LSTM cell. Remember pass in the previous hidden-state $s^{\\langle t-1\\rangle}$ and cell-states $c^{\\langle t-1\\rangle}$ of this LSTM using `initial_state= [previous hidden state, previous cell state]`. Get back the new hidden state $s^{<t>}$ and the new cell state $c^{<t>}$.\n",
    "    3. Apply a softmax layer to $s^{<t>}$, get the output. \n",
    "    4. Save the output by adding it to the list of outputs.\n",
    "\n",
    "3. Create your Keras model instance, it should have three inputs (\"inputs\", $s^{<0>}$ and $c^{<0>}$) and output the list of \"outputs\"."
   ]
  },
  {
   "cell_type": "code",
   "execution_count": 31,
   "metadata": {},
   "outputs": [],
   "source": [
    "# GRADED FUNCTION: model\n",
    "\n",
    "def model(Tx, Ty, n_a, n_s, source_dictionary_size, target_dictionary_size):\n",
    "    \"\"\"\n",
    "    Arguments:\n",
    "    Tx -- length of the input sequence\n",
    "    Ty -- length of the output sequence\n",
    "    n_a -- hidden state size of the Bi-LSTM\n",
    "    n_s -- hidden state size of the post-attention LSTM\n",
    "    human_vocab_size -- size of the python dictionary \"human_vocab\"\n",
    "    machine_vocab_size -- size of the python dictionary \"machine_vocab\"\n",
    "\n",
    "    Returns:\n",
    "    model -- Keras model instance\n",
    "    \"\"\"\n",
    "    \n",
    "    # Define the inputs of your model with a shape (Tx,)\n",
    "    # Define s0 and c0, initial hidden state for the decoder LSTM of shape (n_s,)\n",
    "    X = Input(shape=(Tx, source_dictionary_size))\n",
    "    s0 = Input(shape=(n_s,), name='s0')\n",
    "    c0 = Input(shape=(n_s,), name='c0')\n",
    "    s = s0\n",
    "    c = c0\n",
    "    \n",
    "    # Initialize empty list of outputs\n",
    "    outputs = []\n",
    "    \n",
    "    ### START CODE HERE ###\n",
    "    \n",
    "    # Step 1: Define your pre-attention Bi-LSTM. Remember to use return_sequences=True. (≈ 1 line)\n",
    "    a = Bidirectional(LSTM(n_a, activation='relu',return_sequences=True,dropout=0.2))(X)\n",
    "    \n",
    "    # Step 2: Iterate for Ty steps\n",
    "    for t in range(Ty):\n",
    "    \n",
    "        # Step 2.A: Perform one step of the attention mechanism to get back the context vector at step t (≈ 1 line)\n",
    "        print(\"a.shape,s.shape\",a.shape,s.shape)\n",
    "        context = one_step_attention(a, s)\n",
    "        \n",
    "        # Step 2.B: Apply the post-attention LSTM cell to the \"context\" vector.\n",
    "        # Don't forget to pass: initial_state = [hidden state, cell state] (≈ 1 line)\n",
    "        s,_, c = post_activation_LSTM_cell(context, initial_state = [s,c])\n",
    "        \n",
    "        # Step 2.C: Apply Dense layer to the hidden state output of the post-attention LSTM (≈ 1 line)\n",
    "        out = output_layer(s)\n",
    "        \n",
    "        # Step 2.D: Append \"out\" to the \"outputs\" list (≈ 1 line)\n",
    "        outputs.append(out)\n",
    "    \n",
    "    # Step 3: Create model instance taking three inputs and returning the list of outputs. (≈ 1 line)\n",
    "    model = Model(inputs = [X, s0, c0], outputs = outputs)\n",
    "    \n",
    "    ### END CODE HERE ###\n",
    "    \n",
    "    return model"
   ]
  },
  {
   "cell_type": "code",
   "execution_count": 32,
   "metadata": {},
   "outputs": [
    {
     "name": "stdout",
     "output_type": "stream",
     "text": [
      "25 22 400 800 2873 2620\n"
     ]
    }
   ],
   "source": [
    "print (Tx, Ty, n_a, n_s, len(hindi_dictionary), len(english_dictionary))"
   ]
  },
  {
   "cell_type": "markdown",
   "metadata": {},
   "source": [
    "Run the following cell to create your model."
   ]
  },
  {
   "cell_type": "code",
   "execution_count": 33,
   "metadata": {},
   "outputs": [
    {
     "name": "stdout",
     "output_type": "stream",
     "text": [
      "a.shape,s.shape (?, ?, 800) (?, 800)\n",
      "s_prev.shape before repeator (?, 800)\n",
      "s_prev.shape after repeator (?, 25, 800)\n",
      "a.shape (?, ?, 800)\n",
      "concat.shape (?, 25, 1600)\n",
      "e.shape (?, 25, 1)\n",
      "alphas.shape (?, 25, 1)\n",
      "context.shape (?, 1, 800)\n",
      "a.shape,s.shape (?, ?, 800) (?, 800)\n",
      "s_prev.shape before repeator (?, 800)\n",
      "s_prev.shape after repeator (?, 25, 800)\n",
      "a.shape (?, ?, 800)\n",
      "concat.shape (?, 25, 1600)\n",
      "e.shape (?, 25, 1)\n",
      "alphas.shape (?, 25, 1)\n",
      "context.shape (?, 1, 800)\n",
      "a.shape,s.shape (?, ?, 800) (?, 800)\n",
      "s_prev.shape before repeator (?, 800)\n",
      "s_prev.shape after repeator (?, 25, 800)\n",
      "a.shape (?, ?, 800)\n",
      "concat.shape (?, 25, 1600)\n",
      "e.shape (?, 25, 1)\n",
      "alphas.shape (?, 25, 1)\n",
      "context.shape (?, 1, 800)\n",
      "a.shape,s.shape (?, ?, 800) (?, 800)\n",
      "s_prev.shape before repeator (?, 800)\n",
      "s_prev.shape after repeator (?, 25, 800)\n",
      "a.shape (?, ?, 800)\n",
      "concat.shape (?, 25, 1600)\n",
      "e.shape (?, 25, 1)\n",
      "alphas.shape (?, 25, 1)\n",
      "context.shape (?, 1, 800)\n",
      "a.shape,s.shape (?, ?, 800) (?, 800)\n",
      "s_prev.shape before repeator (?, 800)\n",
      "s_prev.shape after repeator (?, 25, 800)\n",
      "a.shape (?, ?, 800)\n",
      "concat.shape (?, 25, 1600)\n",
      "e.shape (?, 25, 1)\n",
      "alphas.shape (?, 25, 1)\n",
      "context.shape (?, 1, 800)\n",
      "a.shape,s.shape (?, ?, 800) (?, 800)\n",
      "s_prev.shape before repeator (?, 800)\n",
      "s_prev.shape after repeator (?, 25, 800)\n",
      "a.shape (?, ?, 800)\n",
      "concat.shape (?, 25, 1600)\n",
      "e.shape (?, 25, 1)\n",
      "alphas.shape (?, 25, 1)\n",
      "context.shape (?, 1, 800)\n",
      "a.shape,s.shape (?, ?, 800) (?, 800)\n",
      "s_prev.shape before repeator (?, 800)\n",
      "s_prev.shape after repeator (?, 25, 800)\n",
      "a.shape (?, ?, 800)\n",
      "concat.shape (?, 25, 1600)\n",
      "e.shape (?, 25, 1)\n",
      "alphas.shape (?, 25, 1)\n",
      "context.shape (?, 1, 800)\n",
      "a.shape,s.shape (?, ?, 800) (?, 800)\n",
      "s_prev.shape before repeator (?, 800)\n",
      "s_prev.shape after repeator (?, 25, 800)\n",
      "a.shape (?, ?, 800)\n",
      "concat.shape (?, 25, 1600)\n",
      "e.shape (?, 25, 1)\n",
      "alphas.shape (?, 25, 1)\n",
      "context.shape (?, 1, 800)\n",
      "a.shape,s.shape (?, ?, 800) (?, 800)\n",
      "s_prev.shape before repeator (?, 800)\n",
      "s_prev.shape after repeator (?, 25, 800)\n",
      "a.shape (?, ?, 800)\n",
      "concat.shape (?, 25, 1600)\n",
      "e.shape (?, 25, 1)\n",
      "alphas.shape (?, 25, 1)\n",
      "context.shape (?, 1, 800)\n",
      "a.shape,s.shape (?, ?, 800) (?, 800)\n",
      "s_prev.shape before repeator (?, 800)\n",
      "s_prev.shape after repeator (?, 25, 800)\n",
      "a.shape (?, ?, 800)\n",
      "concat.shape (?, 25, 1600)\n",
      "e.shape (?, 25, 1)\n",
      "alphas.shape (?, 25, 1)\n",
      "context.shape (?, 1, 800)\n",
      "a.shape,s.shape (?, ?, 800) (?, 800)\n",
      "s_prev.shape before repeator (?, 800)\n",
      "s_prev.shape after repeator (?, 25, 800)\n",
      "a.shape (?, ?, 800)\n",
      "concat.shape (?, 25, 1600)\n",
      "e.shape (?, 25, 1)\n",
      "alphas.shape (?, 25, 1)\n",
      "context.shape (?, 1, 800)\n",
      "a.shape,s.shape (?, ?, 800) (?, 800)\n",
      "s_prev.shape before repeator (?, 800)\n",
      "s_prev.shape after repeator (?, 25, 800)\n",
      "a.shape (?, ?, 800)\n",
      "concat.shape (?, 25, 1600)\n",
      "e.shape (?, 25, 1)\n",
      "alphas.shape (?, 25, 1)\n",
      "context.shape (?, 1, 800)\n",
      "a.shape,s.shape (?, ?, 800) (?, 800)\n",
      "s_prev.shape before repeator (?, 800)\n",
      "s_prev.shape after repeator (?, 25, 800)\n",
      "a.shape (?, ?, 800)\n",
      "concat.shape (?, 25, 1600)\n",
      "e.shape (?, 25, 1)\n",
      "alphas.shape (?, 25, 1)\n",
      "context.shape (?, 1, 800)\n",
      "a.shape,s.shape (?, ?, 800) (?, 800)\n",
      "s_prev.shape before repeator (?, 800)\n",
      "s_prev.shape after repeator (?, 25, 800)\n",
      "a.shape (?, ?, 800)\n",
      "concat.shape (?, 25, 1600)\n",
      "e.shape (?, 25, 1)\n",
      "alphas.shape (?, 25, 1)\n",
      "context.shape (?, 1, 800)\n",
      "a.shape,s.shape (?, ?, 800) (?, 800)\n",
      "s_prev.shape before repeator (?, 800)\n",
      "s_prev.shape after repeator (?, 25, 800)\n",
      "a.shape (?, ?, 800)\n",
      "concat.shape (?, 25, 1600)\n",
      "e.shape (?, 25, 1)\n",
      "alphas.shape (?, 25, 1)\n",
      "context.shape (?, 1, 800)\n",
      "a.shape,s.shape (?, ?, 800) (?, 800)\n",
      "s_prev.shape before repeator (?, 800)\n",
      "s_prev.shape after repeator (?, 25, 800)\n",
      "a.shape (?, ?, 800)\n",
      "concat.shape (?, 25, 1600)\n",
      "e.shape (?, 25, 1)\n",
      "alphas.shape (?, 25, 1)\n",
      "context.shape (?, 1, 800)\n",
      "a.shape,s.shape (?, ?, 800) (?, 800)\n",
      "s_prev.shape before repeator (?, 800)\n",
      "s_prev.shape after repeator (?, 25, 800)\n",
      "a.shape (?, ?, 800)\n",
      "concat.shape (?, 25, 1600)\n",
      "e.shape (?, 25, 1)\n",
      "alphas.shape (?, 25, 1)\n",
      "context.shape (?, 1, 800)\n",
      "a.shape,s.shape (?, ?, 800) (?, 800)\n",
      "s_prev.shape before repeator (?, 800)\n",
      "s_prev.shape after repeator (?, 25, 800)\n",
      "a.shape (?, ?, 800)\n",
      "concat.shape (?, 25, 1600)\n",
      "e.shape (?, 25, 1)\n",
      "alphas.shape (?, 25, 1)\n",
      "context.shape (?, 1, 800)\n",
      "a.shape,s.shape (?, ?, 800) (?, 800)\n",
      "s_prev.shape before repeator (?, 800)\n",
      "s_prev.shape after repeator (?, 25, 800)\n",
      "a.shape (?, ?, 800)\n",
      "concat.shape (?, 25, 1600)\n",
      "e.shape (?, 25, 1)\n",
      "alphas.shape (?, 25, 1)\n",
      "context.shape (?, 1, 800)\n",
      "a.shape,s.shape (?, ?, 800) (?, 800)\n",
      "s_prev.shape before repeator (?, 800)\n",
      "s_prev.shape after repeator (?, 25, 800)\n",
      "a.shape (?, ?, 800)\n",
      "concat.shape (?, 25, 1600)\n",
      "e.shape (?, 25, 1)\n",
      "alphas.shape (?, 25, 1)\n",
      "context.shape (?, 1, 800)\n",
      "a.shape,s.shape (?, ?, 800) (?, 800)\n",
      "s_prev.shape before repeator (?, 800)\n",
      "s_prev.shape after repeator (?, 25, 800)\n",
      "a.shape (?, ?, 800)\n",
      "concat.shape (?, 25, 1600)\n",
      "e.shape (?, 25, 1)\n",
      "alphas.shape (?, 25, 1)\n",
      "context.shape (?, 1, 800)\n",
      "a.shape,s.shape (?, ?, 800) (?, 800)\n",
      "s_prev.shape before repeator (?, 800)\n",
      "s_prev.shape after repeator (?, 25, 800)\n",
      "a.shape (?, ?, 800)\n",
      "concat.shape (?, 25, 1600)\n",
      "e.shape (?, 25, 1)\n",
      "alphas.shape (?, 25, 1)\n",
      "context.shape (?, 1, 800)\n"
     ]
    }
   ],
   "source": [
    "model = model(Tx, Ty, n_a, n_s, len(hindi_dictionary), len(english_dictionary))"
   ]
  },
  {
   "cell_type": "markdown",
   "metadata": {},
   "source": [
    "Let's get a summary of the model to check if it matches the expected output."
   ]
  },
  {
   "cell_type": "code",
   "execution_count": 34,
   "metadata": {},
   "outputs": [
    {
     "name": "stdout",
     "output_type": "stream",
     "text": [
      "____________________________________________________________________________________________________\n",
      "Layer (type)                     Output Shape          Param #     Connected to                     \n",
      "====================================================================================================\n",
      "input_1 (InputLayer)             (None, 25, 2873)      0                                            \n",
      "____________________________________________________________________________________________________\n",
      "s0 (InputLayer)                  (None, 800)           0                                            \n",
      "____________________________________________________________________________________________________\n",
      "bidirectional_1 (Bidirectional)  (None, 25, 800)       10476800    input_1[0][0]                    \n",
      "____________________________________________________________________________________________________\n",
      "repeat_vector_1 (RepeatVector)   (None, 25, 800)       0           s0[0][0]                         \n",
      "                                                                   lstm_1[0][0]                     \n",
      "                                                                   lstm_1[1][0]                     \n",
      "                                                                   lstm_1[2][0]                     \n",
      "                                                                   lstm_1[3][0]                     \n",
      "                                                                   lstm_1[4][0]                     \n",
      "                                                                   lstm_1[5][0]                     \n",
      "                                                                   lstm_1[6][0]                     \n",
      "                                                                   lstm_1[7][0]                     \n",
      "                                                                   lstm_1[8][0]                     \n",
      "                                                                   lstm_1[9][0]                     \n",
      "                                                                   lstm_1[10][0]                    \n",
      "                                                                   lstm_1[11][0]                    \n",
      "                                                                   lstm_1[12][0]                    \n",
      "                                                                   lstm_1[13][0]                    \n",
      "                                                                   lstm_1[14][0]                    \n",
      "                                                                   lstm_1[15][0]                    \n",
      "                                                                   lstm_1[16][0]                    \n",
      "                                                                   lstm_1[17][0]                    \n",
      "                                                                   lstm_1[18][0]                    \n",
      "                                                                   lstm_1[19][0]                    \n",
      "                                                                   lstm_1[20][0]                    \n",
      "____________________________________________________________________________________________________\n",
      "concatenate_1 (Concatenate)      (None, 25, 1600)      0           bidirectional_1[0][0]            \n",
      "                                                                   repeat_vector_1[0][0]            \n",
      "                                                                   bidirectional_1[0][0]            \n",
      "                                                                   repeat_vector_1[1][0]            \n",
      "                                                                   bidirectional_1[0][0]            \n",
      "                                                                   repeat_vector_1[2][0]            \n",
      "                                                                   bidirectional_1[0][0]            \n",
      "                                                                   repeat_vector_1[3][0]            \n",
      "                                                                   bidirectional_1[0][0]            \n",
      "                                                                   repeat_vector_1[4][0]            \n",
      "                                                                   bidirectional_1[0][0]            \n",
      "                                                                   repeat_vector_1[5][0]            \n",
      "                                                                   bidirectional_1[0][0]            \n",
      "                                                                   repeat_vector_1[6][0]            \n",
      "                                                                   bidirectional_1[0][0]            \n",
      "                                                                   repeat_vector_1[7][0]            \n",
      "                                                                   bidirectional_1[0][0]            \n",
      "                                                                   repeat_vector_1[8][0]            \n",
      "                                                                   bidirectional_1[0][0]            \n",
      "                                                                   repeat_vector_1[9][0]            \n",
      "                                                                   bidirectional_1[0][0]            \n",
      "                                                                   repeat_vector_1[10][0]           \n",
      "                                                                   bidirectional_1[0][0]            \n",
      "                                                                   repeat_vector_1[11][0]           \n",
      "                                                                   bidirectional_1[0][0]            \n",
      "                                                                   repeat_vector_1[12][0]           \n",
      "                                                                   bidirectional_1[0][0]            \n",
      "                                                                   repeat_vector_1[13][0]           \n",
      "                                                                   bidirectional_1[0][0]            \n",
      "                                                                   repeat_vector_1[14][0]           \n",
      "                                                                   bidirectional_1[0][0]            \n",
      "                                                                   repeat_vector_1[15][0]           \n",
      "                                                                   bidirectional_1[0][0]            \n",
      "                                                                   repeat_vector_1[16][0]           \n",
      "                                                                   bidirectional_1[0][0]            \n",
      "                                                                   repeat_vector_1[17][0]           \n",
      "                                                                   bidirectional_1[0][0]            \n",
      "                                                                   repeat_vector_1[18][0]           \n",
      "                                                                   bidirectional_1[0][0]            \n",
      "                                                                   repeat_vector_1[19][0]           \n",
      "                                                                   bidirectional_1[0][0]            \n",
      "                                                                   repeat_vector_1[20][0]           \n",
      "                                                                   bidirectional_1[0][0]            \n",
      "                                                                   repeat_vector_1[21][0]           \n",
      "____________________________________________________________________________________________________\n",
      "dense_1 (Dense)                  (None, 25, 1)         1601        concatenate_1[0][0]              \n",
      "                                                                   concatenate_1[1][0]              \n",
      "                                                                   concatenate_1[2][0]              \n",
      "                                                                   concatenate_1[3][0]              \n",
      "                                                                   concatenate_1[4][0]              \n",
      "                                                                   concatenate_1[5][0]              \n",
      "                                                                   concatenate_1[6][0]              \n",
      "                                                                   concatenate_1[7][0]              \n",
      "                                                                   concatenate_1[8][0]              \n",
      "                                                                   concatenate_1[9][0]              \n",
      "                                                                   concatenate_1[10][0]             \n",
      "                                                                   concatenate_1[11][0]             \n",
      "                                                                   concatenate_1[12][0]             \n",
      "                                                                   concatenate_1[13][0]             \n",
      "                                                                   concatenate_1[14][0]             \n",
      "                                                                   concatenate_1[15][0]             \n",
      "                                                                   concatenate_1[16][0]             \n",
      "                                                                   concatenate_1[17][0]             \n",
      "                                                                   concatenate_1[18][0]             \n",
      "                                                                   concatenate_1[19][0]             \n",
      "                                                                   concatenate_1[20][0]             \n",
      "                                                                   concatenate_1[21][0]             \n",
      "____________________________________________________________________________________________________\n",
      "attention_weights (Activation)   (None, 25, 1)         0           dense_1[0][0]                    \n",
      "                                                                   dense_1[1][0]                    \n",
      "                                                                   dense_1[2][0]                    \n",
      "                                                                   dense_1[3][0]                    \n",
      "                                                                   dense_1[4][0]                    \n",
      "                                                                   dense_1[5][0]                    \n",
      "                                                                   dense_1[6][0]                    \n",
      "                                                                   dense_1[7][0]                    \n",
      "                                                                   dense_1[8][0]                    \n",
      "                                                                   dense_1[9][0]                    \n",
      "                                                                   dense_1[10][0]                   \n",
      "                                                                   dense_1[11][0]                   \n",
      "                                                                   dense_1[12][0]                   \n",
      "                                                                   dense_1[13][0]                   \n",
      "                                                                   dense_1[14][0]                   \n",
      "                                                                   dense_1[15][0]                   \n",
      "                                                                   dense_1[16][0]                   \n",
      "                                                                   dense_1[17][0]                   \n",
      "                                                                   dense_1[18][0]                   \n",
      "                                                                   dense_1[19][0]                   \n",
      "                                                                   dense_1[20][0]                   \n",
      "                                                                   dense_1[21][0]                   \n",
      "____________________________________________________________________________________________________\n",
      "dot_1 (Dot)                      (None, 1, 800)        0           attention_weights[0][0]          \n",
      "                                                                   bidirectional_1[0][0]            \n",
      "                                                                   attention_weights[1][0]          \n",
      "                                                                   bidirectional_1[0][0]            \n",
      "                                                                   attention_weights[2][0]          \n",
      "                                                                   bidirectional_1[0][0]            \n",
      "                                                                   attention_weights[3][0]          \n",
      "                                                                   bidirectional_1[0][0]            \n",
      "                                                                   attention_weights[4][0]          \n",
      "                                                                   bidirectional_1[0][0]            \n",
      "                                                                   attention_weights[5][0]          \n",
      "                                                                   bidirectional_1[0][0]            \n",
      "                                                                   attention_weights[6][0]          \n",
      "                                                                   bidirectional_1[0][0]            \n",
      "                                                                   attention_weights[7][0]          \n",
      "                                                                   bidirectional_1[0][0]            \n",
      "                                                                   attention_weights[8][0]          \n",
      "                                                                   bidirectional_1[0][0]            \n",
      "                                                                   attention_weights[9][0]          \n",
      "                                                                   bidirectional_1[0][0]            \n",
      "                                                                   attention_weights[10][0]         \n",
      "                                                                   bidirectional_1[0][0]            \n",
      "                                                                   attention_weights[11][0]         \n",
      "                                                                   bidirectional_1[0][0]            \n",
      "                                                                   attention_weights[12][0]         \n",
      "                                                                   bidirectional_1[0][0]            \n",
      "                                                                   attention_weights[13][0]         \n",
      "                                                                   bidirectional_1[0][0]            \n",
      "                                                                   attention_weights[14][0]         \n",
      "                                                                   bidirectional_1[0][0]            \n",
      "                                                                   attention_weights[15][0]         \n",
      "                                                                   bidirectional_1[0][0]            \n",
      "                                                                   attention_weights[16][0]         \n",
      "                                                                   bidirectional_1[0][0]            \n",
      "                                                                   attention_weights[17][0]         \n",
      "                                                                   bidirectional_1[0][0]            \n",
      "                                                                   attention_weights[18][0]         \n",
      "                                                                   bidirectional_1[0][0]            \n",
      "                                                                   attention_weights[19][0]         \n",
      "                                                                   bidirectional_1[0][0]            \n",
      "                                                                   attention_weights[20][0]         \n",
      "                                                                   bidirectional_1[0][0]            \n",
      "                                                                   attention_weights[21][0]         \n",
      "                                                                   bidirectional_1[0][0]            \n",
      "____________________________________________________________________________________________________\n",
      "c0 (InputLayer)                  (None, 800)           0                                            \n",
      "____________________________________________________________________________________________________\n",
      "lstm_1 (LSTM)                    [(None, 800), (None,  5123200     dot_1[0][0]                      \n",
      "                                                                   s0[0][0]                         \n",
      "                                                                   c0[0][0]                         \n",
      "                                                                   dot_1[1][0]                      \n",
      "                                                                   lstm_1[0][0]                     \n",
      "                                                                   lstm_1[0][2]                     \n",
      "                                                                   dot_1[2][0]                      \n",
      "                                                                   lstm_1[1][0]                     \n",
      "                                                                   lstm_1[1][2]                     \n",
      "                                                                   dot_1[3][0]                      \n",
      "                                                                   lstm_1[2][0]                     \n",
      "                                                                   lstm_1[2][2]                     \n",
      "                                                                   dot_1[4][0]                      \n",
      "                                                                   lstm_1[3][0]                     \n",
      "                                                                   lstm_1[3][2]                     \n",
      "                                                                   dot_1[5][0]                      \n",
      "                                                                   lstm_1[4][0]                     \n",
      "                                                                   lstm_1[4][2]                     \n",
      "                                                                   dot_1[6][0]                      \n",
      "                                                                   lstm_1[5][0]                     \n",
      "                                                                   lstm_1[5][2]                     \n",
      "                                                                   dot_1[7][0]                      \n",
      "                                                                   lstm_1[6][0]                     \n",
      "                                                                   lstm_1[6][2]                     \n",
      "                                                                   dot_1[8][0]                      \n",
      "                                                                   lstm_1[7][0]                     \n",
      "                                                                   lstm_1[7][2]                     \n",
      "                                                                   dot_1[9][0]                      \n",
      "                                                                   lstm_1[8][0]                     \n",
      "                                                                   lstm_1[8][2]                     \n",
      "                                                                   dot_1[10][0]                     \n",
      "                                                                   lstm_1[9][0]                     \n",
      "                                                                   lstm_1[9][2]                     \n",
      "                                                                   dot_1[11][0]                     \n",
      "                                                                   lstm_1[10][0]                    \n",
      "                                                                   lstm_1[10][2]                    \n",
      "                                                                   dot_1[12][0]                     \n",
      "                                                                   lstm_1[11][0]                    \n",
      "                                                                   lstm_1[11][2]                    \n",
      "                                                                   dot_1[13][0]                     \n",
      "                                                                   lstm_1[12][0]                    \n",
      "                                                                   lstm_1[12][2]                    \n",
      "                                                                   dot_1[14][0]                     \n",
      "                                                                   lstm_1[13][0]                    \n",
      "                                                                   lstm_1[13][2]                    \n",
      "                                                                   dot_1[15][0]                     \n",
      "                                                                   lstm_1[14][0]                    \n",
      "                                                                   lstm_1[14][2]                    \n",
      "                                                                   dot_1[16][0]                     \n",
      "                                                                   lstm_1[15][0]                    \n",
      "                                                                   lstm_1[15][2]                    \n",
      "                                                                   dot_1[17][0]                     \n",
      "                                                                   lstm_1[16][0]                    \n",
      "                                                                   lstm_1[16][2]                    \n",
      "                                                                   dot_1[18][0]                     \n",
      "                                                                   lstm_1[17][0]                    \n",
      "                                                                   lstm_1[17][2]                    \n",
      "                                                                   dot_1[19][0]                     \n",
      "                                                                   lstm_1[18][0]                    \n",
      "                                                                   lstm_1[18][2]                    \n",
      "                                                                   dot_1[20][0]                     \n",
      "                                                                   lstm_1[19][0]                    \n",
      "                                                                   lstm_1[19][2]                    \n",
      "                                                                   dot_1[21][0]                     \n",
      "                                                                   lstm_1[20][0]                    \n",
      "                                                                   lstm_1[20][2]                    \n",
      "____________________________________________________________________________________________________\n",
      "dense_2 (Dense)                  (None, 2620)          2098620     lstm_1[0][0]                     \n",
      "                                                                   lstm_1[1][0]                     \n",
      "                                                                   lstm_1[2][0]                     \n",
      "                                                                   lstm_1[3][0]                     \n",
      "                                                                   lstm_1[4][0]                     \n",
      "                                                                   lstm_1[5][0]                     \n",
      "                                                                   lstm_1[6][0]                     \n",
      "                                                                   lstm_1[7][0]                     \n",
      "                                                                   lstm_1[8][0]                     \n",
      "                                                                   lstm_1[9][0]                     \n",
      "                                                                   lstm_1[10][0]                    \n",
      "                                                                   lstm_1[11][0]                    \n",
      "                                                                   lstm_1[12][0]                    \n",
      "                                                                   lstm_1[13][0]                    \n",
      "                                                                   lstm_1[14][0]                    \n",
      "                                                                   lstm_1[15][0]                    \n",
      "                                                                   lstm_1[16][0]                    \n",
      "                                                                   lstm_1[17][0]                    \n",
      "                                                                   lstm_1[18][0]                    \n",
      "                                                                   lstm_1[19][0]                    \n",
      "                                                                   lstm_1[20][0]                    \n",
      "                                                                   lstm_1[21][0]                    \n",
      "====================================================================================================\n",
      "Total params: 17,700,221\n",
      "Trainable params: 17,700,221\n",
      "Non-trainable params: 0\n",
      "____________________________________________________________________________________________________\n"
     ]
    }
   ],
   "source": [
    "model.summary()"
   ]
  },
  {
   "cell_type": "markdown",
   "metadata": {},
   "source": [
    "**Expected Output**:\n",
    "\n",
    "Here is the summary you should see\n",
    "<table>\n",
    "    <tr>\n",
    "        <td>\n",
    "            **Total params:**\n",
    "        </td>\n",
    "        <td>\n",
    "         185,484\n",
    "        </td>\n",
    "    </tr>\n",
    "        <tr>\n",
    "        <td>\n",
    "            **Trainable params:**\n",
    "        </td>\n",
    "        <td>\n",
    "         185,484\n",
    "        </td>\n",
    "    </tr>\n",
    "            <tr>\n",
    "        <td>\n",
    "            **Non-trainable params:**\n",
    "        </td>\n",
    "        <td>\n",
    "         0\n",
    "        </td>\n",
    "    </tr>\n",
    "                    <tr>\n",
    "        <td>\n",
    "            **bidirectional_1's output shape **\n",
    "        </td>\n",
    "        <td>\n",
    "         (None, 30, 128)  \n",
    "        </td>\n",
    "    </tr>\n",
    "    <tr>\n",
    "        <td>\n",
    "            **repeat_vector_1's output shape **\n",
    "        </td>\n",
    "        <td>\n",
    "         (None, 30, 128)  \n",
    "        </td>\n",
    "    </tr>\n",
    "                <tr>\n",
    "        <td>\n",
    "            **concatenate_1's output shape **\n",
    "        </td>\n",
    "        <td>\n",
    "         (None, 30, 256) \n",
    "        </td>\n",
    "    </tr>\n",
    "            <tr>\n",
    "        <td>\n",
    "            **attention_weights's output shape **\n",
    "        </td>\n",
    "        <td>\n",
    "         (None, 30, 1)  \n",
    "        </td>\n",
    "    </tr>\n",
    "        <tr>\n",
    "        <td>\n",
    "            **dot_1's output shape **\n",
    "        </td>\n",
    "        <td>\n",
    "         (None, 1, 128) \n",
    "        </td>\n",
    "    </tr>\n",
    "           <tr>\n",
    "        <td>\n",
    "            **dense_2's output shape **\n",
    "        </td>\n",
    "        <td>\n",
    "         (None, 11) \n",
    "        </td>\n",
    "    </tr>\n",
    "</table>\n"
   ]
  },
  {
   "cell_type": "markdown",
   "metadata": {},
   "source": [
    "As usual, after creating your model in Keras, you need to compile it and define what loss, optimizer and metrics your are want to use. Compile your model using `categorical_crossentropy` loss, a custom [Adam](https://keras.io/optimizers/#adam) [optimizer](https://keras.io/optimizers/#usage-of-optimizers) (`learning rate = 0.005`, $\\beta_1 = 0.9$, $\\beta_2 = 0.999$, `decay = 0.01`)  and `['accuracy']` metrics:"
   ]
  },
  {
   "cell_type": "code",
   "execution_count": 35,
   "metadata": {},
   "outputs": [],
   "source": [
    "from keras.optimizers import RMSprop,Adagrad,Adam,Adamax,Nadam,SGD"
   ]
  },
  {
   "cell_type": "code",
   "execution_count": 36,
   "metadata": {},
   "outputs": [],
   "source": [
    "### START CODE HERE ### (≈2 lines)\n",
    "from keras.optimizers import RMSprop\n",
    "out = model.compile(optimizer='rmsprop'#(lr=0.001, beta_1=0.7, beta_2=0.8, decay=0.02)\n",
    "                    ,metrics=['accuracy'],\n",
    "                    loss='categorical_crossentropy')\n",
    "out\n",
    "### END CODE HERE ###"
   ]
  },
  {
   "cell_type": "markdown",
   "metadata": {},
   "source": [
    "The last step is to define all your inputs and outputs to fit the model:\n",
    "- You already have X of shape $(m = 10000, T_x = 30)$ containing the training examples.\n",
    "- You need to create `s0` and `c0` to initialize your `post_activation_LSTM_cell` with 0s.\n",
    "- Given the `model()` you coded, you need the \"outputs\" to be a list of 11 elements of shape (m, T_y). So that: `outputs[i][0], ..., outputs[i][Ty]` represent the true labels (characters) corresponding to the $i^{th}$ training example (`X[i]`). More generally, `outputs[i][j]` is the true label of the $j^{th}$ character in the $i^{th}$ training example."
   ]
  },
  {
   "cell_type": "code",
   "execution_count": 37,
   "metadata": {},
   "outputs": [],
   "source": [
    "s0 = np.zeros((len(dataset_list), n_s))\n",
    "c0 = np.zeros((len(dataset_list), n_s))\n",
    "outputs = list(Yoh.swapaxes(0,1))"
   ]
  },
  {
   "cell_type": "code",
   "execution_count": 38,
   "metadata": {},
   "outputs": [
    {
     "data": {
      "text/plain": [
       "(22, 22)"
      ]
     },
     "execution_count": 38,
     "metadata": {},
     "output_type": "execute_result"
    }
   ],
   "source": [
    "len(list(Yoh[1])),len(list(Yoh.swapaxes(0,1)))"
   ]
  },
  {
   "cell_type": "code",
   "execution_count": 39,
   "metadata": {},
   "outputs": [
    {
     "data": {
      "text/plain": [
       "((2867, 22, 2620), (2867, 800), (2867, 800), (22, 2867, 2620))"
      ]
     },
     "execution_count": 39,
     "metadata": {},
     "output_type": "execute_result"
    }
   ],
   "source": [
    "Yoh.shape,s0.shape,c0.shape,Yoh.swapaxes(0,1).shape"
   ]
  },
  {
   "cell_type": "code",
   "execution_count": null,
   "metadata": {},
   "outputs": [],
   "source": [
    "#from keras.callbacks import ModelCheckpoint\n",
    "#checkpoint = ModelCheckpoint('model.h5', monitor='val_loss', verbose=1, save_best_only=True, mode='min')\n",
    "#model.fit(trainX, trainY, epochs=30, batch_size=64, validation_data=(testX, testY), callbacks=[checkpoint], verbose=2)"
   ]
  },
  {
   "cell_type": "markdown",
   "metadata": {},
   "source": [
    "Let's now fit the model and run it for one epoch."
   ]
  },
  {
   "cell_type": "code",
   "execution_count": 41,
   "metadata": {},
   "outputs": [
    {
     "name": "stdout",
     "output_type": "stream",
     "text": [
      "Epoch 1/100\n",
      "2867/2867 [==============================] - 287s - loss: 48.4260 - dense_2_loss_1: 6.7242 - dense_2_loss_2: 6.9186 - dense_2_loss_3: 6.5480 - dense_2_loss_4: 6.4954 - dense_2_loss_5: 5.8349 - dense_2_loss_6: 4.8043 - dense_2_loss_7: 3.7580 - dense_2_loss_8: 2.6710 - dense_2_loss_9: 1.7333 - dense_2_loss_10: 1.1579 - dense_2_loss_11: 0.6893 - dense_2_loss_12: 0.4003 - dense_2_loss_13: 0.2143 - dense_2_loss_14: 0.1513 - dense_2_loss_15: 0.0699 - dense_2_loss_16: 0.0490 - dense_2_loss_17: 0.0454 - dense_2_loss_18: 0.0391 - dense_2_loss_19: 0.0343 - dense_2_loss_20: 0.0309 - dense_2_loss_21: 0.0298 - dense_2_loss_22: 0.0269 - dense_2_acc_1: 0.0865 - dense_2_acc_2: 0.0164 - dense_2_acc_3: 0.0251 - dense_2_acc_4: 0.0869 - dense_2_acc_5: 0.2302 - dense_2_acc_6: 0.4168 - dense_2_acc_7: 0.5937 - dense_2_acc_8: 0.7398 - dense_2_acc_9: 0.8458 - dense_2_acc_10: 0.9072 - dense_2_acc_11: 0.9480 - dense_2_acc_12: 0.9721 - dense_2_acc_13: 0.9867 - dense_2_acc_14: 0.9913 - dense_2_acc_15: 0.9965 - dense_2_acc_16: 0.9983 - dense_2_acc_17: 0.9986 - dense_2_acc_18: 0.9990 - dense_2_acc_19: 0.9962 - dense_2_acc_20: 0.9958 - dense_2_acc_21: 0.9948 - dense_2_acc_22: 0.9972   \n",
      "Epoch 2/100\n",
      "2867/2867 [==============================] - 284s - loss: 41.8873 - dense_2_loss_1: 4.7334 - dense_2_loss_2: 6.2407 - dense_2_loss_3: 6.0081 - dense_2_loss_4: 6.1385 - dense_2_loss_5: 5.3815 - dense_2_loss_6: 4.3454 - dense_2_loss_7: 3.2463 - dense_2_loss_8: 2.2194 - dense_2_loss_9: 1.3881 - dense_2_loss_10: 0.9232 - dense_2_loss_11: 0.5451 - dense_2_loss_12: 0.3073 - dense_2_loss_13: 0.1558 - dense_2_loss_14: 0.1168 - dense_2_loss_15: 0.0442 - dense_2_loss_16: 0.0288 - dense_2_loss_17: 0.0237 - dense_2_loss_18: 0.0163 - dense_2_loss_19: 0.0093 - dense_2_loss_20: 0.0060 - dense_2_loss_21: 0.0040 - dense_2_loss_22: 0.0055 - dense_2_acc_1: 0.1713 - dense_2_acc_2: 0.0739 - dense_2_acc_3: 0.0408 - dense_2_acc_4: 0.0917 - dense_2_acc_5: 0.2313 - dense_2_acc_6: 0.4168 - dense_2_acc_7: 0.5937 - dense_2_acc_8: 0.7398 - dense_2_acc_9: 0.8458 - dense_2_acc_10: 0.9072 - dense_2_acc_11: 0.9480 - dense_2_acc_12: 0.9721 - dense_2_acc_13: 0.9867 - dense_2_acc_14: 0.9913 - dense_2_acc_15: 0.9965 - dense_2_acc_16: 0.9983 - dense_2_acc_17: 0.9986 - dense_2_acc_18: 0.9990 - dense_2_acc_19: 0.9993 - dense_2_acc_20: 0.9997 - dense_2_acc_21: 0.9997 - dense_2_acc_22: 0.9997   \n",
      "Epoch 3/100\n",
      "2867/2867 [==============================] - 283s - loss: 40.0171 - dense_2_loss_1: 4.2853 - dense_2_loss_2: 5.9927 - dense_2_loss_3: 5.8855 - dense_2_loss_4: 5.9899 - dense_2_loss_5: 5.2301 - dense_2_loss_6: 4.1977 - dense_2_loss_7: 3.1116 - dense_2_loss_8: 2.0880 - dense_2_loss_9: 1.2958 - dense_2_loss_10: 0.8421 - dense_2_loss_11: 0.4883 - dense_2_loss_12: 0.2669 - dense_2_loss_13: 0.1259 - dense_2_loss_14: 0.0952 - dense_2_loss_15: 0.0387 - dense_2_loss_16: 0.0248 - dense_2_loss_17: 0.0212 - dense_2_loss_18: 0.0151 - dense_2_loss_19: 0.0070 - dense_2_loss_20: 0.0060 - dense_2_loss_21: 0.0040 - dense_2_loss_22: 0.0054 - dense_2_acc_1: 0.1713 - dense_2_acc_2: 0.0757 - dense_2_acc_3: 0.0509 - dense_2_acc_4: 0.1088 - dense_2_acc_5: 0.2379 - dense_2_acc_6: 0.4200 - dense_2_acc_7: 0.5940 - dense_2_acc_8: 0.7398 - dense_2_acc_9: 0.8462 - dense_2_acc_10: 0.9072 - dense_2_acc_11: 0.9480 - dense_2_acc_12: 0.9721 - dense_2_acc_13: 0.9867 - dense_2_acc_14: 0.9913 - dense_2_acc_15: 0.9965 - dense_2_acc_16: 0.9983 - dense_2_acc_17: 0.9986 - dense_2_acc_18: 0.9990 - dense_2_acc_19: 0.9993 - dense_2_acc_20: 0.9997 - dense_2_acc_21: 0.9997 - dense_2_acc_22: 0.9997      \n",
      "Epoch 4/100\n",
      "2867/2867 [==============================] - 284s - loss: 39.0376 - dense_2_loss_1: 4.1263 - dense_2_loss_2: 5.8569 - dense_2_loss_3: 5.7880 - dense_2_loss_4: 5.8987 - dense_2_loss_5: 5.1341 - dense_2_loss_6: 4.0890 - dense_2_loss_7: 3.0322 - dense_2_loss_8: 2.0257 - dense_2_loss_9: 1.2527 - dense_2_loss_10: 0.8044 - dense_2_loss_11: 0.4630 - dense_2_loss_12: 0.2574 - dense_2_loss_13: 0.1218 - dense_2_loss_14: 0.0840 - dense_2_loss_15: 0.0343 - dense_2_loss_16: 0.0230 - dense_2_loss_17: 0.0175 - dense_2_loss_18: 0.0134 - dense_2_loss_19: 0.0052 - dense_2_loss_20: 0.0045 - dense_2_loss_21: 0.0023 - dense_2_loss_22: 0.0032 - dense_2_acc_1: 0.1713 - dense_2_acc_2: 0.0771 - dense_2_acc_3: 0.0673 - dense_2_acc_4: 0.1151 - dense_2_acc_5: 0.2483 - dense_2_acc_6: 0.4206 - dense_2_acc_7: 0.5940 - dense_2_acc_8: 0.7398 - dense_2_acc_9: 0.8462 - dense_2_acc_10: 0.9072 - dense_2_acc_11: 0.9480 - dense_2_acc_12: 0.9721 - dense_2_acc_13: 0.9867 - dense_2_acc_14: 0.9913 - dense_2_acc_15: 0.9965 - dense_2_acc_16: 0.9983 - dense_2_acc_17: 0.9986 - dense_2_acc_18: 0.9990 - dense_2_acc_19: 0.9993 - dense_2_acc_20: 0.9997 - dense_2_acc_21: 0.9997 - dense_2_acc_22: 0.9997   \n",
      "Epoch 5/100\n",
      "2867/2867 [==============================] - 286s - loss: 38.2938 - dense_2_loss_1: 4.0428 - dense_2_loss_2: 5.7567 - dense_2_loss_3: 5.6923 - dense_2_loss_4: 5.8090 - dense_2_loss_5: 5.0378 - dense_2_loss_6: 4.0194 - dense_2_loss_7: 2.9588 - dense_2_loss_8: 1.9715 - dense_2_loss_9: 1.2052 - dense_2_loss_10: 0.7699 - dense_2_loss_11: 0.4572 - dense_2_loss_12: 0.2544 - dense_2_loss_13: 0.1187 - dense_2_loss_14: 0.0843 - dense_2_loss_15: 0.0363 - dense_2_loss_16: 0.0223 - dense_2_loss_17: 0.0208 - dense_2_loss_18: 0.0148 - dense_2_loss_19: 0.0067 - dense_2_loss_20: 0.0063 - dense_2_loss_21: 0.0042 - dense_2_loss_22: 0.0045 - dense_2_acc_1: 0.1713 - dense_2_acc_2: 0.0788 - dense_2_acc_3: 0.0680 - dense_2_acc_4: 0.1175 - dense_2_acc_5: 0.2515 - dense_2_acc_6: 0.4203 - dense_2_acc_7: 0.5947 - dense_2_acc_8: 0.7398 - dense_2_acc_9: 0.8465 - dense_2_acc_10: 0.9072 - dense_2_acc_11: 0.9480 - dense_2_acc_12: 0.9721 - dense_2_acc_13: 0.9867 - dense_2_acc_14: 0.9913 - dense_2_acc_15: 0.9965 - dense_2_acc_16: 0.9983 - dense_2_acc_17: 0.9986 - dense_2_acc_18: 0.9990 - dense_2_acc_19: 0.9993 - dense_2_acc_20: 0.9997 - dense_2_acc_21: 0.9997 - dense_2_acc_22: 0.9997   \n",
      "Epoch 6/100\n",
      "2867/2867 [==============================] - 283s - loss: 37.6807 - dense_2_loss_1: 3.9766 - dense_2_loss_2: 5.6708 - dense_2_loss_3: 5.6029 - dense_2_loss_4: 5.7304 - dense_2_loss_5: 4.9709 - dense_2_loss_6: 3.9587 - dense_2_loss_7: 2.9184 - dense_2_loss_8: 1.9448 - dense_2_loss_9: 1.1819 - dense_2_loss_10: 0.7515 - dense_2_loss_11: 0.4377 - dense_2_loss_12: 0.2421 - dense_2_loss_13: 0.1161 - dense_2_loss_14: 0.0823 - dense_2_loss_15: 0.0329 - dense_2_loss_16: 0.0197 - dense_2_loss_17: 0.0176 - dense_2_loss_18: 0.0125 - dense_2_loss_19: 0.0047 - dense_2_loss_20: 0.0035 - dense_2_loss_21: 0.0022 - dense_2_loss_22: 0.0024 - dense_2_acc_1: 0.1713 - dense_2_acc_2: 0.0809 - dense_2_acc_3: 0.0778 - dense_2_acc_4: 0.1214 - dense_2_acc_5: 0.2539 - dense_2_acc_6: 0.4241 - dense_2_acc_7: 0.5950 - dense_2_acc_8: 0.7405 - dense_2_acc_9: 0.8458 - dense_2_acc_10: 0.9072 - dense_2_acc_11: 0.9480 - dense_2_acc_12: 0.9721 - dense_2_acc_13: 0.9867 - dense_2_acc_14: 0.9913 - dense_2_acc_15: 0.9965 - dense_2_acc_16: 0.9983 - dense_2_acc_17: 0.9986 - dense_2_acc_18: 0.9990 - dense_2_acc_19: 0.9993 - dense_2_acc_20: 0.9997 - dense_2_acc_21: 0.9997 - dense_2_acc_22: 0.9997   \n",
      "Epoch 7/100\n",
      "2867/2867 [==============================] - 284s - loss: 37.0703 - dense_2_loss_1: 3.8773 - dense_2_loss_2: 5.5752 - dense_2_loss_3: 5.5325 - dense_2_loss_4: 5.6668 - dense_2_loss_5: 4.9103 - dense_2_loss_6: 3.9056 - dense_2_loss_7: 2.8758 - dense_2_loss_8: 1.9031 - dense_2_loss_9: 1.1634 - dense_2_loss_10: 0.7337 - dense_2_loss_11: 0.4170 - dense_2_loss_12: 0.2306 - dense_2_loss_13: 0.1071 - dense_2_loss_14: 0.0753 - dense_2_loss_15: 0.0337 - dense_2_loss_16: 0.0174 - dense_2_loss_17: 0.0149 - dense_2_loss_18: 0.0128 - dense_2_loss_19: 0.0055 - dense_2_loss_20: 0.0045 - dense_2_loss_21: 0.0035 - dense_2_loss_22: 0.0041 - dense_2_acc_1: 0.1713 - dense_2_acc_2: 0.0865 - dense_2_acc_3: 0.0914 - dense_2_acc_4: 0.1210 - dense_2_acc_5: 0.2599 - dense_2_acc_6: 0.4252 - dense_2_acc_7: 0.5961 - dense_2_acc_8: 0.7408 - dense_2_acc_9: 0.8462 - dense_2_acc_10: 0.9072 - dense_2_acc_11: 0.9480 - dense_2_acc_12: 0.9721 - dense_2_acc_13: 0.9867 - dense_2_acc_14: 0.9913 - dense_2_acc_15: 0.9965 - dense_2_acc_16: 0.9983 - dense_2_acc_17: 0.9986 - dense_2_acc_18: 0.9990 - dense_2_acc_19: 0.9993 - dense_2_acc_20: 0.9997 - dense_2_acc_21: 0.9997 - dense_2_acc_22: 0.9997   \n",
      "Epoch 8/100\n",
      "2867/2867 [==============================] - 285s - loss: 36.6246 - dense_2_loss_1: 3.8166 - dense_2_loss_2: 5.5113 - dense_2_loss_3: 5.4618 - dense_2_loss_4: 5.6150 - dense_2_loss_5: 4.8607 - dense_2_loss_6: 3.8704 - dense_2_loss_7: 2.8160 - dense_2_loss_8: 1.8681 - dense_2_loss_9: 1.1412 - dense_2_loss_10: 0.7199 - dense_2_loss_11: 0.4220 - dense_2_loss_12: 0.2316 - dense_2_loss_13: 0.1079 - dense_2_loss_14: 0.0751 - dense_2_loss_15: 0.0301 - dense_2_loss_16: 0.0186 - dense_2_loss_17: 0.0167 - dense_2_loss_18: 0.0139 - dense_2_loss_19: 0.0088 - dense_2_loss_20: 0.0065 - dense_2_loss_21: 0.0063 - dense_2_loss_22: 0.0062 - dense_2_acc_1: 0.1713 - dense_2_acc_2: 0.1053 - dense_2_acc_3: 0.0970 - dense_2_acc_4: 0.1252 - dense_2_acc_5: 0.2606 - dense_2_acc_6: 0.4304 - dense_2_acc_7: 0.5982 - dense_2_acc_8: 0.7412 - dense_2_acc_9: 0.8469 - dense_2_acc_10: 0.9076 - dense_2_acc_11: 0.9480 - dense_2_acc_12: 0.9721 - dense_2_acc_13: 0.9867 - dense_2_acc_14: 0.9913 - dense_2_acc_15: 0.9965 - dense_2_acc_16: 0.9983 - dense_2_acc_17: 0.9986 - dense_2_acc_18: 0.9990 - dense_2_acc_19: 0.9993 - dense_2_acc_20: 0.9997 - dense_2_acc_21: 0.9997 - dense_2_acc_22: 0.9997   \n",
      "Epoch 9/100\n",
      "2867/2867 [==============================] - 286s - loss: 36.0565 - dense_2_loss_1: 3.7277 - dense_2_loss_2: 5.4206 - dense_2_loss_3: 5.3759 - dense_2_loss_4: 5.5507 - dense_2_loss_5: 4.8191 - dense_2_loss_6: 3.8270 - dense_2_loss_7: 2.8044 - dense_2_loss_8: 1.8410 - dense_2_loss_9: 1.1158 - dense_2_loss_10: 0.6973 - dense_2_loss_11: 0.3983 - dense_2_loss_12: 0.2241 - dense_2_loss_13: 0.1018 - dense_2_loss_14: 0.0682 - dense_2_loss_15: 0.0294 - dense_2_loss_16: 0.0150 - dense_2_loss_17: 0.0130 - dense_2_loss_18: 0.0102 - dense_2_loss_19: 0.0045 - dense_2_loss_20: 0.0046 - dense_2_loss_21: 0.0034 - dense_2_loss_22: 0.0044 - dense_2_acc_1: 0.1758 - dense_2_acc_2: 0.1172 - dense_2_acc_3: 0.1001 - dense_2_acc_4: 0.1277 - dense_2_acc_5: 0.2633 - dense_2_acc_6: 0.4259 - dense_2_acc_7: 0.5999 - dense_2_acc_8: 0.7408 - dense_2_acc_9: 0.8472 - dense_2_acc_10: 0.9072 - dense_2_acc_11: 0.9480 - dense_2_acc_12: 0.9721 - dense_2_acc_13: 0.9867 - dense_2_acc_14: 0.9913 - dense_2_acc_15: 0.9965 - dense_2_acc_16: 0.9983 - dense_2_acc_17: 0.9986 - dense_2_acc_18: 0.9990 - dense_2_acc_19: 0.9993 - dense_2_acc_20: 0.9997 - dense_2_acc_21: 0.9997 - dense_2_acc_22: 0.9997   \n",
      "Epoch 10/100\n",
      "2160/2867 [=====================>........] - ETA: 69s - loss: 35.5815 - dense_2_loss_1: 3.6405 - dense_2_loss_2: 5.3361 - dense_2_loss_3: 5.2805 - dense_2_loss_4: 5.4994 - dense_2_loss_5: 4.7546 - dense_2_loss_6: 3.8023 - dense_2_loss_7: 2.7608 - dense_2_loss_8: 1.8112 - dense_2_loss_9: 1.1420 - dense_2_loss_10: 0.7231 - dense_2_loss_11: 0.4035 - dense_2_loss_12: 0.2350 - dense_2_loss_13: 0.0980 - dense_2_loss_14: 0.0622 - dense_2_loss_15: 0.0186 - dense_2_loss_16: 0.0067 - dense_2_loss_17: 0.0056 - dense_2_loss_18: 6.7173e-04 - dense_2_loss_19: 3.9882e-04 - dense_2_loss_20: 2.0234e-04 - dense_2_loss_21: 8.7226e-05 - dense_2_loss_22: 1.8780e-05 - dense_2_acc_1: 0.1912 - dense_2_acc_2: 0.1213 - dense_2_acc_3: 0.1139 - dense_2_acc_4: 0.1269 - dense_2_acc_5: 0.2537 - dense_2_acc_6: 0.4236 - dense_2_acc_7: 0.5986 - dense_2_acc_8: 0.7403 - dense_2_acc_9: 0.8417 - dense_2_acc_10: 0.9037 - dense_2_acc_11: 0.9463 - dense_2_acc_12: 0.9704 - dense_2_acc_13: 0.9875 - dense_2_acc_14: 0.9921 - dense_2_acc_15: 0.9977 - dense_2_acc_16: 0.9995 - dense_2_acc_17: 0.9995 - dense_2_acc_18: 1.0000 - dense_2_acc_19: 1.0000 - dense_2_acc_20: 1.0000 - dense_2_acc_21: 1.0000 - dense_2_acc_22: 1.0000"
     ]
    },
    {
     "ename": "KeyboardInterrupt",
     "evalue": "",
     "output_type": "error",
     "traceback": [
      "\u001b[0;31m---------------------------------------------------------------------------\u001b[0m",
      "\u001b[0;31mKeyboardInterrupt\u001b[0m                         Traceback (most recent call last)",
      "\u001b[0;32m<ipython-input-41-ff33cf97cad2>\u001b[0m in \u001b[0;36m<module>\u001b[0;34m()\u001b[0m\n\u001b[0;32m----> 1\u001b[0;31m \u001b[0mmodel\u001b[0m\u001b[0;34m.\u001b[0m\u001b[0mfit\u001b[0m\u001b[0;34m(\u001b[0m\u001b[0;34m[\u001b[0m\u001b[0mXoh\u001b[0m\u001b[0;34m,\u001b[0m \u001b[0ms0\u001b[0m\u001b[0;34m,\u001b[0m \u001b[0mc0\u001b[0m\u001b[0;34m]\u001b[0m\u001b[0;34m,\u001b[0m \u001b[0moutputs\u001b[0m\u001b[0;34m,\u001b[0m \u001b[0mepochs\u001b[0m\u001b[0;34m=\u001b[0m\u001b[0;36m100\u001b[0m\u001b[0;34m,\u001b[0m \u001b[0mbatch_size\u001b[0m\u001b[0;34m=\u001b[0m\u001b[0;36m20\u001b[0m\u001b[0;34m)\u001b[0m\u001b[0;34m\u001b[0m\u001b[0m\n\u001b[0m",
      "\u001b[0;32m/usr/local/src/conda3_runtime/home/envs/DSX-Python35-Spark/lib/python3.5/site-packages/keras/engine/training.py\u001b[0m in \u001b[0;36mfit\u001b[0;34m(self, x, y, batch_size, epochs, verbose, callbacks, validation_split, validation_data, shuffle, class_weight, sample_weight, initial_epoch, **kwargs)\u001b[0m\n\u001b[1;32m   1505\u001b[0m                               \u001b[0mval_f\u001b[0m\u001b[0;34m=\u001b[0m\u001b[0mval_f\u001b[0m\u001b[0;34m,\u001b[0m \u001b[0mval_ins\u001b[0m\u001b[0;34m=\u001b[0m\u001b[0mval_ins\u001b[0m\u001b[0;34m,\u001b[0m \u001b[0mshuffle\u001b[0m\u001b[0;34m=\u001b[0m\u001b[0mshuffle\u001b[0m\u001b[0;34m,\u001b[0m\u001b[0;34m\u001b[0m\u001b[0m\n\u001b[1;32m   1506\u001b[0m                               \u001b[0mcallback_metrics\u001b[0m\u001b[0;34m=\u001b[0m\u001b[0mcallback_metrics\u001b[0m\u001b[0;34m,\u001b[0m\u001b[0;34m\u001b[0m\u001b[0m\n\u001b[0;32m-> 1507\u001b[0;31m                               initial_epoch=initial_epoch)\n\u001b[0m\u001b[1;32m   1508\u001b[0m \u001b[0;34m\u001b[0m\u001b[0m\n\u001b[1;32m   1509\u001b[0m     \u001b[0;32mdef\u001b[0m \u001b[0mevaluate\u001b[0m\u001b[0;34m(\u001b[0m\u001b[0mself\u001b[0m\u001b[0;34m,\u001b[0m \u001b[0mx\u001b[0m\u001b[0;34m,\u001b[0m \u001b[0my\u001b[0m\u001b[0;34m,\u001b[0m \u001b[0mbatch_size\u001b[0m\u001b[0;34m=\u001b[0m\u001b[0;36m32\u001b[0m\u001b[0;34m,\u001b[0m \u001b[0mverbose\u001b[0m\u001b[0;34m=\u001b[0m\u001b[0;36m1\u001b[0m\u001b[0;34m,\u001b[0m \u001b[0msample_weight\u001b[0m\u001b[0;34m=\u001b[0m\u001b[0;32mNone\u001b[0m\u001b[0;34m)\u001b[0m\u001b[0;34m:\u001b[0m\u001b[0;34m\u001b[0m\u001b[0m\n",
      "\u001b[0;32m/usr/local/src/conda3_runtime/home/envs/DSX-Python35-Spark/lib/python3.5/site-packages/keras/engine/training.py\u001b[0m in \u001b[0;36m_fit_loop\u001b[0;34m(self, f, ins, out_labels, batch_size, epochs, verbose, callbacks, val_f, val_ins, shuffle, callback_metrics, initial_epoch)\u001b[0m\n\u001b[1;32m   1154\u001b[0m                 \u001b[0mbatch_logs\u001b[0m\u001b[0;34m[\u001b[0m\u001b[0;34m'size'\u001b[0m\u001b[0;34m]\u001b[0m \u001b[0;34m=\u001b[0m \u001b[0mlen\u001b[0m\u001b[0;34m(\u001b[0m\u001b[0mbatch_ids\u001b[0m\u001b[0;34m)\u001b[0m\u001b[0;34m\u001b[0m\u001b[0m\n\u001b[1;32m   1155\u001b[0m                 \u001b[0mcallbacks\u001b[0m\u001b[0;34m.\u001b[0m\u001b[0mon_batch_begin\u001b[0m\u001b[0;34m(\u001b[0m\u001b[0mbatch_index\u001b[0m\u001b[0;34m,\u001b[0m \u001b[0mbatch_logs\u001b[0m\u001b[0;34m)\u001b[0m\u001b[0;34m\u001b[0m\u001b[0m\n\u001b[0;32m-> 1156\u001b[0;31m                 \u001b[0mouts\u001b[0m \u001b[0;34m=\u001b[0m \u001b[0mf\u001b[0m\u001b[0;34m(\u001b[0m\u001b[0mins_batch\u001b[0m\u001b[0;34m)\u001b[0m\u001b[0;34m\u001b[0m\u001b[0m\n\u001b[0m\u001b[1;32m   1157\u001b[0m                 \u001b[0;32mif\u001b[0m \u001b[0;32mnot\u001b[0m \u001b[0misinstance\u001b[0m\u001b[0;34m(\u001b[0m\u001b[0mouts\u001b[0m\u001b[0;34m,\u001b[0m \u001b[0mlist\u001b[0m\u001b[0;34m)\u001b[0m\u001b[0;34m:\u001b[0m\u001b[0;34m\u001b[0m\u001b[0m\n\u001b[1;32m   1158\u001b[0m                     \u001b[0mouts\u001b[0m \u001b[0;34m=\u001b[0m \u001b[0;34m[\u001b[0m\u001b[0mouts\u001b[0m\u001b[0;34m]\u001b[0m\u001b[0;34m\u001b[0m\u001b[0m\n",
      "\u001b[0;32m/usr/local/src/conda3_runtime/home/envs/DSX-Python35-Spark/lib/python3.5/site-packages/keras/backend/tensorflow_backend.py\u001b[0m in \u001b[0;36m__call__\u001b[0;34m(self, inputs)\u001b[0m\n\u001b[1;32m   2267\u001b[0m         updated = session.run(self.outputs + [self.updates_op],\n\u001b[1;32m   2268\u001b[0m                               \u001b[0mfeed_dict\u001b[0m\u001b[0;34m=\u001b[0m\u001b[0mfeed_dict\u001b[0m\u001b[0;34m,\u001b[0m\u001b[0;34m\u001b[0m\u001b[0m\n\u001b[0;32m-> 2269\u001b[0;31m                               **self.session_kwargs)\n\u001b[0m\u001b[1;32m   2270\u001b[0m         \u001b[0;32mreturn\u001b[0m \u001b[0mupdated\u001b[0m\u001b[0;34m[\u001b[0m\u001b[0;34m:\u001b[0m\u001b[0mlen\u001b[0m\u001b[0;34m(\u001b[0m\u001b[0mself\u001b[0m\u001b[0;34m.\u001b[0m\u001b[0moutputs\u001b[0m\u001b[0;34m)\u001b[0m\u001b[0;34m]\u001b[0m\u001b[0;34m\u001b[0m\u001b[0m\n\u001b[1;32m   2271\u001b[0m \u001b[0;34m\u001b[0m\u001b[0m\n",
      "\u001b[0;32m/usr/local/src/conda3_runtime/home/envs/DSX-Python35-Spark/lib/python3.5/site-packages/tensorflow/python/client/session.py\u001b[0m in \u001b[0;36mrun\u001b[0;34m(self, fetches, feed_dict, options, run_metadata)\u001b[0m\n\u001b[1;32m    893\u001b[0m     \u001b[0;32mtry\u001b[0m\u001b[0;34m:\u001b[0m\u001b[0;34m\u001b[0m\u001b[0m\n\u001b[1;32m    894\u001b[0m       result = self._run(None, fetches, feed_dict, options_ptr,\n\u001b[0;32m--> 895\u001b[0;31m                          run_metadata_ptr)\n\u001b[0m\u001b[1;32m    896\u001b[0m       \u001b[0;32mif\u001b[0m \u001b[0mrun_metadata\u001b[0m\u001b[0;34m:\u001b[0m\u001b[0;34m\u001b[0m\u001b[0m\n\u001b[1;32m    897\u001b[0m         \u001b[0mproto_data\u001b[0m \u001b[0;34m=\u001b[0m \u001b[0mtf_session\u001b[0m\u001b[0;34m.\u001b[0m\u001b[0mTF_GetBuffer\u001b[0m\u001b[0;34m(\u001b[0m\u001b[0mrun_metadata_ptr\u001b[0m\u001b[0;34m)\u001b[0m\u001b[0;34m\u001b[0m\u001b[0m\n",
      "\u001b[0;32m/usr/local/src/conda3_runtime/home/envs/DSX-Python35-Spark/lib/python3.5/site-packages/tensorflow/python/client/session.py\u001b[0m in \u001b[0;36m_run\u001b[0;34m(self, handle, fetches, feed_dict, options, run_metadata)\u001b[0m\n\u001b[1;32m   1122\u001b[0m     \u001b[0;32mif\u001b[0m \u001b[0mfinal_fetches\u001b[0m \u001b[0;32mor\u001b[0m \u001b[0mfinal_targets\u001b[0m \u001b[0;32mor\u001b[0m \u001b[0;34m(\u001b[0m\u001b[0mhandle\u001b[0m \u001b[0;32mand\u001b[0m \u001b[0mfeed_dict_tensor\u001b[0m\u001b[0;34m)\u001b[0m\u001b[0;34m:\u001b[0m\u001b[0;34m\u001b[0m\u001b[0m\n\u001b[1;32m   1123\u001b[0m       results = self._do_run(handle, final_targets, final_fetches,\n\u001b[0;32m-> 1124\u001b[0;31m                              feed_dict_tensor, options, run_metadata)\n\u001b[0m\u001b[1;32m   1125\u001b[0m     \u001b[0;32melse\u001b[0m\u001b[0;34m:\u001b[0m\u001b[0;34m\u001b[0m\u001b[0m\n\u001b[1;32m   1126\u001b[0m       \u001b[0mresults\u001b[0m \u001b[0;34m=\u001b[0m \u001b[0;34m[\u001b[0m\u001b[0;34m]\u001b[0m\u001b[0;34m\u001b[0m\u001b[0m\n",
      "\u001b[0;32m/usr/local/src/conda3_runtime/home/envs/DSX-Python35-Spark/lib/python3.5/site-packages/tensorflow/python/client/session.py\u001b[0m in \u001b[0;36m_do_run\u001b[0;34m(self, handle, target_list, fetch_list, feed_dict, options, run_metadata)\u001b[0m\n\u001b[1;32m   1319\u001b[0m     \u001b[0;32mif\u001b[0m \u001b[0mhandle\u001b[0m \u001b[0;32mis\u001b[0m \u001b[0;32mNone\u001b[0m\u001b[0;34m:\u001b[0m\u001b[0;34m\u001b[0m\u001b[0m\n\u001b[1;32m   1320\u001b[0m       return self._do_call(_run_fn, self._session, feeds, fetches, targets,\n\u001b[0;32m-> 1321\u001b[0;31m                            options, run_metadata)\n\u001b[0m\u001b[1;32m   1322\u001b[0m     \u001b[0;32melse\u001b[0m\u001b[0;34m:\u001b[0m\u001b[0;34m\u001b[0m\u001b[0m\n\u001b[1;32m   1323\u001b[0m       \u001b[0;32mreturn\u001b[0m \u001b[0mself\u001b[0m\u001b[0;34m.\u001b[0m\u001b[0m_do_call\u001b[0m\u001b[0;34m(\u001b[0m\u001b[0m_prun_fn\u001b[0m\u001b[0;34m,\u001b[0m \u001b[0mself\u001b[0m\u001b[0;34m.\u001b[0m\u001b[0m_session\u001b[0m\u001b[0;34m,\u001b[0m \u001b[0mhandle\u001b[0m\u001b[0;34m,\u001b[0m \u001b[0mfeeds\u001b[0m\u001b[0;34m,\u001b[0m \u001b[0mfetches\u001b[0m\u001b[0;34m)\u001b[0m\u001b[0;34m\u001b[0m\u001b[0m\n",
      "\u001b[0;32m/usr/local/src/conda3_runtime/home/envs/DSX-Python35-Spark/lib/python3.5/site-packages/tensorflow/python/client/session.py\u001b[0m in \u001b[0;36m_do_call\u001b[0;34m(self, fn, *args)\u001b[0m\n\u001b[1;32m   1325\u001b[0m   \u001b[0;32mdef\u001b[0m \u001b[0m_do_call\u001b[0m\u001b[0;34m(\u001b[0m\u001b[0mself\u001b[0m\u001b[0;34m,\u001b[0m \u001b[0mfn\u001b[0m\u001b[0;34m,\u001b[0m \u001b[0;34m*\u001b[0m\u001b[0margs\u001b[0m\u001b[0;34m)\u001b[0m\u001b[0;34m:\u001b[0m\u001b[0;34m\u001b[0m\u001b[0m\n\u001b[1;32m   1326\u001b[0m     \u001b[0;32mtry\u001b[0m\u001b[0;34m:\u001b[0m\u001b[0;34m\u001b[0m\u001b[0m\n\u001b[0;32m-> 1327\u001b[0;31m       \u001b[0;32mreturn\u001b[0m \u001b[0mfn\u001b[0m\u001b[0;34m(\u001b[0m\u001b[0;34m*\u001b[0m\u001b[0margs\u001b[0m\u001b[0;34m)\u001b[0m\u001b[0;34m\u001b[0m\u001b[0m\n\u001b[0m\u001b[1;32m   1328\u001b[0m     \u001b[0;32mexcept\u001b[0m \u001b[0merrors\u001b[0m\u001b[0;34m.\u001b[0m\u001b[0mOpError\u001b[0m \u001b[0;32mas\u001b[0m \u001b[0me\u001b[0m\u001b[0;34m:\u001b[0m\u001b[0;34m\u001b[0m\u001b[0m\n\u001b[1;32m   1329\u001b[0m       \u001b[0mmessage\u001b[0m \u001b[0;34m=\u001b[0m \u001b[0mcompat\u001b[0m\u001b[0;34m.\u001b[0m\u001b[0mas_text\u001b[0m\u001b[0;34m(\u001b[0m\u001b[0me\u001b[0m\u001b[0;34m.\u001b[0m\u001b[0mmessage\u001b[0m\u001b[0;34m)\u001b[0m\u001b[0;34m\u001b[0m\u001b[0m\n",
      "\u001b[0;32m/usr/local/src/conda3_runtime/home/envs/DSX-Python35-Spark/lib/python3.5/site-packages/tensorflow/python/client/session.py\u001b[0m in \u001b[0;36m_run_fn\u001b[0;34m(session, feed_dict, fetch_list, target_list, options, run_metadata)\u001b[0m\n\u001b[1;32m   1304\u001b[0m           return tf_session.TF_Run(session, options,\n\u001b[1;32m   1305\u001b[0m                                    \u001b[0mfeed_dict\u001b[0m\u001b[0;34m,\u001b[0m \u001b[0mfetch_list\u001b[0m\u001b[0;34m,\u001b[0m \u001b[0mtarget_list\u001b[0m\u001b[0;34m,\u001b[0m\u001b[0;34m\u001b[0m\u001b[0m\n\u001b[0;32m-> 1306\u001b[0;31m                                    status, run_metadata)\n\u001b[0m\u001b[1;32m   1307\u001b[0m \u001b[0;34m\u001b[0m\u001b[0m\n\u001b[1;32m   1308\u001b[0m     \u001b[0;32mdef\u001b[0m \u001b[0m_prun_fn\u001b[0m\u001b[0;34m(\u001b[0m\u001b[0msession\u001b[0m\u001b[0;34m,\u001b[0m \u001b[0mhandle\u001b[0m\u001b[0;34m,\u001b[0m \u001b[0mfeed_dict\u001b[0m\u001b[0;34m,\u001b[0m \u001b[0mfetch_list\u001b[0m\u001b[0;34m)\u001b[0m\u001b[0;34m:\u001b[0m\u001b[0;34m\u001b[0m\u001b[0m\n",
      "\u001b[0;31mKeyboardInterrupt\u001b[0m: "
     ]
    }
   ],
   "source": [
    "model.fit([Xoh, s0, c0], outputs, epochs=100, batch_size=20)"
   ]
  },
  {
   "cell_type": "markdown",
   "metadata": {},
   "source": [
    "While training you can see the loss as well as the accuracy on each of the 10 positions of the output. The table below gives you an example of what the accuracies could be if the batch had 2 examples: \n",
    "\n",
    "<img src=\"images/table.png\" style=\"width:700;height:200px;\"> <br>\n",
    "<caption><center>Thus, `dense_2_acc_8: 0.89` means that you are predicting the 7th character of the output correctly 89% of the time in the current batch of data. </center></caption>\n",
    "\n",
    "\n",
    "We have run this model for longer, and saved the weights. Run the next cell to load our weights. (By training a model for several minutes, you should be able to obtain a model of similar accuracy, but loading our model will save you time.) "
   ]
  },
  {
   "cell_type": "code",
   "execution_count": null,
   "metadata": {},
   "outputs": [],
   "source": [
    "# model.load_weights('models/model.h5')"
   ]
  },
  {
   "cell_type": "markdown",
   "metadata": {},
   "source": [
    "You can now see the results on new examples."
   ]
  },
  {
   "cell_type": "code",
   "execution_count": null,
   "metadata": {},
   "outputs": [],
   "source": [
    "#EXAMPLES = ['3 May 1979', '5 April 09', '21th of August 2016', 'Tue 10 Jul 2007', 'Saturday May 9 2018', 'March 3 2001', 'March 3rd 2001', '1 March 2001']\n",
    "EXAMPLES=hindi_sentences_list[0:2]\n",
    "EXAMPLES"
   ]
  },
  {
   "cell_type": "code",
   "execution_count": null,
   "metadata": {},
   "outputs": [],
   "source": [
    "EXAMPLES=hindi_sentences_list[0:8]\n",
    "EXAMPLES_CODED=get_padded_encoding(EXAMPLES,hindi_dictionary,max_hindi_words)\n",
    "print(EXAMPLES_CODED.shape,hindi_encoding.shape)"
   ]
  },
  {
   "cell_type": "code",
   "execution_count": null,
   "metadata": {},
   "outputs": [],
   "source": [
    "i=0\n",
    "for example in EXAMPLES_CODED:\n",
    "    source = example\n",
    "    source = np.array(list(map(lambda x: to_categorical(x, num_classes=len(hindi_dictionary)), source))).swapaxes(0,1)\n",
    "    prediction = model.predict([source, s0, c0])\n",
    "    print (\"Prediction Type & Shape:\",type(prediction),len(prediction))\n",
    "    prediction = np.argmax(prediction, axis = -1)\n",
    "    output = [revere_dictionary_english[int(i)] for i in prediction]\n",
    "    \n",
    "    print(\"Hindi\",EXAMPLES[i])\n",
    "    print(\"Expected\",english_sentences_list[i])\n",
    "    print(\"output:\", ' '.join(output))\n",
    "    print (\"Prediction:\",list(prediction))\n",
    "    i=i+1"
   ]
  },
  {
   "cell_type": "markdown",
   "metadata": {},
   "source": [
    "You can also change these examples to test with your own examples. The next part will give you a better sense on what the attention mechanism is doing--i.e., what part of the input the network is paying attention to when generating a particular output character. "
   ]
  },
  {
   "cell_type": "markdown",
   "metadata": {},
   "source": [
    "## 3 - Visualizing Attention (Optional / Ungraded)\n",
    "\n",
    "Since the problem has a fixed output length of 10, it is also possible to carry out this task using 10 different softmax units to generate the 10 characters of the output. But one advantage of the attention model is that each part of the output (say the month) knows it needs to depend only on a small part of the input (the characters in the input giving the month). We can  visualize what part of the output is looking at what part of the input.\n",
    "\n",
    "Consider the task of translating \"Saturday 9 May 2018\" to \"2018-05-09\". If we visualize the computed $\\alpha^{\\langle t, t' \\rangle}$ we get this: \n",
    "\n",
    "<img src=\"images/date_attention.png\" style=\"width:600;height:300px;\"> <br>\n",
    "<caption><center> **Figure 8**: Full Attention Map</center></caption>\n",
    "\n",
    "Notice how the output ignores the \"Saturday\" portion of the input. None of the output timesteps are paying much attention to that portion of the input. We see also that 9 has been translated as 09 and May has been correctly translated into 05, with the output paying attention to the parts of the input it needs to to make the translation. The year mostly requires it to pay attention to the input's \"18\" in order to generate \"2018.\" \n",
    "\n"
   ]
  },
  {
   "cell_type": "markdown",
   "metadata": {},
   "source": [
    "### 3.1 - Getting the activations from the network\n",
    "\n",
    "Lets now visualize the attention values in your network. We'll propagate an example through the network, then visualize the values of $\\alpha^{\\langle t, t' \\rangle}$. \n",
    "\n",
    "To figure out where the attention values are located, let's start by printing a summary of the model ."
   ]
  },
  {
   "cell_type": "code",
   "execution_count": null,
   "metadata": {},
   "outputs": [],
   "source": [
    "model.summary()"
   ]
  },
  {
   "cell_type": "markdown",
   "metadata": {},
   "source": [
    "Navigate through the output of `model.summary()` above. You can see that the layer named `attention_weights` outputs the `alphas` of shape (m, 30, 1) before `dot_2` computes the context vector for every time step $t = 0, \\ldots, T_y-1$. Lets get the activations from this layer.\n",
    "\n",
    "The function `attention_map()` pulls out the attention values from your model and plots them."
   ]
  },
  {
   "cell_type": "code",
   "execution_count": null,
   "metadata": {},
   "outputs": [],
   "source": [
    "test_sentence=str(hindi_sentences_list[1])"
   ]
  },
  {
   "cell_type": "code",
   "execution_count": null,
   "metadata": {
    "scrolled": false
   },
   "outputs": [],
   "source": [
    "attention_map = plot_attention_map(model, hindi_dictionary, revere_dictionary_english, test_sentence, num = 6, n_s = 128)"
   ]
  },
  {
   "cell_type": "markdown",
   "metadata": {},
   "source": [
    "On the generated plot you can observe the values of the attention weights for each character of the predicted output. Examine this plot and check that where the network is paying attention makes sense to you.\n",
    "\n",
    "In the date translation application, you will observe that most of the time attention helps predict the year, and hasn't much impact on predicting the day/month."
   ]
  },
  {
   "cell_type": "markdown",
   "metadata": {},
   "source": [
    "### Congratulations!\n",
    "\n",
    "\n",
    "You have come to the end of this assignment \n",
    "\n",
    "<font color='blue'> **Here's what you should remember from this notebook**:\n",
    "\n",
    "- Machine translation models can be used to map from one sequence to another. They are useful not just for translating human languages (like French->English) but also for tasks like date format translation. \n",
    "- An attention mechanism allows a network to focus on the most relevant parts of the input when producing a specific part of the output. \n",
    "- A network using an attention mechanism can translate from inputs of length $T_x$ to outputs of length $T_y$, where $T_x$ and $T_y$ can be different. \n",
    "- You can visualize attention weights $\\alpha^{\\langle t,t' \\rangle}$ to see what the network is paying attention to while generating each output."
   ]
  },
  {
   "cell_type": "markdown",
   "metadata": {},
   "source": [
    "Congratulations on finishing this assignment! You are now able to implement an attention model and use it to learn complex mappings from one sequence to another. "
   ]
  }
 ],
 "metadata": {
  "coursera": {
   "course_slug": "nlp-sequence-models",
   "graded_item_id": "n16CQ",
   "launcher_item_id": "npjGi"
  },
  "kernelspec": {
   "display_name": "Python 3.5 with Spark 1.6 (Unsupported)",
   "language": "python",
   "name": "python3"
  },
  "language_info": {
   "codemirror_mode": {
    "name": "ipython",
    "version": 3
   },
   "file_extension": ".py",
   "mimetype": "text/x-python",
   "name": "python",
   "nbconvert_exporter": "python",
   "pygments_lexer": "ipython3",
   "version": "3.5.4"
  }
 },
 "nbformat": 4,
 "nbformat_minor": 2
}
