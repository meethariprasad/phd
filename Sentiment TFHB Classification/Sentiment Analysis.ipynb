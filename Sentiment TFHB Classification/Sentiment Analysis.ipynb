{
 "cells": [
  {
   "cell_type": "code",
   "execution_count": 3,
   "metadata": {},
   "outputs": [
    {
     "name": "stdout",
     "output_type": "stream",
     "text": [
      "Version:  2.0.0\n",
      "Eager mode:  True\n",
      "Hub version:  0.11.0\n",
      "GPU is NOT AVAILABLE\n"
     ]
    }
   ],
   "source": [
    "import os\n",
    "import numpy as np\n",
    "\n",
    "import tensorflow as tf\n",
    "import tensorflow_hub as hub\n",
    "\n",
    "print(\"Version: \", tf.__version__)\n",
    "print(\"Eager mode: \", tf.executing_eagerly())\n",
    "print(\"Hub version: \", hub.__version__)\n",
    "print(\"GPU is\", \"available\" if tf.config.experimental.list_physical_devices(\"GPU\") else \"NOT AVAILABLE\")"
   ]
  },
  {
   "cell_type": "code",
   "execution_count": 4,
   "metadata": {},
   "outputs": [
    {
     "data": {
      "text/html": [
       "<div>\n",
       "<style scoped>\n",
       "    .dataframe tbody tr th:only-of-type {\n",
       "        vertical-align: middle;\n",
       "    }\n",
       "\n",
       "    .dataframe tbody tr th {\n",
       "        vertical-align: top;\n",
       "    }\n",
       "\n",
       "    .dataframe thead th {\n",
       "        text-align: right;\n",
       "    }\n",
       "</style>\n",
       "<table border=\"1\" class=\"dataframe\">\n",
       "  <thead>\n",
       "    <tr style=\"text-align: right;\">\n",
       "      <th></th>\n",
       "      <th>Phrase</th>\n",
       "      <th>Sentiment</th>\n",
       "    </tr>\n",
       "  </thead>\n",
       "  <tbody>\n",
       "    <tr>\n",
       "      <th>0</th>\n",
       "      <td>So there is no way for me to plug it in here i...</td>\n",
       "      <td>Negative</td>\n",
       "    </tr>\n",
       "    <tr>\n",
       "      <th>1</th>\n",
       "      <td>Good case, Excellent value.</td>\n",
       "      <td>Positive</td>\n",
       "    </tr>\n",
       "    <tr>\n",
       "      <th>2</th>\n",
       "      <td>Great for the jawbone.</td>\n",
       "      <td>Positive</td>\n",
       "    </tr>\n",
       "    <tr>\n",
       "      <th>3</th>\n",
       "      <td>Tied to charger for conversations lasting more...</td>\n",
       "      <td>Negative</td>\n",
       "    </tr>\n",
       "    <tr>\n",
       "      <th>4</th>\n",
       "      <td>The mic is great.</td>\n",
       "      <td>Positive</td>\n",
       "    </tr>\n",
       "    <tr>\n",
       "      <th>...</th>\n",
       "      <td>...</td>\n",
       "      <td>...</td>\n",
       "    </tr>\n",
       "    <tr>\n",
       "      <th>2743</th>\n",
       "      <td>I think food should have flavor and texture an...</td>\n",
       "      <td>Negative</td>\n",
       "    </tr>\n",
       "    <tr>\n",
       "      <th>2744</th>\n",
       "      <td>Appetite instantly gone.</td>\n",
       "      <td>Negative</td>\n",
       "    </tr>\n",
       "    <tr>\n",
       "      <th>2745</th>\n",
       "      <td>Overall I was not impressed and would not go b...</td>\n",
       "      <td>Negative</td>\n",
       "    </tr>\n",
       "    <tr>\n",
       "      <th>2746</th>\n",
       "      <td>The whole experience was underwhelming, and I ...</td>\n",
       "      <td>Negative</td>\n",
       "    </tr>\n",
       "    <tr>\n",
       "      <th>2747</th>\n",
       "      <td>Then, as if I hadn't wasted enough of my life ...</td>\n",
       "      <td>Negative</td>\n",
       "    </tr>\n",
       "  </tbody>\n",
       "</table>\n",
       "<p>2748 rows × 2 columns</p>\n",
       "</div>"
      ],
      "text/plain": [
       "                                                 Phrase Sentiment\n",
       "0     So there is no way for me to plug it in here i...  Negative\n",
       "1                           Good case, Excellent value.  Positive\n",
       "2                                Great for the jawbone.  Positive\n",
       "3     Tied to charger for conversations lasting more...  Negative\n",
       "4                                     The mic is great.  Positive\n",
       "...                                                 ...       ...\n",
       "2743  I think food should have flavor and texture an...  Negative\n",
       "2744                           Appetite instantly gone.  Negative\n",
       "2745  Overall I was not impressed and would not go b...  Negative\n",
       "2746  The whole experience was underwhelming, and I ...  Negative\n",
       "2747  Then, as if I hadn't wasted enough of my life ...  Negative\n",
       "\n",
       "[2748 rows x 2 columns]"
      ]
     },
     "execution_count": 4,
     "metadata": {},
     "output_type": "execute_result"
    }
   ],
   "source": [
    "path='sentiment labelled sentences\\\\sentiment labelled sentences'\n",
    "datafiles=[os.path.join(path,file) for file in os.listdir(path) if 'labelled' in file ]\n",
    "import pandas as pd\n",
    "dataframe=[]\n",
    "for file in datafiles:\n",
    "    data=pd.read_csv(file,sep='\\t',header=None)\n",
    "    data.columns=['Phrase','Sentiment']\n",
    "    dataframe.append(data)\n",
    "data=pd.concat(dataframe).reset_index(drop=True)\n",
    "data['Sentiment']=data['Sentiment'].apply(lambda x: 'Negative' if x==0 else 'Positive')\n",
    "data"
   ]
  },
  {
   "cell_type": "code",
   "execution_count": 16,
   "metadata": {},
   "outputs": [
    {
     "name": "stdout",
     "output_type": "stream",
     "text": [
      "(2748, 1) ['Negative' 'Positive' 'Positive' ... 'Negative' 'Negative' 'Negative']\n"
     ]
    },
    {
     "data": {
      "text/plain": [
       "(2, array(['Negative', 'Positive'], dtype='<U8'), (2748, 1))"
      ]
     },
     "execution_count": 16,
     "metadata": {},
     "output_type": "execute_result"
    }
   ],
   "source": [
    "from sklearn.preprocessing import OneHotEncoder\n",
    "type_one_hot = OneHotEncoder(sparse=False).fit_transform(\n",
    "  data.Sentiment.to_numpy().reshape(-1, 1)\n",
    ")\n",
    "type_one_hot.shape\n",
    "\n",
    "## Or\n",
    "\n",
    "Y=data.Sentiment\n",
    "\n",
    "from sklearn import preprocessing\n",
    "lb = preprocessing.LabelBinarizer()\n",
    "type_one_hot=lb.fit_transform(Y)\n",
    "print (type_one_hot.shape,lb.inverse_transform(type_one_hot))\n",
    "len(lb.classes_),lb.classes_,type_one_hot.shape"
   ]
  },
  {
   "cell_type": "code",
   "execution_count": 6,
   "metadata": {},
   "outputs": [],
   "source": [
    "# features=np.array(data[['Activity name']]).reshape(-1,)"
   ]
  },
  {
   "cell_type": "code",
   "execution_count": 17,
   "metadata": {},
   "outputs": [
    {
     "name": "stdout",
     "output_type": "stream",
     "text": [
      "Class\n",
      "Negative    136\n",
      "Positive    139\n",
      "dtype: int64\n"
     ]
    },
    {
     "data": {
      "text/plain": [
       "Class\n",
       "Negative    1362\n",
       "Positive    1386\n",
       "dtype: int64"
      ]
     },
     "execution_count": 17,
     "metadata": {},
     "output_type": "execute_result"
    }
   ],
   "source": [
    "from sklearn.model_selection import train_test_split\n",
    "features=np.array(data[['Phrase']]).reshape(-1,)\n",
    "import numpy as np\n",
    "train_reviews, test_reviews, y_train, y_test =\\\n",
    "  train_test_split(\n",
    "    features,\n",
    "    type_one_hot,\n",
    "    test_size=.1,stratify=type_one_hot,\n",
    "    random_state=7\n",
    "  )\n",
    "train_reviews.shape\n",
    "#Test Stratified\n",
    "print (pd.DataFrame(lb.inverse_transform(y_test),columns=['Class']).groupby('Class').size())\n",
    "#Data Stratified\n",
    "pd.DataFrame(lb.inverse_transform(type_one_hot),columns=['Class']).groupby('Class').size()"
   ]
  },
  {
   "cell_type": "code",
   "execution_count": 28,
   "metadata": {},
   "outputs": [],
   "source": [
    "embedding = \"https://tfhub.dev/google/tf2-preview/nnlm-en-dim50/1\"\n",
    "hub_layer = hub.KerasLayer(embedding, input_shape=[], \n",
    "                           dtype=tf.string, trainable=False)"
   ]
  },
  {
   "cell_type": "code",
   "execution_count": 29,
   "metadata": {},
   "outputs": [
    {
     "name": "stdout",
     "output_type": "stream",
     "text": [
      "Model: \"sequential_4\"\n",
      "_________________________________________________________________\n",
      "Layer (type)                 Output Shape              Param #   \n",
      "=================================================================\n",
      "keras_layer_1 (KerasLayer)   (None, 128)               124642688 \n",
      "_________________________________________________________________\n",
      "dense_8 (Dense)              (None, 16)                2064      \n",
      "_________________________________________________________________\n",
      "dropout_3 (Dropout)          (None, 16)                0         \n",
      "_________________________________________________________________\n",
      "dense_9 (Dense)              (None, 1)                 17        \n",
      "=================================================================\n",
      "Total params: 124,644,769\n",
      "Trainable params: 2,081\n",
      "Non-trainable params: 124,642,688\n",
      "_________________________________________________________________\n"
     ]
    }
   ],
   "source": [
    "model = tf.keras.Sequential()\n",
    "model.add(hub_layer)\n",
    "model.add(tf.keras.layers.Dense(16, activation='relu'))\n",
    "model.add(tf.keras.layers.Dropout(0.3))\n",
    "model.add(tf.keras.layers.Dense(1,activation='softmax'))\n",
    "model.summary()"
   ]
  },
  {
   "cell_type": "code",
   "execution_count": 30,
   "metadata": {},
   "outputs": [],
   "source": [
    "model.compile(optimizer='adam',\n",
    "              loss=tf.keras.losses.binary_crossentropy,\n",
    "              metrics=['accuracy','Precision','Recall'])"
   ]
  },
  {
   "cell_type": "code",
   "execution_count": 31,
   "metadata": {},
   "outputs": [
    {
     "name": "stdout",
     "output_type": "stream",
     "text": [
      "Train on 2473 samples, validate on 275 samples\n",
      "Epoch 1/2\n",
      "2473/2473 [==============================] - 1s 423us/sample - loss: 7.6015 - accuracy: 0.5042 - Precision: 0.5042 - Recall: 1.0000 - val_loss: 7.5830 - val_accuracy: 0.5055 - val_Precision: 0.5055 - val_Recall: 1.0000\n",
      "Epoch 2/2\n",
      "2473/2473 [==============================] - 0s 68us/sample - loss: 7.6015 - accuracy: 0.5042 - Precision: 0.5042 - Recall: 1.0000 - val_loss: 7.5830 - val_accuracy: 0.5055 - val_Precision: 0.5055 - val_Recall: 1.0000\n"
     ]
    }
   ],
   "source": [
    "#train_reviews, test_reviews, y_train, y_test\n",
    "history = model.fit(x=train_reviews,y=y_train,validation_data=(test_reviews,y_test),\n",
    "                    epochs=2,\n",
    "                    verbose=1)"
   ]
  },
  {
   "cell_type": "code",
   "execution_count": null,
   "metadata": {},
   "outputs": [],
   "source": [
    "# test_reviews[0:10],y_test[0:10]"
   ]
  },
  {
   "cell_type": "code",
   "execution_count": null,
   "metadata": {},
   "outputs": [],
   "source": [
    "results = model.evaluate(test_reviews[0:1000],y_test[0:1000],verbose=0)\n",
    "\n",
    "for name, value in zip(model.metrics_names, results):\n",
    "  print(\"%s: %.3f\" % (name, value))"
   ]
  },
  {
   "cell_type": "code",
   "execution_count": null,
   "metadata": {},
   "outputs": [],
   "source": [
    "Halt.."
   ]
  },
  {
   "cell_type": "code",
   "execution_count": null,
   "metadata": {},
   "outputs": [],
   "source": [
    "results=np.argmax(model.predict(test_reviews),1)+1\n",
    "lb.inverse_transform(model.predict(test_reviews)),lb.inverse_transform(y_test),lb.classes_,results"
   ]
  },
  {
   "cell_type": "code",
   "execution_count": null,
   "metadata": {},
   "outputs": [],
   "source": [
    "#All data fit.\n",
    "#features=np.array(data[['Activity name']]).reshape(-1,)\n",
    "history = model.fit(x=features,y=type_one_hot,\n",
    "                    epochs=30,\n",
    "                    verbose=1)"
   ]
  },
  {
   "cell_type": "code",
   "execution_count": null,
   "metadata": {},
   "outputs": [],
   "source": [
    "Halt.."
   ]
  },
  {
   "cell_type": "code",
   "execution_count": null,
   "metadata": {},
   "outputs": [],
   "source": [
    "# Save the entire model to a HDF5 file.\n",
    "# The '.h5' extension indicates that the model should be saved to HDF5.\n",
    "model.save('my_model.h5')\n",
    "\n",
    "# Recreate the exact same model, including its weights and the optimizer\n",
    "new_model = tf.keras.models.load_model('my_model.h5',custom_objects={'KerasLayer':hub.KerasLayer})\n",
    "\n",
    "# Show the model architecture\n",
    "new_model.summary()"
   ]
  },
  {
   "cell_type": "code",
   "execution_count": null,
   "metadata": {},
   "outputs": [],
   "source": [
    "lb.inverse_transform(new_model.predict(test_data))"
   ]
  },
  {
   "cell_type": "code",
   "execution_count": null,
   "metadata": {},
   "outputs": [],
   "source": [
    "def custom_predict(pandas_single_textcolumn_as_data_frame_input,sk_learn_label_binarizer_object,model_h5file):\n",
    "    # Recreate the exact same model, including its weights and the optimizer\n",
    "    new_model = tf.keras.models.load_model(model_h5file,custom_objects={'KerasLayer':hub.KerasLayer})\n",
    "    testdata=np.array(pandas_single_textcolumn_as_data_frame_input).reshape(-1,)\n",
    "    predictions=sk_learn_label_binarizer_object.inverse_transform(new_model.predict(testdata))\n",
    "    return predictions\n",
    "custom_predict(test[[\"Phrase\"]],lb,model_h5file='my_model.h5')"
   ]
  }
 ],
 "metadata": {
  "kernelspec": {
   "display_name": "newenv",
   "language": "python",
   "name": "newenv"
  },
  "language_info": {
   "codemirror_mode": {
    "name": "ipython",
    "version": 3
   },
   "file_extension": ".py",
   "mimetype": "text/x-python",
   "name": "python",
   "nbconvert_exporter": "python",
   "pygments_lexer": "ipython3",
   "version": "3.6.12"
  }
 },
 "nbformat": 4,
 "nbformat_minor": 4
}
