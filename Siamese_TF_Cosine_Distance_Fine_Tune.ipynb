{
  "nbformat": 4,
  "nbformat_minor": 0,
  "metadata": {
    "colab": {
      "name": "Siamese TF Cosine Distance Fine Tune.ipynb",
      "provenance": [],
      "collapsed_sections": [],
      "include_colab_link": true
    },
    "kernelspec": {
      "name": "python3",
      "display_name": "Python 3"
    }
  },
  "cells": [
    {
      "cell_type": "markdown",
      "metadata": {
        "id": "view-in-github",
        "colab_type": "text"
      },
      "source": [
        "<a href=\"https://colab.research.google.com/github/meethariprasad/research_works/blob/master/Siamese_TF_Cosine_Distance_Fine_Tune.ipynb\" target=\"_parent\"><img src=\"https://colab.research.google.com/assets/colab-badge.svg\" alt=\"Open In Colab\"/></a>"
      ]
    },
    {
      "cell_type": "markdown",
      "metadata": {
        "id": "90S3uGNW9sMO",
        "colab_type": "text"
      },
      "source": [
        "###### Author: Hari Prasad, This work is as part of providing simple examples in the world of complicated examples. Have fun!\n",
        "###### Licence: Free to Distribute and Modify. You can quote this github reference for sure. :-)"
      ]
    },
    {
      "cell_type": "code",
      "metadata": {
        "id": "94h6dYJrrUtU",
        "colab_type": "code",
        "outputId": "59ca83b7-5480-4000-9e34-96505c5bc829",
        "colab": {
          "base_uri": "https://localhost:8080/",
          "height": 34
        }
      },
      "source": [
        "%tensorflow_version 2.x\n",
        "# !pip install tensorflow==2.1.0rc0\n",
        "import tensorflow as tf\n",
        "print (tf.__version__)\n",
        "import numpy as np"
      ],
      "execution_count": 31,
      "outputs": [
        {
          "output_type": "stream",
          "text": [
            "2.1.0-rc1\n"
          ],
          "name": "stdout"
        }
      ]
    },
    {
      "cell_type": "code",
      "metadata": {
        "id": "bmRkXOdiIrGg",
        "colab_type": "code",
        "outputId": "4a608581-0c43-4080-d4ba-10424a9240c7",
        "colab": {
          "base_uri": "https://localhost:8080/",
          "height": 51
        }
      },
      "source": [
        "print (\"Following is simple self explatory code of how dot layer works as cosine similiarity between two vectors, if normalize = True set\")\n",
        "tf.keras.backend.set_floatx('float64')\n",
        "x=np.asarray([-1.,-1.,-1])\n",
        "x=np.reshape(x,(1,3))\n",
        "y=np.asarray([1.,1.,1.])\n",
        "y=np.reshape(y,(1,3))\n",
        "tf.keras.layers.Dot(axes=-1,normalize=True)([x,y]).numpy()[0][0]"
      ],
      "execution_count": 32,
      "outputs": [
        {
          "output_type": "stream",
          "text": [
            "Following is simple self explatory code of how dot layer works as cosine similiarity between two vectors, if normalize = True set\n"
          ],
          "name": "stdout"
        },
        {
          "output_type": "execute_result",
          "data": {
            "text/plain": [
              "-1.0000000000000002"
            ]
          },
          "metadata": {
            "tags": []
          },
          "execution_count": 32
        }
      ]
    },
    {
      "cell_type": "code",
      "metadata": {
        "id": "DNX6jbv40iyV",
        "colab_type": "code",
        "outputId": "dc3451dc-7d76-4195-9c13-d3a7b3144e3e",
        "colab": {
          "base_uri": "https://localhost:8080/",
          "height": 1000
        }
      },
      "source": [
        "%tensorflow_version 2.x\n",
        "# !pip install tensorflow==2.1.0rc0\n",
        "import tensorflow as tf\n",
        "print (tf.__version__)\n",
        "tf.keras.backend.clear_session()\n",
        "import gc\n",
        "try:\n",
        "  del model\n",
        "except:\n",
        "  pass\n",
        "gc.collect()\n",
        "import tensorflow_hub as hub\n",
        "from tensorflow import keras\n",
        "import os\n",
        "import logging\n",
        "tf.get_logger().setLevel(logging.ERROR)\n",
        "\n",
        "huburl = \"https://tfhub.dev/google/universal-sentence-encoder/4\" #@param [\"https://tfhub.dev/google/universal-sentence-encoder/4\", \"https://tfhub.dev/google/universal-sentence-encoder-large/5\"]\n",
        "fine_tuned_module_object = hub.load(huburl)\n",
        "shared_embedding_layer = hub.KerasLayer(fine_tuned_module_object,trainable=True)\n",
        "\n",
        "left_input = keras.Input(shape=(), dtype=tf.string)\n",
        "right_input = keras.Input(shape=(), dtype=tf.string)\n",
        "\n",
        "embedding_left_output= shared_embedding_layer(left_input)\n",
        "embedding_right_output= shared_embedding_layer(right_input)\n",
        "\n",
        "cosine_similiarity=tf.keras.layers.Dot(axes=-1,normalize=True)([embedding_left_output,embedding_right_output])\n",
        "\n",
        "#We are using acos so that highly similiar sentences can have well \n",
        "#seperation. So we are not using:\n",
        "#cos_distance=1-cosine_similiarity\n",
        "#https://math.stackexchange.com/questions/2874940/cosine-similarity-vs-angular-distance?newreg=02fd1e16a9164cbba05197b28d353409\n",
        "clip_cosine_similarities = tf.clip_by_value(cosine_similiarity, -1.0, 1.0)\n",
        "cos_distance = 1.0 - tf.acos(clip_cosine_similarities)\n",
        "\n",
        "\n",
        "\n",
        "model = tf.keras.Model([left_input,right_input], cos_distance)\n",
        "#Define Optimizer\n",
        "#https://machinelearningmastery.com/how-to-avoid-exploding-gradients-in-neural-networks-with-gradient-clipping/\n",
        "\n",
        "# optim = keras.optimizers.RMSprop(clipnorm=1.)\n",
        "optim =tf.compat.v1.train.ProximalAdagradOptimizer(learning_rate=0.0001\n",
        "                                                   ,l1_regularization_strength=0.0,\n",
        "                                                   l2_regularization_strength=0.01\n",
        "                                                   )\n",
        "model.compile(optimizer=optim, loss='mse')\n",
        "model.summary()\n",
        "tf.keras.utils.plot_model(model, to_file='my_model.png')"
      ],
      "execution_count": 33,
      "outputs": [
        {
          "output_type": "stream",
          "text": [
            "2.1.0-rc1\n",
            "Model: \"model\"\n",
            "__________________________________________________________________________________________________\n",
            "Layer (type)                    Output Shape         Param #     Connected to                     \n",
            "==================================================================================================\n",
            "input_1 (InputLayer)            [(None,)]            0                                            \n",
            "__________________________________________________________________________________________________\n",
            "input_2 (InputLayer)            [(None,)]            0                                            \n",
            "__________________________________________________________________________________________________\n",
            "keras_layer (KerasLayer)        (None, 512)          256797824   input_1[0][0]                    \n",
            "                                                                 input_2[0][0]                    \n",
            "__________________________________________________________________________________________________\n",
            "dot (Dot)                       (None, 1)            0           keras_layer[0][0]                \n",
            "                                                                 keras_layer[1][0]                \n",
            "__________________________________________________________________________________________________\n",
            "tf_op_layer_clip_by_value/Minim [(None, 1)]          0           dot[0][0]                        \n",
            "__________________________________________________________________________________________________\n",
            "tf_op_layer_clip_by_value (Tens [(None, 1)]          0           tf_op_layer_clip_by_value/Minimum\n",
            "__________________________________________________________________________________________________\n",
            "tf_op_layer_Acos (TensorFlowOpL [(None, 1)]          0           tf_op_layer_clip_by_value[0][0]  \n",
            "__________________________________________________________________________________________________\n",
            "tf_op_layer_sub (TensorFlowOpLa [(None, 1)]          0           tf_op_layer_Acos[0][0]           \n",
            "==================================================================================================\n",
            "Total params: 256,797,824\n",
            "Trainable params: 256,797,824\n",
            "Non-trainable params: 0\n",
            "__________________________________________________________________________________________________\n"
          ],
          "name": "stdout"
        },
        {
          "output_type": "execute_result",
          "data": {
            "image/png": "[encoded data removed]",
            "text/plain": [
              "<IPython.core.display.Image object>"
            ]
          },
          "metadata": {
            "tags": []
          },
          "execution_count": 33
        }
      ]
    },
    {
      "cell_type": "markdown",
      "metadata": {
        "id": "L9qHUv-I59_9",
        "colab_type": "text"
      },
      "source": [
        "### Cosine Distance Target Value Explanation\n",
        "\n",
        "Cosine similiarity varies between -1 to +1, with -1 being Orthogonally Opposite and +1 being in same direction.\n",
        "\n",
        "Cosine Distance is 1-(Cosine Similiarity)=>falls under [0,2]\n",
        "\n",
        "Distance is Highest(Far Apart vectors) at 2, => Cosine Similiarity =-1, 1-(-1)=2\n",
        "\n",
        "Distance is lowest(Similiar Vectors) at 0, => Cosine Similiarity = 1, 1-(1)=0\n",
        "\n",
        "Hence if two vectors are similiar, the assignment should be 0, and if they are opposite then it must be 2\n",
        "\n",
        "This gives us option to rank highly similiar sentences based on notion between 0 to 2.\n",
        "\n",
        "As gradient loss function minimizes the loss, the 0 loss means the actual cosine distance and calculated are same."
      ]
    },
    {
      "cell_type": "code",
      "metadata": {
        "id": "RLtF-Xrk75SR",
        "colab_type": "code",
        "outputId": "3081e301-9d67-423c-bbc5-0639f5e4a2f5",
        "colab": {
          "base_uri": "https://localhost:8080/",
          "height": 34
        }
      },
      "source": [
        "#Inputs\n",
        "import numpy as np\n",
        "text_list=[[\"Man is going to Moon\",\"Education is greatest gift to humanity\"],\n",
        "           [\"Man achieved great feat in apollo mission\",\"Literacy is important for civilization\"]]\n",
        "\n",
        "#Model Input Preperation as Numpy array\n",
        "left_inputs=np.asarray(text_list[0])\n",
        "right_inputs=np.asarray(text_list[1])\n",
        "#0 if we inputs are semantically similiar, 2 if not. Anything inbetween 0=2 represent partial similiarity\n",
        "similiarity=np.asarray([0,0])\n",
        "\n",
        "left_inputs=left_inputs.reshape(left_inputs.shape[0],)\n",
        "right_inputs=right_inputs.reshape(right_inputs.shape[0],)\n",
        "\n",
        "left_inputs.shape,right_inputs.shape,similiarity.shape"
      ],
      "execution_count": 34,
      "outputs": [
        {
          "output_type": "execute_result",
          "data": {
            "text/plain": [
              "((2,), (2,), (2,))"
            ]
          },
          "metadata": {
            "tags": []
          },
          "execution_count": 34
        }
      ]
    },
    {
      "cell_type": "code",
      "metadata": {
        "id": "aJNH5d4UE6Ca",
        "colab_type": "code",
        "colab": {}
      },
      "source": [
        "def get_similiarity(target_text_embed,text_to_compare_embed):\n",
        "    from sklearn.metrics.pairwise import cosine_similarity\n",
        "    similiarity=cosine_similarity(target_text_embed,text_to_compare_embed)\n",
        "    similiarity=pd.DataFrame(similiarity)\n",
        "    return similiarity"
      ],
      "execution_count": 0,
      "outputs": []
    },
    {
      "cell_type": "code",
      "metadata": {
        "id": "16tBBRBJNNtu",
        "colab_type": "code",
        "outputId": "77be06c3-5eec-47b0-e122-a9997c488161",
        "colab": {
          "base_uri": "https://localhost:8080/",
          "height": 85
        }
      },
      "source": [
        "#Model Fit\n",
        "from keras.callbacks import Callback\n",
        "class stopAtLossValue(Callback):\n",
        "  import numpy as np\n",
        "  def on_batch_end(self, batch, logs={}):\n",
        "    THR = 0 #Assign THR with the value at which you want to stop training.\n",
        "    if np.around(logs.get('loss'),decimals=1) == THR:\n",
        "      self.model.stop_training = True\n",
        "\n",
        "import numpy as np\n",
        "\n",
        "model.fit([left_inputs,right_inputs],similiarity,epochs=300,callbacks=[stopAtLossValue()])"
      ],
      "execution_count": 36,
      "outputs": [
        {
          "output_type": "stream",
          "text": [
            "Train on 2 samples\n",
            "Epoch 1/300\n",
            "2/2 [==============================] - 8s 4s/sample - loss: 0.0158\n"
          ],
          "name": "stdout"
        },
        {
          "output_type": "execute_result",
          "data": {
            "text/plain": [
              "<tensorflow.python.keras.callbacks.History at 0x7fda1d74f198>"
            ]
          },
          "metadata": {
            "tags": []
          },
          "execution_count": 36
        }
      ]
    },
    {
      "cell_type": "code",
      "metadata": {
        "id": "GXtrye20SNrH",
        "colab_type": "code",
        "outputId": "065a02b3-ddd7-4f85-ce35-5ec4a6e9c4d1",
        "colab": {
          "base_uri": "https://localhost:8080/",
          "height": 258
        }
      },
      "source": [
        "import tensorflow_hub as hub\n",
        "import tensorflow as tf\n",
        "print (text_list)\n",
        "try:\n",
        "  text_list=sum(text_list, [])\n",
        "except:\n",
        "  pass\n",
        "\n",
        "embeddings = fine_tuned_module_object(text_list)\n",
        "\n",
        "# print (embeddings.numpy())\n",
        "\n",
        "embed_target=embeddings.numpy()\n",
        "import pandas as pd\n",
        "doc_embed = pd.DataFrame(data=embed_target)\n",
        "doc_embed.index=text_list\n",
        "\n",
        "\n",
        "\n",
        "finetuned_similiarity=get_similiarity(doc_embed,doc_embed)\n",
        "# np.fill_diagonal(sim.values, 0)\n",
        "finetuned_similiarity.index=text_list\n",
        "finetuned_similiarity.columns=text_list\n",
        "print (\"With Fine Tune\")\n",
        "finetuned_similiarity"
      ],
      "execution_count": 37,
      "outputs": [
        {
          "output_type": "stream",
          "text": [
            "[['Man is going to Moon', 'Education is greatest gift to humanity'], ['Man achieved great feat in apollo mission', 'Literacy is important for civilization']]\n",
            "With Fine Tune\n"
          ],
          "name": "stdout"
        },
        {
          "output_type": "execute_result",
          "data": {
            "text/html": [
              "<div>\n",
              "<style scoped>\n",
              "    .dataframe tbody tr th:only-of-type {\n",
              "        vertical-align: middle;\n",
              "    }\n",
              "\n",
              "    .dataframe tbody tr th {\n",
              "        vertical-align: top;\n",
              "    }\n",
              "\n",
              "    .dataframe thead th {\n",
              "        text-align: right;\n",
              "    }\n",
              "</style>\n",
              "<table border=\"1\" class=\"dataframe\">\n",
              "  <thead>\n",
              "    <tr style=\"text-align: right;\">\n",
              "      <th></th>\n",
              "      <th>Man is going to Moon</th>\n",
              "      <th>Education is greatest gift to humanity</th>\n",
              "      <th>Man achieved great feat in apollo mission</th>\n",
              "      <th>Literacy is important for civilization</th>\n",
              "    </tr>\n",
              "  </thead>\n",
              "  <tbody>\n",
              "    <tr>\n",
              "      <th>Man is going to Moon</th>\n",
              "      <td>1.000000</td>\n",
              "      <td>0.104170</td>\n",
              "      <td>0.422002</td>\n",
              "      <td>0.099235</td>\n",
              "    </tr>\n",
              "    <tr>\n",
              "      <th>Education is greatest gift to humanity</th>\n",
              "      <td>0.104170</td>\n",
              "      <td>1.000000</td>\n",
              "      <td>0.163552</td>\n",
              "      <td>0.439987</td>\n",
              "    </tr>\n",
              "    <tr>\n",
              "      <th>Man achieved great feat in apollo mission</th>\n",
              "      <td>0.422002</td>\n",
              "      <td>0.163552</td>\n",
              "      <td>1.000000</td>\n",
              "      <td>0.049463</td>\n",
              "    </tr>\n",
              "    <tr>\n",
              "      <th>Literacy is important for civilization</th>\n",
              "      <td>0.099235</td>\n",
              "      <td>0.439987</td>\n",
              "      <td>0.049463</td>\n",
              "      <td>1.000000</td>\n",
              "    </tr>\n",
              "  </tbody>\n",
              "</table>\n",
              "</div>"
            ],
            "text/plain": [
              "                                           Man is going to Moon  ...  Literacy is important for civilization\n",
              "Man is going to Moon                                   1.000000  ...                                0.099235\n",
              "Education is greatest gift to humanity                 0.104170  ...                                0.439987\n",
              "Man achieved great feat in apollo mission              0.422002  ...                                0.049463\n",
              "Literacy is important for civilization                 0.099235  ...                                1.000000\n",
              "\n",
              "[4 rows x 4 columns]"
            ]
          },
          "metadata": {
            "tags": []
          },
          "execution_count": 37
        }
      ]
    },
    {
      "cell_type": "code",
      "metadata": {
        "id": "wp4KFVABTCMm",
        "colab_type": "code",
        "outputId": "d96b1fcf-6ac4-4feb-e9d3-e9d7a3a279b4",
        "colab": {
          "base_uri": "https://localhost:8080/",
          "height": 289
        }
      },
      "source": [
        "#Without fine tune: Similiarity\n",
        "########################################\n",
        "import tensorflow_hub as hub\n",
        "import tensorflow as tf\n",
        "un_tuned_module_object = hub.load(huburl)\n",
        "try:\n",
        "  text_list=sum(text_list, [])\n",
        "except:\n",
        "  pass\n",
        "text_list.append('Moon was in astrology of Man')\n",
        "\n",
        "embeddings = un_tuned_module_object(text_list)\n",
        "\n",
        "embed_target=embeddings.numpy()\n",
        "import pandas as pd\n",
        "doc_embed_global = pd.DataFrame(data=embed_target)\n",
        "doc_embed_global.index=text_list\n",
        "########################################\n",
        "global_similiarity=get_similiarity(doc_embed_global,doc_embed_global)\n",
        "# np.fill_diagonal(sim.values, 0)\n",
        "global_similiarity.index=text_list\n",
        "global_similiarity.columns=text_list\n",
        "\n",
        "print (\"Without Fine Tune\")\n",
        "global_similiarity"
      ],
      "execution_count": 38,
      "outputs": [
        {
          "output_type": "stream",
          "text": [
            "Without Fine Tune\n"
          ],
          "name": "stdout"
        },
        {
          "output_type": "execute_result",
          "data": {
            "text/html": [
              "<div>\n",
              "<style scoped>\n",
              "    .dataframe tbody tr th:only-of-type {\n",
              "        vertical-align: middle;\n",
              "    }\n",
              "\n",
              "    .dataframe tbody tr th {\n",
              "        vertical-align: top;\n",
              "    }\n",
              "\n",
              "    .dataframe thead th {\n",
              "        text-align: right;\n",
              "    }\n",
              "</style>\n",
              "<table border=\"1\" class=\"dataframe\">\n",
              "  <thead>\n",
              "    <tr style=\"text-align: right;\">\n",
              "      <th></th>\n",
              "      <th>Man is going to Moon</th>\n",
              "      <th>Education is greatest gift to humanity</th>\n",
              "      <th>Man achieved great feat in apollo mission</th>\n",
              "      <th>Literacy is important for civilization</th>\n",
              "      <th>Moon was in astrology of Man</th>\n",
              "    </tr>\n",
              "  </thead>\n",
              "  <tbody>\n",
              "    <tr>\n",
              "      <th>Man is going to Moon</th>\n",
              "      <td>1.000000</td>\n",
              "      <td>0.104139</td>\n",
              "      <td>0.421958</td>\n",
              "      <td>0.099204</td>\n",
              "      <td>0.511980</td>\n",
              "    </tr>\n",
              "    <tr>\n",
              "      <th>Education is greatest gift to humanity</th>\n",
              "      <td>0.104139</td>\n",
              "      <td>1.000000</td>\n",
              "      <td>0.163523</td>\n",
              "      <td>0.439952</td>\n",
              "      <td>0.103207</td>\n",
              "    </tr>\n",
              "    <tr>\n",
              "      <th>Man achieved great feat in apollo mission</th>\n",
              "      <td>0.421958</td>\n",
              "      <td>0.163523</td>\n",
              "      <td>1.000000</td>\n",
              "      <td>0.049431</td>\n",
              "      <td>0.272311</td>\n",
              "    </tr>\n",
              "    <tr>\n",
              "      <th>Literacy is important for civilization</th>\n",
              "      <td>0.099204</td>\n",
              "      <td>0.439952</td>\n",
              "      <td>0.049431</td>\n",
              "      <td>1.000000</td>\n",
              "      <td>0.196779</td>\n",
              "    </tr>\n",
              "    <tr>\n",
              "      <th>Moon was in astrology of Man</th>\n",
              "      <td>0.511980</td>\n",
              "      <td>0.103207</td>\n",
              "      <td>0.272311</td>\n",
              "      <td>0.196779</td>\n",
              "      <td>1.000000</td>\n",
              "    </tr>\n",
              "  </tbody>\n",
              "</table>\n",
              "</div>"
            ],
            "text/plain": [
              "                                           Man is going to Moon  ...  Moon was in astrology of Man\n",
              "Man is going to Moon                                   1.000000  ...                      0.511980\n",
              "Education is greatest gift to humanity                 0.104139  ...                      0.103207\n",
              "Man achieved great feat in apollo mission              0.421958  ...                      0.272311\n",
              "Literacy is important for civilization                 0.099204  ...                      0.196779\n",
              "Moon was in astrology of Man                           0.511980  ...                      1.000000\n",
              "\n",
              "[5 rows x 5 columns]"
            ]
          },
          "metadata": {
            "tags": []
          },
          "execution_count": 38
        }
      ]
    },
    {
      "cell_type": "code",
      "metadata": {
        "id": "4fchzX1wRTwh",
        "colab_type": "code",
        "outputId": "04a56654-2638-4926-c5b9-3933b6e53f81",
        "colab": {
          "base_uri": "https://localhost:8080/",
          "height": 51
        }
      },
      "source": [
        "print (\"Following code can be used to export and reuse the fine tuned module from local system.\")\n",
        "import os\n",
        "#Set export to true to export fine tuned model to module_export_dir_name\n",
        "export=False\n",
        "if (export):\n",
        "  module_export_dir_name='finetuned_model_export'\n",
        "  #Creating module export directory in current directory. You can change wherever you need.\n",
        "  os.makedirs(module_export_dir_name,exist_ok=True)\n",
        "  export_module_dir = os.path.join(os.getcwd(), module_export_dir_name)\n",
        "  tf.saved_model.save(fine_tuned_module_object, export_module_dir)\n",
        "  fine_tuned_module_dir=os.path.join(os.getcwd(),module_export_dir_name)\n",
        "\n",
        "  loaded_module_obj = hub.load(fine_tuned_module_dir)\n",
        "  embeddings = loaded_module_obj(text_list)\n",
        "\n",
        "  embed_target=embeddings.numpy()\n",
        "  import pandas as pd\n",
        "  doc_embed = pd.DataFrame(data=embed_target)\n",
        "  doc_embed.index=text_list\n",
        "\n",
        "\n",
        "  finetuned_similiarity_loaded=get_similiarity(doc_embed,doc_embed)\n",
        "  # np.fill_diagonal(sim.values, 0)\n",
        "  finetuned_similiarity_loaded.index=text_list\n",
        "  finetuned_similiarity_loaded.columns=text_list\n",
        "  print (\"With Fine Tune and Exported\")\n",
        "  finetuned_similiarity_loaded\n",
        "else:\n",
        "  print (\"No Export Selected\")"
      ],
      "execution_count": 39,
      "outputs": [
        {
          "output_type": "stream",
          "text": [
            "Following code can be used to export and reuse the fine tuned module from local system.\n",
            "No Export Selected\n"
          ],
          "name": "stdout"
        }
      ]
    },
    {
      "cell_type": "markdown",
      "metadata": {
        "id": "ejDq0GQO2bL0",
        "colab_type": "text"
      },
      "source": [
        "### *Following Sections are reused from Google Universal Sentence Embedding Evaluation. Thanks to TF Hub Authors.*"
      ]
    },
    {
      "cell_type": "markdown",
      "metadata": {
        "id": "JgBfRfzRpZBh",
        "colab_type": "text"
      },
      "source": [
        "## Evaluation: STS (Semantic Textual Similarity) Benchmark\n",
        "\n",
        "The [**STS Benchmark**](http://ixa2.si.ehu.es/stswiki/index.php/STSbenchmark) provides an intristic evaluation of the degree to which similarity scores computed using sentence embeddings align with human judgements. The benchmark requires systems to return similarity scores for a diverse selection of sentence pairs. [Pearson correlation](https://en.wikipedia.org/wiki/Pearson_correlation_coefficient) is then used to evaluate the quality of the machine similarity scores against human judgements.\n"
      ]
    },
    {
      "cell_type": "markdown",
      "metadata": {
        "colab_type": "text",
        "id": "q5nuBbI1iFQR"
      },
      "source": [
        "### Download data"
      ]
    },
    {
      "cell_type": "code",
      "metadata": {
        "id": "Q14v1nCnpYTy",
        "colab_type": "code",
        "outputId": "4d1a6a9b-0bf1-44ca-e2c9-9c7b8990b73f",
        "colab": {
          "base_uri": "https://localhost:8080/",
          "height": 221
        }
      },
      "source": [
        "import pandas\n",
        "import scipy\n",
        "import math\n",
        "import csv\n",
        "\n",
        "sts_dataset = tf.keras.utils.get_file(\n",
        "    fname=\"Stsbenchmark.tar.gz\",\n",
        "    origin=\"http://ixa2.si.ehu.es/stswiki/images/4/48/Stsbenchmark.tar.gz\",\n",
        "    extract=True)\n",
        "sts_dev = pandas.read_table(\n",
        "    os.path.join(os.path.dirname(sts_dataset), \"stsbenchmark\", \"sts-dev.csv\"),\n",
        "    error_bad_lines=False,\n",
        "    skip_blank_lines=True,\n",
        "    usecols=[4, 5, 6],\n",
        "    names=[\"sim\", \"sent_1\", \"sent_2\"])\n",
        "sts_test = pandas.read_table(\n",
        "    os.path.join(\n",
        "        os.path.dirname(sts_dataset), \"stsbenchmark\", \"sts-test.csv\"),\n",
        "    error_bad_lines=False,\n",
        "    quoting=csv.QUOTE_NONE,\n",
        "    skip_blank_lines=True,\n",
        "    usecols=[4, 5, 6],\n",
        "    names=[\"sim\", \"sent_1\", \"sent_2\"])\n",
        "# cleanup some NaN values in sts_dev\n",
        "sts_dev = sts_dev[[isinstance(s, str) for s in sts_dev['sent_2']]]\n",
        "print (sts_dev.shape,sts_test.shape)\n",
        "sts_dev.head(5)"
      ],
      "execution_count": 40,
      "outputs": [
        {
          "output_type": "stream",
          "text": [
            "(1468, 3) (1379, 3)\n"
          ],
          "name": "stdout"
        },
        {
          "output_type": "execute_result",
          "data": {
            "text/html": [
              "<div>\n",
              "<style scoped>\n",
              "    .dataframe tbody tr th:only-of-type {\n",
              "        vertical-align: middle;\n",
              "    }\n",
              "\n",
              "    .dataframe tbody tr th {\n",
              "        vertical-align: top;\n",
              "    }\n",
              "\n",
              "    .dataframe thead th {\n",
              "        text-align: right;\n",
              "    }\n",
              "</style>\n",
              "<table border=\"1\" class=\"dataframe\">\n",
              "  <thead>\n",
              "    <tr style=\"text-align: right;\">\n",
              "      <th></th>\n",
              "      <th>sim</th>\n",
              "      <th>sent_1</th>\n",
              "      <th>sent_2</th>\n",
              "    </tr>\n",
              "  </thead>\n",
              "  <tbody>\n",
              "    <tr>\n",
              "      <th>0</th>\n",
              "      <td>5.00</td>\n",
              "      <td>A man with a hard hat is dancing.</td>\n",
              "      <td>A man wearing a hard hat is dancing.</td>\n",
              "    </tr>\n",
              "    <tr>\n",
              "      <th>1</th>\n",
              "      <td>4.75</td>\n",
              "      <td>A young child is riding a horse.</td>\n",
              "      <td>A child is riding a horse.</td>\n",
              "    </tr>\n",
              "    <tr>\n",
              "      <th>2</th>\n",
              "      <td>5.00</td>\n",
              "      <td>A man is feeding a mouse to a snake.</td>\n",
              "      <td>The man is feeding a mouse to the snake.</td>\n",
              "    </tr>\n",
              "    <tr>\n",
              "      <th>3</th>\n",
              "      <td>2.40</td>\n",
              "      <td>A woman is playing the guitar.</td>\n",
              "      <td>A man is playing guitar.</td>\n",
              "    </tr>\n",
              "    <tr>\n",
              "      <th>4</th>\n",
              "      <td>2.75</td>\n",
              "      <td>A woman is playing the flute.</td>\n",
              "      <td>A man is playing a flute.</td>\n",
              "    </tr>\n",
              "  </tbody>\n",
              "</table>\n",
              "</div>"
            ],
            "text/plain": [
              "    sim  ...                                    sent_2\n",
              "0  5.00  ...      A man wearing a hard hat is dancing.\n",
              "1  4.75  ...                A child is riding a horse.\n",
              "2  5.00  ...  The man is feeding a mouse to the snake.\n",
              "3  2.40  ...                  A man is playing guitar.\n",
              "4  2.75  ...                 A man is playing a flute.\n",
              "\n",
              "[5 rows x 3 columns]"
            ]
          },
          "metadata": {
            "tags": []
          },
          "execution_count": 40
        }
      ]
    },
    {
      "cell_type": "markdown",
      "metadata": {
        "colab_type": "text",
        "id": "8OKy8WhnKRe_"
      },
      "source": [
        "### Evaluate Sentence Embeddings for Fine Tuned Module\n",
        "\n",
        "Fine tuning must not reduce the OOB Module Corelation Score, indicating we have not compromised on generalization.\n",
        "\n"
      ]
    },
    {
      "cell_type": "code",
      "metadata": {
        "colab_type": "code",
        "id": "W-q2r7jyZGb7",
        "cellView": "both",
        "outputId": "02e49c68-b061-4ffe-a187-e3c76e0b6f12",
        "colab": {
          "base_uri": "https://localhost:8080/",
          "height": 85
        }
      },
      "source": [
        "sts_data = sts_test #@param [\"sts_dev\", \"sts_test\"] {type:\"raw\"}\n",
        "\n",
        "def run_sts_benchmark(batch,module_object):\n",
        "  sts_encode1 = tf.nn.l2_normalize(module_object(tf.constant(batch['sent_1'].tolist())), axis=1)\n",
        "  sts_encode2 = tf.nn.l2_normalize(module_object(tf.constant(batch['sent_2'].tolist())), axis=1)\n",
        "  cosine_similarities = tf.reduce_sum(tf.multiply(sts_encode1, sts_encode2), axis=1)\n",
        "  clip_cosine_similarities = tf.clip_by_value(cosine_similarities, -1.0, 1.0)\n",
        "  scores = 1.0 - tf.acos(clip_cosine_similarities)\n",
        "  \"\"\"Returns the similarity scores\"\"\"\n",
        "  return scores\n",
        "\n",
        "dev_scores = sts_data['sim'].tolist()\n",
        "scores = []\n",
        "\n",
        "module_object=un_tuned_module_object\n",
        "\n",
        "for batch in np.array_split(sts_data, 10):\n",
        "  scores.extend(run_sts_benchmark(batch,module_object))\n",
        "\n",
        "pearson_correlation = scipy.stats.pearsonr(scores, dev_scores)\n",
        "print('Untuned Pearson correlation coefficient = {0}\\np-value = {1}'.format(\n",
        "    pearson_correlation[0], pearson_correlation[1]))\n",
        "\n",
        "\n",
        "##With Fune#\n",
        "module_object=fine_tuned_module_object\n",
        "scores = []\n",
        "for batch in np.array_split(sts_data, 10):\n",
        "  scores.extend(run_sts_benchmark(batch,module_object))\n",
        "\n",
        "pearson_correlation = scipy.stats.pearsonr(scores, dev_scores)\n",
        "print('Fine Tuned Pearson correlation coefficient = {0}\\np-value = {1}'.format(\n",
        "    pearson_correlation[0], pearson_correlation[1]))"
      ],
      "execution_count": 41,
      "outputs": [
        {
          "output_type": "stream",
          "text": [
            "Untuned Pearson correlation coefficient = 0.7821121693112975\n",
            "p-value = 3.811544425526969e-285\n",
            "Fine Tuned Pearson correlation coefficient = 0.7821115248120356\n",
            "p-value = 3.8183669597899066e-285\n"
          ],
          "name": "stdout"
        }
      ]
    },
    {
      "cell_type": "code",
      "metadata": {
        "id": "NZ69oPu5bOS8",
        "colab_type": "code",
        "colab": {}
      },
      "source": [
        ""
      ],
      "execution_count": 0,
      "outputs": []
    }
  ]
}