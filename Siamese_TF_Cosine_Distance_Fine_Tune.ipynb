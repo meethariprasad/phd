{
  "nbformat": 4,
  "nbformat_minor": 0,
  "metadata": {
    "colab": {
      "name": "Siamese TF Cosine Distance Fine Tune.ipynb",
      "provenance": [],
      "collapsed_sections": [],
      "include_colab_link": true
    },
    "kernelspec": {
      "name": "python3",
      "display_name": "Python 3"
    }
  },
  "cells": [
    {
      "cell_type": "markdown",
      "metadata": {
        "id": "view-in-github",
        "colab_type": "text"
      },
      "source": [
        "<a href=\"https://colab.research.google.com/github/meethariprasad/phd/blob/master/Siamese_TF_Cosine_Distance_Fine_Tune.ipynb\" target=\"_parent\"><img src=\"https://colab.research.google.com/assets/colab-badge.svg\" alt=\"Open In Colab\"/></a>"
      ]
    },
    {
      "cell_type": "code",
      "metadata": {
        "id": "94h6dYJrrUtU",
        "colab_type": "code",
        "outputId": "89410af2-f51f-4500-885d-31717e4fc6df",
        "colab": {
          "base_uri": "https://localhost:8080/",
          "height": 34
        }
      },
      "source": [
        "%tensorflow_version 2.x\n",
        "# !pip install tensorflow==2.1.0rc0\n",
        "import tensorflow as tf\n",
        "print (tf.__version__)\n",
        "import numpy as np"
      ],
      "execution_count": 4,
      "outputs": [
        {
          "output_type": "stream",
          "text": [
            "2.1.0-rc1\n"
          ],
          "name": "stdout"
        }
      ]
    },
    {
      "cell_type": "code",
      "metadata": {
        "id": "bmRkXOdiIrGg",
        "colab_type": "code",
        "outputId": "73990ee5-0044-4f27-e7e7-f2dd9b0e9510",
        "colab": {
          "base_uri": "https://localhost:8080/",
          "height": 156
        }
      },
      "source": [
        "x=np.asarray([-1.,-1.,-1],dtype=float)\n",
        "x=np.reshape(x,(1,3))\n",
        "y=np.asarray([1.,1.,1.],dtype=float)\n",
        "y=np.reshape(y,(1,3))\n",
        "tf.keras.layers.Dot(axes=-1,normalize=True)([x,y]).numpy()[0][0]"
      ],
      "execution_count": 5,
      "outputs": [
        {
          "output_type": "stream",
          "text": [
            "WARNING:tensorflow:Layer dot is casting an input tensor from dtype float64 to the layer's dtype of float32, which is new behavior in TensorFlow 2.  The layer has dtype float32 because it's dtype defaults to floatx.\n",
            "\n",
            "If you intended to run this layer in float32, you can safely ignore this warning. If in doubt, this warning is likely only an issue if you are porting a TensorFlow 1.X model to TensorFlow 2.\n",
            "\n",
            "To change all layers to have dtype float64 by default, call `tf.keras.backend.set_floatx('float64')`. To change just this layer, pass dtype='float64' to the layer constructor. If you are the author of this layer, you can disable autocasting by passing autocast=False to the base Layer constructor.\n",
            "\n"
          ],
          "name": "stdout"
        },
        {
          "output_type": "execute_result",
          "data": {
            "text/plain": [
              "-0.99999994"
            ]
          },
          "metadata": {
            "tags": []
          },
          "execution_count": 5
        }
      ]
    },
    {
      "cell_type": "code",
      "metadata": {
        "id": "DNX6jbv40iyV",
        "colab_type": "code",
        "outputId": "aff6b3bf-45fe-44f8-f0f6-84ade3a72108",
        "colab": {
          "base_uri": "https://localhost:8080/",
          "height": 726
        }
      },
      "source": [
        "# !pip install tensorflow==2.1.0rc0\n",
        "import tensorflow as tf\n",
        "print (tf.__version__)\n",
        "tf.keras.backend.clear_session()\n",
        "import tensorflow_hub as hub\n",
        "from tensorflow import keras\n",
        "huburl=\"https://tfhub.dev/google/universal-sentence-encoder/4\"\n",
        "loaded_module_obj = hub.load(huburl)\n",
        "shared_embedding_layer = hub.KerasLayer(loaded_module_obj,trainable=True)\n",
        "\n",
        "left_input = keras.Input(shape=(), dtype=tf.string)\n",
        "right_input = keras.Input(shape=(), dtype=tf.string)\n",
        "\n",
        "embedding_left_output= shared_embedding_layer(left_input)\n",
        "embedding_right_output= shared_embedding_layer(right_input)\n",
        "\n",
        "cosine_similiarity=tf.keras.layers.Dot(axes=-1,normalize=True)([embedding_left_output,embedding_right_output])\n",
        "cos_distance=1-cosine_similiarity\n",
        "\n",
        "model = tf.keras.Model([left_input,right_input], cos_distance)\n",
        "#Define Optimizer\n",
        "#https://machinelearningmastery.com/how-to-avoid-exploding-gradients-in-neural-networks-with-gradient-clipping/\n",
        "opz = keras.optimizers.Nadam(clipnorm=1.)\n",
        "model.compile(optimizer=opz, loss='mse')\n",
        "model.summary()\n",
        "tf.keras.utils.plot_model(model, to_file='my_model.png')"
      ],
      "execution_count": 17,
      "outputs": [
        {
          "output_type": "stream",
          "text": [
            "2.1.0-rc1\n",
            "Model: \"model\"\n",
            "__________________________________________________________________________________________________\n",
            "Layer (type)                    Output Shape         Param #     Connected to                     \n",
            "==================================================================================================\n",
            "input_1 (InputLayer)            [(None,)]            0                                            \n",
            "__________________________________________________________________________________________________\n",
            "input_2 (InputLayer)            [(None,)]            0                                            \n",
            "__________________________________________________________________________________________________\n",
            "keras_layer (KerasLayer)        (None, 512)          256797824   input_1[0][0]                    \n",
            "                                                                 input_2[0][0]                    \n",
            "__________________________________________________________________________________________________\n",
            "dot (Dot)                       (None, 1)            0           keras_layer[0][0]                \n",
            "                                                                 keras_layer[1][0]                \n",
            "__________________________________________________________________________________________________\n",
            "tf_op_layer_sub (TensorFlowOpLa [(None, 1)]          0           dot[0][0]                        \n",
            "==================================================================================================\n",
            "Total params: 256,797,824\n",
            "Trainable params: 256,797,824\n",
            "Non-trainable params: 0\n",
            "__________________________________________________________________________________________________\n"
          ],
          "name": "stdout"
        },
        {
          "output_type": "execute_result",
          "data": {
            "image/png": "[encoded data removed]",
            "text/plain": [
              "<IPython.core.display.Image object>"
            ]
          },
          "metadata": {
            "tags": []
          },
          "execution_count": 17
        }
      ]
    },
    {
      "cell_type": "markdown",
      "metadata": {
        "id": "L9qHUv-I59_9",
        "colab_type": "text"
      },
      "source": [
        "### Cosine Distance Target Value Explanation\n",
        "\n",
        "Cosine similiarity varies between -1 to +1, with -1 being Orthogonally Opposite and +1 being in same direction.\n",
        "\n",
        "Cosine Distance is 1-(Cosine Similiarity)=>falls under [0,2]\n",
        "\n",
        "Distance is Highest(Far Apart vectors) at 2, => Cosine Similiarity =-1, 1-(-1)=2\n",
        "\n",
        "Distance is lowest(Similiar Vectors) at 0, => Cosine Similiarity = 1, 1-(1)=0\n",
        "\n",
        "Hence if two vectors are similiar, the assignment should be 0, and if they are opposite then it must be 2\n",
        "\n",
        "This gives us option to rank highly similiar sentences based on notion between 0 to 2."
      ]
    },
    {
      "cell_type": "code",
      "metadata": {
        "id": "16tBBRBJNNtu",
        "colab_type": "code",
        "outputId": "f3b58098-ec1f-4d66-9ab7-c8dcaebe89db",
        "colab": {
          "base_uri": "https://localhost:8080/",
          "height": 85
        }
      },
      "source": [
        "import numpy as np\n",
        "text_list=[\"Man is going to Moon\",\"Man is going to Moon\"]\n",
        "left_inputs=np.asarray([text_list[0]])\n",
        "right_inputs=np.asarray([text_list[1]])\n",
        "\n",
        "similiarity=np.asarray([0])\n",
        "from keras.callbacks import Callback\n",
        "\n",
        "\n",
        "class stopAtLossValue(Callback):\n",
        "  import numpy as np\n",
        "  def on_batch_end(self, batch, logs={}):\n",
        "    THR = 0 #Assign THR with the value at which you want to stop training.\n",
        "    if np.round(logs.get('loss')) == THR:\n",
        "      self.model.stop_training = True\n",
        "\n",
        "import numpy as np\n",
        "\n",
        "model.fit([left_inputs,right_inputs],similiarity,epochs=10,callbacks=[stopAtLossValue()])"
      ],
      "execution_count": 11,
      "outputs": [
        {
          "output_type": "stream",
          "text": [
            "Train on 1 samples\n",
            "Epoch 1/10\n",
            "\r1/1 [==============================] - 0s 15ms/sample - loss: 0.0000e+00\n"
          ],
          "name": "stdout"
        },
        {
          "output_type": "execute_result",
          "data": {
            "text/plain": [
              "<tensorflow.python.keras.callbacks.History at 0x7f21b966d978>"
            ]
          },
          "metadata": {
            "tags": []
          },
          "execution_count": 11
        }
      ]
    },
    {
      "cell_type": "code",
      "metadata": {
        "id": "GXtrye20SNrH",
        "colab_type": "code",
        "outputId": "ab0287a9-323c-4e58-9ca9-4d10da6a2bb6",
        "colab": {
          "base_uri": "https://localhost:8080/",
          "height": 128
        }
      },
      "source": [
        "import tensorflow_hub as hub\n",
        "import tensorflow as tf\n",
        "print (text_list)\n",
        "\n",
        "embeddings = loaded_module_obj(text_list)\n",
        "\n",
        "# print (embeddings.numpy())\n",
        "\n",
        "embed_target=embeddings.numpy()\n",
        "import pandas as pd\n",
        "doc_embed = pd.DataFrame(data=embed_target)\n",
        "doc_embed.index=text_list\n",
        "\n",
        "def get_similiarity(target_text_embed,text_to_compare_embed):\n",
        "    from sklearn.metrics.pairwise import cosine_similarity\n",
        "    similiarity=cosine_similarity(target_text_embed,text_to_compare_embed)\n",
        "    similiarity=pd.DataFrame(similiarity)\n",
        "    return similiarity\n",
        "\n",
        "\n",
        "\n",
        "sim_a=get_similiarity(doc_embed,doc_embed)\n",
        "# np.fill_diagonal(sim.values, 0)\n",
        "sim_a.index=text_list\n",
        "sim_a.columns=text_list\n",
        "sim_a"
      ],
      "execution_count": 19,
      "outputs": [
        {
          "output_type": "stream",
          "text": [
            "['Man is going to Moon', 'Man is going to Moon']\n"
          ],
          "name": "stdout"
        },
        {
          "output_type": "execute_result",
          "data": {
            "text/html": [
              "<div>\n",
              "<style scoped>\n",
              "    .dataframe tbody tr th:only-of-type {\n",
              "        vertical-align: middle;\n",
              "    }\n",
              "\n",
              "    .dataframe tbody tr th {\n",
              "        vertical-align: top;\n",
              "    }\n",
              "\n",
              "    .dataframe thead th {\n",
              "        text-align: right;\n",
              "    }\n",
              "</style>\n",
              "<table border=\"1\" class=\"dataframe\">\n",
              "  <thead>\n",
              "    <tr style=\"text-align: right;\">\n",
              "      <th></th>\n",
              "      <th>Man is going to Moon</th>\n",
              "      <th>Man is going to Moon</th>\n",
              "    </tr>\n",
              "  </thead>\n",
              "  <tbody>\n",
              "    <tr>\n",
              "      <th>Man is going to Moon</th>\n",
              "      <td>1.0</td>\n",
              "      <td>1.0</td>\n",
              "    </tr>\n",
              "    <tr>\n",
              "      <th>Man is going to Moon</th>\n",
              "      <td>1.0</td>\n",
              "      <td>1.0</td>\n",
              "    </tr>\n",
              "  </tbody>\n",
              "</table>\n",
              "</div>"
            ],
            "text/plain": [
              "                      Man is going to Moon  Man is going to Moon\n",
              "Man is going to Moon                   1.0                   1.0\n",
              "Man is going to Moon                   1.0                   1.0"
            ]
          },
          "metadata": {
            "tags": []
          },
          "execution_count": 19
        }
      ]
    },
    {
      "cell_type": "code",
      "metadata": {
        "id": "m1w3MCHjTBr-",
        "colab_type": "code",
        "outputId": "e371b1eb-d223-4a97-c90a-16def03361a7",
        "colab": {
          "base_uri": "https://localhost:8080/",
          "height": 128
        }
      },
      "source": [
        "print (\"With Fine Tune\")\n",
        "sim_a"
      ],
      "execution_count": 20,
      "outputs": [
        {
          "output_type": "stream",
          "text": [
            "With Fine Tune\n"
          ],
          "name": "stdout"
        },
        {
          "output_type": "execute_result",
          "data": {
            "text/html": [
              "<div>\n",
              "<style scoped>\n",
              "    .dataframe tbody tr th:only-of-type {\n",
              "        vertical-align: middle;\n",
              "    }\n",
              "\n",
              "    .dataframe tbody tr th {\n",
              "        vertical-align: top;\n",
              "    }\n",
              "\n",
              "    .dataframe thead th {\n",
              "        text-align: right;\n",
              "    }\n",
              "</style>\n",
              "<table border=\"1\" class=\"dataframe\">\n",
              "  <thead>\n",
              "    <tr style=\"text-align: right;\">\n",
              "      <th></th>\n",
              "      <th>Man is going to Moon</th>\n",
              "      <th>Man is going to Moon</th>\n",
              "    </tr>\n",
              "  </thead>\n",
              "  <tbody>\n",
              "    <tr>\n",
              "      <th>Man is going to Moon</th>\n",
              "      <td>1.0</td>\n",
              "      <td>1.0</td>\n",
              "    </tr>\n",
              "    <tr>\n",
              "      <th>Man is going to Moon</th>\n",
              "      <td>1.0</td>\n",
              "      <td>1.0</td>\n",
              "    </tr>\n",
              "  </tbody>\n",
              "</table>\n",
              "</div>"
            ],
            "text/plain": [
              "                      Man is going to Moon  Man is going to Moon\n",
              "Man is going to Moon                   1.0                   1.0\n",
              "Man is going to Moon                   1.0                   1.0"
            ]
          },
          "metadata": {
            "tags": []
          },
          "execution_count": 20
        }
      ]
    },
    {
      "cell_type": "code",
      "metadata": {
        "id": "wp4KFVABTCMm",
        "colab_type": "code",
        "outputId": "79c3fd98-6a35-4a85-b744-26e819771431",
        "colab": {
          "base_uri": "https://localhost:8080/",
          "height": 196
        }
      },
      "source": [
        "########################################\n",
        "import tensorflow_hub as hub\n",
        "import tensorflow as tf\n",
        "embed = hub.load(huburl)\n",
        "\n",
        "embeddings = embed(text_list)\n",
        "\n",
        "print (embeddings.numpy())\n",
        "\n",
        "embed_target=embeddings.numpy()\n",
        "import pandas as pd\n",
        "doc_embed_global = pd.DataFrame(data=embed_target)\n",
        "doc_embed_global.index=text_list\n",
        "########################################\n",
        "sim_b=get_similiarity(doc_embed_global,doc_embed_global)\n",
        "# np.fill_diagonal(sim.values, 0)\n",
        "sim_b.index=text_list\n",
        "sim_b.columns=text_list\n",
        "\n",
        "print (\"Without Fine Tune\")\n",
        "sim_b"
      ],
      "execution_count": 22,
      "outputs": [
        {
          "output_type": "stream",
          "text": [
            "[[ 0.04370566 -0.05917678 -0.05763391 ... -0.0527393   0.06156207\n",
            "  -0.00462211]\n",
            " [ 0.04370566 -0.05917678 -0.05763391 ... -0.0527393   0.06156207\n",
            "  -0.00462211]]\n",
            "Without Fine Tune\n"
          ],
          "name": "stdout"
        },
        {
          "output_type": "execute_result",
          "data": {
            "text/html": [
              "<div>\n",
              "<style scoped>\n",
              "    .dataframe tbody tr th:only-of-type {\n",
              "        vertical-align: middle;\n",
              "    }\n",
              "\n",
              "    .dataframe tbody tr th {\n",
              "        vertical-align: top;\n",
              "    }\n",
              "\n",
              "    .dataframe thead th {\n",
              "        text-align: right;\n",
              "    }\n",
              "</style>\n",
              "<table border=\"1\" class=\"dataframe\">\n",
              "  <thead>\n",
              "    <tr style=\"text-align: right;\">\n",
              "      <th></th>\n",
              "      <th>Man is going to Moon</th>\n",
              "      <th>Man is going to Moon</th>\n",
              "    </tr>\n",
              "  </thead>\n",
              "  <tbody>\n",
              "    <tr>\n",
              "      <th>Man is going to Moon</th>\n",
              "      <td>1.0</td>\n",
              "      <td>1.0</td>\n",
              "    </tr>\n",
              "    <tr>\n",
              "      <th>Man is going to Moon</th>\n",
              "      <td>1.0</td>\n",
              "      <td>1.0</td>\n",
              "    </tr>\n",
              "  </tbody>\n",
              "</table>\n",
              "</div>"
            ],
            "text/plain": [
              "                      Man is going to Moon  Man is going to Moon\n",
              "Man is going to Moon                   1.0                   1.0\n",
              "Man is going to Moon                   1.0                   1.0"
            ]
          },
          "metadata": {
            "tags": []
          },
          "execution_count": 22
        }
      ]
    },
    {
      "cell_type": "code",
      "metadata": {
        "id": "4fchzX1wRTwh",
        "colab_type": "code",
        "colab": {}
      },
      "source": [
        "# import os\n",
        "# os.makedirs('finetuned_model_export',exist_ok=True)\n",
        "# export_module_dir = os.path.join(os.getcwd(), \"finetuned_model_export\")\n",
        "# tf.saved_model.save(loaded_module_obj, export_module_dir)"
      ],
      "execution_count": 0,
      "outputs": []
    }
  ]
}